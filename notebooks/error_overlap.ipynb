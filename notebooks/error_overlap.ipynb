{
 "cells": [
  {
   "cell_type": "code",
   "execution_count": null,
   "metadata": {},
   "outputs": [],
   "source": [
    "import os\n",
    "import tensorflow as tf\n",
    "from util import constants\n",
    "from util.config_util import get_model_params, get_task_params, get_train_params\n",
    "from tf2_models.trainer import Trainer\n",
    "from absl import app\n",
    "from absl import flags\n",
    "import numpy as np\n",
    "from util.models import MODELS\n",
    "from util.tasks import TASKS\n",
    "\n",
    "%matplotlib inline\n",
    "import pandas as pd\n",
    "import seaborn as sns; sns.set()\n",
    "\n",
    "from tqdm import tqdm"
   ]
  },
  {
   "cell_type": "code",
   "execution_count": 2,
   "metadata": {},
   "outputs": [],
   "source": [
    "student_exp_name='samira_fd1'\n",
    "teacher_exp_name='0.0001_offlineteacher_v3'\n",
    "teacher_config='small_lstm_v4'\n",
    "task_name = 'word_sv_agreement_vp'\n",
    "student_model='cl_gpt2'\n",
    "teacher_model='cl_lstm'\n",
    "student_config='small_gpt_v9'\n",
    "distill_config='pure_distill_2'\n",
    "distill_mode='offline'\n",
    "\n",
    "chkpt_dir='../tf_ckpts'"
   ]
  },
  {
   "cell_type": "code",
   "execution_count": 3,
   "metadata": {},
   "outputs": [
    {
     "name": "stdout",
     "output_type": "stream",
     "text": [
      "Vocab len:  10034\n"
     ]
    }
   ],
   "source": [
    "task = TASKS[task_name](get_task_params(), data_dir='../data')"
   ]
  },
  {
   "cell_type": "code",
   "execution_count": 4,
   "metadata": {},
   "outputs": [
    {
     "name": "stdout",
     "output_type": "stream",
     "text": [
      "model config: small_lstm_v4\n",
      "{'hidden_dim': 256, 'embedding_dim': 256, 'depth': 2, 'hidden_dropout_rate': 0.8, 'input_dropout_rate': 0.2, 'initializer_range': 0.1}\n",
      "model config: small_gpt_v9\n",
      "{'embedding_dim': 128, 'resid_pdrop': 0.4, 'embd_pdrop': 0.2, 'attn_pdrop': 0.6, 'initializer_range': 0.05}\n"
     ]
    }
   ],
   "source": [
    "cl_token = task.databuilder.sentence_encoder().encode(constants.bos)\n",
    "teacher_model = MODELS[teacher_model](hparams=get_model_params(task, teacher_model, teacher_config), cl_token=cl_token)\n",
    "std_hparams=get_model_params(task, student_model, student_config)\n",
    "std_hparams.output_attentions = True\n",
    "std_hparams.output_embeddings = True\n",
    "student_model = MODELS[student_model](\n",
    "std_hparams, cl_token=cl_token)"
   ]
  },
  {
   "cell_type": "code",
   "execution_count": 5,
   "metadata": {},
   "outputs": [
    {
     "name": "stdout",
     "output_type": "stream",
     "text": [
      "student_checkpoint: ../tf_ckpts/word_sv_agreement_vp/offline_pure_distill_2_teacher_cl_lstm_em-256_h-256_d-2_hdrop-0.8_indrop-0.2_0.0001_offlineteacher_v3_student_cl_gpt2_h-128_d-6_rdrop-0.4_adrop-0.6_indrop-0.2_small_gpt_v9_samira_fd1\n"
     ]
    }
   ],
   "source": [
    "student_ckpt_dir = os.path.join(chkpt_dir, task.name,\n",
    "                              '_'.join([distill_mode,distill_config,\n",
    "                                        \"teacher\", teacher_model.model_name, \n",
    "                                        #teacher_config,\n",
    "                                        teacher_exp_name,\n",
    "                                       \"student\",student_model.model_name,\n",
    "                                        str(student_config),\n",
    "                                        student_exp_name]))\n",
    "print(\"student_checkpoint:\", student_ckpt_dir)"
   ]
  },
  {
   "cell_type": "code",
   "execution_count": 6,
   "metadata": {},
   "outputs": [
    {
     "name": "stdout",
     "output_type": "stream",
     "text": [
      "Restored student from ../tf_ckpts/word_sv_agreement_vp/offline_pure_distill_2_teacher_cl_lstm_em-256_h-256_d-2_hdrop-0.8_indrop-0.2_0.0001_offlineteacher_v3_student_cl_gpt2_h-128_d-6_rdrop-0.4_adrop-0.6_indrop-0.2_small_gpt_v9_samira_fd1/ckpt-60\n",
      "WARNING:tensorflow:Large dropout rate: 0.6 (>0.5). In TensorFlow 2.x, dropout() uses dropout rate instead of keep_prob. Please ensure that this is intended.\n"
     ]
    },
    {
     "name": "stderr",
     "output_type": "stream",
     "text": [
      "WARNING:tensorflow:Large dropout rate: 0.6 (>0.5). In TensorFlow 2.x, dropout() uses dropout rate instead of keep_prob. Please ensure that this is intended.\n"
     ]
    },
    {
     "name": "stdout",
     "output_type": "stream",
     "text": [
      "WARNING:tensorflow:Large dropout rate: 0.6 (>0.5). In TensorFlow 2.x, dropout() uses dropout rate instead of keep_prob. Please ensure that this is intended.\n"
     ]
    },
    {
     "name": "stderr",
     "output_type": "stream",
     "text": [
      "WARNING:tensorflow:Large dropout rate: 0.6 (>0.5). In TensorFlow 2.x, dropout() uses dropout rate instead of keep_prob. Please ensure that this is intended.\n"
     ]
    },
    {
     "name": "stdout",
     "output_type": "stream",
     "text": [
      "WARNING:tensorflow:Large dropout rate: 0.6 (>0.5). In TensorFlow 2.x, dropout() uses dropout rate instead of keep_prob. Please ensure that this is intended.\n"
     ]
    },
    {
     "name": "stderr",
     "output_type": "stream",
     "text": [
      "WARNING:tensorflow:Large dropout rate: 0.6 (>0.5). In TensorFlow 2.x, dropout() uses dropout rate instead of keep_prob. Please ensure that this is intended.\n"
     ]
    },
    {
     "name": "stdout",
     "output_type": "stream",
     "text": [
      "WARNING:tensorflow:Large dropout rate: 0.6 (>0.5). In TensorFlow 2.x, dropout() uses dropout rate instead of keep_prob. Please ensure that this is intended.\n"
     ]
    },
    {
     "name": "stderr",
     "output_type": "stream",
     "text": [
      "WARNING:tensorflow:Large dropout rate: 0.6 (>0.5). In TensorFlow 2.x, dropout() uses dropout rate instead of keep_prob. Please ensure that this is intended.\n"
     ]
    },
    {
     "name": "stdout",
     "output_type": "stream",
     "text": [
      "WARNING:tensorflow:Large dropout rate: 0.6 (>0.5). In TensorFlow 2.x, dropout() uses dropout rate instead of keep_prob. Please ensure that this is intended.\n"
     ]
    },
    {
     "name": "stderr",
     "output_type": "stream",
     "text": [
      "WARNING:tensorflow:Large dropout rate: 0.6 (>0.5). In TensorFlow 2.x, dropout() uses dropout rate instead of keep_prob. Please ensure that this is intended.\n"
     ]
    },
    {
     "name": "stdout",
     "output_type": "stream",
     "text": [
      "100/100 [==============================] - 7s 71ms/step - loss: 0.1240 - classification_loss: 0.0782 - sparse_categorical_accuracy: 0.9712\n"
     ]
    },
    {
     "data": {
      "text/plain": [
       "[0.12402263533324004, 0.07817629, 0.97125]"
      ]
     },
     "execution_count": 6,
     "metadata": {},
     "output_type": "execute_result"
    }
   ],
   "source": [
    "student_ckpt = tf.train.Checkpoint(net=student_model)\n",
    "student_manager = tf.train.CheckpointManager(student_ckpt, student_ckpt_dir, max_to_keep=None)\n",
    "\n",
    "student_ckpt.restore(student_manager.latest_checkpoint)\n",
    "if student_manager.latest_checkpoint:\n",
    "  print(\"Restored student from {}\".format(student_manager.latest_checkpoint))\n",
    "\n",
    "student_model.compile(loss=task.get_loss_fn(), metrics=task.metrics())\n",
    "student_model.evaluate(task.test_dataset, steps=100)"
   ]
  },
  {
   "cell_type": "code",
   "execution_count": 7,
   "metadata": {},
   "outputs": [
    {
     "name": "stdout",
     "output_type": "stream",
     "text": [
      "Restored student from ../tf_ckpts/word_sv_agreement_vp/cl_lstm_em-256_h-256_d-2_hdrop-0.8_indrop-0.2_small_lstm_v4_0.0001_offlineteacher_v3/ckpt-60\n"
     ]
    }
   ],
   "source": [
    "teacher_ckpt_dir = os.path.join(chkpt_dir, task.name,\n",
    "                                  '_'.join([teacher_model.model_name, teacher_config,teacher_exp_name]))\n",
    "\n",
    "teacher_ckpt = tf.train.Checkpoint(net=teacher_model)\n",
    "teacher_manager = tf.train.CheckpointManager(teacher_ckpt, teacher_ckpt_dir, max_to_keep=None)\n",
    "\n",
    "teacher_ckpt.restore(teacher_manager.latest_checkpoint)\n",
    "if teacher_manager.latest_checkpoint:\n",
    "  print(\"Restored student from {}\".format(teacher_manager.latest_checkpoint))"
   ]
  },
  {
   "cell_type": "code",
   "execution_count": 8,
   "metadata": {},
   "outputs": [
    {
     "name": "stdout",
     "output_type": "stream",
     "text": [
      "WARNING:tensorflow:Large dropout rate: 0.8 (>0.5). In TensorFlow 2.x, dropout() uses dropout rate instead of keep_prob. Please ensure that this is intended.\n"
     ]
    },
    {
     "name": "stderr",
     "output_type": "stream",
     "text": [
      "WARNING:tensorflow:Large dropout rate: 0.8 (>0.5). In TensorFlow 2.x, dropout() uses dropout rate instead of keep_prob. Please ensure that this is intended.\n"
     ]
    },
    {
     "name": "stdout",
     "output_type": "stream",
     "text": [
      "WARNING:tensorflow:Large dropout rate: 0.8 (>0.5). In TensorFlow 2.x, dropout() uses dropout rate instead of keep_prob. Please ensure that this is intended.\n"
     ]
    },
    {
     "name": "stderr",
     "output_type": "stream",
     "text": [
      "WARNING:tensorflow:Large dropout rate: 0.8 (>0.5). In TensorFlow 2.x, dropout() uses dropout rate instead of keep_prob. Please ensure that this is intended.\n"
     ]
    },
    {
     "name": "stdout",
     "output_type": "stream",
     "text": [
      "WARNING:tensorflow:Large dropout rate: 0.8 (>0.5). In TensorFlow 2.x, dropout() uses dropout rate instead of keep_prob. Please ensure that this is intended.\n"
     ]
    },
    {
     "name": "stderr",
     "output_type": "stream",
     "text": [
      "WARNING:tensorflow:Large dropout rate: 0.8 (>0.5). In TensorFlow 2.x, dropout() uses dropout rate instead of keep_prob. Please ensure that this is intended.\n"
     ]
    },
    {
     "name": "stdout",
     "output_type": "stream",
     "text": [
      "WARNING:tensorflow:Large dropout rate: 0.8 (>0.5). In TensorFlow 2.x, dropout() uses dropout rate instead of keep_prob. Please ensure that this is intended.\n"
     ]
    },
    {
     "name": "stderr",
     "output_type": "stream",
     "text": [
      "WARNING:tensorflow:Large dropout rate: 0.8 (>0.5). In TensorFlow 2.x, dropout() uses dropout rate instead of keep_prob. Please ensure that this is intended.\n"
     ]
    },
    {
     "name": "stdout",
     "output_type": "stream",
     "text": [
      "WARNING:tensorflow:Large dropout rate: 0.8 (>0.5). In TensorFlow 2.x, dropout() uses dropout rate instead of keep_prob. Please ensure that this is intended.\n"
     ]
    },
    {
     "name": "stderr",
     "output_type": "stream",
     "text": [
      "WARNING:tensorflow:Large dropout rate: 0.8 (>0.5). In TensorFlow 2.x, dropout() uses dropout rate instead of keep_prob. Please ensure that this is intended.\n"
     ]
    },
    {
     "name": "stdout",
     "output_type": "stream",
     "text": [
      "100/100 [==============================] - 4s 37ms/step - loss: 0.1089 - classification_loss: 0.0894 - sparse_categorical_accuracy: 0.9719\n"
     ]
    },
    {
     "data": {
      "text/plain": [
       "[0.10886244153603912, 0.08943609, 0.971875]"
      ]
     },
     "execution_count": 8,
     "metadata": {},
     "output_type": "execute_result"
    }
   ],
   "source": [
    "teacher_model.compile(loss=task.get_loss_fn(), metrics=task.metrics())\n",
    "teacher_model.evaluate(task.test_dataset, steps=100)"
   ]
  },
  {
   "cell_type": "code",
   "execution_count": 11,
   "metadata": {},
   "outputs": [
    {
     "name": "stdout",
     "output_type": "stream",
     "text": [
      "model config: small_gpt_v9\n",
      "{'embedding_dim': 128, 'resid_pdrop': 0.4, 'embd_pdrop': 0.2, 'attn_pdrop': 0.6, 'initializer_range': 0.05}\n",
      "Restored student from ../tf_ckpts/word_sv_agreement_vp/cl_gpt2_h-128_d-6_rdrop-0.4_adrop-0.6_indrop-0.2_small_gpt_v9_0.0001_offlineteacher_v1/ckpt-60\n",
      "100/100 [==============================] - 5s 52ms/step - loss: 0.2105 - classification_loss: 0.1901 - sparse_categorical_accuracy: 0.9519\n"
     ]
    },
    {
     "data": {
      "text/plain": [
       "[0.2104924625903368, 0.19008262, 0.951875]"
      ]
     },
     "execution_count": 11,
     "metadata": {},
     "output_type": "execute_result"
    }
   ],
   "source": [
    "model_name='cl_gpt2'\n",
    "model_config='small_gpt_v9'\n",
    "learning_rate=0.0001\n",
    "exp_name='offlineteacher_v1'\n",
    "\n",
    "cl_token = task.databuilder.sentence_encoder().encode(constants.bos)\n",
    "hparams=get_model_params(task, model_name, model_config)\n",
    "hparams.output_attentions = True\n",
    "hparams.output_embeddings = True\n",
    "\n",
    "model = MODELS[model_name](hparams=hparams, cl_token=cl_token)\n",
    "\n",
    "\n",
    "ckpt_dir = os.path.join(chkpt_dir,task.name,\n",
    "                        model.model_name+\"_\"+str(model_config)+\"_\"+str(learning_rate)+\"_\"+exp_name)\n",
    "\n",
    "ckpt = tf.train.Checkpoint(net=model)\n",
    "manager = tf.train.CheckpointManager(ckpt, ckpt_dir, max_to_keep=None)\n",
    "\n",
    "ckpt.restore(manager.latest_checkpoint)\n",
    "if manager.latest_checkpoint:\n",
    "  print(\"Restored student from {}\".format(manager.latest_checkpoint))\n",
    "\n",
    "model.compile(loss=task.get_loss_fn(), metrics=task.metrics())\n",
    "model.evaluate(task.test_dataset, steps=100)"
   ]
  },
  {
   "cell_type": "code",
   "execution_count": 12,
   "metadata": {},
   "outputs": [
    {
     "name": "stderr",
     "output_type": "stream",
     "text": [
      "\n",
      "  0%|          | 0/246 [00:00<?, ?it/s]\u001b[A\n",
      "  0%|          | 1/246 [00:03<14:10,  3.47s/it]\u001b[A\n",
      "  1%|          | 2/246 [00:07<14:22,  3.53s/it]\u001b[A\n",
      "  1%|          | 3/246 [00:10<14:00,  3.46s/it]\u001b[A\n",
      "  2%|▏         | 4/246 [00:14<14:10,  3.51s/it]\u001b[A\n",
      "  2%|▏         | 5/246 [00:17<13:48,  3.44s/it]\u001b[A\n",
      "  2%|▏         | 6/246 [00:21<14:02,  3.51s/it]\u001b[A\n",
      "  3%|▎         | 7/246 [00:24<13:40,  3.43s/it]\u001b[A\n",
      "  3%|▎         | 8/246 [00:28<14:04,  3.55s/it]\u001b[A\n",
      "  4%|▎         | 9/246 [00:31<13:40,  3.46s/it]\u001b[A\n",
      "  4%|▍         | 10/246 [00:35<13:56,  3.54s/it]\u001b[A\n",
      "  4%|▍         | 11/246 [00:38<13:34,  3.47s/it]\u001b[A\n",
      "  5%|▍         | 12/246 [00:42<13:43,  3.52s/it]\u001b[A\n",
      "  5%|▌         | 13/246 [00:45<13:22,  3.44s/it]\u001b[A\n",
      "  6%|▌         | 14/246 [00:49<13:42,  3.55s/it]\u001b[A\n",
      "  6%|▌         | 15/246 [00:52<13:28,  3.50s/it]\u001b[A\n",
      "  7%|▋         | 16/246 [00:56<13:34,  3.54s/it]\u001b[A\n",
      "  7%|▋         | 17/246 [00:59<13:23,  3.51s/it]\u001b[A\n",
      "  7%|▋         | 18/246 [01:03<13:32,  3.56s/it]\u001b[A\n",
      "  8%|▊         | 19/246 [01:06<13:11,  3.49s/it]\u001b[A\n",
      "  8%|▊         | 20/246 [01:10<13:21,  3.55s/it]\u001b[A\n",
      "  9%|▊         | 21/246 [01:13<13:05,  3.49s/it]\u001b[A\n",
      "  9%|▉         | 22/246 [01:17<13:09,  3.53s/it]\u001b[A\n",
      "  9%|▉         | 23/246 [01:20<12:51,  3.46s/it]\u001b[A\n",
      " 10%|▉         | 24/246 [01:24<13:03,  3.53s/it]\u001b[A\n",
      " 10%|█         | 25/246 [01:27<12:42,  3.45s/it]\u001b[A\n",
      " 11%|█         | 26/246 [01:31<12:58,  3.54s/it]\u001b[A\n",
      " 11%|█         | 27/246 [01:34<12:40,  3.47s/it]\u001b[A\n",
      " 11%|█▏        | 28/246 [01:38<12:52,  3.54s/it]\u001b[A\n",
      " 12%|█▏        | 29/246 [01:41<12:32,  3.47s/it]\u001b[A\n",
      " 12%|█▏        | 30/246 [01:45<12:44,  3.54s/it]\u001b[A\n",
      " 13%|█▎        | 31/246 [01:49<13:00,  3.63s/it]\u001b[A\n",
      " 13%|█▎        | 32/246 [01:52<12:43,  3.57s/it]\u001b[A\n",
      " 13%|█▎        | 33/246 [01:56<12:58,  3.66s/it]\u001b[A\n",
      " 14%|█▍        | 34/246 [01:59<12:32,  3.55s/it]\u001b[A\n",
      " 14%|█▍        | 35/246 [02:03<12:36,  3.59s/it]\u001b[A\n",
      " 15%|█▍        | 36/246 [02:06<12:15,  3.50s/it]\u001b[A\n",
      " 15%|█▌        | 37/246 [02:10<12:33,  3.60s/it]\u001b[A\n",
      " 15%|█▌        | 38/246 [02:13<12:09,  3.51s/it]\u001b[A\n",
      " 16%|█▌        | 39/246 [02:17<12:14,  3.55s/it]\u001b[A\n",
      " 16%|█▋        | 40/246 [02:20<12:01,  3.50s/it]\u001b[A\n",
      " 17%|█▋        | 41/246 [02:24<12:27,  3.64s/it]\u001b[A\n",
      " 17%|█▋        | 42/246 [02:28<12:05,  3.56s/it]\u001b[A\n",
      " 17%|█▋        | 43/246 [02:31<12:13,  3.62s/it]\u001b[A\n",
      " 18%|█▊        | 44/246 [02:35<11:55,  3.54s/it]\u001b[A\n",
      " 18%|█▊        | 45/246 [02:38<11:59,  3.58s/it]\u001b[A\n",
      " 19%|█▊        | 46/246 [02:42<11:42,  3.51s/it]\u001b[A\n",
      " 19%|█▉        | 47/246 [02:46<11:55,  3.60s/it]\u001b[A\n",
      " 20%|█▉        | 48/246 [02:49<11:35,  3.51s/it]\u001b[A\n",
      " 20%|█▉        | 49/246 [02:53<11:50,  3.61s/it]\u001b[A\n",
      " 20%|██        | 50/246 [02:56<11:29,  3.52s/it]\u001b[A\n",
      " 21%|██        | 51/246 [03:00<11:38,  3.58s/it]\u001b[A\n",
      " 21%|██        | 52/246 [03:03<11:20,  3.51s/it]\u001b[A\n",
      " 22%|██▏       | 53/246 [03:07<11:29,  3.57s/it]\u001b[A\n",
      " 22%|██▏       | 54/246 [03:10<11:11,  3.50s/it]\u001b[A\n",
      " 22%|██▏       | 55/246 [03:14<11:20,  3.56s/it]\u001b[A\n",
      " 23%|██▎       | 56/246 [03:17<11:02,  3.49s/it]\u001b[A\n",
      " 23%|██▎       | 57/246 [03:21<11:18,  3.59s/it]\u001b[A\n",
      " 24%|██▎       | 58/246 [03:24<10:57,  3.50s/it]\u001b[A\n",
      " 24%|██▍       | 59/246 [03:28<11:06,  3.56s/it]\u001b[A\n",
      " 24%|██▍       | 60/246 [03:31<10:50,  3.50s/it]\u001b[A\n",
      " 25%|██▍       | 61/246 [03:35<11:00,  3.57s/it]\u001b[A\n",
      " 25%|██▌       | 62/246 [03:38<10:41,  3.49s/it]\u001b[A\n",
      " 26%|██▌       | 63/246 [03:42<10:51,  3.56s/it]\u001b[A\n",
      " 26%|██▌       | 64/246 [03:45<10:37,  3.50s/it]\u001b[A\n",
      " 26%|██▋       | 65/246 [03:49<10:43,  3.55s/it]\u001b[A\n",
      " 27%|██▋       | 66/246 [03:52<10:26,  3.48s/it]\u001b[A\n",
      " 27%|██▋       | 67/246 [03:56<10:41,  3.58s/it]\u001b[A\n",
      " 28%|██▊       | 68/246 [04:00<10:25,  3.51s/it]\u001b[A\n",
      " 28%|██▊       | 69/246 [04:03<10:30,  3.56s/it]\u001b[A\n",
      " 28%|██▊       | 70/246 [04:07<10:12,  3.48s/it]\u001b[A\n",
      " 29%|██▉       | 71/246 [04:10<10:19,  3.54s/it]\u001b[A\n",
      " 29%|██▉       | 72/246 [04:14<10:03,  3.47s/it]\u001b[A\n",
      " 30%|██▉       | 73/246 [04:17<10:14,  3.55s/it]\u001b[A\n",
      " 30%|███       | 74/246 [04:21<09:57,  3.48s/it]\u001b[A\n",
      " 30%|███       | 75/246 [04:24<10:06,  3.55s/it]\u001b[A\n",
      " 31%|███       | 76/246 [04:28<09:52,  3.49s/it]\u001b[A\n",
      " 31%|███▏      | 77/246 [04:31<10:01,  3.56s/it]\u001b[A\n",
      " 32%|███▏      | 78/246 [04:35<09:45,  3.49s/it]\u001b[A\n",
      " 32%|███▏      | 79/246 [04:38<09:54,  3.56s/it]\u001b[A\n",
      " 33%|███▎      | 80/246 [04:42<10:00,  3.61s/it]\u001b[A\n",
      " 33%|███▎      | 81/246 [04:46<09:47,  3.56s/it]\u001b[A\n",
      " 33%|███▎      | 82/246 [04:49<09:52,  3.61s/it]\u001b[A\n",
      " 34%|███▎      | 83/246 [04:53<09:41,  3.57s/it]\u001b[A\n",
      " 34%|███▍      | 84/246 [04:57<09:52,  3.66s/it]\u001b[A\n",
      " 35%|███▍      | 85/246 [05:00<09:35,  3.58s/it]\u001b[A\n",
      " 35%|███▍      | 86/246 [05:04<09:47,  3.67s/it]\u001b[A\n",
      " 35%|███▌      | 87/246 [05:07<09:28,  3.58s/it]\u001b[A\n",
      " 36%|███▌      | 88/246 [05:11<09:30,  3.61s/it]\u001b[A\n",
      " 36%|███▌      | 89/246 [05:14<09:18,  3.56s/it]\u001b[A\n",
      " 37%|███▋      | 90/246 [05:18<09:24,  3.62s/it]\u001b[A\n",
      " 37%|███▋      | 91/246 [05:22<09:10,  3.55s/it]\u001b[A\n",
      " 37%|███▋      | 92/246 [05:25<09:18,  3.63s/it]\u001b[A\n",
      " 38%|███▊      | 93/246 [05:29<09:07,  3.58s/it]\u001b[A\n",
      " 38%|███▊      | 94/246 [05:32<09:06,  3.60s/it]\u001b[A\n",
      " 39%|███▊      | 95/246 [05:36<08:53,  3.53s/it]\u001b[A\n",
      " 39%|███▉      | 96/246 [05:40<08:57,  3.59s/it]\u001b[A\n",
      " 39%|███▉      | 97/246 [05:43<08:45,  3.52s/it]\u001b[A\n",
      " 40%|███▉      | 98/246 [05:47<08:53,  3.61s/it]\u001b[A\n",
      " 40%|████      | 99/246 [05:50<08:37,  3.52s/it]\u001b[A\n",
      " 41%|████      | 100/246 [05:54<08:46,  3.61s/it]\u001b[A\n",
      " 41%|████      | 101/246 [05:57<08:32,  3.54s/it]\u001b[A\n",
      " 41%|████▏     | 102/246 [06:01<08:35,  3.58s/it]\u001b[A\n",
      " 42%|████▏     | 103/246 [06:04<08:24,  3.53s/it]\u001b[A\n",
      " 42%|████▏     | 104/246 [06:08<08:35,  3.63s/it]\u001b[A\n",
      " 43%|████▎     | 105/246 [06:12<08:22,  3.57s/it]\u001b[A\n",
      " 43%|████▎     | 106/246 [06:15<08:26,  3.62s/it]\u001b[A\n",
      " 43%|████▎     | 107/246 [06:19<08:12,  3.54s/it]\u001b[A\n",
      " 44%|████▍     | 108/246 [06:23<08:18,  3.61s/it]\u001b[A\n",
      " 44%|████▍     | 109/246 [06:26<08:06,  3.55s/it]\u001b[A\n",
      " 45%|████▍     | 110/246 [06:30<08:13,  3.63s/it]\u001b[A\n",
      " 45%|████▌     | 111/246 [06:33<07:56,  3.53s/it]\u001b[A\n",
      " 46%|████▌     | 112/246 [06:37<08:05,  3.62s/it]\u001b[A\n",
      " 46%|████▌     | 113/246 [06:40<07:50,  3.54s/it]\u001b[A\n",
      " 46%|████▋     | 114/246 [06:44<07:59,  3.64s/it]\u001b[A\n",
      " 47%|████▋     | 115/246 [06:48<07:48,  3.58s/it]\u001b[A\n",
      " 47%|████▋     | 116/246 [06:51<07:55,  3.66s/it]\u001b[A\n",
      " 48%|████▊     | 117/246 [06:55<07:43,  3.60s/it]\u001b[A\n",
      " 48%|████▊     | 118/246 [06:59<07:48,  3.66s/it]\u001b[A\n",
      " 48%|████▊     | 119/246 [07:02<07:33,  3.57s/it]\u001b[A\n",
      " 49%|████▉     | 120/246 [07:06<07:40,  3.65s/it]\u001b[A\n",
      " 49%|████▉     | 121/246 [07:10<07:38,  3.67s/it]\u001b[A\n",
      " 50%|████▉     | 122/246 [07:13<07:27,  3.61s/it]\u001b[A\n",
      " 50%|█████     | 123/246 [07:17<07:29,  3.66s/it]\u001b[A\n",
      " 50%|█████     | 124/246 [07:20<07:13,  3.55s/it]\u001b[A\n",
      " 51%|█████     | 125/246 [07:24<07:18,  3.62s/it]\u001b[A\n",
      " 51%|█████     | 126/246 [07:27<07:07,  3.56s/it]\u001b[A\n",
      " 52%|█████▏    | 127/246 [07:31<07:19,  3.69s/it]\u001b[A\n",
      " 52%|█████▏    | 128/246 [07:35<07:05,  3.60s/it]\u001b[A\n",
      " 52%|█████▏    | 129/246 [07:39<07:12,  3.70s/it]\u001b[A\n",
      " 53%|█████▎    | 130/246 [07:42<07:00,  3.62s/it]\u001b[A\n",
      " 53%|█████▎    | 131/246 [07:46<07:06,  3.71s/it]\u001b[A\n",
      " 54%|█████▎    | 132/246 [07:49<06:51,  3.61s/it]\u001b[A\n",
      " 54%|█████▍    | 133/246 [07:53<06:50,  3.64s/it]\u001b[A\n",
      " 54%|█████▍    | 134/246 [07:56<06:40,  3.58s/it]\u001b[A\n",
      " 55%|█████▍    | 135/246 [08:00<06:46,  3.66s/it]\u001b[A\n",
      " 55%|█████▌    | 136/246 [08:04<06:33,  3.57s/it]\u001b[A\n",
      " 56%|█████▌    | 137/246 [08:08<06:40,  3.68s/it]\u001b[A\n",
      " 56%|█████▌    | 138/246 [08:11<06:30,  3.62s/it]\u001b[A\n",
      " 57%|█████▋    | 139/246 [08:15<06:40,  3.75s/it]\u001b[A\n",
      " 57%|█████▋    | 140/246 [08:19<06:26,  3.65s/it]\u001b[A\n",
      " 57%|█████▋    | 141/246 [08:23<06:35,  3.76s/it]\u001b[A\n",
      " 58%|█████▊    | 142/246 [08:26<06:18,  3.64s/it]\u001b[A\n",
      " 58%|█████▊    | 143/246 [08:30<06:16,  3.66s/it]\u001b[A\n",
      " 59%|█████▊    | 144/246 [08:33<06:05,  3.59s/it]\u001b[A\n",
      " 59%|█████▉    | 145/246 [08:37<06:08,  3.65s/it]\u001b[A\n",
      " 59%|█████▉    | 146/246 [08:40<05:58,  3.59s/it]\u001b[A\n",
      " 60%|█████▉    | 147/246 [08:44<06:03,  3.67s/it]\u001b[A\n",
      " 60%|██████    | 148/246 [08:48<05:52,  3.60s/it]\u001b[A\n",
      " 61%|██████    | 149/246 [08:51<05:54,  3.65s/it]\u001b[A\n",
      " 61%|██████    | 150/246 [08:55<05:46,  3.61s/it]\u001b[A\n",
      " 61%|██████▏   | 151/246 [08:59<05:55,  3.74s/it]\u001b[A\n",
      " 62%|██████▏   | 152/246 [09:02<05:40,  3.62s/it]\u001b[A\n",
      " 62%|██████▏   | 153/246 [09:06<05:42,  3.68s/it]\u001b[A\n",
      " 63%|██████▎   | 154/246 [09:10<05:34,  3.63s/it]\u001b[A\n",
      " 63%|██████▎   | 155/246 [09:13<05:32,  3.65s/it]\u001b[A\n",
      " 63%|██████▎   | 156/246 [09:17<05:23,  3.60s/it]\u001b[A\n",
      " 64%|██████▍   | 157/246 [09:21<05:24,  3.65s/it]\u001b[A\n",
      " 64%|██████▍   | 158/246 [09:24<05:16,  3.60s/it]\u001b[A\n",
      " 65%|██████▍   | 159/246 [09:28<05:19,  3.68s/it]\u001b[A\n",
      " 65%|██████▌   | 160/246 [09:31<05:09,  3.60s/it]\u001b[A\n",
      " 65%|██████▌   | 161/246 [09:35<05:14,  3.70s/it]\u001b[A\n",
      " 66%|██████▌   | 162/246 [09:39<05:02,  3.60s/it]\u001b[A\n",
      " 66%|██████▋   | 163/246 [09:42<05:04,  3.67s/it]\u001b[A\n",
      " 67%|██████▋   | 164/246 [09:46<04:55,  3.60s/it]\u001b[A\n",
      " 67%|██████▋   | 165/246 [09:50<05:01,  3.72s/it]\u001b[A\n",
      " 67%|██████▋   | 166/246 [09:53<04:52,  3.66s/it]\u001b[A\n",
      " 68%|██████▊   | 167/246 [09:57<04:50,  3.68s/it]\u001b[A\n",
      " 68%|██████▊   | 168/246 [10:01<04:42,  3.62s/it]\u001b[A\n",
      " 69%|██████▊   | 169/246 [10:04<04:44,  3.69s/it]\u001b[A\n",
      " 69%|██████▉   | 170/246 [10:08<04:37,  3.65s/it]\u001b[A\n",
      " 70%|██████▉   | 171/246 [10:12<04:43,  3.78s/it]\u001b[A\n",
      " 70%|██████▉   | 172/246 [10:16<04:33,  3.70s/it]\u001b[A\n",
      " 70%|███████   | 173/246 [10:19<04:30,  3.70s/it]\u001b[A\n",
      " 71%|███████   | 174/246 [10:23<04:22,  3.64s/it]\u001b[A\n",
      " 71%|███████   | 175/246 [10:27<04:23,  3.71s/it]\u001b[A\n",
      " 72%|███████▏  | 176/246 [10:30<04:15,  3.65s/it]\u001b[A\n",
      " 72%|███████▏  | 177/246 [10:34<04:18,  3.75s/it]\u001b[A\n",
      " 72%|███████▏  | 178/246 [10:38<04:11,  3.70s/it]\u001b[A\n",
      " 73%|███████▎  | 179/246 [10:42<04:16,  3.83s/it]\u001b[A\n",
      " 73%|███████▎  | 180/246 [10:45<04:05,  3.71s/it]\u001b[A\n",
      " 74%|███████▎  | 181/246 [10:49<04:05,  3.78s/it]\u001b[A\n",
      " 74%|███████▍  | 182/246 [10:53<03:55,  3.68s/it]\u001b[A\n",
      " 74%|███████▍  | 183/246 [10:57<03:54,  3.72s/it]\u001b[A\n",
      " 75%|███████▍  | 184/246 [11:00<03:46,  3.65s/it]\u001b[A\n",
      " 75%|███████▌  | 185/246 [11:04<03:46,  3.72s/it]\u001b[A\n",
      " 76%|███████▌  | 186/246 [11:07<03:37,  3.63s/it]\u001b[A\n",
      " 76%|███████▌  | 187/246 [11:11<03:40,  3.74s/it]\u001b[A\n",
      " 76%|███████▋  | 188/246 [11:15<03:32,  3.66s/it]\u001b[A\n",
      " 77%|███████▋  | 189/246 [11:19<03:32,  3.73s/it]\u001b[A\n",
      " 77%|███████▋  | 190/246 [11:22<03:25,  3.67s/it]\u001b[A\n",
      " 78%|███████▊  | 191/246 [11:26<03:28,  3.80s/it]\u001b[A\n",
      " 78%|███████▊  | 192/246 [11:30<03:19,  3.70s/it]\u001b[A\n",
      " 78%|███████▊  | 193/246 [11:34<03:20,  3.79s/it]\u001b[A\n",
      " 79%|███████▉  | 194/246 [11:37<03:12,  3.70s/it]\u001b[A\n",
      " 79%|███████▉  | 195/246 [11:41<03:10,  3.73s/it]\u001b[A\n",
      " 80%|███████▉  | 196/246 [11:45<03:02,  3.64s/it]\u001b[A\n",
      " 80%|████████  | 197/246 [11:48<03:02,  3.72s/it]\u001b[A\n",
      " 80%|████████  | 198/246 [11:52<02:56,  3.67s/it]\u001b[A\n",
      " 81%|████████  | 199/246 [11:56<02:57,  3.78s/it]\u001b[A\n",
      " 81%|████████▏ | 200/246 [12:00<02:49,  3.69s/it]\u001b[A\n",
      " 82%|████████▏ | 201/246 [12:03<02:47,  3.71s/it]\u001b[A\n",
      " 82%|████████▏ | 202/246 [12:07<02:41,  3.67s/it]\u001b[A\n",
      " 83%|████████▎ | 203/246 [12:11<02:42,  3.77s/it]\u001b[A\n",
      " 83%|████████▎ | 204/246 [12:14<02:34,  3.68s/it]\u001b[A\n",
      " 83%|████████▎ | 205/246 [12:18<02:34,  3.76s/it]\u001b[A\n",
      " 84%|████████▎ | 206/246 [12:22<02:28,  3.70s/it]\u001b[A\n",
      " 84%|████████▍ | 207/246 [12:26<02:26,  3.75s/it]\u001b[A\n",
      " 85%|████████▍ | 208/246 [12:29<02:19,  3.68s/it]\u001b[A\n",
      " 85%|████████▍ | 209/246 [12:33<02:17,  3.73s/it]\u001b[A\n",
      " 85%|████████▌ | 210/246 [12:37<02:12,  3.67s/it]\u001b[A\n",
      " 86%|████████▌ | 211/246 [12:40<02:10,  3.73s/it]\u001b[A\n",
      " 86%|████████▌ | 212/246 [12:44<02:05,  3.70s/it]\u001b[A\n",
      " 87%|████████▋ | 213/246 [12:48<02:05,  3.81s/it]\u001b[A\n",
      " 87%|████████▋ | 214/246 [12:52<01:59,  3.73s/it]\u001b[A\n",
      " 87%|████████▋ | 215/246 [12:55<01:56,  3.75s/it]\u001b[A\n",
      " 88%|████████▊ | 216/246 [12:59<01:50,  3.68s/it]\u001b[A\n",
      " 88%|████████▊ | 217/246 [13:03<01:48,  3.74s/it]\u001b[A\n",
      " 89%|████████▊ | 218/246 [13:06<01:42,  3.68s/it]\u001b[A\n",
      " 89%|████████▉ | 219/246 [13:11<01:43,  3.82s/it]\u001b[A\n",
      " 89%|████████▉ | 220/246 [13:14<01:37,  3.74s/it]\u001b[A\n",
      " 90%|████████▉ | 221/246 [13:18<01:34,  3.78s/it]\u001b[A\n",
      " 90%|█████████ | 222/246 [13:21<01:28,  3.69s/it]\u001b[A\n",
      " 91%|█████████ | 223/246 [13:25<01:26,  3.78s/it]\u001b[A\n",
      " 91%|█████████ | 224/246 [13:29<01:22,  3.73s/it]\u001b[A\n",
      " 91%|█████████▏| 225/246 [13:33<01:20,  3.82s/it]\u001b[A\n",
      " 92%|█████████▏| 226/246 [13:37<01:14,  3.71s/it]\u001b[A\n",
      " 92%|█████████▏| 227/246 [13:40<01:11,  3.79s/it]\u001b[A\n",
      " 93%|█████████▎| 228/246 [13:44<01:06,  3.69s/it]\u001b[A\n",
      " 93%|█████████▎| 229/246 [13:48<01:04,  3.79s/it]\u001b[A\n",
      " 93%|█████████▎| 230/246 [13:51<00:59,  3.69s/it]\u001b[A\n",
      " 94%|█████████▍| 231/246 [13:55<00:56,  3.78s/it]\u001b[A\n",
      " 94%|█████████▍| 232/246 [13:59<00:51,  3.67s/it]\u001b[A\n",
      " 95%|█████████▍| 233/246 [14:03<00:49,  3.77s/it]\u001b[A\n",
      " 95%|█████████▌| 234/246 [14:06<00:44,  3.68s/it]\u001b[A\n",
      " 96%|█████████▌| 235/246 [14:10<00:41,  3.77s/it]\u001b[A\n",
      " 96%|█████████▌| 236/246 [14:14<00:37,  3.73s/it]\u001b[A\n",
      " 96%|█████████▋| 237/246 [14:18<00:34,  3.85s/it]\u001b[A\n",
      " 97%|█████████▋| 238/246 [14:22<00:30,  3.76s/it]\u001b[A\n",
      " 97%|█████████▋| 239/246 [14:26<00:26,  3.82s/it]\u001b[A\n",
      " 98%|█████████▊| 240/246 [14:29<00:22,  3.74s/it]\u001b[A\n",
      " 98%|█████████▊| 241/246 [14:33<00:19,  3.81s/it]\u001b[A\n",
      " 98%|█████████▊| 242/246 [14:37<00:14,  3.75s/it]\u001b[A\n",
      " 99%|█████████▉| 243/246 [14:41<00:11,  3.87s/it]\u001b[A\n",
      " 99%|█████████▉| 244/246 [14:44<00:07,  3.79s/it]\u001b[A\n",
      "100%|█████████▉| 245/246 [14:48<00:03,  3.79s/it]\u001b[A"
     ]
    }
   ],
   "source": [
    "student_preds = []\n",
    "y_trues = []\n",
    "teacher_preds = []\n",
    "independent_preds = []\n",
    "inputs = []\n",
    "batch_count = task.n_valid_batches\n",
    "for x, y in tqdm(task.valid_dataset, total=batch_count):\n",
    "    std_pred = tf.argmax(student_model(x), axis=-1)\n",
    "    teach_pred = tf.argmax(teacher_model(x), axis=-1)\n",
    "    indep_pred = tf.argmax(model(x), axis=-1)\n",
    "    student_preds.extend(std_pred.numpy())\n",
    "    teacher_preds.extend(teach_pred.numpy())\n",
    "    y_trues.extend(y.numpy())\n",
    "    independent_preds.extend(indep_pred)\n",
    "    inputs.extend(x)\n",
    "    batch_count -= 1\n",
    "    if batch_count == 0:\n",
    "        break"
   ]
  },
  {
   "cell_type": "code",
   "execution_count": 13,
   "metadata": {},
   "outputs": [],
   "source": [
    "student_mistakes = np.asarray(student_preds) == np.asarray(y_trues)\n",
    "teacher_mistakes = np.asarray(teacher_preds) == np.asarray(y_trues)\n",
    "model_mistakes = np.asarray(independent_preds) == np.asarray(y_trues)"
   ]
  },
  {
   "cell_type": "code",
   "execution_count": null,
   "metadata": {},
   "outputs": [],
   "source": [
    "nonoverlapping_mistakes = np.where(student_mistakes != teacher_mistakes)[0]\n",
    "teach_wrong_student_right = np.where(student_mistakes > teacher_mistakes)[0]\n",
    "teach_right_student_wrong = np.where(student_mistakes < teacher_mistakes)[0]"
   ]
  },
  {
   "cell_type": "code",
   "execution_count": 19,
   "metadata": {},
   "outputs": [],
   "source": [
    "model_right_student_wrong = np.where(student_mistakes < model_mistakes)[0]\n",
    "model_wrong_student_right = np.where(student_mistakes > model_mistakes)[0]\n",
    "model_right_teacher_wrong = np.where(teacher_mistakes < model_mistakes)[0]\n",
    "model_wrong_teacher_right = np.where(teacher_mistakes > model_mistakes)[0]"
   ]
  },
  {
   "cell_type": "code",
   "execution_count": 20,
   "metadata": {},
   "outputs": [
    {
     "data": {
      "text/plain": [
       "402"
      ]
     },
     "execution_count": 20,
     "metadata": {},
     "output_type": "execute_result"
    }
   ],
   "source": [
    "len(model_wrong_student_right)"
   ]
  },
  {
   "cell_type": "code",
   "execution_count": null,
   "metadata": {},
   "outputs": [],
   "source": []
  }
 ],
 "metadata": {
  "kernelspec": {
   "display_name": "Python 3",
   "language": "python",
   "name": "python3"
  },
  "language_info": {
   "codemirror_mode": {
    "name": "ipython",
    "version": 3
   },
   "file_extension": ".py",
   "mimetype": "text/x-python",
   "name": "python",
   "nbconvert_exporter": "python",
   "pygments_lexer": "ipython3",
   "version": "3.7.7"
  }
 },
 "nbformat": 4,
 "nbformat_minor": 4
}
