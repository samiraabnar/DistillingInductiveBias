{
 "cells": [
  {
   "cell_type": "code",
   "execution_count": 2,
   "metadata": {},
   "outputs": [],
   "source": [
    "import tensorflow as tf\n",
    "import numpy as np\n",
    "from datetime import datetime   # date stamp the log directory\n",
    "import json  # for saving and loading hyperparameters\n",
    "import os, sys, re\n",
    "import time\n",
    "\n",
    "import absl\n",
    "import absl.logging as logging\n",
    "from tf2_models.matrix_caps import *\n",
    "\n",
    "gfile = tf.io.gfile\n",
    "flags = absl.app.flags"
   ]
  },
  {
   "cell_type": "code",
   "execution_count": 3,
   "metadata": {},
   "outputs": [],
   "source": [
    "class CapsConfig(object):\n",
    "  def __init__(self,\n",
    "               **kwargs):\n",
    "    self.output_dim = 10\n",
    "    self.A = 64\n",
    "    self.B = 8\n",
    "    self.C = 16\n",
    "    self.D = 16\n",
    "    self.epsilon = 1e-9\n",
    "    self.l2 = 0.0000002\n",
    "    self.final_lambda = 0.01\n",
    "    self.iter_routing = 3"
   ]
  },
  {
   "cell_type": "code",
   "execution_count": null,
   "metadata": {},
   "outputs": [],
   "source": [
    "import tensorflow_datasets as tfds\n",
    "orig = tfds.load('smallnorb', split=\"train\")\n",
    "dataset = orig.map(map_func=lambda x: (tf.cast(x['image'], tf.float32), tf.one_hot(x['label_category'],depth=10)),\n",
    "                                              num_parallel_calls=tf.data.experimental.AUTOTUNE)\n",
    "dataset = dataset.batch(2)\n",
    "x,y = next(iter(dataset))"
   ]
  },
  {
   "cell_type": "code",
   "execution_count": null,
   "metadata": {},
   "outputs": [],
   "source": [
    "valid_dataset = tfds.load('smallnorb', split=\"train\")\n",
    "valid_dataset = valid_dataset.map(map_func=lambda x: (tf.cast(x['image'], tf.float32), tf.one_hot(x['label_category'],depth=10)),\n",
    "                                              num_parallel_calls=tf.data.experimental.AUTOTUNE)\n",
    "valid_dataset = valid_dataset.batch(2)"
   ]
  },
  {
   "cell_type": "code",
   "execution_count": null,
   "metadata": {},
   "outputs": [],
   "source": []
  },
  {
   "cell_type": "code",
   "execution_count": null,
   "metadata": {},
   "outputs": [],
   "source": [
    "model = MatrixCaps(CapsConfig())\n",
    "outputs = model(x)\n",
    "print(outputs.shape)\n",
    "model.compile(optimizer='adam',\n",
    "              loss=tf.keras.losses.CategoricalCrossentropy(from_logits=True),\n",
    "              metrics=tf.keras.metrics.SparseCategoricalAccuracy())\n",
    "\n",
    "model.summary()"
   ]
  },
  {
   "cell_type": "code",
   "execution_count": null,
   "metadata": {},
   "outputs": [],
   "source": [
    "outputs = model(x)\n",
    "tf.print(outputs.shape)\n",
    "tf.print(y.shape)\n",
    "model.loss(y, outputs)"
   ]
  },
  {
   "cell_type": "code",
   "execution_count": null,
   "metadata": {},
   "outputs": [],
   "source": [
    "model.fit(x=x.numpy(), y=y.numpy(),\n",
    "          epochs=1,\n",
    "          verbose=2\n",
    "          )"
   ]
  },
  {
   "cell_type": "code",
   "execution_count": 4,
   "metadata": {},
   "outputs": [
    {
     "name": "stdout",
     "output_type": "stream",
     "text": [
      "(50000, 28, 28, 1)\n"
     ]
    }
   ],
   "source": [
    "(x_train, y_train), (x_test, y_test) = tf.keras.datasets.mnist.load_data()\n",
    "\n",
    "# Preprocess the data (these are Numpy arrays)\n",
    "#x_train = x_train.reshape(60000, 784).astype('float32') / 255\n",
    "#x_test = x_test.reshape(10000, 784).astype('float32') / 255\n",
    "\n",
    "x_train = x_train[...,None].astype('float32')\n",
    "x_test = x_test[...,None].astype('float32')\n",
    "y_train = y_train.astype('float32')\n",
    "y_test = y_test.astype('float32')\n",
    "\n",
    "# Reserve 10,000 samples for validation\n",
    "x_val = x_train[-10000:]\n",
    "y_val = y_train[-10000:]\n",
    "x_train = x_train[:-10000]\n",
    "y_train = y_train[:-10000]\n",
    "tf.print(x_train.shape)"
   ]
  },
  {
   "cell_type": "code",
   "execution_count": 5,
   "metadata": {},
   "outputs": [
    {
     "name": "stdout",
     "output_type": "stream",
     "text": [
      "(2, 10)\n",
      "Model: \"matrix_caps\"\n",
      "_________________________________________________________________\n",
      "Layer (type)                 Output Shape              Param #   \n",
      "=================================================================\n",
      "batch_normalization (BatchNo multiple                  4         \n",
      "_________________________________________________________________\n",
      "conv2d (Conv2D)              multiple                  1664      \n",
      "_________________________________________________________________\n",
      "conv2d_1 (Conv2D)            multiple                  8320      \n",
      "_________________________________________________________________\n",
      "conv2d_2 (Conv2D)            multiple                  520       \n",
      "_________________________________________________________________\n",
      "conv_caps1 (ConvCaps)        multiple                  18464     \n",
      "_________________________________________________________________\n",
      "conv_caps2 (ConvCaps)        multiple                  36896     \n",
      "_________________________________________________________________\n",
      "class_caps (FcCaps)          multiple                  2580      \n",
      "=================================================================\n",
      "Total params: 68,448\n",
      "Trainable params: 68,446\n",
      "Non-trainable params: 2\n",
      "_________________________________________________________________\n"
     ]
    }
   ],
   "source": [
    "model = MatrixCaps(CapsConfig())\n",
    "outputs = model(x_train[0:2])\n",
    "print(outputs.shape)\n",
    "model.compile(optimizer='adam',\n",
    "              loss=tf.keras.losses.CategoricalCrossentropy(from_logits=True),\n",
    "              metrics=[tf.keras.metrics.SparseCategoricalAccuracy()])\n",
    "\n",
    "model.summary()"
   ]
  },
  {
   "cell_type": "code",
   "execution_count": null,
   "metadata": {},
   "outputs": [
    {
     "name": "stdout",
     "output_type": "stream",
     "text": [
      "Train on 50000 samples, validate on 10000 samples\n",
      "Epoch 1/3\n",
      "50000/50000 [==============================] - 1584s 32ms/sample - loss: 102.4443 - sparse_categorical_accuracy: 0.0933 - val_loss: 103.1420 - val_sparse_categorical_accuracy: 0.0960\n",
      "Epoch 2/3\n",
      " 6656/50000 [==>...........................] - ETA: 21:04 - loss: 103.1251 - sparse_categorical_accuracy: 0.0910"
     ]
    }
   ],
   "source": [
    "history = model.fit(x_train, y_train,\n",
    "                    batch_size=64,\n",
    "                    epochs=3,\n",
    "                    # We pass some validation for\n",
    "                    # monitoring validation loss and metrics\n",
    "                    # at the end of each epoch\n",
    "                    validation_data=(x_val, y_val))\n",
    "\n",
    "print('\\nhistory dict:', history.history)"
   ]
  },
  {
   "cell_type": "code",
   "execution_count": null,
   "metadata": {},
   "outputs": [],
   "source": [
    "inputs = tf.keras.Input(shape=(28,28,1), name='digits')\n",
    "x = tf.keras.layers.Reshape(target_shape=(784,))(inputs)\n",
    "x = tf.keras.layers.Dense(64, activation='relu', name='dense_1')(x)\n",
    "x = tf.keras.layers.Dense(64, activation='relu', name='dense_2')(x)\n",
    "outputs = tf.keras.layers.Dense(10, name='predictions')(x)\n",
    "\n",
    "model2 = tf.keras.Model(inputs=inputs, outputs=outputs)\n",
    "model2.compile(optimizer='adam',\n",
    "              loss=tf.keras.losses.SparseCategoricalCrossentropy(from_logits=True),\n",
    "              metrics=[tf.keras.metrics.SparseCategoricalAccuracy()])\n",
    "out = model2(x_train[0:1])\n",
    "print(out.shape)\n",
    "history = model2.fit(x_train, y_train,\n",
    "                    batch_size=64,\n",
    "                    epochs=3,\n",
    "                    # We pass some validation for\n",
    "                    # monitoring validation loss and metrics\n",
    "                    # at the end of each epoch\n",
    "                    validation_data=(x_val, y_val))\n",
    "\n",
    "print('\\nhistory dict:', history.history)"
   ]
  },
  {
   "cell_type": "code",
   "execution_count": null,
   "metadata": {},
   "outputs": [],
   "source": [
    "model = MatrixCaps(CapsConfig())\n",
    "model.compile(optimizer='adam',\n",
    "              loss=tf.keras.losses.SparseCategoricalCrossentropy(from_logits=True),\n",
    "              metrics=[tf.keras.metrics.SparseCategoricalAccuracy()])\n",
    "print(x_train[0:4].shape)\n",
    "out = model(x_train[0:4])\n",
    "print(out.shape)\n",
    "history = model.fit(x_train, y_train,\n",
    "                    batch_size=64,\n",
    "                    epochs=3,\n",
    "                    # We pass some validation for\n",
    "                    # monitoring validation loss and metrics\n",
    "                    # at the end of each epoch\n",
    "                    validation_data=(x_val, y_val))\n",
    "\n",
    "print('\\nhistory dict:', history.history)"
   ]
  },
  {
   "cell_type": "code",
   "execution_count": null,
   "metadata": {},
   "outputs": [],
   "source": [
    "tf.tile(tf.eye(10)[5][None,...],(3,1))"
   ]
  },
  {
   "cell_type": "code",
   "execution_count": null,
   "metadata": {},
   "outputs": [],
   "source": []
  }
 ],
 "metadata": {
  "kernelspec": {
   "display_name": "Python 3",
   "language": "python",
   "name": "python3"
  },
  "language_info": {
   "codemirror_mode": {
    "name": "ipython",
    "version": 3
   },
   "file_extension": ".py",
   "mimetype": "text/x-python",
   "name": "python",
   "nbconvert_exporter": "python",
   "pygments_lexer": "ipython3",
   "version": "3.7.4"
  }
 },
 "nbformat": 4,
 "nbformat_minor": 4
}
