{
 "cells": [
  {
   "cell_type": "code",
   "execution_count": 1,
   "metadata": {},
   "outputs": [],
   "source": [
    "import os\n",
    "import tensorflow as tf\n",
    "from util import constants\n",
    "from util.config_util import get_model_params, get_task_params, get_train_params\n",
    "from tf2_models.trainer import Trainer\n",
    "from absl import app\n",
    "from absl import flags\n",
    "import numpy as np\n",
    "from util.models import MODELS\n",
    "from util.tasks import TASKS\n",
    "from notebook_utils import *\n",
    "\n",
    "%matplotlib inline\n",
    "import pandas as pd\n",
    "import seaborn as sns; sns.set()\n",
    "\n",
    "from tqdm import tqdm\n"
   ]
  },
  {
   "cell_type": "code",
   "execution_count": 2,
   "metadata": {},
   "outputs": [
    {
     "name": "stderr",
     "output_type": "stream",
     "text": [
      "WARNING:absl:Using custom data configuration subwords\n"
     ]
    }
   ],
   "source": [
    "\n",
    "\n",
    "\n",
    "task1 = 'word_sv_agreement_lm'\n",
    "task2 = 'word_sv_agreement_vp'\n",
    "task3 = 'sst2'\n",
    "task4 = 'lm1b'\n",
    "\n",
    "chkpt_dir='../tf_ckpts'\n",
    "teacher_task = TASKS[task3](get_task_params(), data_dir='../data')\n",
    "student_task = TASKS[task4](get_task_params(), data_dir='../data')\n",
    "\n",
    "cl_token = teacher_task.sentence_encoder().encode(constants.bos)\n"
   ]
  },
  {
   "cell_type": "code",
   "execution_count": null,
   "metadata": {},
   "outputs": [],
   "source": [
    "for (x1,y1), (x2,y2) in zip(teacher_task.valid_dataset, student_task.valid_dataset):\n",
    "    print(x1[0], x2[0])\n",
    "    break"
   ]
  },
  {
   "cell_type": "code",
   "execution_count": null,
   "metadata": {},
   "outputs": [],
   "source": [
    "x1"
   ]
  },
  {
   "cell_type": "code",
   "execution_count": null,
   "metadata": {},
   "outputs": [],
   "source": [
    "\n",
    "tf.gather_nd(x1, axis=1, indices=tf.ones(64))"
   ]
  },
  {
   "cell_type": "code",
   "execution_count": null,
   "metadata": {},
   "outputs": [],
   "source": [
    "strategy = tf.distribute.experimental.CentralStorageStrategy()  # with 1 CPU and 1 GPU\n",
    "dataset = teacher_task.valid_dataset\n",
    "dist_dataset = strategy.experimental_distribute_dataset(dataset)\n",
    "for x,y in dist_dataset:\n",
    "  print(x.shape, y.shape)\n",
    "  break"
   ]
  },
  {
   "cell_type": "code",
   "execution_count": 3,
   "metadata": {},
   "outputs": [
    {
     "name": "stdout",
     "output_type": "stream",
     "text": [
      "model config: small_lstm_v4\n",
      "{'hidden_dim': 256, 'embedding_dim': 256, 'depth': 2, 'hidden_dropout_rate': 0.8, 'input_dropout_rate': 0.2, 'initializer_range': 0.1}\n",
      "No checkpoint found ../tf_ckpts/lm1b/lm_lstm_shared_emb_em-256_h-256_d-2_hdrop-0.8_indrop-0.2_small_lstm_v4_0.001_test\n",
      "model config: small_gpt_v9\n",
      "{'embedding_dim': 128, 'resid_pdrop': 0.4, 'embd_pdrop': 0.2, 'attn_pdrop': 0.6, 'initializer_range': 0.05}\n",
      "No checkpoint found ../tf_ckpts/lm1b/lm_gpt2_h-128_d-6_rdrop-0.4_adrop-0.6_indrop-0.2_small_gpt_v9_0.001_test\n",
      "model config: small_lstm_v4\n",
      "{'hidden_dim': 256, 'embedding_dim': 256, 'depth': 2, 'hidden_dropout_rate': 0.8, 'input_dropout_rate': 0.2, 'initializer_range': 0.1}\n",
      "No checkpoint found ../tf_ckpts/lm1b/cl_lstm_em-256_h-256_d-2_hdrop-0.8_indrop-0.2_small_lstm_v4_0.001_test\n",
      "model config: small_gpt_v9\n",
      "{'embedding_dim': 128, 'resid_pdrop': 0.4, 'embd_pdrop': 0.2, 'attn_pdrop': 0.6, 'initializer_range': 0.05}\n",
      "No checkpoint found ../tf_ckpts/lm1b/cl_gpt2_shared_weights_h-128_d-6_rdrop-0.4_adrop-0.6_indrop-0.2_small_gpt_v9_0.001_test\n"
     ]
    }
   ],
   "source": [
    "config = {'model_name':'lm_lstm_shared_emb',\n",
    "        'model_config':'small_lstm_v4',\n",
    "        'learning_rate':0.001,\n",
    "        'exp_name':'test',\n",
    "        'chkpt_dir': '../tf_ckpts'\n",
    "}\n",
    "hparams=get_model_params(student_task, config['model_name'], config['model_config'])\n",
    "hparams.output_attentions = True\n",
    "hparams.output_embeddings = True\n",
    "\n",
    "lm_lstm, ckpt = get_model(config, student_task, hparams, cl_token)\n",
    "\n",
    "config = {'model_name':'lm_gpt2_shared',\n",
    "        'model_config':'small_gpt_v9',\n",
    "        'learning_rate':0.001,\n",
    "        'exp_name':'test',\n",
    "        'chkpt_dir': '../tf_ckpts'\n",
    "}\n",
    "hparams=get_model_params(student_task, config['model_name'], config['model_config'])\n",
    "hparams.output_attentions = True\n",
    "hparams.output_embeddings = True\n",
    "\n",
    "lm_gpt, ckpt = get_model(config, student_task, hparams, cl_token)\n",
    "\n",
    "\n",
    "config = {'model_name':'cl_lstm',\n",
    "        'model_config':'small_lstm_v4',\n",
    "        'learning_rate':0.001,\n",
    "        'exp_name':'test',\n",
    "        'chkpt_dir': '../tf_ckpts'\n",
    "}\n",
    "hparams=get_model_params(student_task, config['model_name'], config['model_config'])\n",
    "hparams.output_attentions = True\n",
    "hparams.output_embeddings = True\n",
    "\n",
    "cl_lstm, ckpt = get_model(config, student_task, hparams, cl_token)\n",
    "\n",
    "config = {'model_name':'cl_gpt2_shared',\n",
    "        'model_config':'small_gpt_v9',\n",
    "        'learning_rate':0.001,\n",
    "        'exp_name':'test',\n",
    "        'chkpt_dir': '../tf_ckpts'\n",
    "}\n",
    "hparams=get_model_params(student_task, config['model_name'], config['model_config'])\n",
    "hparams.output_attentions = True\n",
    "hparams.output_embeddings = True\n",
    "\n",
    "cl_bert, ckpt = get_model(config, student_task, hparams, cl_token)"
   ]
  },
  {
   "cell_type": "code",
   "execution_count": 4,
   "metadata": {},
   "outputs": [
    {
     "name": "stdout",
     "output_type": "stream",
     "text": [
      "(64, 76) (64, 76)\n",
      "lm_lstm_shared_emb 4\n",
      "(64, 76, 256)\n",
      "lm_gpt2 5\n",
      "(64, 76, 128)\n",
      "cl_gpt2_shared_weights 6\n",
      "(64, 76, 128)\n",
      "cl_lstm 3\n",
      "(64, 76, 256)\n"
     ]
    }
   ],
   "source": [
    "for x,y in student_task.valid_dataset:\n",
    "  print(x.shape, y.shape)\n",
    "  print(lm_lstm.scope, len(lm_lstm.detailed_call(x)))\n",
    "  print(lm_lstm.detailed_call(x)[lm_lstm.rep_index][lm_lstm.rep_layer].shape)\n",
    "  print(lm_gpt.scope, len(lm_gpt.detailed_call(x)))\n",
    "  print(lm_gpt.detailed_call(x)[lm_gpt.rep_index].shape)\n",
    "  print(cl_bert.scope, len(cl_bert.detailed_call(x)))\n",
    "  print(cl_bert.detailed_call(x)[cl_bert.rep_index].shape)\n",
    "  print(cl_lstm.scope,len(cl_lstm.detailed_call(x)))\n",
    "  print(cl_lstm.detailed_call(x)[cl_lstm.rep_index][cl_lstm.rep_layer].shape)\n",
    "  break"
   ]
  },
  {
   "cell_type": "code",
   "execution_count": null,
   "metadata": {},
   "outputs": [],
   "source": [
    "for x,y in student_task.valid_dataset:\n",
    "    reps1 = lm_lstm.detailed_call(x)[lm_lstm.rep_index][lm_lstm.rep_layer]\n",
    "    reps2 = cl_bert.detailed_call(x)[cl_bert.rep_index]\n",
    "    break"
   ]
  },
  {
   "cell_type": "code",
   "execution_count": null,
   "metadata": {},
   "outputs": [],
   "source": [
    "from distill.repsim_util import *\n",
    "rep_loss(reps1, reps2, padding_symbol=tf.constant(student_task.input_padding_symbol,  dtype=tf.int64))"
   ]
  },
  {
   "cell_type": "code",
   "execution_count": null,
   "metadata": {},
   "outputs": [],
   "source": [
    "x"
   ]
  },
  {
   "cell_type": "code",
   "execution_count": null,
   "metadata": {},
   "outputs": [],
   "source": [
    "padding_symbol = tf.constant(student_task.input_padding_symbol, dtype=tf.int64)"
   ]
  },
  {
   "cell_type": "code",
   "execution_count": null,
   "metadata": {},
   "outputs": [],
   "source": [
    "reps1 = tf.reshape(reps1, (-1, tf.shape(reps1)[-1]))\n",
    "reps2 = tf.reshape(reps2, (-1, tf.shape(reps2)[-1]))\n",
    "\n",
    "if padding_symbol is not None and padding_symbol > -1:\n",
    "    padding_mask = 1.0 -tf.cast(x == padding_symbol, dtype=tf.float32)\n",
    "    padding_mask = tf.reshape(padding_mask, (-1, 1))\n",
    "else:\n",
    "    padding_mask = tf.ones((tf.shape(reps1)[0], 1))\n",
    "mean_sim, _ = second_order_rep_sim(reps1, reps2, padding_mask)\n",
    "\n"
   ]
  },
  {
   "cell_type": "code",
   "execution_count": null,
   "metadata": {},
   "outputs": [],
   "source": [
    "1 - mean_sim"
   ]
  },
  {
   "cell_type": "code",
   "execution_count": null,
   "metadata": {},
   "outputs": [],
   "source": []
  }
 ],
 "metadata": {
  "kernelspec": {
   "display_name": "Python 3",
   "language": "python",
   "name": "python3"
  },
  "language_info": {
   "codemirror_mode": {
    "name": "ipython",
    "version": 3
   },
   "file_extension": ".py",
   "mimetype": "text/x-python",
   "name": "python",
   "nbconvert_exporter": "python",
   "pygments_lexer": "ipython3",
   "version": "3.7.4"
  }
 },
 "nbformat": 4,
 "nbformat_minor": 4
}
