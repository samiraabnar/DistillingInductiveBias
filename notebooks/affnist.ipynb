{
 "cells": [
  {
   "cell_type": "code",
   "execution_count": 12,
   "metadata": {},
   "outputs": [],
   "source": [
    "import numpy as np\n",
    "import scipy.io as spio\n",
    "from matplotlib import pyplot as plt\n",
    "from matplotlib import cm\n",
    "import glob\n",
    "import os\n",
    "import tensorflow as tf\n",
    "from util import constants\n",
    "from util.config_util import get_model_params, get_task_params, get_train_params\n",
    "from tf2_models.trainer import Trainer\n",
    "from absl import app\n",
    "from absl import flags\n",
    "import numpy as np\n",
    "from util.models import MODELS\n",
    "from util.tasks import TASKS\n",
    "import tensorflow_probability as tfp\n",
    "from tfds_data.aff_nist import AffNist\n",
    "from calibration_util import *\n",
    "\n",
    "%matplotlib inline\n",
    "import matplotlib.pyplot as plt\n",
    "import pandas as pd\n",
    "import seaborn as sns; sns.set()\n",
    "sns.set_style(\"whitegrid\")\n",
    "\n",
    "from tqdm import tqdm\n",
    "\n",
    "def visualization(x, y,count,index):\n",
    "    x = np.reshape(x, (40, 40))\n",
    "    \n",
    "    plt.subplot(1,count,index)\n",
    "    plt.imshow(x, cmap=cm.Greys_r)\n",
    "    plt.title(y)\n",
    "    plt.axis('off')   \n",
    "\n",
    "def visualization_overlap(x0,x1, y0,y1,count,index):\n",
    "    r = np.reshape(x0, (40, 40))\n",
    "    g = np.reshape(x1, (40, 40))\n",
    "    b = np.zeros_like(r)\n",
    "    rgb = np.stack([r,g,b],-1)\n",
    "    \n",
    "    plt.subplot(1,count,index)\n",
    "    plt.imshow(rgb)\n",
    "    plt.title('R:('+ str(y0)+','+str(y1)+')')\n",
    "    plt.axis('off')   \n"
   ]
  },
  {
   "cell_type": "code",
   "execution_count": 13,
   "metadata": {},
   "outputs": [],
   "source": [
    "chkpt_dir='../tf_ckpts'\n",
    "task_name = 'affnist'\n",
    "task = TASKS[task_name](get_task_params(), data_dir='../data')"
   ]
  },
  {
   "cell_type": "code",
   "execution_count": 18,
   "metadata": {},
   "outputs": [
    {
     "name": "stdout",
     "output_type": "stream",
     "text": [
      "model config: vcnn_lenet5\n",
      "{'hidden_dim': [120, 84], 'depth': 2, 'proj_depth': 2, 'filters': [6, 16], 'kernel_size': [(3, 3), (3, 3), (3, 3)], 'pool_size': [(2, 2), (2, 2), (2, 2)], 'hidden_dropout_rate': 0.5, 'input_dropout_rate': 0.2}\n",
      "student_checkpoint: ../tf_ckpts/aff_nist/cl_vcnn_h-120.84_d-2_hdrop-0.5_indrop-0.2_vcnn_lenet5_0.001_trial1\n",
      "Restored student from ../tf_ckpts/aff_nist/cl_vcnn_h-120.84_d-2_hdrop-0.5_indrop-0.2_vcnn_lenet5_0.001_trial1/ckpt-20\n",
      "100/100 [==============================] - 1s 12ms/step - loss: 0.4306 - classification_loss: 0.4306 - sparse_categorical_accuracy: 0.9205\n"
     ]
    },
    {
     "data": {
      "text/plain": [
       "[0.43057410009205344, 0.430574, 0.92046875]"
      ]
     },
     "execution_count": 18,
     "metadata": {},
     "output_type": "execute_result"
    }
   ],
   "source": [
    "exp_name = '0.001_trial1'\n",
    "model_name = 'cl_vcnn'\n",
    "model_config = 'vcnn_lenet5'\n",
    "model_params = get_model_params(task, model_name, model_config)\n",
    "model_params.output_attentions = True\n",
    "model_params.output_embeddings = True\n",
    "model = MODELS[model_name](hparams=model_params)\n",
    "\n",
    "ckpt_dir = os.path.join(chkpt_dir, 'aff_nist',\n",
    "                          '_'.join([\n",
    "                                    model.model_name,\n",
    "                                    str(model_config),\n",
    "                                    exp_name]))\n",
    "print(\"student_checkpoint:\", ckpt_dir)\n",
    "\n",
    "ckpt = tf.train.Checkpoint(net=model)\n",
    "manager = tf.train.CheckpointManager(ckpt, ckpt_dir, max_to_keep=None)\n",
    "\n",
    "ckpt.restore(manager.latest_checkpoint)\n",
    "if manager.latest_checkpoint:\n",
    "  print(\"Restored student from {}\".format(manager.latest_checkpoint))\n",
    "else:\n",
    "  print(\"Initialized  from scratch!\")\n",
    "\n",
    "model.compile(loss=task.get_loss_fn(), metrics=task.metrics())\n",
    "model.evaluate(task.test_dataset, steps=100)\n",
    "\n",
    "# model_accuracy, predicted_class_probs, correct_class_probs, model_logits, model_trues= test_for_calibration(model, task, n_bins=20)\n",
    "\n",
    "# print(len(model_accuracy))\n",
    "# print(len(predicted_class_probs))\n",
    "# plot_calibration(model_accuracy, predicted_class_probs, correct_class_probs, n_bins=20)\n",
    "# plt.show()\n",
    "# model_ece = tfp.stats.expected_calibration_error(\n",
    "#     1000000,\n",
    "#     logits=model_logits,\n",
    "#     labels_true=model_trues,\n",
    "# )\n",
    "# print(model_ece.numpy())\n"
   ]
  },
  {
   "cell_type": "code",
   "execution_count": 16,
   "metadata": {},
   "outputs": [
    {
     "name": "stdout",
     "output_type": "stream",
     "text": [
      "model config: ff_mnist\n",
      "{'hidden_dim': 128, 'depth': 3, 'hidden_dropout_rate': 0.5, 'input_dropout_rate': 0.2}\n",
      "student_checkpoint: ../tf_ckpts/aff_nist/cl_vff_h-128_d-3_hdrop-0.5_indrop-0.2_ff_mnist_0.001_trial1\n",
      "Restored student from ../tf_ckpts/aff_nist/cl_vff_h-128_d-3_hdrop-0.5_indrop-0.2_ff_mnist_0.001_trial1/ckpt-20\n",
      "100/100 [==============================] - 1s 8ms/step - loss: 0.9994 - classification_loss: 0.9994 - sparse_categorical_accuracy: 0.7628\n"
     ]
    },
    {
     "data": {
      "text/plain": [
       "[0.9994085848331451, 0.99940866, 0.7628125]"
      ]
     },
     "execution_count": 16,
     "metadata": {},
     "output_type": "execute_result"
    }
   ],
   "source": [
    "exp_name = '0.001_trial1'\n",
    "model_name = 'cl_vff'\n",
    "model_config = 'ff_mnist'\n",
    "model_params = get_model_params(task, model_name, model_config)\n",
    "model_params.output_attentions = True\n",
    "model_params.output_embeddings = True\n",
    "model = MODELS[model_name](hparams=model_params)\n",
    "\n",
    "ckpt_dir = os.path.join(chkpt_dir, 'aff_nist',\n",
    "                          '_'.join([\n",
    "                                    model.model_name,\n",
    "                                    str(model_config),\n",
    "                                    exp_name]))\n",
    "print(\"student_checkpoint:\", ckpt_dir)\n",
    "\n",
    "ckpt = tf.train.Checkpoint(net=model)\n",
    "manager = tf.train.CheckpointManager(ckpt, ckpt_dir, max_to_keep=None)\n",
    "\n",
    "ckpt.restore(manager.latest_checkpoint)\n",
    "if manager.latest_checkpoint:\n",
    "  print(\"Restored student from {}\".format(manager.latest_checkpoint))\n",
    "else:\n",
    "  print(\"Initialized  from scratch!\")\n",
    "\n",
    "model.compile(loss=task.get_loss_fn(), metrics=task.metrics())\n",
    "model.evaluate(task.test_dataset, steps=100)\n",
    "\n",
    "# model_accuracy, predicted_class_probs, correct_class_probs, model_logits, model_trues= test_for_calibration(model, task, n_bins=20)\n",
    "\n",
    "# print(len(model_accuracy))\n",
    "# print(len(predicted_class_probs))\n",
    "# plot_calibration(model_accuracy, predicted_class_probs, correct_class_probs, n_bins=20)\n",
    "# plt.show()\n",
    "# model_ece = tfp.stats.expected_calibration_error(\n",
    "#     1000000,\n",
    "#     logits=model_logits,\n",
    "#     labels_true=model_trues,\n",
    "# )\n",
    "# print(model_ece.numpy())\n"
   ]
  },
  {
   "cell_type": "code",
   "execution_count": 17,
   "metadata": {},
   "outputs": [
    {
     "name": "stdout",
     "output_type": "stream",
     "text": [
      "model config: caps_base\n",
      "{'hidden_dim': 16, 'routing': 3, 'filters': 10, 'hidden_dropout_rate': 0.5, 'input_dropout_rate': 0.2}\n",
      "student_checkpoint: ../tf_ckpts/aff_nist/cl_capsule_nc-10_dc-16_r-3_hdrop-0.5_indrop-0.2_caps_base_0.001_trial1\n",
      "Initialized  from scratch!\n"
     ]
    },
    {
     "ename": "AttributeError",
     "evalue": "'Capsule' object has no attribute 'compile'",
     "output_type": "error",
     "traceback": [
      "\u001b[0;31m---------------------------------------------------------------------------\u001b[0m",
      "\u001b[0;31mAttributeError\u001b[0m                            Traceback (most recent call last)",
      "\u001b[0;32m<ipython-input-17-55edd0ade66b>\u001b[0m in \u001b[0;36m<module>\u001b[0;34m\u001b[0m\n\u001b[1;32m     23\u001b[0m   \u001b[0mprint\u001b[0m\u001b[0;34m(\u001b[0m\u001b[0;34m\"Initialized  from scratch!\"\u001b[0m\u001b[0;34m)\u001b[0m\u001b[0;34m\u001b[0m\u001b[0;34m\u001b[0m\u001b[0m\n\u001b[1;32m     24\u001b[0m \u001b[0;34m\u001b[0m\u001b[0m\n\u001b[0;32m---> 25\u001b[0;31m \u001b[0mmodel\u001b[0m\u001b[0;34m.\u001b[0m\u001b[0mcompile\u001b[0m\u001b[0;34m(\u001b[0m\u001b[0mloss\u001b[0m\u001b[0;34m=\u001b[0m\u001b[0mtask\u001b[0m\u001b[0;34m.\u001b[0m\u001b[0mget_loss_fn\u001b[0m\u001b[0;34m(\u001b[0m\u001b[0;34m)\u001b[0m\u001b[0;34m,\u001b[0m \u001b[0mmetrics\u001b[0m\u001b[0;34m=\u001b[0m\u001b[0mtask\u001b[0m\u001b[0;34m.\u001b[0m\u001b[0mmetrics\u001b[0m\u001b[0;34m(\u001b[0m\u001b[0;34m)\u001b[0m\u001b[0;34m)\u001b[0m\u001b[0;34m\u001b[0m\u001b[0;34m\u001b[0m\u001b[0m\n\u001b[0m\u001b[1;32m     26\u001b[0m \u001b[0mmodel\u001b[0m\u001b[0;34m.\u001b[0m\u001b[0mevaluate\u001b[0m\u001b[0;34m(\u001b[0m\u001b[0mtask\u001b[0m\u001b[0;34m.\u001b[0m\u001b[0mtest_dataset\u001b[0m\u001b[0;34m,\u001b[0m \u001b[0msteps\u001b[0m\u001b[0;34m=\u001b[0m\u001b[0;36m100\u001b[0m\u001b[0;34m)\u001b[0m\u001b[0;34m\u001b[0m\u001b[0;34m\u001b[0m\u001b[0m\n\u001b[1;32m     27\u001b[0m \u001b[0;34m\u001b[0m\u001b[0m\n",
      "\u001b[0;31mAttributeError\u001b[0m: 'Capsule' object has no attribute 'compile'"
     ]
    }
   ],
   "source": [
    "exp_name = '0.001_trial1'\n",
    "model_name = 'cl_capsule'\n",
    "model_config = 'caps_base'\n",
    "model_params = get_model_params(task, model_name, model_config)\n",
    "model_params.output_attentions = True\n",
    "model_params.output_embeddings = True\n",
    "model = MODELS[model_name](hparams=model_params)\n",
    "\n",
    "ckpt_dir = os.path.join(chkpt_dir, 'aff_nist',\n",
    "                          '_'.join([\n",
    "                                    model.model_name,\n",
    "                                    str(model_config),\n",
    "                                    exp_name]))\n",
    "print(\"student_checkpoint:\", ckpt_dir)\n",
    "\n",
    "ckpt = tf.train.Checkpoint(net=model)\n",
    "manager = tf.train.CheckpointManager(ckpt, ckpt_dir, max_to_keep=None)\n",
    "\n",
    "ckpt.restore(manager.latest_checkpoint)\n",
    "if manager.latest_checkpoint:\n",
    "  print(\"Restored student from {}\".format(manager.latest_checkpoint))\n",
    "else:\n",
    "  print(\"Initialized  from scratch!\")\n",
    "\n",
    "model.compile(loss=task.get_loss_fn(), metrics=task.metrics())\n",
    "model.evaluate(task.test_dataset, steps=100)\n",
    "\n",
    "# model_accuracy, predicted_class_probs, correct_class_probs, model_logits, model_trues= test_for_calibration(model, task, n_bins=20)\n",
    "\n",
    "# print(len(model_accuracy))\n",
    "# print(len(predicted_class_probs))\n",
    "# plot_calibration(model_accuracy, predicted_class_probs, correct_class_probs, n_bins=20)\n",
    "# plt.show()\n",
    "# model_ece = tfp.stats.expected_calibration_error(\n",
    "#     1000000,\n",
    "#     logits=model_logits,\n",
    "#     labels_true=model_trues,\n",
    "# )\n",
    "# print(model_ece.numpy())\n"
   ]
  },
  {
   "cell_type": "code",
   "execution_count": 26,
   "metadata": {},
   "outputs": [
    {
     "name": "stdout",
     "output_type": "stream",
     "text": [
      "model config: vcnn_lenet5\n",
      "{'hidden_dim': [120, 84], 'depth': 2, 'proj_depth': 2, 'filters': [6, 16], 'kernel_size': [(3, 3), (3, 3), (3, 3)], 'pool_size': [(2, 2), (2, 2), (2, 2)], 'hidden_dropout_rate': 0.5, 'input_dropout_rate': 0.2}\n",
      "model config: ff_mnist\n",
      "{'hidden_dim': 128, 'depth': 3, 'hidden_dropout_rate': 0.5, 'input_dropout_rate': 0.2}\n",
      "student_checkpoint: ../tf_ckpts/aff_nist/online_pure_dstl_mn_fstonln_teacher_cl_vcnn_h-120.84_d-2_hdrop-0.5_indrop-0.2_vcnn_lenet5_0.001_teacher_od1_student_cl_vff_h-128_d-3_hdrop-0.5_indrop-0.2_ff_mnist_student_od1\n",
      "WARNING:tensorflow:Unresolved object in checkpoint: (root).step\n"
     ]
    },
    {
     "name": "stderr",
     "output_type": "stream",
     "text": [
      "WARNING:tensorflow:Unresolved object in checkpoint: (root).step\n"
     ]
    },
    {
     "name": "stdout",
     "output_type": "stream",
     "text": [
      "WARNING:tensorflow:Unresolved object in checkpoint: (root).optimizer.iter\n"
     ]
    },
    {
     "name": "stderr",
     "output_type": "stream",
     "text": [
      "WARNING:tensorflow:Unresolved object in checkpoint: (root).optimizer.iter\n"
     ]
    },
    {
     "name": "stdout",
     "output_type": "stream",
     "text": [
      "WARNING:tensorflow:Unresolved object in checkpoint: (root).optimizer.beta_1\n"
     ]
    },
    {
     "name": "stderr",
     "output_type": "stream",
     "text": [
      "WARNING:tensorflow:Unresolved object in checkpoint: (root).optimizer.beta_1\n"
     ]
    },
    {
     "name": "stdout",
     "output_type": "stream",
     "text": [
      "WARNING:tensorflow:Unresolved object in checkpoint: (root).optimizer.beta_2\n"
     ]
    },
    {
     "name": "stderr",
     "output_type": "stream",
     "text": [
      "WARNING:tensorflow:Unresolved object in checkpoint: (root).optimizer.beta_2\n"
     ]
    },
    {
     "name": "stdout",
     "output_type": "stream",
     "text": [
      "WARNING:tensorflow:Unresolved object in checkpoint: (root).optimizer.decay\n"
     ]
    },
    {
     "name": "stderr",
     "output_type": "stream",
     "text": [
      "WARNING:tensorflow:Unresolved object in checkpoint: (root).optimizer.decay\n"
     ]
    },
    {
     "name": "stdout",
     "output_type": "stream",
     "text": [
      "WARNING:tensorflow:A checkpoint was restored (e.g. tf.train.Checkpoint.restore or tf.keras.Model.load_weights) but not all checkpointed values were used. See above for specific issues. Use expect_partial() on the load status object, e.g. tf.train.Checkpoint.restore(...).expect_partial(), to silence these warnings, or use assert_consumed() to make the check explicit. See https://www.tensorflow.org/alpha/guide/checkpoints#loading_mechanics for details.\n"
     ]
    },
    {
     "name": "stderr",
     "output_type": "stream",
     "text": [
      "WARNING:tensorflow:A checkpoint was restored (e.g. tf.train.Checkpoint.restore or tf.keras.Model.load_weights) but not all checkpointed values were used. See above for specific issues. Use expect_partial() on the load status object, e.g. tf.train.Checkpoint.restore(...).expect_partial(), to silence these warnings, or use assert_consumed() to make the check explicit. See https://www.tensorflow.org/alpha/guide/checkpoints#loading_mechanics for details.\n"
     ]
    },
    {
     "name": "stdout",
     "output_type": "stream",
     "text": [
      "Restored student from ../tf_ckpts/aff_nist/online_pure_dstl_mn_fstonln_teacher_cl_vcnn_h-120.84_d-2_hdrop-0.5_indrop-0.2_vcnn_lenet5_0.001_teacher_od1_student_cl_vff_h-128_d-3_hdrop-0.5_indrop-0.2_ff_mnist_student_od1/ckpt-60\n",
      "10000/10000 [==============================] - 22s 2ms/step - loss: 1.0845 - classification_loss: 1.0845 - sparse_categorical_accuracy: 0.7954\n"
     ]
    },
    {
     "data": {
      "text/plain": [
       "[1.0845338063001633, 1.0845325, 0.7954]"
      ]
     },
     "execution_count": 26,
     "metadata": {},
     "output_type": "execute_result"
    }
   ],
   "source": [
    "student_exp_name='student_od1'\n",
    "teacher_exp_name='0.001_teacher_od1'\n",
    "task_name = 'word_sv_agreement_lm'\n",
    "student_model='cl_vff'\n",
    "teacher_model='cl_vcnn'\n",
    "student_config='ff_mnist'\n",
    "teacher_config='vcnn_lenet5'\n",
    "distill_config='pure_dstl_mn_fstonln'\n",
    "distill_mode='online'\n",
    "\n",
    "chkpt_dir='../tf_ckpts'\n",
    "\n",
    "\n",
    "teacher_model = MODELS[teacher_model](hparams=get_model_params(task, teacher_model, teacher_config))\n",
    "std_hparams=get_model_params(task, student_model, student_config)\n",
    "student_model = MODELS[student_model](std_hparams)\n",
    "\n",
    "student_ckpt_dir = os.path.join(chkpt_dir, task.name,\n",
    "                              '_'.join([distill_mode,distill_config,\n",
    "                                        \"teacher\", teacher_model.model_name, \n",
    "                                        teacher_config,\n",
    "                                        teacher_exp_name,\n",
    "                                       \"student\",student_model.model_name,\n",
    "                                        str(student_config),\n",
    "                                        student_exp_name]))\n",
    "print(\"student_checkpoint:\", student_ckpt_dir)\n",
    "\n",
    "student_ckpt = tf.train.Checkpoint(net=student_model)\n",
    "student_manager = tf.train.CheckpointManager(student_ckpt, student_ckpt_dir, max_to_keep=None)\n",
    "\n",
    "student_ckpt.restore(student_manager.latest_checkpoint)\n",
    "if student_manager.latest_checkpoint:\n",
    "  print(\"Restored student from {}\".format(student_manager.latest_checkpoint))\n",
    "\n",
    "student_model.compile(loss=task.get_loss_fn(), metrics=task.metrics())\n",
    "student_model.evaluate(task.test_dataset, steps=10000)"
   ]
  },
  {
   "cell_type": "code",
   "execution_count": 27,
   "metadata": {},
   "outputs": [
    {
     "name": "stdout",
     "output_type": "stream",
     "text": [
      "model config: ff_mnist\n",
      "{'hidden_dim': 128, 'depth': 3, 'hidden_dropout_rate': 0.5, 'input_dropout_rate': 0.2}\n",
      "model config: ff_mnist\n",
      "{'hidden_dim': 128, 'depth': 3, 'hidden_dropout_rate': 0.5, 'input_dropout_rate': 0.2}\n",
      "student_checkpoint: ../tf_ckpts/aff_nist/online_pure_dstl_mn_fstonln_teacher_cl_vff_h-128_d-3_hdrop-0.5_indrop-0.2_ff_mnist_0.001_teacher_od1_student_cl_vff_h-128_d-3_hdrop-0.5_indrop-0.2_ff_mnist_student_od1\n",
      "Restored student from ../tf_ckpts/aff_nist/online_pure_dstl_mn_fstonln_teacher_cl_vff_h-128_d-3_hdrop-0.5_indrop-0.2_ff_mnist_0.001_teacher_od1_student_cl_vff_h-128_d-3_hdrop-0.5_indrop-0.2_ff_mnist_student_od1/ckpt-60\n",
      "10000/10000 [==============================] - 22s 2ms/step - loss: 0.7047 - classification_loss: 0.7047 - sparse_categorical_accuracy: 0.7920\n"
     ]
    },
    {
     "data": {
      "text/plain": [
       "[0.704650479722023, 0.7046508, 0.792]"
      ]
     },
     "execution_count": 27,
     "metadata": {},
     "output_type": "execute_result"
    }
   ],
   "source": [
    "student_exp_name='student_od1'\n",
    "teacher_exp_name='0.001_teacher_od1'\n",
    "task_name = 'word_sv_agreement_lm'\n",
    "student_model='cl_vff'\n",
    "teacher_model='cl_vff'\n",
    "student_config='ff_mnist'\n",
    "teacher_config='ff_mnist'\n",
    "distill_config='pure_dstl_mn_fstonln'\n",
    "distill_mode='online'\n",
    "\n",
    "chkpt_dir='../tf_ckpts'\n",
    "\n",
    "\n",
    "teacher_model = MODELS[teacher_model](hparams=get_model_params(task, teacher_model, teacher_config))\n",
    "std_hparams=get_model_params(task, student_model, student_config)\n",
    "student_model = MODELS[student_model](std_hparams)\n",
    "\n",
    "student_ckpt_dir = os.path.join(chkpt_dir, task.name,\n",
    "                              '_'.join([distill_mode,distill_config,\n",
    "                                        \"teacher\", teacher_model.model_name, \n",
    "                                        teacher_config,\n",
    "                                        teacher_exp_name,\n",
    "                                       \"student\",student_model.model_name,\n",
    "                                        str(student_config),\n",
    "                                        student_exp_name]))\n",
    "print(\"student_checkpoint:\", student_ckpt_dir)\n",
    "\n",
    "student_ckpt = tf.train.Checkpoint(net=student_model)\n",
    "student_manager = tf.train.CheckpointManager(student_ckpt, student_ckpt_dir, max_to_keep=None)\n",
    "\n",
    "student_ckpt.restore(student_manager.latest_checkpoint)\n",
    "if student_manager.latest_checkpoint:\n",
    "  print(\"Restored student from {}\".format(student_manager.latest_checkpoint))\n",
    "\n",
    "student_model.compile(loss=task.get_loss_fn(), metrics=task.metrics())\n",
    "student_model.evaluate(task.test_dataset, steps=10000)"
   ]
  },
  {
   "cell_type": "code",
   "execution_count": null,
   "metadata": {},
   "outputs": [],
   "source": []
  }
 ],
 "metadata": {
  "kernelspec": {
   "display_name": "Python 3",
   "language": "python",
   "name": "python3"
  },
  "language_info": {
   "codemirror_mode": {
    "name": "ipython",
    "version": 3
   },
   "file_extension": ".py",
   "mimetype": "text/x-python",
   "name": "python",
   "nbconvert_exporter": "python",
   "pygments_lexer": "ipython3",
   "version": "3.7.7"
  }
 },
 "nbformat": 4,
 "nbformat_minor": 4
}
