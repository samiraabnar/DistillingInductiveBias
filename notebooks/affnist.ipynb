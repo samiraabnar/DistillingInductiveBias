{
 "cells": [
  {
   "cell_type": "code",
   "execution_count": 14,
   "metadata": {},
   "outputs": [],
   "source": [
    "import numpy as np\n",
    "import scipy.io as spio\n",
    "from matplotlib import pyplot as plt\n",
    "from matplotlib import cm\n",
    "import glob\n",
    "import os\n",
    "import tensorflow as tf\n",
    "from util import constants\n",
    "from util.config_util import get_model_params, get_task_params, get_train_params\n",
    "from tf2_models.trainer import Trainer\n",
    "from absl import app\n",
    "from absl import flags\n",
    "import numpy as np\n",
    "from util.models import MODELS\n",
    "from util.tasks import TASKS\n",
    "import tensorflow_probability as tfp\n",
    "from tfds_data.aff_nist import AffNist\n",
    "from calibration_util import *\n",
    "\n",
    "%matplotlib inline\n",
    "import matplotlib.pyplot as plt\n",
    "import pandas as pd\n",
    "import seaborn as sns; sns.set()\n",
    "sns.set_style(\"whitegrid\")\n",
    "\n",
    "from tqdm import tqdm\n",
    "\n",
    "def visualization(x, y,count,index):\n",
    "    x = np.reshape(x, (40, 40))\n",
    "    \n",
    "    plt.subplot(1,count,index)\n",
    "    plt.imshow(x, cmap=cm.Greys_r)\n",
    "    plt.title(y)\n",
    "    plt.axis('off')   \n",
    "\n",
    "def visualization_overlap(x0,x1, y0,y1,count,index):\n",
    "    r = np.reshape(x0, (40, 40))\n",
    "    g = np.reshape(x1, (40, 40))\n",
    "    b = np.zeros_like(r)\n",
    "    rgb = np.stack([r,g,b],-1)\n",
    "    \n",
    "    plt.subplot(1,count,index)\n",
    "    plt.imshow(rgb)\n",
    "    plt.title('R:('+ str(y0)+','+str(y1)+')')\n",
    "    plt.axis('off')   \n"
   ]
  },
  {
   "cell_type": "code",
   "execution_count": 15,
   "metadata": {},
   "outputs": [],
   "source": [
    "chkpt_dir='../tf_ckpts'\n",
    "task_name = 'affnist'\n",
    "task = TASKS[task_name](get_task_params(), data_dir='../data')"
   ]
  },
  {
   "cell_type": "code",
   "execution_count": 21,
   "metadata": {},
   "outputs": [
    {
     "name": "stdout",
     "output_type": "stream",
     "text": [
      "model config: vcnn_lenet5\n",
      "{'hidden_dim': [120, 84], 'depth': 2, 'proj_depth': 2, 'filters': [6, 16], 'kernel_size': [(3, 3), (3, 3), (3, 3)], 'pool_size': [(2, 2), (2, 2), (2, 2)], 'hidden_dropout_rate': 0.5, 'input_dropout_rate': 0.2}\n",
      "student_checkpoint: ../tf_ckpts/aff_nist/cl_vcnn_h-120.84_d-2_hdrop-0.5_indrop-0.2_vcnn_lenet5_0.001_trial1\n",
      "Restored student from ../tf_ckpts/aff_nist/cl_vcnn_h-120.84_d-2_hdrop-0.5_indrop-0.2_vcnn_lenet5_0.001_trial1/ckpt-20\n",
      "100/100 [==============================] - 0s 4ms/step - loss: 0.4306 - classification_loss: 0.4306 - sparse_categorical_accuracy: 0.9205\n",
      "9984\n",
      "9984\n"
     ]
    },
    {
     "data": {
      "image/png": "[encoded data removed]",
      "text/plain": [
       "<Figure size 432x288 with 1 Axes>"
      ]
     },
     "metadata": {},
     "output_type": "display_data"
    },
    {
     "name": "stdout",
     "output_type": "stream",
     "text": [
      "0.0817682\n"
     ]
    }
   ],
   "source": [
    "exp_name = '0.001_trial1'\n",
    "model_name = 'cl_vcnn'\n",
    "model_config = 'vcnn_lenet5'\n",
    "model_params = get_model_params(task, model_name, model_config)\n",
    "model_params.output_attentions = True\n",
    "model_params.output_embeddings = True\n",
    "model = MODELS[model_name](hparams=model_params)\n",
    "\n",
    "ckpt_dir = os.path.join(chkpt_dir, 'aff_nist',\n",
    "                          '_'.join([\n",
    "                                    model.model_name,\n",
    "                                    str(model_config),\n",
    "                                    exp_name]))\n",
    "print(\"student_checkpoint:\", ckpt_dir)\n",
    "\n",
    "ckpt = tf.train.Checkpoint(net=model)\n",
    "manager = tf.train.CheckpointManager(ckpt, ckpt_dir, max_to_keep=None)\n",
    "\n",
    "ckpt.restore(manager.latest_checkpoint)\n",
    "if manager.latest_checkpoint:\n",
    "  print(\"Restored student from {}\".format(manager.latest_checkpoint))\n",
    "else:\n",
    "  print(\"Initialized  from scratch!\")\n",
    "\n",
    "model.compile(loss=task.get_loss_fn(), metrics=task.metrics())\n",
    "model.evaluate(task.test_dataset, steps=100)\n",
    "\n",
    "model_accuracy, predicted_class_probs, correct_class_probs, model_logits, model_trues= test_for_calibration(model, task, n_bins=20)\n",
    "\n",
    "print(len(model_accuracy))\n",
    "print(len(predicted_class_probs))\n",
    "plot_calibration(model_accuracy, predicted_class_probs, correct_class_probs, n_bins=20)\n",
    "plt.show()\n",
    "model_ece = tfp.stats.expected_calibration_error(\n",
    "    1000000,\n",
    "    logits=model_logits,\n",
    "    labels_true=model_trues,\n",
    ")\n",
    "print(model_ece.numpy())\n"
   ]
  },
  {
   "cell_type": "code",
   "execution_count": 20,
   "metadata": {},
   "outputs": [
    {
     "name": "stdout",
     "output_type": "stream",
     "text": [
      "model config: ff_mnist\n",
      "{'hidden_dim': 128, 'depth': 3, 'hidden_dropout_rate': 0.5, 'input_dropout_rate': 0.2}\n",
      "student_checkpoint: ../tf_ckpts/aff_nist/cl_vff_h-128_d-3_hdrop-0.5_indrop-0.2_ff_mnist_0.001_trial1\n",
      "Restored student from ../tf_ckpts/aff_nist/cl_vff_h-128_d-3_hdrop-0.5_indrop-0.2_ff_mnist_0.001_trial1/ckpt-20\n",
      "100/100 [==============================] - 0s 4ms/step - loss: 0.9994 - classification_loss: 0.9994 - sparse_categorical_accuracy: 0.7628\n",
      "9984\n",
      "9984\n"
     ]
    },
    {
     "data": {
      "image/png": "[encoded data removed]",
      "text/plain": [
       "<Figure size 432x288 with 1 Axes>"
      ]
     },
     "metadata": {},
     "output_type": "display_data"
    },
    {
     "name": "stdout",
     "output_type": "stream",
     "text": [
      "0.23837791\n"
     ]
    }
   ],
   "source": [
    "exp_name = '0.001_trial1'\n",
    "model_name = 'cl_vff'\n",
    "model_config = 'ff_mnist'\n",
    "model_params = get_model_params(task, model_name, model_config)\n",
    "model_params.output_attentions = True\n",
    "model_params.output_embeddings = True\n",
    "model = MODELS[model_name](hparams=model_params)\n",
    "\n",
    "ckpt_dir = os.path.join(chkpt_dir, 'aff_nist',\n",
    "                          '_'.join([\n",
    "                                    model.model_name,\n",
    "                                    str(model_config),\n",
    "                                    exp_name]))\n",
    "print(\"student_checkpoint:\", ckpt_dir)\n",
    "\n",
    "ckpt = tf.train.Checkpoint(net=model)\n",
    "manager = tf.train.CheckpointManager(ckpt, ckpt_dir, max_to_keep=None)\n",
    "\n",
    "ckpt.restore(manager.latest_checkpoint)\n",
    "if manager.latest_checkpoint:\n",
    "  print(\"Restored student from {}\".format(manager.latest_checkpoint))\n",
    "else:\n",
    "  print(\"Initialized  from scratch!\")\n",
    "\n",
    "model.compile(loss=task.get_loss_fn(), metrics=task.metrics())\n",
    "model.evaluate(task.test_dataset, steps=100)\n",
    "\n",
    "model_accuracy, predicted_class_probs, correct_class_probs, model_logits, model_trues= test_for_calibration(model, task, n_bins=20)\n",
    "\n",
    "print(len(model_accuracy))\n",
    "print(len(predicted_class_probs))\n",
    "plot_calibration(model_accuracy, predicted_class_probs, correct_class_probs, n_bins=20)\n",
    "plt.show()\n",
    "model_ece = tfp.stats.expected_calibration_error(\n",
    "    1000000,\n",
    "    logits=model_logits,\n",
    "    labels_true=model_trues,\n",
    ")\n",
    "print(model_ece.numpy())\n"
   ]
  },
  {
   "cell_type": "code",
   "execution_count": null,
   "metadata": {},
   "outputs": [],
   "source": []
  },
  {
   "cell_type": "code",
   "execution_count": null,
   "metadata": {},
   "outputs": [],
   "source": []
  },
  {
   "cell_type": "code",
   "execution_count": null,
   "metadata": {},
   "outputs": [],
   "source": []
  }
 ],
 "metadata": {
  "kernelspec": {
   "display_name": "Python 3",
   "language": "python",
   "name": "python3"
  },
  "language_info": {
   "codemirror_mode": {
    "name": "ipython",
    "version": 3
   },
   "file_extension": ".py",
   "mimetype": "text/x-python",
   "name": "python",
   "nbconvert_exporter": "python",
   "pygments_lexer": "ipython3",
   "version": "3.7.4"
  }
 },
 "nbformat": 4,
 "nbformat_minor": 4
}
