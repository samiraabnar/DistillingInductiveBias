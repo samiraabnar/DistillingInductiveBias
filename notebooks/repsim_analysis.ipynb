{
 "cells": [
  {
   "cell_type": "code",
   "execution_count": 1,
   "metadata": {},
   "outputs": [
    {
     "name": "stderr",
     "output_type": "stream",
     "text": [
      "[nltk_data] Downloading package punkt to /home/samira/nltk_data...\n",
      "[nltk_data]   Package punkt is already up-to-date!\n"
     ]
    }
   ],
   "source": [
    "import os\n",
    "import tensorflow as tf\n",
    "from util import constants\n",
    "from util.config_util import get_model_params, get_task_params, get_train_params\n",
    "from tf2_models.trainer import Trainer\n",
    "from absl import app\n",
    "from absl import flags\n",
    "import numpy as np\n",
    "from util.models import MODELS\n",
    "from util.tasks import TASKS\n",
    "from notebook_utils import *\n",
    "from distill.repsim_util import *\n",
    "\n",
    "%matplotlib inline\n",
    "import pandas as pd\n",
    "import seaborn as sns; sns.set()\n",
    "\n",
    "from tqdm import tqdm\n",
    "\n",
    "chkpt_dir='../tf_ckpts'"
   ]
  },
  {
   "cell_type": "code",
   "execution_count": 2,
   "metadata": {},
   "outputs": [
    {
     "name": "stderr",
     "output_type": "stream",
     "text": [
      "WARNING:absl:Using custom data configuration subwords\n"
     ]
    }
   ],
   "source": [
    "task1 = 'sst2'\n",
    "task1 = TASKS[task1](get_task_params(), data_dir='../data')\n",
    "cl_token = task1.sentence_encoder().encode(constants.bos)\n",
    "\n",
    "task2 = 'lm1b'\n",
    "task2 = TASKS[task2](get_task_params(), data_dir='../data')\n",
    "cl_token = task2.sentence_encoder().encode(constants.bos)\n",
    "\n",
    "models = []\n",
    "labels = []"
   ]
  },
  {
   "cell_type": "code",
   "execution_count": 3,
   "metadata": {},
   "outputs": [
    {
     "name": "stdout",
     "output_type": "stream",
     "text": [
      "model config: small_gpt_v9\n",
      "{'embedding_dim': 128, 'resid_pdrop': 0.4, 'embd_pdrop': 0.2, 'attn_pdrop': 0.6, 'initializer_range': 0.05}\n",
      "No checkpoint found ../tf_ckpts/sst2/cl_bert_h-128_d-6_rdrop-0.4_adrop-0.6_indrop-0.2_small_gpt_v9_0.001_random1\n",
      "model config: small_gpt_v9\n",
      "{'embedding_dim': 128, 'resid_pdrop': 0.4, 'embd_pdrop': 0.2, 'attn_pdrop': 0.6, 'initializer_range': 0.05}\n",
      "No checkpoint found ../tf_ckpts/sst2/cl_bert_h-128_d-6_rdrop-0.4_adrop-0.6_indrop-0.2_small_gpt_v9_0.001_random2\n"
     ]
    }
   ],
   "source": [
    "# CL BERT\n",
    "config = {'model_name':'cl_bert',\n",
    "        'model_config':'small_gpt_v9',\n",
    "        'learning_rate':0.001,\n",
    "        'exp_name':'random1',\n",
    "        'chkpt_dir': '../tf_ckpts'\n",
    "}\n",
    "hparams=get_model_params(task1, config['model_name'], config['model_config'])\n",
    "hparams.output_attentions = True\n",
    "hparams.output_embeddings = True\n",
    "\n",
    "random_cl_bert_1, ckpt = get_model(config, task1, hparams, cl_token)\n",
    "\n",
    "config = {'model_name':'cl_bert',\n",
    "        'model_config':'small_gpt_v9',\n",
    "        'learning_rate':0.001,\n",
    "        'exp_name':'random2',\n",
    "        'chkpt_dir': '../tf_ckpts'\n",
    "}\n",
    "hparams=get_model_params(task1, config['model_name'], config['model_config'])\n",
    "hparams.output_attentions = True\n",
    "hparams.output_embeddings = True\n",
    "\n",
    "random_cl_bert_2, ckpt = get_model(config, task1, hparams, cl_token)\n",
    "\n",
    "models.extend([random_cl_bert_1, random_cl_bert_2])\n",
    "labels.extend(['random_cl_bert_1', 'random_cl_bert_2'])"
   ]
  },
  {
   "cell_type": "code",
   "execution_count": 4,
   "metadata": {},
   "outputs": [
    {
     "name": "stdout",
     "output_type": "stream",
     "text": [
      "model config: small_gpt_v9\n",
      "{'embedding_dim': 128, 'resid_pdrop': 0.4, 'embd_pdrop': 0.2, 'attn_pdrop': 0.6, 'initializer_range': 0.05}\n",
      "No checkpoint found ../tf_ckpts/sst2/cl_bert_shared_h-128_d-6_rdrop-0.4_adrop-0.6_indrop-0.2_small_gpt_v9_0.001_random1\n",
      "model config: small_gpt_v9\n",
      "{'embedding_dim': 128, 'resid_pdrop': 0.4, 'embd_pdrop': 0.2, 'attn_pdrop': 0.6, 'initializer_range': 0.05}\n",
      "No checkpoint found ../tf_ckpts/sst2/cl_bert_shared_h-128_d-6_rdrop-0.4_adrop-0.6_indrop-0.2_small_gpt_v9_0.001_random2\n"
     ]
    }
   ],
   "source": [
    "# CL BERT Shared\n",
    "config = {'model_name':'cl_bert_shared',\n",
    "        'model_config':'small_gpt_v9',\n",
    "        'learning_rate':0.001,\n",
    "        'exp_name':'random1',\n",
    "        'chkpt_dir': '../tf_ckpts'\n",
    "}\n",
    "hparams=get_model_params(task1, config['model_name'], config['model_config'])\n",
    "hparams.output_attentions = True\n",
    "hparams.output_embeddings = True\n",
    "\n",
    "random_cl_bert_shared_1, ckpt = get_model(config, task1, hparams, cl_token)\n",
    "\n",
    "config = {'model_name':'cl_bert_shared',\n",
    "        'model_config':'small_gpt_v9',\n",
    "        'learning_rate':0.001,\n",
    "        'exp_name':'random2',\n",
    "        'chkpt_dir': '../tf_ckpts'\n",
    "}\n",
    "hparams=get_model_params(task1, config['model_name'], config['model_config'])\n",
    "hparams.output_attentions = True\n",
    "hparams.output_embeddings = True\n",
    "\n",
    "random_cl_bert_shared_2, ckpt = get_model(config, task1, hparams, cl_token)\n",
    "\n",
    "\n",
    "models.extend([random_cl_bert_shared_1, random_cl_bert_shared_2])\n",
    "labels.extend(['random_cl_bert_shared_1', 'random_cl_bert_shared_2'])"
   ]
  },
  {
   "cell_type": "code",
   "execution_count": 5,
   "metadata": {},
   "outputs": [
    {
     "name": "stdout",
     "output_type": "stream",
     "text": [
      "model config: small_lstm_v4\n",
      "{'hidden_dim': 256, 'embedding_dim': 256, 'depth': 2, 'hidden_dropout_rate': 0.8, 'input_dropout_rate': 0.2, 'initializer_range': 0.1}\n",
      "No checkpoint found ../tf_ckpts/sst2/cl_lstm_em-256_h-256_d-2_hdrop-0.8_indrop-0.2_small_lstm_v4_0.001_random1\n",
      "model config: small_lstm_v4\n",
      "{'hidden_dim': 256, 'embedding_dim': 256, 'depth': 2, 'hidden_dropout_rate': 0.8, 'input_dropout_rate': 0.2, 'initializer_range': 0.1}\n",
      "No checkpoint found ../tf_ckpts/sst2/cl_lstm_em-256_h-256_d-2_hdrop-0.8_indrop-0.2_small_lstm_v4_0.001_random2\n"
     ]
    }
   ],
   "source": [
    "# CL LSTM\n",
    "config = {'model_name':'cl_lstm',\n",
    "        'model_config':'small_lstm_v4',\n",
    "        'learning_rate':0.001,\n",
    "        'exp_name':'random1',\n",
    "        'chkpt_dir': '../tf_ckpts'\n",
    "}\n",
    "hparams=get_model_params(task1, config['model_name'], config['model_config'])\n",
    "hparams.output_attentions = True\n",
    "hparams.output_embeddings = True\n",
    "\n",
    "random_cl_lstm_1, ckpt = get_model(config, task1, hparams, cl_token)\n",
    "\n",
    "config = {'model_name':'cl_lstm',\n",
    "        'model_config':'small_lstm_v4',\n",
    "        'learning_rate':0.001,\n",
    "        'exp_name':'random2',\n",
    "        'chkpt_dir': '../tf_ckpts'\n",
    "}\n",
    "hparams=get_model_params(task1, config['model_name'], config['model_config'])\n",
    "hparams.output_attentions = True\n",
    "hparams.output_embeddings = True\n",
    "\n",
    "random_cl_lstm_2, ckpt = get_model(config, task1, hparams, cl_token)\n",
    "\n",
    "\n",
    "models.extend([random_cl_lstm_1, random_cl_lstm_2])\n",
    "labels.extend(['random_cl_lstm_1', 'random_cl_lstm_2'])"
   ]
  },
  {
   "cell_type": "code",
   "execution_count": 6,
   "metadata": {},
   "outputs": [
    {
     "name": "stdout",
     "output_type": "stream",
     "text": [
      "model config: lstm_drop31_v2\n",
      "{'hidden_dim': 512, 'embedding_dim': 512, 'depth': 2, 'hidden_dropout_rate': 0.3, 'input_dropout_rate': 0.2}\n",
      "No checkpoint found ../tf_ckpts/sst2/cl_lstm_em-512_h-512_d-2_hdrop-0.3_indrop-0.2_lstm_drop31_v2_0.001_random1\n",
      "model config: lstm_drop31_v2\n",
      "{'hidden_dim': 512, 'embedding_dim': 512, 'depth': 2, 'hidden_dropout_rate': 0.3, 'input_dropout_rate': 0.2}\n",
      "No checkpoint found ../tf_ckpts/sst2/cl_lstm_em-512_h-512_d-2_hdrop-0.3_indrop-0.2_lstm_drop31_v2_0.001_random2\n"
     ]
    }
   ],
   "source": [
    "# CL LSTM BIG\n",
    "config = {'model_name':'cl_lstm',\n",
    "        'model_config':'lstm_drop31_v2',\n",
    "        'learning_rate':0.001,\n",
    "        'exp_name':'random1',\n",
    "        'chkpt_dir': '../tf_ckpts'\n",
    "}\n",
    "hparams=get_model_params(task1, config['model_name'], config['model_config'])\n",
    "hparams.output_attentions = True\n",
    "hparams.output_embeddings = True\n",
    "\n",
    "random_big_cl_lstm_1, ckpt = get_model(config, task1, hparams, cl_token)\n",
    "\n",
    "config = {'model_name':'cl_lstm',\n",
    "        'model_config':'lstm_drop31_v2',\n",
    "        'learning_rate':0.001,\n",
    "        'exp_name':'random2',\n",
    "        'chkpt_dir': '../tf_ckpts'\n",
    "}\n",
    "hparams=get_model_params(task1, config['model_name'], config['model_config'])\n",
    "hparams.output_attentions = True\n",
    "hparams.output_embeddings = True\n",
    "\n",
    "random_big_cl_lstm_2, ckpt = get_model(config, task1, hparams, cl_token)\n",
    "\n",
    "\n",
    "models.extend([random_big_cl_lstm_1, random_big_cl_lstm_2])\n",
    "labels.extend(['random_big_cl_lstm_1', 'random_big_cl_lstm_2'])"
   ]
  },
  {
   "cell_type": "code",
   "execution_count": 7,
   "metadata": {},
   "outputs": [
    {
     "name": "stdout",
     "output_type": "stream",
     "text": [
      "model config: small_gpt_v9\n",
      "{'embedding_dim': 128, 'resid_pdrop': 0.4, 'embd_pdrop': 0.2, 'attn_pdrop': 0.6, 'initializer_range': 0.05}\n",
      "No checkpoint found ../tf_ckpts/lm1b/lm_gpt2_h-128_d-6_rdrop-0.4_adrop-0.6_indrop-0.2_small_gpt_v9_0.001_random1\n",
      "model config: small_gpt_v9\n",
      "{'embedding_dim': 128, 'resid_pdrop': 0.4, 'embd_pdrop': 0.2, 'attn_pdrop': 0.6, 'initializer_range': 0.05}\n",
      "No checkpoint found ../tf_ckpts/lm1b/cl_bert_h-128_d-6_rdrop-0.4_adrop-0.6_indrop-0.2_small_gpt_v9_0.001_random2\n"
     ]
    }
   ],
   "source": [
    "# LM GPT2\n",
    "config = {'model_name':'lm_gpt2',\n",
    "        'model_config':'small_gpt_v9',\n",
    "        'learning_rate':0.001,\n",
    "        'exp_name':'random1',\n",
    "        'chkpt_dir': '../tf_ckpts'\n",
    "}\n",
    "hparams=get_model_params(task2, config['model_name'], config['model_config'])\n",
    "hparams.output_attentions = True\n",
    "hparams.output_embeddings = True\n",
    "\n",
    "random_lm_gpt2_1, ckpt = get_model(config, task2, hparams, cl_token)\n",
    "\n",
    "config = {'model_name':'cl_bert',\n",
    "        'model_config':'small_gpt_v9',\n",
    "        'learning_rate':0.001,\n",
    "        'exp_name':'random2',\n",
    "        'chkpt_dir': '../tf_ckpts'\n",
    "}\n",
    "hparams=get_model_params(task2, config['model_name'], config['model_config'])\n",
    "hparams.output_attentions = True\n",
    "hparams.output_embeddings = True\n",
    "\n",
    "random_lm_gpt2_2, ckpt = get_model(config, task2, hparams, cl_token)\n",
    "\n",
    "models.extend([random_lm_gpt2_1, random_lm_gpt2_2])\n",
    "labels.extend(['random_lm_gpt2_1', 'random_lm_gpt2_2'])"
   ]
  },
  {
   "cell_type": "code",
   "execution_count": 8,
   "metadata": {},
   "outputs": [
    {
     "name": "stdout",
     "output_type": "stream",
     "text": [
      "model config: small_gpt_v9\n",
      "{'embedding_dim': 128, 'resid_pdrop': 0.4, 'embd_pdrop': 0.2, 'attn_pdrop': 0.6, 'initializer_range': 0.05}\n",
      "No checkpoint found ../tf_ckpts/lm1b/lm_gpt2_h-128_d-6_rdrop-0.4_adrop-0.6_indrop-0.2_small_gpt_v9_0.001_random1\n",
      "model config: small_gpt_v9\n",
      "{'embedding_dim': 128, 'resid_pdrop': 0.4, 'embd_pdrop': 0.2, 'attn_pdrop': 0.6, 'initializer_range': 0.05}\n",
      "No checkpoint found ../tf_ckpts/lm1b/lm_gpt2_h-128_d-6_rdrop-0.4_adrop-0.6_indrop-0.2_small_gpt_v9_0.001_random2\n"
     ]
    }
   ],
   "source": [
    "# LM GPT2 Shared\n",
    "\n",
    "config = {'model_name':'lm_gpt2_shared',\n",
    "        'model_config':'small_gpt_v9',\n",
    "        'learning_rate':0.001,\n",
    "        'exp_name':'random1',\n",
    "        'chkpt_dir': '../tf_ckpts'\n",
    "}\n",
    "hparams=get_model_params(task2, config['model_name'], config['model_config'])\n",
    "hparams.output_attentions = True\n",
    "hparams.output_embeddings = True\n",
    "\n",
    "random_lm_gpt2_shared_1, ckpt = get_model(config, task2, hparams, cl_token)\n",
    "\n",
    "config = {'model_name':'lm_gpt2_shared',\n",
    "        'model_config':'small_gpt_v9',\n",
    "        'learning_rate':0.001,\n",
    "        'exp_name':'random2',\n",
    "        'chkpt_dir': '../tf_ckpts'\n",
    "}\n",
    "hparams=get_model_params(task2, config['model_name'], config['model_config'])\n",
    "hparams.output_attentions = True\n",
    "hparams.output_embeddings = True\n",
    "\n",
    "random_lm_gpt2_shared_2, ckpt = get_model(config, task2, hparams, cl_token)\n",
    "\n",
    "\n",
    "models.extend([random_lm_gpt2_shared_1, random_lm_gpt2_shared_2])\n",
    "labels.extend(['random_lm_gpt2_shared_1', 'random_lm_gpt2_shared_2'])"
   ]
  },
  {
   "cell_type": "code",
   "execution_count": 9,
   "metadata": {},
   "outputs": [
    {
     "name": "stdout",
     "output_type": "stream",
     "text": [
      "model config: small_lstm_v4\n",
      "{'hidden_dim': 256, 'embedding_dim': 256, 'depth': 2, 'hidden_dropout_rate': 0.8, 'input_dropout_rate': 0.2, 'initializer_range': 0.1}\n",
      "No checkpoint found ../tf_ckpts/lm1b/lm_lstm_shared_emb_em-256_h-256_d-2_hdrop-0.8_indrop-0.2_small_lstm_v4_0.001_random1\n",
      "model config: small_lstm_v4\n",
      "{'hidden_dim': 256, 'embedding_dim': 256, 'depth': 2, 'hidden_dropout_rate': 0.8, 'input_dropout_rate': 0.2, 'initializer_range': 0.1}\n",
      "No checkpoint found ../tf_ckpts/lm1b/cl_lstm_em-256_h-256_d-2_hdrop-0.8_indrop-0.2_small_lstm_v4_0.001_random2\n"
     ]
    }
   ],
   "source": [
    "# LM LSTM\n",
    "config = {'model_name':'lm_lstm_shared_emb',\n",
    "        'model_config':'small_lstm_v4',\n",
    "        'learning_rate':0.001,\n",
    "        'exp_name':'random1',\n",
    "        'chkpt_dir': '../tf_ckpts'\n",
    "}\n",
    "hparams=get_model_params(task2, config['model_name'], config['model_config'])\n",
    "hparams.output_attentions = True\n",
    "hparams.output_embeddings = True\n",
    "\n",
    "random_lm_lstm_1, ckpt = get_model(config, task2, hparams, cl_token)\n",
    "\n",
    "config = {'model_name':'cl_lstm',\n",
    "        'model_config':'small_lstm_v4',\n",
    "        'learning_rate':0.001,\n",
    "        'exp_name':'random2',\n",
    "        'chkpt_dir': '../tf_ckpts'\n",
    "}\n",
    "hparams=get_model_params(task2, config['model_name'], config['model_config'])\n",
    "hparams.output_attentions = True\n",
    "hparams.output_embeddings = True\n",
    "\n",
    "random_lm_lstm_2, ckpt = get_model(config, task2, hparams, cl_token)\n",
    "\n",
    "\n",
    "models.extend([random_lm_lstm_1, random_lm_lstm_2])\n",
    "labels.extend(['random_lm_lstm_1', 'random_lm_lstm_2'])"
   ]
  },
  {
   "cell_type": "code",
   "execution_count": 10,
   "metadata": {},
   "outputs": [
    {
     "name": "stdout",
     "output_type": "stream",
     "text": [
      "model config: lstm_drop31_v2\n",
      "{'hidden_dim': 512, 'embedding_dim': 512, 'depth': 2, 'hidden_dropout_rate': 0.3, 'input_dropout_rate': 0.2}\n",
      "No checkpoint found ../tf_ckpts/lm1b/lm_lstm_em-512_h-512_d-2_hdrop-0.3_indrop-0.2_lstm_drop31_v2_0.001_random1\n",
      "model config: lstm_drop31_v2\n",
      "{'hidden_dim': 512, 'embedding_dim': 512, 'depth': 2, 'hidden_dropout_rate': 0.3, 'input_dropout_rate': 0.2}\n",
      "No checkpoint found ../tf_ckpts/lm1b/cl_lstm_em-512_h-512_d-2_hdrop-0.3_indrop-0.2_lstm_drop31_v2_0.001_random2\n"
     ]
    }
   ],
   "source": [
    "# Big LM LSTM\n",
    "config = {'model_name':'lm_lstm',\n",
    "        'model_config':'lstm_drop31_v2',\n",
    "        'learning_rate':0.001,\n",
    "        'exp_name':'random1',\n",
    "        'chkpt_dir': '../tf_ckpts'\n",
    "}\n",
    "hparams=get_model_params(task2, config['model_name'], config['model_config'])\n",
    "hparams.output_attentions = True\n",
    "hparams.output_embeddings = True\n",
    "\n",
    "random_big_lm_lstm_1, ckpt = get_model(config, task2, hparams, cl_token)\n",
    "\n",
    "config = {'model_name':'cl_lstm',\n",
    "        'model_config':'lstm_drop31_v2',\n",
    "        'learning_rate':0.001,\n",
    "        'exp_name':'random2',\n",
    "        'chkpt_dir': '../tf_ckpts'\n",
    "}\n",
    "hparams=get_model_params(task2, config['model_name'], config['model_config'])\n",
    "hparams.output_attentions = True\n",
    "hparams.output_embeddings = True\n",
    "\n",
    "random_big_lm_lstm_2, ckpt = get_model(config, task2, hparams, cl_token)\n",
    "\n",
    "\n",
    "models.extend([random_big_lm_lstm_1, random_big_lm_lstm_2])\n",
    "labels.extend(['random_big_lm_lstm_1', 'random_big_lm_lstm_2'])"
   ]
  },
  {
   "cell_type": "code",
   "execution_count": 11,
   "metadata": {},
   "outputs": [],
   "source": [
    "@tf.function\n",
    "def get_outputs(model, x):\n",
    "  outputs = model.detailed_call(x, training=tf.convert_to_tensor(True))\n",
    "  logits, reps = outputs[0], outputs[model.rep_index]\n",
    "  if model.rep_layer is not None:\n",
    "    reps = reps[model.rep_layer]\n",
    "\n",
    "  return reps, logits"
   ]
  },
  {
   "cell_type": "code",
   "execution_count": 12,
   "metadata": {},
   "outputs": [
    {
     "name": "stdout",
     "output_type": "stream",
     "text": [
      "WARNING:tensorflow:Large dropout rate: 0.8 (>0.5). In TensorFlow 2.x, dropout() uses dropout rate instead of keep_prob. Please ensure that this is intended.\n"
     ]
    },
    {
     "name": "stderr",
     "output_type": "stream",
     "text": [
      "WARNING:tensorflow:Large dropout rate: 0.8 (>0.5). In TensorFlow 2.x, dropout() uses dropout rate instead of keep_prob. Please ensure that this is intended.\n"
     ]
    },
    {
     "name": "stdout",
     "output_type": "stream",
     "text": [
      "WARNING:tensorflow:Large dropout rate: 0.8 (>0.5). In TensorFlow 2.x, dropout() uses dropout rate instead of keep_prob. Please ensure that this is intended.\n"
     ]
    },
    {
     "name": "stderr",
     "output_type": "stream",
     "text": [
      "WARNING:tensorflow:Large dropout rate: 0.8 (>0.5). In TensorFlow 2.x, dropout() uses dropout rate instead of keep_prob. Please ensure that this is intended.\n"
     ]
    },
    {
     "name": "stdout",
     "output_type": "stream",
     "text": [
      "WARNING:tensorflow:Large dropout rate: 0.8 (>0.5). In TensorFlow 2.x, dropout() uses dropout rate instead of keep_prob. Please ensure that this is intended.\n"
     ]
    },
    {
     "name": "stderr",
     "output_type": "stream",
     "text": [
      "WARNING:tensorflow:Large dropout rate: 0.8 (>0.5). In TensorFlow 2.x, dropout() uses dropout rate instead of keep_prob. Please ensure that this is intended.\n"
     ]
    },
    {
     "name": "stdout",
     "output_type": "stream",
     "text": [
      "WARNING:tensorflow:Large dropout rate: 0.8 (>0.5). In TensorFlow 2.x, dropout() uses dropout rate instead of keep_prob. Please ensure that this is intended.\n"
     ]
    },
    {
     "name": "stderr",
     "output_type": "stream",
     "text": [
      "WARNING:tensorflow:Large dropout rate: 0.8 (>0.5). In TensorFlow 2.x, dropout() uses dropout rate instead of keep_prob. Please ensure that this is intended.\n"
     ]
    },
    {
     "name": "stdout",
     "output_type": "stream",
     "text": [
      "WARNING:tensorflow:Large dropout rate: 0.8 (>0.5). In TensorFlow 2.x, dropout() uses dropout rate instead of keep_prob. Please ensure that this is intended.\n"
     ]
    },
    {
     "name": "stderr",
     "output_type": "stream",
     "text": [
      "WARNING:tensorflow:Large dropout rate: 0.8 (>0.5). In TensorFlow 2.x, dropout() uses dropout rate instead of keep_prob. Please ensure that this is intended.\n"
     ]
    },
    {
     "name": "stdout",
     "output_type": "stream",
     "text": [
      "WARNING:tensorflow:Large dropout rate: 0.8 (>0.5). In TensorFlow 2.x, dropout() uses dropout rate instead of keep_prob. Please ensure that this is intended.\n"
     ]
    },
    {
     "name": "stderr",
     "output_type": "stream",
     "text": [
      "WARNING:tensorflow:Large dropout rate: 0.8 (>0.5). In TensorFlow 2.x, dropout() uses dropout rate instead of keep_prob. Please ensure that this is intended.\n"
     ]
    },
    {
     "name": "stdout",
     "output_type": "stream",
     "text": [
      "WARNING:tensorflow:Large dropout rate: 0.8 (>0.5). In TensorFlow 2.x, dropout() uses dropout rate instead of keep_prob. Please ensure that this is intended.\n"
     ]
    },
    {
     "name": "stderr",
     "output_type": "stream",
     "text": [
      "WARNING:tensorflow:Large dropout rate: 0.8 (>0.5). In TensorFlow 2.x, dropout() uses dropout rate instead of keep_prob. Please ensure that this is intended.\n"
     ]
    },
    {
     "name": "stdout",
     "output_type": "stream",
     "text": [
      "WARNING:tensorflow:Large dropout rate: 0.8 (>0.5). In TensorFlow 2.x, dropout() uses dropout rate instead of keep_prob. Please ensure that this is intended.\n"
     ]
    },
    {
     "name": "stderr",
     "output_type": "stream",
     "text": [
      "WARNING:tensorflow:Large dropout rate: 0.8 (>0.5). In TensorFlow 2.x, dropout() uses dropout rate instead of keep_prob. Please ensure that this is intended.\n"
     ]
    },
    {
     "name": "stdout",
     "output_type": "stream",
     "text": [
      "WARNING:tensorflow:Large dropout rate: 0.8 (>0.5). In TensorFlow 2.x, dropout() uses dropout rate instead of keep_prob. Please ensure that this is intended.\n"
     ]
    },
    {
     "name": "stderr",
     "output_type": "stream",
     "text": [
      "WARNING:tensorflow:Large dropout rate: 0.8 (>0.5). In TensorFlow 2.x, dropout() uses dropout rate instead of keep_prob. Please ensure that this is intended.\n"
     ]
    },
    {
     "name": "stdout",
     "output_type": "stream",
     "text": [
      "WARNING:tensorflow:Large dropout rate: 0.8 (>0.5). In TensorFlow 2.x, dropout() uses dropout rate instead of keep_prob. Please ensure that this is intended.\n"
     ]
    },
    {
     "name": "stderr",
     "output_type": "stream",
     "text": [
      "WARNING:tensorflow:Large dropout rate: 0.8 (>0.5). In TensorFlow 2.x, dropout() uses dropout rate instead of keep_prob. Please ensure that this is intended.\n"
     ]
    }
   ],
   "source": [
    "task = task2\n",
    "\n",
    "reploss_dic = {}\n",
    "for l1 in labels:\n",
    "    reploss_dic[l1] = {}\n",
    "    for l2 in labels:\n",
    "        reploss_dic[l1][l2] = []\n",
    "        \n",
    "num_batches = 0\n",
    "for x, y in task.valid_dataset:\n",
    "    reps = []\n",
    "    for m in models:\n",
    "        outputs = get_outputs(random_cl_lstm_2, x)\n",
    "        reps.append(outputs[0])\n",
    "    for i in np.arange(len(labels)):\n",
    "        for j in np.arange(i, len(labels)):\n",
    "            reploss = rep_loss(reps1=reps[i], reps2=reps[j],\n",
    "                                 padding_symbol=tf.constant(task.input_padding_symbol, dtype=tf.int64),\n",
    "                                 inputs=x)\n",
    "            reploss_dic[labels[i]][labels[j]].append(reploss)\n",
    "            if i != j:\n",
    "                reploss_dic[labels[j]][labels[i]].append(reploss)\n",
    "    num_batches += 1\n",
    "\n",
    "    if num_batches > 20:\n",
    "        break"
   ]
  },
  {
   "cell_type": "code",
   "execution_count": 13,
   "metadata": {},
   "outputs": [
    {
     "name": "stdout",
     "output_type": "stream",
     "text": [
      "random_cl_bert_1 random_cl_bert_1 21 0.0\n",
      "random_cl_bert_1 random_cl_bert_2 21 0.77402276\n",
      "random_cl_bert_1 random_cl_bert_shared_1 21 0.7722398\n",
      "random_cl_bert_1 random_cl_bert_shared_2 21 0.77365476\n",
      "random_cl_bert_1 random_cl_lstm_1 21 0.7763284\n",
      "random_cl_bert_1 random_cl_lstm_2 21 0.77410036\n",
      "random_cl_bert_1 random_big_cl_lstm_1 21 0.7733453\n",
      "random_cl_bert_1 random_big_cl_lstm_2 21 0.7712563\n",
      "random_cl_bert_1 random_lm_gpt2_1 21 0.7716585\n",
      "random_cl_bert_1 random_lm_gpt2_2 21 0.77240455\n",
      "random_cl_bert_1 random_lm_gpt2_shared_1 21 0.77654296\n",
      "random_cl_bert_1 random_lm_gpt2_shared_2 21 0.77410364\n",
      "random_cl_bert_1 random_lm_lstm_1 21 0.77310723\n",
      "random_cl_bert_1 random_lm_lstm_2 21 0.7737052\n",
      "random_cl_bert_1 random_big_lm_lstm_1 21 0.7749053\n",
      "random_cl_bert_1 random_big_lm_lstm_2 21 0.77173334\n",
      "random_cl_bert_2 random_cl_bert_1 21 0.77402276\n",
      "random_cl_bert_2 random_cl_bert_2 21 0.0\n",
      "random_cl_bert_2 random_cl_bert_shared_1 21 0.77591944\n",
      "random_cl_bert_2 random_cl_bert_shared_2 21 0.7737179\n",
      "random_cl_bert_2 random_cl_lstm_1 21 0.77408653\n",
      "random_cl_bert_2 random_cl_lstm_2 21 0.7752526\n",
      "random_cl_bert_2 random_big_cl_lstm_1 21 0.7748048\n",
      "random_cl_bert_2 random_big_cl_lstm_2 21 0.7712019\n",
      "random_cl_bert_2 random_lm_gpt2_1 21 0.77291024\n",
      "random_cl_bert_2 random_lm_gpt2_2 21 0.7750007\n",
      "random_cl_bert_2 random_lm_gpt2_shared_1 21 0.77652097\n",
      "random_cl_bert_2 random_lm_gpt2_shared_2 21 0.7748099\n",
      "random_cl_bert_2 random_lm_lstm_1 21 0.7777223\n",
      "random_cl_bert_2 random_lm_lstm_2 21 0.775296\n",
      "random_cl_bert_2 random_big_lm_lstm_1 21 0.77505463\n",
      "random_cl_bert_2 random_big_lm_lstm_2 21 0.7780158\n",
      "random_cl_bert_shared_1 random_cl_bert_1 21 0.7722398\n",
      "random_cl_bert_shared_1 random_cl_bert_2 21 0.77591944\n",
      "random_cl_bert_shared_1 random_cl_bert_shared_1 21 0.0\n",
      "random_cl_bert_shared_1 random_cl_bert_shared_2 21 0.77373713\n",
      "random_cl_bert_shared_1 random_cl_lstm_1 21 0.7748898\n",
      "random_cl_bert_shared_1 random_cl_lstm_2 21 0.7746858\n",
      "random_cl_bert_shared_1 random_big_cl_lstm_1 21 0.7762917\n",
      "random_cl_bert_shared_1 random_big_cl_lstm_2 21 0.7737532\n",
      "random_cl_bert_shared_1 random_lm_gpt2_1 21 0.7719678\n",
      "random_cl_bert_shared_1 random_lm_gpt2_2 21 0.7747157\n",
      "random_cl_bert_shared_1 random_lm_gpt2_shared_1 21 0.7782626\n",
      "random_cl_bert_shared_1 random_lm_gpt2_shared_2 21 0.77544564\n",
      "random_cl_bert_shared_1 random_lm_lstm_1 21 0.77434015\n",
      "random_cl_bert_shared_1 random_lm_lstm_2 21 0.77168113\n",
      "random_cl_bert_shared_1 random_big_lm_lstm_1 21 0.77884746\n",
      "random_cl_bert_shared_1 random_big_lm_lstm_2 21 0.7761801\n",
      "random_cl_bert_shared_2 random_cl_bert_1 21 0.77365476\n",
      "random_cl_bert_shared_2 random_cl_bert_2 21 0.7737179\n",
      "random_cl_bert_shared_2 random_cl_bert_shared_1 21 0.77373713\n",
      "random_cl_bert_shared_2 random_cl_bert_shared_2 21 0.0\n",
      "random_cl_bert_shared_2 random_cl_lstm_1 21 0.77513266\n",
      "random_cl_bert_shared_2 random_cl_lstm_2 21 0.77630925\n",
      "random_cl_bert_shared_2 random_big_cl_lstm_1 21 0.7749038\n",
      "random_cl_bert_shared_2 random_big_cl_lstm_2 21 0.77180433\n",
      "random_cl_bert_shared_2 random_lm_gpt2_1 21 0.77809405\n",
      "random_cl_bert_shared_2 random_lm_gpt2_2 21 0.776376\n",
      "random_cl_bert_shared_2 random_lm_gpt2_shared_1 21 0.77656794\n",
      "random_cl_bert_shared_2 random_lm_gpt2_shared_2 21 0.7765513\n",
      "random_cl_bert_shared_2 random_lm_lstm_1 21 0.77777535\n",
      "random_cl_bert_shared_2 random_lm_lstm_2 21 0.77677727\n",
      "random_cl_bert_shared_2 random_big_lm_lstm_1 21 0.77695066\n",
      "random_cl_bert_shared_2 random_big_lm_lstm_2 21 0.7751262\n",
      "random_cl_lstm_1 random_cl_bert_1 21 0.7763284\n",
      "random_cl_lstm_1 random_cl_bert_2 21 0.77408653\n",
      "random_cl_lstm_1 random_cl_bert_shared_1 21 0.7748898\n",
      "random_cl_lstm_1 random_cl_bert_shared_2 21 0.77513266\n",
      "random_cl_lstm_1 random_cl_lstm_1 21 0.0\n",
      "random_cl_lstm_1 random_cl_lstm_2 21 0.7729877\n",
      "random_cl_lstm_1 random_big_cl_lstm_1 21 0.7711027\n",
      "random_cl_lstm_1 random_big_cl_lstm_2 21 0.77093214\n",
      "random_cl_lstm_1 random_lm_gpt2_1 21 0.77554804\n",
      "random_cl_lstm_1 random_lm_gpt2_2 21 0.77439225\n",
      "random_cl_lstm_1 random_lm_gpt2_shared_1 21 0.77611744\n",
      "random_cl_lstm_1 random_lm_gpt2_shared_2 21 0.77643013\n",
      "random_cl_lstm_1 random_lm_lstm_1 21 0.7752415\n",
      "random_cl_lstm_1 random_lm_lstm_2 21 0.7734701\n",
      "random_cl_lstm_1 random_big_lm_lstm_1 21 0.77555305\n",
      "random_cl_lstm_1 random_big_lm_lstm_2 21 0.77482\n",
      "random_cl_lstm_2 random_cl_bert_1 21 0.77410036\n",
      "random_cl_lstm_2 random_cl_bert_2 21 0.7752526\n",
      "random_cl_lstm_2 random_cl_bert_shared_1 21 0.7746858\n",
      "random_cl_lstm_2 random_cl_bert_shared_2 21 0.77630925\n",
      "random_cl_lstm_2 random_cl_lstm_1 21 0.7729877\n",
      "random_cl_lstm_2 random_cl_lstm_2 21 0.0\n",
      "random_cl_lstm_2 random_big_cl_lstm_1 21 0.7735852\n",
      "random_cl_lstm_2 random_big_cl_lstm_2 21 0.77153796\n",
      "random_cl_lstm_2 random_lm_gpt2_1 21 0.7764447\n",
      "random_cl_lstm_2 random_lm_gpt2_2 21 0.77366\n",
      "random_cl_lstm_2 random_lm_gpt2_shared_1 21 0.77636683\n",
      "random_cl_lstm_2 random_lm_gpt2_shared_2 21 0.7727252\n",
      "random_cl_lstm_2 random_lm_lstm_1 21 0.77553225\n",
      "random_cl_lstm_2 random_lm_lstm_2 21 0.7722562\n",
      "random_cl_lstm_2 random_big_lm_lstm_1 21 0.7737891\n",
      "random_cl_lstm_2 random_big_lm_lstm_2 21 0.7755349\n",
      "random_big_cl_lstm_1 random_cl_bert_1 21 0.7733453\n",
      "random_big_cl_lstm_1 random_cl_bert_2 21 0.7748048\n",
      "random_big_cl_lstm_1 random_cl_bert_shared_1 21 0.7762917\n",
      "random_big_cl_lstm_1 random_cl_bert_shared_2 21 0.7749038\n",
      "random_big_cl_lstm_1 random_cl_lstm_1 21 0.7711027\n",
      "random_big_cl_lstm_1 random_cl_lstm_2 21 0.7735852\n",
      "random_big_cl_lstm_1 random_big_cl_lstm_1 21 0.0\n",
      "random_big_cl_lstm_1 random_big_cl_lstm_2 21 0.7750324\n",
      "random_big_cl_lstm_1 random_lm_gpt2_1 21 0.7755805\n",
      "random_big_cl_lstm_1 random_lm_gpt2_2 21 0.77602404\n",
      "random_big_cl_lstm_1 random_lm_gpt2_shared_1 21 0.77602094\n",
      "random_big_cl_lstm_1 random_lm_gpt2_shared_2 21 0.7759691\n",
      "random_big_cl_lstm_1 random_lm_lstm_1 21 0.77337253\n",
      "random_big_cl_lstm_1 random_lm_lstm_2 21 0.77500015\n",
      "random_big_cl_lstm_1 random_big_lm_lstm_1 21 0.77397853\n",
      "random_big_cl_lstm_1 random_big_lm_lstm_2 21 0.7752446\n",
      "random_big_cl_lstm_2 random_cl_bert_1 21 0.7712563\n",
      "random_big_cl_lstm_2 random_cl_bert_2 21 0.7712019\n",
      "random_big_cl_lstm_2 random_cl_bert_shared_1 21 0.7737532\n",
      "random_big_cl_lstm_2 random_cl_bert_shared_2 21 0.77180433\n",
      "random_big_cl_lstm_2 random_cl_lstm_1 21 0.77093214\n",
      "random_big_cl_lstm_2 random_cl_lstm_2 21 0.77153796\n",
      "random_big_cl_lstm_2 random_big_cl_lstm_1 21 0.7750324\n",
      "random_big_cl_lstm_2 random_big_cl_lstm_2 21 0.0\n",
      "random_big_cl_lstm_2 random_lm_gpt2_1 21 0.7736173\n",
      "random_big_cl_lstm_2 random_lm_gpt2_2 21 0.7728818\n",
      "random_big_cl_lstm_2 random_lm_gpt2_shared_1 21 0.77374506\n",
      "random_big_cl_lstm_2 random_lm_gpt2_shared_2 21 0.77676845\n",
      "random_big_cl_lstm_2 random_lm_lstm_1 21 0.7764076\n",
      "random_big_cl_lstm_2 random_lm_lstm_2 21 0.7735098\n",
      "random_big_cl_lstm_2 random_big_lm_lstm_1 21 0.7737762\n",
      "random_big_cl_lstm_2 random_big_lm_lstm_2 21 0.7748132\n",
      "random_lm_gpt2_1 random_cl_bert_1 21 0.7716585\n",
      "random_lm_gpt2_1 random_cl_bert_2 21 0.77291024\n",
      "random_lm_gpt2_1 random_cl_bert_shared_1 21 0.7719678\n",
      "random_lm_gpt2_1 random_cl_bert_shared_2 21 0.77809405\n",
      "random_lm_gpt2_1 random_cl_lstm_1 21 0.77554804\n",
      "random_lm_gpt2_1 random_cl_lstm_2 21 0.7764447\n",
      "random_lm_gpt2_1 random_big_cl_lstm_1 21 0.7755805\n",
      "random_lm_gpt2_1 random_big_cl_lstm_2 21 0.7736173\n",
      "random_lm_gpt2_1 random_lm_gpt2_1 21 0.0\n",
      "random_lm_gpt2_1 random_lm_gpt2_2 21 0.77658606\n",
      "random_lm_gpt2_1 random_lm_gpt2_shared_1 21 0.77691257\n",
      "random_lm_gpt2_1 random_lm_gpt2_shared_2 21 0.7749845\n",
      "random_lm_gpt2_1 random_lm_lstm_1 21 0.77650976\n",
      "random_lm_gpt2_1 random_lm_lstm_2 21 0.7739515\n",
      "random_lm_gpt2_1 random_big_lm_lstm_1 21 0.77749455\n",
      "random_lm_gpt2_1 random_big_lm_lstm_2 21 0.7768382\n",
      "random_lm_gpt2_2 random_cl_bert_1 21 0.77240455\n",
      "random_lm_gpt2_2 random_cl_bert_2 21 0.7750007\n",
      "random_lm_gpt2_2 random_cl_bert_shared_1 21 0.7747157\n",
      "random_lm_gpt2_2 random_cl_bert_shared_2 21 0.776376\n",
      "random_lm_gpt2_2 random_cl_lstm_1 21 0.77439225\n",
      "random_lm_gpt2_2 random_cl_lstm_2 21 0.77366\n",
      "random_lm_gpt2_2 random_big_cl_lstm_1 21 0.77602404\n",
      "random_lm_gpt2_2 random_big_cl_lstm_2 21 0.7728818\n",
      "random_lm_gpt2_2 random_lm_gpt2_1 21 0.77658606\n",
      "random_lm_gpt2_2 random_lm_gpt2_2 21 0.0\n",
      "random_lm_gpt2_2 random_lm_gpt2_shared_1 21 0.77676326\n",
      "random_lm_gpt2_2 random_lm_gpt2_shared_2 21 0.77680445\n",
      "random_lm_gpt2_2 random_lm_lstm_1 21 0.7759036\n",
      "random_lm_gpt2_2 random_lm_lstm_2 21 0.7750071\n",
      "random_lm_gpt2_2 random_big_lm_lstm_1 21 0.77503616\n",
      "random_lm_gpt2_2 random_big_lm_lstm_2 21 0.7781932\n",
      "random_lm_gpt2_shared_1 random_cl_bert_1 21 0.77654296\n",
      "random_lm_gpt2_shared_1 random_cl_bert_2 21 0.77652097\n",
      "random_lm_gpt2_shared_1 random_cl_bert_shared_1 21 0.7782626\n",
      "random_lm_gpt2_shared_1 random_cl_bert_shared_2 21 0.77656794\n",
      "random_lm_gpt2_shared_1 random_cl_lstm_1 21 0.77611744\n",
      "random_lm_gpt2_shared_1 random_cl_lstm_2 21 0.77636683\n",
      "random_lm_gpt2_shared_1 random_big_cl_lstm_1 21 0.77602094\n",
      "random_lm_gpt2_shared_1 random_big_cl_lstm_2 21 0.77374506\n",
      "random_lm_gpt2_shared_1 random_lm_gpt2_1 21 0.77691257\n",
      "random_lm_gpt2_shared_1 random_lm_gpt2_2 21 0.77676326\n",
      "random_lm_gpt2_shared_1 random_lm_gpt2_shared_1 21 0.0\n",
      "random_lm_gpt2_shared_1 random_lm_gpt2_shared_2 21 0.77818424\n",
      "random_lm_gpt2_shared_1 random_lm_lstm_1 21 0.7779481\n",
      "random_lm_gpt2_shared_1 random_lm_lstm_2 21 0.77370197\n",
      "random_lm_gpt2_shared_1 random_big_lm_lstm_1 21 0.7776019\n",
      "random_lm_gpt2_shared_1 random_big_lm_lstm_2 21 0.77854556\n",
      "random_lm_gpt2_shared_2 random_cl_bert_1 21 0.77410364\n",
      "random_lm_gpt2_shared_2 random_cl_bert_2 21 0.7748099\n",
      "random_lm_gpt2_shared_2 random_cl_bert_shared_1 21 0.77544564\n",
      "random_lm_gpt2_shared_2 random_cl_bert_shared_2 21 0.7765513\n",
      "random_lm_gpt2_shared_2 random_cl_lstm_1 21 0.77643013\n",
      "random_lm_gpt2_shared_2 random_cl_lstm_2 21 0.7727252\n",
      "random_lm_gpt2_shared_2 random_big_cl_lstm_1 21 0.7759691\n",
      "random_lm_gpt2_shared_2 random_big_cl_lstm_2 21 0.77676845\n",
      "random_lm_gpt2_shared_2 random_lm_gpt2_1 21 0.7749845\n",
      "random_lm_gpt2_shared_2 random_lm_gpt2_2 21 0.77680445\n",
      "random_lm_gpt2_shared_2 random_lm_gpt2_shared_1 21 0.77818424\n",
      "random_lm_gpt2_shared_2 random_lm_gpt2_shared_2 21 0.0\n",
      "random_lm_gpt2_shared_2 random_lm_lstm_1 21 0.7724679\n",
      "random_lm_gpt2_shared_2 random_lm_lstm_2 21 0.7752417\n",
      "random_lm_gpt2_shared_2 random_big_lm_lstm_1 21 0.7793929\n",
      "random_lm_gpt2_shared_2 random_big_lm_lstm_2 21 0.77737\n",
      "random_lm_lstm_1 random_cl_bert_1 21 0.77310723\n",
      "random_lm_lstm_1 random_cl_bert_2 21 0.7777223\n",
      "random_lm_lstm_1 random_cl_bert_shared_1 21 0.77434015\n",
      "random_lm_lstm_1 random_cl_bert_shared_2 21 0.77777535\n",
      "random_lm_lstm_1 random_cl_lstm_1 21 0.7752415\n",
      "random_lm_lstm_1 random_cl_lstm_2 21 0.77553225\n",
      "random_lm_lstm_1 random_big_cl_lstm_1 21 0.77337253\n",
      "random_lm_lstm_1 random_big_cl_lstm_2 21 0.7764076\n",
      "random_lm_lstm_1 random_lm_gpt2_1 21 0.77650976\n",
      "random_lm_lstm_1 random_lm_gpt2_2 21 0.7759036\n",
      "random_lm_lstm_1 random_lm_gpt2_shared_1 21 0.7779481\n",
      "random_lm_lstm_1 random_lm_gpt2_shared_2 21 0.7724679\n",
      "random_lm_lstm_1 random_lm_lstm_1 21 0.0\n",
      "random_lm_lstm_1 random_lm_lstm_2 21 0.7725424\n",
      "random_lm_lstm_1 random_big_lm_lstm_1 21 0.77729136\n",
      "random_lm_lstm_1 random_big_lm_lstm_2 21 0.7736123\n",
      "random_lm_lstm_2 random_cl_bert_1 21 0.7737052\n",
      "random_lm_lstm_2 random_cl_bert_2 21 0.775296\n",
      "random_lm_lstm_2 random_cl_bert_shared_1 21 0.77168113\n",
      "random_lm_lstm_2 random_cl_bert_shared_2 21 0.77677727\n",
      "random_lm_lstm_2 random_cl_lstm_1 21 0.7734701\n",
      "random_lm_lstm_2 random_cl_lstm_2 21 0.7722562\n",
      "random_lm_lstm_2 random_big_cl_lstm_1 21 0.77500015\n",
      "random_lm_lstm_2 random_big_cl_lstm_2 21 0.7735098\n",
      "random_lm_lstm_2 random_lm_gpt2_1 21 0.7739515\n",
      "random_lm_lstm_2 random_lm_gpt2_2 21 0.7750071\n",
      "random_lm_lstm_2 random_lm_gpt2_shared_1 21 0.77370197\n",
      "random_lm_lstm_2 random_lm_gpt2_shared_2 21 0.7752417\n",
      "random_lm_lstm_2 random_lm_lstm_1 21 0.7725424\n",
      "random_lm_lstm_2 random_lm_lstm_2 21 0.0\n",
      "random_lm_lstm_2 random_big_lm_lstm_1 21 0.77489835\n",
      "random_lm_lstm_2 random_big_lm_lstm_2 21 0.7750603\n",
      "random_big_lm_lstm_1 random_cl_bert_1 21 0.7749053\n",
      "random_big_lm_lstm_1 random_cl_bert_2 21 0.77505463\n",
      "random_big_lm_lstm_1 random_cl_bert_shared_1 21 0.77884746\n",
      "random_big_lm_lstm_1 random_cl_bert_shared_2 21 0.77695066\n",
      "random_big_lm_lstm_1 random_cl_lstm_1 21 0.77555305\n",
      "random_big_lm_lstm_1 random_cl_lstm_2 21 0.7737891\n",
      "random_big_lm_lstm_1 random_big_cl_lstm_1 21 0.77397853\n",
      "random_big_lm_lstm_1 random_big_cl_lstm_2 21 0.7737762\n",
      "random_big_lm_lstm_1 random_lm_gpt2_1 21 0.77749455\n",
      "random_big_lm_lstm_1 random_lm_gpt2_2 21 0.77503616\n",
      "random_big_lm_lstm_1 random_lm_gpt2_shared_1 21 0.7776019\n",
      "random_big_lm_lstm_1 random_lm_gpt2_shared_2 21 0.7793929\n",
      "random_big_lm_lstm_1 random_lm_lstm_1 21 0.77729136\n",
      "random_big_lm_lstm_1 random_lm_lstm_2 21 0.77489835\n",
      "random_big_lm_lstm_1 random_big_lm_lstm_1 21 0.0\n",
      "random_big_lm_lstm_1 random_big_lm_lstm_2 21 0.7765572\n",
      "random_big_lm_lstm_2 random_cl_bert_1 21 0.77173334\n",
      "random_big_lm_lstm_2 random_cl_bert_2 21 0.7780158\n",
      "random_big_lm_lstm_2 random_cl_bert_shared_1 21 0.7761801\n",
      "random_big_lm_lstm_2 random_cl_bert_shared_2 21 0.7751262\n",
      "random_big_lm_lstm_2 random_cl_lstm_1 21 0.77482\n",
      "random_big_lm_lstm_2 random_cl_lstm_2 21 0.7755349\n",
      "random_big_lm_lstm_2 random_big_cl_lstm_1 21 0.7752446\n",
      "random_big_lm_lstm_2 random_big_cl_lstm_2 21 0.7748132\n",
      "random_big_lm_lstm_2 random_lm_gpt2_1 21 0.7768382\n",
      "random_big_lm_lstm_2 random_lm_gpt2_2 21 0.7781932\n",
      "random_big_lm_lstm_2 random_lm_gpt2_shared_1 21 0.77854556\n",
      "random_big_lm_lstm_2 random_lm_gpt2_shared_2 21 0.77737\n",
      "random_big_lm_lstm_2 random_lm_lstm_1 21 0.7736123\n",
      "random_big_lm_lstm_2 random_lm_lstm_2 21 0.7750603\n",
      "random_big_lm_lstm_2 random_big_lm_lstm_1 21 0.7765572\n",
      "random_big_lm_lstm_2 random_big_lm_lstm_2 21 0.0\n"
     ]
    }
   ],
   "source": [
    "for l1 in reploss_dic.keys():\n",
    "    for l2 in  reploss_dic[l1].keys():\n",
    "        print(l1, l2, len(reploss_dic[l1][l2]), np.mean(reploss_dic[l1][l2]))"
   ]
  },
  {
   "cell_type": "code",
   "execution_count": null,
   "metadata": {},
   "outputs": [],
   "source": []
  }
 ],
 "metadata": {
  "kernelspec": {
   "display_name": "Python 3",
   "language": "python",
   "name": "python3"
  },
  "language_info": {
   "codemirror_mode": {
    "name": "ipython",
    "version": 3
   },
   "file_extension": ".py",
   "mimetype": "text/x-python",
   "name": "python",
   "nbconvert_exporter": "python",
   "pygments_lexer": "ipython3",
   "version": "3.7.4"
  }
 },
 "nbformat": 4,
 "nbformat_minor": 4
}
