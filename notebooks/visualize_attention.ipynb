{
 "cells": [
  {
   "cell_type": "code",
   "execution_count": 3,
   "metadata": {},
   "outputs": [],
   "source": [
    "import os\n",
    "import tensorflow as tf\n",
    "from util import constants\n",
    "from util.config_util import get_model_params, get_task_params, get_train_params\n",
    "from tf2_models.trainer import Trainer\n",
    "from absl import app\n",
    "from absl import flags\n",
    "\n",
    "from util.models import MODELS\n",
    "from util.tasks import TASKS\n",
    "\n",
    "%matplotlib inline\n",
    "import pandas as pd\n",
    "import seaborn as sns; sns.set()"
   ]
  },
  {
   "cell_type": "code",
   "execution_count": 4,
   "metadata": {},
   "outputs": [],
   "source": [
    "student_exp_name='samira_fd1'\n",
    "teacher_exp_name='0.0001_offlineteacher_v3'\n",
    "teacher_config='small_lstm_v4'\n",
    "task_name = 'word_sv_agreement_vp'\n",
    "student_model='cl_gpt2'\n",
    "teacher_model='cl_lstm'\n",
    "student_config='small_gpt_v9'\n",
    "distill_config='pure_distill_2'\n",
    "distill_mode='offline'\n",
    "\n",
    "chkpt_dir='../tf_ckpts'"
   ]
  },
  {
   "cell_type": "code",
   "execution_count": 5,
   "metadata": {},
   "outputs": [
    {
     "name": "stdout",
     "output_type": "stream",
     "text": [
      "Vocab len:  10034\n"
     ]
    }
   ],
   "source": [
    "task = TASKS[task_name](get_task_params(), data_dir='../data')"
   ]
  },
  {
   "cell_type": "code",
   "execution_count": 6,
   "metadata": {},
   "outputs": [
    {
     "name": "stdout",
     "output_type": "stream",
     "text": [
      "model config: small_lstm_v4\n",
      "{'hidden_dim': 256, 'embedding_dim': 256, 'depth': 2, 'hidden_dropout_rate': 0.8, 'input_dropout_rate': 0.2, 'initializer_range': 0.1}\n",
      "model config: small_gpt_v9\n",
      "{'embedding_dim': 128, 'resid_pdrop': 0.4, 'embd_pdrop': 0.2, 'attn_pdrop': 0.6, 'initializer_range': 0.05}\n"
     ]
    }
   ],
   "source": [
    "cl_token = task.databuilder.sentence_encoder().encode(constants.bos)\n",
    "teacher_model = MODELS[teacher_model](hparams=get_model_params(task, teacher_model, teacher_config), cl_token=cl_token)\n",
    "std_hparams=get_model_params(task, student_model, student_config)\n",
    "std_hparams.output_attentions = True\n",
    "std_hparams.output_embeddings = True\n",
    "student_model = MODELS[student_model](\n",
    "std_hparams, cl_token=cl_token)"
   ]
  },
  {
   "cell_type": "code",
   "execution_count": 7,
   "metadata": {},
   "outputs": [
    {
     "name": "stdout",
     "output_type": "stream",
     "text": [
      "../tf_ckpts/word_sv_agreement_vp/offline_pure_distill_2_teacher_cl_lstm_em-256_h-256_d-2_hdrop-0.8_indrop-0.2_0.0001_offlineteacher_v3_student_cl_gpt2_h-128_d-6_rdrop-0.4_adrop-0.6_indrop-0.2_small_gpt_v9_samira_fd1\n"
     ]
    }
   ],
   "source": [
    "student_ckpt_dir = os.path.join(chkpt_dir, task.name,\n",
    "                              '_'.join([distill_mode,distill_config,\n",
    "                                        \"teacher\", teacher_model.model_name, \n",
    "                                        #teacher_config,\n",
    "                                        teacher_exp_name,\n",
    "                                       \"student\",student_model.model_name,\n",
    "                                        str(student_config),\n",
    "                                        student_exp_name]))\n",
    "print(student_ckpt_dir)"
   ]
  },
  {
   "cell_type": "code",
   "execution_count": 8,
   "metadata": {},
   "outputs": [
    {
     "name": "stdout",
     "output_type": "stream",
     "text": [
      "Restored student from ../tf_ckpts/word_sv_agreement_vp/offline_pure_distill_2_teacher_cl_lstm_em-256_h-256_d-2_hdrop-0.8_indrop-0.2_0.0001_offlineteacher_v3_student_cl_gpt2_h-128_d-6_rdrop-0.4_adrop-0.6_indrop-0.2_small_gpt_v9_samira_fd1/ckpt-60\n"
     ]
    }
   ],
   "source": [
    "student_ckpt = tf.train.Checkpoint(net=student_model)\n",
    "student_manager = tf.train.CheckpointManager(student_ckpt, student_ckpt_dir, max_to_keep=None)\n",
    "\n",
    "student_ckpt.restore(student_manager.latest_checkpoint)\n",
    "if student_manager.latest_checkpoint:\n",
    "  print(\"Restored student from {}\".format(student_manager.latest_checkpoint))"
   ]
  },
  {
   "cell_type": "code",
   "execution_count": null,
   "metadata": {},
   "outputs": [],
   "source": [
    "student_model.compile(loss=task.get_loss_fn(), metrics=task.metrics())"
   ]
  },
  {
   "cell_type": "code",
   "execution_count": null,
   "metadata": {},
   "outputs": [],
   "source": [
    "student_model.evaluate(task.test_dataset, steps=100)"
   ]
  },
  {
   "cell_type": "code",
   "execution_count": null,
   "metadata": {},
   "outputs": [],
   "source": [
    "test_iter  = iter(task.test_dataset)"
   ]
  },
  {
   "cell_type": "code",
   "execution_count": null,
   "metadata": {},
   "outputs": [],
   "source": [
    "examples_x, examples_y = next(test_iter)\n",
    "student_logits = student_model(examples_x)"
   ]
  },
  {
   "cell_type": "code",
   "execution_count": 1,
   "metadata": {},
   "outputs": [
    {
     "data": {
      "application/javascript": [
       "require.config({\n",
       "  paths: {\n",
       "      d3: '//cdnjs.cloudflare.com/ajax/libs/d3/3.4.8/d3.min',\n",
       "      jquery: '//ajax.googleapis.com/ajax/libs/jquery/2.0.0/jquery.min',\n",
       "  }\n",
       "});\n"
      ],
      "text/plain": [
       "<IPython.core.display.Javascript object>"
      ]
     },
     "metadata": {},
     "output_type": "display_data"
    }
   ],
   "source": [
    "%%javascript\n",
    "require.config({\n",
    "  paths: {\n",
    "      d3: '//cdnjs.cloudflare.com/ajax/libs/d3/3.4.8/d3.min',\n",
    "      jquery: '//ajax.googleapis.com/ajax/libs/jquery/2.0.0/jquery.min',\n",
    "  }\n",
    "});"
   ]
  },
  {
   "cell_type": "code",
   "execution_count": 2,
   "metadata": {},
   "outputs": [
    {
     "ename": "NameError",
     "evalue": "name 'examples_x' is not defined",
     "output_type": "error",
     "traceback": [
      "\u001b[0;31m---------------------------------------------------------------------------\u001b[0m",
      "\u001b[0;31mNameError\u001b[0m                                 Traceback (most recent call last)",
      "\u001b[0;32m<ipython-input-2-b28539e86171>\u001b[0m in \u001b[0;36m<module>\u001b[0;34m\u001b[0m\n\u001b[1;32m      3\u001b[0m \u001b[0;34m\u001b[0m\u001b[0m\n\u001b[1;32m      4\u001b[0m \u001b[0mindex\u001b[0m\u001b[0;34m=\u001b[0m\u001b[0;36m16\u001b[0m\u001b[0;34m\u001b[0m\u001b[0;34m\u001b[0m\u001b[0m\n\u001b[0;32m----> 5\u001b[0;31m \u001b[0mexample\u001b[0m \u001b[0;34m=\u001b[0m \u001b[0mexamples_x\u001b[0m\u001b[0;34m[\u001b[0m\u001b[0mindex\u001b[0m\u001b[0;34m]\u001b[0m\u001b[0;34m\u001b[0m\u001b[0;34m\u001b[0m\u001b[0m\n\u001b[0m\u001b[1;32m      6\u001b[0m \u001b[0msentence\u001b[0m \u001b[0;34m=\u001b[0m \u001b[0mtask\u001b[0m\u001b[0;34m.\u001b[0m\u001b[0mdatabuilder\u001b[0m\u001b[0;34m.\u001b[0m\u001b[0msentence_encoder\u001b[0m\u001b[0;34m(\u001b[0m\u001b[0;34m)\u001b[0m\u001b[0;34m.\u001b[0m\u001b[0mdecode\u001b[0m\u001b[0;34m(\u001b[0m\u001b[0mexample\u001b[0m\u001b[0;34m)\u001b[0m\u001b[0;34m\u001b[0m\u001b[0;34m\u001b[0m\u001b[0m\n\u001b[1;32m      7\u001b[0m \u001b[0mprint\u001b[0m\u001b[0;34m(\u001b[0m\u001b[0msentence\u001b[0m\u001b[0;34m)\u001b[0m\u001b[0;34m\u001b[0m\u001b[0;34m\u001b[0m\u001b[0m\n",
      "\u001b[0;31mNameError\u001b[0m: name 'examples_x' is not defined"
     ]
    }
   ],
   "source": [
    "from attention import *\n",
    "%matplotlib inline\n",
    "\n",
    "index=16\n",
    "example = examples_x[index]\n",
    "sentence = task.databuilder.sentence_encoder().decode(example)\n",
    "print(sentence)\n",
    "print(student_logits[index])\n",
    "print(examples_y[index])\n",
    "logits, (extra) = student_model.detailed_call(examples_x)\n",
    "last_state, presents, attentions, embeddings = extra\n",
    "\n",
    "_attentions = [att.numpy() for att in attentions]\n",
    "attentions_mat = np.asarray(_attentions)[:,index]\n",
    "print(attentions_mat.shape)\n",
    "print(embeddings.shape)\n",
    "show(sentence.split(), sentence.split(), attentions_mat)"
   ]
  },
  {
   "cell_type": "code",
   "execution_count": 3,
   "metadata": {},
   "outputs": [
    {
     "ename": "NameError",
     "evalue": "name 'task' is not defined",
     "output_type": "error",
     "traceback": [
      "\u001b[0;31m---------------------------------------------------------------------------\u001b[0m",
      "\u001b[0;31mNameError\u001b[0m                                 Traceback (most recent call last)",
      "\u001b[0;32m<ipython-input-3-2f4b48953283>\u001b[0m in \u001b[0;36m<module>\u001b[0;34m\u001b[0m\n\u001b[1;32m      6\u001b[0m \u001b[0;34m\u001b[0m\u001b[0m\n\u001b[1;32m      7\u001b[0m \u001b[0;31m#'<bos> the boys who play football with the old man <eos>'\u001b[0m\u001b[0;34m\u001b[0m\u001b[0;34m\u001b[0m\u001b[0;34m\u001b[0m\u001b[0m\n\u001b[0;32m----> 8\u001b[0;31m \u001b[0mencoded_sentence\u001b[0m \u001b[0;34m=\u001b[0m \u001b[0mtask\u001b[0m\u001b[0;34m.\u001b[0m\u001b[0mdatabuilder\u001b[0m\u001b[0;34m.\u001b[0m\u001b[0msentence_encoder\u001b[0m\u001b[0;34m(\u001b[0m\u001b[0;34m)\u001b[0m\u001b[0;34m.\u001b[0m\u001b[0mencode\u001b[0m\u001b[0;34m(\u001b[0m\u001b[0msentence\u001b[0m\u001b[0;34m)\u001b[0m\u001b[0;34m\u001b[0m\u001b[0;34m\u001b[0m\u001b[0m\n\u001b[0m\u001b[1;32m      9\u001b[0m \u001b[0mlogits\u001b[0m\u001b[0;34m,\u001b[0m \u001b[0mextra\u001b[0m \u001b[0;34m=\u001b[0m \u001b[0mstudent_model\u001b[0m\u001b[0;34m.\u001b[0m\u001b[0mdetailed_call\u001b[0m\u001b[0;34m(\u001b[0m\u001b[0mnp\u001b[0m\u001b[0;34m.\u001b[0m\u001b[0masarray\u001b[0m\u001b[0;34m(\u001b[0m\u001b[0;34m[\u001b[0m\u001b[0mencoded_sentence\u001b[0m\u001b[0;34m]\u001b[0m\u001b[0;34m)\u001b[0m\u001b[0;34m)\u001b[0m\u001b[0;34m\u001b[0m\u001b[0;34m\u001b[0m\u001b[0m\n\u001b[1;32m     10\u001b[0m \u001b[0mlast_state\u001b[0m\u001b[0;34m,\u001b[0m \u001b[0mpresents\u001b[0m\u001b[0;34m,\u001b[0m \u001b[0mattentions\u001b[0m\u001b[0;34m,\u001b[0m \u001b[0membeddings\u001b[0m \u001b[0;34m=\u001b[0m \u001b[0mextra\u001b[0m\u001b[0;34m\u001b[0m\u001b[0;34m\u001b[0m\u001b[0m\n",
      "\u001b[0;31mNameError\u001b[0m: name 'task' is not defined"
     ]
    }
   ],
   "source": [
    "from attention import *\n",
    "%matplotlib inline\n",
    "\n",
    "index=0\n",
    "sentence =  '<bos> the young girl who plays with the older kids <eos>'\n",
    "\n",
    "#'<bos> the boys who play football with the old man <eos>'\n",
    "encoded_sentence = task.databuilder.sentence_encoder().encode(sentence)\n",
    "logits, extra = student_model.detailed_call(np.asarray([encoded_sentence]))\n",
    "last_state, presents, attentions, embeddings = extra\n",
    "print(student_logits[index])\n",
    "_attentions = [att.numpy() for att in attentions]\n",
    "attentions_mat = np.asarray(_attentions)[:,index]\n",
    "print(attentions_mat.shape)\n",
    "show(sentence.split(), sentence.split(), attentions_mat)\n",
    "student_attentions = attentions_mat"
   ]
  },
  {
   "cell_type": "code",
   "execution_count": 15,
   "metadata": {},
   "outputs": [
    {
     "name": "stdout",
     "output_type": "stream",
     "text": [
      "Restored student from ../tf_ckpts/word_sv_agreement_vp/cl_lstm_em-256_h-256_d-2_hdrop-0.8_indrop-0.2_small_lstm_v4_0.0001_offlineteacher_v3/ckpt-60\n"
     ]
    }
   ],
   "source": [
    "teacher_ckpt_dir = os.path.join(chkpt_dir, task.name,\n",
    "                                  '_'.join([teacher_model.model_name, teacher_config,teacher_exp_name]))\n",
    "\n",
    "teacher_ckpt = tf.train.Checkpoint(net=teacher_model)\n",
    "teacher_manager = tf.train.CheckpointManager(teacher_ckpt, teacher_ckpt_dir, max_to_keep=None)\n",
    "\n",
    "teacher_ckpt.restore(teacher_manager.latest_checkpoint)\n",
    "if teacher_manager.latest_checkpoint:\n",
    "  print(\"Restored student from {}\".format(teacher_manager.latest_checkpoint))"
   ]
  },
  {
   "cell_type": "code",
   "execution_count": 16,
   "metadata": {},
   "outputs": [],
   "source": [
    "teacher_model.compile(loss=task.get_loss_fn(), metrics=task.metrics())"
   ]
  },
  {
   "cell_type": "code",
   "execution_count": 29,
   "metadata": {},
   "outputs": [
    {
     "name": "stdout",
     "output_type": "stream",
     "text": [
      "tf.Tensor([ 2.3365955 -2.1648035], shape=(2,), dtype=float32)\n"
     ]
    }
   ],
   "source": [
    "index=0\n",
    "sentence =  '<bos> the young girl who plays with the older kids <eos>'\n",
    "#'<bos> the boys who play football with the old man <eos>'\n",
    "encoded_sentence = task.databuilder.sentence_encoder().encode(sentence)\n",
    "teacher_logits = teacher_model(np.asarray([encoded_sentence]))\n",
    "print(teacher_logits[index])\n"
   ]
  },
  {
   "cell_type": "code",
   "execution_count": 20,
   "metadata": {},
   "outputs": [
    {
     "name": "stdout",
     "output_type": "stream",
     "text": [
      "model config: small_gpt_v9\n",
      "{'embedding_dim': 128, 'resid_pdrop': 0.4, 'embd_pdrop': 0.2, 'attn_pdrop': 0.6, 'initializer_range': 0.05}\n",
      "Restored student from ../tf_ckpts/word_sv_agreement_vp/cl_gpt2_h-128_d-6_rdrop-0.4_adrop-0.6_indrop-0.2_small_gpt_v9_0.0001_offlineteacher_v1/ckpt-60\n",
      "WARNING:tensorflow:Unresolved object in checkpoint: (root).step\n"
     ]
    },
    {
     "name": "stderr",
     "output_type": "stream",
     "text": [
      "WARNING:tensorflow:Unresolved object in checkpoint: (root).step\n"
     ]
    },
    {
     "name": "stdout",
     "output_type": "stream",
     "text": [
      "WARNING:tensorflow:Unresolved object in checkpoint: (root).optimizer.iter\n"
     ]
    },
    {
     "name": "stderr",
     "output_type": "stream",
     "text": [
      "WARNING:tensorflow:Unresolved object in checkpoint: (root).optimizer.iter\n"
     ]
    },
    {
     "name": "stdout",
     "output_type": "stream",
     "text": [
      "WARNING:tensorflow:Unresolved object in checkpoint: (root).optimizer.beta_1\n"
     ]
    },
    {
     "name": "stderr",
     "output_type": "stream",
     "text": [
      "WARNING:tensorflow:Unresolved object in checkpoint: (root).optimizer.beta_1\n"
     ]
    },
    {
     "name": "stdout",
     "output_type": "stream",
     "text": [
      "WARNING:tensorflow:Unresolved object in checkpoint: (root).optimizer.beta_2\n"
     ]
    },
    {
     "name": "stderr",
     "output_type": "stream",
     "text": [
      "WARNING:tensorflow:Unresolved object in checkpoint: (root).optimizer.beta_2\n"
     ]
    },
    {
     "name": "stdout",
     "output_type": "stream",
     "text": [
      "WARNING:tensorflow:Unresolved object in checkpoint: (root).optimizer.decay\n"
     ]
    },
    {
     "name": "stderr",
     "output_type": "stream",
     "text": [
      "WARNING:tensorflow:Unresolved object in checkpoint: (root).optimizer.decay\n"
     ]
    },
    {
     "name": "stdout",
     "output_type": "stream",
     "text": [
      "WARNING:tensorflow:Unresolved object in checkpoint: (root).optimizer's state 'm' for (root).net.e2c.kernel\n"
     ]
    },
    {
     "name": "stderr",
     "output_type": "stream",
     "text": [
      "WARNING:tensorflow:Unresolved object in checkpoint: (root).optimizer's state 'm' for (root).net.e2c.kernel\n"
     ]
    },
    {
     "name": "stdout",
     "output_type": "stream",
     "text": [
      "WARNING:tensorflow:Unresolved object in checkpoint: (root).optimizer's state 'm' for (root).net.e2c.bias\n"
     ]
    },
    {
     "name": "stderr",
     "output_type": "stream",
     "text": [
      "WARNING:tensorflow:Unresolved object in checkpoint: (root).optimizer's state 'm' for (root).net.e2c.bias\n"
     ]
    },
    {
     "name": "stdout",
     "output_type": "stream",
     "text": [
      "WARNING:tensorflow:Unresolved object in checkpoint: (root).optimizer's state 'm' for (root).net.transformer.wte.weight\n"
     ]
    },
    {
     "name": "stderr",
     "output_type": "stream",
     "text": [
      "WARNING:tensorflow:Unresolved object in checkpoint: (root).optimizer's state 'm' for (root).net.transformer.wte.weight\n"
     ]
    },
    {
     "name": "stdout",
     "output_type": "stream",
     "text": [
      "WARNING:tensorflow:Unresolved object in checkpoint: (root).optimizer's state 'm' for (root).net.transformer.wpe.embeddings\n"
     ]
    },
    {
     "name": "stderr",
     "output_type": "stream",
     "text": [
      "WARNING:tensorflow:Unresolved object in checkpoint: (root).optimizer's state 'm' for (root).net.transformer.wpe.embeddings\n"
     ]
    },
    {
     "name": "stdout",
     "output_type": "stream",
     "text": [
      "WARNING:tensorflow:Unresolved object in checkpoint: (root).optimizer's state 'm' for (root).net.transformer.ln_f.gamma\n"
     ]
    },
    {
     "name": "stderr",
     "output_type": "stream",
     "text": [
      "WARNING:tensorflow:Unresolved object in checkpoint: (root).optimizer's state 'm' for (root).net.transformer.ln_f.gamma\n"
     ]
    },
    {
     "name": "stdout",
     "output_type": "stream",
     "text": [
      "WARNING:tensorflow:Unresolved object in checkpoint: (root).optimizer's state 'm' for (root).net.transformer.ln_f.beta\n"
     ]
    },
    {
     "name": "stderr",
     "output_type": "stream",
     "text": [
      "WARNING:tensorflow:Unresolved object in checkpoint: (root).optimizer's state 'm' for (root).net.transformer.ln_f.beta\n"
     ]
    },
    {
     "name": "stdout",
     "output_type": "stream",
     "text": [
      "WARNING:tensorflow:Unresolved object in checkpoint: (root).optimizer's state 'm' for (root).net.transformer.h.0.ln_1.gamma\n"
     ]
    },
    {
     "name": "stderr",
     "output_type": "stream",
     "text": [
      "WARNING:tensorflow:Unresolved object in checkpoint: (root).optimizer's state 'm' for (root).net.transformer.h.0.ln_1.gamma\n"
     ]
    },
    {
     "name": "stdout",
     "output_type": "stream",
     "text": [
      "WARNING:tensorflow:Unresolved object in checkpoint: (root).optimizer's state 'm' for (root).net.transformer.h.0.ln_1.beta\n"
     ]
    },
    {
     "name": "stderr",
     "output_type": "stream",
     "text": [
      "WARNING:tensorflow:Unresolved object in checkpoint: (root).optimizer's state 'm' for (root).net.transformer.h.0.ln_1.beta\n"
     ]
    },
    {
     "name": "stdout",
     "output_type": "stream",
     "text": [
      "WARNING:tensorflow:Unresolved object in checkpoint: (root).optimizer's state 'm' for (root).net.transformer.h.0.ln_2.gamma\n"
     ]
    },
    {
     "name": "stderr",
     "output_type": "stream",
     "text": [
      "WARNING:tensorflow:Unresolved object in checkpoint: (root).optimizer's state 'm' for (root).net.transformer.h.0.ln_2.gamma\n"
     ]
    },
    {
     "name": "stdout",
     "output_type": "stream",
     "text": [
      "WARNING:tensorflow:Unresolved object in checkpoint: (root).optimizer's state 'm' for (root).net.transformer.h.0.ln_2.beta\n"
     ]
    },
    {
     "name": "stderr",
     "output_type": "stream",
     "text": [
      "WARNING:tensorflow:Unresolved object in checkpoint: (root).optimizer's state 'm' for (root).net.transformer.h.0.ln_2.beta\n"
     ]
    },
    {
     "name": "stdout",
     "output_type": "stream",
     "text": [
      "WARNING:tensorflow:Unresolved object in checkpoint: (root).optimizer's state 'm' for (root).net.transformer.h.1.ln_1.gamma\n"
     ]
    },
    {
     "name": "stderr",
     "output_type": "stream",
     "text": [
      "WARNING:tensorflow:Unresolved object in checkpoint: (root).optimizer's state 'm' for (root).net.transformer.h.1.ln_1.gamma\n"
     ]
    },
    {
     "name": "stdout",
     "output_type": "stream",
     "text": [
      "WARNING:tensorflow:Unresolved object in checkpoint: (root).optimizer's state 'm' for (root).net.transformer.h.1.ln_1.beta\n"
     ]
    },
    {
     "name": "stderr",
     "output_type": "stream",
     "text": [
      "WARNING:tensorflow:Unresolved object in checkpoint: (root).optimizer's state 'm' for (root).net.transformer.h.1.ln_1.beta\n"
     ]
    },
    {
     "name": "stdout",
     "output_type": "stream",
     "text": [
      "WARNING:tensorflow:Unresolved object in checkpoint: (root).optimizer's state 'm' for (root).net.transformer.h.1.ln_2.gamma\n"
     ]
    },
    {
     "name": "stderr",
     "output_type": "stream",
     "text": [
      "WARNING:tensorflow:Unresolved object in checkpoint: (root).optimizer's state 'm' for (root).net.transformer.h.1.ln_2.gamma\n"
     ]
    },
    {
     "name": "stdout",
     "output_type": "stream",
     "text": [
      "WARNING:tensorflow:Unresolved object in checkpoint: (root).optimizer's state 'm' for (root).net.transformer.h.1.ln_2.beta\n"
     ]
    },
    {
     "name": "stderr",
     "output_type": "stream",
     "text": [
      "WARNING:tensorflow:Unresolved object in checkpoint: (root).optimizer's state 'm' for (root).net.transformer.h.1.ln_2.beta\n"
     ]
    },
    {
     "name": "stdout",
     "output_type": "stream",
     "text": [
      "WARNING:tensorflow:Unresolved object in checkpoint: (root).optimizer's state 'm' for (root).net.transformer.h.2.ln_1.gamma\n"
     ]
    },
    {
     "name": "stderr",
     "output_type": "stream",
     "text": [
      "WARNING:tensorflow:Unresolved object in checkpoint: (root).optimizer's state 'm' for (root).net.transformer.h.2.ln_1.gamma\n"
     ]
    },
    {
     "name": "stdout",
     "output_type": "stream",
     "text": [
      "WARNING:tensorflow:Unresolved object in checkpoint: (root).optimizer's state 'm' for (root).net.transformer.h.2.ln_1.beta\n"
     ]
    },
    {
     "name": "stderr",
     "output_type": "stream",
     "text": [
      "WARNING:tensorflow:Unresolved object in checkpoint: (root).optimizer's state 'm' for (root).net.transformer.h.2.ln_1.beta\n"
     ]
    },
    {
     "name": "stdout",
     "output_type": "stream",
     "text": [
      "WARNING:tensorflow:Unresolved object in checkpoint: (root).optimizer's state 'm' for (root).net.transformer.h.2.ln_2.gamma\n"
     ]
    },
    {
     "name": "stderr",
     "output_type": "stream",
     "text": [
      "WARNING:tensorflow:Unresolved object in checkpoint: (root).optimizer's state 'm' for (root).net.transformer.h.2.ln_2.gamma\n"
     ]
    },
    {
     "name": "stdout",
     "output_type": "stream",
     "text": [
      "WARNING:tensorflow:Unresolved object in checkpoint: (root).optimizer's state 'm' for (root).net.transformer.h.2.ln_2.beta\n"
     ]
    },
    {
     "name": "stderr",
     "output_type": "stream",
     "text": [
      "WARNING:tensorflow:Unresolved object in checkpoint: (root).optimizer's state 'm' for (root).net.transformer.h.2.ln_2.beta\n"
     ]
    },
    {
     "name": "stdout",
     "output_type": "stream",
     "text": [
      "WARNING:tensorflow:Unresolved object in checkpoint: (root).optimizer's state 'm' for (root).net.transformer.h.3.ln_1.gamma\n"
     ]
    },
    {
     "name": "stderr",
     "output_type": "stream",
     "text": [
      "WARNING:tensorflow:Unresolved object in checkpoint: (root).optimizer's state 'm' for (root).net.transformer.h.3.ln_1.gamma\n"
     ]
    },
    {
     "name": "stdout",
     "output_type": "stream",
     "text": [
      "WARNING:tensorflow:Unresolved object in checkpoint: (root).optimizer's state 'm' for (root).net.transformer.h.3.ln_1.beta\n"
     ]
    },
    {
     "name": "stderr",
     "output_type": "stream",
     "text": [
      "WARNING:tensorflow:Unresolved object in checkpoint: (root).optimizer's state 'm' for (root).net.transformer.h.3.ln_1.beta\n"
     ]
    },
    {
     "name": "stdout",
     "output_type": "stream",
     "text": [
      "WARNING:tensorflow:Unresolved object in checkpoint: (root).optimizer's state 'm' for (root).net.transformer.h.3.ln_2.gamma\n"
     ]
    },
    {
     "name": "stderr",
     "output_type": "stream",
     "text": [
      "WARNING:tensorflow:Unresolved object in checkpoint: (root).optimizer's state 'm' for (root).net.transformer.h.3.ln_2.gamma\n"
     ]
    },
    {
     "name": "stdout",
     "output_type": "stream",
     "text": [
      "WARNING:tensorflow:Unresolved object in checkpoint: (root).optimizer's state 'm' for (root).net.transformer.h.3.ln_2.beta\n"
     ]
    },
    {
     "name": "stderr",
     "output_type": "stream",
     "text": [
      "WARNING:tensorflow:Unresolved object in checkpoint: (root).optimizer's state 'm' for (root).net.transformer.h.3.ln_2.beta\n"
     ]
    },
    {
     "name": "stdout",
     "output_type": "stream",
     "text": [
      "WARNING:tensorflow:Unresolved object in checkpoint: (root).optimizer's state 'm' for (root).net.transformer.h.4.ln_1.gamma\n"
     ]
    },
    {
     "name": "stderr",
     "output_type": "stream",
     "text": [
      "WARNING:tensorflow:Unresolved object in checkpoint: (root).optimizer's state 'm' for (root).net.transformer.h.4.ln_1.gamma\n"
     ]
    },
    {
     "name": "stdout",
     "output_type": "stream",
     "text": [
      "WARNING:tensorflow:Unresolved object in checkpoint: (root).optimizer's state 'm' for (root).net.transformer.h.4.ln_1.beta\n"
     ]
    },
    {
     "name": "stderr",
     "output_type": "stream",
     "text": [
      "WARNING:tensorflow:Unresolved object in checkpoint: (root).optimizer's state 'm' for (root).net.transformer.h.4.ln_1.beta\n"
     ]
    },
    {
     "name": "stdout",
     "output_type": "stream",
     "text": [
      "WARNING:tensorflow:Unresolved object in checkpoint: (root).optimizer's state 'm' for (root).net.transformer.h.4.ln_2.gamma\n"
     ]
    },
    {
     "name": "stderr",
     "output_type": "stream",
     "text": [
      "WARNING:tensorflow:Unresolved object in checkpoint: (root).optimizer's state 'm' for (root).net.transformer.h.4.ln_2.gamma\n"
     ]
    },
    {
     "name": "stdout",
     "output_type": "stream",
     "text": [
      "WARNING:tensorflow:Unresolved object in checkpoint: (root).optimizer's state 'm' for (root).net.transformer.h.4.ln_2.beta\n"
     ]
    },
    {
     "name": "stderr",
     "output_type": "stream",
     "text": [
      "WARNING:tensorflow:Unresolved object in checkpoint: (root).optimizer's state 'm' for (root).net.transformer.h.4.ln_2.beta\n"
     ]
    },
    {
     "name": "stdout",
     "output_type": "stream",
     "text": [
      "WARNING:tensorflow:Unresolved object in checkpoint: (root).optimizer's state 'm' for (root).net.transformer.h.5.ln_1.gamma\n"
     ]
    },
    {
     "name": "stderr",
     "output_type": "stream",
     "text": [
      "WARNING:tensorflow:Unresolved object in checkpoint: (root).optimizer's state 'm' for (root).net.transformer.h.5.ln_1.gamma\n"
     ]
    },
    {
     "name": "stdout",
     "output_type": "stream",
     "text": [
      "WARNING:tensorflow:Unresolved object in checkpoint: (root).optimizer's state 'm' for (root).net.transformer.h.5.ln_1.beta\n"
     ]
    },
    {
     "name": "stderr",
     "output_type": "stream",
     "text": [
      "WARNING:tensorflow:Unresolved object in checkpoint: (root).optimizer's state 'm' for (root).net.transformer.h.5.ln_1.beta\n"
     ]
    },
    {
     "name": "stdout",
     "output_type": "stream",
     "text": [
      "WARNING:tensorflow:Unresolved object in checkpoint: (root).optimizer's state 'm' for (root).net.transformer.h.5.ln_2.gamma\n"
     ]
    },
    {
     "name": "stderr",
     "output_type": "stream",
     "text": [
      "WARNING:tensorflow:Unresolved object in checkpoint: (root).optimizer's state 'm' for (root).net.transformer.h.5.ln_2.gamma\n"
     ]
    },
    {
     "name": "stdout",
     "output_type": "stream",
     "text": [
      "WARNING:tensorflow:Unresolved object in checkpoint: (root).optimizer's state 'm' for (root).net.transformer.h.5.ln_2.beta\n"
     ]
    },
    {
     "name": "stderr",
     "output_type": "stream",
     "text": [
      "WARNING:tensorflow:Unresolved object in checkpoint: (root).optimizer's state 'm' for (root).net.transformer.h.5.ln_2.beta\n"
     ]
    },
    {
     "name": "stdout",
     "output_type": "stream",
     "text": [
      "WARNING:tensorflow:Unresolved object in checkpoint: (root).optimizer's state 'm' for (root).net.transformer.h.0.attn.c_attn.weight\n"
     ]
    },
    {
     "name": "stderr",
     "output_type": "stream",
     "text": [
      "WARNING:tensorflow:Unresolved object in checkpoint: (root).optimizer's state 'm' for (root).net.transformer.h.0.attn.c_attn.weight\n"
     ]
    },
    {
     "name": "stdout",
     "output_type": "stream",
     "text": [
      "WARNING:tensorflow:Unresolved object in checkpoint: (root).optimizer's state 'm' for (root).net.transformer.h.0.attn.c_attn.bias\n"
     ]
    },
    {
     "name": "stderr",
     "output_type": "stream",
     "text": [
      "WARNING:tensorflow:Unresolved object in checkpoint: (root).optimizer's state 'm' for (root).net.transformer.h.0.attn.c_attn.bias\n"
     ]
    },
    {
     "name": "stdout",
     "output_type": "stream",
     "text": [
      "WARNING:tensorflow:Unresolved object in checkpoint: (root).optimizer's state 'm' for (root).net.transformer.h.0.attn.c_proj.weight\n"
     ]
    },
    {
     "name": "stderr",
     "output_type": "stream",
     "text": [
      "WARNING:tensorflow:Unresolved object in checkpoint: (root).optimizer's state 'm' for (root).net.transformer.h.0.attn.c_proj.weight\n"
     ]
    },
    {
     "name": "stdout",
     "output_type": "stream",
     "text": [
      "WARNING:tensorflow:Unresolved object in checkpoint: (root).optimizer's state 'm' for (root).net.transformer.h.0.attn.c_proj.bias\n"
     ]
    },
    {
     "name": "stderr",
     "output_type": "stream",
     "text": [
      "WARNING:tensorflow:Unresolved object in checkpoint: (root).optimizer's state 'm' for (root).net.transformer.h.0.attn.c_proj.bias\n"
     ]
    },
    {
     "name": "stdout",
     "output_type": "stream",
     "text": [
      "WARNING:tensorflow:Unresolved object in checkpoint: (root).optimizer's state 'm' for (root).net.transformer.h.0.mlp.c_fc.weight\n"
     ]
    },
    {
     "name": "stderr",
     "output_type": "stream",
     "text": [
      "WARNING:tensorflow:Unresolved object in checkpoint: (root).optimizer's state 'm' for (root).net.transformer.h.0.mlp.c_fc.weight\n"
     ]
    },
    {
     "name": "stdout",
     "output_type": "stream",
     "text": [
      "WARNING:tensorflow:Unresolved object in checkpoint: (root).optimizer's state 'm' for (root).net.transformer.h.0.mlp.c_fc.bias\n"
     ]
    },
    {
     "name": "stderr",
     "output_type": "stream",
     "text": [
      "WARNING:tensorflow:Unresolved object in checkpoint: (root).optimizer's state 'm' for (root).net.transformer.h.0.mlp.c_fc.bias\n"
     ]
    },
    {
     "name": "stdout",
     "output_type": "stream",
     "text": [
      "WARNING:tensorflow:Unresolved object in checkpoint: (root).optimizer's state 'm' for (root).net.transformer.h.0.mlp.c_proj.weight\n"
     ]
    },
    {
     "name": "stderr",
     "output_type": "stream",
     "text": [
      "WARNING:tensorflow:Unresolved object in checkpoint: (root).optimizer's state 'm' for (root).net.transformer.h.0.mlp.c_proj.weight\n"
     ]
    },
    {
     "name": "stdout",
     "output_type": "stream",
     "text": [
      "WARNING:tensorflow:Unresolved object in checkpoint: (root).optimizer's state 'm' for (root).net.transformer.h.0.mlp.c_proj.bias\n"
     ]
    },
    {
     "name": "stderr",
     "output_type": "stream",
     "text": [
      "WARNING:tensorflow:Unresolved object in checkpoint: (root).optimizer's state 'm' for (root).net.transformer.h.0.mlp.c_proj.bias\n"
     ]
    },
    {
     "name": "stdout",
     "output_type": "stream",
     "text": [
      "WARNING:tensorflow:Unresolved object in checkpoint: (root).optimizer's state 'm' for (root).net.transformer.h.1.attn.c_attn.weight\n"
     ]
    },
    {
     "name": "stderr",
     "output_type": "stream",
     "text": [
      "WARNING:tensorflow:Unresolved object in checkpoint: (root).optimizer's state 'm' for (root).net.transformer.h.1.attn.c_attn.weight\n"
     ]
    },
    {
     "name": "stdout",
     "output_type": "stream",
     "text": [
      "WARNING:tensorflow:Unresolved object in checkpoint: (root).optimizer's state 'm' for (root).net.transformer.h.1.attn.c_attn.bias\n"
     ]
    },
    {
     "name": "stderr",
     "output_type": "stream",
     "text": [
      "WARNING:tensorflow:Unresolved object in checkpoint: (root).optimizer's state 'm' for (root).net.transformer.h.1.attn.c_attn.bias\n"
     ]
    },
    {
     "name": "stdout",
     "output_type": "stream",
     "text": [
      "WARNING:tensorflow:Unresolved object in checkpoint: (root).optimizer's state 'm' for (root).net.transformer.h.1.attn.c_proj.weight\n"
     ]
    },
    {
     "name": "stderr",
     "output_type": "stream",
     "text": [
      "WARNING:tensorflow:Unresolved object in checkpoint: (root).optimizer's state 'm' for (root).net.transformer.h.1.attn.c_proj.weight\n"
     ]
    },
    {
     "name": "stdout",
     "output_type": "stream",
     "text": [
      "WARNING:tensorflow:Unresolved object in checkpoint: (root).optimizer's state 'm' for (root).net.transformer.h.1.attn.c_proj.bias\n"
     ]
    },
    {
     "name": "stderr",
     "output_type": "stream",
     "text": [
      "WARNING:tensorflow:Unresolved object in checkpoint: (root).optimizer's state 'm' for (root).net.transformer.h.1.attn.c_proj.bias\n"
     ]
    },
    {
     "name": "stdout",
     "output_type": "stream",
     "text": [
      "WARNING:tensorflow:Unresolved object in checkpoint: (root).optimizer's state 'm' for (root).net.transformer.h.1.mlp.c_fc.weight\n"
     ]
    },
    {
     "name": "stderr",
     "output_type": "stream",
     "text": [
      "WARNING:tensorflow:Unresolved object in checkpoint: (root).optimizer's state 'm' for (root).net.transformer.h.1.mlp.c_fc.weight\n"
     ]
    },
    {
     "name": "stdout",
     "output_type": "stream",
     "text": [
      "WARNING:tensorflow:Unresolved object in checkpoint: (root).optimizer's state 'm' for (root).net.transformer.h.1.mlp.c_fc.bias\n"
     ]
    },
    {
     "name": "stderr",
     "output_type": "stream",
     "text": [
      "WARNING:tensorflow:Unresolved object in checkpoint: (root).optimizer's state 'm' for (root).net.transformer.h.1.mlp.c_fc.bias\n"
     ]
    },
    {
     "name": "stdout",
     "output_type": "stream",
     "text": [
      "WARNING:tensorflow:Unresolved object in checkpoint: (root).optimizer's state 'm' for (root).net.transformer.h.1.mlp.c_proj.weight\n"
     ]
    },
    {
     "name": "stderr",
     "output_type": "stream",
     "text": [
      "WARNING:tensorflow:Unresolved object in checkpoint: (root).optimizer's state 'm' for (root).net.transformer.h.1.mlp.c_proj.weight\n"
     ]
    },
    {
     "name": "stdout",
     "output_type": "stream",
     "text": [
      "WARNING:tensorflow:Unresolved object in checkpoint: (root).optimizer's state 'm' for (root).net.transformer.h.1.mlp.c_proj.bias\n"
     ]
    },
    {
     "name": "stderr",
     "output_type": "stream",
     "text": [
      "WARNING:tensorflow:Unresolved object in checkpoint: (root).optimizer's state 'm' for (root).net.transformer.h.1.mlp.c_proj.bias\n"
     ]
    },
    {
     "name": "stdout",
     "output_type": "stream",
     "text": [
      "WARNING:tensorflow:Unresolved object in checkpoint: (root).optimizer's state 'm' for (root).net.transformer.h.2.attn.c_attn.weight\n"
     ]
    },
    {
     "name": "stderr",
     "output_type": "stream",
     "text": [
      "WARNING:tensorflow:Unresolved object in checkpoint: (root).optimizer's state 'm' for (root).net.transformer.h.2.attn.c_attn.weight\n"
     ]
    },
    {
     "name": "stdout",
     "output_type": "stream",
     "text": [
      "WARNING:tensorflow:Unresolved object in checkpoint: (root).optimizer's state 'm' for (root).net.transformer.h.2.attn.c_attn.bias\n"
     ]
    },
    {
     "name": "stderr",
     "output_type": "stream",
     "text": [
      "WARNING:tensorflow:Unresolved object in checkpoint: (root).optimizer's state 'm' for (root).net.transformer.h.2.attn.c_attn.bias\n"
     ]
    },
    {
     "name": "stdout",
     "output_type": "stream",
     "text": [
      "WARNING:tensorflow:Unresolved object in checkpoint: (root).optimizer's state 'm' for (root).net.transformer.h.2.attn.c_proj.weight\n"
     ]
    },
    {
     "name": "stderr",
     "output_type": "stream",
     "text": [
      "WARNING:tensorflow:Unresolved object in checkpoint: (root).optimizer's state 'm' for (root).net.transformer.h.2.attn.c_proj.weight\n"
     ]
    },
    {
     "name": "stdout",
     "output_type": "stream",
     "text": [
      "WARNING:tensorflow:Unresolved object in checkpoint: (root).optimizer's state 'm' for (root).net.transformer.h.2.attn.c_proj.bias\n"
     ]
    },
    {
     "name": "stderr",
     "output_type": "stream",
     "text": [
      "WARNING:tensorflow:Unresolved object in checkpoint: (root).optimizer's state 'm' for (root).net.transformer.h.2.attn.c_proj.bias\n"
     ]
    },
    {
     "name": "stdout",
     "output_type": "stream",
     "text": [
      "WARNING:tensorflow:Unresolved object in checkpoint: (root).optimizer's state 'm' for (root).net.transformer.h.2.mlp.c_fc.weight\n"
     ]
    },
    {
     "name": "stderr",
     "output_type": "stream",
     "text": [
      "WARNING:tensorflow:Unresolved object in checkpoint: (root).optimizer's state 'm' for (root).net.transformer.h.2.mlp.c_fc.weight\n"
     ]
    },
    {
     "name": "stdout",
     "output_type": "stream",
     "text": [
      "WARNING:tensorflow:Unresolved object in checkpoint: (root).optimizer's state 'm' for (root).net.transformer.h.2.mlp.c_fc.bias\n"
     ]
    },
    {
     "name": "stderr",
     "output_type": "stream",
     "text": [
      "WARNING:tensorflow:Unresolved object in checkpoint: (root).optimizer's state 'm' for (root).net.transformer.h.2.mlp.c_fc.bias\n"
     ]
    },
    {
     "name": "stdout",
     "output_type": "stream",
     "text": [
      "WARNING:tensorflow:Unresolved object in checkpoint: (root).optimizer's state 'm' for (root).net.transformer.h.2.mlp.c_proj.weight\n"
     ]
    },
    {
     "name": "stderr",
     "output_type": "stream",
     "text": [
      "WARNING:tensorflow:Unresolved object in checkpoint: (root).optimizer's state 'm' for (root).net.transformer.h.2.mlp.c_proj.weight\n"
     ]
    },
    {
     "name": "stdout",
     "output_type": "stream",
     "text": [
      "WARNING:tensorflow:Unresolved object in checkpoint: (root).optimizer's state 'm' for (root).net.transformer.h.2.mlp.c_proj.bias\n"
     ]
    },
    {
     "name": "stderr",
     "output_type": "stream",
     "text": [
      "WARNING:tensorflow:Unresolved object in checkpoint: (root).optimizer's state 'm' for (root).net.transformer.h.2.mlp.c_proj.bias\n"
     ]
    },
    {
     "name": "stdout",
     "output_type": "stream",
     "text": [
      "WARNING:tensorflow:Unresolved object in checkpoint: (root).optimizer's state 'm' for (root).net.transformer.h.3.attn.c_attn.weight\n"
     ]
    },
    {
     "name": "stderr",
     "output_type": "stream",
     "text": [
      "WARNING:tensorflow:Unresolved object in checkpoint: (root).optimizer's state 'm' for (root).net.transformer.h.3.attn.c_attn.weight\n"
     ]
    },
    {
     "name": "stdout",
     "output_type": "stream",
     "text": [
      "WARNING:tensorflow:Unresolved object in checkpoint: (root).optimizer's state 'm' for (root).net.transformer.h.3.attn.c_attn.bias\n"
     ]
    },
    {
     "name": "stderr",
     "output_type": "stream",
     "text": [
      "WARNING:tensorflow:Unresolved object in checkpoint: (root).optimizer's state 'm' for (root).net.transformer.h.3.attn.c_attn.bias\n"
     ]
    },
    {
     "name": "stdout",
     "output_type": "stream",
     "text": [
      "WARNING:tensorflow:Unresolved object in checkpoint: (root).optimizer's state 'm' for (root).net.transformer.h.3.attn.c_proj.weight\n"
     ]
    },
    {
     "name": "stderr",
     "output_type": "stream",
     "text": [
      "WARNING:tensorflow:Unresolved object in checkpoint: (root).optimizer's state 'm' for (root).net.transformer.h.3.attn.c_proj.weight\n"
     ]
    },
    {
     "name": "stdout",
     "output_type": "stream",
     "text": [
      "WARNING:tensorflow:Unresolved object in checkpoint: (root).optimizer's state 'm' for (root).net.transformer.h.3.attn.c_proj.bias\n"
     ]
    },
    {
     "name": "stderr",
     "output_type": "stream",
     "text": [
      "WARNING:tensorflow:Unresolved object in checkpoint: (root).optimizer's state 'm' for (root).net.transformer.h.3.attn.c_proj.bias\n"
     ]
    },
    {
     "name": "stdout",
     "output_type": "stream",
     "text": [
      "WARNING:tensorflow:Unresolved object in checkpoint: (root).optimizer's state 'm' for (root).net.transformer.h.3.mlp.c_fc.weight\n"
     ]
    },
    {
     "name": "stderr",
     "output_type": "stream",
     "text": [
      "WARNING:tensorflow:Unresolved object in checkpoint: (root).optimizer's state 'm' for (root).net.transformer.h.3.mlp.c_fc.weight\n"
     ]
    },
    {
     "name": "stdout",
     "output_type": "stream",
     "text": [
      "WARNING:tensorflow:Unresolved object in checkpoint: (root).optimizer's state 'm' for (root).net.transformer.h.3.mlp.c_fc.bias\n"
     ]
    },
    {
     "name": "stderr",
     "output_type": "stream",
     "text": [
      "WARNING:tensorflow:Unresolved object in checkpoint: (root).optimizer's state 'm' for (root).net.transformer.h.3.mlp.c_fc.bias\n"
     ]
    },
    {
     "name": "stdout",
     "output_type": "stream",
     "text": [
      "WARNING:tensorflow:Unresolved object in checkpoint: (root).optimizer's state 'm' for (root).net.transformer.h.3.mlp.c_proj.weight\n"
     ]
    },
    {
     "name": "stderr",
     "output_type": "stream",
     "text": [
      "WARNING:tensorflow:Unresolved object in checkpoint: (root).optimizer's state 'm' for (root).net.transformer.h.3.mlp.c_proj.weight\n"
     ]
    },
    {
     "name": "stdout",
     "output_type": "stream",
     "text": [
      "WARNING:tensorflow:Unresolved object in checkpoint: (root).optimizer's state 'm' for (root).net.transformer.h.3.mlp.c_proj.bias\n"
     ]
    },
    {
     "name": "stderr",
     "output_type": "stream",
     "text": [
      "WARNING:tensorflow:Unresolved object in checkpoint: (root).optimizer's state 'm' for (root).net.transformer.h.3.mlp.c_proj.bias\n"
     ]
    },
    {
     "name": "stdout",
     "output_type": "stream",
     "text": [
      "WARNING:tensorflow:Unresolved object in checkpoint: (root).optimizer's state 'm' for (root).net.transformer.h.4.attn.c_attn.weight\n"
     ]
    },
    {
     "name": "stderr",
     "output_type": "stream",
     "text": [
      "WARNING:tensorflow:Unresolved object in checkpoint: (root).optimizer's state 'm' for (root).net.transformer.h.4.attn.c_attn.weight\n"
     ]
    },
    {
     "name": "stdout",
     "output_type": "stream",
     "text": [
      "WARNING:tensorflow:Unresolved object in checkpoint: (root).optimizer's state 'm' for (root).net.transformer.h.4.attn.c_attn.bias\n"
     ]
    },
    {
     "name": "stderr",
     "output_type": "stream",
     "text": [
      "WARNING:tensorflow:Unresolved object in checkpoint: (root).optimizer's state 'm' for (root).net.transformer.h.4.attn.c_attn.bias\n"
     ]
    },
    {
     "name": "stdout",
     "output_type": "stream",
     "text": [
      "WARNING:tensorflow:Unresolved object in checkpoint: (root).optimizer's state 'm' for (root).net.transformer.h.4.attn.c_proj.weight\n"
     ]
    },
    {
     "name": "stderr",
     "output_type": "stream",
     "text": [
      "WARNING:tensorflow:Unresolved object in checkpoint: (root).optimizer's state 'm' for (root).net.transformer.h.4.attn.c_proj.weight\n"
     ]
    },
    {
     "name": "stdout",
     "output_type": "stream",
     "text": [
      "WARNING:tensorflow:Unresolved object in checkpoint: (root).optimizer's state 'm' for (root).net.transformer.h.4.attn.c_proj.bias\n"
     ]
    },
    {
     "name": "stderr",
     "output_type": "stream",
     "text": [
      "WARNING:tensorflow:Unresolved object in checkpoint: (root).optimizer's state 'm' for (root).net.transformer.h.4.attn.c_proj.bias\n"
     ]
    },
    {
     "name": "stdout",
     "output_type": "stream",
     "text": [
      "WARNING:tensorflow:Unresolved object in checkpoint: (root).optimizer's state 'm' for (root).net.transformer.h.4.mlp.c_fc.weight\n"
     ]
    },
    {
     "name": "stderr",
     "output_type": "stream",
     "text": [
      "WARNING:tensorflow:Unresolved object in checkpoint: (root).optimizer's state 'm' for (root).net.transformer.h.4.mlp.c_fc.weight\n"
     ]
    },
    {
     "name": "stdout",
     "output_type": "stream",
     "text": [
      "WARNING:tensorflow:Unresolved object in checkpoint: (root).optimizer's state 'm' for (root).net.transformer.h.4.mlp.c_fc.bias\n"
     ]
    },
    {
     "name": "stderr",
     "output_type": "stream",
     "text": [
      "WARNING:tensorflow:Unresolved object in checkpoint: (root).optimizer's state 'm' for (root).net.transformer.h.4.mlp.c_fc.bias\n"
     ]
    },
    {
     "name": "stdout",
     "output_type": "stream",
     "text": [
      "WARNING:tensorflow:Unresolved object in checkpoint: (root).optimizer's state 'm' for (root).net.transformer.h.4.mlp.c_proj.weight\n"
     ]
    },
    {
     "name": "stderr",
     "output_type": "stream",
     "text": [
      "WARNING:tensorflow:Unresolved object in checkpoint: (root).optimizer's state 'm' for (root).net.transformer.h.4.mlp.c_proj.weight\n"
     ]
    },
    {
     "name": "stdout",
     "output_type": "stream",
     "text": [
      "WARNING:tensorflow:Unresolved object in checkpoint: (root).optimizer's state 'm' for (root).net.transformer.h.4.mlp.c_proj.bias\n"
     ]
    },
    {
     "name": "stderr",
     "output_type": "stream",
     "text": [
      "WARNING:tensorflow:Unresolved object in checkpoint: (root).optimizer's state 'm' for (root).net.transformer.h.4.mlp.c_proj.bias\n"
     ]
    },
    {
     "name": "stdout",
     "output_type": "stream",
     "text": [
      "WARNING:tensorflow:Unresolved object in checkpoint: (root).optimizer's state 'm' for (root).net.transformer.h.5.attn.c_attn.weight\n"
     ]
    },
    {
     "name": "stderr",
     "output_type": "stream",
     "text": [
      "WARNING:tensorflow:Unresolved object in checkpoint: (root).optimizer's state 'm' for (root).net.transformer.h.5.attn.c_attn.weight\n"
     ]
    },
    {
     "name": "stdout",
     "output_type": "stream",
     "text": [
      "WARNING:tensorflow:Unresolved object in checkpoint: (root).optimizer's state 'm' for (root).net.transformer.h.5.attn.c_attn.bias\n"
     ]
    },
    {
     "name": "stderr",
     "output_type": "stream",
     "text": [
      "WARNING:tensorflow:Unresolved object in checkpoint: (root).optimizer's state 'm' for (root).net.transformer.h.5.attn.c_attn.bias\n"
     ]
    },
    {
     "name": "stdout",
     "output_type": "stream",
     "text": [
      "WARNING:tensorflow:Unresolved object in checkpoint: (root).optimizer's state 'm' for (root).net.transformer.h.5.attn.c_proj.weight\n"
     ]
    },
    {
     "name": "stderr",
     "output_type": "stream",
     "text": [
      "WARNING:tensorflow:Unresolved object in checkpoint: (root).optimizer's state 'm' for (root).net.transformer.h.5.attn.c_proj.weight\n"
     ]
    },
    {
     "name": "stdout",
     "output_type": "stream",
     "text": [
      "WARNING:tensorflow:Unresolved object in checkpoint: (root).optimizer's state 'm' for (root).net.transformer.h.5.attn.c_proj.bias\n"
     ]
    },
    {
     "name": "stderr",
     "output_type": "stream",
     "text": [
      "WARNING:tensorflow:Unresolved object in checkpoint: (root).optimizer's state 'm' for (root).net.transformer.h.5.attn.c_proj.bias\n"
     ]
    },
    {
     "name": "stdout",
     "output_type": "stream",
     "text": [
      "WARNING:tensorflow:Unresolved object in checkpoint: (root).optimizer's state 'm' for (root).net.transformer.h.5.mlp.c_fc.weight\n"
     ]
    },
    {
     "name": "stderr",
     "output_type": "stream",
     "text": [
      "WARNING:tensorflow:Unresolved object in checkpoint: (root).optimizer's state 'm' for (root).net.transformer.h.5.mlp.c_fc.weight\n"
     ]
    },
    {
     "name": "stdout",
     "output_type": "stream",
     "text": [
      "WARNING:tensorflow:Unresolved object in checkpoint: (root).optimizer's state 'm' for (root).net.transformer.h.5.mlp.c_fc.bias\n"
     ]
    },
    {
     "name": "stderr",
     "output_type": "stream",
     "text": [
      "WARNING:tensorflow:Unresolved object in checkpoint: (root).optimizer's state 'm' for (root).net.transformer.h.5.mlp.c_fc.bias\n"
     ]
    },
    {
     "name": "stdout",
     "output_type": "stream",
     "text": [
      "WARNING:tensorflow:Unresolved object in checkpoint: (root).optimizer's state 'm' for (root).net.transformer.h.5.mlp.c_proj.weight\n"
     ]
    },
    {
     "name": "stderr",
     "output_type": "stream",
     "text": [
      "WARNING:tensorflow:Unresolved object in checkpoint: (root).optimizer's state 'm' for (root).net.transformer.h.5.mlp.c_proj.weight\n"
     ]
    },
    {
     "name": "stdout",
     "output_type": "stream",
     "text": [
      "WARNING:tensorflow:Unresolved object in checkpoint: (root).optimizer's state 'm' for (root).net.transformer.h.5.mlp.c_proj.bias\n"
     ]
    },
    {
     "name": "stderr",
     "output_type": "stream",
     "text": [
      "WARNING:tensorflow:Unresolved object in checkpoint: (root).optimizer's state 'm' for (root).net.transformer.h.5.mlp.c_proj.bias\n"
     ]
    },
    {
     "name": "stdout",
     "output_type": "stream",
     "text": [
      "WARNING:tensorflow:Unresolved object in checkpoint: (root).optimizer's state 'v' for (root).net.e2c.kernel\n"
     ]
    },
    {
     "name": "stderr",
     "output_type": "stream",
     "text": [
      "WARNING:tensorflow:Unresolved object in checkpoint: (root).optimizer's state 'v' for (root).net.e2c.kernel\n"
     ]
    },
    {
     "name": "stdout",
     "output_type": "stream",
     "text": [
      "WARNING:tensorflow:Unresolved object in checkpoint: (root).optimizer's state 'v' for (root).net.e2c.bias\n"
     ]
    },
    {
     "name": "stderr",
     "output_type": "stream",
     "text": [
      "WARNING:tensorflow:Unresolved object in checkpoint: (root).optimizer's state 'v' for (root).net.e2c.bias\n"
     ]
    },
    {
     "name": "stdout",
     "output_type": "stream",
     "text": [
      "WARNING:tensorflow:Unresolved object in checkpoint: (root).optimizer's state 'v' for (root).net.transformer.wte.weight\n"
     ]
    },
    {
     "name": "stderr",
     "output_type": "stream",
     "text": [
      "WARNING:tensorflow:Unresolved object in checkpoint: (root).optimizer's state 'v' for (root).net.transformer.wte.weight\n"
     ]
    },
    {
     "name": "stdout",
     "output_type": "stream",
     "text": [
      "WARNING:tensorflow:Unresolved object in checkpoint: (root).optimizer's state 'v' for (root).net.transformer.wpe.embeddings\n"
     ]
    },
    {
     "name": "stderr",
     "output_type": "stream",
     "text": [
      "WARNING:tensorflow:Unresolved object in checkpoint: (root).optimizer's state 'v' for (root).net.transformer.wpe.embeddings\n"
     ]
    },
    {
     "name": "stdout",
     "output_type": "stream",
     "text": [
      "WARNING:tensorflow:Unresolved object in checkpoint: (root).optimizer's state 'v' for (root).net.transformer.ln_f.gamma\n"
     ]
    },
    {
     "name": "stderr",
     "output_type": "stream",
     "text": [
      "WARNING:tensorflow:Unresolved object in checkpoint: (root).optimizer's state 'v' for (root).net.transformer.ln_f.gamma\n"
     ]
    },
    {
     "name": "stdout",
     "output_type": "stream",
     "text": [
      "WARNING:tensorflow:Unresolved object in checkpoint: (root).optimizer's state 'v' for (root).net.transformer.ln_f.beta\n"
     ]
    },
    {
     "name": "stderr",
     "output_type": "stream",
     "text": [
      "WARNING:tensorflow:Unresolved object in checkpoint: (root).optimizer's state 'v' for (root).net.transformer.ln_f.beta\n"
     ]
    },
    {
     "name": "stdout",
     "output_type": "stream",
     "text": [
      "WARNING:tensorflow:Unresolved object in checkpoint: (root).optimizer's state 'v' for (root).net.transformer.h.0.ln_1.gamma\n"
     ]
    },
    {
     "name": "stderr",
     "output_type": "stream",
     "text": [
      "WARNING:tensorflow:Unresolved object in checkpoint: (root).optimizer's state 'v' for (root).net.transformer.h.0.ln_1.gamma\n"
     ]
    },
    {
     "name": "stdout",
     "output_type": "stream",
     "text": [
      "WARNING:tensorflow:Unresolved object in checkpoint: (root).optimizer's state 'v' for (root).net.transformer.h.0.ln_1.beta\n"
     ]
    },
    {
     "name": "stderr",
     "output_type": "stream",
     "text": [
      "WARNING:tensorflow:Unresolved object in checkpoint: (root).optimizer's state 'v' for (root).net.transformer.h.0.ln_1.beta\n"
     ]
    },
    {
     "name": "stdout",
     "output_type": "stream",
     "text": [
      "WARNING:tensorflow:Unresolved object in checkpoint: (root).optimizer's state 'v' for (root).net.transformer.h.0.ln_2.gamma\n"
     ]
    },
    {
     "name": "stderr",
     "output_type": "stream",
     "text": [
      "WARNING:tensorflow:Unresolved object in checkpoint: (root).optimizer's state 'v' for (root).net.transformer.h.0.ln_2.gamma\n"
     ]
    },
    {
     "name": "stdout",
     "output_type": "stream",
     "text": [
      "WARNING:tensorflow:Unresolved object in checkpoint: (root).optimizer's state 'v' for (root).net.transformer.h.0.ln_2.beta\n"
     ]
    },
    {
     "name": "stderr",
     "output_type": "stream",
     "text": [
      "WARNING:tensorflow:Unresolved object in checkpoint: (root).optimizer's state 'v' for (root).net.transformer.h.0.ln_2.beta\n"
     ]
    },
    {
     "name": "stdout",
     "output_type": "stream",
     "text": [
      "WARNING:tensorflow:Unresolved object in checkpoint: (root).optimizer's state 'v' for (root).net.transformer.h.1.ln_1.gamma\n"
     ]
    },
    {
     "name": "stderr",
     "output_type": "stream",
     "text": [
      "WARNING:tensorflow:Unresolved object in checkpoint: (root).optimizer's state 'v' for (root).net.transformer.h.1.ln_1.gamma\n"
     ]
    },
    {
     "name": "stdout",
     "output_type": "stream",
     "text": [
      "WARNING:tensorflow:Unresolved object in checkpoint: (root).optimizer's state 'v' for (root).net.transformer.h.1.ln_1.beta\n"
     ]
    },
    {
     "name": "stderr",
     "output_type": "stream",
     "text": [
      "WARNING:tensorflow:Unresolved object in checkpoint: (root).optimizer's state 'v' for (root).net.transformer.h.1.ln_1.beta\n"
     ]
    },
    {
     "name": "stdout",
     "output_type": "stream",
     "text": [
      "WARNING:tensorflow:Unresolved object in checkpoint: (root).optimizer's state 'v' for (root).net.transformer.h.1.ln_2.gamma\n"
     ]
    },
    {
     "name": "stderr",
     "output_type": "stream",
     "text": [
      "WARNING:tensorflow:Unresolved object in checkpoint: (root).optimizer's state 'v' for (root).net.transformer.h.1.ln_2.gamma\n"
     ]
    },
    {
     "name": "stdout",
     "output_type": "stream",
     "text": [
      "WARNING:tensorflow:Unresolved object in checkpoint: (root).optimizer's state 'v' for (root).net.transformer.h.1.ln_2.beta\n"
     ]
    },
    {
     "name": "stderr",
     "output_type": "stream",
     "text": [
      "WARNING:tensorflow:Unresolved object in checkpoint: (root).optimizer's state 'v' for (root).net.transformer.h.1.ln_2.beta\n"
     ]
    },
    {
     "name": "stdout",
     "output_type": "stream",
     "text": [
      "WARNING:tensorflow:Unresolved object in checkpoint: (root).optimizer's state 'v' for (root).net.transformer.h.2.ln_1.gamma\n"
     ]
    },
    {
     "name": "stderr",
     "output_type": "stream",
     "text": [
      "WARNING:tensorflow:Unresolved object in checkpoint: (root).optimizer's state 'v' for (root).net.transformer.h.2.ln_1.gamma\n"
     ]
    },
    {
     "name": "stdout",
     "output_type": "stream",
     "text": [
      "WARNING:tensorflow:Unresolved object in checkpoint: (root).optimizer's state 'v' for (root).net.transformer.h.2.ln_1.beta\n"
     ]
    },
    {
     "name": "stderr",
     "output_type": "stream",
     "text": [
      "WARNING:tensorflow:Unresolved object in checkpoint: (root).optimizer's state 'v' for (root).net.transformer.h.2.ln_1.beta\n"
     ]
    },
    {
     "name": "stdout",
     "output_type": "stream",
     "text": [
      "WARNING:tensorflow:Unresolved object in checkpoint: (root).optimizer's state 'v' for (root).net.transformer.h.2.ln_2.gamma\n"
     ]
    },
    {
     "name": "stderr",
     "output_type": "stream",
     "text": [
      "WARNING:tensorflow:Unresolved object in checkpoint: (root).optimizer's state 'v' for (root).net.transformer.h.2.ln_2.gamma\n"
     ]
    },
    {
     "name": "stdout",
     "output_type": "stream",
     "text": [
      "WARNING:tensorflow:Unresolved object in checkpoint: (root).optimizer's state 'v' for (root).net.transformer.h.2.ln_2.beta\n"
     ]
    },
    {
     "name": "stderr",
     "output_type": "stream",
     "text": [
      "WARNING:tensorflow:Unresolved object in checkpoint: (root).optimizer's state 'v' for (root).net.transformer.h.2.ln_2.beta\n"
     ]
    },
    {
     "name": "stdout",
     "output_type": "stream",
     "text": [
      "WARNING:tensorflow:Unresolved object in checkpoint: (root).optimizer's state 'v' for (root).net.transformer.h.3.ln_1.gamma\n"
     ]
    },
    {
     "name": "stderr",
     "output_type": "stream",
     "text": [
      "WARNING:tensorflow:Unresolved object in checkpoint: (root).optimizer's state 'v' for (root).net.transformer.h.3.ln_1.gamma\n"
     ]
    },
    {
     "name": "stdout",
     "output_type": "stream",
     "text": [
      "WARNING:tensorflow:Unresolved object in checkpoint: (root).optimizer's state 'v' for (root).net.transformer.h.3.ln_1.beta\n"
     ]
    },
    {
     "name": "stderr",
     "output_type": "stream",
     "text": [
      "WARNING:tensorflow:Unresolved object in checkpoint: (root).optimizer's state 'v' for (root).net.transformer.h.3.ln_1.beta\n"
     ]
    },
    {
     "name": "stdout",
     "output_type": "stream",
     "text": [
      "WARNING:tensorflow:Unresolved object in checkpoint: (root).optimizer's state 'v' for (root).net.transformer.h.3.ln_2.gamma\n"
     ]
    },
    {
     "name": "stderr",
     "output_type": "stream",
     "text": [
      "WARNING:tensorflow:Unresolved object in checkpoint: (root).optimizer's state 'v' for (root).net.transformer.h.3.ln_2.gamma\n"
     ]
    },
    {
     "name": "stdout",
     "output_type": "stream",
     "text": [
      "WARNING:tensorflow:Unresolved object in checkpoint: (root).optimizer's state 'v' for (root).net.transformer.h.3.ln_2.beta\n"
     ]
    },
    {
     "name": "stderr",
     "output_type": "stream",
     "text": [
      "WARNING:tensorflow:Unresolved object in checkpoint: (root).optimizer's state 'v' for (root).net.transformer.h.3.ln_2.beta\n"
     ]
    },
    {
     "name": "stdout",
     "output_type": "stream",
     "text": [
      "WARNING:tensorflow:Unresolved object in checkpoint: (root).optimizer's state 'v' for (root).net.transformer.h.4.ln_1.gamma\n"
     ]
    },
    {
     "name": "stderr",
     "output_type": "stream",
     "text": [
      "WARNING:tensorflow:Unresolved object in checkpoint: (root).optimizer's state 'v' for (root).net.transformer.h.4.ln_1.gamma\n"
     ]
    },
    {
     "name": "stdout",
     "output_type": "stream",
     "text": [
      "WARNING:tensorflow:Unresolved object in checkpoint: (root).optimizer's state 'v' for (root).net.transformer.h.4.ln_1.beta\n"
     ]
    },
    {
     "name": "stderr",
     "output_type": "stream",
     "text": [
      "WARNING:tensorflow:Unresolved object in checkpoint: (root).optimizer's state 'v' for (root).net.transformer.h.4.ln_1.beta\n"
     ]
    },
    {
     "name": "stdout",
     "output_type": "stream",
     "text": [
      "WARNING:tensorflow:Unresolved object in checkpoint: (root).optimizer's state 'v' for (root).net.transformer.h.4.ln_2.gamma\n"
     ]
    },
    {
     "name": "stderr",
     "output_type": "stream",
     "text": [
      "WARNING:tensorflow:Unresolved object in checkpoint: (root).optimizer's state 'v' for (root).net.transformer.h.4.ln_2.gamma\n"
     ]
    },
    {
     "name": "stdout",
     "output_type": "stream",
     "text": [
      "WARNING:tensorflow:Unresolved object in checkpoint: (root).optimizer's state 'v' for (root).net.transformer.h.4.ln_2.beta\n"
     ]
    },
    {
     "name": "stderr",
     "output_type": "stream",
     "text": [
      "WARNING:tensorflow:Unresolved object in checkpoint: (root).optimizer's state 'v' for (root).net.transformer.h.4.ln_2.beta\n"
     ]
    },
    {
     "name": "stdout",
     "output_type": "stream",
     "text": [
      "WARNING:tensorflow:Unresolved object in checkpoint: (root).optimizer's state 'v' for (root).net.transformer.h.5.ln_1.gamma\n"
     ]
    },
    {
     "name": "stderr",
     "output_type": "stream",
     "text": [
      "WARNING:tensorflow:Unresolved object in checkpoint: (root).optimizer's state 'v' for (root).net.transformer.h.5.ln_1.gamma\n"
     ]
    },
    {
     "name": "stdout",
     "output_type": "stream",
     "text": [
      "WARNING:tensorflow:Unresolved object in checkpoint: (root).optimizer's state 'v' for (root).net.transformer.h.5.ln_1.beta\n"
     ]
    },
    {
     "name": "stderr",
     "output_type": "stream",
     "text": [
      "WARNING:tensorflow:Unresolved object in checkpoint: (root).optimizer's state 'v' for (root).net.transformer.h.5.ln_1.beta\n"
     ]
    },
    {
     "name": "stdout",
     "output_type": "stream",
     "text": [
      "WARNING:tensorflow:Unresolved object in checkpoint: (root).optimizer's state 'v' for (root).net.transformer.h.5.ln_2.gamma\n"
     ]
    },
    {
     "name": "stderr",
     "output_type": "stream",
     "text": [
      "WARNING:tensorflow:Unresolved object in checkpoint: (root).optimizer's state 'v' for (root).net.transformer.h.5.ln_2.gamma\n"
     ]
    },
    {
     "name": "stdout",
     "output_type": "stream",
     "text": [
      "WARNING:tensorflow:Unresolved object in checkpoint: (root).optimizer's state 'v' for (root).net.transformer.h.5.ln_2.beta\n"
     ]
    },
    {
     "name": "stderr",
     "output_type": "stream",
     "text": [
      "WARNING:tensorflow:Unresolved object in checkpoint: (root).optimizer's state 'v' for (root).net.transformer.h.5.ln_2.beta\n"
     ]
    },
    {
     "name": "stdout",
     "output_type": "stream",
     "text": [
      "WARNING:tensorflow:Unresolved object in checkpoint: (root).optimizer's state 'v' for (root).net.transformer.h.0.attn.c_attn.weight\n"
     ]
    },
    {
     "name": "stderr",
     "output_type": "stream",
     "text": [
      "WARNING:tensorflow:Unresolved object in checkpoint: (root).optimizer's state 'v' for (root).net.transformer.h.0.attn.c_attn.weight\n"
     ]
    },
    {
     "name": "stdout",
     "output_type": "stream",
     "text": [
      "WARNING:tensorflow:Unresolved object in checkpoint: (root).optimizer's state 'v' for (root).net.transformer.h.0.attn.c_attn.bias\n"
     ]
    },
    {
     "name": "stderr",
     "output_type": "stream",
     "text": [
      "WARNING:tensorflow:Unresolved object in checkpoint: (root).optimizer's state 'v' for (root).net.transformer.h.0.attn.c_attn.bias\n"
     ]
    },
    {
     "name": "stdout",
     "output_type": "stream",
     "text": [
      "WARNING:tensorflow:Unresolved object in checkpoint: (root).optimizer's state 'v' for (root).net.transformer.h.0.attn.c_proj.weight\n"
     ]
    },
    {
     "name": "stderr",
     "output_type": "stream",
     "text": [
      "WARNING:tensorflow:Unresolved object in checkpoint: (root).optimizer's state 'v' for (root).net.transformer.h.0.attn.c_proj.weight\n"
     ]
    },
    {
     "name": "stdout",
     "output_type": "stream",
     "text": [
      "WARNING:tensorflow:Unresolved object in checkpoint: (root).optimizer's state 'v' for (root).net.transformer.h.0.attn.c_proj.bias\n"
     ]
    },
    {
     "name": "stderr",
     "output_type": "stream",
     "text": [
      "WARNING:tensorflow:Unresolved object in checkpoint: (root).optimizer's state 'v' for (root).net.transformer.h.0.attn.c_proj.bias\n"
     ]
    },
    {
     "name": "stdout",
     "output_type": "stream",
     "text": [
      "WARNING:tensorflow:Unresolved object in checkpoint: (root).optimizer's state 'v' for (root).net.transformer.h.0.mlp.c_fc.weight\n"
     ]
    },
    {
     "name": "stderr",
     "output_type": "stream",
     "text": [
      "WARNING:tensorflow:Unresolved object in checkpoint: (root).optimizer's state 'v' for (root).net.transformer.h.0.mlp.c_fc.weight\n"
     ]
    },
    {
     "name": "stdout",
     "output_type": "stream",
     "text": [
      "WARNING:tensorflow:Unresolved object in checkpoint: (root).optimizer's state 'v' for (root).net.transformer.h.0.mlp.c_fc.bias\n"
     ]
    },
    {
     "name": "stderr",
     "output_type": "stream",
     "text": [
      "WARNING:tensorflow:Unresolved object in checkpoint: (root).optimizer's state 'v' for (root).net.transformer.h.0.mlp.c_fc.bias\n"
     ]
    },
    {
     "name": "stdout",
     "output_type": "stream",
     "text": [
      "WARNING:tensorflow:Unresolved object in checkpoint: (root).optimizer's state 'v' for (root).net.transformer.h.0.mlp.c_proj.weight\n"
     ]
    },
    {
     "name": "stderr",
     "output_type": "stream",
     "text": [
      "WARNING:tensorflow:Unresolved object in checkpoint: (root).optimizer's state 'v' for (root).net.transformer.h.0.mlp.c_proj.weight\n"
     ]
    },
    {
     "name": "stdout",
     "output_type": "stream",
     "text": [
      "WARNING:tensorflow:Unresolved object in checkpoint: (root).optimizer's state 'v' for (root).net.transformer.h.0.mlp.c_proj.bias\n"
     ]
    },
    {
     "name": "stderr",
     "output_type": "stream",
     "text": [
      "WARNING:tensorflow:Unresolved object in checkpoint: (root).optimizer's state 'v' for (root).net.transformer.h.0.mlp.c_proj.bias\n"
     ]
    },
    {
     "name": "stdout",
     "output_type": "stream",
     "text": [
      "WARNING:tensorflow:Unresolved object in checkpoint: (root).optimizer's state 'v' for (root).net.transformer.h.1.attn.c_attn.weight\n"
     ]
    },
    {
     "name": "stderr",
     "output_type": "stream",
     "text": [
      "WARNING:tensorflow:Unresolved object in checkpoint: (root).optimizer's state 'v' for (root).net.transformer.h.1.attn.c_attn.weight\n"
     ]
    },
    {
     "name": "stdout",
     "output_type": "stream",
     "text": [
      "WARNING:tensorflow:Unresolved object in checkpoint: (root).optimizer's state 'v' for (root).net.transformer.h.1.attn.c_attn.bias\n"
     ]
    },
    {
     "name": "stderr",
     "output_type": "stream",
     "text": [
      "WARNING:tensorflow:Unresolved object in checkpoint: (root).optimizer's state 'v' for (root).net.transformer.h.1.attn.c_attn.bias\n"
     ]
    },
    {
     "name": "stdout",
     "output_type": "stream",
     "text": [
      "WARNING:tensorflow:Unresolved object in checkpoint: (root).optimizer's state 'v' for (root).net.transformer.h.1.attn.c_proj.weight\n"
     ]
    },
    {
     "name": "stderr",
     "output_type": "stream",
     "text": [
      "WARNING:tensorflow:Unresolved object in checkpoint: (root).optimizer's state 'v' for (root).net.transformer.h.1.attn.c_proj.weight\n"
     ]
    },
    {
     "name": "stdout",
     "output_type": "stream",
     "text": [
      "WARNING:tensorflow:Unresolved object in checkpoint: (root).optimizer's state 'v' for (root).net.transformer.h.1.attn.c_proj.bias\n"
     ]
    },
    {
     "name": "stderr",
     "output_type": "stream",
     "text": [
      "WARNING:tensorflow:Unresolved object in checkpoint: (root).optimizer's state 'v' for (root).net.transformer.h.1.attn.c_proj.bias\n"
     ]
    },
    {
     "name": "stdout",
     "output_type": "stream",
     "text": [
      "WARNING:tensorflow:Unresolved object in checkpoint: (root).optimizer's state 'v' for (root).net.transformer.h.1.mlp.c_fc.weight\n"
     ]
    },
    {
     "name": "stderr",
     "output_type": "stream",
     "text": [
      "WARNING:tensorflow:Unresolved object in checkpoint: (root).optimizer's state 'v' for (root).net.transformer.h.1.mlp.c_fc.weight\n"
     ]
    },
    {
     "name": "stdout",
     "output_type": "stream",
     "text": [
      "WARNING:tensorflow:Unresolved object in checkpoint: (root).optimizer's state 'v' for (root).net.transformer.h.1.mlp.c_fc.bias\n"
     ]
    },
    {
     "name": "stderr",
     "output_type": "stream",
     "text": [
      "WARNING:tensorflow:Unresolved object in checkpoint: (root).optimizer's state 'v' for (root).net.transformer.h.1.mlp.c_fc.bias\n"
     ]
    },
    {
     "name": "stdout",
     "output_type": "stream",
     "text": [
      "WARNING:tensorflow:Unresolved object in checkpoint: (root).optimizer's state 'v' for (root).net.transformer.h.1.mlp.c_proj.weight\n"
     ]
    },
    {
     "name": "stderr",
     "output_type": "stream",
     "text": [
      "WARNING:tensorflow:Unresolved object in checkpoint: (root).optimizer's state 'v' for (root).net.transformer.h.1.mlp.c_proj.weight\n"
     ]
    },
    {
     "name": "stdout",
     "output_type": "stream",
     "text": [
      "WARNING:tensorflow:Unresolved object in checkpoint: (root).optimizer's state 'v' for (root).net.transformer.h.1.mlp.c_proj.bias\n"
     ]
    },
    {
     "name": "stderr",
     "output_type": "stream",
     "text": [
      "WARNING:tensorflow:Unresolved object in checkpoint: (root).optimizer's state 'v' for (root).net.transformer.h.1.mlp.c_proj.bias\n"
     ]
    },
    {
     "name": "stdout",
     "output_type": "stream",
     "text": [
      "WARNING:tensorflow:Unresolved object in checkpoint: (root).optimizer's state 'v' for (root).net.transformer.h.2.attn.c_attn.weight\n"
     ]
    },
    {
     "name": "stderr",
     "output_type": "stream",
     "text": [
      "WARNING:tensorflow:Unresolved object in checkpoint: (root).optimizer's state 'v' for (root).net.transformer.h.2.attn.c_attn.weight\n"
     ]
    },
    {
     "name": "stdout",
     "output_type": "stream",
     "text": [
      "WARNING:tensorflow:Unresolved object in checkpoint: (root).optimizer's state 'v' for (root).net.transformer.h.2.attn.c_attn.bias\n"
     ]
    },
    {
     "name": "stderr",
     "output_type": "stream",
     "text": [
      "WARNING:tensorflow:Unresolved object in checkpoint: (root).optimizer's state 'v' for (root).net.transformer.h.2.attn.c_attn.bias\n"
     ]
    },
    {
     "name": "stdout",
     "output_type": "stream",
     "text": [
      "WARNING:tensorflow:Unresolved object in checkpoint: (root).optimizer's state 'v' for (root).net.transformer.h.2.attn.c_proj.weight\n"
     ]
    },
    {
     "name": "stderr",
     "output_type": "stream",
     "text": [
      "WARNING:tensorflow:Unresolved object in checkpoint: (root).optimizer's state 'v' for (root).net.transformer.h.2.attn.c_proj.weight\n"
     ]
    },
    {
     "name": "stdout",
     "output_type": "stream",
     "text": [
      "WARNING:tensorflow:Unresolved object in checkpoint: (root).optimizer's state 'v' for (root).net.transformer.h.2.attn.c_proj.bias\n"
     ]
    },
    {
     "name": "stderr",
     "output_type": "stream",
     "text": [
      "WARNING:tensorflow:Unresolved object in checkpoint: (root).optimizer's state 'v' for (root).net.transformer.h.2.attn.c_proj.bias\n"
     ]
    },
    {
     "name": "stdout",
     "output_type": "stream",
     "text": [
      "WARNING:tensorflow:Unresolved object in checkpoint: (root).optimizer's state 'v' for (root).net.transformer.h.2.mlp.c_fc.weight\n"
     ]
    },
    {
     "name": "stderr",
     "output_type": "stream",
     "text": [
      "WARNING:tensorflow:Unresolved object in checkpoint: (root).optimizer's state 'v' for (root).net.transformer.h.2.mlp.c_fc.weight\n"
     ]
    },
    {
     "name": "stdout",
     "output_type": "stream",
     "text": [
      "WARNING:tensorflow:Unresolved object in checkpoint: (root).optimizer's state 'v' for (root).net.transformer.h.2.mlp.c_fc.bias\n"
     ]
    },
    {
     "name": "stderr",
     "output_type": "stream",
     "text": [
      "WARNING:tensorflow:Unresolved object in checkpoint: (root).optimizer's state 'v' for (root).net.transformer.h.2.mlp.c_fc.bias\n"
     ]
    },
    {
     "name": "stdout",
     "output_type": "stream",
     "text": [
      "WARNING:tensorflow:Unresolved object in checkpoint: (root).optimizer's state 'v' for (root).net.transformer.h.2.mlp.c_proj.weight\n"
     ]
    },
    {
     "name": "stderr",
     "output_type": "stream",
     "text": [
      "WARNING:tensorflow:Unresolved object in checkpoint: (root).optimizer's state 'v' for (root).net.transformer.h.2.mlp.c_proj.weight\n"
     ]
    },
    {
     "name": "stdout",
     "output_type": "stream",
     "text": [
      "WARNING:tensorflow:Unresolved object in checkpoint: (root).optimizer's state 'v' for (root).net.transformer.h.2.mlp.c_proj.bias\n"
     ]
    },
    {
     "name": "stderr",
     "output_type": "stream",
     "text": [
      "WARNING:tensorflow:Unresolved object in checkpoint: (root).optimizer's state 'v' for (root).net.transformer.h.2.mlp.c_proj.bias\n"
     ]
    },
    {
     "name": "stdout",
     "output_type": "stream",
     "text": [
      "WARNING:tensorflow:Unresolved object in checkpoint: (root).optimizer's state 'v' for (root).net.transformer.h.3.attn.c_attn.weight\n"
     ]
    },
    {
     "name": "stderr",
     "output_type": "stream",
     "text": [
      "WARNING:tensorflow:Unresolved object in checkpoint: (root).optimizer's state 'v' for (root).net.transformer.h.3.attn.c_attn.weight\n"
     ]
    },
    {
     "name": "stdout",
     "output_type": "stream",
     "text": [
      "WARNING:tensorflow:Unresolved object in checkpoint: (root).optimizer's state 'v' for (root).net.transformer.h.3.attn.c_attn.bias\n"
     ]
    },
    {
     "name": "stderr",
     "output_type": "stream",
     "text": [
      "WARNING:tensorflow:Unresolved object in checkpoint: (root).optimizer's state 'v' for (root).net.transformer.h.3.attn.c_attn.bias\n"
     ]
    },
    {
     "name": "stdout",
     "output_type": "stream",
     "text": [
      "WARNING:tensorflow:Unresolved object in checkpoint: (root).optimizer's state 'v' for (root).net.transformer.h.3.attn.c_proj.weight\n"
     ]
    },
    {
     "name": "stderr",
     "output_type": "stream",
     "text": [
      "WARNING:tensorflow:Unresolved object in checkpoint: (root).optimizer's state 'v' for (root).net.transformer.h.3.attn.c_proj.weight\n"
     ]
    },
    {
     "name": "stdout",
     "output_type": "stream",
     "text": [
      "WARNING:tensorflow:Unresolved object in checkpoint: (root).optimizer's state 'v' for (root).net.transformer.h.3.attn.c_proj.bias\n"
     ]
    },
    {
     "name": "stderr",
     "output_type": "stream",
     "text": [
      "WARNING:tensorflow:Unresolved object in checkpoint: (root).optimizer's state 'v' for (root).net.transformer.h.3.attn.c_proj.bias\n"
     ]
    },
    {
     "name": "stdout",
     "output_type": "stream",
     "text": [
      "WARNING:tensorflow:Unresolved object in checkpoint: (root).optimizer's state 'v' for (root).net.transformer.h.3.mlp.c_fc.weight\n"
     ]
    },
    {
     "name": "stderr",
     "output_type": "stream",
     "text": [
      "WARNING:tensorflow:Unresolved object in checkpoint: (root).optimizer's state 'v' for (root).net.transformer.h.3.mlp.c_fc.weight\n"
     ]
    },
    {
     "name": "stdout",
     "output_type": "stream",
     "text": [
      "WARNING:tensorflow:Unresolved object in checkpoint: (root).optimizer's state 'v' for (root).net.transformer.h.3.mlp.c_fc.bias\n"
     ]
    },
    {
     "name": "stderr",
     "output_type": "stream",
     "text": [
      "WARNING:tensorflow:Unresolved object in checkpoint: (root).optimizer's state 'v' for (root).net.transformer.h.3.mlp.c_fc.bias\n"
     ]
    },
    {
     "name": "stdout",
     "output_type": "stream",
     "text": [
      "WARNING:tensorflow:Unresolved object in checkpoint: (root).optimizer's state 'v' for (root).net.transformer.h.3.mlp.c_proj.weight\n"
     ]
    },
    {
     "name": "stderr",
     "output_type": "stream",
     "text": [
      "WARNING:tensorflow:Unresolved object in checkpoint: (root).optimizer's state 'v' for (root).net.transformer.h.3.mlp.c_proj.weight\n"
     ]
    },
    {
     "name": "stdout",
     "output_type": "stream",
     "text": [
      "WARNING:tensorflow:Unresolved object in checkpoint: (root).optimizer's state 'v' for (root).net.transformer.h.3.mlp.c_proj.bias\n"
     ]
    },
    {
     "name": "stderr",
     "output_type": "stream",
     "text": [
      "WARNING:tensorflow:Unresolved object in checkpoint: (root).optimizer's state 'v' for (root).net.transformer.h.3.mlp.c_proj.bias\n"
     ]
    },
    {
     "name": "stdout",
     "output_type": "stream",
     "text": [
      "WARNING:tensorflow:Unresolved object in checkpoint: (root).optimizer's state 'v' for (root).net.transformer.h.4.attn.c_attn.weight\n"
     ]
    },
    {
     "name": "stderr",
     "output_type": "stream",
     "text": [
      "WARNING:tensorflow:Unresolved object in checkpoint: (root).optimizer's state 'v' for (root).net.transformer.h.4.attn.c_attn.weight\n"
     ]
    },
    {
     "name": "stdout",
     "output_type": "stream",
     "text": [
      "WARNING:tensorflow:Unresolved object in checkpoint: (root).optimizer's state 'v' for (root).net.transformer.h.4.attn.c_attn.bias\n"
     ]
    },
    {
     "name": "stderr",
     "output_type": "stream",
     "text": [
      "WARNING:tensorflow:Unresolved object in checkpoint: (root).optimizer's state 'v' for (root).net.transformer.h.4.attn.c_attn.bias\n"
     ]
    },
    {
     "name": "stdout",
     "output_type": "stream",
     "text": [
      "WARNING:tensorflow:Unresolved object in checkpoint: (root).optimizer's state 'v' for (root).net.transformer.h.4.attn.c_proj.weight\n"
     ]
    },
    {
     "name": "stderr",
     "output_type": "stream",
     "text": [
      "WARNING:tensorflow:Unresolved object in checkpoint: (root).optimizer's state 'v' for (root).net.transformer.h.4.attn.c_proj.weight\n"
     ]
    },
    {
     "name": "stdout",
     "output_type": "stream",
     "text": [
      "WARNING:tensorflow:Unresolved object in checkpoint: (root).optimizer's state 'v' for (root).net.transformer.h.4.attn.c_proj.bias\n"
     ]
    },
    {
     "name": "stderr",
     "output_type": "stream",
     "text": [
      "WARNING:tensorflow:Unresolved object in checkpoint: (root).optimizer's state 'v' for (root).net.transformer.h.4.attn.c_proj.bias\n"
     ]
    },
    {
     "name": "stdout",
     "output_type": "stream",
     "text": [
      "WARNING:tensorflow:Unresolved object in checkpoint: (root).optimizer's state 'v' for (root).net.transformer.h.4.mlp.c_fc.weight\n"
     ]
    },
    {
     "name": "stderr",
     "output_type": "stream",
     "text": [
      "WARNING:tensorflow:Unresolved object in checkpoint: (root).optimizer's state 'v' for (root).net.transformer.h.4.mlp.c_fc.weight\n"
     ]
    },
    {
     "name": "stdout",
     "output_type": "stream",
     "text": [
      "WARNING:tensorflow:Unresolved object in checkpoint: (root).optimizer's state 'v' for (root).net.transformer.h.4.mlp.c_fc.bias\n"
     ]
    },
    {
     "name": "stderr",
     "output_type": "stream",
     "text": [
      "WARNING:tensorflow:Unresolved object in checkpoint: (root).optimizer's state 'v' for (root).net.transformer.h.4.mlp.c_fc.bias\n"
     ]
    },
    {
     "name": "stdout",
     "output_type": "stream",
     "text": [
      "WARNING:tensorflow:Unresolved object in checkpoint: (root).optimizer's state 'v' for (root).net.transformer.h.4.mlp.c_proj.weight\n"
     ]
    },
    {
     "name": "stderr",
     "output_type": "stream",
     "text": [
      "WARNING:tensorflow:Unresolved object in checkpoint: (root).optimizer's state 'v' for (root).net.transformer.h.4.mlp.c_proj.weight\n"
     ]
    },
    {
     "name": "stdout",
     "output_type": "stream",
     "text": [
      "WARNING:tensorflow:Unresolved object in checkpoint: (root).optimizer's state 'v' for (root).net.transformer.h.4.mlp.c_proj.bias\n"
     ]
    },
    {
     "name": "stderr",
     "output_type": "stream",
     "text": [
      "WARNING:tensorflow:Unresolved object in checkpoint: (root).optimizer's state 'v' for (root).net.transformer.h.4.mlp.c_proj.bias\n"
     ]
    },
    {
     "name": "stdout",
     "output_type": "stream",
     "text": [
      "WARNING:tensorflow:Unresolved object in checkpoint: (root).optimizer's state 'v' for (root).net.transformer.h.5.attn.c_attn.weight\n"
     ]
    },
    {
     "name": "stderr",
     "output_type": "stream",
     "text": [
      "WARNING:tensorflow:Unresolved object in checkpoint: (root).optimizer's state 'v' for (root).net.transformer.h.5.attn.c_attn.weight\n"
     ]
    },
    {
     "name": "stdout",
     "output_type": "stream",
     "text": [
      "WARNING:tensorflow:Unresolved object in checkpoint: (root).optimizer's state 'v' for (root).net.transformer.h.5.attn.c_attn.bias\n"
     ]
    },
    {
     "name": "stderr",
     "output_type": "stream",
     "text": [
      "WARNING:tensorflow:Unresolved object in checkpoint: (root).optimizer's state 'v' for (root).net.transformer.h.5.attn.c_attn.bias\n"
     ]
    },
    {
     "name": "stdout",
     "output_type": "stream",
     "text": [
      "WARNING:tensorflow:Unresolved object in checkpoint: (root).optimizer's state 'v' for (root).net.transformer.h.5.attn.c_proj.weight\n"
     ]
    },
    {
     "name": "stderr",
     "output_type": "stream",
     "text": [
      "WARNING:tensorflow:Unresolved object in checkpoint: (root).optimizer's state 'v' for (root).net.transformer.h.5.attn.c_proj.weight\n"
     ]
    },
    {
     "name": "stdout",
     "output_type": "stream",
     "text": [
      "WARNING:tensorflow:Unresolved object in checkpoint: (root).optimizer's state 'v' for (root).net.transformer.h.5.attn.c_proj.bias\n"
     ]
    },
    {
     "name": "stderr",
     "output_type": "stream",
     "text": [
      "WARNING:tensorflow:Unresolved object in checkpoint: (root).optimizer's state 'v' for (root).net.transformer.h.5.attn.c_proj.bias\n"
     ]
    },
    {
     "name": "stdout",
     "output_type": "stream",
     "text": [
      "WARNING:tensorflow:Unresolved object in checkpoint: (root).optimizer's state 'v' for (root).net.transformer.h.5.mlp.c_fc.weight\n"
     ]
    },
    {
     "name": "stderr",
     "output_type": "stream",
     "text": [
      "WARNING:tensorflow:Unresolved object in checkpoint: (root).optimizer's state 'v' for (root).net.transformer.h.5.mlp.c_fc.weight\n"
     ]
    },
    {
     "name": "stdout",
     "output_type": "stream",
     "text": [
      "WARNING:tensorflow:Unresolved object in checkpoint: (root).optimizer's state 'v' for (root).net.transformer.h.5.mlp.c_fc.bias\n"
     ]
    },
    {
     "name": "stderr",
     "output_type": "stream",
     "text": [
      "WARNING:tensorflow:Unresolved object in checkpoint: (root).optimizer's state 'v' for (root).net.transformer.h.5.mlp.c_fc.bias\n"
     ]
    },
    {
     "name": "stdout",
     "output_type": "stream",
     "text": [
      "WARNING:tensorflow:Unresolved object in checkpoint: (root).optimizer's state 'v' for (root).net.transformer.h.5.mlp.c_proj.weight\n"
     ]
    },
    {
     "name": "stderr",
     "output_type": "stream",
     "text": [
      "WARNING:tensorflow:Unresolved object in checkpoint: (root).optimizer's state 'v' for (root).net.transformer.h.5.mlp.c_proj.weight\n"
     ]
    },
    {
     "name": "stdout",
     "output_type": "stream",
     "text": [
      "WARNING:tensorflow:Unresolved object in checkpoint: (root).optimizer's state 'v' for (root).net.transformer.h.5.mlp.c_proj.bias\n"
     ]
    },
    {
     "name": "stderr",
     "output_type": "stream",
     "text": [
      "WARNING:tensorflow:Unresolved object in checkpoint: (root).optimizer's state 'v' for (root).net.transformer.h.5.mlp.c_proj.bias\n"
     ]
    },
    {
     "name": "stdout",
     "output_type": "stream",
     "text": [
      "WARNING:tensorflow:A checkpoint was restored (e.g. tf.train.Checkpoint.restore or tf.keras.Model.load_weights) but not all checkpointed values were used. See above for specific issues. Use expect_partial() on the load status object, e.g. tf.train.Checkpoint.restore(...).expect_partial(), to silence these warnings, or use assert_consumed() to make the check explicit. See https://www.tensorflow.org/alpha/guide/checkpoints#loading_mechanics for details.\n"
     ]
    },
    {
     "name": "stderr",
     "output_type": "stream",
     "text": [
      "WARNING:tensorflow:A checkpoint was restored (e.g. tf.train.Checkpoint.restore or tf.keras.Model.load_weights) but not all checkpointed values were used. See above for specific issues. Use expect_partial() on the load status object, e.g. tf.train.Checkpoint.restore(...).expect_partial(), to silence these warnings, or use assert_consumed() to make the check explicit. See https://www.tensorflow.org/alpha/guide/checkpoints#loading_mechanics for details.\n"
     ]
    },
    {
     "name": "stdout",
     "output_type": "stream",
     "text": [
      "100/100 [==============================] - 5s 51ms/step - loss: 0.2105 - classification_loss: 0.1901 - sparse_categorical_accuracy: 0.9519\n"
     ]
    },
    {
     "data": {
      "text/plain": [
       "[0.2104924625903368, 0.19008262, 0.951875]"
      ]
     },
     "execution_count": 20,
     "metadata": {},
     "output_type": "execute_result"
    }
   ],
   "source": [
    "model_name='cl_gpt2'\n",
    "model_config='small_gpt_v9'\n",
    "learning_rate=0.0001\n",
    "exp_name='offlineteacher_v1'\n",
    "\n",
    "cl_token = task.databuilder.sentence_encoder().encode(constants.bos)\n",
    "hparams=get_model_params(task, model_name, model_config)\n",
    "hparams.output_attentions = True\n",
    "hparams.output_embeddings = True\n",
    "\n",
    "model = MODELS[model_name](hparams=hparams, cl_token=cl_token)\n",
    "\n",
    "\n",
    "ckpt_dir = os.path.join(chkpt_dir,task.name,\n",
    "                        model.model_name+\"_\"+str(model_config)+\"_\"+str(learning_rate)+\"_\"+exp_name)\n",
    "\n",
    "ckpt = tf.train.Checkpoint(net=model)\n",
    "manager = tf.train.CheckpointManager(ckpt, ckpt_dir, max_to_keep=None)\n",
    "\n",
    "ckpt.restore(manager.latest_checkpoint)\n",
    "if manager.latest_checkpoint:\n",
    "  print(\"Restored student from {}\".format(manager.latest_checkpoint))\n",
    "\n",
    "model.compile(loss=task.get_loss_fn(), metrics=task.metrics())\n",
    "model.evaluate(task.test_dataset, steps=100)"
   ]
  },
  {
   "cell_type": "code",
   "execution_count": 33,
   "metadata": {},
   "outputs": [
    {
     "name": "stdout",
     "output_type": "stream",
     "text": [
      "tf.Tensor([-4.662724  5.355209], shape=(2,), dtype=float32)\n",
      "(6, 8, 11, 11)\n"
     ]
    },
    {
     "data": {
      "text/html": [
       "\n",
       "  <span style=\"user-select:none\">\n",
       "    Layer: <select id=\"layer\"></select>\n",
       "    Attention: <select id=\"att_type\">\n",
       "      <option value=\"all\">All</option>\n",
       "    </select>\n",
       "  </span>\n",
       "  <div id='vis'></div>\n"
      ],
      "text/plain": [
       "<IPython.core.display.HTML object>"
      ]
     },
     "metadata": {},
     "output_type": "display_data"
    },
    {
     "data": {
      "application/javascript": [
       "window.attention = {\"all\": {\"att\": [[[[1.0, 0.0, 0.0, 0.0, 0.0, 0.0, 0.0, 0.0, 0.0, 0.0, 0.0], [0.33384808897972107, 0.6661519408226013, 0.0, 0.0, 0.0, 0.0, 0.0, 0.0, 0.0, 0.0, 0.0], [0.057244233787059784, 0.10569510608911514, 0.8370606303215027, 0.0, 0.0, 0.0, 0.0, 0.0, 0.0, 0.0, 0.0], [0.3923872411251068, 0.12428242713212967, 0.04003889486193657, 0.44329145550727844, 0.0, 0.0, 0.0, 0.0, 0.0, 0.0, 0.0], [0.00010928019037237391, 0.008153430186212063, 0.02492617629468441, 0.915459394454956, 0.05135171115398407, 0.0, 0.0, 0.0, 0.0, 0.0, 0.0], [1.6605052223894745e-05, 0.00013966909318696707, 5.2682098612422124e-05, 0.000392393849324435, 0.7520685791969299, 0.24733011424541473, 0.0, 0.0, 0.0, 0.0, 0.0], [7.194198406068608e-05, 0.007506782189011574, 0.0033979716245085, 0.026059670373797417, 0.00894560944288969, 0.8173690438270569, 0.1366489976644516, 0.0, 0.0, 0.0, 0.0], [0.011552955955266953, 0.026461128145456314, 0.00033631231053732336, 0.0006943147163838148, 0.7807838916778564, 0.0730811357498169, 0.038010675460100174, 0.06907957047224045, 0.0, 0.0, 0.0], [9.684938413556665e-05, 0.0023403381928801537, 0.00014497792290057987, 0.00021962806931696832, 0.1785348355770111, 0.10580311715602875, 0.09973903745412827, 0.05337067320942879, 0.559750497341156, 0.0, 0.0], [2.795197133309557e-06, 0.0002184078039135784, 0.0003489895607344806, 4.384351086628158e-06, 0.0037655322812497616, 0.008686759509146214, 0.04955262690782547, 0.003994551487267017, 0.05157741159200668, 0.8818484544754028, 0.0], [1.0111725146089157e-07, 0.00011143713345518336, 0.0001427032839274034, 7.31183308744221e-06, 0.0003978887398261577, 0.002978263422846794, 0.004938668571412563, 0.004277429543435574, 0.005456847138702869, 0.9786831140518188, 0.0030062817968428135]], [[1.0, 0.0, 0.0, 0.0, 0.0, 0.0, 0.0, 0.0, 0.0, 0.0, 0.0], [0.18476654589176178, 0.8152334690093994, 0.0, 0.0, 0.0, 0.0, 0.0, 0.0, 0.0, 0.0, 0.0], [0.055376071482896805, 0.09214324504137039, 0.8524807095527649, 0.0, 0.0, 0.0, 0.0, 0.0, 0.0, 0.0, 0.0], [0.3078444302082062, 0.17059020698070526, 0.16280525922775269, 0.35876011848449707, 0.0, 0.0, 0.0, 0.0, 0.0, 0.0, 0.0], [0.0005643681506626308, 0.0069372509606182575, 0.04321696609258652, 0.7263447642326355, 0.22293657064437866, 0.0, 0.0, 0.0, 0.0, 0.0, 0.0], [1.991831413761247e-05, 2.0533449060167186e-05, 4.5928045437904075e-06, 2.2229492969927378e-05, 0.9508481025695801, 0.04908457398414612, 0.0, 0.0, 0.0, 0.0, 0.0], [6.85334816807881e-05, 0.001611416577361524, 0.00155848718713969, 0.03025970049202442, 0.02051941119134426, 0.687153697013855, 0.2588287591934204, 0.0, 0.0, 0.0, 0.0], [0.0015670906286686659, 0.006635881494730711, 0.0004184054268989712, 0.0006730653694830835, 0.2688206434249878, 0.17178526520729065, 0.43792250752449036, 0.11217708140611649, 0.0, 0.0, 0.0], [6.654116441495717e-05, 0.000441520445747301, 2.1514346371986903e-05, 8.262659684987739e-05, 0.31512144207954407, 0.06638775020837784, 0.22750580310821533, 0.01891752891242504, 0.3714553713798523, 0.0, 0.0], [0.00018636604363564402, 0.0011063526617363095, 0.00025800327421166003, 3.303204039184493e-06, 0.01569294184446335, 0.002346443012356758, 0.004831955302506685, 0.004530887585133314, 0.7090935111045837, 0.26195019483566284, 0.0], [4.783173608302604e-07, 5.306501407176256e-05, 0.00013699664850719273, 1.578483534103725e-05, 0.0018482921877875924, 0.007787067908793688, 0.05826285108923912, 0.0020957179367542267, 0.012456017546355724, 0.9100419878959656, 0.007301726844161749]], [[1.0, 0.0, 0.0, 0.0, 0.0, 0.0, 0.0, 0.0, 0.0, 0.0, 0.0], [0.45528823137283325, 0.5447117686271667, 0.0, 0.0, 0.0, 0.0, 0.0, 0.0, 0.0, 0.0, 0.0], [0.021208452060818672, 0.04032674431800842, 0.9384647607803345, 0.0, 0.0, 0.0, 0.0, 0.0, 0.0, 0.0, 0.0], [0.5800759196281433, 0.14446140825748444, 0.08475805073976517, 0.19070462882518768, 0.0, 0.0, 0.0, 0.0, 0.0, 0.0, 0.0], [5.87088470638264e-05, 0.013347635045647621, 0.031105132773518562, 0.9208739995956421, 0.03461447358131409, 0.0, 0.0, 0.0, 0.0, 0.0, 0.0], [3.2483199902344495e-05, 9.390544437337667e-05, 1.966001400433015e-05, 5.5972577683860436e-05, 0.9592447876930237, 0.04055318981409073, 0.0, 0.0, 0.0, 0.0, 0.0], [0.00010577042121440172, 0.021696006879210472, 0.0035810978151857853, 0.009494654834270477, 0.018975170329213142, 0.7993753552436829, 0.14677192270755768, 0.0, 0.0, 0.0, 0.0], [0.018314076587557793, 0.02486438676714897, 0.0006878140266053379, 0.0016256385715678334, 0.7523213028907776, 0.047190237790346146, 0.09850193560123444, 0.056494735181331635, 0.0, 0.0, 0.0], [9.432648948859423e-05, 0.002422310644760728, 0.00012122646148782223, 7.184102287283167e-05, 0.2180570513010025, 0.03627979755401611, 0.10144013911485672, 0.03247649222612381, 0.6090368628501892, 0.0, 0.0], [2.0175939425826073e-05, 0.0007055620662868023, 0.0014161803992465138, 1.4886939425196033e-05, 0.008653346449136734, 0.017026564106345177, 0.026333894580602646, 0.004721679259091616, 0.07425401359796524, 0.866853654384613, 0.0], [1.55001522728071e-08, 2.911823321483098e-05, 9.732512990012765e-05, 4.95791618959629e-06, 0.00012841331772506237, 0.0036303121596574783, 0.0006151791894808412, 0.0009032597881741822, 0.004409480839967728, 0.9870273470878601, 0.003154560225084424]], [[1.0, 0.0, 0.0, 0.0, 0.0, 0.0, 0.0, 0.0, 0.0, 0.0, 0.0], [0.23792777955532074, 0.7620722651481628, 0.0, 0.0, 0.0, 0.0, 0.0, 0.0, 0.0, 0.0, 0.0], [0.009600532241165638, 0.03054441325366497, 0.9598550200462341, 0.0, 0.0, 0.0, 0.0, 0.0, 0.0, 0.0, 0.0], [0.4304492175579071, 0.2142634242773056, 0.10043585300445557, 0.2548515498638153, 0.0, 0.0, 0.0, 0.0, 0.0, 0.0, 0.0], [0.00017848606512416154, 0.004863785579800606, 0.11813560873270035, 0.8174189925193787, 0.05940321460366249, 0.0, 0.0, 0.0, 0.0, 0.0, 0.0], [7.917057700979058e-06, 1.4066341464058496e-05, 9.879328899842221e-06, 1.74631586560281e-05, 0.9335084557533264, 0.06644219905138016, 0.0, 0.0, 0.0, 0.0, 0.0], [4.3835625547217205e-05, 0.0021579822059720755, 0.002858233405277133, 0.010639139451086521, 0.008580422028899193, 0.7033772468566895, 0.27234312891960144, 0.0, 0.0, 0.0, 0.0], [0.001264559687115252, 0.004082757513970137, 0.00016014653374440968, 0.0006412625079974532, 0.39976587891578674, 0.12730997800827026, 0.4024612009525299, 0.06431418657302856, 0.0, 0.0, 0.0], [3.520375321386382e-05, 0.00020844489336013794, 1.652989158174023e-05, 2.174044493585825e-05, 0.24356690049171448, 0.0336911641061306, 0.35735875368118286, 0.008309821598231792, 0.3567914366722107, 0.0, 0.0], [1.1182843081769533e-05, 0.00018303412070963532, 0.00027176394360139966, 1.0620144166750833e-05, 0.0027195699512958527, 0.0037921806797385216, 0.006200837902724743, 0.0015969674568623304, 0.3345641791820526, 0.6506496667861938, 0.0], [3.2708320496510623e-09, 1.486462565480906e-06, 1.96886649064254e-05, 1.1550004046512186e-06, 0.00021002301946282387, 0.0005214032717049122, 0.01043020375072956, 0.00010688520706025884, 0.0025273128412663937, 0.984622061252594, 0.0015596835874021053]], [[1.0, 0.0, 0.0, 0.0, 0.0, 0.0, 0.0, 0.0, 0.0, 0.0, 0.0], [0.18304747343063354, 0.8169525861740112, 0.0, 0.0, 0.0, 0.0, 0.0, 0.0, 0.0, 0.0, 0.0], [0.018636463209986687, 0.057748544961214066, 0.923615038394928, 0.0, 0.0, 0.0, 0.0, 0.0, 0.0, 0.0, 0.0], [0.5564567446708679, 0.21515099704265594, 0.04598655551671982, 0.1824057251214981, 0.0, 0.0, 0.0, 0.0, 0.0, 0.0, 0.0], [1.769353730196599e-05, 0.0010676778620108962, 0.030686063691973686, 0.9640774130821228, 0.004151214845478535, 0.0, 0.0, 0.0, 0.0, 0.0, 0.0], [2.1676123651559465e-05, 2.9302051189006306e-05, 2.9733982955804095e-05, 0.00010578864748822525, 0.8930201530456543, 0.1067933440208435, 0.0, 0.0, 0.0, 0.0, 0.0], [2.054348988167476e-05, 0.0007026631501503289, 0.0011811787262558937, 0.006476347800344229, 0.013410476967692375, 0.682386040687561, 0.2958226501941681, 0.0, 0.0, 0.0, 0.0], [0.0014590367209166288, 0.006503121927380562, 0.0001931156439241022, 0.0007089569699019194, 0.5921527147293091, 0.09130014479160309, 0.24741137027740479, 0.06027151271700859, 0.0, 0.0, 0.0], [6.426573963835835e-05, 0.0004391221737023443, 4.795956556336023e-05, 9.124077041633427e-05, 0.16516129672527313, 0.043251775205135345, 0.3206656575202942, 0.013931285589933395, 0.45634734630584717, 0.0, 0.0], [3.89102524422924e-06, 0.00010380893218098208, 0.0003827130130957812, 3.309722160338424e-05, 0.0042038047686219215, 0.011174656450748444, 0.051577646285295486, 0.0013033744180575013, 0.14814068377017975, 0.7830763459205627, 0.0], [1.0878518530432757e-08, 3.428247964620823e-06, 4.7550576709909365e-05, 2.5246756649721647e-06, 6.343623681459576e-05, 0.002169402316212654, 0.0008683835039846599, 0.00011774336599046364, 0.003913887310773134, 0.9911847710609436, 0.0016288604820147157]], [[1.0, 0.0, 0.0, 0.0, 0.0, 0.0, 0.0, 0.0, 0.0, 0.0, 0.0], [0.132390096783638, 0.8676099181175232, 0.0, 0.0, 0.0, 0.0, 0.0, 0.0, 0.0, 0.0, 0.0], [0.014327353797852993, 0.04475799575448036, 0.9409146904945374, 0.0, 0.0, 0.0, 0.0, 0.0, 0.0, 0.0, 0.0], [0.2917664051055908, 0.2192092388868332, 0.07497736811637878, 0.414046972990036, 0.0, 0.0, 0.0, 0.0, 0.0, 0.0, 0.0], [9.238401253242046e-05, 0.0016950005665421486, 0.024085262790322304, 0.9503234028816223, 0.023804092779755592, 0.0, 0.0, 0.0, 0.0, 0.0, 0.0], [1.590846113685984e-05, 2.200878589064814e-05, 4.442936187842861e-06, 1.1684398486977443e-05, 0.977316677570343, 0.022629274055361748, 0.0, 0.0, 0.0, 0.0, 0.0], [5.6367363868048415e-05, 0.0009576135780662298, 0.0008718230528756976, 0.009875756688416004, 0.010019775480031967, 0.9244208335876465, 0.05379776284098625, 0.0, 0.0, 0.0, 0.0], [0.003011371474713087, 0.016413303092122078, 0.0003422247536946088, 0.0008778788615018129, 0.7379961609840393, 0.053131211549043655, 0.10851922631263733, 0.07970867305994034, 0.0, 0.0, 0.0], [6.84839760651812e-05, 0.0004487863334361464, 2.3229677026392892e-05, 9.395090455655009e-05, 0.2960299849510193, 0.06475454568862915, 0.10813476890325546, 0.011720758862793446, 0.5187255144119263, 0.0, 0.0], [1.0173219379794318e-05, 5.8335179346613586e-05, 0.0004511356819421053, 4.971378530171933e-06, 0.0012434747768566012, 0.006270227022469044, 0.003587789600715041, 0.00040827051270753145, 0.20870602130889893, 0.7792596220970154, 0.0], [2.2976326619073006e-08, 3.613350145315053e-06, 7.842385093681514e-05, 8.415050615440123e-06, 7.986033597262576e-05, 0.0030858118552714586, 0.000502744980622083, 0.00010202015982940793, 0.009761937893927097, 0.9830825328826904, 0.0032946194987744093]], [[1.0, 0.0, 0.0, 0.0, 0.0, 0.0, 0.0, 0.0, 0.0, 0.0, 0.0], [0.3069339692592621, 0.6930660605430603, 0.0, 0.0, 0.0, 0.0, 0.0, 0.0, 0.0, 0.0, 0.0], [0.024665843695402145, 0.0344555601477623, 0.9408785700798035, 0.0, 0.0, 0.0, 0.0, 0.0, 0.0, 0.0, 0.0], [0.3201077878475189, 0.24257530272006989, 0.07262475043535233, 0.36469221115112305, 0.0, 0.0, 0.0, 0.0, 0.0, 0.0, 0.0], [0.00020672586106229573, 0.006343254819512367, 0.047480519860982895, 0.6976263523101807, 0.24834313988685608, 0.0, 0.0, 0.0, 0.0, 0.0, 0.0], [2.5768873456399888e-05, 4.910513962386176e-05, 2.4948007194325328e-05, 8.049253665376455e-05, 0.9066329598426819, 0.09318669885396957, 0.0, 0.0, 0.0, 0.0, 0.0], [0.00022272732167039067, 0.014436214230954647, 0.004831315018236637, 0.02135513722896576, 0.031246282160282135, 0.8506043553352356, 0.07730395346879959, 0.0, 0.0, 0.0, 0.0], [0.003994441591203213, 0.01262221671640873, 0.00018823159916792065, 0.0009449159842915833, 0.7484338283538818, 0.05718959495425224, 0.10858536511659622, 0.06804141402244568, 0.0, 0.0, 0.0], [6.430528446799144e-05, 0.0009590756963007152, 4.857925887336023e-05, 0.00014669190568383783, 0.2628445327281952, 0.08887341618537903, 0.23813265562057495, 0.03542543202638626, 0.37350526452064514, 0.0, 0.0], [6.90088700139313e-06, 0.0002259491157019511, 0.0008747465908527374, 2.2580274162464775e-05, 0.011552128940820694, 0.01324525848031044, 0.07046834379434586, 0.005459142848849297, 0.10179868340492249, 0.7963462471961975, 0.0], [2.6496620009197613e-08, 1.695566243142821e-05, 0.00011109772458439693, 1.2101531865482684e-05, 0.0002993143571075052, 0.002928486093878746, 0.01878833957016468, 0.0017560956766828895, 0.0011519832769408822, 0.9723796248435974, 0.002555991057306528]], [[1.0, 0.0, 0.0, 0.0, 0.0, 0.0, 0.0, 0.0, 0.0, 0.0, 0.0], [0.15230047702789307, 0.8476995229721069, 0.0, 0.0, 0.0, 0.0, 0.0, 0.0, 0.0, 0.0, 0.0], [0.03281686455011368, 0.06404755264520645, 0.9031355977058411, 0.0, 0.0, 0.0, 0.0, 0.0, 0.0, 0.0, 0.0], [0.45268726348876953, 0.18602591753005981, 0.07515460252761841, 0.28613221645355225, 0.0, 0.0, 0.0, 0.0, 0.0, 0.0, 0.0], [0.00014593340165447444, 0.00579478032886982, 0.037212129682302475, 0.8487303256988525, 0.10811687260866165, 0.0, 0.0, 0.0, 0.0, 0.0, 0.0], [2.8638614821829833e-05, 5.721535126212984e-05, 3.113926504738629e-05, 5.582182711805217e-05, 0.8552570939064026, 0.14457005262374878, 0.0, 0.0, 0.0, 0.0, 0.0], [3.791726703639142e-05, 0.003026556456461549, 0.0033462645951658487, 0.021706940606236458, 0.01728205755352974, 0.8200174570083618, 0.13458281755447388, 0.0, 0.0, 0.0, 0.0], [0.0004429901309777051, 0.004397817421704531, 5.9637270169332623e-05, 9.85110891633667e-05, 0.7774556279182434, 0.035423532128334045, 0.13051770627498627, 0.05160408839583397, 0.0, 0.0, 0.0], [3.070303864660673e-05, 0.0004609298484865576, 2.4287315682158805e-05, 4.989606168237515e-05, 0.5180044174194336, 0.07463771849870682, 0.21261678636074066, 0.01648877002298832, 0.1776864230632782, 0.0, 0.0], [5.644355042022653e-06, 0.0001513028546469286, 0.0006557906162925065, 4.5473721002053935e-06, 0.005398791749030352, 0.009086282923817635, 0.04875478893518448, 0.001575220376253128, 0.13364215195178986, 0.8007254600524902, 0.0], [3.5482752291926545e-09, 2.8706365355901653e-06, 1.46017000588472e-05, 4.819481773665757e-07, 0.00010653251956682652, 0.0008463438716717064, 0.003704722737893462, 0.00021006393944844604, 0.0009566006483510137, 0.9933068156242371, 0.0008508535102009773]]], [[[1.0, 0.0, 0.0, 0.0, 0.0, 0.0, 0.0, 0.0, 0.0, 0.0, 0.0], [0.5322709083557129, 0.4677290916442871, 0.0, 0.0, 0.0, 0.0, 0.0, 0.0, 0.0, 0.0, 0.0], [0.34439584612846375, 0.338163286447525, 0.31744086742401123, 0.0, 0.0, 0.0, 0.0, 0.0, 0.0, 0.0, 0.0], [0.3494558036327362, 0.2722986936569214, 0.2442195862531662, 0.1340259313583374, 0.0, 0.0, 0.0, 0.0, 0.0, 0.0, 0.0], [0.33084821701049805, 0.26982763409614563, 0.25731223821640015, 0.12647688388824463, 0.01553508173674345, 0.0, 0.0, 0.0, 0.0, 0.0, 0.0], [0.005310343578457832, 0.007532671093940735, 0.008397765457630157, 0.02815021015703678, 0.9453043341636658, 0.005304674617946148, 0.0, 0.0, 0.0, 0.0, 0.0], [0.018268631771206856, 0.023704012855887413, 0.025420330464839935, 0.06017567962408066, 0.7846671342849731, 0.02003757655620575, 0.06772657483816147, 0.0, 0.0, 0.0, 0.0], [0.0047650584019720554, 0.006988499313592911, 0.008053871802985668, 0.026321502402424812, 0.9174530506134033, 0.004733415320515633, 0.027687644585967064, 0.003997005056589842, 0.0, 0.0, 0.0], [0.028750794008374214, 0.03706010803580284, 0.041201505810022354, 0.07829644531011581, 0.6336066722869873, 0.03096778690814972, 0.08394388109445572, 0.028132108971476555, 0.03804074972867966, 0.0, 0.0], [0.08647288382053375, 0.08350510895252228, 0.0769159346818924, 0.09565147012472153, 0.1425502598285675, 0.0959479883313179, 0.1099332943558693, 0.09903769940137863, 0.10295255482196808, 0.10703280568122864, 0.0], [0.0683988556265831, 0.06753344088792801, 0.06256845593452454, 0.08524061739444733, 0.1626235991716385, 0.07500109076499939, 0.09772026538848877, 0.07649727165699005, 0.08311230689287186, 0.11033668369054794, 0.1109674721956253]], [[1.0, 0.0, 0.0, 0.0, 0.0, 0.0, 0.0, 0.0, 0.0, 0.0, 0.0], [0.5823624730110168, 0.4176374673843384, 0.0, 0.0, 0.0, 0.0, 0.0, 0.0, 0.0, 0.0, 0.0], [0.38835400342941284, 0.33890029788017273, 0.27274563908576965, 0.0, 0.0, 0.0, 0.0, 0.0, 0.0, 0.0, 0.0], [0.4294997751712799, 0.2536676824092865, 0.15154218673706055, 0.16529029607772827, 0.0, 0.0, 0.0, 0.0, 0.0, 0.0, 0.0], [0.35383474826812744, 0.2517582178115845, 0.2026597410440445, 0.16347640752792358, 0.02827085740864277, 0.0, 0.0, 0.0, 0.0, 0.0, 0.0], [0.020031997933983803, 0.037523314356803894, 0.06623725593090057, 0.06900372356176376, 0.7711857557296753, 0.03601796552538872, 0.0, 0.0, 0.0, 0.0, 0.0], [0.02687389776110649, 0.04327072948217392, 0.06205014884471893, 0.07372818887233734, 0.6310401558876038, 0.049535512924194336, 0.11350136995315552, 0.0, 0.0, 0.0, 0.0], [0.01193938311189413, 0.02539179101586342, 0.05222378298640251, 0.05040770024061203, 0.7511921525001526, 0.021877769380807877, 0.06975805759429932, 0.017209460958838463, 0.0, 0.0, 0.0], [0.021954970434308052, 0.03897133842110634, 0.06579969078302383, 0.06778325885534286, 0.6071629524230957, 0.037278346717357635, 0.0932106152176857, 0.03164181858301163, 0.036197058856487274, 0.0, 0.0], [0.10711528360843658, 0.08383586257696152, 0.05654133856296539, 0.0802212655544281, 0.07292898744344711, 0.1314217746257782, 0.10797299444675446, 0.15842075645923615, 0.15826918184757233, 0.04327252507209778, 0.0], [0.09895329177379608, 0.07970548421144485, 0.055410753935575485, 0.07788342237472534, 0.07682286947965622, 0.12302588671445847, 0.10497584939002991, 0.14656583964824677, 0.14703573286533356, 0.0453360453248024, 0.04428483173251152]], [[1.0, 0.0, 0.0, 0.0, 0.0, 0.0, 0.0, 0.0, 0.0, 0.0, 0.0], [0.5969386696815491, 0.4030613601207733, 0.0, 0.0, 0.0, 0.0, 0.0, 0.0, 0.0, 0.0, 0.0], [0.39223816990852356, 0.2986792027950287, 0.30908262729644775, 0.0, 0.0, 0.0, 0.0, 0.0, 0.0, 0.0, 0.0], [0.3468317687511444, 0.22222988307476044, 0.2357461303472519, 0.19519217312335968, 0.0, 0.0, 0.0, 0.0, 0.0, 0.0, 0.0], [0.23810768127441406, 0.19825811684131622, 0.2037363052368164, 0.18845219910144806, 0.17144568264484406, 0.0, 0.0, 0.0, 0.0, 0.0, 0.0], [0.13248184323310852, 0.1764691025018692, 0.1696033477783203, 0.19146046042442322, 0.22444137930870056, 0.1055438444018364, 0.0, 0.0, 0.0, 0.0, 0.0], [0.11057689040899277, 0.16235487163066864, 0.1545829474925995, 0.18160107731819153, 0.22751230001449585, 0.08226925879716873, 0.08110257983207703, 0.0, 0.0, 0.0, 0.0], [0.10427851974964142, 0.1527632772922516, 0.14504948258399963, 0.17039549350738525, 0.21127304434776306, 0.07724172621965408, 0.07557322829961777, 0.063425213098526, 0.0, 0.0, 0.0], [0.09860588610172272, 0.14406561851501465, 0.13719326257705688, 0.1607457399368286, 0.20039305090904236, 0.07365500926971436, 0.0724513828754425, 0.060569796711206436, 0.05232027918100357, 0.0, 0.0], [0.10102377086877823, 0.09406878054141998, 0.09491191804409027, 0.0921856015920639, 0.08832953125238419, 0.10645880550146103, 0.10681380331516266, 0.11037639528512955, 0.11347399652004242, 0.09235746413469315, 0.0], [0.0925092026591301, 0.08692888170480728, 0.08755079656839371, 0.08539794385433197, 0.08212991803884506, 0.09664657711982727, 0.09682241827249527, 0.09972622245550156, 0.10214079916477203, 0.08532679826021194, 0.08482040464878082]], [[1.0, 0.0, 0.0, 0.0, 0.0, 0.0, 0.0, 0.0, 0.0, 0.0, 0.0], [0.47615960240364075, 0.5238404273986816, 0.0, 0.0, 0.0, 0.0, 0.0, 0.0, 0.0, 0.0, 0.0], [0.35752320289611816, 0.3147379457950592, 0.32773882150650024, 0.0, 0.0, 0.0, 0.0, 0.0, 0.0, 0.0, 0.0], [0.22159506380558014, 0.25231626629829407, 0.30856162309646606, 0.21752707660198212, 0.0, 0.0, 0.0, 0.0, 0.0, 0.0, 0.0], [0.24325233697891235, 0.2819671630859375, 0.22590740025043488, 0.20338952541351318, 0.04548358544707298, 0.0, 0.0, 0.0, 0.0, 0.0, 0.0], [0.059705451130867004, 0.0644834041595459, 0.11282972246408463, 0.08484311401844025, 0.4722716510295868, 0.20586664974689484, 0.0, 0.0, 0.0, 0.0, 0.0], [0.028762200847268105, 0.026158053427934647, 0.04156952351331711, 0.040662094950675964, 0.374153733253479, 0.12073499709367752, 0.3679594099521637, 0.0, 0.0, 0.0, 0.0], [0.024973932653665543, 0.030669044703245163, 0.06792526692152023, 0.0403960756957531, 0.3010883927345276, 0.11492127925157547, 0.3097876012325287, 0.11023840308189392, 0.0, 0.0, 0.0], [0.013261615298688412, 0.016848601400852203, 0.046295586973428726, 0.023709900677204132, 0.2960546612739563, 0.09323012828826904, 0.3289501965045929, 0.08886221796274185, 0.09278712421655655, 0.0, 0.0], [0.1102692186832428, 0.06650794297456741, 0.038244348019361496, 0.08717348426580429, 0.12186417728662491, 0.09476467967033386, 0.11550801992416382, 0.13010360300540924, 0.19296307861804962, 0.04260149970650673, 0.0], [0.1176382377743721, 0.06929135322570801, 0.03707224875688553, 0.09001664072275162, 0.11127910763025284, 0.09020081162452698, 0.1031855121254921, 0.1252112090587616, 0.18732601404190063, 0.035982176661491394, 0.03279669210314751]], [[1.0, 0.0, 0.0, 0.0, 0.0, 0.0, 0.0, 0.0, 0.0, 0.0, 0.0], [0.5388134717941284, 0.4611864984035492, 0.0, 0.0, 0.0, 0.0, 0.0, 0.0, 0.0, 0.0, 0.0], [0.30660510063171387, 0.30088508129119873, 0.3925098776817322, 0.0, 0.0, 0.0, 0.0, 0.0, 0.0, 0.0, 0.0], [0.2681412994861603, 0.20459260046482086, 0.3435966968536377, 0.18366940319538116, 0.0, 0.0, 0.0, 0.0, 0.0, 0.0, 0.0], [0.25245633721351624, 0.20759958028793335, 0.18761159479618073, 0.19984160363674164, 0.15249080955982208, 0.0, 0.0, 0.0, 0.0, 0.0, 0.0], [0.08819045126438141, 0.12485870718955994, 0.2195945680141449, 0.13036254048347473, 0.26920706033706665, 0.16778667271137238, 0.0, 0.0, 0.0, 0.0, 0.0], [0.09324248135089874, 0.12959229946136475, 0.1628837287425995, 0.13782243430614471, 0.22365336120128632, 0.11627952754497528, 0.13652609288692474, 0.0, 0.0, 0.0, 0.0], [0.05028606951236725, 0.07705958932638168, 0.16313625872135162, 0.08088092505931854, 0.20383600890636444, 0.1187644973397255, 0.21952585875988007, 0.08651084452867508, 0.0, 0.0, 0.0], [0.04150346294045448, 0.06186346709728241, 0.14731505513191223, 0.06369932740926743, 0.1710735410451889, 0.1183546632528305, 0.24266818165779114, 0.08484861254692078, 0.06867369264364243, 0.0, 0.0], [0.16357067227363586, 0.14869025349617004, 0.08357926458120346, 0.1515864133834839, 0.09510066360235214, 0.08088792115449905, 0.04906963184475899, 0.09592021256685257, 0.10317281633615494, 0.028422124683856964, 0.0], [0.16539134085178375, 0.1510905623435974, 0.08028340339660645, 0.15497303009033203, 0.09377776831388474, 0.0754150003194809, 0.04352284595370293, 0.09043135493993759, 0.09763213992118835, 0.024560468271374702, 0.02292209304869175]], [[1.0, 0.0, 0.0, 0.0, 0.0, 0.0, 0.0, 0.0, 0.0, 0.0, 0.0], [0.4850222170352936, 0.514977753162384, 0.0, 0.0, 0.0, 0.0, 0.0, 0.0, 0.0, 0.0, 0.0], [0.31465843319892883, 0.29434168338775635, 0.3909999430179596, 0.0, 0.0, 0.0, 0.0, 0.0, 0.0, 0.0, 0.0], [0.1554691344499588, 0.16881585121154785, 0.5374437570571899, 0.1382712423801422, 0.0, 0.0, 0.0, 0.0, 0.0, 0.0, 0.0], [0.17621368169784546, 0.19372302293777466, 0.25199779868125916, 0.19006575644016266, 0.1879996806383133, 0.0, 0.0, 0.0, 0.0, 0.0, 0.0], [0.15279704332351685, 0.15847958624362946, 0.18438582122325897, 0.15554332733154297, 0.16923123598098755, 0.1795630007982254, 0.0, 0.0, 0.0, 0.0, 0.0], [0.1145489364862442, 0.10820326954126358, 0.1256749927997589, 0.10299796611070633, 0.13187655806541443, 0.1958855241537094, 0.2208128124475479, 0.0, 0.0, 0.0, 0.0], [0.08973576873540878, 0.09889867156744003, 0.15472158789634705, 0.09338165819644928, 0.11475798487663269, 0.13977833092212677, 0.18574437499046326, 0.12298159301280975, 0.0, 0.0, 0.0], [0.034548986703157425, 0.03849538043141365, 0.11397334188222885, 0.032165076583623886, 0.06283067166805267, 0.15820881724357605, 0.3289826810359955, 0.12714506685733795, 0.10364994406700134, 0.0, 0.0], [0.1360783874988556, 0.10713031888008118, 0.05297663062810898, 0.11378974467515945, 0.10174893587827682, 0.1036572977900505, 0.06760793924331665, 0.1394510567188263, 0.1549615114927292, 0.022598205134272575, 0.0], [0.15329627692699432, 0.11949610710144043, 0.04982117936015129, 0.13083139061927795, 0.10463172942399979, 0.09004919230937958, 0.052208252251148224, 0.12487850338220596, 0.14342422783374786, 0.01633206568658352, 0.01503113191574812]], [[1.0, 0.0, 0.0, 0.0, 0.0, 0.0, 0.0, 0.0, 0.0, 0.0, 0.0], [0.5828453898429871, 0.4171546399593353, 0.0, 0.0, 0.0, 0.0, 0.0, 0.0, 0.0, 0.0, 0.0], [0.4019682705402374, 0.3282252550125122, 0.269806444644928, 0.0, 0.0, 0.0, 0.0, 0.0, 0.0, 0.0, 0.0], [0.37454754114151, 0.25513678789138794, 0.23373669385910034, 0.13657896220684052, 0.0, 0.0, 0.0, 0.0, 0.0, 0.0, 0.0], [0.30234193801879883, 0.25948938727378845, 0.2825924754142761, 0.1338309794664383, 0.021745119243860245, 0.0, 0.0, 0.0, 0.0, 0.0, 0.0], [0.007693525403738022, 0.009692990221083164, 0.008044665679335594, 0.034955475479364395, 0.9331691265106201, 0.006444278173148632, 0.0, 0.0, 0.0, 0.0, 0.0], [0.020105883479118347, 0.026643460616469383, 0.025021497160196304, 0.06488388031721115, 0.7833993434906006, 0.021179232746362686, 0.05876680091023445, 0.0, 0.0, 0.0, 0.0], [0.006350684445351362, 0.008530098013579845, 0.007401539012789726, 0.031168311834335327, 0.9118346571922302, 0.005479594226926565, 0.024588432163000107, 0.004646632354706526, 0.0, 0.0, 0.0], [0.029472975060343742, 0.03797784075140953, 0.03688092529773712, 0.08030939102172852, 0.6523810625076294, 0.030485408380627632, 0.07269745320081711, 0.027157345786690712, 0.03263762965798378, 0.0, 0.0], [0.09665163606405258, 0.09294597804546356, 0.08767487853765488, 0.09468402713537216, 0.10515273362398148, 0.10558260232210159, 0.10553348809480667, 0.11107359826564789, 0.1122523844242096, 0.08844864368438721, 0.0], [0.08189401775598526, 0.07979065179824829, 0.07423745840787888, 0.08863258361816406, 0.12154797464609146, 0.0874200165271759, 0.09657129645347595, 0.09103970974683762, 0.09499672055244446, 0.09195949882268906, 0.09191007912158966]], [[1.0, 0.0, 0.0, 0.0, 0.0, 0.0, 0.0, 0.0, 0.0, 0.0, 0.0], [0.5079001784324646, 0.4920998215675354, 0.0, 0.0, 0.0, 0.0, 0.0, 0.0, 0.0, 0.0, 0.0], [0.3246455490589142, 0.31606805324554443, 0.3592863976955414, 0.0, 0.0, 0.0, 0.0, 0.0, 0.0, 0.0, 0.0], [0.2525445520877838, 0.24288806319236755, 0.28795579075813293, 0.21661163866519928, 0.0, 0.0, 0.0, 0.0, 0.0, 0.0, 0.0], [0.20020584762096405, 0.19953417778015137, 0.20000416040420532, 0.19901429116725922, 0.20124147832393646, 0.0, 0.0, 0.0, 0.0, 0.0, 0.0], [0.18404462933540344, 0.18906621634960175, 0.17093610763549805, 0.20247849822044373, 0.1540871262550354, 0.09938739985227585, 0.0, 0.0, 0.0, 0.0, 0.0], [0.14454957842826843, 0.14545074105262756, 0.14489614963531494, 0.1460820585489273, 0.14311040937900543, 0.13806667923927307, 0.13784436881542206, 0.0, 0.0, 0.0, 0.0], [0.15880680084228516, 0.16377991437911987, 0.1456707864999771, 0.177354633808136, 0.12941473722457886, 0.0778718814253807, 0.07426726073026657, 0.07283396273851395, 0.0, 0.0, 0.0], [0.10990145802497864, 0.11029773950576782, 0.1109812930226326, 0.11000876128673553, 0.11102679371833801, 0.11205996572971344, 0.11231828480958939, 0.11196868866682053, 0.11143707484006882, 0.0, 0.0], [0.0717678964138031, 0.07026669383049011, 0.07795683294534683, 0.06560397893190384, 0.08544040471315384, 0.13092298805713654, 0.13644257187843323, 0.13810954988002777, 0.12582936882972717, 0.09765978157520294, 0.0], [0.07103728502988815, 0.06991959363222122, 0.07572212815284729, 0.06633814424276352, 0.08111421018838882, 0.1123620867729187, 0.11597105860710144, 0.11701519787311554, 0.1089944913983345, 0.08990810811519623, 0.09161771833896637]]], [[[1.0, 0.0, 0.0, 0.0, 0.0, 0.0, 0.0, 0.0, 0.0, 0.0, 0.0], [0.4478314220905304, 0.552168607711792, 0.0, 0.0, 0.0, 0.0, 0.0, 0.0, 0.0, 0.0, 0.0], [0.20960712432861328, 0.23896057903766632, 0.5514322519302368, 0.0, 0.0, 0.0, 0.0, 0.0, 0.0, 0.0, 0.0], [0.10758469253778458, 0.13486409187316895, 0.6406367421150208, 0.11691446602344513, 0.0, 0.0, 0.0, 0.0, 0.0, 0.0, 0.0], [0.14123858511447906, 0.1555490344762802, 0.3213636577129364, 0.14493292570114136, 0.236915722489357, 0.0, 0.0, 0.0, 0.0, 0.0, 0.0], [0.09720195084810257, 0.1101156622171402, 0.24144162237644196, 0.10315454751253128, 0.1854160577058792, 0.2626701295375824, 0.0, 0.0, 0.0, 0.0, 0.0], [0.0708046406507492, 0.08011592924594879, 0.16611479222774506, 0.0756131038069725, 0.1327533721923828, 0.1815265417098999, 0.2930716574192047, 0.0, 0.0, 0.0, 0.0], [0.06147857755422592, 0.06904130429029465, 0.14339756965637207, 0.06497064977884293, 0.11222793161869049, 0.15520581603050232, 0.25071001052856445, 0.14296813309192657, 0.0, 0.0, 0.0], [0.03761027008295059, 0.044369518756866455, 0.12748295068740845, 0.04054102301597595, 0.08853718638420105, 0.1430172473192215, 0.28477251529693604, 0.12691232562065125, 0.10675697773694992, 0.0, 0.0], [0.08463665843009949, 0.08770763874053955, 0.10048697143793106, 0.08731142431497574, 0.09988851845264435, 0.10317067801952362, 0.11343365162611008, 0.1019631177186966, 0.10024353861808777, 0.12115778028964996, 0.0], [0.08400546759366989, 0.0859011560678482, 0.08992926776409149, 0.08622538298368454, 0.09249883890151978, 0.09147057682275772, 0.09488393366336823, 0.09134694933891296, 0.09118025004863739, 0.09607423841953278, 0.09648392349481583]], [[1.0, 0.0, 0.0, 0.0, 0.0, 0.0, 0.0, 0.0, 0.0, 0.0, 0.0], [0.5156314373016357, 0.48436856269836426, 0.0, 0.0, 0.0, 0.0, 0.0, 0.0, 0.0, 0.0, 0.0], [0.41629475355148315, 0.3596542775630951, 0.22405099868774414, 0.0, 0.0, 0.0, 0.0, 0.0, 0.0, 0.0, 0.0], [0.24625055491924286, 0.24858860671520233, 0.3186030089855194, 0.1865578144788742, 0.0, 0.0, 0.0, 0.0, 0.0, 0.0, 0.0], [0.21923427283763885, 0.2348375916481018, 0.37104368209838867, 0.13430163264274597, 0.040582817047834396, 0.0, 0.0, 0.0, 0.0, 0.0, 0.0], [0.040506504476070404, 0.033614665269851685, 0.015276948921382427, 0.09209217131137848, 0.788882851600647, 0.029626896604895592, 0.0, 0.0, 0.0, 0.0, 0.0], [0.057016100734472275, 0.05139903351664543, 0.027436893433332443, 0.1118011549115181, 0.5907794237136841, 0.04450051859021187, 0.11706691235303879, 0.0, 0.0, 0.0, 0.0], [0.04221832752227783, 0.03632830083370209, 0.017614834010601044, 0.09073957055807114, 0.6413834095001221, 0.03167680650949478, 0.10321220010519028, 0.03682659566402435, 0.0, 0.0, 0.0], [0.07883430272340775, 0.07637716084718704, 0.052713003009557724, 0.11950451880693436, 0.31424567103385925, 0.06804180890321732, 0.11431989818811417, 0.07217469066381454, 0.10378892719745636, 0.0, 0.0], [0.060155175626277924, 0.053935106843709946, 0.0340266190469265, 0.09645920991897583, 0.3319169580936432, 0.05017857998609543, 0.10786296427249908, 0.055603690445423126, 0.09501003473997116, 0.11485165357589722, 0.0], [0.04876987263560295, 0.04278792440891266, 0.025370636954903603, 0.08308403939008713, 0.34007954597473145, 0.03969458490610123, 0.09596385061740875, 0.044718556106090546, 0.08289216458797455, 0.10261950641870499, 0.09401936829090118]], [[1.0, 0.0, 0.0, 0.0, 0.0, 0.0, 0.0, 0.0, 0.0, 0.0, 0.0], [0.5099523663520813, 0.4900476336479187, 0.0, 0.0, 0.0, 0.0, 0.0, 0.0, 0.0, 0.0, 0.0], [0.34793880581855774, 0.35271063446998596, 0.2993505895137787, 0.0, 0.0, 0.0, 0.0, 0.0, 0.0, 0.0, 0.0], [0.24530275166034698, 0.23185952007770538, 0.34404510259628296, 0.17879264056682587, 0.0, 0.0, 0.0, 0.0, 0.0, 0.0, 0.0], [0.22515755891799927, 0.2113189697265625, 0.3412010371685028, 0.15243543684482574, 0.06988705694675446, 0.0, 0.0, 0.0, 0.0, 0.0, 0.0], [0.08803972601890564, 0.09336777031421661, 0.0662606805562973, 0.15705978870391846, 0.517808735370636, 0.07746325433254242, 0.0, 0.0, 0.0, 0.0, 0.0], [0.03968776762485504, 0.04440641403198242, 0.022568494081497192, 0.10081437230110168, 0.6756556630134583, 0.035399895161390305, 0.0814673975110054, 0.0, 0.0, 0.0, 0.0], [0.07171725481748581, 0.07596249133348465, 0.055299464613199234, 0.12929591536521912, 0.4356761872768402, 0.06148189306259155, 0.11073796451091766, 0.05982885882258415, 0.0, 0.0, 0.0], [0.06311124563217163, 0.06707428395748138, 0.04894359037280083, 0.11824790388345718, 0.43076783418655396, 0.05278687924146652, 0.09979194402694702, 0.05087817832827568, 0.0683981403708458, 0.0, 0.0], [0.05505654215812683, 0.060615457594394684, 0.030913934111595154, 0.10283489525318146, 0.36244213581085205, 0.05948345363140106, 0.09276723861694336, 0.06508060544729233, 0.08828438073396683, 0.08252136409282684, 0.0], [0.051771607249975204, 0.05700293555855751, 0.028791673481464386, 0.09590353816747665, 0.3321956694126129, 0.05657403543591499, 0.08690830320119858, 0.062220070511102676, 0.0841258317232132, 0.07469423115253448, 0.06981205940246582]], [[1.0, 0.0, 0.0, 0.0, 0.0, 0.0, 0.0, 0.0, 0.0, 0.0, 0.0], [0.5131444931030273, 0.48685550689697266, 0.0, 0.0, 0.0, 0.0, 0.0, 0.0, 0.0, 0.0, 0.0], [0.2961741089820862, 0.2958160936832428, 0.4080098271369934, 0.0, 0.0, 0.0, 0.0, 0.0, 0.0, 0.0, 0.0], [0.16379140317440033, 0.1546248495578766, 0.541704535484314, 0.13987919688224792, 0.0, 0.0, 0.0, 0.0, 0.0, 0.0, 0.0], [0.15050704777240753, 0.1456303745508194, 0.34904518723487854, 0.13732075691223145, 0.21749654412269592, 0.0, 0.0, 0.0, 0.0, 0.0, 0.0], [0.1045670285820961, 0.11760905385017395, 0.17711372673511505, 0.13599872589111328, 0.2990814447402954, 0.1656300127506256, 0.0, 0.0, 0.0, 0.0, 0.0], [0.061827175319194794, 0.07803698629140854, 0.10940971970558167, 0.10480967909097672, 0.3595651388168335, 0.10347780585289001, 0.1828734427690506, 0.0, 0.0, 0.0, 0.0], [0.07155733555555344, 0.0816294476389885, 0.12234152853488922, 0.09616731852293015, 0.22408786416053772, 0.11443179845809937, 0.18767036497592926, 0.10211440920829773, 0.0, 0.0, 0.0], [0.04624834656715393, 0.05523543059825897, 0.11161112040281296, 0.06859052181243896, 0.2385243922472, 0.09968353807926178, 0.2199297994375229, 0.08301107585430145, 0.07716574519872665, 0.0, 0.0], [0.09065970033407211, 0.10370511561632156, 0.0800032839179039, 0.12384217977523804, 0.18416640162467957, 0.08339890837669373, 0.08033410459756851, 0.08425796031951904, 0.08833231031894684, 0.08130007982254028, 0.0], [0.09267845004796982, 0.10527613013982773, 0.0736646056175232, 0.12484895437955856, 0.16857489943504333, 0.07796336710453033, 0.06885960698127747, 0.08038107305765152, 0.08531323820352554, 0.06178794428706169, 0.060651782900094986]], [[1.0, 0.0, 0.0, 0.0, 0.0, 0.0, 0.0, 0.0, 0.0, 0.0, 0.0], [0.5050655007362366, 0.4949344992637634, 0.0, 0.0, 0.0, 0.0, 0.0, 0.0, 0.0, 0.0, 0.0], [0.33347034454345703, 0.33673784136772156, 0.329791784286499, 0.0, 0.0, 0.0, 0.0, 0.0, 0.0, 0.0, 0.0], [0.2544427216053009, 0.24654702842235565, 0.2611241936683655, 0.23788602650165558, 0.0, 0.0, 0.0, 0.0, 0.0, 0.0, 0.0], [0.206082284450531, 0.20149947702884674, 0.21091929078102112, 0.19605492055416107, 0.18544402718544006, 0.0, 0.0, 0.0, 0.0, 0.0, 0.0], [0.15630821883678436, 0.16256341338157654, 0.1512661576271057, 0.17629998922348022, 0.21032100915908813, 0.14324113726615906, 0.0, 0.0, 0.0, 0.0, 0.0], [0.1323891282081604, 0.14037126302719116, 0.1270090639591217, 0.1556699424982071, 0.19550645351409912, 0.11960587650537491, 0.12944823503494263, 0.0, 0.0, 0.0, 0.0], [0.12054125964641571, 0.12555120885372162, 0.11626005917787552, 0.13697293400764465, 0.16540825366973877, 0.10957403481006622, 0.11799181997776031, 0.10770045220851898, 0.0, 0.0, 0.0], [0.10854684561491013, 0.11276592314243317, 0.10511110723018646, 0.12277938425540924, 0.14783327281475067, 0.09872186928987503, 0.10649530589580536, 0.09701995551586151, 0.10072632133960724, 0.0, 0.0], [0.09679923951625824, 0.10108013451099396, 0.09475307166576385, 0.10670511424541473, 0.12064404040575027, 0.0930924341082573, 0.09587735682725906, 0.09197289496660233, 0.09355386346578598, 0.10552188009023666, 0.0], [0.08757001906633377, 0.09153561294078827, 0.08563646674156189, 0.09667426347732544, 0.109390988945961, 0.08424674719572067, 0.08669517934322357, 0.08323556184768677, 0.08467066287994385, 0.09527470171451569, 0.09506972879171371]], [[1.0, 0.0, 0.0, 0.0, 0.0, 0.0, 0.0, 0.0, 0.0, 0.0, 0.0], [0.5183376669883728, 0.4816623628139496, 0.0, 0.0, 0.0, 0.0, 0.0, 0.0, 0.0, 0.0, 0.0], [0.3374890685081482, 0.32994112372398376, 0.3325698673725128, 0.0, 0.0, 0.0, 0.0, 0.0, 0.0, 0.0, 0.0], [0.2676147222518921, 0.24720847606658936, 0.3250909149646759, 0.16008591651916504, 0.0, 0.0, 0.0, 0.0, 0.0, 0.0, 0.0], [0.25644567608833313, 0.23218408226966858, 0.32378605008125305, 0.14401105046272278, 0.043573133647441864, 0.0, 0.0, 0.0, 0.0, 0.0, 0.0], [0.006777779199182987, 0.0058389394544065, 0.0071991924196481705, 0.025580748915672302, 0.9341992139816284, 0.02040407806634903, 0.0, 0.0, 0.0, 0.0, 0.0], [0.006868225988000631, 0.0062348442152142525, 0.006897238548845053, 0.0258172657340765, 0.841371476650238, 0.021283691748976707, 0.09152723103761673, 0.0, 0.0, 0.0, 0.0], [0.004368682391941547, 0.0037256814539432526, 0.004689574241638184, 0.018148768693208694, 0.8604223132133484, 0.01429319754242897, 0.08405647426843643, 0.010295308195054531, 0.0, 0.0, 0.0], [0.008971650153398514, 0.007750596385449171, 0.009996317327022552, 0.02933213859796524, 0.7596303224563599, 0.02459913305938244, 0.11523916572332382, 0.018450593575835228, 0.026029985398054123, 0.0, 0.0], [0.08465192466974258, 0.09138807654380798, 0.07234285026788712, 0.10796840488910675, 0.16553771495819092, 0.10550622642040253, 0.09493539482355118, 0.10700720548629761, 0.10298120230436325, 0.0676809549331665, 0.0], [0.0771588459610939, 0.08342457562685013, 0.06522749364376068, 0.10102638602256775, 0.16426055133342743, 0.09791518747806549, 0.08918329328298569, 0.09910346567630768, 0.09570752084255219, 0.0629769116640091, 0.06401580572128296]], [[1.0, 0.0, 0.0, 0.0, 0.0, 0.0, 0.0, 0.0, 0.0, 0.0, 0.0], [0.5258879661560059, 0.47411206364631653, 0.0, 0.0, 0.0, 0.0, 0.0, 0.0, 0.0, 0.0, 0.0], [0.330650269985199, 0.3218131959438324, 0.347536563873291, 0.0, 0.0, 0.0, 0.0, 0.0, 0.0, 0.0, 0.0], [0.22874294221401215, 0.20220275223255157, 0.372353196144104, 0.1967010647058487, 0.0, 0.0, 0.0, 0.0, 0.0, 0.0, 0.0], [0.19274532794952393, 0.17526334524154663, 0.26472169160842896, 0.17143748700618744, 0.19583219289779663, 0.0, 0.0, 0.0, 0.0, 0.0, 0.0], [0.15081976354122162, 0.15289196372032166, 0.1859489381313324, 0.1543654501438141, 0.18057063221931458, 0.17540328204631805, 0.0, 0.0, 0.0, 0.0, 0.0], [0.11612313240766525, 0.12600131332874298, 0.15581724047660828, 0.12945690751075745, 0.167012020945549, 0.14155811071395874, 0.1640312522649765, 0.0, 0.0, 0.0, 0.0], [0.10590116679668427, 0.10804380476474762, 0.13853856921195984, 0.10928138345479965, 0.13297425210475922, 0.12800079584121704, 0.15481983125209808, 0.12244019657373428, 0.0, 0.0, 0.0], [0.08188335597515106, 0.08364366739988327, 0.13613496720790863, 0.08468235284090042, 0.11913710087537766, 0.11655022203922272, 0.16700001060962677, 0.10696233063936234, 0.10400596261024475, 0.0, 0.0], [0.10734812915325165, 0.11746633797883987, 0.09344752877950668, 0.12028449773788452, 0.11845941096544266, 0.09663651138544083, 0.0804314911365509, 0.09870114922523499, 0.09713414311408997, 0.0700908824801445, 0.0], [0.1049969419836998, 0.11500419676303864, 0.08583010733127594, 0.11775469779968262, 0.11164772510528564, 0.09048299491405487, 0.07187668979167938, 0.093399778008461, 0.09219856560230255, 0.058981068432331085, 0.0578271858394146]], [[1.0, 0.0, 0.0, 0.0, 0.0, 0.0, 0.0, 0.0, 0.0, 0.0, 0.0], [0.365969717502594, 0.6340302228927612, 0.0, 0.0, 0.0, 0.0, 0.0, 0.0, 0.0, 0.0, 0.0], [0.08021753281354904, 0.10956703871488571, 0.8102154731750488, 0.0, 0.0, 0.0, 0.0, 0.0, 0.0, 0.0, 0.0], [0.010719908401370049, 0.019346507266163826, 0.9623203277587891, 0.007613262627273798, 0.0, 0.0, 0.0, 0.0, 0.0, 0.0, 0.0], [0.05233408138155937, 0.0734751895070076, 0.7192821502685547, 0.04259003326296806, 0.11231854557991028, 0.0, 0.0, 0.0, 0.0, 0.0, 0.0], [0.013440409675240517, 0.0204714797437191, 0.30552464723587036, 0.010774415917694569, 0.03597741574048996, 0.6138116717338562, 0.0, 0.0, 0.0, 0.0, 0.0], [0.007899779826402664, 0.011376087553799152, 0.11856967210769653, 0.006514839828014374, 0.018517857417464256, 0.21752752363681793, 0.6195942163467407, 0.0, 0.0, 0.0, 0.0], [0.003996225073933601, 0.006052060518413782, 0.0878756120800972, 0.003205898217856884, 0.010527576319873333, 0.17414870858192444, 0.5762263536453247, 0.13796758651733398, 0.0, 0.0, 0.0], [0.001399229047819972, 0.00232236972078681, 0.06351820379495621, 0.0010562927927821875, 0.00450239609926939, 0.14467735588550568, 0.632535457611084, 0.10763510316610336, 0.04235359653830528, 0.0, 0.0], [0.11308702826499939, 0.1111367791891098, 0.09410437941551208, 0.11562728881835938, 0.11011316627264023, 0.09358757734298706, 0.08690476417541504, 0.09589728713035583, 0.10079111158847809, 0.07875057309865952, 0.0], [0.1270218789577484, 0.12082293629646301, 0.08200521767139435, 0.132540762424469, 0.11499744653701782, 0.077545665204525, 0.06529412418603897, 0.08117037266492844, 0.09091734886169434, 0.05491984263062477, 0.052764374762773514]]], [[[1.0, 0.0, 0.0, 0.0, 0.0, 0.0, 0.0, 0.0, 0.0, 0.0, 0.0], [0.28651541471481323, 0.7134845852851868, 0.0, 0.0, 0.0, 0.0, 0.0, 0.0, 0.0, 0.0, 0.0], [0.08183020353317261, 0.1345784217119217, 0.7835914492607117, 0.0, 0.0, 0.0, 0.0, 0.0, 0.0, 0.0, 0.0], [0.01043752208352089, 0.02802078053355217, 0.9369496703147888, 0.024591978639364243, 0.0, 0.0, 0.0, 0.0, 0.0, 0.0, 0.0], [0.026918889954686165, 0.05426366999745369, 0.6599418520927429, 0.04952026158571243, 0.20935532450675964, 0.0, 0.0, 0.0, 0.0, 0.0, 0.0], [0.017406729981303215, 0.033307597041130066, 0.3293284773826599, 0.03093903884291649, 0.12035783380270004, 0.46866026520729065, 0.0, 0.0, 0.0, 0.0, 0.0], [0.012315383180975914, 0.02211788482964039, 0.17075476050376892, 0.0206427201628685, 0.06888222694396973, 0.23357664048671722, 0.47171035408973694, 0.0, 0.0, 0.0, 0.0], [0.011468893848359585, 0.019882481545209885, 0.13653026521205902, 0.018747922033071518, 0.05951342359185219, 0.1848173886537552, 0.3622886538505554, 0.20675092935562134, 0.0, 0.0, 0.0], [0.005878483410924673, 0.011421765200793743, 0.11643026024103165, 0.010540047660470009, 0.041142262518405914, 0.1656801849603653, 0.3672635555267334, 0.1893196851015091, 0.09232379496097565, 0.0, 0.0], [0.04871688783168793, 0.0585302859544754, 0.10726511478424072, 0.05743155628442764, 0.08301050215959549, 0.11851103603839874, 0.1455240398645401, 0.12268583476543427, 0.10156969726085663, 0.15675505995750427, 0.0], [0.07282495498657227, 0.07742921262979507, 0.09186656028032303, 0.0773945078253746, 0.08774671703577042, 0.09552506357431412, 0.10146154463291168, 0.09649849683046341, 0.0915415808558464, 0.1021205484867096, 0.10559074580669403]], [[1.0, 0.0, 0.0, 0.0, 0.0, 0.0, 0.0, 0.0, 0.0, 0.0, 0.0], [0.5085382461547852, 0.49146178364753723, 0.0, 0.0, 0.0, 0.0, 0.0, 0.0, 0.0, 0.0, 0.0], [0.38746964931488037, 0.33975815773010254, 0.2727722227573395, 0.0, 0.0, 0.0, 0.0, 0.0, 0.0, 0.0, 0.0], [0.24876613914966583, 0.24868877232074738, 0.2502373456954956, 0.2523077130317688, 0.0, 0.0, 0.0, 0.0, 0.0, 0.0, 0.0], [0.21727734804153442, 0.2266383320093155, 0.24388301372528076, 0.19257080554962158, 0.11963052302598953, 0.0, 0.0, 0.0, 0.0, 0.0, 0.0], [0.029573220759630203, 0.023608990013599396, 0.016065021976828575, 0.05829716473817825, 0.8184384703636169, 0.0540170781314373, 0.0, 0.0, 0.0, 0.0, 0.0], [0.03147562965750694, 0.025508666411042213, 0.017800481989979744, 0.058974213898181915, 0.6830939054489136, 0.05484054610133171, 0.1283065676689148, 0.0, 0.0, 0.0, 0.0], [0.022751199081540108, 0.017993580549955368, 0.012038017623126507, 0.04607115313410759, 0.7188006043434143, 0.042518626898527145, 0.11054430156946182, 0.02928251400589943, 0.0, 0.0, 0.0], [0.04911503940820694, 0.042195480316877365, 0.03257443755865097, 0.07779373228549957, 0.466025173664093, 0.07411668449640274, 0.13803666830062866, 0.0581250935792923, 0.062017668038606644, 0.0, 0.0], [0.042311038821935654, 0.03598780557513237, 0.027353456243872643, 0.06750969588756561, 0.4237576425075531, 0.06336057931184769, 0.11970701068639755, 0.04918259382247925, 0.052546605467796326, 0.11828359961509705, 0.0], [0.035833533853292465, 0.030307693406939507, 0.02279544435441494, 0.05812357738614082, 0.38885363936424255, 0.054396700114011765, 0.10506750643253326, 0.041859470307826996, 0.044857773929834366, 0.10356023907661438, 0.11434441804885864]], [[1.0, 0.0, 0.0, 0.0, 0.0, 0.0, 0.0, 0.0, 0.0, 0.0, 0.0], [0.4971037209033966, 0.502896249294281, 0.0, 0.0, 0.0, 0.0, 0.0, 0.0, 0.0, 0.0, 0.0], [0.3721969723701477, 0.35294681787490845, 0.2748562693595886, 0.0, 0.0, 0.0, 0.0, 0.0, 0.0, 0.0, 0.0], [0.21050918102264404, 0.21997864544391632, 0.3666534125804901, 0.20285868644714355, 0.0, 0.0, 0.0, 0.0, 0.0, 0.0, 0.0], [0.1707981526851654, 0.17937180399894714, 0.3093222975730896, 0.16404570639133453, 0.1764620691537857, 0.0, 0.0, 0.0, 0.0, 0.0, 0.0], [0.16841144859790802, 0.15880869328975677, 0.14009132981300354, 0.17610947787761688, 0.21048644185066223, 0.14609257876873016, 0.0, 0.0, 0.0, 0.0, 0.0], [0.11951650679111481, 0.12128420919179916, 0.17095310986042023, 0.1179439052939415, 0.1321253478527069, 0.15975669026374817, 0.17842024564743042, 0.0, 0.0, 0.0, 0.0], [0.13061614334583282, 0.12246894091367722, 0.10325820744037628, 0.13720539212226868, 0.16403378546237946, 0.1087234765291214, 0.12550868093967438, 0.10818532854318619, 0.0, 0.0, 0.0], [0.09024105221033096, 0.09183777868747711, 0.13465604186058044, 0.08880564570426941, 0.10019338876008987, 0.1246885359287262, 0.1404208093881607, 0.12187635898590088, 0.1072804182767868, 0.0, 0.0], [0.0953044444322586, 0.09638248383998871, 0.10519175231456757, 0.09441071003675461, 0.09418652206659317, 0.10314211994409561, 0.10323584079742432, 0.10280546545982361, 0.09828180074691772, 0.10705883800983429, 0.0], [0.09742946922779083, 0.09612774848937988, 0.08600260317325592, 0.09846729040145874, 0.09841031581163406, 0.08819126337766647, 0.08761227875947952, 0.08857513964176178, 0.09337810426950455, 0.08382103592157364, 0.08198478817939758]], [[1.0, 0.0, 0.0, 0.0, 0.0, 0.0, 0.0, 0.0, 0.0, 0.0, 0.0], [0.28385332226753235, 0.71614670753479, 0.0, 0.0, 0.0, 0.0, 0.0, 0.0, 0.0, 0.0, 0.0], [0.06597664952278137, 0.12561315298080444, 0.8084102272987366, 0.0, 0.0, 0.0, 0.0, 0.0, 0.0, 0.0, 0.0], [0.009965925477445126, 0.026273217052221298, 0.9378349184989929, 0.0259258933365345, 0.0, 0.0, 0.0, 0.0, 0.0, 0.0, 0.0], [0.03172978758811951, 0.05737880617380142, 0.6881698369979858, 0.05227840691804886, 0.17044316232204437, 0.0, 0.0, 0.0, 0.0, 0.0, 0.0], [0.011071776039898396, 0.02397400327026844, 0.20570369064807892, 0.029594507068395615, 0.22705253958702087, 0.5026034712791443, 0.0, 0.0, 0.0, 0.0, 0.0], [0.00617779279127717, 0.013101055286824703, 0.09308112412691116, 0.016602592542767525, 0.12490961700677872, 0.23224808275699615, 0.5138797163963318, 0.0, 0.0, 0.0, 0.0], [0.007278128527104855, 0.014552825130522251, 0.07620444148778915, 0.019063714891672134, 0.13305042684078217, 0.18982911109924316, 0.38875463604927063, 0.17126666009426117, 0.0, 0.0, 0.0], [0.0037841396406292915, 0.008397091180086136, 0.06803219765424728, 0.010715018957853317, 0.08923088014125824, 0.1768452227115631, 0.4100114405155182, 0.1598675400018692, 0.07311644405126572, 0.0, 0.0], [0.03644411638379097, 0.04896588996052742, 0.08107920736074448, 0.057996634393930435, 0.1430380493402481, 0.1297520399093628, 0.16810940206050873, 0.12174981087446213, 0.09765589237213135, 0.11520899832248688, 0.0], [0.05458351969718933, 0.06558870524168015, 0.07113505899906158, 0.07819215208292007, 0.15238644182682037, 0.10534528642892838, 0.11898185312747955, 0.0990910604596138, 0.09218905121088028, 0.07858670502901077, 0.08392022550106049]], [[1.0, 0.0, 0.0, 0.0, 0.0, 0.0, 0.0, 0.0, 0.0, 0.0, 0.0], [0.5054288506507874, 0.49457114934921265, 0.0, 0.0, 0.0, 0.0, 0.0, 0.0, 0.0, 0.0, 0.0], [0.35093456506729126, 0.3056061267852783, 0.34345927834510803, 0.0, 0.0, 0.0, 0.0, 0.0, 0.0, 0.0, 0.0], [0.1881956309080124, 0.19415470957756042, 0.3688584268093109, 0.2487911880016327, 0.0, 0.0, 0.0, 0.0, 0.0, 0.0, 0.0], [0.15827322006225586, 0.1588137447834015, 0.20769621431827545, 0.18213783204555511, 0.2930789887905121, 0.0, 0.0, 0.0, 0.0, 0.0, 0.0], [0.06996145099401474, 0.05434543639421463, 0.04252045601606369, 0.11566454917192459, 0.6302006840705872, 0.08730743080377579, 0.0, 0.0, 0.0, 0.0, 0.0], [0.10382137447595596, 0.09600323438644409, 0.09681687504053116, 0.1263071447610855, 0.24618932604789734, 0.12396266311407089, 0.20689941942691803, 0.0, 0.0, 0.0, 0.0], [0.057372886687517166, 0.04431372135877609, 0.031566016376018524, 0.09115927666425705, 0.43483901023864746, 0.06361223012208939, 0.2113269418478012, 0.06580996513366699, 0.0, 0.0, 0.0], [0.08025290071964264, 0.07532583177089691, 0.08008762449026108, 0.09665077179670334, 0.1823810487985611, 0.09954405575990677, 0.1620539128780365, 0.09977084398269653, 0.12393295019865036, 0.0, 0.0], [0.08037331700325012, 0.08571887016296387, 0.11743223667144775, 0.0811498686671257, 0.08416064828634262, 0.10707871615886688, 0.10982141643762589, 0.10520507395267487, 0.08994018286466599, 0.13911958038806915, 0.0], [0.07201403379440308, 0.07343263924121857, 0.08814206719398499, 0.07581406086683273, 0.09033776074647903, 0.08851472288370132, 0.10106617212295532, 0.08773817121982574, 0.0851186215877533, 0.11690117418766022, 0.12092062085866928]], [[1.0, 0.0, 0.0, 0.0, 0.0, 0.0, 0.0, 0.0, 0.0, 0.0, 0.0], [0.48506081104278564, 0.5149391889572144, 0.0, 0.0, 0.0, 0.0, 0.0, 0.0, 0.0, 0.0, 0.0], [0.3542036712169647, 0.31587982177734375, 0.32991647720336914, 0.0, 0.0, 0.0, 0.0, 0.0, 0.0, 0.0, 0.0], [0.18320254981517792, 0.20846198499202728, 0.4009118676185608, 0.20742355287075043, 0.0, 0.0, 0.0, 0.0, 0.0, 0.0, 0.0], [0.16155891120433807, 0.18115776777267456, 0.29386019706726074, 0.16757041215896606, 0.19585271179676056, 0.0, 0.0, 0.0, 0.0, 0.0, 0.0], [0.08268851041793823, 0.06938258558511734, 0.0642615333199501, 0.12173058837652206, 0.5357630252838135, 0.126173734664917, 0.0, 0.0, 0.0, 0.0, 0.0], [0.09199228882789612, 0.08958112448453903, 0.10728948563337326, 0.11311966925859451, 0.24839167296886444, 0.14385515451431274, 0.2057705819606781, 0.0, 0.0, 0.0, 0.0], [0.06359928846359253, 0.053167663514614105, 0.04670616239309311, 0.091501384973526, 0.3673144578933716, 0.08945033699274063, 0.1990736722946167, 0.08918702602386475, 0.0, 0.0, 0.0], [0.07571928948163986, 0.07822686433792114, 0.10726933181285858, 0.08813358843326569, 0.1571853756904602, 0.12598292529582977, 0.15378595888614655, 0.11695844680070877, 0.09673819690942764, 0.0, 0.0], [0.07745281606912613, 0.07486915588378906, 0.07767504453659058, 0.0880468562245369, 0.14248055219650269, 0.09528368711471558, 0.12072530388832092, 0.09333474189043045, 0.09645414352416992, 0.133677676320076, 0.0], [0.0683579221367836, 0.06237443536520004, 0.05563132092356682, 0.08068311959505081, 0.15058740973472595, 0.07599219679832458, 0.10969769209623337, 0.07642793655395508, 0.09234131872653961, 0.11395528167486191, 0.11395137012004852]], [[1.0, 0.0, 0.0, 0.0, 0.0, 0.0, 0.0, 0.0, 0.0, 0.0, 0.0], [0.47584301233291626, 0.5241570472717285, 0.0, 0.0, 0.0, 0.0, 0.0, 0.0, 0.0, 0.0, 0.0], [0.30342724919319153, 0.31016018986701965, 0.3864125907421112, 0.0, 0.0, 0.0, 0.0, 0.0, 0.0, 0.0, 0.0], [0.1482362449169159, 0.16654261946678162, 0.5473403930664062, 0.13788072764873505, 0.0, 0.0, 0.0, 0.0, 0.0, 0.0, 0.0], [0.1555640548467636, 0.1681305468082428, 0.37043124437332153, 0.14832894504070282, 0.15754516422748566, 0.0, 0.0, 0.0, 0.0, 0.0, 0.0], [0.16576166450977325, 0.16561493277549744, 0.1623326689004898, 0.16795992851257324, 0.17280425131320953, 0.16552653908729553, 0.0, 0.0, 0.0, 0.0, 0.0], [0.12083769589662552, 0.12496430426836014, 0.17541997134685516, 0.11870946735143661, 0.12273367494344711, 0.16346240043640137, 0.1738724559545517, 0.0, 0.0, 0.0, 0.0], [0.13168461620807648, 0.13001799583435059, 0.11284221708774567, 0.13443060219287872, 0.1369238644838333, 0.11805468797683716, 0.11749386787414551, 0.11855214834213257, 0.0, 0.0, 0.0], [0.0817912146449089, 0.08637968450784683, 0.15040495991706848, 0.07925429195165634, 0.08314453065395355, 0.13353519141674042, 0.14705055952072144, 0.13277161121368408, 0.10566801577806473, 0.0, 0.0], [0.08952805399894714, 0.09108387678861618, 0.10891444981098175, 0.08832594752311707, 0.08907650411128998, 0.10457036644220352, 0.10739113390445709, 0.10438791662454605, 0.09672961384057999, 0.11999217420816422, 0.0], [0.09643981605768204, 0.09563886374235153, 0.08785153925418854, 0.0969148576259613, 0.09630288928747177, 0.08956759423017502, 0.08832401782274246, 0.089715875685215, 0.09298651665449142, 0.0838075652718544, 0.08245041966438293]], [[1.0, 0.0, 0.0, 0.0, 0.0, 0.0, 0.0, 0.0, 0.0, 0.0, 0.0], [0.5356346964836121, 0.46436530351638794, 0.0, 0.0, 0.0, 0.0, 0.0, 0.0, 0.0, 0.0, 0.0], [0.38449543714523315, 0.31004130840301514, 0.3054632246494293, 0.0, 0.0, 0.0, 0.0, 0.0, 0.0, 0.0, 0.0], [0.24297350645065308, 0.21761451661586761, 0.2031731903553009, 0.3362387418746948, 0.0, 0.0, 0.0, 0.0, 0.0, 0.0, 0.0], [0.18113988637924194, 0.1682947874069214, 0.1470971554517746, 0.2097003012895584, 0.29376789927482605, 0.0, 0.0, 0.0, 0.0, 0.0, 0.0], [0.005504711996763945, 0.0040096091106534, 0.003973942715674639, 0.017186101526021957, 0.9348857998847961, 0.03443976491689682, 0.0, 0.0, 0.0, 0.0, 0.0], [0.013272951357066631, 0.010944321751594543, 0.012351291254162788, 0.02947046607732773, 0.5685491561889648, 0.07340555638074875, 0.2920062243938446, 0.0, 0.0, 0.0, 0.0], [0.004464840050786734, 0.0032926080748438835, 0.003325562458485365, 0.013583502732217312, 0.6921694278717041, 0.02870987541973591, 0.231040820479393, 0.023413388058543205, 0.0, 0.0, 0.0], [0.020617550238966942, 0.017512699589133263, 0.018968001008033752, 0.03965817019343376, 0.43802833557128906, 0.07817157357931137, 0.24804843962192535, 0.06437859684228897, 0.07461656630039215, 0.0, 0.0], [0.04409400373697281, 0.0419047474861145, 0.0485893189907074, 0.05965080112218857, 0.20938850939273834, 0.11944782733917236, 0.18202263116836548, 0.09743352234363556, 0.0777025818824768, 0.11976606398820877, 0.0], [0.035397425293922424, 0.03303239122033119, 0.03739893063902855, 0.05028892681002617, 0.20362158119678497, 0.09627771377563477, 0.1644439697265625, 0.07972240447998047, 0.0692904144525528, 0.10877867788076401, 0.12174758315086365]]], [[[1.0, 0.0, 0.0, 0.0, 0.0, 0.0, 0.0, 0.0, 0.0, 0.0, 0.0], [0.5212600231170654, 0.47873997688293457, 0.0, 0.0, 0.0, 0.0, 0.0, 0.0, 0.0, 0.0, 0.0], [0.33691731095314026, 0.2847420275211334, 0.3783406615257263, 0.0, 0.0, 0.0, 0.0, 0.0, 0.0, 0.0, 0.0], [0.2534938454627991, 0.2246619313955307, 0.27078530192375183, 0.2510589063167572, 0.0, 0.0, 0.0, 0.0, 0.0, 0.0, 0.0], [0.19753636419773102, 0.1833190619945526, 0.20010676980018616, 0.19503942131996155, 0.22399839758872986, 0.0, 0.0, 0.0, 0.0, 0.0, 0.0], [0.15973611176013947, 0.13430951535701752, 0.17659945785999298, 0.15785115957260132, 0.22229430079460144, 0.1492093950510025, 0.0, 0.0, 0.0, 0.0, 0.0], [0.1319383978843689, 0.10916705429553986, 0.14815588295459747, 0.13051173090934753, 0.19038979709148407, 0.12292686849832535, 0.16691023111343384, 0.0, 0.0, 0.0, 0.0], [0.1190541535615921, 0.09938370436429977, 0.1318642944097519, 0.11751972883939743, 0.16774365305900574, 0.11077388375997543, 0.14772190153598785, 0.10593871772289276, 0.0, 0.0, 0.0], [0.10748524963855743, 0.09101506322622299, 0.11753875762224197, 0.1060994416475296, 0.1471072882413864, 0.10039716958999634, 0.13061393797397614, 0.09635230898857117, 0.10339075326919556, 0.0, 0.0], [0.08702991902828217, 0.0721544697880745, 0.10031174123287201, 0.0867299810051918, 0.12722881138324738, 0.08221786469221115, 0.11258191615343094, 0.07843190431594849, 0.08491964638233185, 0.16839377582073212, 0.0], [0.07215311378240585, 0.05971069633960724, 0.08376316726207733, 0.07200492918491364, 0.1062057763338089, 0.06830232590436935, 0.09404691308736801, 0.06512368470430374, 0.07056985050439835, 0.1418801099061966, 0.16623945534229279]], [[1.0, 0.0, 0.0, 0.0, 0.0, 0.0, 0.0, 0.0, 0.0, 0.0, 0.0], [0.5090721845626831, 0.4909278154373169, 0.0, 0.0, 0.0, 0.0, 0.0, 0.0, 0.0, 0.0, 0.0], [0.3200075328350067, 0.304348349571228, 0.37564408779144287, 0.0, 0.0, 0.0, 0.0, 0.0, 0.0, 0.0, 0.0], [0.23278792202472687, 0.21997781097888947, 0.2780218720436096, 0.26921242475509644, 0.0, 0.0, 0.0, 0.0, 0.0, 0.0, 0.0], [0.16265331208705902, 0.15224742889404297, 0.19891232252120972, 0.19225956499576569, 0.2939273715019226, 0.0, 0.0, 0.0, 0.0, 0.0, 0.0], [0.13365080952644348, 0.12361431121826172, 0.1670171320438385, 0.16144323348999023, 0.2650134861469269, 0.14926105737686157, 0.0, 0.0, 0.0, 0.0, 0.0], [0.1130509302020073, 0.1052289605140686, 0.14007338881492615, 0.1350659281015396, 0.21418598294258118, 0.1257026344537735, 0.16669216752052307, 0.0, 0.0, 0.0, 0.0], [0.09964871406555176, 0.0919763594865799, 0.12317616492509842, 0.11990860104560852, 0.19723041355609894, 0.11070961505174637, 0.14974665641784668, 0.10760346055030823, 0.0, 0.0, 0.0], [0.09162496775388718, 0.08533576875925064, 0.11028575897216797, 0.10778782516717911, 0.16734565794467926, 0.10047513246536255, 0.1311110556125641, 0.09795049577951431, 0.1080833375453949, 0.0, 0.0], [0.08600056916475296, 0.08275863528251648, 0.09945683181285858, 0.09603512287139893, 0.12582525610923767, 0.09264662116765976, 0.10932368040084839, 0.09119030088186264, 0.09631866961717606, 0.12044432014226913, 0.0], [0.07651562988758087, 0.0738072469830513, 0.08827629685401917, 0.08515910059213638, 0.11021197587251663, 0.0823199525475502, 0.0964801013469696, 0.08109263330698013, 0.08541582524776459, 0.10597600787878036, 0.11474524438381195]], [[1.0, 0.0, 0.0, 0.0, 0.0, 0.0, 0.0, 0.0, 0.0, 0.0, 0.0], [0.5123355388641357, 0.48766446113586426, 0.0, 0.0, 0.0, 0.0, 0.0, 0.0, 0.0, 0.0, 0.0], [0.3575718402862549, 0.3277537226676941, 0.31467437744140625, 0.0, 0.0, 0.0, 0.0, 0.0, 0.0, 0.0, 0.0], [0.2583952844142914, 0.23942889273166656, 0.23182019591331482, 0.27035558223724365, 0.0, 0.0, 0.0, 0.0, 0.0, 0.0, 0.0], [0.18881331384181976, 0.16979385912418365, 0.16204021871089935, 0.20041608810424805, 0.278936505317688, 0.0, 0.0, 0.0, 0.0, 0.0, 0.0], [0.16151612997055054, 0.14317993819713593, 0.13521064817905426, 0.17267931997776031, 0.2507314085960388, 0.13668255507946014, 0.0, 0.0, 0.0, 0.0, 0.0], [0.14009740948677063, 0.12845206260681152, 0.12344362586736679, 0.14751602709293365, 0.19456276297569275, 0.12207568436861038, 0.14385242760181427, 0.0, 0.0, 0.0, 0.0], [0.12422799319028854, 0.11085117608308792, 0.10487855225801468, 0.13251037895679474, 0.1890907734632492, 0.10547331720590591, 0.1300337314605713, 0.10293403267860413, 0.0, 0.0, 0.0], [0.11194238811731339, 0.10385813564062119, 0.10020133852958679, 0.11730781942605972, 0.14972546696662903, 0.09841794520616531, 0.11376245319843292, 0.09644491970539093, 0.10833955556154251, 0.0, 0.0], [0.1004285141825676, 0.09612378478050232, 0.09466049820184708, 0.10316867381334305, 0.11898108571767807, 0.09300436079502106, 0.10133786499500275, 0.09179066866636276, 0.09825118631124496, 0.10225345939397812, 0.0], [0.09053725749254227, 0.08587910979986191, 0.08418117463588715, 0.09328480809926987, 0.1101120263338089, 0.0836164578795433, 0.09230685234069824, 0.0825331062078476, 0.08902359008789062, 0.093476302921772, 0.09504934400320053]], [[1.0, 0.0, 0.0, 0.0, 0.0, 0.0, 0.0, 0.0, 0.0, 0.0, 0.0], [0.5217800140380859, 0.4782199561595917, 0.0, 0.0, 0.0, 0.0, 0.0, 0.0, 0.0, 0.0, 0.0], [0.38023242354393005, 0.3063147962093353, 0.3134527802467346, 0.0, 0.0, 0.0, 0.0, 0.0, 0.0, 0.0, 0.0], [0.2611277103424072, 0.23748722672462463, 0.2404508888721466, 0.26093414425849915, 0.0, 0.0, 0.0, 0.0, 0.0, 0.0, 0.0], [0.19661174714565277, 0.19706162810325623, 0.19761118292808533, 0.2008587121963501, 0.20785677433013916, 0.0, 0.0, 0.0, 0.0, 0.0, 0.0], [0.16014093160629272, 0.13351629674434662, 0.1362469345331192, 0.15907837450504303, 0.25854209065437317, 0.15247540175914764, 0.0, 0.0, 0.0, 0.0, 0.0], [0.1338569074869156, 0.1142495647072792, 0.11672702431678772, 0.1344415545463562, 0.2104605734348297, 0.12911632657051086, 0.16114811599254608, 0.0, 0.0, 0.0, 0.0], [0.11913041770458221, 0.09918273985385895, 0.10128132998943329, 0.11856656521558762, 0.19436664879322052, 0.11351682990789413, 0.14587193727493286, 0.108083575963974, 0.0, 0.0, 0.0], [0.107428640127182, 0.09440441429615021, 0.09608520567417145, 0.10805945098400116, 0.1564229279756546, 0.10430950671434402, 0.12518978118896484, 0.10030542314052582, 0.10779475420713425, 0.0, 0.0], [0.09190210700035095, 0.07469432801008224, 0.0767664909362793, 0.0909377709031105, 0.1582033336162567, 0.08747600018978119, 0.11567078530788422, 0.08278785645961761, 0.09213178604841232, 0.12942954897880554, 0.0], [0.07978495955467224, 0.06355350464582443, 0.0654144138097763, 0.07859762012958527, 0.14311347901821136, 0.07543134689331055, 0.1022801399230957, 0.07113329321146011, 0.07994834333658218, 0.11588466912508011, 0.12485823780298233]], [[1.0, 0.0, 0.0, 0.0, 0.0, 0.0, 0.0, 0.0, 0.0, 0.0, 0.0], [0.5234552025794983, 0.4765448570251465, 0.0, 0.0, 0.0, 0.0, 0.0, 0.0, 0.0, 0.0, 0.0], [0.36825254559516907, 0.32591524720191956, 0.3058322072029114, 0.0, 0.0, 0.0, 0.0, 0.0, 0.0, 0.0, 0.0], [0.27207857370376587, 0.2318204641342163, 0.2150990068912506, 0.2810019850730896, 0.0, 0.0, 0.0, 0.0, 0.0, 0.0, 0.0], [0.18947701156139374, 0.1511685848236084, 0.13405103981494904, 0.19931373000144958, 0.32598960399627686, 0.0, 0.0, 0.0, 0.0, 0.0, 0.0], [0.16234920918941498, 0.13139182329177856, 0.11678425967693329, 0.17360801994800568, 0.2908686101436615, 0.1249980702996254, 0.0, 0.0, 0.0, 0.0, 0.0], [0.13965049386024475, 0.11910386383533478, 0.11027791351079941, 0.1464904397726059, 0.2181897610425949, 0.11583472788333893, 0.15045280754566193, 0.0, 0.0, 0.0, 0.0], [0.12499683350324631, 0.10034607350826263, 0.08898653835058212, 0.1338668316602707, 0.22878757119178772, 0.09539972245693207, 0.13821789622306824, 0.0893985852599144, 0.0, 0.0, 0.0], [0.11291801929473877, 0.09488105028867722, 0.08733809739351273, 0.1183527410030365, 0.1802230179309845, 0.09154012799263, 0.12174909561872482, 0.086525559425354, 0.10647226870059967, 0.0, 0.0], [0.09936577081680298, 0.09604895859956741, 0.09600689262151718, 0.10045669227838516, 0.11241737753152847, 0.0975276529788971, 0.1020188182592392, 0.09526152163743973, 0.0968443974852562, 0.1040518507361412, 0.0], [0.08982811123132706, 0.08660285919904709, 0.08602137863636017, 0.09119011461734772, 0.1030067503452301, 0.08778513222932816, 0.09253983199596405, 0.08581861853599548, 0.08796891570091248, 0.09379339218139648, 0.0954449400305748]], [[1.0, 0.0, 0.0, 0.0, 0.0, 0.0, 0.0, 0.0, 0.0, 0.0, 0.0], [0.4716096818447113, 0.5283903479576111, 0.0, 0.0, 0.0, 0.0, 0.0, 0.0, 0.0, 0.0, 0.0], [0.19415009021759033, 0.20441286265850067, 0.6014370322227478, 0.0, 0.0, 0.0, 0.0, 0.0, 0.0, 0.0, 0.0], [0.08487769961357117, 0.09662770479917526, 0.6071437001228333, 0.21135090291500092, 0.0, 0.0, 0.0, 0.0, 0.0, 0.0, 0.0], [0.05042432248592377, 0.05670934170484543, 0.2844036817550659, 0.12790057063102722, 0.48056209087371826, 0.0, 0.0, 0.0, 0.0, 0.0, 0.0], [0.03702366724610329, 0.04047911986708641, 0.19825665652751923, 0.09406468272209167, 0.40358248353004456, 0.22659339010715485, 0.0, 0.0, 0.0, 0.0, 0.0], [0.025555303320288658, 0.028197502717375755, 0.13583526015281677, 0.060719121247529984, 0.22056692838668823, 0.14508232474327087, 0.38404354453086853, 0.0, 0.0, 0.0, 0.0], [0.021083567291498184, 0.022820863872766495, 0.10035534203052521, 0.052260663360357285, 0.22220616042613983, 0.11818405240774155, 0.3312619626522064, 0.13182735443115234, 0.0, 0.0, 0.0], [0.01814778707921505, 0.02010020799934864, 0.09831324219703674, 0.04402836784720421, 0.16353952884674072, 0.10557326674461365, 0.285390704870224, 0.11743824928998947, 0.1474686712026596, 0.0, 0.0], [0.046461012214422226, 0.048164837062358856, 0.10177722573280334, 0.0652729794383049, 0.11095680296421051, 0.10100270062685013, 0.14950783550739288, 0.10438957810401917, 0.10805243998765945, 0.164414644241333, 0.0], [0.053210292011499405, 0.05353676155209541, 0.08350661396980286, 0.06659591197967529, 0.10199544578790665, 0.08708484470844269, 0.11407162249088287, 0.08875388652086258, 0.09162115305662155, 0.12192674726247787, 0.13769669830799103]], [[1.0, 0.0, 0.0, 0.0, 0.0, 0.0, 0.0, 0.0, 0.0, 0.0, 0.0], [0.519453763961792, 0.480546236038208, 0.0, 0.0, 0.0, 0.0, 0.0, 0.0, 0.0, 0.0, 0.0], [0.34837618470191956, 0.31015744805336, 0.34146639704704285, 0.0, 0.0, 0.0, 0.0, 0.0, 0.0, 0.0, 0.0], [0.26218533515930176, 0.22926078736782074, 0.2444489598274231, 0.2641049325466156, 0.0, 0.0, 0.0, 0.0, 0.0, 0.0, 0.0], [0.2057223618030548, 0.17149311304092407, 0.1772274374961853, 0.20149582624435425, 0.24406132102012634, 0.0, 0.0, 0.0, 0.0, 0.0, 0.0], [0.15808510780334473, 0.13215136528015137, 0.1468210071325302, 0.1628187745809555, 0.2557661235332489, 0.14435763657093048, 0.0, 0.0, 0.0, 0.0, 0.0], [0.13184893131256104, 0.11227332800626755, 0.12402897328138351, 0.13573899865150452, 0.2073194980621338, 0.12307108938694, 0.1657191962003708, 0.0, 0.0, 0.0, 0.0], [0.11722073704004288, 0.09772217273712158, 0.1087617501616478, 0.1208585873246193, 0.19194665551185608, 0.10715818405151367, 0.15027596056461334, 0.106055848300457, 0.0, 0.0, 0.0], [0.10600142180919647, 0.09047270566225052, 0.09917179495096207, 0.10863059014081955, 0.16123716533184052, 0.09679632633924484, 0.12947441637516022, 0.09573934227228165, 0.11247625946998596, 0.0, 0.0], [0.08723235875368118, 0.08183755725622177, 0.08895135670900345, 0.09055862575769424, 0.12359370291233063, 0.09871867299079895, 0.11289290338754654, 0.09714743494987488, 0.09923700243234634, 0.1198304072022438, 0.0], [0.07741736620664597, 0.07274674624204636, 0.07897432893514633, 0.08039800822734833, 0.1095137894153595, 0.08798350393772125, 0.10041569918394089, 0.08665583282709122, 0.08839728683233261, 0.10640610009431839, 0.11109128594398499]], [[1.0, 0.0, 0.0, 0.0, 0.0, 0.0, 0.0, 0.0, 0.0, 0.0, 0.0], [0.5045504570007324, 0.4954495429992676, 0.0, 0.0, 0.0, 0.0, 0.0, 0.0, 0.0, 0.0, 0.0], [0.337759405374527, 0.3279563784599304, 0.3342842161655426, 0.0, 0.0, 0.0, 0.0, 0.0, 0.0, 0.0, 0.0], [0.24459166824817657, 0.23826183378696442, 0.24001631140708923, 0.27713021636009216, 0.0, 0.0, 0.0, 0.0, 0.0, 0.0, 0.0], [0.17285053431987762, 0.16848662495613098, 0.16927354037761688, 0.19376972317695618, 0.2956196069717407, 0.0, 0.0, 0.0, 0.0, 0.0, 0.0], [0.13333529233932495, 0.1286037415266037, 0.1310274749994278, 0.15766219794750214, 0.2962563633918762, 0.1531149446964264, 0.0, 0.0, 0.0, 0.0, 0.0], [0.11573555320501328, 0.11198251694440842, 0.11422955989837646, 0.13484059274196625, 0.24063658714294434, 0.131874680519104, 0.15070050954818726, 0.0, 0.0, 0.0, 0.0], [0.10113678872585297, 0.09758096933364868, 0.099336639046669, 0.11946456134319305, 0.22372107207775116, 0.11600728332996368, 0.13428112864494324, 0.10847156494855881, 0.0, 0.0, 0.0], [0.09473058581352234, 0.09199214726686478, 0.0932769775390625, 0.10868559032678604, 0.18270649015903473, 0.1060853898525238, 0.11953911185264587, 0.10029483586549759, 0.10268884152173996, 0.0, 0.0], [0.08676955103874207, 0.08471677452325821, 0.08661673218011856, 0.09689391404390335, 0.14832153916358948, 0.096516452729702, 0.10618899017572403, 0.09214295446872711, 0.09323430061340332, 0.1085987389087677, 0.0], [0.07734591513872147, 0.07544561475515366, 0.07727397233247757, 0.0866573303937912, 0.1342984288930893, 0.08635074645280838, 0.09534958004951477, 0.0823497325181961, 0.08338753134012222, 0.09763211011886597, 0.10390900075435638]]], [[[1.0, 0.0, 0.0, 0.0, 0.0, 0.0, 0.0, 0.0, 0.0, 0.0, 0.0], [0.5057514309883118, 0.49424850940704346, 0.0, 0.0, 0.0, 0.0, 0.0, 0.0, 0.0, 0.0, 0.0], [0.37889018654823303, 0.3467610776424408, 0.27434873580932617, 0.0, 0.0, 0.0, 0.0, 0.0, 0.0, 0.0, 0.0], [0.2578091025352478, 0.24519915878772736, 0.2339354157447815, 0.26305630803108215, 0.0, 0.0, 0.0, 0.0, 0.0, 0.0, 0.0], [0.2130611091852188, 0.2050926238298416, 0.21952290832996368, 0.20538464188575745, 0.15693870186805725, 0.0, 0.0, 0.0, 0.0, 0.0, 0.0], [0.1240445002913475, 0.11069539189338684, 0.08592399954795837, 0.1378776729106903, 0.3886201083660126, 0.1528383493423462, 0.0, 0.0, 0.0, 0.0, 0.0], [0.10013426840305328, 0.08869505673646927, 0.06574486196041107, 0.11177051067352295, 0.3571995198726654, 0.12686243653297424, 0.1495932787656784, 0.0, 0.0, 0.0, 0.0], [0.09137653559446335, 0.08058623969554901, 0.060477033257484436, 0.1020149290561676, 0.31755611300468445, 0.11383997648954391, 0.13595294952392578, 0.09819627553224564, 0.0, 0.0, 0.0], [0.08887985348701477, 0.07916492223739624, 0.06061599403619766, 0.09691566228866577, 0.26246416568756104, 0.10523621737957001, 0.12219081073999405, 0.09195815771818161, 0.09257417917251587, 0.0, 0.0], [0.06437274068593979, 0.057946015149354935, 0.04031701758503914, 0.07439859211444855, 0.31067705154418945, 0.09553058445453644, 0.1101275309920311, 0.07925867289304733, 0.0745379775762558, 0.09283380955457687, 0.0], [0.05716453492641449, 0.051409605890512466, 0.035600606352090836, 0.06670936197042465, 0.2923300266265869, 0.08693713694810867, 0.10099558532238007, 0.07183706760406494, 0.06746052205562592, 0.08466339111328125, 0.08489218354225159]], [[1.0, 0.0, 0.0, 0.0, 0.0, 0.0, 0.0, 0.0, 0.0, 0.0, 0.0], [0.5217753648757935, 0.47822463512420654, 0.0, 0.0, 0.0, 0.0, 0.0, 0.0, 0.0, 0.0, 0.0], [0.3755466341972351, 0.3332509994506836, 0.2912023663520813, 0.0, 0.0, 0.0, 0.0, 0.0, 0.0, 0.0, 0.0], [0.2798703610897064, 0.23216716945171356, 0.2281034141778946, 0.25985902547836304, 0.0, 0.0, 0.0, 0.0, 0.0, 0.0, 0.0], [0.26854023337364197, 0.20437289774417877, 0.213248610496521, 0.20687751471996307, 0.10696074366569519, 0.0, 0.0, 0.0, 0.0, 0.0, 0.0], [0.10750934481620789, 0.08729853481054306, 0.07552338391542435, 0.12655134499073029, 0.45902368426322937, 0.14409373700618744, 0.0, 0.0, 0.0, 0.0, 0.0], [0.08577193319797516, 0.07131894677877426, 0.06180410087108612, 0.10214708000421524, 0.3750247061252594, 0.12250375002622604, 0.18142955005168915, 0.0, 0.0, 0.0, 0.0], [0.07407315820455551, 0.05867394432425499, 0.04981175810098648, 0.08870870620012283, 0.37359675765037537, 0.10242781788110733, 0.16326093673706055, 0.08944689482450485, 0.0, 0.0, 0.0], [0.08182553201913834, 0.06517896056175232, 0.057171568274497986, 0.09197744727134705, 0.2813684046268463, 0.09416808187961578, 0.14195984601974487, 0.08456887304782867, 0.10178136080503464, 0.0, 0.0], [0.04081997275352478, 0.039756860584020615, 0.03361311927437782, 0.056507766246795654, 0.3060474991798401, 0.10803168267011642, 0.1425722986459732, 0.09261730313301086, 0.08928173035383224, 0.09075183421373367, 0.0], [0.033747948706150055, 0.03321704640984535, 0.02772744558751583, 0.04829443618655205, 0.30007949471473694, 0.09967688471078873, 0.13284894824028015, 0.08445637673139572, 0.08023763447999954, 0.08074858784675598, 0.0789651870727539]], [[1.0, 0.0, 0.0, 0.0, 0.0, 0.0, 0.0, 0.0, 0.0, 0.0, 0.0], [0.5100787878036499, 0.4899212121963501, 0.0, 0.0, 0.0, 0.0, 0.0, 0.0, 0.0, 0.0, 0.0], [0.4355967938899994, 0.3527255654335022, 0.21167762577533722, 0.0, 0.0, 0.0, 0.0, 0.0, 0.0, 0.0, 0.0], [0.275264710187912, 0.2466360628604889, 0.20792192220687866, 0.27017730474472046, 0.0, 0.0, 0.0, 0.0, 0.0, 0.0, 0.0], [0.2015981376171112, 0.18365003168582916, 0.17191484570503235, 0.1985408514738083, 0.2442960888147354, 0.0, 0.0, 0.0, 0.0, 0.0, 0.0], [0.11233288049697876, 0.08403220772743225, 0.04398613050580025, 0.10817238688468933, 0.5404524803161621, 0.1110239326953888, 0.0, 0.0, 0.0, 0.0, 0.0], [0.09053755551576614, 0.06589355319738388, 0.031946636736392975, 0.08700111508369446, 0.5220053791999817, 0.09031998366117477, 0.11229574680328369, 0.0, 0.0, 0.0, 0.0], [0.08592614531517029, 0.06250858306884766, 0.030679844319820404, 0.08245494961738586, 0.4826100468635559, 0.08488629013299942, 0.10603024065494537, 0.06490398943424225, 0.0, 0.0, 0.0], [0.08532495051622391, 0.06352761387825012, 0.033178653568029404, 0.08209915459156036, 0.4132227599620819, 0.0835672989487648, 0.10313849151134491, 0.06529427319765091, 0.07064676284790039, 0.0, 0.0], [0.07488645613193512, 0.05750838294625282, 0.028650028631091118, 0.07231883704662323, 0.39842209219932556, 0.08212935924530029, 0.09364734590053558, 0.06387794017791748, 0.06380439549684525, 0.06475526094436646, 0.0], [0.0695895105600357, 0.053350478410720825, 0.02622879110276699, 0.06726408749818802, 0.38110339641571045, 0.0767866000533104, 0.0874280110001564, 0.05956397205591202, 0.05933668091893196, 0.06024840846657753, 0.059100113809108734]], [[1.0, 0.0, 0.0, 0.0, 0.0, 0.0, 0.0, 0.0, 0.0, 0.0, 0.0], [0.5049930214881897, 0.4950069487094879, 0.0, 0.0, 0.0, 0.0, 0.0, 0.0, 0.0, 0.0, 0.0], [0.35209786891937256, 0.327999085187912, 0.31990307569503784, 0.0, 0.0, 0.0, 0.0, 0.0, 0.0, 0.0, 0.0], [0.25061362981796265, 0.23734048008918762, 0.23816832900047302, 0.2738775312900543, 0.0, 0.0, 0.0, 0.0, 0.0, 0.0, 0.0], [0.17793571949005127, 0.16772249341011047, 0.1710616946220398, 0.1938316375017166, 0.28944844007492065, 0.0, 0.0, 0.0, 0.0, 0.0, 0.0], [0.12455768138170242, 0.11232616007328033, 0.1094142273068428, 0.14961764216423035, 0.35730820894241333, 0.14677605032920837, 0.0, 0.0, 0.0, 0.0, 0.0], [0.10119353234767914, 0.09025000035762787, 0.08826891332864761, 0.12364522367715836, 0.3194214999675751, 0.12050160020589828, 0.15671928226947784, 0.0, 0.0, 0.0, 0.0], [0.09079553186893463, 0.08091944456100464, 0.07875188440084457, 0.11111453920602798, 0.29034966230392456, 0.10852251946926117, 0.14129413664340973, 0.09825223684310913, 0.0, 0.0, 0.0], [0.08428579568862915, 0.07547938078641891, 0.0742267295718193, 0.10185828804969788, 0.2499888837337494, 0.09893620759248734, 0.1273401975631714, 0.0900731086730957, 0.09781140834093094, 0.0, 0.0], [0.0802275612950325, 0.0738677978515625, 0.07159136235713959, 0.09372854977846146, 0.1955433338880539, 0.09317947924137115, 0.11290674656629562, 0.08640874922275543, 0.09157520532608032, 0.10097122192382812, 0.0], [0.07223090529441833, 0.06647288799285889, 0.06420538574457169, 0.08453678339719772, 0.1782391369342804, 0.08420619368553162, 0.10215005278587341, 0.07803709805011749, 0.0827077254652977, 0.09112824499607086, 0.09608560055494308]], [[1.0, 0.0, 0.0, 0.0, 0.0, 0.0, 0.0, 0.0, 0.0, 0.0, 0.0], [0.5146151781082153, 0.48538485169410706, 0.0, 0.0, 0.0, 0.0, 0.0, 0.0, 0.0, 0.0, 0.0], [0.41155970096588135, 0.3350025713443756, 0.25343775749206543, 0.0, 0.0, 0.0, 0.0, 0.0, 0.0, 0.0, 0.0], [0.2745454013347626, 0.23807823657989502, 0.21210350096225739, 0.27527281641960144, 0.0, 0.0, 0.0, 0.0, 0.0, 0.0, 0.0], [0.19319412112236023, 0.16888245940208435, 0.1641821712255478, 0.19677290320396423, 0.276968389749527, 0.0, 0.0, 0.0, 0.0, 0.0, 0.0], [0.12645314633846283, 0.09461412578821182, 0.06782691180706024, 0.12453281134366989, 0.46201902627944946, 0.12455393373966217, 0.0, 0.0, 0.0, 0.0, 0.0], [0.10413438826799393, 0.07623017579317093, 0.05226217955350876, 0.1019875779747963, 0.43343836069107056, 0.10377060621976852, 0.128176748752594, 0.0, 0.0, 0.0, 0.0], [0.0965304896235466, 0.07016875594854355, 0.04851643741130829, 0.0947330966591835, 0.4003165662288666, 0.09476479142904282, 0.11905808001756668, 0.0759117379784584, 0.0, 0.0, 0.0], [0.09282512962818146, 0.06869394332170486, 0.04872911795973778, 0.0911269411444664, 0.348181813955307, 0.09016504138708115, 0.11214151978492737, 0.07334987074136734, 0.07478658854961395, 0.0, 0.0], [0.08443722128868103, 0.06717833131551743, 0.04578549042344093, 0.08157489448785782, 0.29828429222106934, 0.09319134056568146, 0.10070599615573883, 0.07527262717485428, 0.0683412253856659, 0.0852285772562027, 0.0], [0.07659478485584259, 0.06097272410988808, 0.041240889579057693, 0.07401213049888611, 0.2772381007671356, 0.08567333221435547, 0.09205862134695053, 0.06890877336263657, 0.06202748790383339, 0.0778154730796814, 0.08345772325992584]], [[1.0, 0.0, 0.0, 0.0, 0.0, 0.0, 0.0, 0.0, 0.0, 0.0, 0.0], [0.5091131329536438, 0.4908868372440338, 0.0, 0.0, 0.0, 0.0, 0.0, 0.0, 0.0, 0.0, 0.0], [0.39828556776046753, 0.3479363024234772, 0.2537781000137329, 0.0, 0.0, 0.0, 0.0, 0.0, 0.0, 0.0, 0.0], [0.2620399594306946, 0.24684235453605652, 0.21519578993320465, 0.27592191100120544, 0.0, 0.0, 0.0, 0.0, 0.0, 0.0, 0.0], [0.19645413756370544, 0.19371144473552704, 0.18863968551158905, 0.1980053186416626, 0.2231893688440323, 0.0, 0.0, 0.0, 0.0, 0.0, 0.0], [0.09428748488426208, 0.08025354892015457, 0.055245041847229004, 0.10854194313287735, 0.5482679605484009, 0.11340402066707611, 0.0, 0.0, 0.0, 0.0, 0.0], [0.07681265473365784, 0.06440914422273636, 0.042845774441957474, 0.08957220613956451, 0.526148796081543, 0.0938902497291565, 0.10632114857435226, 0.0, 0.0, 0.0, 0.0], [0.07252991944551468, 0.06093599274754524, 0.04069538787007332, 0.08443334698677063, 0.4858461022377014, 0.08851911127567291, 0.10011573135852814, 0.06692440062761307, 0.0, 0.0, 0.0], [0.07372237741947174, 0.062881700694561, 0.043534524738788605, 0.08463424444198608, 0.417208194732666, 0.08826958388090134, 0.09875398874282837, 0.06838283687829971, 0.06261246651411057, 0.0, 0.0], [0.06225677207112312, 0.052172064781188965, 0.03455488756299019, 0.07280156761407852, 0.43577054142951965, 0.0765087902545929, 0.08664513379335403, 0.057460904121398926, 0.05197647213935852, 0.06985285133123398, 0.0], [0.05724014714360237, 0.047900617122650146, 0.031598012894392014, 0.06706222891807556, 0.40846920013427734, 0.07055111229419708, 0.07997836172580719, 0.05284372344613075, 0.04774342104792595, 0.06430811434984207, 0.07230494171380997]], [[1.0, 0.0, 0.0, 0.0, 0.0, 0.0, 0.0, 0.0, 0.0, 0.0, 0.0], [0.5103183388710022, 0.489681601524353, 0.0, 0.0, 0.0, 0.0, 0.0, 0.0, 0.0, 0.0, 0.0], [0.4122161269187927, 0.33744457364082336, 0.2503393292427063, 0.0, 0.0, 0.0, 0.0, 0.0, 0.0, 0.0, 0.0], [0.26237428188323975, 0.240090012550354, 0.21206198632717133, 0.28547370433807373, 0.0, 0.0, 0.0, 0.0, 0.0, 0.0, 0.0], [0.1696123331785202, 0.16001348197460175, 0.14946554601192474, 0.19541437923908234, 0.32549425959587097, 0.0, 0.0, 0.0, 0.0, 0.0, 0.0], [0.09021512418985367, 0.06922769546508789, 0.047021761536598206, 0.10691922903060913, 0.5708103775978088, 0.11580576002597809, 0.0, 0.0, 0.0, 0.0, 0.0], [0.07730276882648468, 0.05893256142735481, 0.03963307663798332, 0.09104184061288834, 0.4983592927455902, 0.09901200234889984, 0.13571837544441223, 0.0, 0.0, 0.0, 0.0], [0.06675397604703903, 0.05012853443622589, 0.032981205731630325, 0.08008097112178802, 0.4890314042568207, 0.08734625577926636, 0.12296290695667267, 0.07071470469236374, 0.0, 0.0, 0.0], [0.06960489600896835, 0.054188232868909836, 0.037639085203409195, 0.08182714879512787, 0.3987002968788147, 0.0880560427904129, 0.11901969462633133, 0.07319405674934387, 0.07777058333158493, 0.0, 0.0], [0.07516346126794815, 0.05917052552103996, 0.04114382714033127, 0.07918116450309753, 0.31172627210617065, 0.08811220526695251, 0.10644974559545517, 0.0738409161567688, 0.07301639020442963, 0.09219544380903244, 0.0], [0.06788621842861176, 0.053168799728155136, 0.03666266053915024, 0.07156360149383545, 0.29009461402893066, 0.07983873784542084, 0.09680094569921494, 0.06665461510419846, 0.06587743759155273, 0.08357169479131699, 0.08788065612316132]], [[1.0, 0.0, 0.0, 0.0, 0.0, 0.0, 0.0, 0.0, 0.0, 0.0, 0.0], [0.5311163663864136, 0.46888360381126404, 0.0, 0.0, 0.0, 0.0, 0.0, 0.0, 0.0, 0.0, 0.0], [0.3897998034954071, 0.2985955774784088, 0.3116046190261841, 0.0, 0.0, 0.0, 0.0, 0.0, 0.0, 0.0, 0.0], [0.2814408540725708, 0.21928739547729492, 0.23350049555301666, 0.2657712399959564, 0.0, 0.0, 0.0, 0.0, 0.0, 0.0, 0.0], [0.19968591630458832, 0.15252985060214996, 0.16130420565605164, 0.18670956790447235, 0.29977044463157654, 0.0, 0.0, 0.0, 0.0, 0.0, 0.0], [0.16855593025684357, 0.1149311289191246, 0.12096129357814789, 0.15449324250221252, 0.3123793601989746, 0.1286790519952774, 0.0, 0.0, 0.0, 0.0, 0.0], [0.1400875747203827, 0.09225493669509888, 0.09890713542699814, 0.1272435486316681, 0.27127158641815186, 0.10458795726299286, 0.1656472235918045, 0.0, 0.0, 0.0, 0.0], [0.1284351944923401, 0.08515822142362595, 0.08913976699113846, 0.1167871356010437, 0.24871134757995605, 0.09557478874921799, 0.14975039660930634, 0.08644312620162964, 0.0, 0.0, 0.0], [0.11624488979578018, 0.07763808965682983, 0.08227045089006424, 0.10570336878299713, 0.2195722609758377, 0.08709285408258438, 0.13551218807697296, 0.07894644886255264, 0.09701947122812271, 0.0, 0.0], [0.10272367298603058, 0.07589270174503326, 0.07977725565433502, 0.09605331718921661, 0.16573050618171692, 0.08284327387809753, 0.1154085174202919, 0.07688437402248383, 0.08959068357944489, 0.11509566009044647, 0.0], [0.09133011102676392, 0.06831007450819016, 0.07128018140792847, 0.08572660386562347, 0.14529813826084137, 0.07421328872442245, 0.10195150971412659, 0.06906889379024506, 0.08002722263336182, 0.10153055936098099, 0.11126340180635452]]]], \"top_text\": [\"<bos>\", \"the\", \"young\", \"girl\", \"who\", \"plays\", \"with\", \"the\", \"older\", \"kids\", \"<eos>\"], \"bot_text\": [\"<bos>\", \"the\", \"young\", \"girl\", \"who\", \"plays\", \"with\", \"the\", \"older\", \"kids\", \"<eos>\"]}}"
      ],
      "text/plain": [
       "<IPython.core.display.Javascript object>"
      ]
     },
     "metadata": {},
     "output_type": "display_data"
    },
    {
     "data": {
      "application/javascript": [
       "/**\n",
       " * @fileoverview Transformer Visualization D3 javascript code.\n",
       " */\n",
       "\n",
       "requirejs(['jquery', 'd3'],\n",
       "function($, d3) {\n",
       "\n",
       "var attention = window.attention;\n",
       "\n",
       "const TEXT_SIZE = 15;\n",
       "const BOXWIDTH = TEXT_SIZE * 8;\n",
       "const BOXHEIGHT = TEXT_SIZE * 1.5;\n",
       "const WIDTH = 2000;\n",
       "const HEIGHT = attention.all.bot_text.length * BOXHEIGHT * 2 + 100;\n",
       "const MATRIX_WIDTH = 150;\n",
       "const head_colours = d3.scale.category10();\n",
       "const CHECKBOX_SIZE = 20;\n",
       "\n",
       "function lighten(colour) {\n",
       "  var c = d3.hsl(colour);\n",
       "  var increment = (1 - c.l) * 0.6;\n",
       "  c.l += increment;\n",
       "  c.s -= increment;\n",
       "  return c;\n",
       "}\n",
       "\n",
       "function transpose(mat) {\n",
       "  return mat[0].map(function(col, i) {\n",
       "    return mat.map(function(row) {\n",
       "      return row[i];\n",
       "    });\n",
       "  });\n",
       "}\n",
       "\n",
       "function zip(a, b) {\n",
       "  return a.map(function (e, i) {\n",
       "    return [e, b[i]];\n",
       "  });\n",
       "}\n",
       "\n",
       "\n",
       "function renderVis(id, top_text, bot_text, attention_heads, config) {\n",
       "  $(id).empty();\n",
       "  var svg = d3.select(id)\n",
       "            .append('svg')\n",
       "            .attr(\"width\", WIDTH)\n",
       "            .attr(\"height\", HEIGHT);\n",
       "\n",
       "  var att_data = [];\n",
       "  for (var i=0; i < attention_heads.length; i++) {\n",
       "    var att_trans = transpose(attention_heads[i]);\n",
       "    att_data.push(zip(attention_heads[i], att_trans));\n",
       "  }\n",
       "\n",
       "  renderText(svg, top_text, true, att_data, 0);\n",
       "  renderText(svg, bot_text, false, att_data, MATRIX_WIDTH + BOXWIDTH);\n",
       "\n",
       "  renderAttentionHighlights(svg, att_data);\n",
       "\n",
       "  svg.append(\"g\").classed(\"attention_heads\", true);\n",
       "\n",
       "  renderAttention(svg, attention_heads);\n",
       "\n",
       "  draw_checkboxes(config, 0, svg, attention_heads);\n",
       "}\n",
       "\n",
       "\n",
       "function renderText(svg, text, is_top, att_data, left_pos) {\n",
       "  var id = is_top ? \"top\" : \"bottom\";\n",
       "  var textContainer = svg.append(\"svg:g\")\n",
       "                         .attr(\"id\", id);\n",
       "\n",
       "  textContainer.append(\"g\").classed(\"attention_boxes\", true)\n",
       "               .selectAll(\"g\")\n",
       "               .data(att_data)\n",
       "               .enter()\n",
       "               .append(\"g\")\n",
       "               .selectAll(\"rect\")\n",
       "               .data(function(d) {return d;})\n",
       "               .enter()\n",
       "               .append(\"rect\")\n",
       "               .attr(\"x\", function(d, i, j) {\n",
       "                 return left_pos + box_offset(j);\n",
       "               })\n",
       "               .attr(\"y\", function(d, i) {\n",
       "                 return (+1) * BOXHEIGHT;\n",
       "               })\n",
       "               .attr(\"width\", BOXWIDTH/active_heads())\n",
       "               .attr(\"height\", function() { return BOXHEIGHT; })\n",
       "               .attr(\"fill\", function(d, i, j) {\n",
       "                  return head_colours(j);\n",
       "                })\n",
       "               .style(\"opacity\", 0.0);\n",
       "\n",
       "\n",
       "  var tokenContainer = textContainer.append(\"g\").selectAll(\"g\")\n",
       "                                    .data(text)\n",
       "                                    .enter()\n",
       "                                    .append(\"g\");\n",
       "\n",
       "  tokenContainer.append(\"rect\")\n",
       "                .classed(\"background\", true)\n",
       "                .style(\"opacity\", 0.0)\n",
       "                .attr(\"fill\", \"lightgray\")\n",
       "                .attr(\"x\", left_pos)\n",
       "                .attr(\"y\", function(d, i) {\n",
       "                  return (i+1) * BOXHEIGHT;\n",
       "                })\n",
       "                .attr(\"width\", BOXWIDTH)\n",
       "                .attr(\"height\", BOXHEIGHT);\n",
       "\n",
       "  var theText = tokenContainer.append(\"text\")\n",
       "                              .text(function(d) { return d; })\n",
       "                              .attr(\"font-size\", TEXT_SIZE + \"px\")\n",
       "                              .style(\"cursor\", \"default\")\n",
       "                              .style(\"-webkit-user-select\", \"none\")\n",
       "                              .attr(\"x\", left_pos)\n",
       "                              .attr(\"y\", function(d, i) {\n",
       "                                return (i+1) * BOXHEIGHT;\n",
       "                              });\n",
       "\n",
       "  if (is_top) {\n",
       "    theText.style(\"text-anchor\", \"end\")\n",
       "           .attr(\"dx\", BOXWIDTH - TEXT_SIZE)\n",
       "           .attr(\"dy\", TEXT_SIZE);\n",
       "  } else {\n",
       "    theText.style(\"text-anchor\", \"start\")\n",
       "           .attr(\"dx\", + TEXT_SIZE)\n",
       "           .attr(\"dy\", TEXT_SIZE);\n",
       "  }\n",
       "\n",
       "  tokenContainer.on(\"mouseover\", function(d, index) {\n",
       "    textContainer.selectAll(\".background\")\n",
       "                 .style(\"opacity\", function(d, i) {\n",
       "                   return i == index ? 1.0 : 0.0;\n",
       "                 });\n",
       "\n",
       "    svg.selectAll(\".attention_heads\").style(\"display\", \"none\");\n",
       "\n",
       "    svg.selectAll(\".line_heads\")  // To get the nesting to work.\n",
       "       .selectAll(\".att_lines\")\n",
       "       .attr(\"stroke-opacity\", function(d) {\n",
       "          return 1.0;\n",
       "        })\n",
       "       .attr(\"y1\", function(d, i) {\n",
       "        if (is_top) {\n",
       "          return (index+1) * BOXHEIGHT + (BOXHEIGHT/2);\n",
       "        } else {\n",
       "          return (i+1) * BOXHEIGHT + (BOXHEIGHT/2);\n",
       "        }\n",
       "     })\n",
       "     .attr(\"x1\", BOXWIDTH)\n",
       "     .attr(\"y2\", function(d, i) {\n",
       "       if (is_top) {\n",
       "          return (i+1) * BOXHEIGHT + (BOXHEIGHT/2);\n",
       "        } else {\n",
       "          return (index+1) * BOXHEIGHT + (BOXHEIGHT/2);\n",
       "        }\n",
       "     })\n",
       "     .attr(\"x2\", BOXWIDTH + MATRIX_WIDTH)\n",
       "     .attr(\"stroke-width\", 2)\n",
       "     .attr(\"stroke\", function(d, i, j) {\n",
       "        return head_colours(j);\n",
       "      })\n",
       "     .attr(\"stroke-opacity\", function(d, i, j) {\n",
       "      if (is_top) {d = d[0];} else {d = d[1];}\n",
       "      if (config.head_vis[j]) {\n",
       "        if (d) {\n",
       "          return d[index];\n",
       "        } else {\n",
       "          return 0.0;\n",
       "        }\n",
       "      } else {\n",
       "        return 0.0;\n",
       "      }\n",
       "     });\n",
       "\n",
       "\n",
       "    function updateAttentionBoxes() {\n",
       "      var id = is_top ? \"bottom\" : \"top\";\n",
       "      var the_left_pos = is_top ? MATRIX_WIDTH + BOXWIDTH : 0;\n",
       "      svg.select(\"#\" + id)\n",
       "         .selectAll(\".attention_boxes\")\n",
       "         .selectAll(\"g\")\n",
       "         .selectAll(\"rect\")\n",
       "         .attr(\"x\", function(d, i, j) { return the_left_pos + box_offset(j); })\n",
       "         .attr(\"y\", function(d, i) { return (i+1) * BOXHEIGHT; })\n",
       "         .attr(\"width\", BOXWIDTH/active_heads())\n",
       "         .attr(\"height\", function() { return BOXHEIGHT; })\n",
       "         .style(\"opacity\", function(d, i, j) {\n",
       "            if (is_top) {d = d[0];} else {d = d[1];}\n",
       "            if (config.head_vis[j])\n",
       "              if (d) {\n",
       "                return d[index];\n",
       "              } else {\n",
       "                return 0.0;\n",
       "              }\n",
       "            else\n",
       "              return 0.0;\n",
       "\n",
       "         });\n",
       "    }\n",
       "\n",
       "    updateAttentionBoxes();\n",
       "  });\n",
       "\n",
       "  textContainer.on(\"mouseleave\", function() {\n",
       "    d3.select(this).selectAll(\".background\")\n",
       "                   .style(\"opacity\", 0.0);\n",
       "\n",
       "    svg.selectAll(\".att_lines\").attr(\"stroke-opacity\", 0.0);\n",
       "    svg.selectAll(\".attention_heads\").style(\"display\", \"inline\");\n",
       "    svg.selectAll(\".attention_boxes\")\n",
       "       .selectAll(\"g\")\n",
       "       .selectAll(\"rect\")\n",
       "       .style(\"opacity\", 0.0);\n",
       "  });\n",
       "}\n",
       "\n",
       "function renderAttentionHighlights(svg, attention) {\n",
       "  var line_container = svg.append(\"g\");\n",
       "  line_container.selectAll(\"g\")\n",
       "                .data(attention)\n",
       "                .enter()\n",
       "                .append(\"g\")\n",
       "                .classed(\"line_heads\", true)\n",
       "                .selectAll(\"line\")\n",
       "                .data(function(d){return d;})\n",
       "                .enter()\n",
       "                .append(\"line\").classed(\"att_lines\", true);\n",
       "}\n",
       "\n",
       "function renderAttention(svg, attention_heads) {\n",
       "  var line_container = svg.selectAll(\".attention_heads\");\n",
       "  line_container.html(null);\n",
       "  for(var h=0; h<attention_heads.length; h++) {\n",
       "    for(var a=0; a<attention_heads[h].length; a++) {\n",
       "      for(var s=0; s<attention_heads[h][a].length; s++) {\n",
       "        line_container.append(\"line\")\n",
       "        .attr(\"y1\", (s+1) * BOXHEIGHT + (BOXHEIGHT/2))\n",
       "        .attr(\"x1\", BOXWIDTH)\n",
       "        .attr(\"y2\", (a+1) * BOXHEIGHT + (BOXHEIGHT/2))\n",
       "        .attr(\"x2\", BOXWIDTH + MATRIX_WIDTH)\n",
       "        .attr(\"stroke-width\", 2)\n",
       "        .attr(\"stroke\", head_colours(h))\n",
       "        .attr(\"stroke-opacity\", function() {\n",
       "          if (config.head_vis[h]) {\n",
       "            return attention_heads[h][a][s]/active_heads();\n",
       "          } else {\n",
       "            return 0.0;\n",
       "          }\n",
       "        }());\n",
       "      }\n",
       "    }\n",
       "  }\n",
       "}\n",
       "\n",
       "// Checkboxes\n",
       "function box_offset(i) {\n",
       "  var num_head_above = config.head_vis.reduce(\n",
       "      function(acc, val, cur) {return val && cur < i ? acc + 1: acc;}, 0);\n",
       "  return num_head_above*(BOXWIDTH / active_heads());\n",
       "}\n",
       "\n",
       "function active_heads() {\n",
       "  return config.head_vis.reduce(function(acc, val) {\n",
       "    return val ? acc + 1: acc;\n",
       "  }, 0);\n",
       "}\n",
       "\n",
       "function draw_checkboxes(config, top, svg, attention_heads) {\n",
       "  var checkboxContainer = svg.append(\"g\");\n",
       "  var checkbox = checkboxContainer.selectAll(\"rect\")\n",
       "                                  .data(config.head_vis)\n",
       "                                  .enter()\n",
       "                                  .append(\"rect\")\n",
       "                                  .attr(\"fill\", function(d, i) {\n",
       "                                    return head_colours(i);\n",
       "                                  })\n",
       "                                  .attr(\"x\", function(d, i) {\n",
       "                                    return (i+1) * CHECKBOX_SIZE;\n",
       "                                  })\n",
       "                                  .attr(\"y\", top)\n",
       "                                  .attr(\"width\", CHECKBOX_SIZE)\n",
       "                                  .attr(\"height\", CHECKBOX_SIZE);\n",
       "\n",
       "  function update_checkboxes() {\n",
       "    checkboxContainer.selectAll(\"rect\")\n",
       "                              .data(config.head_vis)\n",
       "                              .attr(\"fill\", function(d, i) {\n",
       "      var head_colour = head_colours(i);\n",
       "      var colour = d ? head_colour : lighten(head_colour);\n",
       "      return colour;\n",
       "    });\n",
       "  }\n",
       "\n",
       "  update_checkboxes();\n",
       "\n",
       "  checkbox.on(\"click\", function(d, i) {\n",
       "    if (config.head_vis[i] && active_heads() == 1) return;\n",
       "    config.head_vis[i] = !config.head_vis[i];\n",
       "    update_checkboxes();\n",
       "    renderAttention(svg, attention_heads);\n",
       "  });\n",
       "\n",
       "  checkbox.on(\"dblclick\", function(d, i) {\n",
       "    // If we double click on the only active head then reset\n",
       "    if (config.head_vis[i] && active_heads() == 1) {\n",
       "      config.head_vis = new Array(config.num_heads).fill(true);\n",
       "    } else {\n",
       "      config.head_vis = new Array(config.num_heads).fill(false);\n",
       "      config.head_vis[i] = true;\n",
       "    }\n",
       "    update_checkboxes();\n",
       "    renderAttention(svg, attention_heads);\n",
       "  });\n",
       "}\n",
       "\n",
       "var config = {\n",
       "  layer: 0,\n",
       "  att_type: 'all',\n",
       "};\n",
       "\n",
       "function visualize() {\n",
       "  var num_heads = attention['all']['att'][0].length;\n",
       "  config.head_vis  = new Array(num_heads).fill(true);\n",
       "  config.num_heads = num_heads;\n",
       "  config.attention = attention;\n",
       "\n",
       "  render();\n",
       "}\n",
       "\n",
       "function render() {\n",
       "  var conf = config.attention[config.att_type];\n",
       "\n",
       "  var top_text = conf.top_text;\n",
       "  var bot_text = conf.bot_text;\n",
       "  var attention = conf.att[config.layer];\n",
       "\n",
       "  $(\"#vis svg\").empty();\n",
       "  renderVis(\"#vis\", top_text, bot_text, attention, config);\n",
       "}\n",
       "\n",
       "$(\"#layer\").empty();\n",
       "for(var i=0; i<6; i++) {\n",
       "  $(\"#layer\").append($(\"<option />\").val(i).text(i));\n",
       "}\n",
       "\n",
       "$(\"#layer\").on('change', function(e) {\n",
       "  config.layer = +e.currentTarget.value;\n",
       "  render();\n",
       "});\n",
       "\n",
       "$(\"#att_type\").on('change', function(e) {\n",
       "  config.att_type = e.currentTarget.value;\n",
       "  render();\n",
       "});\n",
       "\n",
       "$(\"button\").on('click', visualize);\n",
       "\n",
       "visualize();\n",
       "\n",
       "});"
      ],
      "text/plain": [
       "<IPython.core.display.Javascript object>"
      ]
     },
     "metadata": {},
     "output_type": "display_data"
    }
   ],
   "source": [
    "from attention import *\n",
    "%matplotlib inline\n",
    "\n",
    "index=0\n",
    "sentence = '<bos> the young girl who plays with the older kids <eos>'\n",
    "encoded_sentence = task.databuilder.sentence_encoder().encode(sentence)\n",
    "logits, extra = model.detailed_call(np.asarray([encoded_sentence]))\n",
    "last_state, presents, attentions, embeddings = extra\n",
    "print(student_logits[index])\n",
    "_attentions = [att.numpy() for att in attentions]\n",
    "attentions_mat = np.asarray(_attentions)[:,index]\n",
    "print(attentions_mat.shape)\n",
    "show(sentence.split(), sentence.split(), attentions_mat)\n",
    "independent_model_attentions = attentions_mat"
   ]
  },
  {
   "cell_type": "code",
   "execution_count": 43,
   "metadata": {},
   "outputs": [
    {
     "data": {
      "text/html": [
       "\n",
       "  <span style=\"user-select:none\">\n",
       "    Layer: <select id=\"layer\"></select>\n",
       "    Attention: <select id=\"att_type\">\n",
       "      <option value=\"all\">All</option>\n",
       "    </select>\n",
       "  </span>\n",
       "  <div id='vis'></div>\n"
      ],
      "text/plain": [
       "<IPython.core.display.HTML object>"
      ]
     },
     "metadata": {},
     "output_type": "display_data"
    },
    {
     "data": {
      "application/javascript": [
       "window.attention = {\"all\": {\"att\": [[[[0.0, 0.0, 0.0, 0.0, 0.0, 0.0, 0.0, 0.0, 0.0, 0.0, 0.0], [0.0, 0.2976188659667969, 0.0, 0.0, 0.0, 0.0, 0.0, 0.0, 0.0, 0.0, 0.0], [0.0, 0.0, 0.05756211280822754, 0.0, 0.0, 0.0, 0.0, 0.0, 0.0, 0.0, 0.0], [0.0, 0.0, 0.0, 0.5543365478515625, 0.0, 0.0, 0.0, 0.0, 0.0, 0.0, 0.0], [0.00010376598947914317, 0.0, 0.0, 0.017873108386993408, 0.010212618857622147, 0.0, 0.0, 0.0, 0.0, 0.0, 0.0], [0.0, 0.0, 0.0, 0.0, 0.19206976890563965, 0.0, 0.0, 0.0, 0.0, 0.0, 0.0], [0.000496160879265517, 0.0, 0.0, 0.0, 0.004197190515697002, 0.011189281940460205, 0.013207286596298218, 0.0, 0.0, 0.0, 0.0], [0.0, 0.0, 0.0, 0.0, 0.0, 0.0, 0.751172661781311, 0.11643830686807632, 0.0, 0.0, 0.0], [0.0006819046102464199, 0.0, 0.0, 0.0, 0.0, 0.0, 0.016746558248996735, 0.07682812213897705, 0.19132965803146362, 0.0, 0.0], [7.129794539650902e-06, 0.0, 0.0, 0.0, 0.0, 0.0, 0.0, 0.0, 0.09295802563428879, 0.0, 0.0], [5.657492692989763e-06, 0.0, 0.0, 0.0001224642328452319, 0.001707317540422082, 0.0, 0.007275206036865711, 0.0, 0.08541441708803177, 0.0, 0.04999491944909096]], [[0.0, 0.0, 0.0, 0.0, 0.0, 0.0, 0.0, 0.0, 0.0, 0.0, 0.0], [0.0, 0.041494667530059814, 0.0, 0.0, 0.0, 0.0, 0.0, 0.0, 0.0, 0.0, 0.0], [0.0, 0.0, 0.09532731771469116, 0.0, 0.0, 0.0, 0.0, 0.0, 0.0, 0.0, 0.0], [0.0, 0.0, 0.0, 0.5378645658493042, 0.0, 0.0, 0.0, 0.0, 0.0, 0.0, 0.0], [0.0029809782281517982, 0.0, 0.0, 0.1872847080230713, 0.0, 0.0, 0.0, 0.0, 0.0, 0.0, 0.0], [0.00018196494784206152, 1.3288192349136807e-05, 0.00017528330499771982, 0.0073965927585959435, 0.0, 0.16184090077877045, 0.0, 0.0, 0.0, 0.0, 0.0], [0.0015303132822737098, 0.0, 0.00022614875342696905, 0.0, 0.0, 0.06347960233688354, 0.0, 0.0, 0.0, 0.0, 0.0], [0.017607200890779495, 0.0, 6.548271630890667e-05, 0.0, 0.0, 0.0, 0.0, 0.5346841216087341, 0.0, 0.0, 0.0], [0.0026528388261795044, 0.0, 1.6142801541718654e-05, 0.0, 0.0, 0.0, 0.0, 0.10078078508377075, 0.49439942836761475, 0.0, 0.0], [0.0, 0.0, 0.0, 0.0, 0.0, 0.0, 0.0051245796494185925, 0.0, 0.0, 0.6982470750808716, 0.0], [1.4042300335859181e-06, 0.0, 0.0, 2.55478316830704e-05, 0.0, 0.0, 0.0, 0.0, 0.007953894324600697, 0.05997312068939209, 0.0]], [[0.0, 0.0, 0.0, 0.0, 0.0, 0.0, 0.0, 0.0, 0.0, 0.0, 0.0], [0.0, 0.406962513923645, 0.0, 0.0, 0.0, 0.0, 0.0, 0.0, 0.0, 0.0, 0.0], [0.0, 0.03595947474241257, 0.0, 0.0, 0.0, 0.0, 0.0, 0.0, 0.0, 0.0, 0.0], [0.0, 0.0, 0.0, 0.8076125979423523, 0.0, 0.0, 0.0, 0.0, 0.0, 0.0, 0.0], [0.0003759035316761583, 0.0, 0.0, 0.04896444082260132, 0.0, 0.0, 0.0, 0.0, 0.0, 0.0, 0.0], [0.0, 0.0, 0.0, 0.00027034993399865925, 0.0, 0.04529222846031189, 0.0, 0.0, 0.0, 0.0, 0.0], [0.0013180036330595613, 0.0, 0.0, 0.0, 0.018883751705288887, 0.0, 0.4429675340652466, 0.0, 0.0, 0.0, 0.0], [0.0, 0.0, 0.0, 0.0, 0.0, 0.0, 0.7948599457740784, 0.03168506920337677, 0.0, 0.0, 0.0], [0.00031192792812362313, 0.0, 0.0, 0.0, 0.0, 0.0, 0.0, 0.04196777939796448, 0.2847106456756592, 0.0, 0.0], [0.0, 0.0, 0.0, 0.0, 0.0, 0.0, 0.0, 0.0, 0.0, 0.10099798440933228, 0.0], [7.562293831142597e-07, 0.0, 0.0, 2.683172897377517e-05, 0.000575086975004524, 0.0, 0.007056936156004667, 0.0, 0.015441877767443657, 0.0, 0.0027786230202764273]], [[0.0, 0.0, 0.0, 0.0, 0.0, 0.0, 0.0, 0.0, 0.0, 0.0, 0.0], [0.0, 0.17198306322097778, 0.0, 0.0, 0.0, 0.0, 0.0, 0.0, 0.0, 0.0, 0.0], [0.0, 0.06598029285669327, 0.0, 0.0, 0.0, 0.0, 0.0, 0.0, 0.0, 0.0, 0.0], [0.0, 0.0, 0.0, 0.7429893016815186, 0.0, 0.0, 0.0, 0.0, 0.0, 0.0, 0.0], [0.001028599450364709, 0.0, 0.0, 0.0, 0.2557954490184784, 0.0, 0.0, 0.0, 0.0, 0.0, 0.0], [0.0, 0.0, 0.0, 0.0013548207934945822, 0.0, 0.041497424244880676, 0.0, 0.0, 0.0, 0.0, 0.0], [0.005184870678931475, 0.0, 0.00047960621304810047, 0.0, 0.017814479768276215, 0.0, 0.19862860441207886, 0.0, 0.0, 0.0, 0.0], [0.0, 0.0, 0.0, 0.0, 0.0, 0.0, 0.46760937571525574, 0.05032212287187576, 0.0, 0.0, 0.0], [0.0021452042274177074, 0.00010394558194093406, 1.2177693861303851e-05, 0.0, 0.0, 0.0, 0.0, 0.21845555305480957, 0.32982969284057617, 0.0, 0.0], [0.0, 0.0, 0.0, 0.0, 0.0, 0.0, 0.02270207554101944, 0.0, 0.0, 0.28291386365890503, 0.0], [4.796808298124233e-06, 2.3833919840399176e-05, 0.0, 4.4469696149462834e-05, 0.0012627681717276573, 0.0, 0.0, 0.0005269864341244102, 0.02114430069923401, 0.0, 0.018293874338269234]], [[0.0, 0.0, 0.0, 0.0, 0.0, 0.0, 0.0, 0.0, 0.0, 0.0, 0.0], [0.0, 0.113639235496521, 0.0, 0.0, 0.0, 0.0, 0.0, 0.0, 0.0, 0.0, 0.0], [0.0, 0.07203587889671326, 0.0, 0.0, 0.0, 0.0, 0.0, 0.0, 0.0, 0.0, 0.0], [0.0, 0.0, 0.0, 0.812545895576477, 0.0, 0.0, 0.0, 0.0, 0.0, 0.0, 0.0], [0.00011998003901680931, 0.0, 0.0, 0.0, 0.04909365996718407, 0.0, 0.0, 0.0, 0.0, 0.0, 0.0], [0.0003797445970121771, 0.0, 7.790552626829594e-05, 0.0017435362096875906, 0.016142547130584717, 0.0, 0.0, 0.0, 0.0, 0.0, 0.0], [0.0009175146115012467, 0.0, 0.0026210974901914597, 0.025345390662550926, 0.017258865758776665, 0.08832800388336182, 0.0, 0.0, 0.0, 0.0, 0.0], [0.0008241948671638966, 0.0, 0.0, 0.0, 0.0, 0.0, 0.5783087611198425, 0.01343124732375145, 0.0, 0.0, 0.0], [0.08868993073701859, 0.001372925122268498, 0.00028352515073493123, 0.0, 0.0, 0.0, 0.0, 0.3395293951034546, 0.0, 0.0, 0.0], [0.0032842683140188456, 0.0, 0.0, 0.0, 0.0036717578768730164, 0.0, 0.241446390748024, 0.04535527527332306, 0.274139404296875, 0.0, 0.0], [1.6631747712381184e-05, 1.311457708652597e-05, 0.0, 7.6009237091057e-05, 0.01140318438410759, 0.0, 0.4277912378311157, 0.009877420961856842, 0.05674988776445389, 0.0, 0.0027267206460237503]], [[0.0, 0.0, 0.0, 0.0, 0.0, 0.0, 0.0, 0.0, 0.0, 0.0, 0.0], [0.0, 0.0961502194404602, 0.0, 0.0, 0.0, 0.0, 0.0, 0.0, 0.0, 0.0, 0.0], [0.0, 0.03112669661641121, 0.0, 0.0, 0.0, 0.0, 0.0, 0.0, 0.0, 0.0, 0.0], [0.0, 0.0, 0.0, 0.5842075347900391, 0.0, 0.0, 0.0, 0.0, 0.0, 0.0, 0.0], [7.999716035556048e-05, 0.0, 0.0, 0.03413033485412598, 0.0, 0.0, 0.0, 0.0, 0.0, 0.0, 0.0], [0.0, 0.0, 0.0, 0.00020988877804484218, 0.0, 0.02963442914187908, 0.0, 0.0, 0.0, 0.0, 0.0], [0.0012511394452303648, 0.0, 0.00301518477499485, 0.0008276691660284996, 0.01006149873137474, 0.0, 0.14680983126163483, 0.0, 0.0, 0.0, 0.0], [0.0, 0.0, 0.0, 0.0, 0.0, 0.0, 0.8225917816162109, 0.0, 0.0, 0.0, 0.0], [0.0005084314616397023, 0.0, 0.0, 0.0, 0.0, 0.0, 0.1569727659225464, 0.09481793642044067, 0.10642373561859131, 0.0, 0.0], [0.0, 0.0, 0.0, 0.0, 0.0003022380406036973, 0.0, 0.16810013353824615, 0.0001611526240594685, 0.0, 0.0, 0.0], [9.654767154643196e-07, 1.1902193364221603e-07, 0.0, 9.67449159361422e-06, 0.0016303000738844275, 0.0, 0.017629733309149742, 0.00034490320831537247, 0.02786148339509964, 0.0, 0.0015473633538931608]], [[0.0, 0.0, 0.0, 0.0, 0.0, 0.0, 0.0, 0.0, 0.0, 0.0, 0.0], [0.0, 0.09862363338470459, 0.0, 0.0, 0.0, 0.0, 0.0, 0.0, 0.0, 0.0, 0.0], [0.0, 0.007586844265460968, 0.010555624961853027, 0.0, 0.0, 0.0, 0.0, 0.0, 0.0, 0.0, 0.0], [0.0, 0.0, 0.0, 0.5977908968925476, 0.0, 0.0, 0.0, 0.0, 0.0, 0.0, 0.0], [0.001132408855482936, 0.0, 0.0, 0.21792447566986084, 0.0, 0.0, 0.0, 0.0, 0.0, 0.0, 0.0], [1.8790226022247225e-05, 0.0, 3.713065234478563e-05, 0.0034914566203951836, 0.0, 0.14559784531593323, 0.0, 0.0, 0.0, 0.0, 0.0], [0.0014980384148657322, 0.0, 0.0, 0.0, 0.0, 0.0, 0.2590620517730713, 0.0, 0.0, 0.0, 0.0], [0.019231371581554413, 0.0, 0.00043667940190061927, 0.0, 0.0, 0.0, 0.3665064573287964, 0.4007152020931244, 0.0, 0.0, 0.0], [0.010569365695118904, 0.002068297704681754, 0.0005597654380835593, 0.0, 0.0, 0.0, 0.0, 0.3199111223220825, 0.18092688918113708, 0.0, 0.0], [0.0, 0.0, 0.0, 0.0, 0.0, 0.0, 0.0, 0.0, 0.0, 0.16026151180267334, 0.0], [1.8058626665151678e-05, 8.836633060127497e-05, 0.0, 0.00044560973765328526, 6.708898581564426e-06, 0.0, 0.0, 0.0, 0.02255658246576786, 0.0, 0.0032698544673621655]], [[0.0, 0.0, 0.0, 0.0, 0.0, 0.0, 0.0, 0.0, 0.0, 0.0, 0.0], [0.0, 0.0687059760093689, 0.0, 0.0, 0.0, 0.0, 0.0, 0.0, 0.0, 0.0, 0.0], [0.0, 0.012626856565475464, 0.01573324203491211, 0.0, 0.0, 0.0, 0.0, 0.0, 0.0, 0.0, 0.0], [0.0, 0.0, 0.0, 0.7074069380760193, 0.0, 0.0, 0.0, 0.0, 0.0, 0.0, 0.0], [0.00041149562457576394, 0.0, 0.0, 0.07524687051773071, 0.0, 0.0, 0.0, 0.0, 0.0, 0.0, 0.0], [0.0, 0.0, 0.0, 0.0013930032728239894, 0.06344902515411377, 0.0, 0.0, 0.0, 0.0, 0.0, 0.0], [0.005309829488396645, 0.0, 0.0019954654853791, 0.0, 0.01687103509902954, 0.0, 0.05920994281768799, 0.0, 0.0, 0.0, 0.0], [0.000986673985607922, 0.0, 0.0, 0.0, 0.0, 0.0, 0.7051706314086914, 0.06178772822022438, 0.0, 0.0, 0.0], [0.0007878802134655416, 0.0, 0.0, 0.0, 0.0, 0.0, 0.0, 0.07584019750356674, 0.6114345788955688, 0.0, 0.0], [0.0, 0.0, 0.0, 0.0, 0.0, 0.0, 0.2025253176689148, 0.0002766408724710345, 0.032571062445640564, 0.0, 0.0], [3.1459426281799097e-06, 3.779676944759558e-06, 0.0, 5.686989607056603e-05, 0.009066704660654068, 0.0, 0.11277036368846893, 0.0015502225141972303, 0.05922747403383255, 0.0, 0.006355530582368374]]], [[[0.0, 0.0, 0.0, 0.0, 0.0, 0.0, 0.0, 0.0, 0.0, 0.0, 0.0], [0.009562909603118896, 0.0, 0.0, 0.0, 0.0, 0.0, 0.0, 0.0, 0.0, 0.0, 0.0], [0.0, 0.0, 0.07747086882591248, 0.0, 0.0, 0.0, 0.0, 0.0, 0.0, 0.0, 0.0], [0.0, 0.0, 0.0, 0.13272008299827576, 0.0, 0.0, 0.0, 0.0, 0.0, 0.0, 0.0], [0.0, 0.0, 0.0, 0.06829997897148132, 0.17658573389053345, 0.0, 0.0, 0.0, 0.0, 0.0, 0.0], [0.27728399634361267, 0.26379573345184326, 0.14765483140945435, 0.07420402020215988, 0.0, 0.08116545528173447, 0.0, 0.0, 0.0, 0.0, 0.0], [0.12019151449203491, 0.14374536275863647, 0.08596072345972061, 0.10737865418195724, 0.0, 0.1095794141292572, 0.056471094489097595, 0.0, 0.0, 0.0, 0.0], [0.16596464812755585, 0.1922355592250824, 0.10886290669441223, 0.10128811001777649, 0.0, 0.08668156713247299, 0.04554944485425949, 0.09522166848182678, 0.0, 0.0, 0.0], [0.005207927897572517, 0.003666181117296219, 0.01500655710697174, 0.02287912368774414, 0.0, 0.06468892097473145, 0.158920019865036, 0.12196779251098633, 0.14291054010391235, 0.0, 0.0], [0.0, 0.0, 0.0, 0.0, 0.0, 0.0, 0.0, 0.010557450354099274, 0.2528039216995239, 0.13224533200263977, 0.0], [0.0, 0.0, 0.0, 0.0, 0.0, 0.0, 0.0, 0.013953886926174164, 0.21082919836044312, 0.07944280654191971, 0.06543518602848053]], [[0.0, 0.0, 0.0, 0.0, 0.0, 0.0, 0.0, 0.0, 0.0, 0.0, 0.0], [0.0, 0.07188943028450012, 0.0, 0.0, 0.0, 0.0, 0.0, 0.0, 0.0, 0.0, 0.0], [0.0, 0.0, 0.1974007785320282, 0.0, 0.0, 0.0, 0.0, 0.0, 0.0, 0.0, 0.0], [0.0, 0.0249406099319458, 0.13797935843467712, 0.01871475577354431, 0.0, 0.0, 0.0, 0.0, 0.0, 0.0, 0.0], [0.0, 0.0, 0.04585030674934387, 0.0, 0.11632739007472992, 0.0, 0.0, 0.0, 0.0, 0.0, 0.0], [0.11580570787191391, 0.14117029309272766, 0.15328559279441833, 0.11521545797586441, 0.0, 0.0785348117351532, 0.0, 0.0, 0.0, 0.0, 0.0], [0.05859995260834694, 0.08304586261510849, 0.09716448187828064, 0.09031727910041809, 0.0, 0.035406261682510376, 0.11916331946849823, 0.0, 0.0, 0.0, 0.0], [0.08155737072229385, 0.10238771140575409, 0.11895564198493958, 0.07653249055147171, 0.0, 0.05063042417168617, 0.1584237813949585, 0.05059060454368591, 0.0, 0.0, 0.0], [0.08700743317604065, 0.06526550650596619, 0.062423862516880035, 0.029268808662891388, 0.0, 0.06755904108285904, 0.059292398393154144, 0.06005658209323883, 0.08121199160814285, 0.0, 0.0], [0.0, 0.0038852468132972717, 0.03420117497444153, 0.027548767626285553, 0.0280814990401268, 0.0, 0.0, 0.0, 0.0, 0.12870581448078156, 0.0], [0.0, 0.0, 0.022085417062044144, 0.01448887586593628, 0.009777046740055084, 0.0, 0.0, 0.0, 0.0, 0.10173111408948898, 0.10042111575603485]], [[0.0, 0.0, 0.0, 0.0, 0.0, 0.0, 0.0, 0.0, 0.0, 0.0, 0.0], [0.0, 0.15475592017173767, 0.0, 0.0, 0.0, 0.0, 0.0, 0.0, 0.0, 0.0, 0.0], [0.0, 0.0027822554111480713, 0.21552884578704834, 0.0, 0.0, 0.0, 0.0, 0.0, 0.0, 0.0, 0.0], [0.0, 0.001942649483680725, 0.19181795418262482, 0.0, 0.0, 0.0, 0.0, 0.0, 0.0, 0.0, 0.0], [0.0, 0.012435466051101685, 0.18708375096321106, 0.0, 0.0, 0.0, 0.0, 0.0, 0.0, 0.0, 0.0], [0.0, 0.01974375545978546, 0.0526377409696579, 0.03588773310184479, 0.0, 0.0, 0.0, 0.0, 0.0, 0.0, 0.0], [0.0, 0.0, 0.0, 0.07509157061576843, 0.0006117522716522217, 0.0, 0.05611313879489899, 0.0, 0.0, 0.0, 0.0], [0.0, 0.011476919054985046, 0.07029570639133453, 0.0, 0.0, 0.0, 0.12091300636529922, 0.0, 0.0, 0.0, 0.0], [0.0, 0.0, 0.0, 0.0, 0.0, 0.0849926769733429, 0.1264486312866211, 0.09231169521808624, 0.04471420496702194, 0.0, 0.0], [0.027625419199466705, 0.07217727601528168, 0.014892734587192535, 0.041527166962623596, 0.0396316722035408, 0.0, 0.0, 0.0, 0.0, 0.0, 0.0], [0.028820447623729706, 0.07271905988454819, 0.01746980845928192, 0.045750781893730164, 0.04311699420213699, 0.0, 0.0, 0.0, 0.00010106712579727173, 0.0, 0.0]], [[0.0, 0.0, 0.0, 0.0, 0.0, 0.0, 0.0, 0.0, 0.0, 0.0, 0.0], [0.07255586981773376, 0.0, 0.0, 0.0, 0.0, 0.0, 0.0, 0.0, 0.0, 0.0, 0.0], [0.0, 0.009519636631011963, 0.06185463070869446, 0.0, 0.0, 0.0, 0.0, 0.0, 0.0, 0.0, 0.0], [0.015159010887145996, 0.008510679006576538, 0.0, 0.012571662664413452, 0.0, 0.0, 0.0, 0.0, 0.0, 0.0, 0.0], [0.0, 0.0, 0.0, 0.0, 0.1272840052843094, 0.0, 0.0, 0.0, 0.0, 0.0, 0.0], [0.06113315373659134, 0.1750263273715973, 0.042214639484882355, 0.1458396166563034, 0.0, 0.0, 0.0, 0.0, 0.0, 0.0, 0.0], [0.06997620314359665, 0.17405104637145996, 0.07996712625026703, 0.19183678925037384, 0.0, 0.0, 0.0, 0.0, 0.0, 0.0, 0.0], [0.12511886656284332, 0.2189294993877411, 0.08554700762033463, 0.11171868443489075, 0.0, 0.0, 0.0, 0.0, 0.0, 0.0, 0.0], [0.14538881182670593, 0.09134853631258011, 0.07860603928565979, 0.05857589840888977, 0.0, 0.056458815932273865, 0.0, 0.04155712574720383, 0.0, 0.0, 0.0], [0.008159421384334564, 0.10467500239610672, 0.07215985655784607, 0.05698453634977341, 0.010597027838230133, 0.0, 0.0, 0.0, 0.0, 0.013425342738628387, 0.0], [0.0, 0.09389424324035645, 0.06714776903390884, 0.04734724014997482, 0.014491014182567596, 0.0, 0.0, 0.0, 0.0, 0.017498012632131577, 0.02003062143921852]], [[0.0, 0.0, 0.0, 0.0, 0.0, 0.0, 0.0, 0.0, 0.0, 0.0, 0.0], [0.0, 1.519918441772461e-06, 0.0, 0.0, 0.0, 0.0, 0.0, 0.0, 0.0, 0.0, 0.0], [0.0, 0.06126028299331665, 0.0, 0.0, 0.0, 0.0, 0.0, 0.0, 0.0, 0.0, 0.0], [0.03715872764587402, 0.0872795432806015, 0.0, 0.0, 0.0, 0.0, 0.0, 0.0, 0.0, 0.0, 0.0], [0.0, 0.054759711027145386, 0.05601115524768829, 0.0, 0.0, 0.0, 0.0, 0.0, 0.0, 0.0, 0.0], [0.0, 0.0, 0.0, 0.2233755886554718, 0.04778188467025757, 0.0, 0.0, 0.0, 0.0, 0.0, 0.0], [0.0, 0.022170662879943848, 0.0, 0.08137673139572144, 0.0, 0.0, 0.042161449790000916, 0.0, 0.0, 0.0, 0.0], [0.002561289817094803, 0.03316181153059006, 0.0, 0.14796970784664154, 0.0, 0.0, 0.0, 0.0, 0.0, 0.0, 0.0], [0.14169347286224365, 0.05000651627779007, 0.0, 0.004910849034786224, 0.0, 0.03547243773937225, 0.0, 0.050849586725234985, 0.002635255455970764, 0.0, 0.0], [0.0, 0.005331858992576599, 0.052998729050159454, 0.0, 0.0, 0.0, 0.02040717378258705, 0.0, 0.05581078678369522, 0.09399311989545822, 0.0], [0.0, 0.0, 0.03846085071563721, 0.0, 0.0, 0.0, 0.019633088260889053, 0.0, 0.04430842399597168, 0.08836568892002106, 0.08894916623830795]], [[0.0, 0.0, 0.0, 0.0, 0.0, 0.0, 0.0, 0.0, 0.0, 0.0, 0.0], [0.0, 0.010037541389465332, 0.0, 0.0, 0.0, 0.0, 0.0, 0.0, 0.0, 0.0, 0.0], [0.0, 0.07602062821388245, 0.0, 0.0, 0.0, 0.0, 0.0, 0.0, 0.0, 0.0, 0.0], [0.06356675922870636, 0.09430751204490662, 0.0, 0.06225426495075226, 0.0, 0.0, 0.0, 0.0, 0.0, 0.0, 0.0], [0.0005349665880203247, 0.03486025333404541, 0.011236011981964111, 0.0, 0.0, 0.0, 0.0, 0.0, 0.0, 0.0, 0.0], [0.0, 0.0, 0.0, 0.14035579562187195, 0.09447386860847473, 0.0, 0.0, 0.0, 0.0, 0.0, 0.0], [0.0, 0.010739624500274658, 0.0, 0.16078421473503113, 0.10811902582645416, 0.0, 0.0, 0.0, 0.0, 0.0, 0.0], [0.0, 0.02455762028694153, 0.0, 0.08519726991653442, 0.045797184109687805, 0.0, 0.0, 0.0, 0.0, 0.0, 0.0], [0.08975480496883392, 0.04304804280400276, 0.0020538941025733948, 0.04036426171660423, 0.014660432934761047, 0.0033088326454162598, 0.0, 0.015791669487953186, 0.0, 0.0, 0.0], [0.0, 0.012532807886600494, 0.041093870997428894, 0.011036992073059082, 0.018063604831695557, 0.0, 0.01049034297466278, 0.0, 0.0, 0.06354869902133942, 0.0], [0.0, 0.0, 0.03526220843195915, 0.0, 0.007771968841552734, 0.0, 0.019535981118679047, 0.0, 0.0, 0.06371787190437317, 0.06456133723258972]], [[0.0, 0.0, 0.0, 0.0, 0.0, 0.0, 0.0, 0.0, 0.0, 0.0, 0.0], [0.0, 0.01186630129814148, 0.0, 0.0, 0.0, 0.0, 0.0, 0.0, 0.0, 0.0, 0.0], [0.0, 0.0, 0.062006741762161255, 0.0, 0.0, 0.0, 0.0, 0.0, 0.0, 0.0, 0.0], [0.0, 0.0, 0.0, 0.17837052047252655, 0.0, 0.0, 0.0, 0.0, 0.0, 0.0, 0.0], [0.0, 0.0, 0.0, 0.10727915167808533, 0.20962384343147278, 0.0, 0.0, 0.0, 0.0, 0.0, 0.0], [0.15298999845981598, 0.21603697538375854, 0.1318179965019226, 0.16149678826332092, 0.0, 0.09197071194648743, 0.0, 0.0, 0.0, 0.0, 0.0], [0.056752391159534454, 0.08452868461608887, 0.05509718880057335, 0.14685273170471191, 0.0, 0.12204146385192871, 0.11377353966236115, 0.0, 0.0, 0.0, 0.0], [0.07902655005455017, 0.1363990157842636, 0.07182729244232178, 0.15986205637454987, 0.0, 0.07611086219549179, 0.10437820851802826, 0.11277168989181519, 0.0, 0.0, 0.0], [0.01661464013159275, 0.010177742689847946, 0.01919478550553322, 0.01366519182920456, 0.0, 0.0899646058678627, 0.05433104187250137, 0.20440125465393066, 0.1464352309703827, 0.0, 0.0], [0.0, 0.0, 0.0, 0.0, 0.0, 0.0, 0.0, 0.1405603438615799, 0.18652212619781494, 0.039990127086639404, 0.0], [0.0, 0.0, 0.0, 0.0, 0.0, 0.0, 0.0, 0.12709927558898926, 0.1722303330898285, 0.023153461515903473, 0.01812545210123062]], [[0.0, 0.0, 0.0, 0.0, 0.0, 0.0, 0.0, 0.0, 0.0, 0.0, 0.0], [0.17864274978637695, 0.0, 0.0, 0.0, 0.0, 0.0, 0.0, 0.0, 0.0, 0.0, 0.0], [0.06676995754241943, 0.00794154405593872, 0.0, 0.0, 0.0, 0.0, 0.0, 0.0, 0.0, 0.0, 0.0], [0.0, 0.0, 0.0, 0.023660317063331604, 0.0, 0.0, 0.0, 0.0, 0.0, 0.0, 0.0], [0.0, 0.0, 0.013375848531723022, 0.0, 0.0, 0.0, 0.0, 0.0, 0.0, 0.0, 0.0], [0.005058303475379944, 0.053227514028549194, 0.0, 0.0, 0.01705765724182129, 0.0033084452152252197, 0.0, 0.0, 0.0, 0.0, 0.0], [0.0, 0.008152186870574951, 0.0, 0.11841811239719391, 0.1055055558681488, 0.0, 0.0, 0.0, 0.0, 0.0, 0.0], [0.0, 0.0, 0.0, 0.0679585188627243, 0.09077379107475281, 0.0, 0.01011679321527481, 0.0097527876496315, 0.0, 0.0, 0.0], [0.0, 0.0, 0.0, 0.0, 0.0, 0.018463537096977234, 0.04416140168905258, 0.079316146671772, 0.0, 0.0, 0.0], [0.0, 0.0, 0.0, 0.0523843914270401, 0.028448723256587982, 0.0, 0.0, 0.0, 0.22409093379974365, 0.04289621114730835, 0.0], [0.0, 0.0, 0.0, 0.03852756321430206, 0.019899800419807434, 0.0, 0.0, 0.0, 0.20392191410064697, 0.03301263600587845, 0.02395009994506836]]], [[[0.0, 0.0, 0.0, 0.0, 0.0, 0.0, 0.0, 0.0, 0.0, 0.0, 0.0], [0.15332278609275818, 0.0, 0.0, 0.0, 0.0, 0.0, 0.0, 0.0, 0.0, 0.0, 0.0], [0.08001816272735596, 0.12950702011585236, 0.0, 0.0, 0.0, 0.0, 0.0, 0.0, 0.0, 0.0, 0.0], [0.14441975951194763, 0.015603408217430115, 0.0, 0.0, 0.0, 0.0, 0.0, 0.0, 0.0, 0.0, 0.0], [0.07678721845149994, 0.0, 0.1420493721961975, 0.0, 0.0, 0.0, 0.0, 0.0, 0.0, 0.0, 0.0], [0.0022026896476745605, 0.05944807827472687, 0.0, 0.14196351170539856, 0.031778186559677124, 0.0, 0.0, 0.0, 0.0, 0.0, 0.0], [0.0, 0.026635363698005676, 0.0, 0.18341445922851562, 0.15401548147201538, 0.0, 0.0, 0.0, 0.0, 0.0, 0.0], [0.0, 0.03823559731245041, 0.0, 0.16046872735023499, 0.095719113945961, 0.0, 0.0, 0.0, 0.0, 0.0, 0.0], [0.004163186997175217, 0.003559831529855728, 0.0, 0.049937665462493896, 0.002041354775428772, 0.0, 0.0, 0.0, 0.19035130739212036, 0.0, 0.0], [0.0, 0.0, 0.0, 0.05483930557966232, 0.07973389327526093, 0.0, 0.0, 0.025089353322982788, 0.18741536140441895, 0.0, 0.0], [0.0, 0.0, 0.0, 0.061926521360874176, 0.09523329138755798, 0.007529102265834808, 0.0, 0.029462680220603943, 0.17112146317958832, 0.0, 0.0]], [[0.0, 0.0, 0.0, 0.0, 0.0, 0.0, 0.0, 0.0, 0.0, 0.0, 0.0], [0.07408517599105835, 0.0, 0.0, 0.0, 0.0, 0.0, 0.0, 0.0, 0.0, 0.0, 0.0], [0.0, 0.0, 0.22547107934951782, 0.0, 0.0, 0.0, 0.0, 0.0, 0.0, 0.0, 0.0], [0.026412412524223328, 0.0, 0.013782739639282227, 0.04186314344406128, 0.0, 0.0, 0.0, 0.0, 0.0, 0.0, 0.0], [0.0013727843761444092, 0.0, 0.0, 0.043307214975357056, 0.16046369075775146, 0.0, 0.0, 0.0, 0.0, 0.0, 0.0], [0.172780841588974, 0.18177282810211182, 0.18023890256881714, 0.04657943546772003, 0.0, 0.07896029204130173, 0.0, 0.0, 0.0, 0.0, 0.0], [0.007377292960882187, 0.0, 0.009846881031990051, 0.0, 0.0, 0.5250720381736755, 0.0, 0.0, 0.0, 0.0, 0.0], [0.061172373592853546, 0.053273171186447144, 0.06181734800338745, 0.006425298750400543, 0.0, 0.12436152249574661, 0.03167181462049484, 0.19544824957847595, 0.0, 0.0, 0.0], [0.0, 0.0, 0.0, 0.0, 0.0, 0.04865213483572006, 0.0594596341252327, 0.17646524310112, 0.23208506405353546, 0.0, 0.0], [0.0, 0.0, 0.0, 0.0, 0.0, 0.0, 0.0, 0.09976162761449814, 0.6954060792922974, 0.0, 0.0], [0.0, 0.0, 0.0, 0.0, 0.0, 0.0, 0.0, 0.11014365404844284, 0.6926435232162476, 0.0, 0.0]], [[0.0, 0.0, 0.0, 0.0, 0.0, 0.0, 0.0, 0.0, 0.0, 0.0, 0.0], [0.0, 0.019035816192626953, 0.0, 0.0, 0.0, 0.0, 0.0, 0.0, 0.0, 0.0, 0.0], [0.0, 0.052947819232940674, 0.06545001268386841, 0.0, 0.0, 0.0, 0.0, 0.0, 0.0, 0.0, 0.0], [0.0, 0.0, 0.08135831356048584, 0.026393890380859375, 0.0, 0.0, 0.0, 0.0, 0.0, 0.0, 0.0], [0.0, 0.0, 0.015737563371658325, 0.023347079753875732, 0.09545302391052246, 0.0, 0.0, 0.0, 0.0, 0.0, 0.0], [0.0003157481551170349, 0.0510459840297699, 0.09721590578556061, 0.10510596632957458, 0.0, 0.03035556524991989, 0.0, 0.0, 0.0, 0.0, 0.0], [0.0, 0.0030710287392139435, 0.09698861092329025, 0.0774582028388977, 0.0, 0.1451113224029541, 0.15404200553894043, 0.0, 0.0, 0.0, 0.0], [0.0, 0.0033077597618103027, 0.06105384603142738, 0.06182250380516052, 0.0, 0.014782845973968506, 0.10021819174289703, 0.04490194842219353, 0.0, 0.0, 0.0], [0.0, 0.0, 0.030519884079694748, 0.0, 0.0, 0.04810178279876709, 0.12855136394500732, 0.09914696216583252, 0.15064537525177002, 0.0, 0.0], [0.0, 0.0, 0.0, 0.0, 0.0, 0.02872510999441147, 0.0, 0.10352659970521927, 0.21949127316474915, 0.1533665657043457, 0.0], [0.0, 0.0, 0.0, 0.0, 0.0, 0.022065553814172745, 0.0, 0.08338728547096252, 0.17860393226146698, 0.10028408467769623, 0.0920773297548294]], [[0.0, 0.0, 0.0, 0.0, 0.0, 0.0, 0.0, 0.0, 0.0, 0.0, 0.0], [0.0, 0.045343220233917236, 0.0, 0.0, 0.0, 0.0, 0.0, 0.0, 0.0, 0.0, 0.0], [0.0, 0.020601511001586914, 0.09636235237121582, 0.0, 0.0, 0.0, 0.0, 0.0, 0.0, 0.0, 0.0], [0.08294479548931122, 0.0943482518196106, 0.0, 0.05543534457683563, 0.0, 0.0, 0.0, 0.0, 0.0, 0.0, 0.0], [0.0366959273815155, 0.058005377650260925, 0.0, 0.04108889400959015, 0.0, 0.0, 0.0, 0.0, 0.0, 0.0, 0.0], [0.0, 0.0, 0.0, 0.2032763957977295, 0.0, 0.0, 0.0, 0.0, 0.0, 0.0, 0.0], [0.0, 0.0, 0.018581494688987732, 0.1915806233882904, 0.0, 0.0, 0.0, 0.0, 0.0, 0.0, 0.0], [0.0, 0.0, 0.0, 0.13188773393630981, 0.0, 0.0, 0.027145564556121826, 0.0, 0.0, 0.0, 0.0], [0.09017397463321686, 0.08330951631069183, 0.03144388645887375, 0.03818909823894501, 0.0, 0.0, 0.0, 0.0018566176295280457, 0.056170977652072906, 0.0, 0.0], [0.0, 0.0, 0.04350346326828003, 0.08322449028491974, 0.016356155276298523, 0.0, 0.0, 0.0, 0.0, 0.03834833204746246, 0.0], [0.0, 0.0, 0.0360531210899353, 0.06440410763025284, 0.01527811586856842, 0.0, 0.0, 0.0, 0.0, 0.041195351630449295, 0.035144511610269547]], [[0.0, 0.0, 0.0, 0.0, 0.0, 0.0, 0.0, 0.0, 0.0, 0.0, 0.0], [0.0, 0.07203090190887451, 0.0, 0.0, 0.0, 0.0, 0.0, 0.0, 0.0, 0.0, 0.0], [0.0, 0.0, 0.20104366540908813, 0.0, 0.0, 0.0, 0.0, 0.0, 0.0, 0.0, 0.0], [0.0, 0.0, 0.09889453649520874, 0.0, 0.0, 0.0, 0.0, 0.0, 0.0, 0.0, 0.0], [0.0, 0.0, 0.09611183404922485, 0.0, 0.0, 0.0, 0.0, 0.0, 0.0, 0.0, 0.0], [0.0, 0.0, 0.0, 0.14846745133399963, 0.0821109414100647, 0.0, 0.0, 0.0, 0.0, 0.0, 0.0], [0.0, 0.0, 0.0, 0.19513116776943207, 0.09953498840332031, 0.0, 0.0, 0.0, 0.0, 0.0, 0.0], [0.0, 0.0, 0.009667761623859406, 0.11219938099384308, 0.04583612084388733, 0.0, 0.06225915253162384, 0.0, 0.0, 0.0, 0.0], [0.0, 0.03218090534210205, 0.05257536470890045, 0.03079366683959961, 0.0, 0.0, 0.0, 0.0, 0.007535375654697418, 0.0, 0.0], [0.0, 0.04597412049770355, 0.008898884057998657, 0.12885837256908417, 0.08512712270021439, 0.0, 0.0, 0.0, 0.0, 0.0, 0.0], [0.0, 0.050168246030807495, 0.009944140911102295, 0.1317278891801834, 0.0907340794801712, 0.0, 0.0, 0.0, 0.0, 0.0, 0.0]], [[0.0, 0.0, 0.0, 0.0, 0.0, 0.0, 0.0, 0.0, 0.0, 0.0, 0.0], [0.08054012060165405, 0.0, 0.0, 0.0, 0.0, 0.0, 0.0, 0.0, 0.0, 0.0, 0.0], [0.0, 0.0, 0.019107311964035034, 0.0, 0.0, 0.0, 0.0, 0.0, 0.0, 0.0, 0.0], [0.0, 0.0, 0.05245119333267212, 0.0039265453815460205, 0.0, 0.0, 0.0, 0.0, 0.0, 0.0, 0.0], [0.0, 0.0, 0.006487101316452026, 0.0, 0.09017442911863327, 0.0, 0.0, 0.0, 0.0, 0.0, 0.0], [0.2445649951696396, 0.21718713641166687, 0.24111400544643402, 0.0715232864022255, 0.0, 0.07186263799667358, 0.0, 0.0, 0.0, 0.0, 0.0], [0.14349499344825745, 0.1601603925228119, 0.11159595102071762, 0.13872893154621124, 0.0, 0.12289097160100937, 0.0, 0.0, 0.0, 0.0, 0.0], [0.1622677743434906, 0.15997183322906494, 0.16176143288612366, 0.08645126223564148, 0.0, 0.07009732723236084, 0.04458367079496384, 0.07793508470058441, 0.0, 0.0, 0.0], [0.012324394658207893, 0.011152410879731178, 0.02694983035326004, 0.019278593361377716, 0.0, 0.04352659732103348, 0.11068498343229294, 0.09759679436683655, 0.3872227966785431, 0.0, 0.0], [0.0, 0.0, 0.0, 0.0, 0.0, 0.0, 0.0, 0.01569361239671707, 0.27859601378440857, 0.05175042152404785, 0.0], [0.0, 0.0, 0.0, 0.0, 0.0, 0.0, 0.0, 0.016209065914154053, 0.24195344746112823, 0.029529735445976257, 0.022731930017471313]], [[0.0, 0.0, 0.0, 0.0, 0.0, 0.0, 0.0, 0.0, 0.0, 0.0, 0.0], [0.0645904541015625, 0.0, 0.0, 0.0, 0.0, 0.0, 0.0, 0.0, 0.0, 0.0, 0.0], [0.03950747847557068, 0.005470603704452515, 0.0, 0.0, 0.0, 0.0, 0.0, 0.0, 0.0, 0.0, 0.0], [0.049859389662742615, 0.0, 0.0, 0.0, 0.0, 0.0, 0.0, 0.0, 0.0, 0.0, 0.0], [0.03666871786117554, 0.0, 0.04647323489189148, 0.0, 0.0, 0.0, 0.0, 0.0, 0.0, 0.0, 0.0], [0.040034979581832886, 0.05340889096260071, 0.07258185744285583, 0.0, 0.0, 0.0, 0.0, 0.0, 0.0, 0.0, 0.0], [0.0, 0.0, 0.0, 0.0226336270570755, 0.02072782814502716, 0.11170578002929688, 0.018609091639518738, 0.0, 0.0, 0.0, 0.0], [0.0, 0.0, 0.011159926652908325, 0.0, 0.0, 0.0, 0.13302145898342133, 0.0, 0.0, 0.0, 0.0], [0.0, 0.0, 0.0, 0.0, 0.0, 0.0, 0.1346025913953781, 0.049113281071186066, 0.15273743867874146, 0.0, 0.0], [0.0, 0.0, 0.0, 0.0, 0.0, 0.0, 0.0, 0.06808686256408691, 0.4996967017650604, 0.01919425278902054, 0.0], [0.0, 0.0, 0.0, 0.0, 0.0, 0.0, 0.0, 0.06663729250431061, 0.46769267320632935, 0.011258244514465332, 0.007393207401037216]], [[0.0, 0.0, 0.0, 0.0, 0.0, 0.0, 0.0, 0.0, 0.0, 0.0, 0.0], [0.16991323232650757, 0.0, 0.0, 0.0, 0.0, 0.0, 0.0, 0.0, 0.0, 0.0, 0.0], [0.2080392837524414, 0.19849950075149536, 0.0, 0.0, 0.0, 0.0, 0.0, 0.0, 0.0, 0.0, 0.0], [0.19076628983020782, 0.1964142918586731, 0.0, 0.16933737695217133, 0.0, 0.0, 0.0, 0.0, 0.0, 0.0, 0.0], [0.11151930689811707, 0.10982560366392136, 0.0, 0.11809805035591125, 0.029532939195632935, 0.0, 0.0, 0.0, 0.0, 0.0, 0.0], [0.0793125256896019, 0.11488716304302216, 0.0, 0.22231245040893555, 0.1845124363899231, 0.0, 0.0, 0.0, 0.0, 0.0, 0.0], [0.05857972428202629, 0.11051644384860992, 0.0007422566413879395, 0.24747338891029358, 0.22571997344493866, 0.0, 0.0, 0.0, 0.0, 0.0, 0.0], [0.06273148208856583, 0.09917557239532471, 0.05069278925657272, 0.1742430031299591, 0.15475419163703918, 0.0, 0.0, 0.0, 0.0, 0.0, 0.0], [0.10321807861328125, 0.10610108822584152, 0.06342659145593643, 0.09983218461275101, 0.09274289757013321, 0.0, 0.0, 0.0, 0.10074535012245178, 0.0, 0.0], [0.0, 0.0, 0.0, 0.057661786675453186, 0.06604527682065964, 0.0, 0.0, 0.0, 0.10825413465499878, 0.05609460920095444, 0.0], [0.0, 0.0, 0.0, 0.028987541794776917, 0.050625503063201904, 0.0, 0.0, 0.0, 0.08844918012619019, 0.05317771062254906, 0.04951344057917595]]], [[[0.0, 0.0, 0.0, 0.0, 0.0, 0.0, 0.0, 0.0, 0.0, 0.0, 0.0], [0.2919768691062927, 0.0, 0.0, 0.0, 0.0, 0.0, 0.0, 0.0, 0.0, 0.0, 0.0], [0.2620297074317932, 0.21590439975261688, 0.0, 0.0, 0.0, 0.0, 0.0, 0.0, 0.0, 0.0, 0.0], [0.2053087204694748, 0.11922428011894226, 0.0, 0.1601782739162445, 0.0, 0.0, 0.0, 0.0, 0.0, 0.0, 0.0], [0.16289208829402924, 0.07426156103610992, 0.0, 0.10113068670034409, 0.0, 0.0, 0.0, 0.0, 0.0, 0.0, 0.0], [0.17251522839069366, 0.1280515491962433, 0.0, 0.10242724418640137, 0.009449101984500885, 0.0, 0.0, 0.0, 0.0, 0.0, 0.0], [0.11765047162771225, 0.11041310429573059, 0.053627073764801025, 0.1196553185582161, 0.07369616627693176, 0.0, 0.0, 0.0, 0.0, 0.0, 0.0], [0.16732588410377502, 0.13820447027683258, 0.07632069289684296, 0.08291889727115631, 0.03592939302325249, 0.0, 0.0, 0.0, 0.0, 0.0, 0.0], [0.0782189816236496, 0.06188228353857994, 0.0, 0.0759064108133316, 0.046265266835689545, 0.0, 0.0, 0.0, 0.1378547102212906, 0.0, 0.0], [0.0, 0.0, 0.0, 0.01642635464668274, 0.010213866829872131, 0.0031249895691871643, 0.0, 0.0, 0.1832139939069748, 0.05916953086853027, 0.0], [0.0, 0.0, 0.0, 0.0, 0.00100022554397583, 0.012977369129657745, 0.0, 0.0, 0.1499808430671692, 0.05828872323036194, 0.03315521776676178]], [[0.0, 0.0, 0.0, 0.0, 0.0, 0.0, 0.0, 0.0, 0.0, 0.0, 0.0], [0.0428963303565979, 0.0, 0.0, 0.0, 0.0, 0.0, 0.0, 0.0, 0.0, 0.0, 0.0], [0.0, 0.01299700140953064, 0.05469200015068054, 0.0, 0.0, 0.0, 0.0, 0.0, 0.0, 0.0, 0.0], [0.0, 0.0, 0.13682425022125244, 0.0, 0.0, 0.0, 0.0, 0.0, 0.0, 0.0, 0.0], [0.0, 0.0, 0.08643311262130737, 0.0, 0.04001682251691818, 0.0, 0.0, 0.0, 0.0, 0.0, 0.0], [0.14477546513080597, 0.11747569590806961, 0.2639787197113037, 0.06504210829734802, 0.0, 0.10834664106369019, 0.0, 0.0, 0.0, 0.0, 0.0], [0.07841594517230988, 0.07043130695819855, 0.30666905641555786, 0.03735196590423584, 0.0, 0.08754758536815643, 0.0, 0.0, 0.0, 0.0, 0.0], [0.10981810092926025, 0.09589901566505432, 0.23324567079544067, 0.03967338427901268, 0.0, 0.05084828659892082, 0.021014608442783356, 0.08396053314208984, 0.0, 0.0, 0.0], [0.0050284527242183685, 0.02162199094891548, 0.031093046069145203, 0.04375516623258591, 0.0, 0.006220407783985138, 0.00393223762512207, 0.027641281485557556, 0.21320267021656036, 0.0, 0.0], [0.0, 0.0, 0.010473167523741722, 0.0, 0.0, 0.016502581536769867, 0.0, 0.055920928716659546, 0.4710322618484497, 0.0, 0.0], [0.0, 0.0, 0.015690816566348076, 0.0, 0.0, 0.02695348486304283, 0.0, 0.062210023403167725, 0.4400655925273895, 0.0, 0.0]], [[0.0, 0.0, 0.0, 0.0, 0.0, 0.0, 0.0, 0.0, 0.0, 0.0, 0.0], [0.0, 0.20279091596603394, 0.0, 0.0, 0.0, 0.0, 0.0, 0.0, 0.0, 0.0, 0.0], [0.0, 0.004779607057571411, 0.2798048257827759, 0.0, 0.0, 0.0, 0.0, 0.0, 0.0, 0.0, 0.0], [0.0, 0.004837244749069214, 0.0391179621219635, 0.060663461685180664, 0.0, 0.0, 0.0, 0.0, 0.0, 0.0, 0.0], [0.0, 5.485117435455322e-05, 0.01876652240753174, 0.07597063481807709, 0.0, 0.0, 0.0, 0.0, 0.0, 0.0, 0.0], [0.0, 0.0, 0.0, 0.2392796128988266, 0.1162409782409668, 0.0, 0.0, 0.0, 0.0, 0.0, 0.0], [0.0, 0.0, 0.0, 0.2743586003780365, 0.2148800790309906, 0.0, 0.0, 0.0, 0.0, 0.0, 0.0], [0.0, 0.0, 0.012025214731693268, 0.22672578692436218, 0.13985471427440643, 0.0, 0.0, 0.0, 0.0, 0.0, 0.0], [0.07208331674337387, 0.05798719823360443, 0.02454763650894165, 0.0, 0.0, 0.0, 0.0, 0.0, 0.15584741532802582, 0.0, 0.0], [0.0, 0.0, 0.0, 0.10900906473398209, 0.14454853534698486, 0.0, 0.0, 0.0, 0.13544856011867523, 0.014123387634754181, 0.0], [0.0, 0.0, 0.0, 0.0930854082107544, 0.12823998928070068, 0.0, 0.0, 0.0, 0.11696053296327591, 0.019046150147914886, 0.0]], [[0.0, 0.0, 0.0, 0.0, 0.0, 0.0, 0.0, 0.0, 0.0, 0.0, 0.0], [0.0, 0.0144273042678833, 0.0, 0.0, 0.0, 0.0, 0.0, 0.0, 0.0, 0.0, 0.0], [0.0, 0.3330645263195038, 0.0, 0.0, 0.0, 0.0, 0.0, 0.0, 0.0, 0.0, 0.0], [0.11994196474552155, 0.16779468953609467, 0.0, 0.3029175102710724, 0.0, 0.0, 0.0, 0.0, 0.0, 0.0, 0.0], [0.051868073642253876, 0.07860321551561356, 0.0, 0.22694656252861023, 0.050902917981147766, 0.0, 0.0, 0.0, 0.0, 0.0, 0.0], [0.0, 0.0, 0.0, 0.4943874776363373, 0.10927501320838928, 0.0, 0.0, 0.0, 0.0, 0.0, 0.0], [0.0, 0.011287949047982693, 0.0, 0.5293872356414795, 0.2229553461074829, 0.0, 0.0, 0.0, 0.0, 0.0, 0.0], [0.0, 0.006177564151585102, 0.0, 0.5315361022949219, 0.1961406022310257, 0.0, 0.0, 0.0, 0.0, 0.0, 0.0], [0.11763017624616623, 0.12849941849708557, 0.053168296813964844, 0.10852797329425812, 0.013141311705112457, 0.0, 0.0, 0.0, 0.08167923241853714, 0.0, 0.0], [0.0, 0.006089329719543457, 0.0, 0.17752093076705933, 0.06525638699531555, 0.0, 0.0, 0.0, 0.01201145350933075, 0.09999379515647888, 0.0], [0.0, 0.0, 0.0, 0.14802220463752747, 0.04819534718990326, 0.0, 0.0, 0.0, 0.001578204333782196, 0.06539895385503769, 0.04698234796524048]], [[0.0, 0.0, 0.0, 0.0, 0.0, 0.0, 0.0, 0.0, 0.0, 0.0, 0.0], [0.0434991717338562, 0.0, 0.0, 0.0, 0.0, 0.0, 0.0, 0.0, 0.0, 0.0, 0.0], [0.0, 0.05412179231643677, 0.0, 0.0, 0.0, 0.0, 0.0, 0.0, 0.0, 0.0, 0.0], [0.0314742773771286, 0.0, 0.0, 0.017308712005615234, 0.0, 0.0, 0.0, 0.0, 0.0, 0.0, 0.0], [0.025012344121932983, 0.0, 0.07439588010311127, 0.011928126215934753, 0.0, 0.0, 0.0, 0.0, 0.0, 0.0, 0.0], [0.13644909858703613, 0.11655481904745102, 0.1951453983783722, 0.01373843103647232, 0.0, 0.049532778561115265, 0.0, 0.0, 0.0, 0.0, 0.0], [0.0, 0.0, 0.0403447225689888, 0.0, 0.0, 0.1528773009777069, 0.0, 0.0, 0.0, 0.0, 0.0], [0.0588109977543354, 0.05692237615585327, 0.11647284775972366, 0.014376424252986908, 0.0, 0.06867852061986923, 0.0, 0.06893046200275421, 0.0, 0.0, 0.0], [0.0, 0.0, 0.0, 0.0, 0.0, 0.01694890856742859, 0.0, 0.006427168846130371, 0.16608351469039917, 0.0, 0.0], [0.0, 0.0, 0.0, 0.0, 0.0, 0.0, 0.0, 0.0, 0.4970540404319763, 0.0, 0.0], [0.0, 0.0, 0.0, 0.0, 0.0, 0.010803528130054474, 0.0, 0.0019327551126480103, 0.4640484154224396, 0.0, 0.0]], [[0.0, 0.0, 0.0, 0.0, 0.0, 0.0, 0.0, 0.0, 0.0, 0.0, 0.0], [0.07420128583908081, 0.0, 0.0, 0.0, 0.0, 0.0, 0.0, 0.0, 0.0, 0.0, 0.0], [0.0, 0.05383038520812988, 0.0, 0.0, 0.0, 0.0, 0.0, 0.0, 0.0, 0.0, 0.0], [0.09382469952106476, 0.01269499957561493, 0.004402756690979004, 0.0, 0.0, 0.0, 0.0, 0.0, 0.0, 0.0, 0.0], [0.08052773773670197, 0.014826089143753052, 0.10340744256973267, 0.0, 0.0, 0.0, 0.0, 0.0, 0.0, 0.0, 0.0], [0.0383952334523201, 0.061742715537548065, 0.1593845784664154, 0.05926349014043808, 0.0, 0.045380398631095886, 0.0, 0.0, 0.0, 0.0, 0.0], [0.0, 0.0, 0.0, 0.09578946977853775, 0.032905563712120056, 0.11760839819908142, 0.0, 0.0, 0.0, 0.0, 0.0], [0.01838349550962448, 0.03902609646320343, 0.09574281424283981, 0.05831265449523926, 0.0, 0.03278972953557968, 0.0, 0.015505306422710419, 0.0, 0.0, 0.0], [0.056861527264118195, 0.03489828109741211, 0.03727446496486664, 0.0, 0.0, 0.0, 0.0, 0.0, 0.19799679517745972, 0.0, 0.0], [0.0, 0.0, 0.0, 0.0, 0.0, 0.06882955133914948, 0.0, 0.010664649307727814, 0.374484658241272, 0.0, 0.0], [0.0, 0.0, 0.0, 0.0, 0.0, 0.09013472497463226, 0.0, 0.032024234533309937, 0.35861217975616455, 0.0, 0.0]], [[0.0, 0.0, 0.0, 0.0, 0.0, 0.0, 0.0, 0.0, 0.0, 0.0, 0.0], [0.0, 0.217903733253479, 0.0, 0.0, 0.0, 0.0, 0.0, 0.0, 0.0, 0.0, 0.0], [0.0, 0.08553853631019592, 0.11391082406044006, 0.0, 0.0, 0.0, 0.0, 0.0, 0.0, 0.0, 0.0], [0.0, 0.0, 0.0, 0.19208218157291412, 0.0, 0.0, 0.0, 0.0, 0.0, 0.0, 0.0], [0.0, 0.0, 0.0, 0.109428271651268, 0.08908161520957947, 0.0, 0.0, 0.0, 0.0, 0.0, 0.0], [0.0, 0.0, 0.01857084035873413, 0.15757140517234802, 0.11519797146320343, 0.0, 0.0, 0.0, 0.0, 0.0, 0.0], [0.0, 0.0, 0.0, 0.1183934137225151, 0.1662052571773529, 0.008228987455368042, 0.0, 0.0, 0.0, 0.0, 0.0], [0.0, 0.0, 0.0, 0.15447558462619781, 0.1364874690771103, 0.0, 0.0, 0.0, 0.0, 0.0, 0.0], [0.0, 0.0, 0.0, 0.07673440128564835, 0.043728649616241455, 0.0, 0.005601152777671814, 0.0, 0.14451512694358826, 0.0, 0.0], [0.0, 0.0, 0.0, 0.0, 0.0, 0.016085408627986908, 0.0, 0.0, 0.5670393705368042, 0.0, 0.0], [0.0, 0.0, 0.0, 0.0, 0.0, 0.03753150254487991, 0.0, 0.0, 0.5243633985519409, 0.0, 0.0]], [[0.0, 0.0, 0.0, 0.0, 0.0, 0.0, 0.0, 0.0, 0.0, 0.0, 0.0], [0.0033069252967834473, 0.0, 0.0, 0.0, 0.0, 0.0, 0.0, 0.0, 0.0, 0.0, 0.0], [0.0, 0.04942309856414795, 0.016921639442443848, 0.0, 0.0, 0.0, 0.0, 0.0, 0.0, 0.0, 0.0], [0.024327784776687622, 0.0, 0.18971362709999084, 0.0, 0.0, 0.0, 0.0, 0.0, 0.0, 0.0, 0.0], [0.05000533163547516, 0.016832783818244934, 0.2106935828924179, 0.0, 0.0, 0.0, 0.0, 0.0, 0.0, 0.0, 0.0], [0.14812985062599182, 0.1687355637550354, 0.22902736067771912, 0.15482057631015778, 0.0, 0.08801393210887909, 0.0, 0.0, 0.0, 0.0, 0.0], [0.0681615024805069, 0.05655913054943085, 0.10761804133653641, 0.10087157040834427, 0.0, 0.2367681860923767, 0.0, 0.0, 0.0, 0.0, 0.0], [0.10710956901311874, 0.13131704926490784, 0.1705854833126068, 0.1498606652021408, 0.0, 0.08162762224674225, 0.0, 0.03891105204820633, 0.0, 0.0, 0.0], [0.0642709732055664, 0.05395503342151642, 0.0843789279460907, 0.018936149775981903, 0.0, 0.0, 0.0, 0.023944437503814697, 0.31668728590011597, 0.0, 0.0], [0.0, 0.0, 0.0, 0.0, 0.0, 0.0, 0.0, 0.0, 0.688194751739502, 0.0, 0.0], [0.0, 0.0, 0.0, 0.0, 0.0, 0.0, 0.0, 0.0, 0.6800969839096069, 0.0, 0.0]]], [[[0.0, 0.0, 0.0, 0.0, 0.0, 0.0, 0.0, 0.0, 0.0, 0.0, 0.0], [0.03970980644226074, 0.0, 0.0, 0.0, 0.0, 0.0, 0.0, 0.0, 0.0, 0.0, 0.0], [0.0, 0.06863823533058167, 0.0, 0.0, 0.0, 0.0, 0.0, 0.0, 0.0, 0.0, 0.0], [0.0, 0.0, 0.16191792488098145, 0.0, 0.0, 0.0, 0.0, 0.0, 0.0, 0.0, 0.0], [0.0, 0.0, 0.2113652229309082, 0.0, 0.0, 0.0, 0.0, 0.0, 0.0, 0.0, 0.0], [0.0, 0.0, 0.17404000461101532, 0.0, 0.0, 0.0, 0.0, 0.0, 0.0, 0.0, 0.0], [0.0, 0.0, 0.045851245522499084, 0.05850514769554138, 0.0, 0.05990482121706009, 0.0, 0.0, 0.0, 0.0, 0.0], [0.0, 0.0, 0.049235641956329346, 0.06472379714250565, 0.006108269095420837, 0.06514269858598709, 0.0, 0.0, 0.0, 0.0, 0.0], [0.0, 0.0, 0.002795979380607605, 0.022648483514785767, 0.0, 0.0254209041595459, 0.0, 0.0, 0.07331272959709167, 0.0, 0.0], [0.0, 0.0, 0.0, 0.09179624170064926, 0.09075561165809631, 0.12356311827898026, 0.0, 0.0, 0.0, 0.02443748712539673, 0.0], [0.0, 0.0, 0.0, 0.11044800281524658, 0.1215103417634964, 0.14267775416374207, 0.0, 0.0, 0.0, 0.0, 0.0]], [[0.0, 0.0, 0.0, 0.0, 0.0, 0.0, 0.0, 0.0, 0.0, 0.0, 0.0], [0.0, 0.025708138942718506, 0.0, 0.0, 0.0, 0.0, 0.0, 0.0, 0.0, 0.0, 0.0], [0.0, 0.0, 0.17249971628189087, 0.0, 0.0, 0.0, 0.0, 0.0, 0.0, 0.0, 0.0], [0.0, 0.0, 0.0, 0.0478380024433136, 0.0, 0.0, 0.0, 0.0, 0.0, 0.0, 0.0], [0.0, 0.01772366464138031, 0.010419219732284546, 0.05084367096424103, 0.0, 0.0, 0.0, 0.0, 0.0, 0.0, 0.0], [0.0, 0.0, 0.024483293294906616, 0.11325004696846008, 0.0, 0.0, 0.0, 0.0, 0.0, 0.0, 0.0], [0.0, 0.0, 0.04511341452598572, 0.27729785442352295, 0.03317946195602417, 0.0, 0.0, 0.0, 0.0, 0.0, 0.0], [0.0, 0.0, 0.06185054033994675, 0.23384517431259155, 0.03448709845542908, 0.0, 0.0, 0.0, 0.0, 0.0, 0.0], [0.0, 0.006153129041194916, 0.010318584740161896, 0.0211348757147789, 0.0, 0.0, 0.0026790201663970947, 0.0, 0.024711087346076965, 0.0, 0.0], [0.0, 0.0, 0.0, 0.0, 0.0, 0.0, 0.0, 0.0, 0.0, 0.7023921012878418, 0.0], [0.0, 0.0, 0.0, 0.0, 0.0, 0.0, 0.0, 0.0, 0.0, 0.3330923318862915, 0.3360578417778015]], [[0.0, 0.0, 0.0, 0.0, 0.0, 0.0, 0.0, 0.0, 0.0, 0.0, 0.0], [0.0, 0.011858105659484863, 0.0, 0.0, 0.0, 0.0, 0.0, 0.0, 0.0, 0.0, 0.0], [0.0, 0.05532762408256531, 0.0932096540927887, 0.0, 0.0, 0.0, 0.0, 0.0, 0.0, 0.0, 0.0], [0.0, 0.010350629687309265, 0.10400289297103882, 0.0, 0.0, 0.0, 0.0, 0.0, 0.0, 0.0, 0.0], [0.011331245303153992, 0.043780043721199036, 0.13152553141117096, 0.0, 0.0, 0.0, 0.0, 0.0, 0.0, 0.0, 0.0], [0.0, 0.010235756635665894, 0.05367080867290497, 0.025881975889205933, 0.0, 0.03216724097728729, 0.0, 0.0, 0.0, 0.0, 0.0], [0.0, 0.0, 0.019311048090457916, 0.08030959963798523, 0.04044842720031738, 0.02448255568742752, 0.0, 0.0, 0.0, 0.0, 0.0], [0.0, 0.0063550397753715515, 0.024642206728458405, 0.07704351842403412, 0.02296563982963562, 0.04163288325071335, 0.0, 0.0, 0.0, 0.0, 0.0], [0.0, 0.008959732949733734, 0.03390298783779144, 0.0, 0.0, 0.0, 0.0, 0.0, 0.11990141123533249, 0.0, 0.0], [0.0, 0.0, 0.0, 0.05515507608652115, 0.09329677373170853, 0.1199667900800705, 0.0, 0.0, 0.05381479114294052, 0.018652789294719696, 0.0], [0.0, 0.0, 0.0, 0.06402271240949631, 0.10088527202606201, 0.11912385374307632, 0.0, 0.0, 0.04996436834335327, 0.0, 0.0]], [[0.0, 0.0, 0.0, 0.0, 0.0, 0.0, 0.0, 0.0, 0.0, 0.0, 0.0], [0.0, 0.15272697806358337, 0.0, 0.0, 0.0, 0.0, 0.0, 0.0, 0.0, 0.0, 0.0], [0.0, 0.09300997853279114, 0.1050189733505249, 0.0, 0.0, 0.0, 0.0, 0.0, 0.0, 0.0, 0.0], [0.0, 0.04430970549583435, 0.0372348427772522, 0.0, 0.0, 0.0, 0.0, 0.0, 0.0, 0.0, 0.0], [0.0, 0.03237240016460419, 0.028256312012672424, 0.006114691495895386, 0.0, 0.0, 0.0, 0.0, 0.0, 0.0, 0.0], [0.0, 0.036389678716659546, 0.028270363807678223, 0.08460712432861328, 0.0, 0.0, 0.0, 0.0, 0.0, 0.0, 0.0], [0.0, 0.03516555577516556, 0.027678057551383972, 0.15489327907562256, 0.05745294690132141, 0.0, 0.0, 0.0, 0.0, 0.0, 0.0], [0.0, 0.04449807107448578, 0.035191237926483154, 0.1495703160762787, 0.054516375064849854, 0.0, 0.0, 0.0, 0.0, 0.0, 0.0], [0.001347653567790985, 0.031215369701385498, 0.03118997812271118, 0.0002946406602859497, 0.0, 0.0, 0.0, 0.0, 0.09125373512506485, 0.0, 0.0], [0.0, 0.0, 0.0, 0.01385553926229477, 0.0, 0.024226203560829163, 0.0, 0.0, 0.133480042219162, 0.13267946243286133, 0.0], [0.0, 0.0, 0.0, 0.018591687083244324, 0.0, 0.021376095712184906, 0.0, 0.0, 0.10964890569448471, 0.09309878200292587, 0.018129147589206696]], [[0.0, 0.0, 0.0, 0.0, 0.0, 0.0, 0.0, 0.0, 0.0, 0.0, 0.0], [0.0, 0.050785601139068604, 0.0, 0.0, 0.0, 0.0, 0.0, 0.0, 0.0, 0.0, 0.0], [0.0, 0.0, 0.17422500252723694, 0.0, 0.0, 0.0, 0.0, 0.0, 0.0, 0.0, 0.0], [0.0, 0.0, 0.21092692017555237, 0.0, 0.0, 0.0, 0.0, 0.0, 0.0, 0.0, 0.0], [0.0, 0.0324619859457016, 0.24289093911647797, 0.0, 0.0, 0.0, 0.0, 0.0, 0.0, 0.0, 0.0], [0.0, 0.03686307370662689, 0.24047474563121796, 0.0, 0.0, 0.0, 0.0, 0.0, 0.0, 0.0, 0.0], [0.0, 0.022706717252731323, 0.25097227096557617, 0.0, 0.0, 0.0, 0.0, 0.0, 0.0, 0.0, 0.0], [0.0, 0.03879964351654053, 0.2020755410194397, 0.007890701293945312, 0.0, 0.0, 0.0, 0.0, 0.0, 0.0, 0.0], [0.0, 0.01128588616847992, 0.06846707314252853, 0.0, 0.0, 0.0, 0.0, 0.0, 0.1386357694864273, 0.0, 0.0], [0.0, 0.0, 0.0, 0.00029646605253219604, 0.020217858254909515, 0.0568794310092926, 0.0, 0.0, 0.13924813270568848, 0.12058272212743759, 0.0], [0.0, 0.0, 0.0, 0.008122332394123077, 0.028657808899879456, 0.06055786460638046, 0.0, 0.0, 0.11836563050746918, 0.06758144497871399, 0.016260579228401184]], [[0.0, 0.0, 0.0, 0.0, 0.0, 0.0, 0.0, 0.0, 0.0, 0.0, 0.0], [0.02589637041091919, 0.0, 0.0, 0.0, 0.0, 0.0, 0.0, 0.0, 0.0, 0.0, 0.0], [0.016020625829696655, 0.1172429770231247, 0.0, 0.0, 0.0, 0.0, 0.0, 0.0, 0.0, 0.0, 0.0], [0.1050141453742981, 0.12365264445543289, 0.0, 0.0901356190443039, 0.0, 0.0, 0.0, 0.0, 0.0, 0.0, 0.0], [0.11128942668437958, 0.12392323464155197, 0.0, 0.10232029855251312, 0.0, 0.0, 0.0, 0.0, 0.0, 0.0, 0.0], [0.08054579794406891, 0.10725781321525574, 0.011075437068939209, 0.12519608438014984, 0.0, 0.0, 0.0, 0.0, 0.0, 0.0, 0.0], [0.021483970806002617, 0.0679352730512619, 0.06463763117790222, 0.2035956233739853, 0.0, 0.0, 0.0, 0.0, 0.0, 0.0, 0.0], [0.04382703825831413, 0.08378159999847412, 0.08371296525001526, 0.17552955448627472, 0.0, 0.0, 0.0, 0.0, 0.0, 0.0, 0.0], [0.08754447847604752, 0.09089864045381546, 0.02680210769176483, 0.06444080173969269, 0.0, 0.0, 0.0, 0.0, 0.0, 0.0, 0.0], [0.0, 0.0, 0.0, 0.01310160756111145, 0.0, 0.0, 0.0, 0.0, 0.03941693156957626, 0.4103650450706482, 0.0], [0.0, 0.0, 0.0, 0.0, 0.0, 0.0, 0.0, 0.0, 0.019298210740089417, 0.2696295380592346, 0.1463889628648758]], [[0.0, 0.0, 0.0, 0.0, 0.0, 0.0, 0.0, 0.0, 0.0, 0.0, 0.0], [0.0, 0.25506240129470825, 0.0, 0.0, 0.0, 0.0, 0.0, 0.0, 0.0, 0.0, 0.0], [0.0, 0.0, 0.29281285405158997, 0.0, 0.0, 0.0, 0.0, 0.0, 0.0, 0.0, 0.0], [0.0, 0.0, 0.1369667947292328, 0.05152982473373413, 0.0, 0.0, 0.0, 0.0, 0.0, 0.0, 0.0], [0.0, 0.0, 0.13551655411720276, 0.04969269037246704, 0.0, 0.0, 0.0, 0.0, 0.0, 0.0, 0.0], [0.0, 0.0, 0.0702325850725174, 0.13886617124080658, 0.0, 0.0, 0.0, 0.0, 0.0, 0.0, 0.0], [0.0, 0.0, 0.03228204697370529, 0.2327505350112915, 0.07335260510444641, 0.0, 0.0, 0.0, 0.0, 0.0, 0.0], [0.0, 0.0, 0.053638286888599396, 0.2078338861465454, 0.0651107132434845, 0.0, 0.0, 0.0, 0.0, 0.0, 0.0], [0.0, 0.022847585380077362, 0.05235058814287186, 0.04313104599714279, 0.0, 0.0, 0.0, 0.0, 0.0755092054605484, 0.0, 0.0], [0.0, 0.0, 0.0, 0.02720355987548828, 0.020891398191452026, 0.021367378532886505, 0.0, 0.0, 0.0, 0.31742730736732483, 0.0], [0.0, 0.0, 0.0, 0.024340644478797913, 0.01915512979030609, 0.014860332012176514, 0.0, 0.0, 0.0, 0.212599515914917, 0.08514751493930817]], [[0.0, 0.0, 0.0, 0.0, 0.0, 0.0, 0.0, 0.0, 0.0, 0.0, 0.0], [0.0, 0.07686066627502441, 0.0, 0.0, 0.0, 0.0, 0.0, 0.0, 0.0, 0.0, 0.0], [0.0, 0.055286407470703125, 0.09455850720405579, 0.0, 0.0, 0.0, 0.0, 0.0, 0.0, 0.0, 0.0], [0.0, 0.0012861788272857666, 0.06728973984718323, 0.0, 0.0, 0.0, 0.0, 0.0, 0.0, 0.0, 0.0], [0.0, 0.018972977995872498, 0.07649597525596619, 0.013653427362442017, 0.0, 0.0, 0.0, 0.0, 0.0, 0.0, 0.0], [0.0, 0.0053400397300720215, 0.0615340918302536, 0.03575463593006134, 0.0, 0.0407315194606781, 0.0, 0.0, 0.0, 0.0, 0.0], [0.0, 0.0, 0.07936087250709534, 0.09726113080978394, 0.01065915822982788, 0.010075971484184265, 0.0, 0.0, 0.0, 0.0, 0.0], [0.0, 0.014195039868354797, 0.07609604299068451, 0.10693733394145966, 0.014422118663787842, 0.01958264410495758, 0.0, 0.0, 0.0, 0.0, 0.0], [0.0, 0.018857374787330627, 0.03511497378349304, 0.011683635413646698, 0.0, 0.0, 0.0, 0.0, 0.07448842376470566, 0.0, 0.0], [0.0, 0.0, 0.0, 0.0, 0.0, 0.0436694398522377, 0.0, 0.0, 0.16750746965408325, 0.14687836170196533, 0.0], [0.0, 0.0, 0.0, 0.004736065864562988, 0.0, 0.03157966583967209, 0.0, 0.0, 0.13411855697631836, 0.10561870038509369, 0.029777973890304565]]], [[[0.0, 0.0, 0.0, 0.0, 0.0, 0.0, 0.0, 0.0, 0.0, 0.0, 0.0], [0.0, 0.06798088550567627, 0.0, 0.0, 0.0, 0.0, 0.0, 0.0, 0.0, 0.0, 0.0], [0.0, 0.0, 0.2627491354942322, 0.0, 0.0, 0.0, 0.0, 0.0, 0.0, 0.0, 0.0], [0.0, 0.0, 0.02362757921218872, 0.12963563203811646, 0.0, 0.0, 0.0, 0.0, 0.0, 0.0, 0.0], [0.0, 0.0, 0.0, 0.06397369503974915, 0.08085772395133972, 0.0, 0.0, 0.0, 0.0, 0.0, 0.0], [0.0, 0.015395402908325195, 0.0681755393743515, 0.11782592535018921, 0.0, 0.021665051579475403, 0.0, 0.0, 0.0, 0.0, 0.0], [0.0, 0.0, 0.05483973026275635, 0.07618449628353119, 0.0, 0.025089457631111145, 0.09805446863174438, 0.0, 0.0, 0.0, 0.0], [0.0, 0.0, 0.03317736089229584, 0.07130768895149231, 0.0, 0.02394571155309677, 0.05094432830810547, 0.02969396859407425, 0.0, 0.0, 0.0], [0.0, 0.002321988344192505, 0.040101103484630585, 0.011248379945755005, 0.0, 0.0, 0.021796099841594696, 0.009643949568271637, 0.1260146051645279, 0.0, 0.0], [0.0, 0.0, 0.0, 0.0, 0.0, 0.0, 0.0, 0.0, 0.0, 0.8713981509208679, 0.0], [0.0, 0.0, 0.0, 0.0, 0.0, 0.0, 0.0, 0.0, 0.0, 0.5001185536384583, 0.2990346848964691]], [[0.0, 0.0, 0.0, 0.0, 0.0, 0.0, 0.0, 0.0, 0.0, 0.0, 0.0], [0.0, 0.046307384967803955, 0.0, 0.0, 0.0, 0.0, 0.0, 0.0, 0.0, 0.0, 0.0], [0.0, 0.17071354389190674, 0.00298464298248291, 0.0, 0.0, 0.0, 0.0, 0.0, 0.0, 0.0, 0.0], [0.0, 0.09760667383670807, 0.0, 0.03699842095375061, 0.0, 0.0, 0.0, 0.0, 0.0, 0.0, 0.0], [0.0, 0.05485422909259796, 0.0, 0.0008312612771987915, 0.1183219701051712, 0.0, 0.0, 0.0, 0.0, 0.0, 0.0], [0.0, 0.08945148438215256, 0.0, 0.05685654282569885, 0.0, 0.10532115399837494, 0.0, 0.0, 0.0, 0.0, 0.0], [0.0, 0.028634250164031982, 0.0, 0.06227565556764603, 0.0, 0.14055484533309937, 0.0, 0.0, 0.0, 0.0, 0.0], [0.0, 0.04381724074482918, 0.0, 0.0607738271355629, 0.0, 0.12730273604393005, 0.0, 0.0240226611495018, 0.0, 0.0, 0.0], [0.0, 0.006591185927391052, 0.0, 0.0010029003024101257, 0.0, 0.031786322593688965, 0.0, 0.0, 0.2469158172607422, 0.0, 0.0], [0.0, 0.0, 0.0, 0.0, 0.0, 0.0, 0.0, 0.0, 0.0, 0.5859257578849792, 0.0], [0.0, 0.0, 0.0, 0.0, 0.0, 0.0, 0.0, 0.0, 0.0, 0.3588179647922516, 0.18924105167388916]], [[0.0, 0.0, 0.0, 0.0, 0.0, 0.0, 0.0, 0.0, 0.0, 0.0, 0.0], [0.05192673206329346, 0.0, 0.0, 0.0, 0.0, 0.0, 0.0, 0.0, 0.0, 0.0, 0.0], [0.0, 0.0, 0.33594411611557007, 0.0, 0.0, 0.0, 0.0, 0.0, 0.0, 0.0, 0.0], [0.0, 0.0, 0.11023244261741638, 0.0, 0.0, 0.0, 0.0, 0.0, 0.0, 0.0, 0.0], [0.056223273277282715, 0.02131478488445282, 0.11836510896682739, 0.0, 0.0, 0.0, 0.0, 0.0, 0.0, 0.0, 0.0], [0.12161986529827118, 0.10531793534755707, 0.2314048856496811, 0.02754734456539154, 0.0, 0.0, 0.0, 0.0, 0.0, 0.0, 0.0], [0.0, 0.03655382990837097, 0.1774497628211975, 0.05201856791973114, 0.0, 0.0, 0.1571888029575348, 0.0, 0.0, 0.0, 0.0], [0.03785290569067001, 0.05292533338069916, 0.14170265197753906, 0.025307953357696533, 0.0, 0.0, 0.09979842603206635, 0.0632413774728775, 0.0, 0.0, 0.0], [0.0, 0.01820027083158493, 0.0848216563463211, 0.0, 0.0, 0.0, 0.04123310744762421, 0.031102769076824188, 0.20764008164405823, 0.0, 0.0], [0.0, 0.0, 0.0, 0.0, 0.0, 0.0, 0.0, 0.0, 0.0, 0.7645187973976135, 0.0], [0.0, 0.0, 0.0, 0.0, 0.0, 0.0, 0.0, 0.0, 0.0, 0.462670236825943, 0.26379165053367615]], [[0.0, 0.0, 0.0, 0.0, 0.0, 0.0, 0.0, 0.0, 0.0, 0.0, 0.0], [0.0, 0.09554943442344666, 0.0, 0.0, 0.0, 0.0, 0.0, 0.0, 0.0, 0.0, 0.0], [0.0, 0.06904977560043335, 0.1790059208869934, 0.0, 0.0, 0.0, 0.0, 0.0, 0.0, 0.0, 0.0], [0.0, 0.0, 0.014199525117874146, 0.1626330018043518, 0.0, 0.0, 0.0, 0.0, 0.0, 0.0, 0.0], [0.0, 0.0, 0.04012541472911835, 0.09650902450084686, 0.0, 0.0, 0.0, 0.0, 0.0, 0.0, 0.0], [0.0, 0.015887737274169922, 0.06008652597665787, 0.11617007851600647, 0.0, 0.0, 0.0, 0.0, 0.0, 0.0, 0.0], [0.0, 0.0, 0.009109795093536377, 0.07478553801774979, 0.0, 0.026342354714870453, 0.11975894868373871, 0.0, 0.0, 0.0, 0.0], [0.0, 0.0, 0.00755542516708374, 0.06852839142084122, 0.0, 0.008723460137844086, 0.06986390054225922, 0.037139832973480225, 0.0, 0.0, 0.0], [0.0, 0.0, 0.0, 0.037544965744018555, 0.0, 0.0, 0.03230312466621399, 0.018528960645198822, 0.10636139661073685, 0.0, 0.0], [0.0, 0.0, 0.0, 0.0, 0.0, 0.0, 0.0, 0.0, 0.0, 0.7350935339927673, 0.0], [0.0, 0.0, 0.0, 0.0, 0.0, 0.0, 0.0, 0.0, 0.0, 0.45000505447387695, 0.21487641334533691]], [[0.0, 0.0, 0.0, 0.0, 0.0, 0.0, 0.0, 0.0, 0.0, 0.0, 0.0], [0.0, 0.024266451597213745, 0.0, 0.0, 0.0, 0.0, 0.0, 0.0, 0.0, 0.0, 0.0], [0.0, 0.0, 0.3143104314804077, 0.0, 0.0, 0.0, 0.0, 0.0, 0.0, 0.0, 0.0], [0.0, 0.0, 0.12020553648471832, 0.09154966473579407, 0.0, 0.0, 0.0, 0.0, 0.0, 0.0, 0.0], [0.0, 0.0, 0.12283281981945038, 0.06107291579246521, 0.0, 0.0, 0.0, 0.0, 0.0, 0.0, 0.0], [0.0, 0.03908894211053848, 0.19858743250370026, 0.10240460187196732, 0.0, 0.0, 0.0, 0.0, 0.0, 0.0, 0.0], [0.0, 0.0008264258503913879, 0.12446662038564682, 0.08261347562074661, 0.0, 0.0, 0.13722562789916992, 0.0, 0.0, 0.0, 0.0], [0.0, 0.006351366639137268, 0.09881982207298279, 0.06203215569257736, 0.0, 0.0, 0.10622777789831161, 0.05657372623682022, 0.0, 0.0, 0.0], [0.0, 0.0, 0.05710780248045921, 0.03450316935777664, 0.0, 0.0, 0.050849512219429016, 0.03174202889204025, 0.1412612348794937, 0.0, 0.0], [0.0, 0.0, 0.0, 0.0, 0.0, 0.0, 0.0, 0.0, 0.0, 0.856268584728241, 0.0], [0.0, 0.0, 0.0, 0.0, 0.0, 0.0, 0.0, 0.0, 0.0, 0.48550504446029663, 0.30450552701950073]], [[0.0, 0.0, 0.0, 0.0, 0.0, 0.0, 0.0, 0.0, 0.0, 0.0, 0.0], [0.08760291337966919, 0.0, 0.0, 0.0, 0.0, 0.0, 0.0, 0.0, 0.0, 0.0, 0.0], [0.0, 0.0, 0.3834202289581299, 0.0, 0.0, 0.0, 0.0, 0.0, 0.0, 0.0, 0.0], [0.0, 0.0, 0.35344183444976807, 0.0, 0.0, 0.0, 0.0, 0.0, 0.0, 0.0, 0.0], [0.0, 0.0, 0.3624182939529419, 0.0, 0.0, 0.0, 0.0, 0.0, 0.0, 0.0, 0.0], [0.03513281047344208, 0.01871854066848755, 0.5096668004989624, 0.0, 0.0, 0.0, 0.0, 0.0, 0.0, 0.0, 0.0], [0.0, 0.005715504288673401, 0.3734738230705261, 0.0, 0.0, 0.0, 0.13028424978256226, 0.0, 0.0, 0.0, 0.0], [0.005435086786746979, 0.012165728956460953, 0.31028228998184204, 0.0012307316064834595, 0.0, 0.0, 0.11079636216163635, 0.01454179733991623, 0.0, 0.0, 0.0], [0.0, 0.0, 0.13235560059547424, 0.0, 0.0, 0.0, 0.0224638432264328, 0.0, 0.3094082772731781, 0.0, 0.0], [0.0, 0.0, 0.0, 0.0004995167255401611, 0.0, 0.03053271770477295, 0.0, 0.0, 0.033960603177547455, 0.41146135330200195, 0.0], [0.0, 0.0, 0.0, 0.014077052474021912, 0.0, 0.0598016083240509, 0.0, 0.0, 0.020391296595335007, 0.18989264965057373, 0.13038203120231628]], [[0.0, 0.0, 0.0, 0.0, 0.0, 0.0, 0.0, 0.0, 0.0, 0.0, 0.0], [0.010905742645263672, 0.0, 0.0, 0.0, 0.0, 0.0, 0.0, 0.0, 0.0, 0.0, 0.0], [0.0, 0.0, 0.20777788758277893, 0.0, 0.0, 0.0, 0.0, 0.0, 0.0, 0.0, 0.0], [0.0, 0.0, 0.2689303159713745, 0.0, 0.0, 0.0, 0.0, 0.0, 0.0, 0.0, 0.0], [0.0, 0.0018751919269561768, 0.30476588010787964, 0.0, 0.0, 0.0, 0.0, 0.0, 0.0, 0.0, 0.0], [0.0, 0.0681239515542984, 0.36490172147750854, 0.02819858491420746, 0.0, 0.0, 0.0, 0.0, 0.0, 0.0, 0.0], [0.0, 0.053111713379621506, 0.264331579208374, 0.03548925369977951, 0.0, 0.019869424402713776, 0.01731620728969574, 0.0, 0.0, 0.0, 0.0], [0.0, 0.056676968932151794, 0.19951389729976654, 0.06210200488567352, 0.0, 0.04282306134700775, 0.010371431708335876, 0.0, 0.0, 0.0, 0.0], [0.0, 0.03033951297402382, 0.1016293317079544, 0.013192512094974518, 0.0, 0.00010664761066436768, 0.0, 0.0, 0.20495867729187012, 0.0, 0.0], [0.0, 0.0, 0.0, 0.02320469170808792, 0.0, 0.041060417890548706, 0.0, 0.0, 0.026013150811195374, 0.24495434761047363, 0.0], [0.0, 0.0011747591197490692, 0.0, 0.043801166117191315, 0.0, 0.06966941058635712, 0.0, 0.0, 0.016402676701545715, 0.08669186383485794, 0.0405888557434082]], [[0.0, 0.0, 0.0, 0.0, 0.0, 0.0, 0.0, 0.0, 0.0, 0.0, 0.0], [0.0, 0.0961885154247284, 0.0, 0.0, 0.0, 0.0, 0.0, 0.0, 0.0, 0.0, 0.0], [0.0, 0.0, 0.34017449617385864, 0.0, 0.0, 0.0, 0.0, 0.0, 0.0, 0.0, 0.0], [0.0, 0.0, 0.14849098026752472, 0.04062420129776001, 0.0, 0.0, 0.0, 0.0, 0.0, 0.0, 0.0], [0.0, 0.0023309439420700073, 0.19224146008491516, 0.0315207839012146, 0.0, 0.0, 0.0, 0.0, 0.0, 0.0, 0.0], [0.0, 0.018070019781589508, 0.2209329456090927, 0.04611024260520935, 0.0, 0.0, 0.0, 0.0, 0.0, 0.0, 0.0], [0.0, 0.0, 0.1402674913406372, 0.048698216676712036, 0.0, 0.0, 0.09988807141780853, 0.0, 0.0, 0.0, 0.0], [0.0, 0.0, 0.08974102884531021, 0.05128315091133118, 0.0, 0.0, 0.06456460058689117, 0.018985271453857422, 0.0, 0.0, 0.0], [0.0, 0.0, 0.040298767387866974, 0.024501308798789978, 0.0, 0.0, 0.017155945301055908, 0.008143238723278046, 0.1224389299750328, 0.0, 0.0], [0.0, 0.0, 0.0, 0.0, 0.0, 0.0, 0.0, 0.0, 0.0, 0.5844159722328186, 0.0], [0.0, 0.0, 0.0, 0.0, 0.0, 0.014040142297744751, 0.0, 0.0, 0.0, 0.3178480267524719, 0.17125585675239563]]]], \"top_text\": [\"<bos>\", \"the\", \"young\", \"girl\", \"who\", \"plays\", \"with\", \"the\", \"older\", \"kids\", \"<eos>\"], \"bot_text\": [\"<bos>\", \"the\", \"young\", \"girl\", \"who\", \"plays\", \"with\", \"the\", \"older\", \"kids\", \"<eos>\"]}}"
      ],
      "text/plain": [
       "<IPython.core.display.Javascript object>"
      ]
     },
     "metadata": {},
     "output_type": "display_data"
    },
    {
     "data": {
      "application/javascript": [
       "/**\n",
       " * @fileoverview Transformer Visualization D3 javascript code.\n",
       " */\n",
       "\n",
       "requirejs(['jquery', 'd3'],\n",
       "function($, d3) {\n",
       "\n",
       "var attention = window.attention;\n",
       "\n",
       "const TEXT_SIZE = 15;\n",
       "const BOXWIDTH = TEXT_SIZE * 8;\n",
       "const BOXHEIGHT = TEXT_SIZE * 1.5;\n",
       "const WIDTH = 2000;\n",
       "const HEIGHT = attention.all.bot_text.length * BOXHEIGHT * 2 + 100;\n",
       "const MATRIX_WIDTH = 150;\n",
       "const head_colours = d3.scale.category10();\n",
       "const CHECKBOX_SIZE = 20;\n",
       "\n",
       "function lighten(colour) {\n",
       "  var c = d3.hsl(colour);\n",
       "  var increment = (1 - c.l) * 0.6;\n",
       "  c.l += increment;\n",
       "  c.s -= increment;\n",
       "  return c;\n",
       "}\n",
       "\n",
       "function transpose(mat) {\n",
       "  return mat[0].map(function(col, i) {\n",
       "    return mat.map(function(row) {\n",
       "      return row[i];\n",
       "    });\n",
       "  });\n",
       "}\n",
       "\n",
       "function zip(a, b) {\n",
       "  return a.map(function (e, i) {\n",
       "    return [e, b[i]];\n",
       "  });\n",
       "}\n",
       "\n",
       "\n",
       "function renderVis(id, top_text, bot_text, attention_heads, config) {\n",
       "  $(id).empty();\n",
       "  var svg = d3.select(id)\n",
       "            .append('svg')\n",
       "            .attr(\"width\", WIDTH)\n",
       "            .attr(\"height\", HEIGHT);\n",
       "\n",
       "  var att_data = [];\n",
       "  for (var i=0; i < attention_heads.length; i++) {\n",
       "    var att_trans = transpose(attention_heads[i]);\n",
       "    att_data.push(zip(attention_heads[i], att_trans));\n",
       "  }\n",
       "\n",
       "  renderText(svg, top_text, true, att_data, 0);\n",
       "  renderText(svg, bot_text, false, att_data, MATRIX_WIDTH + BOXWIDTH);\n",
       "\n",
       "  renderAttentionHighlights(svg, att_data);\n",
       "\n",
       "  svg.append(\"g\").classed(\"attention_heads\", true);\n",
       "\n",
       "  renderAttention(svg, attention_heads);\n",
       "\n",
       "  draw_checkboxes(config, 0, svg, attention_heads);\n",
       "}\n",
       "\n",
       "\n",
       "function renderText(svg, text, is_top, att_data, left_pos) {\n",
       "  var id = is_top ? \"top\" : \"bottom\";\n",
       "  var textContainer = svg.append(\"svg:g\")\n",
       "                         .attr(\"id\", id);\n",
       "\n",
       "  textContainer.append(\"g\").classed(\"attention_boxes\", true)\n",
       "               .selectAll(\"g\")\n",
       "               .data(att_data)\n",
       "               .enter()\n",
       "               .append(\"g\")\n",
       "               .selectAll(\"rect\")\n",
       "               .data(function(d) {return d;})\n",
       "               .enter()\n",
       "               .append(\"rect\")\n",
       "               .attr(\"x\", function(d, i, j) {\n",
       "                 return left_pos + box_offset(j);\n",
       "               })\n",
       "               .attr(\"y\", function(d, i) {\n",
       "                 return (+1) * BOXHEIGHT;\n",
       "               })\n",
       "               .attr(\"width\", BOXWIDTH/active_heads())\n",
       "               .attr(\"height\", function() { return BOXHEIGHT; })\n",
       "               .attr(\"fill\", function(d, i, j) {\n",
       "                  return head_colours(j);\n",
       "                })\n",
       "               .style(\"opacity\", 0.0);\n",
       "\n",
       "\n",
       "  var tokenContainer = textContainer.append(\"g\").selectAll(\"g\")\n",
       "                                    .data(text)\n",
       "                                    .enter()\n",
       "                                    .append(\"g\");\n",
       "\n",
       "  tokenContainer.append(\"rect\")\n",
       "                .classed(\"background\", true)\n",
       "                .style(\"opacity\", 0.0)\n",
       "                .attr(\"fill\", \"lightgray\")\n",
       "                .attr(\"x\", left_pos)\n",
       "                .attr(\"y\", function(d, i) {\n",
       "                  return (i+1) * BOXHEIGHT;\n",
       "                })\n",
       "                .attr(\"width\", BOXWIDTH)\n",
       "                .attr(\"height\", BOXHEIGHT);\n",
       "\n",
       "  var theText = tokenContainer.append(\"text\")\n",
       "                              .text(function(d) { return d; })\n",
       "                              .attr(\"font-size\", TEXT_SIZE + \"px\")\n",
       "                              .style(\"cursor\", \"default\")\n",
       "                              .style(\"-webkit-user-select\", \"none\")\n",
       "                              .attr(\"x\", left_pos)\n",
       "                              .attr(\"y\", function(d, i) {\n",
       "                                return (i+1) * BOXHEIGHT;\n",
       "                              });\n",
       "\n",
       "  if (is_top) {\n",
       "    theText.style(\"text-anchor\", \"end\")\n",
       "           .attr(\"dx\", BOXWIDTH - TEXT_SIZE)\n",
       "           .attr(\"dy\", TEXT_SIZE);\n",
       "  } else {\n",
       "    theText.style(\"text-anchor\", \"start\")\n",
       "           .attr(\"dx\", + TEXT_SIZE)\n",
       "           .attr(\"dy\", TEXT_SIZE);\n",
       "  }\n",
       "\n",
       "  tokenContainer.on(\"mouseover\", function(d, index) {\n",
       "    textContainer.selectAll(\".background\")\n",
       "                 .style(\"opacity\", function(d, i) {\n",
       "                   return i == index ? 1.0 : 0.0;\n",
       "                 });\n",
       "\n",
       "    svg.selectAll(\".attention_heads\").style(\"display\", \"none\");\n",
       "\n",
       "    svg.selectAll(\".line_heads\")  // To get the nesting to work.\n",
       "       .selectAll(\".att_lines\")\n",
       "       .attr(\"stroke-opacity\", function(d) {\n",
       "          return 1.0;\n",
       "        })\n",
       "       .attr(\"y1\", function(d, i) {\n",
       "        if (is_top) {\n",
       "          return (index+1) * BOXHEIGHT + (BOXHEIGHT/2);\n",
       "        } else {\n",
       "          return (i+1) * BOXHEIGHT + (BOXHEIGHT/2);\n",
       "        }\n",
       "     })\n",
       "     .attr(\"x1\", BOXWIDTH)\n",
       "     .attr(\"y2\", function(d, i) {\n",
       "       if (is_top) {\n",
       "          return (i+1) * BOXHEIGHT + (BOXHEIGHT/2);\n",
       "        } else {\n",
       "          return (index+1) * BOXHEIGHT + (BOXHEIGHT/2);\n",
       "        }\n",
       "     })\n",
       "     .attr(\"x2\", BOXWIDTH + MATRIX_WIDTH)\n",
       "     .attr(\"stroke-width\", 2)\n",
       "     .attr(\"stroke\", function(d, i, j) {\n",
       "        return head_colours(j);\n",
       "      })\n",
       "     .attr(\"stroke-opacity\", function(d, i, j) {\n",
       "      if (is_top) {d = d[0];} else {d = d[1];}\n",
       "      if (config.head_vis[j]) {\n",
       "        if (d) {\n",
       "          return d[index];\n",
       "        } else {\n",
       "          return 0.0;\n",
       "        }\n",
       "      } else {\n",
       "        return 0.0;\n",
       "      }\n",
       "     });\n",
       "\n",
       "\n",
       "    function updateAttentionBoxes() {\n",
       "      var id = is_top ? \"bottom\" : \"top\";\n",
       "      var the_left_pos = is_top ? MATRIX_WIDTH + BOXWIDTH : 0;\n",
       "      svg.select(\"#\" + id)\n",
       "         .selectAll(\".attention_boxes\")\n",
       "         .selectAll(\"g\")\n",
       "         .selectAll(\"rect\")\n",
       "         .attr(\"x\", function(d, i, j) { return the_left_pos + box_offset(j); })\n",
       "         .attr(\"y\", function(d, i) { return (i+1) * BOXHEIGHT; })\n",
       "         .attr(\"width\", BOXWIDTH/active_heads())\n",
       "         .attr(\"height\", function() { return BOXHEIGHT; })\n",
       "         .style(\"opacity\", function(d, i, j) {\n",
       "            if (is_top) {d = d[0];} else {d = d[1];}\n",
       "            if (config.head_vis[j])\n",
       "              if (d) {\n",
       "                return d[index];\n",
       "              } else {\n",
       "                return 0.0;\n",
       "              }\n",
       "            else\n",
       "              return 0.0;\n",
       "\n",
       "         });\n",
       "    }\n",
       "\n",
       "    updateAttentionBoxes();\n",
       "  });\n",
       "\n",
       "  textContainer.on(\"mouseleave\", function() {\n",
       "    d3.select(this).selectAll(\".background\")\n",
       "                   .style(\"opacity\", 0.0);\n",
       "\n",
       "    svg.selectAll(\".att_lines\").attr(\"stroke-opacity\", 0.0);\n",
       "    svg.selectAll(\".attention_heads\").style(\"display\", \"inline\");\n",
       "    svg.selectAll(\".attention_boxes\")\n",
       "       .selectAll(\"g\")\n",
       "       .selectAll(\"rect\")\n",
       "       .style(\"opacity\", 0.0);\n",
       "  });\n",
       "}\n",
       "\n",
       "function renderAttentionHighlights(svg, attention) {\n",
       "  var line_container = svg.append(\"g\");\n",
       "  line_container.selectAll(\"g\")\n",
       "                .data(attention)\n",
       "                .enter()\n",
       "                .append(\"g\")\n",
       "                .classed(\"line_heads\", true)\n",
       "                .selectAll(\"line\")\n",
       "                .data(function(d){return d;})\n",
       "                .enter()\n",
       "                .append(\"line\").classed(\"att_lines\", true);\n",
       "}\n",
       "\n",
       "function renderAttention(svg, attention_heads) {\n",
       "  var line_container = svg.selectAll(\".attention_heads\");\n",
       "  line_container.html(null);\n",
       "  for(var h=0; h<attention_heads.length; h++) {\n",
       "    for(var a=0; a<attention_heads[h].length; a++) {\n",
       "      for(var s=0; s<attention_heads[h][a].length; s++) {\n",
       "        line_container.append(\"line\")\n",
       "        .attr(\"y1\", (s+1) * BOXHEIGHT + (BOXHEIGHT/2))\n",
       "        .attr(\"x1\", BOXWIDTH)\n",
       "        .attr(\"y2\", (a+1) * BOXHEIGHT + (BOXHEIGHT/2))\n",
       "        .attr(\"x2\", BOXWIDTH + MATRIX_WIDTH)\n",
       "        .attr(\"stroke-width\", 2)\n",
       "        .attr(\"stroke\", head_colours(h))\n",
       "        .attr(\"stroke-opacity\", function() {\n",
       "          if (config.head_vis[h]) {\n",
       "            return attention_heads[h][a][s]/active_heads();\n",
       "          } else {\n",
       "            return 0.0;\n",
       "          }\n",
       "        }());\n",
       "      }\n",
       "    }\n",
       "  }\n",
       "}\n",
       "\n",
       "// Checkboxes\n",
       "function box_offset(i) {\n",
       "  var num_head_above = config.head_vis.reduce(\n",
       "      function(acc, val, cur) {return val && cur < i ? acc + 1: acc;}, 0);\n",
       "  return num_head_above*(BOXWIDTH / active_heads());\n",
       "}\n",
       "\n",
       "function active_heads() {\n",
       "  return config.head_vis.reduce(function(acc, val) {\n",
       "    return val ? acc + 1: acc;\n",
       "  }, 0);\n",
       "}\n",
       "\n",
       "function draw_checkboxes(config, top, svg, attention_heads) {\n",
       "  var checkboxContainer = svg.append(\"g\");\n",
       "  var checkbox = checkboxContainer.selectAll(\"rect\")\n",
       "                                  .data(config.head_vis)\n",
       "                                  .enter()\n",
       "                                  .append(\"rect\")\n",
       "                                  .attr(\"fill\", function(d, i) {\n",
       "                                    return head_colours(i);\n",
       "                                  })\n",
       "                                  .attr(\"x\", function(d, i) {\n",
       "                                    return (i+1) * CHECKBOX_SIZE;\n",
       "                                  })\n",
       "                                  .attr(\"y\", top)\n",
       "                                  .attr(\"width\", CHECKBOX_SIZE)\n",
       "                                  .attr(\"height\", CHECKBOX_SIZE);\n",
       "\n",
       "  function update_checkboxes() {\n",
       "    checkboxContainer.selectAll(\"rect\")\n",
       "                              .data(config.head_vis)\n",
       "                              .attr(\"fill\", function(d, i) {\n",
       "      var head_colour = head_colours(i);\n",
       "      var colour = d ? head_colour : lighten(head_colour);\n",
       "      return colour;\n",
       "    });\n",
       "  }\n",
       "\n",
       "  update_checkboxes();\n",
       "\n",
       "  checkbox.on(\"click\", function(d, i) {\n",
       "    if (config.head_vis[i] && active_heads() == 1) return;\n",
       "    config.head_vis[i] = !config.head_vis[i];\n",
       "    update_checkboxes();\n",
       "    renderAttention(svg, attention_heads);\n",
       "  });\n",
       "\n",
       "  checkbox.on(\"dblclick\", function(d, i) {\n",
       "    // If we double click on the only active head then reset\n",
       "    if (config.head_vis[i] && active_heads() == 1) {\n",
       "      config.head_vis = new Array(config.num_heads).fill(true);\n",
       "    } else {\n",
       "      config.head_vis = new Array(config.num_heads).fill(false);\n",
       "      config.head_vis[i] = true;\n",
       "    }\n",
       "    update_checkboxes();\n",
       "    renderAttention(svg, attention_heads);\n",
       "  });\n",
       "}\n",
       "\n",
       "var config = {\n",
       "  layer: 0,\n",
       "  att_type: 'all',\n",
       "};\n",
       "\n",
       "function visualize() {\n",
       "  var num_heads = attention['all']['att'][0].length;\n",
       "  config.head_vis  = new Array(num_heads).fill(true);\n",
       "  config.num_heads = num_heads;\n",
       "  config.attention = attention;\n",
       "\n",
       "  render();\n",
       "}\n",
       "\n",
       "function render() {\n",
       "  var conf = config.attention[config.att_type];\n",
       "\n",
       "  var top_text = conf.top_text;\n",
       "  var bot_text = conf.bot_text;\n",
       "  var attention = conf.att[config.layer];\n",
       "\n",
       "  $(\"#vis svg\").empty();\n",
       "  renderVis(\"#vis\", top_text, bot_text, attention, config);\n",
       "}\n",
       "\n",
       "$(\"#layer\").empty();\n",
       "for(var i=0; i<6; i++) {\n",
       "  $(\"#layer\").append($(\"<option />\").val(i).text(i));\n",
       "}\n",
       "\n",
       "$(\"#layer\").on('change', function(e) {\n",
       "  config.layer = +e.currentTarget.value;\n",
       "  render();\n",
       "});\n",
       "\n",
       "$(\"#att_type\").on('change', function(e) {\n",
       "  config.att_type = e.currentTarget.value;\n",
       "  render();\n",
       "});\n",
       "\n",
       "$(\"button\").on('click', visualize);\n",
       "\n",
       "visualize();\n",
       "\n",
       "});"
      ],
      "text/plain": [
       "<IPython.core.display.Javascript object>"
      ]
     },
     "metadata": {},
     "output_type": "display_data"
    }
   ],
   "source": [
    "diff_attentions = np.maximum(student_attentions - independent_model_attention, 0)\n",
    "show(sentence.split(), sentence.split(), diff_attentions)"
   ]
  },
  {
   "cell_type": "code",
   "execution_count": null,
   "metadata": {},
   "outputs": [],
   "source": []
  }
 ],
 "metadata": {
  "kernelspec": {
   "display_name": "Python 3",
   "language": "python",
   "name": "python3"
  },
  "language_info": {
   "codemirror_mode": {
    "name": "ipython",
    "version": 3
   },
   "file_extension": ".py",
   "mimetype": "text/x-python",
   "name": "python",
   "nbconvert_exporter": "python",
   "pygments_lexer": "ipython3",
   "version": "3.7.4"
  }
 },
 "nbformat": 4,
 "nbformat_minor": 4
}
