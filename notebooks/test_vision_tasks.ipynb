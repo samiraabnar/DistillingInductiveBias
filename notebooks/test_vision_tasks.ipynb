{
 "cells": [
  {
   "cell_type": "code",
   "execution_count": 1,
   "metadata": {},
   "outputs": [
    {
     "name": "stderr",
     "output_type": "stream",
     "text": [
      "[nltk_data] Downloading package punkt to /home/samira/nltk_data...\n",
      "[nltk_data]   Package punkt is already up-to-date!\n"
     ]
    }
   ],
   "source": [
    "import os\n",
    "import tensorflow as tf\n",
    "from util import constants\n",
    "from util.config_util import get_model_params, get_task_params, get_train_params\n",
    "from tf2_models.trainer import Trainer\n",
    "from absl import app\n",
    "from absl import flags\n",
    "import numpy as np\n",
    "from util.models import MODELS\n",
    "from util.tasks import TASKS\n",
    "from notebook_utils import *\n",
    "\n",
    "%matplotlib inline\n",
    "import pandas as pd\n",
    "import seaborn as sns; sns.set()\n",
    "\n",
    "from tqdm import tqdm\n",
    "from distill.repsim_util import get_reps"
   ]
  },
  {
   "cell_type": "code",
   "execution_count": 2,
   "metadata": {},
   "outputs": [],
   "source": [
    "chkpt_dir='../tf_ckpts'\n",
    "task_name='svhn'\n",
    "task = TASKS[task_name](get_task_params(), data_dir='../data')"
   ]
  },
  {
   "cell_type": "code",
   "execution_count": 3,
   "metadata": {},
   "outputs": [
    {
     "name": "stdout",
     "output_type": "stream",
     "text": [
      "model config: rsnt_shvn1\n",
      "{}\n",
      "<util.model_configs.ResnetConfig object at 0x7f4ebef0cfd0>\n"
     ]
    }
   ],
   "source": [
    "hparams=get_model_params(task, 'resnet', 'rsnt_shvn1')\n",
    "print(hparams)"
   ]
  },
  {
   "cell_type": "code",
   "execution_count": 4,
   "metadata": {},
   "outputs": [
    {
     "name": "stdout",
     "output_type": "stream",
     "text": [
      "No checkpoint found ../tf_ckpts/svhn/resnet_h-512_rd-2_hdrop-0.2_indrop-0.0_rsnt_svhn1_0.001_test\n"
     ]
    }
   ],
   "source": [
    "config={'exp_name':'test',\n",
    "    'model_config':'rsnt_svhn1',\n",
    "    'task_name':'mnist',\n",
    "    'model_name':'resnet',\n",
    "    'chkpt_dir':'../tf_ckpts',\n",
    "    'learning_rate': 0.001\n",
    "    }\n",
    "\n",
    "task = TASKS[task_name](get_task_params(), data_dir='../data')\n",
    "model, _ = get_model(config, task, hparams, 0)\n"
   ]
  },
  {
   "cell_type": "code",
   "execution_count": 5,
   "metadata": {},
   "outputs": [
    {
     "name": "stdout",
     "output_type": "stream",
     "text": [
      "(64, 32, 32, 3) (64,)\n",
      "Model: \"resnet\"\n",
      "_________________________________________________________________\n",
      "Layer (type)                 Output Shape              Param #   \n",
      "=================================================================\n",
      "conv2d (Conv2D)              multiple                  896       \n",
      "_________________________________________________________________\n",
      "conv2d_1 (Conv2D)            multiple                  9248      \n",
      "_________________________________________________________________\n",
      "max_pooling2d (MaxPooling2D) multiple                  0         \n",
      "_________________________________________________________________\n",
      "resnet_block (ResnetBlock)   multiple                  18752     \n",
      "_________________________________________________________________\n",
      "resnet_block_1 (ResnetBlock) multiple                  18752     \n",
      "_________________________________________________________________\n",
      "conv2d_6 (Conv2D)            multiple                  9248      \n",
      "_________________________________________________________________\n",
      "global_average_pooling2d (Gl multiple                  0         \n",
      "_________________________________________________________________\n",
      "dense (Dense)                multiple                  16896     \n",
      "_________________________________________________________________\n",
      "dropout (Dropout)            multiple                  0         \n",
      "_________________________________________________________________\n",
      "dense_1 (Dense)              multiple                  5130      \n",
      "=================================================================\n",
      "Total params: 78,922\n",
      "Trainable params: 78,666\n",
      "Non-trainable params: 256\n",
      "_________________________________________________________________\n"
     ]
    }
   ],
   "source": [
    "for x,y in task.train_dataset:\n",
    "    print(x.shape, y.shape)\n",
    "    break\n",
    "model(x)\n",
    "model.compile(optimizer=tf.keras.optimizers.Adam(learning_rate=0.001),\n",
    "              loss=task.get_loss_fn(),\n",
    "              metrics=[tf.keras.metrics.SparseCategoricalAccuracy()])\n",
    "\n",
    "model.summary()"
   ]
  },
  {
   "cell_type": "code",
   "execution_count": 6,
   "metadata": {},
   "outputs": [
    {
     "name": "stdout",
     "output_type": "stream",
     "text": [
      "Train for 1144 steps, validate for 406 steps\n",
      "Epoch 1/30\n",
      "1144/1144 - 10s - loss: 2.0271 - sparse_categorical_accuracy: 0.3022 - val_loss: 1.7871 - val_sparse_categorical_accuracy: 0.3656\n",
      "Epoch 2/30\n",
      "1144/1144 - 9s - loss: 1.4214 - sparse_categorical_accuracy: 0.5078 - val_loss: 1.4399 - val_sparse_categorical_accuracy: 0.5017\n",
      "Epoch 3/30\n",
      "1144/1144 - 9s - loss: 1.0702 - sparse_categorical_accuracy: 0.6413 - val_loss: 0.9712 - val_sparse_categorical_accuracy: 0.6943\n",
      "Epoch 4/30\n",
      "1144/1144 - 9s - loss: 0.7991 - sparse_categorical_accuracy: 0.7423 - val_loss: 0.7962 - val_sparse_categorical_accuracy: 0.7424\n",
      "Epoch 5/30\n",
      "1144/1144 - 9s - loss: 0.6339 - sparse_categorical_accuracy: 0.8007 - val_loss: 0.6612 - val_sparse_categorical_accuracy: 0.8038\n",
      "Epoch 6/30\n",
      "1144/1144 - 9s - loss: 0.5371 - sparse_categorical_accuracy: 0.8307 - val_loss: 0.5387 - val_sparse_categorical_accuracy: 0.8289\n",
      "Epoch 7/30\n",
      "1144/1144 - 9s - loss: 0.4785 - sparse_categorical_accuracy: 0.8500 - val_loss: 0.4657 - val_sparse_categorical_accuracy: 0.8557\n",
      "Epoch 8/30\n",
      "1144/1144 - 9s - loss: 0.4344 - sparse_categorical_accuracy: 0.8649 - val_loss: 0.4198 - val_sparse_categorical_accuracy: 0.8736\n",
      "Epoch 9/30\n",
      "1144/1144 - 9s - loss: 0.4028 - sparse_categorical_accuracy: 0.8757 - val_loss: 0.4248 - val_sparse_categorical_accuracy: 0.8705\n",
      "Epoch 10/30\n",
      "1144/1144 - 9s - loss: 0.3755 - sparse_categorical_accuracy: 0.8841 - val_loss: 0.4142 - val_sparse_categorical_accuracy: 0.8749\n",
      "Epoch 11/30\n",
      "1144/1144 - 9s - loss: 0.3563 - sparse_categorical_accuracy: 0.8919 - val_loss: 0.3636 - val_sparse_categorical_accuracy: 0.8885\n",
      "Epoch 12/30\n",
      "1144/1144 - 9s - loss: 0.3359 - sparse_categorical_accuracy: 0.8971 - val_loss: 0.3326 - val_sparse_categorical_accuracy: 0.8995\n",
      "Epoch 13/30\n",
      "1144/1144 - 10s - loss: 0.3227 - sparse_categorical_accuracy: 0.9017 - val_loss: 0.3353 - val_sparse_categorical_accuracy: 0.8978\n",
      "Epoch 14/30\n",
      "1144/1144 - 9s - loss: 0.3074 - sparse_categorical_accuracy: 0.9068 - val_loss: 0.3255 - val_sparse_categorical_accuracy: 0.9033\n",
      "Epoch 15/30\n",
      "1144/1144 - 9s - loss: 0.2943 - sparse_categorical_accuracy: 0.9109 - val_loss: 0.3145 - val_sparse_categorical_accuracy: 0.9057\n",
      "Epoch 16/30\n",
      "1144/1144 - 9s - loss: 0.2848 - sparse_categorical_accuracy: 0.9138 - val_loss: 0.2960 - val_sparse_categorical_accuracy: 0.9133\n",
      "Epoch 17/30\n",
      "1144/1144 - 9s - loss: 0.2747 - sparse_categorical_accuracy: 0.9174 - val_loss: 0.3294 - val_sparse_categorical_accuracy: 0.9015\n",
      "Epoch 18/30\n",
      "1144/1144 - 9s - loss: 0.2628 - sparse_categorical_accuracy: 0.9210 - val_loss: 0.3009 - val_sparse_categorical_accuracy: 0.9099\n",
      "Epoch 19/30\n",
      "1144/1144 - 9s - loss: 0.2537 - sparse_categorical_accuracy: 0.9256 - val_loss: 0.3003 - val_sparse_categorical_accuracy: 0.9078\n",
      "Epoch 20/30\n",
      "1144/1144 - 9s - loss: 0.2470 - sparse_categorical_accuracy: 0.9271 - val_loss: 0.2863 - val_sparse_categorical_accuracy: 0.9161\n",
      "Epoch 21/30\n",
      "1144/1144 - 9s - loss: 0.2400 - sparse_categorical_accuracy: 0.9279 - val_loss: 0.2829 - val_sparse_categorical_accuracy: 0.9156\n",
      "Epoch 22/30\n",
      "1144/1144 - 9s - loss: 0.2331 - sparse_categorical_accuracy: 0.9309 - val_loss: 0.2714 - val_sparse_categorical_accuracy: 0.9197\n",
      "Epoch 23/30\n",
      "1144/1144 - 9s - loss: 0.2262 - sparse_categorical_accuracy: 0.9334 - val_loss: 0.2653 - val_sparse_categorical_accuracy: 0.9219\n",
      "Epoch 24/30\n",
      "1144/1144 - 9s - loss: 0.2221 - sparse_categorical_accuracy: 0.9349 - val_loss: 0.2707 - val_sparse_categorical_accuracy: 0.9229\n",
      "Epoch 25/30\n",
      "1144/1144 - 10s - loss: 0.2177 - sparse_categorical_accuracy: 0.9361 - val_loss: 0.2676 - val_sparse_categorical_accuracy: 0.9207\n",
      "Epoch 26/30\n",
      "1144/1144 - 9s - loss: 0.2118 - sparse_categorical_accuracy: 0.9381 - val_loss: 0.2819 - val_sparse_categorical_accuracy: 0.9173\n",
      "Epoch 27/30\n",
      "1144/1144 - 9s - loss: 0.2068 - sparse_categorical_accuracy: 0.9398 - val_loss: 0.2667 - val_sparse_categorical_accuracy: 0.9222\n",
      "Epoch 28/30\n",
      "1144/1144 - 9s - loss: 0.2006 - sparse_categorical_accuracy: 0.9421 - val_loss: 0.2709 - val_sparse_categorical_accuracy: 0.9219\n",
      "Epoch 29/30\n",
      "1144/1144 - 9s - loss: 0.1975 - sparse_categorical_accuracy: 0.9422 - val_loss: 0.2698 - val_sparse_categorical_accuracy: 0.9209\n",
      "Epoch 30/30\n",
      "1144/1144 - 9s - loss: 0.1925 - sparse_categorical_accuracy: 0.9442 - val_loss: 0.2884 - val_sparse_categorical_accuracy: 0.9166\n"
     ]
    }
   ],
   "source": [
    "model.compile(optimizer=tf.keras.optimizers.Adam(learning_rate=0.0001),\n",
    "              loss=task.get_loss_fn(),\n",
    "              metrics=[tf.keras.metrics.SparseCategoricalAccuracy()])\n",
    "\n",
    "history = model.fit(task.train_dataset,\n",
    "                  epochs=30,\n",
    "                  steps_per_epoch=task.n_train_batches,\n",
    "                  validation_steps=task.n_valid_batches,\n",
    "                  validation_data=task.valid_dataset,\n",
    "                  verbose=2\n",
    "                  )\n",
    "\n"
   ]
  },
  {
   "cell_type": "code",
   "execution_count": null,
   "metadata": {},
   "outputs": [],
   "source": [
    "model.evaluate(task.test_dataset, steps=task.n_test_batches)"
   ]
  },
  {
   "cell_type": "code",
   "execution_count": null,
   "metadata": {},
   "outputs": [],
   "source": []
  }
 ],
 "metadata": {
  "kernelspec": {
   "display_name": "Python 3",
   "language": "python",
   "name": "python3"
  },
  "language_info": {
   "codemirror_mode": {
    "name": "ipython",
    "version": 3
   },
   "file_extension": ".py",
   "mimetype": "text/x-python",
   "name": "python",
   "nbconvert_exporter": "python",
   "pygments_lexer": "ipython3",
   "version": "3.7.4"
  }
 },
 "nbformat": 4,
 "nbformat_minor": 4
}
