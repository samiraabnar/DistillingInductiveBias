{
 "cells": [
  {
   "cell_type": "code",
   "execution_count": 1,
   "metadata": {},
   "outputs": [
    {
     "name": "stderr",
     "output_type": "stream",
     "text": [
      "[nltk_data] Downloading package punkt to /home/dehghani/nltk_data...\n",
      "[nltk_data]   Package punkt is already up-to-date!\n"
     ]
    }
   ],
   "source": [
    "import os\n",
    "import tensorflow as tf\n",
    "from util import constants\n",
    "from util.config_util import get_model_params, get_task_params, get_train_params\n",
    "from tf2_models.trainer import Trainer\n",
    "from absl import app\n",
    "from absl import flags\n",
    "import numpy as np\n",
    "from util.models import MODELS\n",
    "from util.tasks import TASKS\n",
    "from notebook_utils import *\n",
    "from distill.repsim_util import *\n",
    "\n",
    "%matplotlib inline\n",
    "import pandas as pd\n",
    "import seaborn as sns; sns.set()\n",
    "\n",
    "from tqdm import tqdm\n",
    "\n",
    "chkpt_dir='../tf_ckpts'"
   ]
  },
  {
   "cell_type": "code",
   "execution_count": 2,
   "metadata": {},
   "outputs": [],
   "source": [
    "def get_outputs(model, x):\n",
    "  outputs = model.detailed_call(x, training=tf.convert_to_tensor(True))\n",
    "  logits, reps = outputs[0], outputs[model.rep_index]\n",
    "  if model.rep_layer is not None and model.rep_layer is not -1:\n",
    "    reps = reps[model.rep_layer]\n",
    "\n",
    "  return reps, logits"
   ]
  },
  {
   "cell_type": "code",
   "execution_count": 3,
   "metadata": {},
   "outputs": [],
   "source": [
    "task1 = 'mnist40'\n",
    "task1 = TASKS[task1](get_task_params(), data_dir='../data')\n",
    "cl_token = 0\n",
    "\n",
    "task = task1\n",
    "\n",
    "models = []\n",
    "labels = []"
   ]
  },
  {
   "cell_type": "code",
   "execution_count": 21,
   "metadata": {},
   "outputs": [
    {
     "name": "stdout",
     "output_type": "stream",
     "text": [
      "model config: ff_svhn2\n",
      "{'hidden_dim': 512, 'depth': 3, 'hidden_dropout_rate': 0.2, 'input_dropout_rate': 0.0}\n",
      "model config: rsnt_svhn1\n",
      "{'hidden_dim': 512, 'pool_size': 3, 'filters': [32, 32, 32, 32], 'kernel_size': [(3, 3), (3, 3), (3, 3), (3, 3)], 'hidden_dropout_rate': 0.2, 'input_dropout_rate': 0.0, 'num_res_net_blocks': 2}\n",
      "student_checkpoint: ../tf_ckpts/mnist40/offline_pure_dstl5_4_crs_slw_3_teacher_resnet_h-512_rd-2_hdrop-0.2_indrop-0.0_rsnt_svhn1_gc_o_dtchrr1_student_cl_vff_h-512_d-3_hdrop-0.2_indrop-0.0_ff_svhn2_gc_o_stdr1\n",
      "No checkpoint found ../tf_ckpts/mnist40/offline_pure_dstl5_4_crs_slw_3_teacher_resnet_h-512_rd-2_hdrop-0.2_indrop-0.0_rsnt_svhn1_gc_o_dtchrr1_student_cl_vff_h-512_d-3_hdrop-0.2_indrop-0.0_ff_svhn2_gc_o_stdr1\n",
      "model config: rsnt_svhn1\n",
      "{'hidden_dim': 512, 'pool_size': 3, 'filters': [32, 32, 32, 32], 'kernel_size': [(3, 3), (3, 3), (3, 3), (3, 3)], 'hidden_dropout_rate': 0.2, 'input_dropout_rate': 0.0, 'num_res_net_blocks': 2}\n",
      "No checkpoint found ../tf_ckpts/mnist40/resnet_h-512_rd-2_hdrop-0.2_indrop-0.0_rsnt_svhn1_gc_o_dtchrr1\n"
     ]
    }
   ],
   "source": [
    "config={'student_exp_name':'gc_o_stdr1',\n",
    "    'teacher_exp_name':'gc_o_dtchrr1',\n",
    "    'teacher_config':'rsnt_svhn1',\n",
    "    'task_name':'mnist40',\n",
    "    'student_model':'cl_vff',\n",
    "    'teacher_model':'resnet',\n",
    "    'student_config':'ff_svhn2',\n",
    "    'distill_config':'pure_dstl5_4_crs_slw_3',\n",
    "    'distill_mode':'offline',\n",
    "    'chkpt_dir':'../tf_ckpts',\n",
    "       }\n",
    "\n",
    "std_hparams=get_model_params(task, config['student_model'], config['student_config'])\n",
    "std_hparams.output_attentions = True\n",
    "std_hparams.output_embeddings = True\n",
    "\n",
    "std_ff_r0, _ = get_student_model(config, task, std_hparams, cl_token)\n",
    "\n",
    "tchr_hparams=get_model_params(task, config['teacher_model'], config['teacher_config'])\n",
    "tchr_hparams.output_attentions = True\n",
    "tchr_hparams.output_embeddings = True\n",
    "tchr_hparams.output_hidden_states = True\n",
    "\n",
    "tchr_rsnt_r0, _ = get_teacher_model(config, task, tchr_hparams, cl_token)"
   ]
  },
  {
   "cell_type": "code",
   "execution_count": 22,
   "metadata": {},
   "outputs": [
    {
     "name": "stdout",
     "output_type": "stream",
     "text": [
      "model config: ff_svhn2\n",
      "{'hidden_dim': 512, 'depth': 3, 'hidden_dropout_rate': 0.2, 'input_dropout_rate': 0.0}\n",
      "model config: rsnt_svhn1\n",
      "{'hidden_dim': 512, 'pool_size': 3, 'filters': [32, 32, 32, 32], 'kernel_size': [(3, 3), (3, 3), (3, 3), (3, 3)], 'hidden_dropout_rate': 0.2, 'input_dropout_rate': 0.0, 'num_res_net_blocks': 2}\n",
      "student_checkpoint: ../tf_ckpts/mnist40/offline_pure_dstl5_4_crs_slw_3_teacher_resnet_h-512_rd-2_hdrop-0.2_indrop-0.0_rsnt_svhn1_gc_o_dtchrr2_student_cl_vff_h-512_d-3_hdrop-0.2_indrop-0.0_ff_svhn2_gc_o_stdr2\n",
      "No checkpoint found ../tf_ckpts/mnist40/offline_pure_dstl5_4_crs_slw_3_teacher_resnet_h-512_rd-2_hdrop-0.2_indrop-0.0_rsnt_svhn1_gc_o_dtchrr2_student_cl_vff_h-512_d-3_hdrop-0.2_indrop-0.0_ff_svhn2_gc_o_stdr2\n",
      "model config: rsnt_svhn1\n",
      "{'hidden_dim': 512, 'pool_size': 3, 'filters': [32, 32, 32, 32], 'kernel_size': [(3, 3), (3, 3), (3, 3), (3, 3)], 'hidden_dropout_rate': 0.2, 'input_dropout_rate': 0.0, 'num_res_net_blocks': 2}\n",
      "No checkpoint found ../tf_ckpts/mnist40/resnet_h-512_rd-2_hdrop-0.2_indrop-0.0_rsnt_svhn1_gc_o_dtchrr2\n"
     ]
    }
   ],
   "source": [
    "config={'student_exp_name':'gc_o_stdr2',\n",
    "    'teacher_exp_name':'gc_o_dtchrr2',\n",
    "    'teacher_config':'rsnt_svhn1',\n",
    "    'task_name':'mnist40',\n",
    "    'student_model':'cl_vff',\n",
    "    'teacher_model':'resnet',\n",
    "    'student_config':'ff_svhn2',\n",
    "    'distill_config':'pure_dstl5_4_crs_slw_3',\n",
    "    'distill_mode':'offline',\n",
    "    'chkpt_dir':'../tf_ckpts',\n",
    "       }\n",
    "\n",
    "std_hparams=get_model_params(task, config['student_model'], config['student_config'])\n",
    "std_hparams.output_attentions = True\n",
    "std_hparams.output_embeddings = True\n",
    "\n",
    "std_ff_r1, _ = get_student_model(config, task, std_hparams, cl_token)\n",
    "\n",
    "tchr_hparams=get_model_params(task, config['teacher_model'], config['teacher_config'])\n",
    "tchr_hparams.output_attentions = True\n",
    "tchr_hparams.output_embeddings = True\n",
    "tchr_hparams.output_hidden_states = True\n",
    "\n",
    "tchr_rsnt_r1, _ = get_teacher_model(config, task, tchr_hparams, cl_token)"
   ]
  },
  {
   "cell_type": "code",
   "execution_count": 23,
   "metadata": {},
   "outputs": [
    {
     "name": "stdout",
     "output_type": "stream",
     "text": [
      "model config: ff_svhn2\n",
      "{'hidden_dim': 512, 'depth': 3, 'hidden_dropout_rate': 0.2, 'input_dropout_rate': 0.0}\n",
      "model config: rsnt_svhn1\n",
      "{'hidden_dim': 512, 'pool_size': 3, 'filters': [32, 32, 32, 32], 'kernel_size': [(3, 3), (3, 3), (3, 3), (3, 3)], 'hidden_dropout_rate': 0.2, 'input_dropout_rate': 0.0, 'num_res_net_blocks': 2}\n",
      "student_checkpoint: ../tf_ckpts/mnist40/offline_pure_dstl5_4_crs_slw_2_teacher_resnet_h-512_rd-2_hdrop-0.2_indrop-0.0_rsnt_svhn1_gc_o_dtchrr3_student_cl_vff_h-512_d-3_hdrop-0.2_indrop-0.0_ff_svhn2_gc_o_stdr3\n",
      "No checkpoint found ../tf_ckpts/mnist40/offline_pure_dstl5_4_crs_slw_2_teacher_resnet_h-512_rd-2_hdrop-0.2_indrop-0.0_rsnt_svhn1_gc_o_dtchrr3_student_cl_vff_h-512_d-3_hdrop-0.2_indrop-0.0_ff_svhn2_gc_o_stdr3\n",
      "model config: rsnt_svhn1\n",
      "{'hidden_dim': 512, 'pool_size': 3, 'filters': [32, 32, 32, 32], 'kernel_size': [(3, 3), (3, 3), (3, 3), (3, 3)], 'hidden_dropout_rate': 0.2, 'input_dropout_rate': 0.0, 'num_res_net_blocks': 2}\n",
      "No checkpoint found ../tf_ckpts/mnist40/resnet_h-512_rd-2_hdrop-0.2_indrop-0.0_rsnt_svhn1_gc_o_dtchrr3\n"
     ]
    }
   ],
   "source": [
    "config={'student_exp_name':'gc_o_stdr3',\n",
    "    'teacher_exp_name':'gc_o_dtchrr3',\n",
    "    'teacher_config':'rsnt_svhn1',\n",
    "    'task_name':'mnist40',\n",
    "    'student_model':'cl_vff',\n",
    "    'teacher_model':'resnet',\n",
    "    'student_config':'ff_svhn2',\n",
    "    'distill_config':'pure_dstl5_4_crs_slw_2',\n",
    "    'distill_mode':'offline',\n",
    "    'chkpt_dir':'../tf_ckpts',\n",
    "       }\n",
    "\n",
    "std_hparams=get_model_params(task, config['student_model'], config['student_config'])\n",
    "std_hparams.output_attentions = True\n",
    "std_hparams.output_embeddings = True\n",
    "\n",
    "std_ff_r2, _ = get_student_model(config, task, std_hparams, cl_token)\n",
    "\n",
    "tchr_hparams=get_model_params(task, config['teacher_model'], config['teacher_config'])\n",
    "tchr_hparams.output_attentions = True\n",
    "tchr_hparams.output_embeddings = True\n",
    "tchr_hparams.output_hidden_states = True\n",
    "\n",
    "tchr_rsnt_r2, _ = get_teacher_model(config, task, tchr_hparams, cl_token)"
   ]
  },
  {
   "cell_type": "code",
   "execution_count": 40,
   "metadata": {},
   "outputs": [
    {
     "name": "stdout",
     "output_type": "stream",
     "text": [
      "model config: ff_svhn2\n",
      "{'hidden_dim': 512, 'depth': 3, 'hidden_dropout_rate': 0.2, 'input_dropout_rate': 0.0}\n",
      "model config: rsnt_mnist1\n",
      "{'hidden_dim': 512, 'pool_size': 3, 'filters': [32, 32, 32, 32], 'kernel_size': [(3, 3), (3, 3), (3, 3), (3, 3)], 'hidden_dropout_rate': 0.2, 'input_dropout_rate': 0.0, 'num_res_net_blocks': 2}\n",
      "student_checkpoint: ../tf_ckpts/mnist40/online_pure_dstl5_4_crs_slw_3_teacher_resnet_h-512_rd-2_hdrop-0.2_indrop-0.0_rsnt_mnist1_gc_o_dtchr1_student_cl_vff_h-512_d-3_hdrop-0.2_indrop-0.0_ff_svhn2_gc_o_std1\n",
      "Restored student from ../tf_ckpts/mnist40/online_pure_dstl5_4_crs_slw_3_teacher_resnet_h-512_rd-2_hdrop-0.2_indrop-0.0_rsnt_mnist1_gc_o_dtchr1_student_cl_vff_h-512_d-3_hdrop-0.2_indrop-0.0_ff_svhn2_gc_o_std1/ckpt-125\n",
      "model config: rsnt_mnist1\n",
      "{'hidden_dim': 512, 'pool_size': 3, 'filters': [32, 32, 32, 32], 'kernel_size': [(3, 3), (3, 3), (3, 3), (3, 3)], 'hidden_dropout_rate': 0.2, 'input_dropout_rate': 0.0, 'num_res_net_blocks': 2}\n",
      "Restored student from ../tf_ckpts/mnist40/resnet_h-512_rd-2_hdrop-0.2_indrop-0.0_rsnt_mnist1_gc_o_dtchr1/ckpt-125\n"
     ]
    }
   ],
   "source": [
    "config={'student_exp_name':'gc_o_std1',\n",
    "    'teacher_exp_name':'gc_o_dtchr1',\n",
    "    'teacher_config':'rsnt_mnist1',\n",
    "    'task_name':'mnist40',\n",
    "    'student_model':'cl_vff',\n",
    "    'teacher_model':'resnet',\n",
    "    'student_config':'ff_svhn2',\n",
    "    'distill_config':'pure_dstl5_4_crs_slw_3',\n",
    "    'distill_mode':'online',\n",
    "    'chkpt_dir':'../tf_ckpts',\n",
    "       }\n",
    "\n",
    "std_hparams=get_model_params(task, config['student_model'], config['student_config'])\n",
    "std_hparams.output_attentions = True\n",
    "std_hparams.output_embeddings = True\n",
    "\n",
    "std_ff1, _ = get_student_model(config, task, std_hparams, cl_token)\n",
    "\n",
    "tchr_hparams=get_model_params(task, config['teacher_model'], config['teacher_config'])\n",
    "tchr_hparams.output_attentions = True\n",
    "tchr_hparams.output_embeddings = True\n",
    "tchr_hparams.output_hidden_states = True\n",
    "\n",
    "tchr_rsnt1, _ = get_teacher_model(config, task, tchr_hparams, cl_token)"
   ]
  },
  {
   "cell_type": "code",
   "execution_count": 41,
   "metadata": {},
   "outputs": [
    {
     "name": "stdout",
     "output_type": "stream",
     "text": [
      "model config: ff_svhn2\n",
      "{'hidden_dim': 512, 'depth': 3, 'hidden_dropout_rate': 0.2, 'input_dropout_rate': 0.0}\n",
      "model config: rsnt_mnist2\n",
      "{'hidden_dim': 512, 'pool_size': 3, 'filters': [32, 32, 32, 32], 'kernel_size': [(3, 3), (3, 3), (3, 3), (3, 3)], 'hidden_dropout_rate': 0.2, 'input_dropout_rate': 0.0, 'num_res_net_blocks': 3}\n",
      "student_checkpoint: ../tf_ckpts/mnist40/online_pure_dstl5_4_crs_slw_3_teacher_resnet_h-512_rd-3_hdrop-0.2_indrop-0.0_rsnt_mnist2_gc_o_dtchr2_student_cl_vff_h-512_d-3_hdrop-0.2_indrop-0.0_ff_svhn2_gc_o_std2\n",
      "Restored student from ../tf_ckpts/mnist40/online_pure_dstl5_4_crs_slw_3_teacher_resnet_h-512_rd-3_hdrop-0.2_indrop-0.0_rsnt_mnist2_gc_o_dtchr2_student_cl_vff_h-512_d-3_hdrop-0.2_indrop-0.0_ff_svhn2_gc_o_std2/ckpt-126\n",
      "model config: rsnt_mnist2\n",
      "{'hidden_dim': 512, 'pool_size': 3, 'filters': [32, 32, 32, 32], 'kernel_size': [(3, 3), (3, 3), (3, 3), (3, 3)], 'hidden_dropout_rate': 0.2, 'input_dropout_rate': 0.0, 'num_res_net_blocks': 3}\n",
      "Restored student from ../tf_ckpts/mnist40/resnet_h-512_rd-3_hdrop-0.2_indrop-0.0_rsnt_mnist2_gc_o_dtchr2/ckpt-126\n"
     ]
    }
   ],
   "source": [
    "config={'student_exp_name':'gc_o_std2',\n",
    "    'teacher_exp_name':'gc_o_dtchr2',\n",
    "    'teacher_config':'rsnt_mnist2',\n",
    "    'task_name':'mnist40',\n",
    "    'student_model':'cl_vff',\n",
    "    'teacher_model':'resnet',\n",
    "    'student_config':'ff_svhn2',\n",
    "    'distill_config':'pure_dstl5_4_crs_slw_3',\n",
    "    'distill_mode':'online',\n",
    "    'chkpt_dir':'../tf_ckpts',\n",
    "       }\n",
    "\n",
    "std_hparams=get_model_params(task, config['student_model'], config['student_config'])\n",
    "std_hparams.output_attentions = True\n",
    "std_hparams.output_embeddings = True\n",
    "\n",
    "std_ff2, _ = get_student_model(config, task, std_hparams, cl_token)\n",
    "\n",
    "tchr_hparams=get_model_params(task, config['teacher_model'], config['teacher_config'])\n",
    "tchr_hparams.output_attentions = True\n",
    "tchr_hparams.output_embeddings = True\n",
    "tchr_hparams.output_hidden_states = True\n",
    "\n",
    "tchr_rsnt2, _ = get_teacher_model(config, task, tchr_hparams, cl_token)"
   ]
  },
  {
   "cell_type": "code",
   "execution_count": 42,
   "metadata": {},
   "outputs": [
    {
     "name": "stdout",
     "output_type": "stream",
     "text": [
      "model config: ff_svhn2\n",
      "{'hidden_dim': 512, 'depth': 3, 'hidden_dropout_rate': 0.2, 'input_dropout_rate': 0.0}\n",
      "model config: rsnt_mnist3\n",
      "{'hidden_dim': 128, 'pool_size': 3, 'filters': [32, 32, 32, 32], 'kernel_size': [(3, 3), (3, 3), (3, 3), (3, 3)], 'hidden_dropout_rate': 0.2, 'input_dropout_rate': 0.0, 'num_res_net_blocks': 3}\n",
      "student_checkpoint: ../tf_ckpts/mnist40/online_pure_dstl5_4_crs_slw_3_teacher_resnet_h-128_rd-3_hdrop-0.2_indrop-0.0_rsnt_mnist3_gc_o_dtchr3_student_cl_vff_h-512_d-3_hdrop-0.2_indrop-0.0_ff_svhn2_gc_o_std3\n",
      "Restored student from ../tf_ckpts/mnist40/online_pure_dstl5_4_crs_slw_3_teacher_resnet_h-128_rd-3_hdrop-0.2_indrop-0.0_rsnt_mnist3_gc_o_dtchr3_student_cl_vff_h-512_d-3_hdrop-0.2_indrop-0.0_ff_svhn2_gc_o_std3/ckpt-125\n",
      "model config: rsnt_mnist3\n",
      "{'hidden_dim': 128, 'pool_size': 3, 'filters': [32, 32, 32, 32], 'kernel_size': [(3, 3), (3, 3), (3, 3), (3, 3)], 'hidden_dropout_rate': 0.2, 'input_dropout_rate': 0.0, 'num_res_net_blocks': 3}\n",
      "Restored student from ../tf_ckpts/mnist40/resnet_h-128_rd-3_hdrop-0.2_indrop-0.0_rsnt_mnist3_gc_o_dtchr3/ckpt-125\n"
     ]
    }
   ],
   "source": [
    "config={'student_exp_name':'gc_o_std3',\n",
    "    'teacher_exp_name':'gc_o_dtchr3',\n",
    "    'teacher_config':'rsnt_mnist3',\n",
    "    'task_name':'mnist40',\n",
    "    'student_model':'cl_vff',\n",
    "    'teacher_model':'resnet',\n",
    "    'student_config':'ff_svhn2',\n",
    "    'distill_config':'pure_dstl5_4_crs_slw_3',\n",
    "    'distill_mode':'online',\n",
    "    'chkpt_dir':'../tf_ckpts',\n",
    "       }\n",
    "\n",
    "std_hparams=get_model_params(task, config['student_model'], config['student_config'])\n",
    "std_hparams.output_attentions = True\n",
    "std_hparams.output_embeddings = True\n",
    "\n",
    "std_ff3, _ = get_student_model(config, task, std_hparams, cl_token)\n",
    "\n",
    "tchr_hparams=get_model_params(task, config['teacher_model'], config['teacher_config'])\n",
    "tchr_hparams.output_attentions = True\n",
    "tchr_hparams.output_embeddings = True\n",
    "tchr_hparams.output_hidden_states = True\n",
    "\n",
    "tchr_rsnt3, _ = get_teacher_model(config, task, tchr_hparams, cl_token)"
   ]
  },
  {
   "cell_type": "code",
   "execution_count": 43,
   "metadata": {},
   "outputs": [
    {
     "name": "stdout",
     "output_type": "stream",
     "text": [
      "model config: ff_svhn3\n",
      "{'hidden_dim': 256, 'depth': 3, 'hidden_dropout_rate': 0.2, 'input_dropout_rate': 0.0}\n",
      "model config: rsnt_mnist1\n",
      "{'hidden_dim': 512, 'pool_size': 3, 'filters': [32, 32, 32, 32], 'kernel_size': [(3, 3), (3, 3), (3, 3), (3, 3)], 'hidden_dropout_rate': 0.2, 'input_dropout_rate': 0.0, 'num_res_net_blocks': 2}\n",
      "student_checkpoint: ../tf_ckpts/mnist40/online_pure_dstl5_4_crs_slw_3_teacher_resnet_h-512_rd-2_hdrop-0.2_indrop-0.0_rsnt_mnist1_gc_o_dtchr4_student_cl_vff_h-256_d-3_hdrop-0.2_indrop-0.0_ff_svhn3_gc_o_std4\n",
      "Restored student from ../tf_ckpts/mnist40/online_pure_dstl5_4_crs_slw_3_teacher_resnet_h-512_rd-2_hdrop-0.2_indrop-0.0_rsnt_mnist1_gc_o_dtchr4_student_cl_vff_h-256_d-3_hdrop-0.2_indrop-0.0_ff_svhn3_gc_o_std4/ckpt-124\n",
      "model config: rsnt_mnist1\n",
      "{'hidden_dim': 512, 'pool_size': 3, 'filters': [32, 32, 32, 32], 'kernel_size': [(3, 3), (3, 3), (3, 3), (3, 3)], 'hidden_dropout_rate': 0.2, 'input_dropout_rate': 0.0, 'num_res_net_blocks': 2}\n",
      "Restored student from ../tf_ckpts/mnist40/resnet_h-512_rd-2_hdrop-0.2_indrop-0.0_rsnt_mnist1_gc_o_dtchr4/ckpt-124\n"
     ]
    }
   ],
   "source": [
    "config={'student_exp_name':'gc_o_std4',\n",
    "    'teacher_exp_name':'gc_o_dtchr4',\n",
    "    'teacher_config':'rsnt_mnist1',\n",
    "    'task_name':'mnist40',\n",
    "    'student_model':'cl_vff',\n",
    "    'teacher_model':'resnet',\n",
    "    'student_config':'ff_svhn3',\n",
    "    'distill_config':'pure_dstl5_4_crs_slw_3',\n",
    "    'distill_mode':'online',\n",
    "    'chkpt_dir':'../tf_ckpts',\n",
    "       }\n",
    "\n",
    "std_hparams=get_model_params(task, config['student_model'], config['student_config'])\n",
    "std_hparams.output_attentions = True\n",
    "std_hparams.output_embeddings = True\n",
    "\n",
    "std_ff4, _ = get_student_model(config, task, std_hparams, cl_token)\n",
    "\n",
    "tchr_hparams=get_model_params(task, config['teacher_model'], config['teacher_config'])\n",
    "tchr_hparams.output_attentions = True\n",
    "tchr_hparams.output_embeddings = True\n",
    "tchr_hparams.output_hidden_states = True\n",
    "\n",
    "tchr_rsnt4, _ = get_teacher_model(config, task, tchr_hparams, cl_token)"
   ]
  },
  {
   "cell_type": "code",
   "execution_count": 44,
   "metadata": {},
   "outputs": [
    {
     "name": "stdout",
     "output_type": "stream",
     "text": [
      "model config: ff_svhn3\n",
      "{'hidden_dim': 256, 'depth': 3, 'hidden_dropout_rate': 0.2, 'input_dropout_rate': 0.0}\n",
      "model config: rsnt_mnist2\n",
      "{'hidden_dim': 512, 'pool_size': 3, 'filters': [32, 32, 32, 32], 'kernel_size': [(3, 3), (3, 3), (3, 3), (3, 3)], 'hidden_dropout_rate': 0.2, 'input_dropout_rate': 0.0, 'num_res_net_blocks': 3}\n",
      "student_checkpoint: ../tf_ckpts/mnist40/online_pure_dstl5_4_crs_slw_3_teacher_resnet_h-512_rd-3_hdrop-0.2_indrop-0.0_rsnt_mnist2_gc_o_dtchr5_student_cl_vff_h-256_d-3_hdrop-0.2_indrop-0.0_ff_svhn3_gc_o_std5\n",
      "Restored student from ../tf_ckpts/mnist40/online_pure_dstl5_4_crs_slw_3_teacher_resnet_h-512_rd-3_hdrop-0.2_indrop-0.0_rsnt_mnist2_gc_o_dtchr5_student_cl_vff_h-256_d-3_hdrop-0.2_indrop-0.0_ff_svhn3_gc_o_std5/ckpt-127\n",
      "model config: rsnt_mnist2\n",
      "{'hidden_dim': 512, 'pool_size': 3, 'filters': [32, 32, 32, 32], 'kernel_size': [(3, 3), (3, 3), (3, 3), (3, 3)], 'hidden_dropout_rate': 0.2, 'input_dropout_rate': 0.0, 'num_res_net_blocks': 3}\n",
      "Restored student from ../tf_ckpts/mnist40/resnet_h-512_rd-3_hdrop-0.2_indrop-0.0_rsnt_mnist2_gc_o_dtchr5/ckpt-127\n"
     ]
    }
   ],
   "source": [
    "config={'student_exp_name':'gc_o_std5',\n",
    "    'teacher_exp_name':'gc_o_dtchr5',\n",
    "    'teacher_config':'rsnt_mnist2',\n",
    "    'task_name':'mnist40',\n",
    "    'student_model':'cl_vff',\n",
    "    'teacher_model':'resnet',\n",
    "    'student_config':'ff_svhn3',\n",
    "    'distill_config':'pure_dstl5_4_crs_slw_3',\n",
    "    'distill_mode':'online',\n",
    "    'chkpt_dir':'../tf_ckpts',\n",
    "       }\n",
    "\n",
    "std_hparams=get_model_params(task, config['student_model'], config['student_config'])\n",
    "std_hparams.output_attentions = True\n",
    "std_hparams.output_embeddings = True\n",
    "\n",
    "std_ff5, _ = get_student_model(config, task, std_hparams, cl_token)\n",
    "\n",
    "tchr_hparams=get_model_params(task, config['teacher_model'], config['teacher_config'])\n",
    "tchr_hparams.output_attentions = True\n",
    "tchr_hparams.output_embeddings = True\n",
    "tchr_hparams.output_hidden_states = True\n",
    "\n",
    "tchr_rsnt5, _ = get_teacher_model(config, task, tchr_hparams, cl_token)"
   ]
  },
  {
   "cell_type": "code",
   "execution_count": 45,
   "metadata": {},
   "outputs": [
    {
     "name": "stdout",
     "output_type": "stream",
     "text": [
      "model config: ff_svhn3\n",
      "{'hidden_dim': 256, 'depth': 3, 'hidden_dropout_rate': 0.2, 'input_dropout_rate': 0.0}\n",
      "model config: rsnt_mnist3\n",
      "{'hidden_dim': 128, 'pool_size': 3, 'filters': [32, 32, 32, 32], 'kernel_size': [(3, 3), (3, 3), (3, 3), (3, 3)], 'hidden_dropout_rate': 0.2, 'input_dropout_rate': 0.0, 'num_res_net_blocks': 3}\n",
      "student_checkpoint: ../tf_ckpts/mnist40/online_pure_dstl5_4_crs_slw_3_teacher_resnet_h-128_rd-3_hdrop-0.2_indrop-0.0_rsnt_mnist3_gc_o_dtchr6_student_cl_vff_h-256_d-3_hdrop-0.2_indrop-0.0_ff_svhn3_gc_o_std6\n",
      "Restored student from ../tf_ckpts/mnist40/online_pure_dstl5_4_crs_slw_3_teacher_resnet_h-128_rd-3_hdrop-0.2_indrop-0.0_rsnt_mnist3_gc_o_dtchr6_student_cl_vff_h-256_d-3_hdrop-0.2_indrop-0.0_ff_svhn3_gc_o_std6/ckpt-128\n",
      "model config: rsnt_mnist3\n",
      "{'hidden_dim': 128, 'pool_size': 3, 'filters': [32, 32, 32, 32], 'kernel_size': [(3, 3), (3, 3), (3, 3), (3, 3)], 'hidden_dropout_rate': 0.2, 'input_dropout_rate': 0.0, 'num_res_net_blocks': 3}\n",
      "Restored student from ../tf_ckpts/mnist40/resnet_h-128_rd-3_hdrop-0.2_indrop-0.0_rsnt_mnist3_gc_o_dtchr6/ckpt-128\n"
     ]
    }
   ],
   "source": [
    "config={'student_exp_name':'gc_o_std6',\n",
    "    'teacher_exp_name':'gc_o_dtchr6',\n",
    "    'teacher_config':'rsnt_mnist3',\n",
    "    'task_name':'mnist40',\n",
    "    'student_model':'cl_vff',\n",
    "    'teacher_model':'resnet',\n",
    "    'student_config':'ff_svhn3',\n",
    "    'distill_config':'pure_dstl5_4_crs_slw_3',\n",
    "    'distill_mode':'online',\n",
    "    'chkpt_dir':'../tf_ckpts',\n",
    "       }\n",
    "\n",
    "\n",
    "std_hparams=get_model_params(task, config['student_model'], config['student_config'])\n",
    "std_hparams.output_attentions = True\n",
    "std_hparams.output_embeddings = True\n",
    "\n",
    "std_ff6, _ = get_student_model(config, task, std_hparams, cl_token)\n",
    "\n",
    "tchr_hparams=get_model_params(task, config['teacher_model'], config['teacher_config'])\n",
    "tchr_hparams.output_attentions = True\n",
    "tchr_hparams.output_embeddings = True\n",
    "tchr_hparams.output_hidden_states = True\n",
    "\n",
    "tchr_rsnt6, _ = get_teacher_model(config, task, tchr_hparams, cl_token)"
   ]
  },
  {
   "cell_type": "code",
   "execution_count": 46,
   "metadata": {},
   "outputs": [],
   "source": [
    "models = [std_ff_r0, std_ff_r1, std_ff_r2, std_ff4, std_ff5, std_ff6, std_ff1, std_ff2, std_ff3,\n",
    "          tchr_rsnt_r0, tchr_rsnt_r1, tchr_rsnt_r2, tchr_rsnt4, tchr_rsnt5, tchr_rsnt6, tchr_rsnt1, tchr_rsnt2, tchr_rsnt3]\n",
    "labels = ['std_f_r0', 'std_ff_r1', 'std_ff_r2', 'std_ff4', 'std_ff5', 'std_ff6', 'std_ff1', 'std_ff2', 'std_ff3', \n",
    "          'tchr_ff_r0', 'tchr_rsnt_r1', 'tchr_rsnt_r2', 'tchr_rsnt4', 'tchr_rsnt5', 'tchr_rsnt6', 'tchr_rsnt1', 'tchr_rsnt2', 'tchr_rsnt3']\n",
    "\n",
    "for x, y in task.valid_dataset:\n",
    "    for model in models:\n",
    "        model(x)\n",
    "    break"
   ]
  },
  {
   "cell_type": "code",
   "execution_count": 47,
   "metadata": {},
   "outputs": [],
   "source": [
    "\n",
    "def  get_reploss_dic(models, labels, task, repindex=1):    \n",
    "    reploss_dic = {}\n",
    "    for l1 in labels:\n",
    "        reploss_dic[l1] = {}\n",
    "        for l2 in labels:\n",
    "            reploss_dic[l1][l2] = []\n",
    "\n",
    "    num_batches = 0\n",
    "    for x, y in task.valid_dataset:\n",
    "        reps = []\n",
    "        for m in models:\n",
    "            outputs = get_outputs(m, x)\n",
    "            reps.append(outputs[repindex])\n",
    "        for i in np.arange(len(labels)):\n",
    "            for j in np.arange(i, len(labels)):\n",
    "                reploss = rep_loss(reps1=reps[i], reps2=reps[j],\n",
    "                                     padding_symbol=None,\n",
    "                                     inputs=x)\n",
    "                reploss_dic[labels[i]][labels[j]].append(reploss)\n",
    "                if i != j:\n",
    "                    reploss_dic[labels[j]][labels[i]].append(reploss)\n",
    "        num_batches += 1\n",
    "\n",
    "        if num_batches > 20:\n",
    "            break\n",
    "            \n",
    "    dist_lists = {}\n",
    "    for l1 in reploss_dic.keys():\n",
    "        dist_lists[l1] = []\n",
    "        for i in  np.arange(len(reploss_dic[l1].keys())):\n",
    "            l2 = list(reploss_dic[l1].keys())[i]\n",
    "            dist_lists[l1].append(np.mean(reploss_dic[l1][l2]))\n",
    "            \n",
    "    return reploss_dic, dist_lists"
   ]
  },
  {
   "cell_type": "code",
   "execution_count": null,
   "metadata": {},
   "outputs": [],
   "source": []
  },
  {
   "cell_type": "code",
   "execution_count": 48,
   "metadata": {},
   "outputs": [],
   "source": [
    "import csv\n",
    "import numpy as np\n",
    "import matplotlib.pyplot as plt\n",
    "from sklearn import manifold\n",
    "\n",
    "def project2d(reploss_dic, dist_lists):\n",
    "    dists = []\n",
    "    cities = []\n",
    "    for i in np.arange(len(dist_lists.keys())):\n",
    "        k = list(dist_lists.keys())[i]\n",
    "        cities.append(k)\n",
    "        dists.append(list(map(float , dist_lists[k])))\n",
    "\n",
    "    adist = np.array(dists)\n",
    "    amax = np.amax(adist)\n",
    "    adist /= amax\n",
    "\n",
    "    mds = manifold.MDS(n_components=2, dissimilarity=\"precomputed\", random_state=6)\n",
    "    results = mds.fit(adist)\n",
    "\n",
    "    coords = results.embedding_\n",
    "\n",
    "    plt.subplots_adjust(bottom = 0.1)\n",
    "    plt.scatter(\n",
    "        coords[:, 0], coords[:, 1], marker = 'o'\n",
    "        )\n",
    "    for label, x, y in zip(cities, coords[:, 0], coords[:, 1]):\n",
    "        plt.annotate(\n",
    "            label,\n",
    "            xy = (x, y), xytext = (-20, 20),\n",
    "            textcoords = 'offset points', ha = 'right', va = 'bottom',\n",
    "            bbox = dict(boxstyle = 'round,pad=0.5', fc = 'yellow', alpha = 0.5),\n",
    "            arrowprops = dict(arrowstyle = '->', connectionstyle = 'arc3,rad=0'))\n",
    "\n",
    "    plt.show()"
   ]
  },
  {
   "cell_type": "code",
   "execution_count": 49,
   "metadata": {},
   "outputs": [
    {
     "data": {
      "image/png": "[encoded data removed]",
      "text/plain": [
       "<Figure size 432x288 with 1 Axes>"
      ]
     },
     "metadata": {
      "needs_background": "light"
     },
     "output_type": "display_data"
    }
   ],
   "source": [
    "reploss_dic, dist_lists = get_reploss_dic(models, labels, task, repindex=1)\n",
    "project2d(reploss_dic, dist_lists)"
   ]
  },
  {
   "cell_type": "code",
   "execution_count": 52,
   "metadata": {},
   "outputs": [
    {
     "data": {
      "image/png": "[encoded data removed]",
      "text/plain": [
       "<Figure size 432x288 with 1 Axes>"
      ]
     },
     "metadata": {
      "needs_background": "light"
     },
     "output_type": "display_data"
    }
   ],
   "source": [
    "reploss_dic, dist_lists = get_reploss_dic(models, labels, task, repindex=0)\n",
    "project2d(reploss_dic, dist_lists)"
   ]
  },
  {
   "cell_type": "code",
   "execution_count": 51,
   "metadata": {},
   "outputs": [
    {
     "name": "stdout",
     "output_type": "stream",
     "text": [
      "std_f_r0\n",
      "5000/5000 [==============================] - 16s 3ms/step - loss: 2.3364 - classification_loss: 2.3182 - sparse_categorical_accuracy: 0.0981\n",
      "std_ff_r1\n",
      "5000/5000 [==============================] - 15s 3ms/step - loss: 2.3469 - classification_loss: 2.3287 - sparse_categorical_accuracy: 0.0888\n",
      "std_ff_r2\n",
      "5000/5000 [==============================] - 15s 3ms/step - loss: 2.3502 - classification_loss: 2.3320 - sparse_categorical_accuracy: 0.1032\n",
      "std_ff4\n",
      "5000/5000 [==============================] - 15s 3ms/step - loss: 7.5766 - classification_loss: 7.5763 - sparse_categorical_accuracy: 0.1836\n",
      "std_ff5\n",
      "5000/5000 [==============================] - 16s 3ms/step - loss: 8.3940 - classification_loss: 8.3937 - sparse_categorical_accuracy: 0.1787\n",
      "std_ff6\n",
      "5000/5000 [==============================] - 16s 3ms/step - loss: 6.2927 - classification_loss: 6.2924 - sparse_categorical_accuracy: 0.1736\n",
      "std_ff1\n",
      "5000/5000 [==============================] - 15s 3ms/step - loss: 7.4199 - classification_loss: 7.4196 - sparse_categorical_accuracy: 0.1953\n",
      "std_ff2\n",
      "5000/5000 [==============================] - 15s 3ms/step - loss: 6.5221 - classification_loss: 6.5218 - sparse_categorical_accuracy: 0.1915\n",
      "std_ff3\n",
      "5000/5000 [==============================] - 15s 3ms/step - loss: 6.4012 - classification_loss: 6.4009 - sparse_categorical_accuracy: 0.1884\n",
      "tchr_ff_r0\n",
      "5000/5000 [==============================] - 18s 4ms/step - loss: 2.3040 - classification_loss: 2.3040 - sparse_categorical_accuracy: 0.1032\n",
      "tchr_rsnt_r1\n",
      "5000/5000 [==============================] - 18s 4ms/step - loss: 2.3071 - classification_loss: 2.3071 - sparse_categorical_accuracy: 0.0982\n",
      "tchr_rsnt_r2\n",
      "5000/5000 [==============================] - 18s 4ms/step - loss: 2.3036 - classification_loss: 2.3036 - sparse_categorical_accuracy: 0.1009\n",
      "tchr_rsnt4\n",
      "5000/5000 [==============================] - 19s 4ms/step - loss: 0.2395 - classification_loss: 0.2395 - sparse_categorical_accuracy: 0.9284\n",
      "tchr_rsnt5\n",
      "5000/5000 [==============================] - 20s 4ms/step - loss: 1.3562 - classification_loss: 1.3562 - sparse_categorical_accuracy: 0.7650\n",
      "tchr_rsnt6\n",
      "5000/5000 [==============================] - 19s 4ms/step - loss: 0.4522 - classification_loss: 0.4522 - sparse_categorical_accuracy: 0.8723\n",
      "tchr_rsnt1\n",
      "5000/5000 [==============================] - 18s 4ms/step - loss: 0.3067 - classification_loss: 0.3067 - sparse_categorical_accuracy: 0.9050\n",
      "tchr_rsnt2\n",
      "5000/5000 [==============================] - 20s 4ms/step - loss: 0.5568 - classification_loss: 0.5568 - sparse_categorical_accuracy: 0.8500\n",
      "tchr_rsnt3\n",
      "5000/5000 [==============================] - 19s 4ms/step - loss: 1.3282 - classification_loss: 1.3282 - sparse_categorical_accuracy: 0.7142\n"
     ]
    }
   ],
   "source": [
    "chkpt_dir='../tf_ckpts'\n",
    "task_name = 'affnist'\n",
    "affnist = TASKS[task_name](get_task_params(), data_dir='../data')\n",
    "\n",
    "\n",
    "for model,label in zip(models,labels):\n",
    "    print(label)\n",
    "    model.evaluate(affnist.test_dataset, steps=affnist.n_test_batches)"
   ]
  },
  {
   "cell_type": "code",
   "execution_count": null,
   "metadata": {},
   "outputs": [],
   "source": []
  }
 ],
 "metadata": {
  "kernelspec": {
   "display_name": "Python 3",
   "language": "python",
   "name": "python3"
  },
  "language_info": {
   "codemirror_mode": {
    "name": "ipython",
    "version": 3
   },
   "file_extension": ".py",
   "mimetype": "text/x-python",
   "name": "python",
   "nbconvert_exporter": "python",
   "pygments_lexer": "ipython3",
   "version": "3.7.7"
  }
 },
 "nbformat": 4,
 "nbformat_minor": 4
}
