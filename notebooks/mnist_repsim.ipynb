{
 "cells": [
  {
   "cell_type": "code",
   "execution_count": 1,
   "metadata": {},
   "outputs": [
    {
     "name": "stderr",
     "output_type": "stream",
     "text": [
      "[nltk_data] Downloading package punkt to /home/dehghani/nltk_data...\n",
      "[nltk_data]   Package punkt is already up-to-date!\n"
     ]
    }
   ],
   "source": [
    "import os\n",
    "import tensorflow as tf\n",
    "from util import constants\n",
    "from util.config_util import get_model_params, get_task_params, get_train_params\n",
    "from tf2_models.trainer import Trainer\n",
    "from absl import app\n",
    "from absl import flags\n",
    "import numpy as np\n",
    "from util.models import MODELS\n",
    "from util.tasks import TASKS\n",
    "from notebook_utils import *\n",
    "from distill.repsim_util import *\n",
    "import tensorflow_datasets as tfds\n",
    "%matplotlib inline\n",
    "import pandas as pd\n",
    "import seaborn as sns; sns.set()\n",
    "\n",
    "from tqdm import tqdm\n",
    "\n",
    "chkpt_dir='../tf_ckpts'"
   ]
  },
  {
   "cell_type": "code",
   "execution_count": 2,
   "metadata": {},
   "outputs": [],
   "source": [
    "def get_outputs(model, x):\n",
    "  outputs = model.detailed_call(x, training=tf.convert_to_tensor(True))\n",
    "  logits, reps = outputs[0], outputs[model.rep_index]\n",
    "  if model.rep_layer is not None and model.rep_layer is not -1:\n",
    "    reps = reps[model.rep_layer]\n",
    "\n",
    "  return reps, logits"
   ]
  },
  {
   "cell_type": "code",
   "execution_count": 3,
   "metadata": {},
   "outputs": [],
   "source": [
    "def convert_examples(examples):\n",
    "    pad_length = int((28 - 28) / 2)\n",
    "    return tf.pad(tf.cast(examples['image'], dtype=tf.float32) / 255,\n",
    "                  ([pad_length, pad_length], [pad_length, pad_length],\n",
    "                   [0, 0])), tf.cast(\n",
    "      examples['label'], dtype=tf.int32)\n",
    "\n",
    "cmnist_trans = tfds.load('mnist_corrupted/translate', split='test')\n",
    "cmnist_trans = cmnist_trans.map(map_func=lambda x: convert_examples(x))\n",
    "cmnist_trans = cmnist_trans.batch(64)\n",
    "\n",
    "task1 = 'mnist'\n",
    "task1 = TASKS[task1](get_task_params(), data_dir='../data')\n",
    "cl_token = 0\n",
    "\n",
    "task = task1\n",
    "\n",
    "models = []\n",
    "labels = []"
   ]
  },
  {
   "cell_type": "code",
   "execution_count": 4,
   "metadata": {},
   "outputs": [
    {
     "name": "stdout",
     "output_type": "stream",
     "text": [
      "model config: ff_mnist4\n",
      "model config: vcnn_mnist5\n",
      "model config: vcnn_mnist5\n",
      "student_checkpoint: ../tf_ckpts/mnist/online_pure_dstl2_4_crs_slw_3_teacher_cl_vcnn_hc-128.64.64_hfc-_d-3_hdrop-0.2_indrop-0.0_vcnn_mnist5_gc_o_dtchr1_student_cl_vff_h-512.128.32_d-3_hdrop-0.1_indrop-0.0_ff_mnist4_gc_o_std1\n",
      "Restored student from ../tf_ckpts/mnist/online_pure_dstl2_4_crs_slw_3_teacher_cl_vcnn_hc-128.64.64_hfc-_d-3_hdrop-0.2_indrop-0.0_vcnn_mnist5_gc_o_dtchr1_student_cl_vff_h-512.128.32_d-3_hdrop-0.1_indrop-0.0_ff_mnist4_gc_o_std1/ckpt-400\n",
      "Restored student from ../tf_ckpts/mnist/cl_vcnn_hc-128.64.64_hfc-_d-3_hdrop-0.2_indrop-0.0_vcnn_mnist5_gc_o_dtchr1/ckpt-400\n",
      "student perf:\n",
      "10/10 [==============================] - 1s 61ms/step - loss: 0.0329 - classification_loss: 0.0290 - sparse_categorical_accuracy: 0.9891\n",
      "[0.03293270273134112, 0.029002229, 0.9890625]\n",
      "teacher perf:\n",
      "10/10 [==============================] - 2s 227ms/step - loss: 0.0255 - classification_loss: 0.0255 - sparse_categorical_accuracy: 0.9891\n",
      "[0.025505538273137063, 0.02550457, 0.9890625]\n",
      "model config: ff_mnist4\n",
      "model config: vcnn_mnist6\n",
      "model config: vcnn_mnist6\n",
      "student_checkpoint: ../tf_ckpts/mnist/online_pure_dstl2_4_crs_slw_3_teacher_cl_vcnn_hc-128.64.64_hfc-_d-3_hdrop-0.2_indrop-0.0_vcnn_mnist6_gc_o_dtchr2_student_cl_vff_h-512.128.32_d-3_hdrop-0.1_indrop-0.0_ff_mnist4_gc_o_std2\n",
      "Restored student from ../tf_ckpts/mnist/online_pure_dstl2_4_crs_slw_3_teacher_cl_vcnn_hc-128.64.64_hfc-_d-3_hdrop-0.2_indrop-0.0_vcnn_mnist6_gc_o_dtchr2_student_cl_vff_h-512.128.32_d-3_hdrop-0.1_indrop-0.0_ff_mnist4_gc_o_std2/ckpt-400\n",
      "Restored student from ../tf_ckpts/mnist/cl_vcnn_hc-128.64.64_hfc-_d-3_hdrop-0.2_indrop-0.0_vcnn_mnist6_gc_o_dtchr2/ckpt-400\n",
      "student perf:\n",
      "10/10 [==============================] - 0s 33ms/step - loss: 0.0344 - classification_loss: 0.0303 - sparse_categorical_accuracy: 0.9875\n",
      "[0.034383863862603906, 0.030348513, 0.9875]\n",
      "teacher perf:\n",
      "10/10 [==============================] - 0s 24ms/step - loss: 0.0250 - classification_loss: 0.0250 - sparse_categorical_accuracy: 0.9937\n",
      "[0.02501620737602934, 0.025015255, 0.99375]\n",
      "model config: ff_mnist4\n",
      "model config: vcnn_mnist7\n",
      "model config: vcnn_mnist7\n",
      "student_checkpoint: ../tf_ckpts/mnist/online_pure_dstl2_4_crs_slw_3_teacher_cl_vcnn_hc-128.64.64_hfc-_d-3_hdrop-0.3_indrop-0.0_vcnn_mnist7_gc_o_dtchr3_student_cl_vff_h-512.128.32_d-3_hdrop-0.1_indrop-0.0_ff_mnist4_gc_o_std3\n",
      "Restored student from ../tf_ckpts/mnist/online_pure_dstl2_4_crs_slw_3_teacher_cl_vcnn_hc-128.64.64_hfc-_d-3_hdrop-0.3_indrop-0.0_vcnn_mnist7_gc_o_dtchr3_student_cl_vff_h-512.128.32_d-3_hdrop-0.1_indrop-0.0_ff_mnist4_gc_o_std3/ckpt-400\n",
      "Restored student from ../tf_ckpts/mnist/cl_vcnn_hc-128.64.64_hfc-_d-3_hdrop-0.3_indrop-0.0_vcnn_mnist7_gc_o_dtchr3/ckpt-400\n",
      "student perf:\n",
      "10/10 [==============================] - 0s 25ms/step - loss: 0.0340 - classification_loss: 0.0300 - sparse_categorical_accuracy: 0.9891\n",
      "[0.03395602176897228, 0.02997452, 0.9890625]\n",
      "teacher perf:\n",
      "10/10 [==============================] - 0s 29ms/step - loss: 0.0201 - classification_loss: 0.0201 - sparse_categorical_accuracy: 0.9937\n",
      "[0.02009704038500786, 0.020096028, 0.99375]\n"
     ]
    }
   ],
   "source": [
    "####test\n",
    "config={'student_exp_name':'gc_o_std1',\n",
    "        'teacher_exp_name':'gc_o_dtchr1',\n",
    "        'task_name':'mnist',\n",
    "        'teacher_model':'cl_vcnn',\n",
    "        'student_model':'cl_vff',\n",
    "        'teacher_config':'vcnn_mnist5',\n",
    "        'student_config':'ff_mnist4',\n",
    "        'distill_config':'pure_dstl2_4_crs_slw_3',\n",
    "        'distill_mode':'online',\n",
    "        'chkpt_dir':'../tf_ckpts',\n",
    "       }\n",
    "\n",
    "std_hparams=get_model_params(task, config['student_model'], config['student_config'])\n",
    "tchr_hparams=get_model_params(task, config['teacher_model'], config['teacher_config'])\n",
    "\n",
    "cnn2ff_ot1_std1, _ = get_student_model(config, task, std_hparams, cl_token)\n",
    "cnn_t1, _ = get_teacher_model(config, task, tchr_hparams, cl_token)\n",
    "\n",
    "\n",
    "models.extend([cnn2ff_ot1_std1, cnn_t1])\n",
    "labels.extend(['cnn2ff_ot1_std1', 'cnn_t1'])\n",
    "print('student perf:')\n",
    "print(cnn2ff_ot1_std1.evaluate(task.test_dataset, steps=10))\n",
    "print('teacher perf:')\n",
    "print(cnn_t1.evaluate(task.test_dataset, steps=10))\n",
    "############################################\n",
    "config={'student_exp_name':'gc_o_std2',\n",
    "        'teacher_exp_name':'gc_o_dtchr2',\n",
    "        'task_name':'mnist',\n",
    "        'teacher_model':'cl_vcnn',\n",
    "        'student_model':'cl_vff',\n",
    "        'teacher_config':'vcnn_mnist6',\n",
    "        'student_config':'ff_mnist4',\n",
    "        'distill_config':'pure_dstl2_4_crs_slw_3',\n",
    "        'distill_mode':'online',\n",
    "        'chkpt_dir':'../tf_ckpts',\n",
    "       }\n",
    "\n",
    "std_hparams=get_model_params(task, config['student_model'], config['student_config'])\n",
    "tchr_hparams=get_model_params(task, config['teacher_model'], config['teacher_config'])\n",
    "\n",
    "\n",
    "cnn2ff_ot2_std2, _ = get_student_model(config, task, std_hparams, cl_token)\n",
    "cnn_t2, _ = get_teacher_model(config, task, tchr_hparams, cl_token)\n",
    "\n",
    "models.extend([cnn2ff_ot2_std2, cnn_t2])\n",
    "labels.extend(['cnn2ff_ot2_std2', 'cnn_t2'])\n",
    "print('student perf:')\n",
    "print(cnn2ff_ot2_std2.evaluate(task.test_dataset, steps=10))\n",
    "print('teacher perf:')\n",
    "print(cnn_t2.evaluate(task.test_dataset, steps=10))\n",
    "############################################\n",
    "config={'student_exp_name':'gc_o_std3',\n",
    "        'teacher_exp_name':'gc_o_dtchr3',\n",
    "        'task_name':'mnist',\n",
    "        'teacher_model':'cl_vcnn',\n",
    "        'student_model':'cl_vff',\n",
    "        'teacher_config':'vcnn_mnist7',\n",
    "        'student_config':'ff_mnist4',\n",
    "        'distill_config':'pure_dstl2_4_crs_slw_3',\n",
    "        'distill_mode':'online',\n",
    "        'chkpt_dir':'../tf_ckpts',\n",
    "       }\n",
    "\n",
    "std_hparams=get_model_params(task, config['student_model'], config['student_config'])\n",
    "tchr_hparams=get_model_params(task, config['teacher_model'], config['teacher_config'])\n",
    "\n",
    "\n",
    "cnn2ff_ot3_std3, _ = get_student_model(config, task, std_hparams, cl_token)\n",
    "cnn_t3, _ = get_teacher_model(config, task, tchr_hparams, cl_token)\n",
    "\n",
    "models.extend([cnn2ff_ot3_std3, cnn_t3])\n",
    "labels.extend(['cnn2ff_ot3_std3', 'cnn_t3'])\n",
    "print('student perf:')\n",
    "print(cnn2ff_ot3_std3.evaluate(task.test_dataset, steps=10))\n",
    "print('teacher perf:')\n",
    "print(cnn_t3.evaluate(task.test_dataset, steps=10))"
   ]
  },
  {
   "cell_type": "code",
   "execution_count": null,
   "metadata": {},
   "outputs": [],
   "source": [
    "#Random\n",
    "\n",
    "config={'student_exp_name':'gc_o_std_r1',\n",
    "        'teacher_exp_name':'gc_o_tchr_r1',\n",
    "        'task_name':'mnist',\n",
    "        'teacher_model':'cl_vcnn',\n",
    "        'student_model':'cl_vff',\n",
    "        'teacher_config':'vcnn_mnist5',\n",
    "        'student_config':'ff_mnist4',\n",
    "        'distill_config':'pure_dstl5_4_crs_slw_3',\n",
    "        'distill_mode':'offline',\n",
    "        'chkpt_dir':'../tf_ckpts',\n",
    "       }\n",
    "\n",
    "std_hparams=get_model_params(task, config['student_model'], config['student_config'])\n",
    "tchr_hparams=get_model_params(task, config['teacher_model'], config['teacher_config'])\n",
    "\n",
    "\n",
    "ff_r1, _ = get_student_model(config, task, std_hparams, cl_token)\n",
    "cnn_r1, _ = get_teacher_model(config, task, tchr_hparams, cl_token)\n",
    "\n",
    "\n",
    "##################\n",
    "config['student_exp_name'] ='gc_o_std_r2'\n",
    "config['teacher_exp_name'] ='gc_o_tchr_r2'\n",
    "std_hparams=get_model_params(task, config['student_model'], config['student_config'])\n",
    "tchr_hparams=get_model_params(task, config['teacher_model'], config['teacher_config'])\n",
    "\n",
    "\n",
    "ff_r2, _ = get_student_model(config, task, std_hparams, cl_token)\n",
    "cnn_r2, _ = get_teacher_model(config, task, tchr_hparams, cl_token)\n",
    "\n",
    "##################\n",
    "config['student_exp_name'] ='gc_o_std_r3'\n",
    "config['teacher_exp_name'] ='gc_o_tchr_r3'\n",
    "std_hparams=get_model_params(task, config['student_model'], config['student_config'])\n",
    "tchr_hparams=get_model_params(task, config['teacher_model'], config['teacher_config'])\n",
    "\n",
    "ff_r3, _ = get_student_model(config, task, std_hparams, cl_token)\n",
    "cnn_r3, _ = get_teacher_model(config, task, tchr_hparams, cl_token)\n",
    "\n",
    "\n",
    "##################\n",
    "config['student_exp_name'] ='gc_o_std_r4'\n",
    "config['teacher_exp_name'] ='gc_o_tchr_r4'\n",
    "std_hparams=get_model_params(task, config['student_model'], config['student_config'])\n",
    "tchr_hparams=get_model_params(task, config['teacher_model'], config['teacher_config'])\n",
    "\n",
    "ff_r4, _ = get_student_model(config, task, std_hparams, cl_token)\n",
    "cnn_r4, _ = get_teacher_model(config, task, tchr_hparams, cl_token)\n"
   ]
  },
  {
   "cell_type": "code",
   "execution_count": 5,
   "metadata": {},
   "outputs": [
    {
     "name": "stdout",
     "output_type": "stream",
     "text": [
      "model config: ff_mnist4\n",
      "model config: vcnn_mnist7\n",
      "model config: vcnn_mnist7\n",
      "student_checkpoint: ../tf_ckpts/mnist/offline_pure_dstl5_4_crs_slw_3_teacher_cl_vcnn_hc-128.64.64_hfc-_d-3_hdrop-0.3_indrop-0.0_vcnn_mnist7_gc_o_dtchr10_student_cl_vff_h-512.128.32_d-3_hdrop-0.1_indrop-0.0_ff_mnist4_gc_f_std10\n",
      "Restored student from ../tf_ckpts/mnist/offline_pure_dstl5_4_crs_slw_3_teacher_cl_vcnn_hc-128.64.64_hfc-_d-3_hdrop-0.3_indrop-0.0_vcnn_mnist7_gc_o_dtchr10_student_cl_vff_h-512.128.32_d-3_hdrop-0.1_indrop-0.0_ff_mnist4_gc_f_std10/ckpt-400\n",
      "Restored student from ../tf_ckpts/mnist/cl_vcnn_hc-128.64.64_hfc-_d-3_hdrop-0.3_indrop-0.0_vcnn_mnist7_gc_o_dtchr10/ckpt-400\n",
      "model config: ff_mnist4\n",
      "model config: vcnn_mnist7\n",
      "model config: vcnn_mnist7\n",
      "student_checkpoint: ../tf_ckpts/mnist/offline_pure_dstl5_4_crs_slw_3_teacher_cl_vcnn_hc-128.64.64_hfc-_d-3_hdrop-0.3_indrop-0.0_vcnn_mnist7_gc_o_dtchr11_student_cl_vff_h-512.128.32_d-3_hdrop-0.1_indrop-0.0_ff_mnist4_gc_f_std11\n",
      "Restored student from ../tf_ckpts/mnist/offline_pure_dstl5_4_crs_slw_3_teacher_cl_vcnn_hc-128.64.64_hfc-_d-3_hdrop-0.3_indrop-0.0_vcnn_mnist7_gc_o_dtchr11_student_cl_vff_h-512.128.32_d-3_hdrop-0.1_indrop-0.0_ff_mnist4_gc_f_std11/ckpt-400\n",
      "Restored student from ../tf_ckpts/mnist/cl_vcnn_hc-128.64.64_hfc-_d-3_hdrop-0.3_indrop-0.0_vcnn_mnist7_gc_o_dtchr11/ckpt-400\n",
      "model config: ff_mnist4\n",
      "model config: vcnn_mnist7\n",
      "model config: vcnn_mnist7\n",
      "student_checkpoint: ../tf_ckpts/mnist/offline_pure_dstl5_4_crs_slw_3_teacher_cl_vcnn_hc-128.64.64_hfc-_d-3_hdrop-0.3_indrop-0.0_vcnn_mnist7_gc_o_dtchr12_student_cl_vff_h-512.128.32_d-3_hdrop-0.1_indrop-0.0_ff_mnist4_gc_f_std12\n",
      "Restored student from ../tf_ckpts/mnist/offline_pure_dstl5_4_crs_slw_3_teacher_cl_vcnn_hc-128.64.64_hfc-_d-3_hdrop-0.3_indrop-0.0_vcnn_mnist7_gc_o_dtchr12_student_cl_vff_h-512.128.32_d-3_hdrop-0.1_indrop-0.0_ff_mnist4_gc_f_std12/ckpt-400\n",
      "Restored student from ../tf_ckpts/mnist/cl_vcnn_hc-128.64.64_hfc-_d-3_hdrop-0.3_indrop-0.0_vcnn_mnist7_gc_o_dtchr12/ckpt-400\n",
      "model config: ff_mnist4\n",
      "model config: vcnn_mnist7\n",
      "model config: vcnn_mnist7\n",
      "student_checkpoint: ../tf_ckpts/mnist/offline_pure_dstl5_4_crs_slw_3_teacher_cl_vcnn_hc-128.64.64_hfc-_d-3_hdrop-0.3_indrop-0.0_vcnn_mnist7_gc_o_dtchr13_student_cl_vff_h-512.128.32_d-3_hdrop-0.1_indrop-0.0_ff_mnist4_gc_f_std13\n",
      "Restored student from ../tf_ckpts/mnist/offline_pure_dstl5_4_crs_slw_3_teacher_cl_vcnn_hc-128.64.64_hfc-_d-3_hdrop-0.3_indrop-0.0_vcnn_mnist7_gc_o_dtchr13_student_cl_vff_h-512.128.32_d-3_hdrop-0.1_indrop-0.0_ff_mnist4_gc_f_std13/ckpt-400\n",
      "Restored student from ../tf_ckpts/mnist/cl_vcnn_hc-128.64.64_hfc-_d-3_hdrop-0.3_indrop-0.0_vcnn_mnist7_gc_o_dtchr13/ckpt-400\n"
     ]
    }
   ],
   "source": [
    "## CNN -> FF\n",
    "###############################1\n",
    "config={'student_exp_name':'gc_o_std10',\n",
    "        'teacher_exp_name':'gc_o_dtchr10',\n",
    "        'task_name':'mnist',\n",
    "        'teacher_model':'cl_vcnn',\n",
    "        'student_model':'cl_vff',\n",
    "        'teacher_config':'vcnn_mnist7',\n",
    "        'student_config':'ff_mnist4',\n",
    "        'distill_config':'pure_dstl2_4_crs_slw_3',\n",
    "        'distill_mode':'online',\n",
    "        'chkpt_dir':'../tf_ckpts',\n",
    "       }\n",
    "\n",
    "# std_hparams=get_model_params(task, config['student_model'], config['student_config'])\n",
    "# tchr_hparams=get_model_params(task, config['teacher_model'], config['teacher_config'])\n",
    "\n",
    "\n",
    "# cnn2ff_ot10_std10, _ = get_student_model(config, task, std_hparams, cl_token)\n",
    "# cnn_t10, _ = get_teacher_model(config, task, tchr_hparams, cl_token)\n",
    "\n",
    "# models.extend([cnn_t10, cnn2ff_ot10_std10])\n",
    "# labels.extend(['cnn_t10', 'cnn2ff_ot10_std10'])\n",
    "#**********offline\n",
    "config['student_exp_name'] ='gc_f_std10'\n",
    "config['teacher_exp_name'] ='gc_o_dtchr10'\n",
    "config['distill_mode'] ='offline'\n",
    "config['distill_config'] ='pure_dstl5_4_crs_slw_3'\n",
    "std_hparams=get_model_params(task, config['student_model'], config['student_config'])\n",
    "tchr_hparams=get_model_params(task, config['teacher_model'], config['teacher_config'])\n",
    "\n",
    "\n",
    "cnn2ff_ft10_std10, _ = get_student_model(config, task, std_hparams, cl_token)\n",
    "cnn_t10, _ = get_teacher_model(config, task, tchr_hparams, cl_token)\n",
    "models.extend([cnn_t10, cnn2ff_ft10_std10])\n",
    "labels.extend(['cnn_t10', 'cnn2ff_ft1_std10'])\n",
    "###############################2\n",
    "config['student_exp_name'] ='gc_o_std11'\n",
    "config['teacher_exp_name'] ='gc_o_dtchr11'\n",
    "config['distill_mode'] ='online'\n",
    "config['distill_config'] ='pure_dstl2_4_crs_slw_3'\n",
    "# std_hparams=get_model_params(task, config['student_model'], config['student_config'])\n",
    "# tchr_hparams=get_model_params(task, config['teacher_model'], config['teacher_config'])\n",
    "\n",
    "\n",
    "# cnn2ff_ot11_std11, _ = get_student_model(config, task, std_hparams, cl_token)\n",
    "# cnn_t11, _ = get_teacher_model(config, task, tchr_hparams, cl_token)\n",
    "\n",
    "# models.extend([cnn_t11, cnn2ff_ot11_std11])\n",
    "# labels.extend(['cnn_t11', 'cnn2ff_ot11_std11'])\n",
    "#**********offline\n",
    "config['student_exp_name'] ='gc_f_std11'\n",
    "config['teacher_exp_name'] ='gc_o_dtchr11'\n",
    "config['distill_mode'] ='offline'\n",
    "config['distill_config'] ='pure_dstl5_4_crs_slw_3'\n",
    "std_hparams=get_model_params(task, config['student_model'], config['student_config'])\n",
    "tchr_hparams=get_model_params(task, config['teacher_model'], config['teacher_config'])\n",
    "\n",
    "\n",
    "cnn2ff_ft11_std11, _ = get_student_model(config, task, std_hparams, cl_token)\n",
    "cnn_t11, _ = get_teacher_model(config, task, tchr_hparams, cl_token)\n",
    "\n",
    "models.extend([cnn_t11, cnn2ff_ft11_std11])\n",
    "labels.extend(['cnn_t11', 'cnn2ff_ft11_std11'])\n",
    "###############################3\n",
    "config['student_exp_name'] ='gc_o_std12'\n",
    "config['teacher_exp_name'] ='gc_o_dtchr12'\n",
    "config['distill_mode'] ='online'\n",
    "config['distill_config'] ='pure_dstl2_4_crs_slw_3'\n",
    "# std_hparams=get_model_params(task, config['student_model'], config['student_config'])\n",
    "# tchr_hparams=get_model_params(task, config['teacher_model'], config['teacher_config'])\n",
    "\n",
    "\n",
    "# cnn2ff_ot12_std12, _ = get_student_model(config, task, std_hparams, cl_token)\n",
    "# cnn_t12, _ = get_teacher_model(config, task, tchr_hparams, cl_token)\n",
    "\n",
    "# models.extend([cnn_t12, cnn2ff_ot12_std12])\n",
    "# labels.extend(['cnn_t12', 'cnn2ff_ot12_std12'])\n",
    "#**********offline\n",
    "config['student_exp_name'] ='gc_f_std12'\n",
    "config['teacher_exp_name'] ='gc_o_dtchr12'\n",
    "config['distill_mode'] ='offline'\n",
    "config['distill_config'] ='pure_dstl5_4_crs_slw_3'\n",
    "std_hparams=get_model_params(task, config['student_model'], config['student_config'])\n",
    "tchr_hparams=get_model_params(task, config['teacher_model'], config['teacher_config'])\n",
    "\n",
    "\n",
    "cnn2ff_ft12_std12, _ = get_student_model(config, task, std_hparams, cl_token)\n",
    "cnn_t12, _ = get_teacher_model(config, task, tchr_hparams, cl_token)\n",
    "\n",
    "models.extend([cnn_t12, cnn2ff_ft12_std12])\n",
    "labels.extend(['cnn_t12', 'cnn2ff_ft12_std12'])\n",
    "###############################4\n",
    "config['student_exp_name'] ='gc_o_std13'\n",
    "config['teacher_exp_name'] ='gc_o_dtchr13'\n",
    "config['distill_mode'] ='online'\n",
    "config['distill_config'] ='pure_dstl2_4_crs_slw_3'\n",
    "# std_hparams=get_model_params(task, config['student_model'], config['student_config'])\n",
    "# tchr_hparams=get_model_params(task, config['teacher_model'], config['teacher_config'])\n",
    "\n",
    "\n",
    "# cnn2ff_ot13_std13, _ = get_student_model(config, task, std_hparams, cl_token)\n",
    "# cnn_t13, _ = get_teacher_model(config, task, tchr_hparams, cl_token)\n",
    "\n",
    "# models.extend([cnn_t13, cnn2ff_ot13_std13])\n",
    "# labels.extend(['cnn_t13', 'cnn2ff_ot1_std13'])\n",
    "#**********offline\n",
    "config['student_exp_name'] ='gc_f_std13'\n",
    "config['teacher_exp_name'] ='gc_o_dtchr13'\n",
    "config['distill_mode'] ='offline'\n",
    "config['distill_config'] ='pure_dstl5_4_crs_slw_3'\n",
    "std_hparams=get_model_params(task, config['student_model'], config['student_config'])\n",
    "tchr_hparams=get_model_params(task, config['teacher_model'], config['teacher_config'])\n",
    "\n",
    "\n",
    "cnn2ff_ft13_std13, _ = get_student_model(config, task, std_hparams, cl_token)\n",
    "cnn_t13, _ = get_teacher_model(config, task, tchr_hparams, cl_token)\n",
    "models.extend([cnn_t13, cnn2ff_ft13_std13])\n",
    "labels.extend(['cnn_t13', 'cnn2ff_ft13_std13'])"
   ]
  },
  {
   "cell_type": "code",
   "execution_count": 6,
   "metadata": {},
   "outputs": [
    {
     "name": "stdout",
     "output_type": "stream",
     "text": [
      "model config: vcnn_mnist7\n",
      "model config: vcnn_mnist7\n",
      "model config: vcnn_mnist7\n",
      "student_checkpoint: ../tf_ckpts/mnist/offline_pure_dstl5_4_crs_slw_3_teacher_cl_vcnn_hc-128.64.64_hfc-_d-3_hdrop-0.3_indrop-0.0_vcnn_mnist7_gc_o_tchr18_student_cl_vcnn_hc-128.64.64_hfc-_d-3_hdrop-0.3_indrop-0.0_vcnn_mnist7_gc_f_std18\n",
      "Restored student from ../tf_ckpts/mnist/offline_pure_dstl5_4_crs_slw_3_teacher_cl_vcnn_hc-128.64.64_hfc-_d-3_hdrop-0.3_indrop-0.0_vcnn_mnist7_gc_o_tchr18_student_cl_vcnn_hc-128.64.64_hfc-_d-3_hdrop-0.3_indrop-0.0_vcnn_mnist7_gc_f_std18/ckpt-11\n",
      "Restored student from ../tf_ckpts/mnist/cl_vcnn_hc-128.64.64_hfc-_d-3_hdrop-0.3_indrop-0.0_vcnn_mnist7_gc_o_tchr18/ckpt-11\n",
      "model config: vcnn_mnist7\n",
      "model config: vcnn_mnist7\n",
      "model config: vcnn_mnist7\n",
      "model config: vcnn_mnist7\n",
      "model config: vcnn_mnist7\n",
      "student_checkpoint: ../tf_ckpts/mnist/offline_pure_dstl5_4_crs_slw_3_teacher_cl_vcnn_hc-128.64.64_hfc-_d-3_hdrop-0.3_indrop-0.0_vcnn_mnist7_gc_o_tchr17_student_cl_vcnn_hc-128.64.64_hfc-_d-3_hdrop-0.3_indrop-0.0_vcnn_mnist7_gc_f_std17\n",
      "Restored student from ../tf_ckpts/mnist/offline_pure_dstl5_4_crs_slw_3_teacher_cl_vcnn_hc-128.64.64_hfc-_d-3_hdrop-0.3_indrop-0.0_vcnn_mnist7_gc_o_tchr17_student_cl_vcnn_hc-128.64.64_hfc-_d-3_hdrop-0.3_indrop-0.0_vcnn_mnist7_gc_f_std17/ckpt-11\n",
      "Restored student from ../tf_ckpts/mnist/cl_vcnn_hc-128.64.64_hfc-_d-3_hdrop-0.3_indrop-0.0_vcnn_mnist7_gc_o_tchr17/ckpt-400\n",
      "model config: vcnn_mnist7\n",
      "model config: vcnn_mnist7\n",
      "model config: vcnn_mnist7\n",
      "student_checkpoint: ../tf_ckpts/mnist/online_pure_dstl2_4_crs_slw_3_teacher_cl_vcnn_hc-128.64.64_hfc-_d-3_hdrop-0.3_indrop-0.0_vcnn_mnist7_gc_o_tchr16_student_cl_vcnn_hc-128.64.64_hfc-_d-3_hdrop-0.3_indrop-0.0_vcnn_mnist7_gc_o_std16\n",
      "Restored student from ../tf_ckpts/mnist/online_pure_dstl2_4_crs_slw_3_teacher_cl_vcnn_hc-128.64.64_hfc-_d-3_hdrop-0.3_indrop-0.0_vcnn_mnist7_gc_o_tchr16_student_cl_vcnn_hc-128.64.64_hfc-_d-3_hdrop-0.3_indrop-0.0_vcnn_mnist7_gc_o_std16/ckpt-11\n",
      "Restored student from ../tf_ckpts/mnist/cl_vcnn_hc-128.64.64_hfc-_d-3_hdrop-0.3_indrop-0.0_vcnn_mnist7_gc_o_tchr16/ckpt-11\n",
      "model config: vcnn_mnist7\n",
      "model config: vcnn_mnist7\n",
      "model config: vcnn_mnist7\n",
      "student_checkpoint: ../tf_ckpts/mnist/offline_pure_dstl5_4_crs_slw_3_teacher_cl_vcnn_hc-128.64.64_hfc-_d-3_hdrop-0.3_indrop-0.0_vcnn_mnist7_gc_o_tchr16_student_cl_vcnn_hc-128.64.64_hfc-_d-3_hdrop-0.3_indrop-0.0_vcnn_mnist7_gc_f_std16\n",
      "Restored student from ../tf_ckpts/mnist/offline_pure_dstl5_4_crs_slw_3_teacher_cl_vcnn_hc-128.64.64_hfc-_d-3_hdrop-0.3_indrop-0.0_vcnn_mnist7_gc_o_tchr16_student_cl_vcnn_hc-128.64.64_hfc-_d-3_hdrop-0.3_indrop-0.0_vcnn_mnist7_gc_f_std16/ckpt-11\n",
      "Restored student from ../tf_ckpts/mnist/cl_vcnn_hc-128.64.64_hfc-_d-3_hdrop-0.3_indrop-0.0_vcnn_mnist7_gc_o_tchr16/ckpt-11\n",
      "model config: vcnn_mnist7\n",
      "model config: vcnn_mnist7\n",
      "model config: vcnn_mnist7\n",
      "student_checkpoint: ../tf_ckpts/mnist/online_pure_dstl2_4_crs_slw_3_teacher_cl_vcnn_hc-128.64.64_hfc-_d-3_hdrop-0.3_indrop-0.0_vcnn_mnist7_gc_o_tch15_student_cl_vcnn_hc-128.64.64_hfc-_d-3_hdrop-0.3_indrop-0.0_vcnn_mnist7_gc_o_std15\n",
      "No checkpoint found ../tf_ckpts/mnist/online_pure_dstl2_4_crs_slw_3_teacher_cl_vcnn_hc-128.64.64_hfc-_d-3_hdrop-0.3_indrop-0.0_vcnn_mnist7_gc_o_tch15_student_cl_vcnn_hc-128.64.64_hfc-_d-3_hdrop-0.3_indrop-0.0_vcnn_mnist7_gc_o_std15\n",
      "No checkpoint found ../tf_ckpts/mnist/cl_vcnn_hc-128.64.64_hfc-_d-3_hdrop-0.3_indrop-0.0_vcnn_mnist7_gc_o_tch15\n",
      "model config: vcnn_mnist7\n",
      "model config: vcnn_mnist7\n",
      "model config: vcnn_mnist7\n",
      "student_checkpoint: ../tf_ckpts/mnist/offline_pure_dstl5_4_crs_slw_3_teacher_cl_vcnn_hc-128.64.64_hfc-_d-3_hdrop-0.3_indrop-0.0_vcnn_mnist7_gc_o_tchr15_student_cl_vcnn_hc-128.64.64_hfc-_d-3_hdrop-0.3_indrop-0.0_vcnn_mnist7_gc_f_std15\n",
      "Restored student from ../tf_ckpts/mnist/offline_pure_dstl5_4_crs_slw_3_teacher_cl_vcnn_hc-128.64.64_hfc-_d-3_hdrop-0.3_indrop-0.0_vcnn_mnist7_gc_o_tchr15_student_cl_vcnn_hc-128.64.64_hfc-_d-3_hdrop-0.3_indrop-0.0_vcnn_mnist7_gc_f_std15/ckpt-10\n",
      "Restored student from ../tf_ckpts/mnist/cl_vcnn_hc-128.64.64_hfc-_d-3_hdrop-0.3_indrop-0.0_vcnn_mnist7_gc_o_tchr15/ckpt-11\n"
     ]
    }
   ],
   "source": [
    "#CNN -> CNN\n",
    "###############################1\n",
    "config={'student_exp_name':'gc_o_std18',\n",
    "        'teacher_exp_name':'gc_o_tchr18',\n",
    "        'task_name':'mnist',\n",
    "        'teacher_model':'cl_vcnn',\n",
    "        'student_model':'cl_vcnn',\n",
    "        'teacher_config':'vcnn_mnist7',\n",
    "        'student_config':'vcnn_mnist7',\n",
    "        'distill_config':'pure_dstl2_4_crs_slw_3',\n",
    "        'distill_mode':'online',\n",
    "        'chkpt_dir':'../tf_ckpts',\n",
    "       }\n",
    "\n",
    "# std_hparams=get_model_params(task, config['student_model'], config['student_config'])\n",
    "# tchr_hparams=get_model_params(task, config['teacher_model'], config['teacher_config'])\n",
    "\n",
    "\n",
    "# cnn2cnn_ot18_std18, _ = get_student_model(config, task, std_hparams, cl_token)\n",
    "# cnn_t18, _ = get_teacher_model(config, task, tchr_hparams, cl_token)\n",
    "\n",
    "#**********offline\n",
    "config['student_exp_name'] ='gc_f_std18'\n",
    "config['teacher_exp_name'] ='gc_o_tchr18'\n",
    "config['distill_mode'] ='offline'\n",
    "config['distill_config'] ='pure_dstl5_4_crs_slw_3'\n",
    "\n",
    "std_hparams=get_model_params(task, config['student_model'], config['student_config'])\n",
    "tchr_hparams=get_model_params(task, config['teacher_model'], config['teacher_config'])\n",
    "\n",
    "\n",
    "cnn2cnn_ft18_std18, _ = get_student_model(config, task, std_hparams, cl_token)\n",
    "cnn_t18, _ = get_teacher_model(config, task, tchr_hparams, cl_token)\n",
    "models.extend([cnn_t18, cnn2cnn_ft18_std18])\n",
    "labels.extend(['cnn_t18', 'cnn2cnn_ft18_std18'])\n",
    "###############################2\n",
    "config['student_exp_name'] ='gc_o_std17'\n",
    "config['teacher_exp_name'] ='gc_o_tchr17'\n",
    "config['distill_mode'] ='online'\n",
    "config['distill_config'] ='pure_dstl2_4_crs_slw_3'\n",
    "std_hparams=get_model_params(task, config['student_model'], config['student_config'])\n",
    "tchr_hparams=get_model_params(task, config['teacher_model'], config['teacher_config'])\n",
    "\n",
    "\n",
    "# cnn2cnn_ot7_std17, _ = get_student_model(config, task, std_hparams, cl_token)\n",
    "# cnn_t7, _ = get_teacher_model(config, task, tchr_hparams, cl_token)\n",
    "\n",
    "#**********offline\n",
    "config['student_exp_name'] ='gc_f_std17'\n",
    "config['teacher_exp_name'] ='gc_o_tchr17'\n",
    "config['distill_mode'] ='offline'\n",
    "config['distill_config'] ='pure_dstl5_4_crs_slw_3'\n",
    "std_hparams=get_model_params(task, config['student_model'], config['student_config'])\n",
    "tchr_hparams=get_model_params(task, config['teacher_model'], config['teacher_config'])\n",
    "\n",
    "\n",
    "cnn2cnn_ft17_std17, _ = get_student_model(config, task, std_hparams, cl_token)\n",
    "cnn_t17, _ = get_teacher_model(config, task, tchr_hparams, cl_token)\n",
    "models.extend([cnn_t17, cnn2cnn_ft17_std17])\n",
    "labels.extend(['cnn_t17', 'cnn2cnn_ft17_std17'])\n",
    "\n",
    "###############################3\n",
    "config['student_exp_name'] ='gc_o_std16'\n",
    "config['teacher_exp_name'] ='gc_o_tchr16'\n",
    "config['distill_mode'] ='online'\n",
    "config['distill_config'] ='pure_dstl2_4_crs_slw_3'\n",
    "std_hparams=get_model_params(task, config['student_model'], config['student_config'])\n",
    "tchr_hparams=get_model_params(task, config['teacher_model'], config['teacher_config'])\n",
    "\n",
    "\n",
    "cnn2cnn_ot16_std16, _ = get_student_model(config, task, std_hparams, cl_token)\n",
    "cnn_t16, _ = get_teacher_model(config, task, tchr_hparams, cl_token)\n",
    "\n",
    "#**********offline\n",
    "config['student_exp_name'] ='gc_f_std16'\n",
    "config['teacher_exp_name'] ='gc_o_tchr16'\n",
    "config['distill_mode'] ='offline'\n",
    "config['distill_config'] ='pure_dstl5_4_crs_slw_3'\n",
    "std_hparams=get_model_params(task, config['student_model'], config['student_config'])\n",
    "tchr_hparams=get_model_params(task, config['teacher_model'], config['teacher_config'])\n",
    "\n",
    "cnn2cnn_ft16_std16, _ = get_student_model(config, task, std_hparams, cl_token)\n",
    "cnn_t16, _ = get_teacher_model(config, task, tchr_hparams, cl_token)\n",
    "models.extend([cnn_t16, cnn2cnn_ft16_std16])\n",
    "labels.extend(['cnn_t16', 'cnn2cnn_ft16_std16'])\n",
    "###############################4\n",
    "config['student_exp_name'] ='gc_o_std15'\n",
    "config['teacher_exp_name'] ='gc_o_tch15'\n",
    "config['distill_mode'] ='online'\n",
    "config['distill_config'] ='pure_dstl2_4_crs_slw_3'\n",
    "std_hparams=get_model_params(task, config['student_model'], config['student_config'])\n",
    "tchr_hparams=get_model_params(task, config['teacher_model'], config['teacher_config'])\n",
    "\n",
    "\n",
    "cnn2cnn_ot15_std15, _ = get_student_model(config, task, std_hparams, cl_token)\n",
    "cnn_t15, _ = get_teacher_model(config, task, tchr_hparams, cl_token)\n",
    "\n",
    "#**********offline\n",
    "config['student_exp_name'] ='gc_f_std15'\n",
    "config['teacher_exp_name'] ='gc_o_tchr15'\n",
    "config['distill_mode'] ='offline'\n",
    "config['distill_config'] ='pure_dstl5_4_crs_slw_3'\n",
    "std_hparams=get_model_params(task, config['student_model'], config['student_config'])\n",
    "tchr_hparams=get_model_params(task, config['teacher_model'], config['teacher_config'])\n",
    "\n",
    "\n",
    "cnn2cnn_ft15_std15, _ = get_student_model(config, task, std_hparams, cl_token)\n",
    "cnn_t15, _ = get_teacher_model(config, task, tchr_hparams, cl_token)\n",
    "models.extend([cnn_t15, cnn2cnn_ft15_std15])\n",
    "labels.extend(['cnn_t15', 'cnn2cnn_ft15_std15'])"
   ]
  },
  {
   "cell_type": "code",
   "execution_count": 7,
   "metadata": {},
   "outputs": [
    {
     "name": "stdout",
     "output_type": "stream",
     "text": [
      "model config: vcnn_mnist7\n",
      "model config: ff_mnist4\n",
      "model config: ff_mnist4\n",
      "student_checkpoint: ../tf_ckpts/mnist/offline_pure_dstl5_4_crs_slw_3_teacher_cl_vff_h-512.128.32_d-3_hdrop-0.1_indrop-0.0_ff_mnist4_gc_o_dtchr100_student_cl_vcnn_hc-128.64.64_hfc-_d-3_hdrop-0.3_indrop-0.0_vcnn_mnist7_gc_f_std100\n",
      "Restored student from ../tf_ckpts/mnist/offline_pure_dstl5_4_crs_slw_3_teacher_cl_vff_h-512.128.32_d-3_hdrop-0.1_indrop-0.0_ff_mnist4_gc_o_dtchr100_student_cl_vcnn_hc-128.64.64_hfc-_d-3_hdrop-0.3_indrop-0.0_vcnn_mnist7_gc_f_std100/ckpt-11\n",
      "Restored student from ../tf_ckpts/mnist/cl_vff_h-512.128.32_d-3_hdrop-0.1_indrop-0.0_ff_mnist4_gc_o_dtchr100/ckpt-11\n",
      "model config: vcnn_mnist7\n",
      "model config: ff_mnist4\n",
      "model config: ff_mnist4\n",
      "student_checkpoint: ../tf_ckpts/mnist/online_pure_dstl2_4_crs_slw_3_teacher_cl_vff_h-512.128.32_d-3_hdrop-0.1_indrop-0.0_ff_mnist4_gc_o_tchr101_student_cl_vcnn_hc-128.64.64_hfc-_d-3_hdrop-0.3_indrop-0.0_vcnn_mnist7_gc_o_std101\n",
      "Restored student from ../tf_ckpts/mnist/online_pure_dstl2_4_crs_slw_3_teacher_cl_vff_h-512.128.32_d-3_hdrop-0.1_indrop-0.0_ff_mnist4_gc_o_tchr101_student_cl_vcnn_hc-128.64.64_hfc-_d-3_hdrop-0.3_indrop-0.0_vcnn_mnist7_gc_o_std101/ckpt-11\n",
      "Restored student from ../tf_ckpts/mnist/cl_vff_h-512.128.32_d-3_hdrop-0.1_indrop-0.0_ff_mnist4_gc_o_tchr101/ckpt-11\n",
      "model config: vcnn_mnist7\n",
      "model config: ff_mnist4\n",
      "model config: ff_mnist4\n",
      "student_checkpoint: ../tf_ckpts/mnist/offline_pure_dstl5_4_crs_slw_3_teacher_cl_vff_h-512.128.32_d-3_hdrop-0.1_indrop-0.0_ff_mnist4_gc_o_tchr101_student_cl_vcnn_hc-128.64.64_hfc-_d-3_hdrop-0.3_indrop-0.0_vcnn_mnist7_gc_f_std101\n",
      "Restored student from ../tf_ckpts/mnist/offline_pure_dstl5_4_crs_slw_3_teacher_cl_vff_h-512.128.32_d-3_hdrop-0.1_indrop-0.0_ff_mnist4_gc_o_tchr101_student_cl_vcnn_hc-128.64.64_hfc-_d-3_hdrop-0.3_indrop-0.0_vcnn_mnist7_gc_f_std101/ckpt-11\n",
      "Restored student from ../tf_ckpts/mnist/cl_vff_h-512.128.32_d-3_hdrop-0.1_indrop-0.0_ff_mnist4_gc_o_tchr101/ckpt-11\n",
      "model config: vcnn_mnist7\n",
      "model config: ff_mnist4\n",
      "model config: ff_mnist4\n",
      "student_checkpoint: ../tf_ckpts/mnist/online_pure_dstl2_4_crs_slw_3_teacher_cl_vff_h-512.128.32_d-3_hdrop-0.1_indrop-0.0_ff_mnist4_gc_o_tchr102_student_cl_vcnn_hc-128.64.64_hfc-_d-3_hdrop-0.3_indrop-0.0_vcnn_mnist7_gc_o_std102\n",
      "Restored student from ../tf_ckpts/mnist/online_pure_dstl2_4_crs_slw_3_teacher_cl_vff_h-512.128.32_d-3_hdrop-0.1_indrop-0.0_ff_mnist4_gc_o_tchr102_student_cl_vcnn_hc-128.64.64_hfc-_d-3_hdrop-0.3_indrop-0.0_vcnn_mnist7_gc_o_std102/ckpt-11\n",
      "Restored student from ../tf_ckpts/mnist/cl_vff_h-512.128.32_d-3_hdrop-0.1_indrop-0.0_ff_mnist4_gc_o_tchr102/ckpt-11\n",
      "model config: vcnn_mnist7\n",
      "model config: ff_mnist4\n",
      "model config: ff_mnist4\n",
      "student_checkpoint: ../tf_ckpts/mnist/offline_pure_dstl5_4_crs_slw_3_teacher_cl_vff_h-512.128.32_d-3_hdrop-0.1_indrop-0.0_ff_mnist4_gc_o_tchr102_student_cl_vcnn_hc-128.64.64_hfc-_d-3_hdrop-0.3_indrop-0.0_vcnn_mnist7_gc_f_std102\n",
      "Restored student from ../tf_ckpts/mnist/offline_pure_dstl5_4_crs_slw_3_teacher_cl_vff_h-512.128.32_d-3_hdrop-0.1_indrop-0.0_ff_mnist4_gc_o_tchr102_student_cl_vcnn_hc-128.64.64_hfc-_d-3_hdrop-0.3_indrop-0.0_vcnn_mnist7_gc_f_std102/ckpt-11\n",
      "Restored student from ../tf_ckpts/mnist/cl_vff_h-512.128.32_d-3_hdrop-0.1_indrop-0.0_ff_mnist4_gc_o_tchr102/ckpt-11\n",
      "model config: vcnn_mnist7\n",
      "model config: ff_mnist4\n",
      "model config: ff_mnist4\n",
      "student_checkpoint: ../tf_ckpts/mnist/online_pure_dstl2_4_crs_slw_3_teacher_cl_vff_h-512.128.32_d-3_hdrop-0.1_indrop-0.0_ff_mnist4_gc_o_tchr103_student_cl_vcnn_hc-128.64.64_hfc-_d-3_hdrop-0.3_indrop-0.0_vcnn_mnist7_gc_o_std103\n",
      "Restored student from ../tf_ckpts/mnist/online_pure_dstl2_4_crs_slw_3_teacher_cl_vff_h-512.128.32_d-3_hdrop-0.1_indrop-0.0_ff_mnist4_gc_o_tchr103_student_cl_vcnn_hc-128.64.64_hfc-_d-3_hdrop-0.3_indrop-0.0_vcnn_mnist7_gc_o_std103/ckpt-11\n",
      "Restored student from ../tf_ckpts/mnist/cl_vff_h-512.128.32_d-3_hdrop-0.1_indrop-0.0_ff_mnist4_gc_o_tchr103/ckpt-11\n",
      "model config: vcnn_mnist7\n",
      "model config: ff_mnist4\n",
      "model config: ff_mnist4\n",
      "student_checkpoint: ../tf_ckpts/mnist/offline_pure_dstl5_4_crs_slw_3_teacher_cl_vff_h-512.128.32_d-3_hdrop-0.1_indrop-0.0_ff_mnist4_gc_o_tchr103_student_cl_vcnn_hc-128.64.64_hfc-_d-3_hdrop-0.3_indrop-0.0_vcnn_mnist7_gc_f_std103\n",
      "Restored student from ../tf_ckpts/mnist/offline_pure_dstl5_4_crs_slw_3_teacher_cl_vff_h-512.128.32_d-3_hdrop-0.1_indrop-0.0_ff_mnist4_gc_o_tchr103_student_cl_vcnn_hc-128.64.64_hfc-_d-3_hdrop-0.3_indrop-0.0_vcnn_mnist7_gc_f_std103/ckpt-11\n",
      "Restored student from ../tf_ckpts/mnist/cl_vff_h-512.128.32_d-3_hdrop-0.1_indrop-0.0_ff_mnist4_gc_o_tchr103/ckpt-11\n"
     ]
    }
   ],
   "source": [
    "#FF -> CNN\n",
    "###############################1\n",
    "config={'student_exp_name':'gc_o_std100',\n",
    "        'teacher_exp_name':'gc_o_dtchr100',\n",
    "        'task_name':'mnist',\n",
    "        'teacher_model':'cl_vff',\n",
    "        'student_model':'cl_vcnn',\n",
    "        'teacher_config':'ff_mnist4',\n",
    "        'student_config':'vcnn_mnist7',\n",
    "        'distill_config':'pure_dstl2_4_crs_slw_3',\n",
    "        'distill_mode':'online',\n",
    "        'chkpt_dir':'../tf_ckpts',\n",
    "       }\n",
    "\n",
    "# std_hparams=get_model_params(task, config['student_model'], config['student_config'])\n",
    "# tchr_hparams=get_model_params(task, config['teacher_model'], config['teacher_config'])\n",
    "\n",
    "\n",
    "# cnn2cnn_ot100_std100, _ = get_student_model(config, task, std_hparams, cl_token)\n",
    "# cnn_t100, _ = get_teacher_model(config, task, tchr_hparams, cl_token)\n",
    "\n",
    "#**********offline\n",
    "config['student_exp_name'] ='gc_f_std100'\n",
    "config['teacher_exp_name'] ='gc_o_dtchr100'\n",
    "config['distill_mode'] ='offline'\n",
    "config['distill_config'] ='pure_dstl5_4_crs_slw_3'\n",
    "\n",
    "std_hparams=get_model_params(task, config['student_model'], config['student_config'])\n",
    "tchr_hparams=get_model_params(task, config['teacher_model'], config['teacher_config'])\n",
    "\n",
    "\n",
    "ff2cnn_ft100_std100, _ = get_student_model(config, task, std_hparams, cl_token)\n",
    "ff_t100, _ = get_teacher_model(config, task, tchr_hparams, cl_token)\n",
    "models.extend([ff_t100, ff2cnn_ft100_std100])\n",
    "labels.extend(['ff_t100', 'ff2cnn_ft100_std100'])\n",
    "###############################2\n",
    "config['student_exp_name'] ='gc_o_std101'\n",
    "config['teacher_exp_name'] ='gc_o_tchr101'\n",
    "config['distill_mode'] ='online'\n",
    "config['distill_config'] ='pure_dstl2_4_crs_slw_3'\n",
    "std_hparams=get_model_params(task, config['student_model'], config['student_config'])\n",
    "tchr_hparams=get_model_params(task, config['teacher_model'], config['teacher_config'])\n",
    "\n",
    "ff2cnn_ot101_std101, _ = get_student_model(config, task, std_hparams, cl_token)\n",
    "ff_t101, _ = get_teacher_model(config, task, tchr_hparams, cl_token)\n",
    "\n",
    "#**********offline\n",
    "config['student_exp_name'] ='gc_f_std101'\n",
    "config['teacher_exp_name'] ='gc_o_tchr101'\n",
    "config['distill_mode'] ='offline'\n",
    "config['distill_config'] ='pure_dstl5_4_crs_slw_3'\n",
    "std_hparams=get_model_params(task, config['student_model'], config['student_config'])\n",
    "tchr_hparams=get_model_params(task, config['teacher_model'], config['teacher_config'])\n",
    "\n",
    "\n",
    "ff2cnn_ft101_std101, _ = get_student_model(config, task, std_hparams, cl_token)\n",
    "ff_t101, _ = get_teacher_model(config, task, tchr_hparams, cl_token)\n",
    "models.extend([ff_t101, ff2cnn_ft101_std101])\n",
    "labels.extend(['ff_t101', 'ff2cnn_ft101_std101'])\n",
    "\n",
    "###############################3\n",
    "config['student_exp_name'] ='gc_o_std102'\n",
    "config['teacher_exp_name'] ='gc_o_tchr102'\n",
    "config['distill_mode'] ='online'\n",
    "config['distill_config'] ='pure_dstl2_4_crs_slw_3'\n",
    "std_hparams=get_model_params(task, config['student_model'], config['student_config'])\n",
    "tchr_hparams=get_model_params(task, config['teacher_model'], config['teacher_config'])\n",
    "\n",
    "\n",
    "ff2cnn_ot102_std02, _ = get_student_model(config, task, std_hparams, cl_token)\n",
    "ff_t102, _ = get_teacher_model(config, task, tchr_hparams, cl_token)\n",
    "\n",
    "#**********offline\n",
    "config['student_exp_name'] ='gc_f_std102'\n",
    "config['teacher_exp_name'] ='gc_o_tchr102'\n",
    "config['distill_mode'] ='offline'\n",
    "config['distill_config'] ='pure_dstl5_4_crs_slw_3'\n",
    "std_hparams=get_model_params(task, config['student_model'], config['student_config'])\n",
    "tchr_hparams=get_model_params(task, config['teacher_model'], config['teacher_config'])\n",
    "\n",
    "ff2cnn_ft102_std102, _ = get_student_model(config, task, std_hparams, cl_token)\n",
    "ff_t102, _ = get_teacher_model(config, task, tchr_hparams, cl_token)\n",
    "models.extend([ff_t102, ff2cnn_ft102_std102])\n",
    "labels.extend(['ff_t102', 'ff2cnn_ft102_std102'])\n",
    "###############################4\n",
    "config['student_exp_name'] ='gc_o_std103'\n",
    "config['teacher_exp_name'] ='gc_o_tchr103'\n",
    "config['distill_mode'] ='online'\n",
    "config['distill_config'] ='pure_dstl2_4_crs_slw_3'\n",
    "std_hparams=get_model_params(task, config['student_model'], config['student_config'])\n",
    "tchr_hparams=get_model_params(task, config['teacher_model'], config['teacher_config'])\n",
    "\n",
    "\n",
    "ff2cnn_ot103_std103, _ = get_student_model(config, task, std_hparams, cl_token)\n",
    "ff_t103, _ = get_teacher_model(config, task, tchr_hparams, cl_token)\n",
    "\n",
    "#**********offline\n",
    "config['student_exp_name'] ='gc_f_std103'\n",
    "config['teacher_exp_name'] ='gc_o_tchr103'\n",
    "config['distill_mode'] ='offline'\n",
    "config['distill_config'] ='pure_dstl5_4_crs_slw_3'\n",
    "std_hparams=get_model_params(task, config['student_model'], config['student_config'])\n",
    "tchr_hparams=get_model_params(task, config['teacher_model'], config['teacher_config'])\n",
    "\n",
    "\n",
    "ff2cnn_ft103_std103, _ = get_student_model(config, task, std_hparams, cl_token)\n",
    "ff_t103, _ = get_teacher_model(config, task, tchr_hparams, cl_token)\n",
    "models.extend([ff_t103, ff2cnn_ft103_std103])\n",
    "labels.extend(['ff_t103', 'ff2cnn_ft103_std103'])"
   ]
  },
  {
   "cell_type": "code",
   "execution_count": 8,
   "metadata": {},
   "outputs": [
    {
     "name": "stdout",
     "output_type": "stream",
     "text": [
      "model config: ff_mnist4\n",
      "model config: ff_mnist4\n",
      "model config: ff_mnist4\n",
      "student_checkpoint: ../tf_ckpts/mnist/offline_pure_dstl5_4_crs_slw_3_teacher_cl_vff_h-512.128.32_d-3_hdrop-0.1_indrop-0.0_ff_mnist4_gc_o_dtchr210_student_cl_vff_h-512.128.32_d-3_hdrop-0.1_indrop-0.0_ff_mnist4_gc_f_std210\n",
      "Restored student from ../tf_ckpts/mnist/offline_pure_dstl5_4_crs_slw_3_teacher_cl_vff_h-512.128.32_d-3_hdrop-0.1_indrop-0.0_ff_mnist4_gc_o_dtchr210_student_cl_vff_h-512.128.32_d-3_hdrop-0.1_indrop-0.0_ff_mnist4_gc_f_std210/ckpt-400\n",
      "Restored student from ../tf_ckpts/mnist/cl_vff_h-512.128.32_d-3_hdrop-0.1_indrop-0.0_ff_mnist4_gc_o_dtchr210/ckpt-400\n",
      "student perf:\n",
      "10/10 [==============================] - 0s 28ms/step - loss: 0.0614 - classification_loss: 0.0602 - sparse_categorical_accuracy: 0.9844\n",
      "[0.06137826113263145, 0.060237635, 0.984375]\n",
      "teacher perf:\n",
      "10/10 [==============================] - 0s 30ms/step - loss: 0.0661 - classification_loss: 0.0467 - sparse_categorical_accuracy: 0.9859\n",
      "[0.06605348642915487, 0.046651416, 0.9859375]\n",
      "model config: ff_mnist4\n",
      "model config: ff_mnist4\n",
      "model config: ff_mnist4\n",
      "student_checkpoint: ../tf_ckpts/mnist/offline_pure_dstl5_4_crs_slw_3_teacher_cl_vff_h-512.128.32_d-3_hdrop-0.1_indrop-0.0_ff_mnist4_gc_o_dtchr211_student_cl_vff_h-512.128.32_d-3_hdrop-0.1_indrop-0.0_ff_mnist4_gc_f_std211\n",
      "Restored student from ../tf_ckpts/mnist/offline_pure_dstl5_4_crs_slw_3_teacher_cl_vff_h-512.128.32_d-3_hdrop-0.1_indrop-0.0_ff_mnist4_gc_o_dtchr211_student_cl_vff_h-512.128.32_d-3_hdrop-0.1_indrop-0.0_ff_mnist4_gc_f_std211/ckpt-400\n",
      "Restored student from ../tf_ckpts/mnist/cl_vff_h-512.128.32_d-3_hdrop-0.1_indrop-0.0_ff_mnist4_gc_o_dtchr211/ckpt-400\n",
      "student perf:\n",
      "10/10 [==============================] - 0s 27ms/step - loss: 0.0774 - classification_loss: 0.0763 - sparse_categorical_accuracy: 0.9844\n",
      "[0.0774242875748314, 0.0762846, 0.984375]\n",
      "teacher perf:\n",
      "10/10 [==============================] - 0s 23ms/step - loss: 0.0650 - classification_loss: 0.0451 - sparse_categorical_accuracy: 0.9875\n",
      "[0.0649826068431139, 0.045065574, 0.9875]\n",
      "model config: ff_mnist4\n",
      "model config: ff_mnist4\n",
      "model config: ff_mnist4\n",
      "student_checkpoint: ../tf_ckpts/mnist/offline_pure_dstl5_4_crs_slw_3_teacher_cl_vff_h-512.128.32_d-3_hdrop-0.1_indrop-0.0_ff_mnist4_gc_o_dtchr212_student_cl_vff_h-512.128.32_d-3_hdrop-0.1_indrop-0.0_ff_mnist4_gc_f_std212\n",
      "Restored student from ../tf_ckpts/mnist/offline_pure_dstl5_4_crs_slw_3_teacher_cl_vff_h-512.128.32_d-3_hdrop-0.1_indrop-0.0_ff_mnist4_gc_o_dtchr212_student_cl_vff_h-512.128.32_d-3_hdrop-0.1_indrop-0.0_ff_mnist4_gc_f_std212/ckpt-400\n",
      "Restored student from ../tf_ckpts/mnist/cl_vff_h-512.128.32_d-3_hdrop-0.1_indrop-0.0_ff_mnist4_gc_o_dtchr212/ckpt-400\n",
      "student perf:\n",
      "WARNING:tensorflow:Unresolved object in checkpoint: (root).step\n"
     ]
    },
    {
     "name": "stderr",
     "output_type": "stream",
     "text": [
      "WARNING:tensorflow:Unresolved object in checkpoint: (root).step\n"
     ]
    },
    {
     "name": "stdout",
     "output_type": "stream",
     "text": [
      "WARNING:tensorflow:Unresolved object in checkpoint: (root).net._training_endpoints\n"
     ]
    },
    {
     "name": "stderr",
     "output_type": "stream",
     "text": [
      "WARNING:tensorflow:Unresolved object in checkpoint: (root).net._training_endpoints\n"
     ]
    },
    {
     "name": "stdout",
     "output_type": "stream",
     "text": [
      "WARNING:tensorflow:Unresolved object in checkpoint: (root).optimizer.iter\n"
     ]
    },
    {
     "name": "stderr",
     "output_type": "stream",
     "text": [
      "WARNING:tensorflow:Unresolved object in checkpoint: (root).optimizer.iter\n"
     ]
    },
    {
     "name": "stdout",
     "output_type": "stream",
     "text": [
      "WARNING:tensorflow:Unresolved object in checkpoint: (root).optimizer.beta_1\n"
     ]
    },
    {
     "name": "stderr",
     "output_type": "stream",
     "text": [
      "WARNING:tensorflow:Unresolved object in checkpoint: (root).optimizer.beta_1\n"
     ]
    },
    {
     "name": "stdout",
     "output_type": "stream",
     "text": [
      "WARNING:tensorflow:Unresolved object in checkpoint: (root).optimizer.beta_2\n"
     ]
    },
    {
     "name": "stderr",
     "output_type": "stream",
     "text": [
      "WARNING:tensorflow:Unresolved object in checkpoint: (root).optimizer.beta_2\n"
     ]
    },
    {
     "name": "stdout",
     "output_type": "stream",
     "text": [
      "WARNING:tensorflow:Unresolved object in checkpoint: (root).optimizer.decay\n"
     ]
    },
    {
     "name": "stderr",
     "output_type": "stream",
     "text": [
      "WARNING:tensorflow:Unresolved object in checkpoint: (root).optimizer.decay\n"
     ]
    },
    {
     "name": "stdout",
     "output_type": "stream",
     "text": [
      "WARNING:tensorflow:Unresolved object in checkpoint: (root).optimizer.min_lr\n"
     ]
    },
    {
     "name": "stderr",
     "output_type": "stream",
     "text": [
      "WARNING:tensorflow:Unresolved object in checkpoint: (root).optimizer.min_lr\n"
     ]
    },
    {
     "name": "stdout",
     "output_type": "stream",
     "text": [
      "WARNING:tensorflow:Unresolved object in checkpoint: (root).optimizer.sma_threshold\n"
     ]
    },
    {
     "name": "stderr",
     "output_type": "stream",
     "text": [
      "WARNING:tensorflow:Unresolved object in checkpoint: (root).optimizer.sma_threshold\n"
     ]
    },
    {
     "name": "stdout",
     "output_type": "stream",
     "text": [
      "WARNING:tensorflow:Unresolved object in checkpoint: (root).optimizer.total_steps\n"
     ]
    },
    {
     "name": "stderr",
     "output_type": "stream",
     "text": [
      "WARNING:tensorflow:Unresolved object in checkpoint: (root).optimizer.total_steps\n"
     ]
    },
    {
     "name": "stdout",
     "output_type": "stream",
     "text": [
      "WARNING:tensorflow:Unresolved object in checkpoint: (root).optimizer.warmup_proportion\n"
     ]
    },
    {
     "name": "stderr",
     "output_type": "stream",
     "text": [
      "WARNING:tensorflow:Unresolved object in checkpoint: (root).optimizer.warmup_proportion\n"
     ]
    },
    {
     "name": "stdout",
     "output_type": "stream",
     "text": [
      "WARNING:tensorflow:Unresolved object in checkpoint: (root).optimizer.weight_decay\n"
     ]
    },
    {
     "name": "stderr",
     "output_type": "stream",
     "text": [
      "WARNING:tensorflow:Unresolved object in checkpoint: (root).optimizer.weight_decay\n"
     ]
    },
    {
     "name": "stdout",
     "output_type": "stream",
     "text": [
      "WARNING:tensorflow:Unresolved object in checkpoint: (root).net.projector.kernel\n"
     ]
    },
    {
     "name": "stderr",
     "output_type": "stream",
     "text": [
      "WARNING:tensorflow:Unresolved object in checkpoint: (root).net.projector.kernel\n"
     ]
    },
    {
     "name": "stdout",
     "output_type": "stream",
     "text": [
      "WARNING:tensorflow:Unresolved object in checkpoint: (root).net.projector.bias\n"
     ]
    },
    {
     "name": "stderr",
     "output_type": "stream",
     "text": [
      "WARNING:tensorflow:Unresolved object in checkpoint: (root).net.projector.bias\n"
     ]
    },
    {
     "name": "stdout",
     "output_type": "stream",
     "text": [
      "WARNING:tensorflow:Unresolved object in checkpoint: (root).net.cnns.0.kernel\n"
     ]
    },
    {
     "name": "stderr",
     "output_type": "stream",
     "text": [
      "WARNING:tensorflow:Unresolved object in checkpoint: (root).net.cnns.0.kernel\n"
     ]
    },
    {
     "name": "stdout",
     "output_type": "stream",
     "text": [
      "WARNING:tensorflow:Unresolved object in checkpoint: (root).net.cnns.0.bias\n"
     ]
    },
    {
     "name": "stderr",
     "output_type": "stream",
     "text": [
      "WARNING:tensorflow:Unresolved object in checkpoint: (root).net.cnns.0.bias\n"
     ]
    },
    {
     "name": "stdout",
     "output_type": "stream",
     "text": [
      "WARNING:tensorflow:Unresolved object in checkpoint: (root).net.cnns.1.kernel\n"
     ]
    },
    {
     "name": "stderr",
     "output_type": "stream",
     "text": [
      "WARNING:tensorflow:Unresolved object in checkpoint: (root).net.cnns.1.kernel\n"
     ]
    },
    {
     "name": "stdout",
     "output_type": "stream",
     "text": [
      "WARNING:tensorflow:Unresolved object in checkpoint: (root).net.cnns.1.bias\n"
     ]
    },
    {
     "name": "stderr",
     "output_type": "stream",
     "text": [
      "WARNING:tensorflow:Unresolved object in checkpoint: (root).net.cnns.1.bias\n"
     ]
    },
    {
     "name": "stdout",
     "output_type": "stream",
     "text": [
      "WARNING:tensorflow:Unresolved object in checkpoint: (root).net.cnns.2.kernel\n"
     ]
    },
    {
     "name": "stderr",
     "output_type": "stream",
     "text": [
      "WARNING:tensorflow:Unresolved object in checkpoint: (root).net.cnns.2.kernel\n"
     ]
    },
    {
     "name": "stdout",
     "output_type": "stream",
     "text": [
      "WARNING:tensorflow:Unresolved object in checkpoint: (root).net.cnns.2.bias\n"
     ]
    },
    {
     "name": "stderr",
     "output_type": "stream",
     "text": [
      "WARNING:tensorflow:Unresolved object in checkpoint: (root).net.cnns.2.bias\n"
     ]
    },
    {
     "name": "stdout",
     "output_type": "stream",
     "text": [
      "WARNING:tensorflow:Unresolved object in checkpoint: (root).net.cnn_bnz.0.axis\n"
     ]
    },
    {
     "name": "stderr",
     "output_type": "stream",
     "text": [
      "WARNING:tensorflow:Unresolved object in checkpoint: (root).net.cnn_bnz.0.axis\n"
     ]
    },
    {
     "name": "stdout",
     "output_type": "stream",
     "text": [
      "WARNING:tensorflow:Unresolved object in checkpoint: (root).net.cnn_bnz.0.gamma\n"
     ]
    },
    {
     "name": "stderr",
     "output_type": "stream",
     "text": [
      "WARNING:tensorflow:Unresolved object in checkpoint: (root).net.cnn_bnz.0.gamma\n"
     ]
    },
    {
     "name": "stdout",
     "output_type": "stream",
     "text": [
      "WARNING:tensorflow:Unresolved object in checkpoint: (root).net.cnn_bnz.0.beta\n"
     ]
    },
    {
     "name": "stderr",
     "output_type": "stream",
     "text": [
      "WARNING:tensorflow:Unresolved object in checkpoint: (root).net.cnn_bnz.0.beta\n"
     ]
    },
    {
     "name": "stdout",
     "output_type": "stream",
     "text": [
      "WARNING:tensorflow:Unresolved object in checkpoint: (root).net.cnn_bnz.0.moving_mean\n"
     ]
    },
    {
     "name": "stderr",
     "output_type": "stream",
     "text": [
      "WARNING:tensorflow:Unresolved object in checkpoint: (root).net.cnn_bnz.0.moving_mean\n"
     ]
    },
    {
     "name": "stdout",
     "output_type": "stream",
     "text": [
      "WARNING:tensorflow:Unresolved object in checkpoint: (root).net.cnn_bnz.0.moving_variance\n"
     ]
    },
    {
     "name": "stderr",
     "output_type": "stream",
     "text": [
      "WARNING:tensorflow:Unresolved object in checkpoint: (root).net.cnn_bnz.0.moving_variance\n"
     ]
    },
    {
     "name": "stdout",
     "output_type": "stream",
     "text": [
      "WARNING:tensorflow:Unresolved object in checkpoint: (root).net.cnn_bnz.1.axis\n"
     ]
    },
    {
     "name": "stderr",
     "output_type": "stream",
     "text": [
      "WARNING:tensorflow:Unresolved object in checkpoint: (root).net.cnn_bnz.1.axis\n"
     ]
    },
    {
     "name": "stdout",
     "output_type": "stream",
     "text": [
      "WARNING:tensorflow:Unresolved object in checkpoint: (root).net.cnn_bnz.1.gamma\n"
     ]
    },
    {
     "name": "stderr",
     "output_type": "stream",
     "text": [
      "WARNING:tensorflow:Unresolved object in checkpoint: (root).net.cnn_bnz.1.gamma\n"
     ]
    },
    {
     "name": "stdout",
     "output_type": "stream",
     "text": [
      "WARNING:tensorflow:Unresolved object in checkpoint: (root).net.cnn_bnz.1.beta\n"
     ]
    },
    {
     "name": "stderr",
     "output_type": "stream",
     "text": [
      "WARNING:tensorflow:Unresolved object in checkpoint: (root).net.cnn_bnz.1.beta\n"
     ]
    },
    {
     "name": "stdout",
     "output_type": "stream",
     "text": [
      "WARNING:tensorflow:Unresolved object in checkpoint: (root).net.cnn_bnz.1.moving_mean\n"
     ]
    },
    {
     "name": "stderr",
     "output_type": "stream",
     "text": [
      "WARNING:tensorflow:Unresolved object in checkpoint: (root).net.cnn_bnz.1.moving_mean\n"
     ]
    },
    {
     "name": "stdout",
     "output_type": "stream",
     "text": [
      "WARNING:tensorflow:Unresolved object in checkpoint: (root).net.cnn_bnz.1.moving_variance\n"
     ]
    },
    {
     "name": "stderr",
     "output_type": "stream",
     "text": [
      "WARNING:tensorflow:Unresolved object in checkpoint: (root).net.cnn_bnz.1.moving_variance\n"
     ]
    },
    {
     "name": "stdout",
     "output_type": "stream",
     "text": [
      "WARNING:tensorflow:Unresolved object in checkpoint: (root).net.cnn_bnz.2.axis\n"
     ]
    },
    {
     "name": "stderr",
     "output_type": "stream",
     "text": [
      "WARNING:tensorflow:Unresolved object in checkpoint: (root).net.cnn_bnz.2.axis\n"
     ]
    },
    {
     "name": "stdout",
     "output_type": "stream",
     "text": [
      "WARNING:tensorflow:Unresolved object in checkpoint: (root).net.cnn_bnz.2.gamma\n"
     ]
    },
    {
     "name": "stderr",
     "output_type": "stream",
     "text": [
      "WARNING:tensorflow:Unresolved object in checkpoint: (root).net.cnn_bnz.2.gamma\n"
     ]
    },
    {
     "name": "stdout",
     "output_type": "stream",
     "text": [
      "WARNING:tensorflow:Unresolved object in checkpoint: (root).net.cnn_bnz.2.beta\n"
     ]
    },
    {
     "name": "stderr",
     "output_type": "stream",
     "text": [
      "WARNING:tensorflow:Unresolved object in checkpoint: (root).net.cnn_bnz.2.beta\n"
     ]
    },
    {
     "name": "stdout",
     "output_type": "stream",
     "text": [
      "WARNING:tensorflow:Unresolved object in checkpoint: (root).net.cnn_bnz.2.moving_mean\n"
     ]
    },
    {
     "name": "stderr",
     "output_type": "stream",
     "text": [
      "WARNING:tensorflow:Unresolved object in checkpoint: (root).net.cnn_bnz.2.moving_mean\n"
     ]
    },
    {
     "name": "stdout",
     "output_type": "stream",
     "text": [
      "WARNING:tensorflow:Unresolved object in checkpoint: (root).net.cnn_bnz.2.moving_variance\n"
     ]
    },
    {
     "name": "stderr",
     "output_type": "stream",
     "text": [
      "WARNING:tensorflow:Unresolved object in checkpoint: (root).net.cnn_bnz.2.moving_variance\n"
     ]
    },
    {
     "name": "stdout",
     "output_type": "stream",
     "text": [
      "WARNING:tensorflow:Unresolved object in checkpoint: (root).optimizer's state 'm' for (root).net.projector.kernel\n"
     ]
    },
    {
     "name": "stderr",
     "output_type": "stream",
     "text": [
      "WARNING:tensorflow:Unresolved object in checkpoint: (root).optimizer's state 'm' for (root).net.projector.kernel\n"
     ]
    },
    {
     "name": "stdout",
     "output_type": "stream",
     "text": [
      "WARNING:tensorflow:Unresolved object in checkpoint: (root).optimizer's state 'm' for (root).net.projector.bias\n"
     ]
    },
    {
     "name": "stderr",
     "output_type": "stream",
     "text": [
      "WARNING:tensorflow:Unresolved object in checkpoint: (root).optimizer's state 'm' for (root).net.projector.bias\n"
     ]
    },
    {
     "name": "stdout",
     "output_type": "stream",
     "text": [
      "WARNING:tensorflow:Unresolved object in checkpoint: (root).optimizer's state 'm' for (root).net.cnns.0.kernel\n"
     ]
    },
    {
     "name": "stderr",
     "output_type": "stream",
     "text": [
      "WARNING:tensorflow:Unresolved object in checkpoint: (root).optimizer's state 'm' for (root).net.cnns.0.kernel\n"
     ]
    },
    {
     "name": "stdout",
     "output_type": "stream",
     "text": [
      "WARNING:tensorflow:Unresolved object in checkpoint: (root).optimizer's state 'm' for (root).net.cnns.0.bias\n"
     ]
    },
    {
     "name": "stderr",
     "output_type": "stream",
     "text": [
      "WARNING:tensorflow:Unresolved object in checkpoint: (root).optimizer's state 'm' for (root).net.cnns.0.bias\n"
     ]
    },
    {
     "name": "stdout",
     "output_type": "stream",
     "text": [
      "WARNING:tensorflow:Unresolved object in checkpoint: (root).optimizer's state 'm' for (root).net.cnns.1.kernel\n"
     ]
    },
    {
     "name": "stderr",
     "output_type": "stream",
     "text": [
      "WARNING:tensorflow:Unresolved object in checkpoint: (root).optimizer's state 'm' for (root).net.cnns.1.kernel\n"
     ]
    },
    {
     "name": "stdout",
     "output_type": "stream",
     "text": [
      "WARNING:tensorflow:Unresolved object in checkpoint: (root).optimizer's state 'm' for (root).net.cnns.1.bias\n"
     ]
    },
    {
     "name": "stderr",
     "output_type": "stream",
     "text": [
      "WARNING:tensorflow:Unresolved object in checkpoint: (root).optimizer's state 'm' for (root).net.cnns.1.bias\n"
     ]
    },
    {
     "name": "stdout",
     "output_type": "stream",
     "text": [
      "WARNING:tensorflow:Unresolved object in checkpoint: (root).optimizer's state 'm' for (root).net.cnns.2.kernel\n"
     ]
    },
    {
     "name": "stderr",
     "output_type": "stream",
     "text": [
      "WARNING:tensorflow:Unresolved object in checkpoint: (root).optimizer's state 'm' for (root).net.cnns.2.kernel\n"
     ]
    },
    {
     "name": "stdout",
     "output_type": "stream",
     "text": [
      "WARNING:tensorflow:Unresolved object in checkpoint: (root).optimizer's state 'm' for (root).net.cnns.2.bias\n"
     ]
    },
    {
     "name": "stderr",
     "output_type": "stream",
     "text": [
      "WARNING:tensorflow:Unresolved object in checkpoint: (root).optimizer's state 'm' for (root).net.cnns.2.bias\n"
     ]
    },
    {
     "name": "stdout",
     "output_type": "stream",
     "text": [
      "WARNING:tensorflow:Unresolved object in checkpoint: (root).optimizer's state 'm' for (root).net.cnn_bnz.0.gamma\n"
     ]
    },
    {
     "name": "stderr",
     "output_type": "stream",
     "text": [
      "WARNING:tensorflow:Unresolved object in checkpoint: (root).optimizer's state 'm' for (root).net.cnn_bnz.0.gamma\n"
     ]
    },
    {
     "name": "stdout",
     "output_type": "stream",
     "text": [
      "WARNING:tensorflow:Unresolved object in checkpoint: (root).optimizer's state 'm' for (root).net.cnn_bnz.0.beta\n"
     ]
    },
    {
     "name": "stderr",
     "output_type": "stream",
     "text": [
      "WARNING:tensorflow:Unresolved object in checkpoint: (root).optimizer's state 'm' for (root).net.cnn_bnz.0.beta\n"
     ]
    },
    {
     "name": "stdout",
     "output_type": "stream",
     "text": [
      "WARNING:tensorflow:Unresolved object in checkpoint: (root).optimizer's state 'm' for (root).net.cnn_bnz.1.gamma\n"
     ]
    },
    {
     "name": "stderr",
     "output_type": "stream",
     "text": [
      "WARNING:tensorflow:Unresolved object in checkpoint: (root).optimizer's state 'm' for (root).net.cnn_bnz.1.gamma\n"
     ]
    },
    {
     "name": "stdout",
     "output_type": "stream",
     "text": [
      "WARNING:tensorflow:Unresolved object in checkpoint: (root).optimizer's state 'm' for (root).net.cnn_bnz.1.beta\n"
     ]
    },
    {
     "name": "stderr",
     "output_type": "stream",
     "text": [
      "WARNING:tensorflow:Unresolved object in checkpoint: (root).optimizer's state 'm' for (root).net.cnn_bnz.1.beta\n"
     ]
    },
    {
     "name": "stdout",
     "output_type": "stream",
     "text": [
      "WARNING:tensorflow:Unresolved object in checkpoint: (root).optimizer's state 'm' for (root).net.cnn_bnz.2.gamma\n"
     ]
    },
    {
     "name": "stderr",
     "output_type": "stream",
     "text": [
      "WARNING:tensorflow:Unresolved object in checkpoint: (root).optimizer's state 'm' for (root).net.cnn_bnz.2.gamma\n"
     ]
    },
    {
     "name": "stdout",
     "output_type": "stream",
     "text": [
      "WARNING:tensorflow:Unresolved object in checkpoint: (root).optimizer's state 'm' for (root).net.cnn_bnz.2.beta\n"
     ]
    },
    {
     "name": "stderr",
     "output_type": "stream",
     "text": [
      "WARNING:tensorflow:Unresolved object in checkpoint: (root).optimizer's state 'm' for (root).net.cnn_bnz.2.beta\n"
     ]
    },
    {
     "name": "stdout",
     "output_type": "stream",
     "text": [
      "WARNING:tensorflow:Unresolved object in checkpoint: (root).optimizer's state 'v' for (root).net.projector.kernel\n"
     ]
    },
    {
     "name": "stderr",
     "output_type": "stream",
     "text": [
      "WARNING:tensorflow:Unresolved object in checkpoint: (root).optimizer's state 'v' for (root).net.projector.kernel\n"
     ]
    },
    {
     "name": "stdout",
     "output_type": "stream",
     "text": [
      "WARNING:tensorflow:Unresolved object in checkpoint: (root).optimizer's state 'v' for (root).net.projector.bias\n"
     ]
    },
    {
     "name": "stderr",
     "output_type": "stream",
     "text": [
      "WARNING:tensorflow:Unresolved object in checkpoint: (root).optimizer's state 'v' for (root).net.projector.bias\n"
     ]
    },
    {
     "name": "stdout",
     "output_type": "stream",
     "text": [
      "WARNING:tensorflow:Unresolved object in checkpoint: (root).optimizer's state 'v' for (root).net.cnns.0.kernel\n"
     ]
    },
    {
     "name": "stderr",
     "output_type": "stream",
     "text": [
      "WARNING:tensorflow:Unresolved object in checkpoint: (root).optimizer's state 'v' for (root).net.cnns.0.kernel\n"
     ]
    },
    {
     "name": "stdout",
     "output_type": "stream",
     "text": [
      "WARNING:tensorflow:Unresolved object in checkpoint: (root).optimizer's state 'v' for (root).net.cnns.0.bias\n"
     ]
    },
    {
     "name": "stderr",
     "output_type": "stream",
     "text": [
      "WARNING:tensorflow:Unresolved object in checkpoint: (root).optimizer's state 'v' for (root).net.cnns.0.bias\n"
     ]
    },
    {
     "name": "stdout",
     "output_type": "stream",
     "text": [
      "WARNING:tensorflow:Unresolved object in checkpoint: (root).optimizer's state 'v' for (root).net.cnns.1.kernel\n"
     ]
    },
    {
     "name": "stderr",
     "output_type": "stream",
     "text": [
      "WARNING:tensorflow:Unresolved object in checkpoint: (root).optimizer's state 'v' for (root).net.cnns.1.kernel\n"
     ]
    },
    {
     "name": "stdout",
     "output_type": "stream",
     "text": [
      "WARNING:tensorflow:Unresolved object in checkpoint: (root).optimizer's state 'v' for (root).net.cnns.1.bias\n"
     ]
    },
    {
     "name": "stderr",
     "output_type": "stream",
     "text": [
      "WARNING:tensorflow:Unresolved object in checkpoint: (root).optimizer's state 'v' for (root).net.cnns.1.bias\n"
     ]
    },
    {
     "name": "stdout",
     "output_type": "stream",
     "text": [
      "WARNING:tensorflow:Unresolved object in checkpoint: (root).optimizer's state 'v' for (root).net.cnns.2.kernel\n"
     ]
    },
    {
     "name": "stderr",
     "output_type": "stream",
     "text": [
      "WARNING:tensorflow:Unresolved object in checkpoint: (root).optimizer's state 'v' for (root).net.cnns.2.kernel\n"
     ]
    },
    {
     "name": "stdout",
     "output_type": "stream",
     "text": [
      "WARNING:tensorflow:Unresolved object in checkpoint: (root).optimizer's state 'v' for (root).net.cnns.2.bias\n"
     ]
    },
    {
     "name": "stderr",
     "output_type": "stream",
     "text": [
      "WARNING:tensorflow:Unresolved object in checkpoint: (root).optimizer's state 'v' for (root).net.cnns.2.bias\n"
     ]
    },
    {
     "name": "stdout",
     "output_type": "stream",
     "text": [
      "WARNING:tensorflow:Unresolved object in checkpoint: (root).optimizer's state 'v' for (root).net.cnn_bnz.0.gamma\n"
     ]
    },
    {
     "name": "stderr",
     "output_type": "stream",
     "text": [
      "WARNING:tensorflow:Unresolved object in checkpoint: (root).optimizer's state 'v' for (root).net.cnn_bnz.0.gamma\n"
     ]
    },
    {
     "name": "stdout",
     "output_type": "stream",
     "text": [
      "WARNING:tensorflow:Unresolved object in checkpoint: (root).optimizer's state 'v' for (root).net.cnn_bnz.0.beta\n"
     ]
    },
    {
     "name": "stderr",
     "output_type": "stream",
     "text": [
      "WARNING:tensorflow:Unresolved object in checkpoint: (root).optimizer's state 'v' for (root).net.cnn_bnz.0.beta\n"
     ]
    },
    {
     "name": "stdout",
     "output_type": "stream",
     "text": [
      "WARNING:tensorflow:Unresolved object in checkpoint: (root).optimizer's state 'v' for (root).net.cnn_bnz.1.gamma\n"
     ]
    },
    {
     "name": "stderr",
     "output_type": "stream",
     "text": [
      "WARNING:tensorflow:Unresolved object in checkpoint: (root).optimizer's state 'v' for (root).net.cnn_bnz.1.gamma\n"
     ]
    },
    {
     "name": "stdout",
     "output_type": "stream",
     "text": [
      "WARNING:tensorflow:Unresolved object in checkpoint: (root).optimizer's state 'v' for (root).net.cnn_bnz.1.beta\n"
     ]
    },
    {
     "name": "stderr",
     "output_type": "stream",
     "text": [
      "WARNING:tensorflow:Unresolved object in checkpoint: (root).optimizer's state 'v' for (root).net.cnn_bnz.1.beta\n"
     ]
    },
    {
     "name": "stdout",
     "output_type": "stream",
     "text": [
      "WARNING:tensorflow:Unresolved object in checkpoint: (root).optimizer's state 'v' for (root).net.cnn_bnz.2.gamma\n"
     ]
    },
    {
     "name": "stderr",
     "output_type": "stream",
     "text": [
      "WARNING:tensorflow:Unresolved object in checkpoint: (root).optimizer's state 'v' for (root).net.cnn_bnz.2.gamma\n"
     ]
    },
    {
     "name": "stdout",
     "output_type": "stream",
     "text": [
      "WARNING:tensorflow:Unresolved object in checkpoint: (root).optimizer's state 'v' for (root).net.cnn_bnz.2.beta\n"
     ]
    },
    {
     "name": "stderr",
     "output_type": "stream",
     "text": [
      "WARNING:tensorflow:Unresolved object in checkpoint: (root).optimizer's state 'v' for (root).net.cnn_bnz.2.beta\n"
     ]
    },
    {
     "name": "stdout",
     "output_type": "stream",
     "text": [
      "WARNING:tensorflow:A checkpoint was restored (e.g. tf.train.Checkpoint.restore or tf.keras.Model.load_weights) but not all checkpointed values were used. See above for specific issues. Use expect_partial() on the load status object, e.g. tf.train.Checkpoint.restore(...).expect_partial(), to silence these warnings, or use assert_consumed() to make the check explicit. See https://www.tensorflow.org/guide/checkpoint#loading_mechanics for details.\n"
     ]
    },
    {
     "name": "stderr",
     "output_type": "stream",
     "text": [
      "WARNING:tensorflow:A checkpoint was restored (e.g. tf.train.Checkpoint.restore or tf.keras.Model.load_weights) but not all checkpointed values were used. See above for specific issues. Use expect_partial() on the load status object, e.g. tf.train.Checkpoint.restore(...).expect_partial(), to silence these warnings, or use assert_consumed() to make the check explicit. See https://www.tensorflow.org/guide/checkpoint#loading_mechanics for details.\n"
     ]
    },
    {
     "name": "stdout",
     "output_type": "stream",
     "text": [
      "WARNING:tensorflow:Unresolved object in checkpoint: (root).step\n"
     ]
    },
    {
     "name": "stderr",
     "output_type": "stream",
     "text": [
      "WARNING:tensorflow:Unresolved object in checkpoint: (root).step\n"
     ]
    },
    {
     "name": "stdout",
     "output_type": "stream",
     "text": [
      "WARNING:tensorflow:Unresolved object in checkpoint: (root).net._training_endpoints\n"
     ]
    },
    {
     "name": "stderr",
     "output_type": "stream",
     "text": [
      "WARNING:tensorflow:Unresolved object in checkpoint: (root).net._training_endpoints\n"
     ]
    },
    {
     "name": "stdout",
     "output_type": "stream",
     "text": [
      "WARNING:tensorflow:Unresolved object in checkpoint: (root).optimizer.iter\n"
     ]
    },
    {
     "name": "stderr",
     "output_type": "stream",
     "text": [
      "WARNING:tensorflow:Unresolved object in checkpoint: (root).optimizer.iter\n"
     ]
    },
    {
     "name": "stdout",
     "output_type": "stream",
     "text": [
      "WARNING:tensorflow:Unresolved object in checkpoint: (root).optimizer.beta_1\n"
     ]
    },
    {
     "name": "stderr",
     "output_type": "stream",
     "text": [
      "WARNING:tensorflow:Unresolved object in checkpoint: (root).optimizer.beta_1\n"
     ]
    },
    {
     "name": "stdout",
     "output_type": "stream",
     "text": [
      "WARNING:tensorflow:Unresolved object in checkpoint: (root).optimizer.beta_2\n"
     ]
    },
    {
     "name": "stderr",
     "output_type": "stream",
     "text": [
      "WARNING:tensorflow:Unresolved object in checkpoint: (root).optimizer.beta_2\n"
     ]
    },
    {
     "name": "stdout",
     "output_type": "stream",
     "text": [
      "WARNING:tensorflow:Unresolved object in checkpoint: (root).optimizer.decay\n"
     ]
    },
    {
     "name": "stderr",
     "output_type": "stream",
     "text": [
      "WARNING:tensorflow:Unresolved object in checkpoint: (root).optimizer.decay\n"
     ]
    },
    {
     "name": "stdout",
     "output_type": "stream",
     "text": [
      "WARNING:tensorflow:Unresolved object in checkpoint: (root).optimizer.min_lr\n"
     ]
    },
    {
     "name": "stderr",
     "output_type": "stream",
     "text": [
      "WARNING:tensorflow:Unresolved object in checkpoint: (root).optimizer.min_lr\n"
     ]
    },
    {
     "name": "stdout",
     "output_type": "stream",
     "text": [
      "WARNING:tensorflow:Unresolved object in checkpoint: (root).optimizer.sma_threshold\n"
     ]
    },
    {
     "name": "stderr",
     "output_type": "stream",
     "text": [
      "WARNING:tensorflow:Unresolved object in checkpoint: (root).optimizer.sma_threshold\n"
     ]
    },
    {
     "name": "stdout",
     "output_type": "stream",
     "text": [
      "WARNING:tensorflow:Unresolved object in checkpoint: (root).optimizer.total_steps\n"
     ]
    },
    {
     "name": "stderr",
     "output_type": "stream",
     "text": [
      "WARNING:tensorflow:Unresolved object in checkpoint: (root).optimizer.total_steps\n"
     ]
    },
    {
     "name": "stdout",
     "output_type": "stream",
     "text": [
      "WARNING:tensorflow:Unresolved object in checkpoint: (root).optimizer.warmup_proportion\n"
     ]
    },
    {
     "name": "stderr",
     "output_type": "stream",
     "text": [
      "WARNING:tensorflow:Unresolved object in checkpoint: (root).optimizer.warmup_proportion\n"
     ]
    },
    {
     "name": "stdout",
     "output_type": "stream",
     "text": [
      "WARNING:tensorflow:Unresolved object in checkpoint: (root).optimizer.weight_decay\n"
     ]
    },
    {
     "name": "stderr",
     "output_type": "stream",
     "text": [
      "WARNING:tensorflow:Unresolved object in checkpoint: (root).optimizer.weight_decay\n"
     ]
    },
    {
     "name": "stdout",
     "output_type": "stream",
     "text": [
      "WARNING:tensorflow:Unresolved object in checkpoint: (root).net.projector.kernel\n"
     ]
    },
    {
     "name": "stderr",
     "output_type": "stream",
     "text": [
      "WARNING:tensorflow:Unresolved object in checkpoint: (root).net.projector.kernel\n"
     ]
    },
    {
     "name": "stdout",
     "output_type": "stream",
     "text": [
      "WARNING:tensorflow:Unresolved object in checkpoint: (root).net.projector.bias\n"
     ]
    },
    {
     "name": "stderr",
     "output_type": "stream",
     "text": [
      "WARNING:tensorflow:Unresolved object in checkpoint: (root).net.projector.bias\n"
     ]
    },
    {
     "name": "stdout",
     "output_type": "stream",
     "text": [
      "WARNING:tensorflow:Unresolved object in checkpoint: (root).net.cnns.0.kernel\n"
     ]
    },
    {
     "name": "stderr",
     "output_type": "stream",
     "text": [
      "WARNING:tensorflow:Unresolved object in checkpoint: (root).net.cnns.0.kernel\n"
     ]
    },
    {
     "name": "stdout",
     "output_type": "stream",
     "text": [
      "WARNING:tensorflow:Unresolved object in checkpoint: (root).net.cnns.0.bias\n"
     ]
    },
    {
     "name": "stderr",
     "output_type": "stream",
     "text": [
      "WARNING:tensorflow:Unresolved object in checkpoint: (root).net.cnns.0.bias\n"
     ]
    },
    {
     "name": "stdout",
     "output_type": "stream",
     "text": [
      "WARNING:tensorflow:Unresolved object in checkpoint: (root).net.cnns.1.kernel\n"
     ]
    },
    {
     "name": "stderr",
     "output_type": "stream",
     "text": [
      "WARNING:tensorflow:Unresolved object in checkpoint: (root).net.cnns.1.kernel\n"
     ]
    },
    {
     "name": "stdout",
     "output_type": "stream",
     "text": [
      "WARNING:tensorflow:Unresolved object in checkpoint: (root).net.cnns.1.bias\n"
     ]
    },
    {
     "name": "stderr",
     "output_type": "stream",
     "text": [
      "WARNING:tensorflow:Unresolved object in checkpoint: (root).net.cnns.1.bias\n"
     ]
    },
    {
     "name": "stdout",
     "output_type": "stream",
     "text": [
      "WARNING:tensorflow:Unresolved object in checkpoint: (root).net.cnns.2.kernel\n"
     ]
    },
    {
     "name": "stderr",
     "output_type": "stream",
     "text": [
      "WARNING:tensorflow:Unresolved object in checkpoint: (root).net.cnns.2.kernel\n"
     ]
    },
    {
     "name": "stdout",
     "output_type": "stream",
     "text": [
      "WARNING:tensorflow:Unresolved object in checkpoint: (root).net.cnns.2.bias\n"
     ]
    },
    {
     "name": "stderr",
     "output_type": "stream",
     "text": [
      "WARNING:tensorflow:Unresolved object in checkpoint: (root).net.cnns.2.bias\n"
     ]
    },
    {
     "name": "stdout",
     "output_type": "stream",
     "text": [
      "WARNING:tensorflow:Unresolved object in checkpoint: (root).net.cnn_bnz.0.axis\n"
     ]
    },
    {
     "name": "stderr",
     "output_type": "stream",
     "text": [
      "WARNING:tensorflow:Unresolved object in checkpoint: (root).net.cnn_bnz.0.axis\n"
     ]
    },
    {
     "name": "stdout",
     "output_type": "stream",
     "text": [
      "WARNING:tensorflow:Unresolved object in checkpoint: (root).net.cnn_bnz.0.gamma\n"
     ]
    },
    {
     "name": "stderr",
     "output_type": "stream",
     "text": [
      "WARNING:tensorflow:Unresolved object in checkpoint: (root).net.cnn_bnz.0.gamma\n"
     ]
    },
    {
     "name": "stdout",
     "output_type": "stream",
     "text": [
      "WARNING:tensorflow:Unresolved object in checkpoint: (root).net.cnn_bnz.0.beta\n"
     ]
    },
    {
     "name": "stderr",
     "output_type": "stream",
     "text": [
      "WARNING:tensorflow:Unresolved object in checkpoint: (root).net.cnn_bnz.0.beta\n"
     ]
    },
    {
     "name": "stdout",
     "output_type": "stream",
     "text": [
      "WARNING:tensorflow:Unresolved object in checkpoint: (root).net.cnn_bnz.0.moving_mean\n"
     ]
    },
    {
     "name": "stderr",
     "output_type": "stream",
     "text": [
      "WARNING:tensorflow:Unresolved object in checkpoint: (root).net.cnn_bnz.0.moving_mean\n"
     ]
    },
    {
     "name": "stdout",
     "output_type": "stream",
     "text": [
      "WARNING:tensorflow:Unresolved object in checkpoint: (root).net.cnn_bnz.0.moving_variance\n"
     ]
    },
    {
     "name": "stderr",
     "output_type": "stream",
     "text": [
      "WARNING:tensorflow:Unresolved object in checkpoint: (root).net.cnn_bnz.0.moving_variance\n"
     ]
    },
    {
     "name": "stdout",
     "output_type": "stream",
     "text": [
      "WARNING:tensorflow:Unresolved object in checkpoint: (root).net.cnn_bnz.1.axis\n"
     ]
    },
    {
     "name": "stderr",
     "output_type": "stream",
     "text": [
      "WARNING:tensorflow:Unresolved object in checkpoint: (root).net.cnn_bnz.1.axis\n"
     ]
    },
    {
     "name": "stdout",
     "output_type": "stream",
     "text": [
      "WARNING:tensorflow:Unresolved object in checkpoint: (root).net.cnn_bnz.1.gamma\n"
     ]
    },
    {
     "name": "stderr",
     "output_type": "stream",
     "text": [
      "WARNING:tensorflow:Unresolved object in checkpoint: (root).net.cnn_bnz.1.gamma\n"
     ]
    },
    {
     "name": "stdout",
     "output_type": "stream",
     "text": [
      "WARNING:tensorflow:Unresolved object in checkpoint: (root).net.cnn_bnz.1.beta\n"
     ]
    },
    {
     "name": "stderr",
     "output_type": "stream",
     "text": [
      "WARNING:tensorflow:Unresolved object in checkpoint: (root).net.cnn_bnz.1.beta\n"
     ]
    },
    {
     "name": "stdout",
     "output_type": "stream",
     "text": [
      "WARNING:tensorflow:Unresolved object in checkpoint: (root).net.cnn_bnz.1.moving_mean\n"
     ]
    },
    {
     "name": "stderr",
     "output_type": "stream",
     "text": [
      "WARNING:tensorflow:Unresolved object in checkpoint: (root).net.cnn_bnz.1.moving_mean\n"
     ]
    },
    {
     "name": "stdout",
     "output_type": "stream",
     "text": [
      "WARNING:tensorflow:Unresolved object in checkpoint: (root).net.cnn_bnz.1.moving_variance\n"
     ]
    },
    {
     "name": "stderr",
     "output_type": "stream",
     "text": [
      "WARNING:tensorflow:Unresolved object in checkpoint: (root).net.cnn_bnz.1.moving_variance\n"
     ]
    },
    {
     "name": "stdout",
     "output_type": "stream",
     "text": [
      "WARNING:tensorflow:Unresolved object in checkpoint: (root).net.cnn_bnz.2.axis\n"
     ]
    },
    {
     "name": "stderr",
     "output_type": "stream",
     "text": [
      "WARNING:tensorflow:Unresolved object in checkpoint: (root).net.cnn_bnz.2.axis\n"
     ]
    },
    {
     "name": "stdout",
     "output_type": "stream",
     "text": [
      "WARNING:tensorflow:Unresolved object in checkpoint: (root).net.cnn_bnz.2.gamma\n"
     ]
    },
    {
     "name": "stderr",
     "output_type": "stream",
     "text": [
      "WARNING:tensorflow:Unresolved object in checkpoint: (root).net.cnn_bnz.2.gamma\n"
     ]
    },
    {
     "name": "stdout",
     "output_type": "stream",
     "text": [
      "WARNING:tensorflow:Unresolved object in checkpoint: (root).net.cnn_bnz.2.beta\n"
     ]
    },
    {
     "name": "stderr",
     "output_type": "stream",
     "text": [
      "WARNING:tensorflow:Unresolved object in checkpoint: (root).net.cnn_bnz.2.beta\n"
     ]
    },
    {
     "name": "stdout",
     "output_type": "stream",
     "text": [
      "WARNING:tensorflow:Unresolved object in checkpoint: (root).net.cnn_bnz.2.moving_mean\n"
     ]
    },
    {
     "name": "stderr",
     "output_type": "stream",
     "text": [
      "WARNING:tensorflow:Unresolved object in checkpoint: (root).net.cnn_bnz.2.moving_mean\n"
     ]
    },
    {
     "name": "stdout",
     "output_type": "stream",
     "text": [
      "WARNING:tensorflow:Unresolved object in checkpoint: (root).net.cnn_bnz.2.moving_variance\n"
     ]
    },
    {
     "name": "stderr",
     "output_type": "stream",
     "text": [
      "WARNING:tensorflow:Unresolved object in checkpoint: (root).net.cnn_bnz.2.moving_variance\n"
     ]
    },
    {
     "name": "stdout",
     "output_type": "stream",
     "text": [
      "WARNING:tensorflow:Unresolved object in checkpoint: (root).optimizer's state 'm' for (root).net.projector.kernel\n"
     ]
    },
    {
     "name": "stderr",
     "output_type": "stream",
     "text": [
      "WARNING:tensorflow:Unresolved object in checkpoint: (root).optimizer's state 'm' for (root).net.projector.kernel\n"
     ]
    },
    {
     "name": "stdout",
     "output_type": "stream",
     "text": [
      "WARNING:tensorflow:Unresolved object in checkpoint: (root).optimizer's state 'm' for (root).net.projector.bias\n"
     ]
    },
    {
     "name": "stderr",
     "output_type": "stream",
     "text": [
      "WARNING:tensorflow:Unresolved object in checkpoint: (root).optimizer's state 'm' for (root).net.projector.bias\n"
     ]
    },
    {
     "name": "stdout",
     "output_type": "stream",
     "text": [
      "WARNING:tensorflow:Unresolved object in checkpoint: (root).optimizer's state 'm' for (root).net.cnns.0.kernel\n"
     ]
    },
    {
     "name": "stderr",
     "output_type": "stream",
     "text": [
      "WARNING:tensorflow:Unresolved object in checkpoint: (root).optimizer's state 'm' for (root).net.cnns.0.kernel\n"
     ]
    },
    {
     "name": "stdout",
     "output_type": "stream",
     "text": [
      "WARNING:tensorflow:Unresolved object in checkpoint: (root).optimizer's state 'm' for (root).net.cnns.0.bias\n"
     ]
    },
    {
     "name": "stderr",
     "output_type": "stream",
     "text": [
      "WARNING:tensorflow:Unresolved object in checkpoint: (root).optimizer's state 'm' for (root).net.cnns.0.bias\n"
     ]
    },
    {
     "name": "stdout",
     "output_type": "stream",
     "text": [
      "WARNING:tensorflow:Unresolved object in checkpoint: (root).optimizer's state 'm' for (root).net.cnns.1.kernel\n"
     ]
    },
    {
     "name": "stderr",
     "output_type": "stream",
     "text": [
      "WARNING:tensorflow:Unresolved object in checkpoint: (root).optimizer's state 'm' for (root).net.cnns.1.kernel\n"
     ]
    },
    {
     "name": "stdout",
     "output_type": "stream",
     "text": [
      "WARNING:tensorflow:Unresolved object in checkpoint: (root).optimizer's state 'm' for (root).net.cnns.1.bias\n"
     ]
    },
    {
     "name": "stderr",
     "output_type": "stream",
     "text": [
      "WARNING:tensorflow:Unresolved object in checkpoint: (root).optimizer's state 'm' for (root).net.cnns.1.bias\n"
     ]
    },
    {
     "name": "stdout",
     "output_type": "stream",
     "text": [
      "WARNING:tensorflow:Unresolved object in checkpoint: (root).optimizer's state 'm' for (root).net.cnns.2.kernel\n"
     ]
    },
    {
     "name": "stderr",
     "output_type": "stream",
     "text": [
      "WARNING:tensorflow:Unresolved object in checkpoint: (root).optimizer's state 'm' for (root).net.cnns.2.kernel\n"
     ]
    },
    {
     "name": "stdout",
     "output_type": "stream",
     "text": [
      "WARNING:tensorflow:Unresolved object in checkpoint: (root).optimizer's state 'm' for (root).net.cnns.2.bias\n"
     ]
    },
    {
     "name": "stderr",
     "output_type": "stream",
     "text": [
      "WARNING:tensorflow:Unresolved object in checkpoint: (root).optimizer's state 'm' for (root).net.cnns.2.bias\n"
     ]
    },
    {
     "name": "stdout",
     "output_type": "stream",
     "text": [
      "WARNING:tensorflow:Unresolved object in checkpoint: (root).optimizer's state 'm' for (root).net.cnn_bnz.0.gamma\n"
     ]
    },
    {
     "name": "stderr",
     "output_type": "stream",
     "text": [
      "WARNING:tensorflow:Unresolved object in checkpoint: (root).optimizer's state 'm' for (root).net.cnn_bnz.0.gamma\n"
     ]
    },
    {
     "name": "stdout",
     "output_type": "stream",
     "text": [
      "WARNING:tensorflow:Unresolved object in checkpoint: (root).optimizer's state 'm' for (root).net.cnn_bnz.0.beta\n"
     ]
    },
    {
     "name": "stderr",
     "output_type": "stream",
     "text": [
      "WARNING:tensorflow:Unresolved object in checkpoint: (root).optimizer's state 'm' for (root).net.cnn_bnz.0.beta\n"
     ]
    },
    {
     "name": "stdout",
     "output_type": "stream",
     "text": [
      "WARNING:tensorflow:Unresolved object in checkpoint: (root).optimizer's state 'm' for (root).net.cnn_bnz.1.gamma\n"
     ]
    },
    {
     "name": "stderr",
     "output_type": "stream",
     "text": [
      "WARNING:tensorflow:Unresolved object in checkpoint: (root).optimizer's state 'm' for (root).net.cnn_bnz.1.gamma\n"
     ]
    },
    {
     "name": "stdout",
     "output_type": "stream",
     "text": [
      "WARNING:tensorflow:Unresolved object in checkpoint: (root).optimizer's state 'm' for (root).net.cnn_bnz.1.beta\n"
     ]
    },
    {
     "name": "stderr",
     "output_type": "stream",
     "text": [
      "WARNING:tensorflow:Unresolved object in checkpoint: (root).optimizer's state 'm' for (root).net.cnn_bnz.1.beta\n"
     ]
    },
    {
     "name": "stdout",
     "output_type": "stream",
     "text": [
      "WARNING:tensorflow:Unresolved object in checkpoint: (root).optimizer's state 'm' for (root).net.cnn_bnz.2.gamma\n"
     ]
    },
    {
     "name": "stderr",
     "output_type": "stream",
     "text": [
      "WARNING:tensorflow:Unresolved object in checkpoint: (root).optimizer's state 'm' for (root).net.cnn_bnz.2.gamma\n"
     ]
    },
    {
     "name": "stdout",
     "output_type": "stream",
     "text": [
      "WARNING:tensorflow:Unresolved object in checkpoint: (root).optimizer's state 'm' for (root).net.cnn_bnz.2.beta\n"
     ]
    },
    {
     "name": "stderr",
     "output_type": "stream",
     "text": [
      "WARNING:tensorflow:Unresolved object in checkpoint: (root).optimizer's state 'm' for (root).net.cnn_bnz.2.beta\n"
     ]
    },
    {
     "name": "stdout",
     "output_type": "stream",
     "text": [
      "WARNING:tensorflow:Unresolved object in checkpoint: (root).optimizer's state 'v' for (root).net.projector.kernel\n"
     ]
    },
    {
     "name": "stderr",
     "output_type": "stream",
     "text": [
      "WARNING:tensorflow:Unresolved object in checkpoint: (root).optimizer's state 'v' for (root).net.projector.kernel\n"
     ]
    },
    {
     "name": "stdout",
     "output_type": "stream",
     "text": [
      "WARNING:tensorflow:Unresolved object in checkpoint: (root).optimizer's state 'v' for (root).net.projector.bias\n"
     ]
    },
    {
     "name": "stderr",
     "output_type": "stream",
     "text": [
      "WARNING:tensorflow:Unresolved object in checkpoint: (root).optimizer's state 'v' for (root).net.projector.bias\n"
     ]
    },
    {
     "name": "stdout",
     "output_type": "stream",
     "text": [
      "WARNING:tensorflow:Unresolved object in checkpoint: (root).optimizer's state 'v' for (root).net.cnns.0.kernel\n"
     ]
    },
    {
     "name": "stderr",
     "output_type": "stream",
     "text": [
      "WARNING:tensorflow:Unresolved object in checkpoint: (root).optimizer's state 'v' for (root).net.cnns.0.kernel\n"
     ]
    },
    {
     "name": "stdout",
     "output_type": "stream",
     "text": [
      "WARNING:tensorflow:Unresolved object in checkpoint: (root).optimizer's state 'v' for (root).net.cnns.0.bias\n"
     ]
    },
    {
     "name": "stderr",
     "output_type": "stream",
     "text": [
      "WARNING:tensorflow:Unresolved object in checkpoint: (root).optimizer's state 'v' for (root).net.cnns.0.bias\n"
     ]
    },
    {
     "name": "stdout",
     "output_type": "stream",
     "text": [
      "WARNING:tensorflow:Unresolved object in checkpoint: (root).optimizer's state 'v' for (root).net.cnns.1.kernel\n"
     ]
    },
    {
     "name": "stderr",
     "output_type": "stream",
     "text": [
      "WARNING:tensorflow:Unresolved object in checkpoint: (root).optimizer's state 'v' for (root).net.cnns.1.kernel\n"
     ]
    },
    {
     "name": "stdout",
     "output_type": "stream",
     "text": [
      "WARNING:tensorflow:Unresolved object in checkpoint: (root).optimizer's state 'v' for (root).net.cnns.1.bias\n"
     ]
    },
    {
     "name": "stderr",
     "output_type": "stream",
     "text": [
      "WARNING:tensorflow:Unresolved object in checkpoint: (root).optimizer's state 'v' for (root).net.cnns.1.bias\n"
     ]
    },
    {
     "name": "stdout",
     "output_type": "stream",
     "text": [
      "WARNING:tensorflow:Unresolved object in checkpoint: (root).optimizer's state 'v' for (root).net.cnns.2.kernel\n"
     ]
    },
    {
     "name": "stderr",
     "output_type": "stream",
     "text": [
      "WARNING:tensorflow:Unresolved object in checkpoint: (root).optimizer's state 'v' for (root).net.cnns.2.kernel\n"
     ]
    },
    {
     "name": "stdout",
     "output_type": "stream",
     "text": [
      "WARNING:tensorflow:Unresolved object in checkpoint: (root).optimizer's state 'v' for (root).net.cnns.2.bias\n"
     ]
    },
    {
     "name": "stderr",
     "output_type": "stream",
     "text": [
      "WARNING:tensorflow:Unresolved object in checkpoint: (root).optimizer's state 'v' for (root).net.cnns.2.bias\n"
     ]
    },
    {
     "name": "stdout",
     "output_type": "stream",
     "text": [
      "WARNING:tensorflow:Unresolved object in checkpoint: (root).optimizer's state 'v' for (root).net.cnn_bnz.0.gamma\n"
     ]
    },
    {
     "name": "stderr",
     "output_type": "stream",
     "text": [
      "WARNING:tensorflow:Unresolved object in checkpoint: (root).optimizer's state 'v' for (root).net.cnn_bnz.0.gamma\n"
     ]
    },
    {
     "name": "stdout",
     "output_type": "stream",
     "text": [
      "WARNING:tensorflow:Unresolved object in checkpoint: (root).optimizer's state 'v' for (root).net.cnn_bnz.0.beta\n"
     ]
    },
    {
     "name": "stderr",
     "output_type": "stream",
     "text": [
      "WARNING:tensorflow:Unresolved object in checkpoint: (root).optimizer's state 'v' for (root).net.cnn_bnz.0.beta\n"
     ]
    },
    {
     "name": "stdout",
     "output_type": "stream",
     "text": [
      "WARNING:tensorflow:Unresolved object in checkpoint: (root).optimizer's state 'v' for (root).net.cnn_bnz.1.gamma\n"
     ]
    },
    {
     "name": "stderr",
     "output_type": "stream",
     "text": [
      "WARNING:tensorflow:Unresolved object in checkpoint: (root).optimizer's state 'v' for (root).net.cnn_bnz.1.gamma\n"
     ]
    },
    {
     "name": "stdout",
     "output_type": "stream",
     "text": [
      "WARNING:tensorflow:Unresolved object in checkpoint: (root).optimizer's state 'v' for (root).net.cnn_bnz.1.beta\n"
     ]
    },
    {
     "name": "stderr",
     "output_type": "stream",
     "text": [
      "WARNING:tensorflow:Unresolved object in checkpoint: (root).optimizer's state 'v' for (root).net.cnn_bnz.1.beta\n"
     ]
    },
    {
     "name": "stdout",
     "output_type": "stream",
     "text": [
      "WARNING:tensorflow:Unresolved object in checkpoint: (root).optimizer's state 'v' for (root).net.cnn_bnz.2.gamma\n"
     ]
    },
    {
     "name": "stderr",
     "output_type": "stream",
     "text": [
      "WARNING:tensorflow:Unresolved object in checkpoint: (root).optimizer's state 'v' for (root).net.cnn_bnz.2.gamma\n"
     ]
    },
    {
     "name": "stdout",
     "output_type": "stream",
     "text": [
      "WARNING:tensorflow:Unresolved object in checkpoint: (root).optimizer's state 'v' for (root).net.cnn_bnz.2.beta\n"
     ]
    },
    {
     "name": "stderr",
     "output_type": "stream",
     "text": [
      "WARNING:tensorflow:Unresolved object in checkpoint: (root).optimizer's state 'v' for (root).net.cnn_bnz.2.beta\n"
     ]
    },
    {
     "name": "stdout",
     "output_type": "stream",
     "text": [
      "WARNING:tensorflow:A checkpoint was restored (e.g. tf.train.Checkpoint.restore or tf.keras.Model.load_weights) but not all checkpointed values were used. See above for specific issues. Use expect_partial() on the load status object, e.g. tf.train.Checkpoint.restore(...).expect_partial(), to silence these warnings, or use assert_consumed() to make the check explicit. See https://www.tensorflow.org/guide/checkpoint#loading_mechanics for details.\n"
     ]
    },
    {
     "name": "stderr",
     "output_type": "stream",
     "text": [
      "WARNING:tensorflow:A checkpoint was restored (e.g. tf.train.Checkpoint.restore or tf.keras.Model.load_weights) but not all checkpointed values were used. See above for specific issues. Use expect_partial() on the load status object, e.g. tf.train.Checkpoint.restore(...).expect_partial(), to silence these warnings, or use assert_consumed() to make the check explicit. See https://www.tensorflow.org/guide/checkpoint#loading_mechanics for details.\n"
     ]
    },
    {
     "name": "stdout",
     "output_type": "stream",
     "text": [
      "WARNING:tensorflow:Unresolved object in checkpoint: (root).step\n"
     ]
    },
    {
     "name": "stderr",
     "output_type": "stream",
     "text": [
      "WARNING:tensorflow:Unresolved object in checkpoint: (root).step\n"
     ]
    },
    {
     "name": "stdout",
     "output_type": "stream",
     "text": [
      "WARNING:tensorflow:Unresolved object in checkpoint: (root).net._training_endpoints\n"
     ]
    },
    {
     "name": "stderr",
     "output_type": "stream",
     "text": [
      "WARNING:tensorflow:Unresolved object in checkpoint: (root).net._training_endpoints\n"
     ]
    },
    {
     "name": "stdout",
     "output_type": "stream",
     "text": [
      "WARNING:tensorflow:Unresolved object in checkpoint: (root).optimizer.iter\n"
     ]
    },
    {
     "name": "stderr",
     "output_type": "stream",
     "text": [
      "WARNING:tensorflow:Unresolved object in checkpoint: (root).optimizer.iter\n"
     ]
    },
    {
     "name": "stdout",
     "output_type": "stream",
     "text": [
      "WARNING:tensorflow:Unresolved object in checkpoint: (root).optimizer.beta_1\n"
     ]
    },
    {
     "name": "stderr",
     "output_type": "stream",
     "text": [
      "WARNING:tensorflow:Unresolved object in checkpoint: (root).optimizer.beta_1\n"
     ]
    },
    {
     "name": "stdout",
     "output_type": "stream",
     "text": [
      "WARNING:tensorflow:Unresolved object in checkpoint: (root).optimizer.beta_2\n"
     ]
    },
    {
     "name": "stderr",
     "output_type": "stream",
     "text": [
      "WARNING:tensorflow:Unresolved object in checkpoint: (root).optimizer.beta_2\n"
     ]
    },
    {
     "name": "stdout",
     "output_type": "stream",
     "text": [
      "WARNING:tensorflow:Unresolved object in checkpoint: (root).optimizer.decay\n"
     ]
    },
    {
     "name": "stderr",
     "output_type": "stream",
     "text": [
      "WARNING:tensorflow:Unresolved object in checkpoint: (root).optimizer.decay\n"
     ]
    },
    {
     "name": "stdout",
     "output_type": "stream",
     "text": [
      "WARNING:tensorflow:Unresolved object in checkpoint: (root).optimizer.min_lr\n"
     ]
    },
    {
     "name": "stderr",
     "output_type": "stream",
     "text": [
      "WARNING:tensorflow:Unresolved object in checkpoint: (root).optimizer.min_lr\n"
     ]
    },
    {
     "name": "stdout",
     "output_type": "stream",
     "text": [
      "WARNING:tensorflow:Unresolved object in checkpoint: (root).optimizer.sma_threshold\n"
     ]
    },
    {
     "name": "stderr",
     "output_type": "stream",
     "text": [
      "WARNING:tensorflow:Unresolved object in checkpoint: (root).optimizer.sma_threshold\n"
     ]
    },
    {
     "name": "stdout",
     "output_type": "stream",
     "text": [
      "WARNING:tensorflow:Unresolved object in checkpoint: (root).optimizer.total_steps\n"
     ]
    },
    {
     "name": "stderr",
     "output_type": "stream",
     "text": [
      "WARNING:tensorflow:Unresolved object in checkpoint: (root).optimizer.total_steps\n"
     ]
    },
    {
     "name": "stdout",
     "output_type": "stream",
     "text": [
      "WARNING:tensorflow:Unresolved object in checkpoint: (root).optimizer.warmup_proportion\n"
     ]
    },
    {
     "name": "stderr",
     "output_type": "stream",
     "text": [
      "WARNING:tensorflow:Unresolved object in checkpoint: (root).optimizer.warmup_proportion\n"
     ]
    },
    {
     "name": "stdout",
     "output_type": "stream",
     "text": [
      "WARNING:tensorflow:Unresolved object in checkpoint: (root).optimizer.weight_decay\n"
     ]
    },
    {
     "name": "stderr",
     "output_type": "stream",
     "text": [
      "WARNING:tensorflow:Unresolved object in checkpoint: (root).optimizer.weight_decay\n"
     ]
    },
    {
     "name": "stdout",
     "output_type": "stream",
     "text": [
      "WARNING:tensorflow:Unresolved object in checkpoint: (root).net.final_dense.kernel\n"
     ]
    },
    {
     "name": "stderr",
     "output_type": "stream",
     "text": [
      "WARNING:tensorflow:Unresolved object in checkpoint: (root).net.final_dense.kernel\n"
     ]
    },
    {
     "name": "stdout",
     "output_type": "stream",
     "text": [
      "WARNING:tensorflow:Unresolved object in checkpoint: (root).net.final_dense.bias\n"
     ]
    },
    {
     "name": "stderr",
     "output_type": "stream",
     "text": [
      "WARNING:tensorflow:Unresolved object in checkpoint: (root).net.final_dense.bias\n"
     ]
    },
    {
     "name": "stdout",
     "output_type": "stream",
     "text": [
      "WARNING:tensorflow:Unresolved object in checkpoint: (root).net.hidden_layers.0.kernel\n"
     ]
    },
    {
     "name": "stderr",
     "output_type": "stream",
     "text": [
      "WARNING:tensorflow:Unresolved object in checkpoint: (root).net.hidden_layers.0.kernel\n"
     ]
    },
    {
     "name": "stdout",
     "output_type": "stream",
     "text": [
      "WARNING:tensorflow:Unresolved object in checkpoint: (root).net.hidden_layers.0.bias\n"
     ]
    },
    {
     "name": "stderr",
     "output_type": "stream",
     "text": [
      "WARNING:tensorflow:Unresolved object in checkpoint: (root).net.hidden_layers.0.bias\n"
     ]
    },
    {
     "name": "stdout",
     "output_type": "stream",
     "text": [
      "WARNING:tensorflow:Unresolved object in checkpoint: (root).net.hidden_layers.1.kernel\n"
     ]
    },
    {
     "name": "stderr",
     "output_type": "stream",
     "text": [
      "WARNING:tensorflow:Unresolved object in checkpoint: (root).net.hidden_layers.1.kernel\n"
     ]
    },
    {
     "name": "stdout",
     "output_type": "stream",
     "text": [
      "WARNING:tensorflow:Unresolved object in checkpoint: (root).net.hidden_layers.1.bias\n"
     ]
    },
    {
     "name": "stderr",
     "output_type": "stream",
     "text": [
      "WARNING:tensorflow:Unresolved object in checkpoint: (root).net.hidden_layers.1.bias\n"
     ]
    },
    {
     "name": "stdout",
     "output_type": "stream",
     "text": [
      "WARNING:tensorflow:Unresolved object in checkpoint: (root).net.hidden_layers.2.kernel\n"
     ]
    },
    {
     "name": "stderr",
     "output_type": "stream",
     "text": [
      "WARNING:tensorflow:Unresolved object in checkpoint: (root).net.hidden_layers.2.kernel\n"
     ]
    },
    {
     "name": "stdout",
     "output_type": "stream",
     "text": [
      "WARNING:tensorflow:Unresolved object in checkpoint: (root).net.hidden_layers.2.bias\n"
     ]
    },
    {
     "name": "stderr",
     "output_type": "stream",
     "text": [
      "WARNING:tensorflow:Unresolved object in checkpoint: (root).net.hidden_layers.2.bias\n"
     ]
    },
    {
     "name": "stdout",
     "output_type": "stream",
     "text": [
      "WARNING:tensorflow:Unresolved object in checkpoint: (root).net.hidden_batch_norms.0.axis\n"
     ]
    },
    {
     "name": "stderr",
     "output_type": "stream",
     "text": [
      "WARNING:tensorflow:Unresolved object in checkpoint: (root).net.hidden_batch_norms.0.axis\n"
     ]
    },
    {
     "name": "stdout",
     "output_type": "stream",
     "text": [
      "WARNING:tensorflow:Unresolved object in checkpoint: (root).net.hidden_batch_norms.0.gamma\n"
     ]
    },
    {
     "name": "stderr",
     "output_type": "stream",
     "text": [
      "WARNING:tensorflow:Unresolved object in checkpoint: (root).net.hidden_batch_norms.0.gamma\n"
     ]
    },
    {
     "name": "stdout",
     "output_type": "stream",
     "text": [
      "WARNING:tensorflow:Unresolved object in checkpoint: (root).net.hidden_batch_norms.0.beta\n"
     ]
    },
    {
     "name": "stderr",
     "output_type": "stream",
     "text": [
      "WARNING:tensorflow:Unresolved object in checkpoint: (root).net.hidden_batch_norms.0.beta\n"
     ]
    },
    {
     "name": "stdout",
     "output_type": "stream",
     "text": [
      "WARNING:tensorflow:Unresolved object in checkpoint: (root).net.hidden_batch_norms.0.moving_mean\n"
     ]
    },
    {
     "name": "stderr",
     "output_type": "stream",
     "text": [
      "WARNING:tensorflow:Unresolved object in checkpoint: (root).net.hidden_batch_norms.0.moving_mean\n"
     ]
    },
    {
     "name": "stdout",
     "output_type": "stream",
     "text": [
      "WARNING:tensorflow:Unresolved object in checkpoint: (root).net.hidden_batch_norms.0.moving_variance\n"
     ]
    },
    {
     "name": "stderr",
     "output_type": "stream",
     "text": [
      "WARNING:tensorflow:Unresolved object in checkpoint: (root).net.hidden_batch_norms.0.moving_variance\n"
     ]
    },
    {
     "name": "stdout",
     "output_type": "stream",
     "text": [
      "WARNING:tensorflow:Unresolved object in checkpoint: (root).net.hidden_batch_norms.1.axis\n"
     ]
    },
    {
     "name": "stderr",
     "output_type": "stream",
     "text": [
      "WARNING:tensorflow:Unresolved object in checkpoint: (root).net.hidden_batch_norms.1.axis\n"
     ]
    },
    {
     "name": "stdout",
     "output_type": "stream",
     "text": [
      "WARNING:tensorflow:Unresolved object in checkpoint: (root).net.hidden_batch_norms.1.gamma\n"
     ]
    },
    {
     "name": "stderr",
     "output_type": "stream",
     "text": [
      "WARNING:tensorflow:Unresolved object in checkpoint: (root).net.hidden_batch_norms.1.gamma\n"
     ]
    },
    {
     "name": "stdout",
     "output_type": "stream",
     "text": [
      "WARNING:tensorflow:Unresolved object in checkpoint: (root).net.hidden_batch_norms.1.beta\n"
     ]
    },
    {
     "name": "stderr",
     "output_type": "stream",
     "text": [
      "WARNING:tensorflow:Unresolved object in checkpoint: (root).net.hidden_batch_norms.1.beta\n"
     ]
    },
    {
     "name": "stdout",
     "output_type": "stream",
     "text": [
      "WARNING:tensorflow:Unresolved object in checkpoint: (root).net.hidden_batch_norms.1.moving_mean\n"
     ]
    },
    {
     "name": "stderr",
     "output_type": "stream",
     "text": [
      "WARNING:tensorflow:Unresolved object in checkpoint: (root).net.hidden_batch_norms.1.moving_mean\n"
     ]
    },
    {
     "name": "stdout",
     "output_type": "stream",
     "text": [
      "WARNING:tensorflow:Unresolved object in checkpoint: (root).net.hidden_batch_norms.1.moving_variance\n"
     ]
    },
    {
     "name": "stderr",
     "output_type": "stream",
     "text": [
      "WARNING:tensorflow:Unresolved object in checkpoint: (root).net.hidden_batch_norms.1.moving_variance\n"
     ]
    },
    {
     "name": "stdout",
     "output_type": "stream",
     "text": [
      "WARNING:tensorflow:Unresolved object in checkpoint: (root).net.hidden_batch_norms.2.axis\n"
     ]
    },
    {
     "name": "stderr",
     "output_type": "stream",
     "text": [
      "WARNING:tensorflow:Unresolved object in checkpoint: (root).net.hidden_batch_norms.2.axis\n"
     ]
    },
    {
     "name": "stdout",
     "output_type": "stream",
     "text": [
      "WARNING:tensorflow:Unresolved object in checkpoint: (root).net.hidden_batch_norms.2.gamma\n"
     ]
    },
    {
     "name": "stderr",
     "output_type": "stream",
     "text": [
      "WARNING:tensorflow:Unresolved object in checkpoint: (root).net.hidden_batch_norms.2.gamma\n"
     ]
    },
    {
     "name": "stdout",
     "output_type": "stream",
     "text": [
      "WARNING:tensorflow:Unresolved object in checkpoint: (root).net.hidden_batch_norms.2.beta\n"
     ]
    },
    {
     "name": "stderr",
     "output_type": "stream",
     "text": [
      "WARNING:tensorflow:Unresolved object in checkpoint: (root).net.hidden_batch_norms.2.beta\n"
     ]
    },
    {
     "name": "stdout",
     "output_type": "stream",
     "text": [
      "WARNING:tensorflow:Unresolved object in checkpoint: (root).net.hidden_batch_norms.2.moving_mean\n"
     ]
    },
    {
     "name": "stderr",
     "output_type": "stream",
     "text": [
      "WARNING:tensorflow:Unresolved object in checkpoint: (root).net.hidden_batch_norms.2.moving_mean\n"
     ]
    },
    {
     "name": "stdout",
     "output_type": "stream",
     "text": [
      "WARNING:tensorflow:Unresolved object in checkpoint: (root).net.hidden_batch_norms.2.moving_variance\n"
     ]
    },
    {
     "name": "stderr",
     "output_type": "stream",
     "text": [
      "WARNING:tensorflow:Unresolved object in checkpoint: (root).net.hidden_batch_norms.2.moving_variance\n"
     ]
    },
    {
     "name": "stdout",
     "output_type": "stream",
     "text": [
      "WARNING:tensorflow:Unresolved object in checkpoint: (root).optimizer's state 'm' for (root).net.final_dense.kernel\n"
     ]
    },
    {
     "name": "stderr",
     "output_type": "stream",
     "text": [
      "WARNING:tensorflow:Unresolved object in checkpoint: (root).optimizer's state 'm' for (root).net.final_dense.kernel\n"
     ]
    },
    {
     "name": "stdout",
     "output_type": "stream",
     "text": [
      "WARNING:tensorflow:Unresolved object in checkpoint: (root).optimizer's state 'm' for (root).net.final_dense.bias\n"
     ]
    },
    {
     "name": "stderr",
     "output_type": "stream",
     "text": [
      "WARNING:tensorflow:Unresolved object in checkpoint: (root).optimizer's state 'm' for (root).net.final_dense.bias\n"
     ]
    },
    {
     "name": "stdout",
     "output_type": "stream",
     "text": [
      "WARNING:tensorflow:Unresolved object in checkpoint: (root).optimizer's state 'm' for (root).net.hidden_layers.0.kernel\n"
     ]
    },
    {
     "name": "stderr",
     "output_type": "stream",
     "text": [
      "WARNING:tensorflow:Unresolved object in checkpoint: (root).optimizer's state 'm' for (root).net.hidden_layers.0.kernel\n"
     ]
    },
    {
     "name": "stdout",
     "output_type": "stream",
     "text": [
      "WARNING:tensorflow:Unresolved object in checkpoint: (root).optimizer's state 'm' for (root).net.hidden_layers.0.bias\n"
     ]
    },
    {
     "name": "stderr",
     "output_type": "stream",
     "text": [
      "WARNING:tensorflow:Unresolved object in checkpoint: (root).optimizer's state 'm' for (root).net.hidden_layers.0.bias\n"
     ]
    },
    {
     "name": "stdout",
     "output_type": "stream",
     "text": [
      "WARNING:tensorflow:Unresolved object in checkpoint: (root).optimizer's state 'm' for (root).net.hidden_layers.1.kernel\n"
     ]
    },
    {
     "name": "stderr",
     "output_type": "stream",
     "text": [
      "WARNING:tensorflow:Unresolved object in checkpoint: (root).optimizer's state 'm' for (root).net.hidden_layers.1.kernel\n"
     ]
    },
    {
     "name": "stdout",
     "output_type": "stream",
     "text": [
      "WARNING:tensorflow:Unresolved object in checkpoint: (root).optimizer's state 'm' for (root).net.hidden_layers.1.bias\n"
     ]
    },
    {
     "name": "stderr",
     "output_type": "stream",
     "text": [
      "WARNING:tensorflow:Unresolved object in checkpoint: (root).optimizer's state 'm' for (root).net.hidden_layers.1.bias\n"
     ]
    },
    {
     "name": "stdout",
     "output_type": "stream",
     "text": [
      "WARNING:tensorflow:Unresolved object in checkpoint: (root).optimizer's state 'm' for (root).net.hidden_layers.2.kernel\n"
     ]
    },
    {
     "name": "stderr",
     "output_type": "stream",
     "text": [
      "WARNING:tensorflow:Unresolved object in checkpoint: (root).optimizer's state 'm' for (root).net.hidden_layers.2.kernel\n"
     ]
    },
    {
     "name": "stdout",
     "output_type": "stream",
     "text": [
      "WARNING:tensorflow:Unresolved object in checkpoint: (root).optimizer's state 'm' for (root).net.hidden_layers.2.bias\n"
     ]
    },
    {
     "name": "stderr",
     "output_type": "stream",
     "text": [
      "WARNING:tensorflow:Unresolved object in checkpoint: (root).optimizer's state 'm' for (root).net.hidden_layers.2.bias\n"
     ]
    },
    {
     "name": "stdout",
     "output_type": "stream",
     "text": [
      "WARNING:tensorflow:Unresolved object in checkpoint: (root).optimizer's state 'm' for (root).net.hidden_batch_norms.0.gamma\n"
     ]
    },
    {
     "name": "stderr",
     "output_type": "stream",
     "text": [
      "WARNING:tensorflow:Unresolved object in checkpoint: (root).optimizer's state 'm' for (root).net.hidden_batch_norms.0.gamma\n"
     ]
    },
    {
     "name": "stdout",
     "output_type": "stream",
     "text": [
      "WARNING:tensorflow:Unresolved object in checkpoint: (root).optimizer's state 'm' for (root).net.hidden_batch_norms.0.beta\n"
     ]
    },
    {
     "name": "stderr",
     "output_type": "stream",
     "text": [
      "WARNING:tensorflow:Unresolved object in checkpoint: (root).optimizer's state 'm' for (root).net.hidden_batch_norms.0.beta\n"
     ]
    },
    {
     "name": "stdout",
     "output_type": "stream",
     "text": [
      "WARNING:tensorflow:Unresolved object in checkpoint: (root).optimizer's state 'm' for (root).net.hidden_batch_norms.1.gamma\n"
     ]
    },
    {
     "name": "stderr",
     "output_type": "stream",
     "text": [
      "WARNING:tensorflow:Unresolved object in checkpoint: (root).optimizer's state 'm' for (root).net.hidden_batch_norms.1.gamma\n"
     ]
    },
    {
     "name": "stdout",
     "output_type": "stream",
     "text": [
      "WARNING:tensorflow:Unresolved object in checkpoint: (root).optimizer's state 'm' for (root).net.hidden_batch_norms.1.beta\n"
     ]
    },
    {
     "name": "stderr",
     "output_type": "stream",
     "text": [
      "WARNING:tensorflow:Unresolved object in checkpoint: (root).optimizer's state 'm' for (root).net.hidden_batch_norms.1.beta\n"
     ]
    },
    {
     "name": "stdout",
     "output_type": "stream",
     "text": [
      "WARNING:tensorflow:Unresolved object in checkpoint: (root).optimizer's state 'm' for (root).net.hidden_batch_norms.2.gamma\n"
     ]
    },
    {
     "name": "stderr",
     "output_type": "stream",
     "text": [
      "WARNING:tensorflow:Unresolved object in checkpoint: (root).optimizer's state 'm' for (root).net.hidden_batch_norms.2.gamma\n"
     ]
    },
    {
     "name": "stdout",
     "output_type": "stream",
     "text": [
      "WARNING:tensorflow:Unresolved object in checkpoint: (root).optimizer's state 'm' for (root).net.hidden_batch_norms.2.beta\n"
     ]
    },
    {
     "name": "stderr",
     "output_type": "stream",
     "text": [
      "WARNING:tensorflow:Unresolved object in checkpoint: (root).optimizer's state 'm' for (root).net.hidden_batch_norms.2.beta\n"
     ]
    },
    {
     "name": "stdout",
     "output_type": "stream",
     "text": [
      "WARNING:tensorflow:Unresolved object in checkpoint: (root).optimizer's state 'v' for (root).net.final_dense.kernel\n"
     ]
    },
    {
     "name": "stderr",
     "output_type": "stream",
     "text": [
      "WARNING:tensorflow:Unresolved object in checkpoint: (root).optimizer's state 'v' for (root).net.final_dense.kernel\n"
     ]
    },
    {
     "name": "stdout",
     "output_type": "stream",
     "text": [
      "WARNING:tensorflow:Unresolved object in checkpoint: (root).optimizer's state 'v' for (root).net.final_dense.bias\n"
     ]
    },
    {
     "name": "stderr",
     "output_type": "stream",
     "text": [
      "WARNING:tensorflow:Unresolved object in checkpoint: (root).optimizer's state 'v' for (root).net.final_dense.bias\n"
     ]
    },
    {
     "name": "stdout",
     "output_type": "stream",
     "text": [
      "WARNING:tensorflow:Unresolved object in checkpoint: (root).optimizer's state 'v' for (root).net.hidden_layers.0.kernel\n"
     ]
    },
    {
     "name": "stderr",
     "output_type": "stream",
     "text": [
      "WARNING:tensorflow:Unresolved object in checkpoint: (root).optimizer's state 'v' for (root).net.hidden_layers.0.kernel\n"
     ]
    },
    {
     "name": "stdout",
     "output_type": "stream",
     "text": [
      "WARNING:tensorflow:Unresolved object in checkpoint: (root).optimizer's state 'v' for (root).net.hidden_layers.0.bias\n"
     ]
    },
    {
     "name": "stderr",
     "output_type": "stream",
     "text": [
      "WARNING:tensorflow:Unresolved object in checkpoint: (root).optimizer's state 'v' for (root).net.hidden_layers.0.bias\n"
     ]
    },
    {
     "name": "stdout",
     "output_type": "stream",
     "text": [
      "WARNING:tensorflow:Unresolved object in checkpoint: (root).optimizer's state 'v' for (root).net.hidden_layers.1.kernel\n"
     ]
    },
    {
     "name": "stderr",
     "output_type": "stream",
     "text": [
      "WARNING:tensorflow:Unresolved object in checkpoint: (root).optimizer's state 'v' for (root).net.hidden_layers.1.kernel\n"
     ]
    },
    {
     "name": "stdout",
     "output_type": "stream",
     "text": [
      "WARNING:tensorflow:Unresolved object in checkpoint: (root).optimizer's state 'v' for (root).net.hidden_layers.1.bias\n"
     ]
    },
    {
     "name": "stderr",
     "output_type": "stream",
     "text": [
      "WARNING:tensorflow:Unresolved object in checkpoint: (root).optimizer's state 'v' for (root).net.hidden_layers.1.bias\n"
     ]
    },
    {
     "name": "stdout",
     "output_type": "stream",
     "text": [
      "WARNING:tensorflow:Unresolved object in checkpoint: (root).optimizer's state 'v' for (root).net.hidden_layers.2.kernel\n"
     ]
    },
    {
     "name": "stderr",
     "output_type": "stream",
     "text": [
      "WARNING:tensorflow:Unresolved object in checkpoint: (root).optimizer's state 'v' for (root).net.hidden_layers.2.kernel\n"
     ]
    },
    {
     "name": "stdout",
     "output_type": "stream",
     "text": [
      "WARNING:tensorflow:Unresolved object in checkpoint: (root).optimizer's state 'v' for (root).net.hidden_layers.2.bias\n"
     ]
    },
    {
     "name": "stderr",
     "output_type": "stream",
     "text": [
      "WARNING:tensorflow:Unresolved object in checkpoint: (root).optimizer's state 'v' for (root).net.hidden_layers.2.bias\n"
     ]
    },
    {
     "name": "stdout",
     "output_type": "stream",
     "text": [
      "WARNING:tensorflow:Unresolved object in checkpoint: (root).optimizer's state 'v' for (root).net.hidden_batch_norms.0.gamma\n"
     ]
    },
    {
     "name": "stderr",
     "output_type": "stream",
     "text": [
      "WARNING:tensorflow:Unresolved object in checkpoint: (root).optimizer's state 'v' for (root).net.hidden_batch_norms.0.gamma\n"
     ]
    },
    {
     "name": "stdout",
     "output_type": "stream",
     "text": [
      "WARNING:tensorflow:Unresolved object in checkpoint: (root).optimizer's state 'v' for (root).net.hidden_batch_norms.0.beta\n"
     ]
    },
    {
     "name": "stderr",
     "output_type": "stream",
     "text": [
      "WARNING:tensorflow:Unresolved object in checkpoint: (root).optimizer's state 'v' for (root).net.hidden_batch_norms.0.beta\n"
     ]
    },
    {
     "name": "stdout",
     "output_type": "stream",
     "text": [
      "WARNING:tensorflow:Unresolved object in checkpoint: (root).optimizer's state 'v' for (root).net.hidden_batch_norms.1.gamma\n"
     ]
    },
    {
     "name": "stderr",
     "output_type": "stream",
     "text": [
      "WARNING:tensorflow:Unresolved object in checkpoint: (root).optimizer's state 'v' for (root).net.hidden_batch_norms.1.gamma\n"
     ]
    },
    {
     "name": "stdout",
     "output_type": "stream",
     "text": [
      "WARNING:tensorflow:Unresolved object in checkpoint: (root).optimizer's state 'v' for (root).net.hidden_batch_norms.1.beta\n"
     ]
    },
    {
     "name": "stderr",
     "output_type": "stream",
     "text": [
      "WARNING:tensorflow:Unresolved object in checkpoint: (root).optimizer's state 'v' for (root).net.hidden_batch_norms.1.beta\n"
     ]
    },
    {
     "name": "stdout",
     "output_type": "stream",
     "text": [
      "WARNING:tensorflow:Unresolved object in checkpoint: (root).optimizer's state 'v' for (root).net.hidden_batch_norms.2.gamma\n"
     ]
    },
    {
     "name": "stderr",
     "output_type": "stream",
     "text": [
      "WARNING:tensorflow:Unresolved object in checkpoint: (root).optimizer's state 'v' for (root).net.hidden_batch_norms.2.gamma\n"
     ]
    },
    {
     "name": "stdout",
     "output_type": "stream",
     "text": [
      "WARNING:tensorflow:Unresolved object in checkpoint: (root).optimizer's state 'v' for (root).net.hidden_batch_norms.2.beta\n"
     ]
    },
    {
     "name": "stderr",
     "output_type": "stream",
     "text": [
      "WARNING:tensorflow:Unresolved object in checkpoint: (root).optimizer's state 'v' for (root).net.hidden_batch_norms.2.beta\n"
     ]
    },
    {
     "name": "stdout",
     "output_type": "stream",
     "text": [
      "WARNING:tensorflow:A checkpoint was restored (e.g. tf.train.Checkpoint.restore or tf.keras.Model.load_weights) but not all checkpointed values were used. See above for specific issues. Use expect_partial() on the load status object, e.g. tf.train.Checkpoint.restore(...).expect_partial(), to silence these warnings, or use assert_consumed() to make the check explicit. See https://www.tensorflow.org/guide/checkpoint#loading_mechanics for details.\n"
     ]
    },
    {
     "name": "stderr",
     "output_type": "stream",
     "text": [
      "WARNING:tensorflow:A checkpoint was restored (e.g. tf.train.Checkpoint.restore or tf.keras.Model.load_weights) but not all checkpointed values were used. See above for specific issues. Use expect_partial() on the load status object, e.g. tf.train.Checkpoint.restore(...).expect_partial(), to silence these warnings, or use assert_consumed() to make the check explicit. See https://www.tensorflow.org/guide/checkpoint#loading_mechanics for details.\n"
     ]
    },
    {
     "name": "stdout",
     "output_type": "stream",
     "text": [
      "WARNING:tensorflow:Unresolved object in checkpoint: (root).step\n"
     ]
    },
    {
     "name": "stderr",
     "output_type": "stream",
     "text": [
      "WARNING:tensorflow:Unresolved object in checkpoint: (root).step\n"
     ]
    },
    {
     "name": "stdout",
     "output_type": "stream",
     "text": [
      "WARNING:tensorflow:Unresolved object in checkpoint: (root).net._training_endpoints\n"
     ]
    },
    {
     "name": "stderr",
     "output_type": "stream",
     "text": [
      "WARNING:tensorflow:Unresolved object in checkpoint: (root).net._training_endpoints\n"
     ]
    },
    {
     "name": "stdout",
     "output_type": "stream",
     "text": [
      "WARNING:tensorflow:Unresolved object in checkpoint: (root).optimizer.iter\n"
     ]
    },
    {
     "name": "stderr",
     "output_type": "stream",
     "text": [
      "WARNING:tensorflow:Unresolved object in checkpoint: (root).optimizer.iter\n"
     ]
    },
    {
     "name": "stdout",
     "output_type": "stream",
     "text": [
      "WARNING:tensorflow:Unresolved object in checkpoint: (root).optimizer.beta_1\n"
     ]
    },
    {
     "name": "stderr",
     "output_type": "stream",
     "text": [
      "WARNING:tensorflow:Unresolved object in checkpoint: (root).optimizer.beta_1\n"
     ]
    },
    {
     "name": "stdout",
     "output_type": "stream",
     "text": [
      "WARNING:tensorflow:Unresolved object in checkpoint: (root).optimizer.beta_2\n"
     ]
    },
    {
     "name": "stderr",
     "output_type": "stream",
     "text": [
      "WARNING:tensorflow:Unresolved object in checkpoint: (root).optimizer.beta_2\n"
     ]
    },
    {
     "name": "stdout",
     "output_type": "stream",
     "text": [
      "WARNING:tensorflow:Unresolved object in checkpoint: (root).optimizer.decay\n"
     ]
    },
    {
     "name": "stderr",
     "output_type": "stream",
     "text": [
      "WARNING:tensorflow:Unresolved object in checkpoint: (root).optimizer.decay\n"
     ]
    },
    {
     "name": "stdout",
     "output_type": "stream",
     "text": [
      "WARNING:tensorflow:Unresolved object in checkpoint: (root).optimizer.min_lr\n"
     ]
    },
    {
     "name": "stderr",
     "output_type": "stream",
     "text": [
      "WARNING:tensorflow:Unresolved object in checkpoint: (root).optimizer.min_lr\n"
     ]
    },
    {
     "name": "stdout",
     "output_type": "stream",
     "text": [
      "WARNING:tensorflow:Unresolved object in checkpoint: (root).optimizer.sma_threshold\n"
     ]
    },
    {
     "name": "stderr",
     "output_type": "stream",
     "text": [
      "WARNING:tensorflow:Unresolved object in checkpoint: (root).optimizer.sma_threshold\n"
     ]
    },
    {
     "name": "stdout",
     "output_type": "stream",
     "text": [
      "WARNING:tensorflow:Unresolved object in checkpoint: (root).optimizer.total_steps\n"
     ]
    },
    {
     "name": "stderr",
     "output_type": "stream",
     "text": [
      "WARNING:tensorflow:Unresolved object in checkpoint: (root).optimizer.total_steps\n"
     ]
    },
    {
     "name": "stdout",
     "output_type": "stream",
     "text": [
      "WARNING:tensorflow:Unresolved object in checkpoint: (root).optimizer.warmup_proportion\n"
     ]
    },
    {
     "name": "stderr",
     "output_type": "stream",
     "text": [
      "WARNING:tensorflow:Unresolved object in checkpoint: (root).optimizer.warmup_proportion\n"
     ]
    },
    {
     "name": "stdout",
     "output_type": "stream",
     "text": [
      "WARNING:tensorflow:Unresolved object in checkpoint: (root).optimizer.weight_decay\n"
     ]
    },
    {
     "name": "stderr",
     "output_type": "stream",
     "text": [
      "WARNING:tensorflow:Unresolved object in checkpoint: (root).optimizer.weight_decay\n"
     ]
    },
    {
     "name": "stdout",
     "output_type": "stream",
     "text": [
      "WARNING:tensorflow:Unresolved object in checkpoint: (root).net.final_dense.kernel\n"
     ]
    },
    {
     "name": "stderr",
     "output_type": "stream",
     "text": [
      "WARNING:tensorflow:Unresolved object in checkpoint: (root).net.final_dense.kernel\n"
     ]
    },
    {
     "name": "stdout",
     "output_type": "stream",
     "text": [
      "WARNING:tensorflow:Unresolved object in checkpoint: (root).net.final_dense.bias\n"
     ]
    },
    {
     "name": "stderr",
     "output_type": "stream",
     "text": [
      "WARNING:tensorflow:Unresolved object in checkpoint: (root).net.final_dense.bias\n"
     ]
    },
    {
     "name": "stdout",
     "output_type": "stream",
     "text": [
      "WARNING:tensorflow:Unresolved object in checkpoint: (root).net.hidden_layers.0.kernel\n"
     ]
    },
    {
     "name": "stderr",
     "output_type": "stream",
     "text": [
      "WARNING:tensorflow:Unresolved object in checkpoint: (root).net.hidden_layers.0.kernel\n"
     ]
    },
    {
     "name": "stdout",
     "output_type": "stream",
     "text": [
      "WARNING:tensorflow:Unresolved object in checkpoint: (root).net.hidden_layers.0.bias\n"
     ]
    },
    {
     "name": "stderr",
     "output_type": "stream",
     "text": [
      "WARNING:tensorflow:Unresolved object in checkpoint: (root).net.hidden_layers.0.bias\n"
     ]
    },
    {
     "name": "stdout",
     "output_type": "stream",
     "text": [
      "WARNING:tensorflow:Unresolved object in checkpoint: (root).net.hidden_layers.1.kernel\n"
     ]
    },
    {
     "name": "stderr",
     "output_type": "stream",
     "text": [
      "WARNING:tensorflow:Unresolved object in checkpoint: (root).net.hidden_layers.1.kernel\n"
     ]
    },
    {
     "name": "stdout",
     "output_type": "stream",
     "text": [
      "WARNING:tensorflow:Unresolved object in checkpoint: (root).net.hidden_layers.1.bias\n"
     ]
    },
    {
     "name": "stderr",
     "output_type": "stream",
     "text": [
      "WARNING:tensorflow:Unresolved object in checkpoint: (root).net.hidden_layers.1.bias\n"
     ]
    },
    {
     "name": "stdout",
     "output_type": "stream",
     "text": [
      "WARNING:tensorflow:Unresolved object in checkpoint: (root).net.hidden_layers.2.kernel\n"
     ]
    },
    {
     "name": "stderr",
     "output_type": "stream",
     "text": [
      "WARNING:tensorflow:Unresolved object in checkpoint: (root).net.hidden_layers.2.kernel\n"
     ]
    },
    {
     "name": "stdout",
     "output_type": "stream",
     "text": [
      "WARNING:tensorflow:Unresolved object in checkpoint: (root).net.hidden_layers.2.bias\n"
     ]
    },
    {
     "name": "stderr",
     "output_type": "stream",
     "text": [
      "WARNING:tensorflow:Unresolved object in checkpoint: (root).net.hidden_layers.2.bias\n"
     ]
    },
    {
     "name": "stdout",
     "output_type": "stream",
     "text": [
      "WARNING:tensorflow:Unresolved object in checkpoint: (root).net.hidden_batch_norms.0.axis\n"
     ]
    },
    {
     "name": "stderr",
     "output_type": "stream",
     "text": [
      "WARNING:tensorflow:Unresolved object in checkpoint: (root).net.hidden_batch_norms.0.axis\n"
     ]
    },
    {
     "name": "stdout",
     "output_type": "stream",
     "text": [
      "WARNING:tensorflow:Unresolved object in checkpoint: (root).net.hidden_batch_norms.0.gamma\n"
     ]
    },
    {
     "name": "stderr",
     "output_type": "stream",
     "text": [
      "WARNING:tensorflow:Unresolved object in checkpoint: (root).net.hidden_batch_norms.0.gamma\n"
     ]
    },
    {
     "name": "stdout",
     "output_type": "stream",
     "text": [
      "WARNING:tensorflow:Unresolved object in checkpoint: (root).net.hidden_batch_norms.0.beta\n"
     ]
    },
    {
     "name": "stderr",
     "output_type": "stream",
     "text": [
      "WARNING:tensorflow:Unresolved object in checkpoint: (root).net.hidden_batch_norms.0.beta\n"
     ]
    },
    {
     "name": "stdout",
     "output_type": "stream",
     "text": [
      "WARNING:tensorflow:Unresolved object in checkpoint: (root).net.hidden_batch_norms.0.moving_mean\n"
     ]
    },
    {
     "name": "stderr",
     "output_type": "stream",
     "text": [
      "WARNING:tensorflow:Unresolved object in checkpoint: (root).net.hidden_batch_norms.0.moving_mean\n"
     ]
    },
    {
     "name": "stdout",
     "output_type": "stream",
     "text": [
      "WARNING:tensorflow:Unresolved object in checkpoint: (root).net.hidden_batch_norms.0.moving_variance\n"
     ]
    },
    {
     "name": "stderr",
     "output_type": "stream",
     "text": [
      "WARNING:tensorflow:Unresolved object in checkpoint: (root).net.hidden_batch_norms.0.moving_variance\n"
     ]
    },
    {
     "name": "stdout",
     "output_type": "stream",
     "text": [
      "WARNING:tensorflow:Unresolved object in checkpoint: (root).net.hidden_batch_norms.1.axis\n"
     ]
    },
    {
     "name": "stderr",
     "output_type": "stream",
     "text": [
      "WARNING:tensorflow:Unresolved object in checkpoint: (root).net.hidden_batch_norms.1.axis\n"
     ]
    },
    {
     "name": "stdout",
     "output_type": "stream",
     "text": [
      "WARNING:tensorflow:Unresolved object in checkpoint: (root).net.hidden_batch_norms.1.gamma\n"
     ]
    },
    {
     "name": "stderr",
     "output_type": "stream",
     "text": [
      "WARNING:tensorflow:Unresolved object in checkpoint: (root).net.hidden_batch_norms.1.gamma\n"
     ]
    },
    {
     "name": "stdout",
     "output_type": "stream",
     "text": [
      "WARNING:tensorflow:Unresolved object in checkpoint: (root).net.hidden_batch_norms.1.beta\n"
     ]
    },
    {
     "name": "stderr",
     "output_type": "stream",
     "text": [
      "WARNING:tensorflow:Unresolved object in checkpoint: (root).net.hidden_batch_norms.1.beta\n"
     ]
    },
    {
     "name": "stdout",
     "output_type": "stream",
     "text": [
      "WARNING:tensorflow:Unresolved object in checkpoint: (root).net.hidden_batch_norms.1.moving_mean\n"
     ]
    },
    {
     "name": "stderr",
     "output_type": "stream",
     "text": [
      "WARNING:tensorflow:Unresolved object in checkpoint: (root).net.hidden_batch_norms.1.moving_mean\n"
     ]
    },
    {
     "name": "stdout",
     "output_type": "stream",
     "text": [
      "WARNING:tensorflow:Unresolved object in checkpoint: (root).net.hidden_batch_norms.1.moving_variance\n"
     ]
    },
    {
     "name": "stderr",
     "output_type": "stream",
     "text": [
      "WARNING:tensorflow:Unresolved object in checkpoint: (root).net.hidden_batch_norms.1.moving_variance\n"
     ]
    },
    {
     "name": "stdout",
     "output_type": "stream",
     "text": [
      "WARNING:tensorflow:Unresolved object in checkpoint: (root).net.hidden_batch_norms.2.axis\n"
     ]
    },
    {
     "name": "stderr",
     "output_type": "stream",
     "text": [
      "WARNING:tensorflow:Unresolved object in checkpoint: (root).net.hidden_batch_norms.2.axis\n"
     ]
    },
    {
     "name": "stdout",
     "output_type": "stream",
     "text": [
      "WARNING:tensorflow:Unresolved object in checkpoint: (root).net.hidden_batch_norms.2.gamma\n"
     ]
    },
    {
     "name": "stderr",
     "output_type": "stream",
     "text": [
      "WARNING:tensorflow:Unresolved object in checkpoint: (root).net.hidden_batch_norms.2.gamma\n"
     ]
    },
    {
     "name": "stdout",
     "output_type": "stream",
     "text": [
      "WARNING:tensorflow:Unresolved object in checkpoint: (root).net.hidden_batch_norms.2.beta\n"
     ]
    },
    {
     "name": "stderr",
     "output_type": "stream",
     "text": [
      "WARNING:tensorflow:Unresolved object in checkpoint: (root).net.hidden_batch_norms.2.beta\n"
     ]
    },
    {
     "name": "stdout",
     "output_type": "stream",
     "text": [
      "WARNING:tensorflow:Unresolved object in checkpoint: (root).net.hidden_batch_norms.2.moving_mean\n"
     ]
    },
    {
     "name": "stderr",
     "output_type": "stream",
     "text": [
      "WARNING:tensorflow:Unresolved object in checkpoint: (root).net.hidden_batch_norms.2.moving_mean\n"
     ]
    },
    {
     "name": "stdout",
     "output_type": "stream",
     "text": [
      "WARNING:tensorflow:Unresolved object in checkpoint: (root).net.hidden_batch_norms.2.moving_variance\n"
     ]
    },
    {
     "name": "stderr",
     "output_type": "stream",
     "text": [
      "WARNING:tensorflow:Unresolved object in checkpoint: (root).net.hidden_batch_norms.2.moving_variance\n"
     ]
    },
    {
     "name": "stdout",
     "output_type": "stream",
     "text": [
      "WARNING:tensorflow:Unresolved object in checkpoint: (root).optimizer's state 'm' for (root).net.final_dense.kernel\n"
     ]
    },
    {
     "name": "stderr",
     "output_type": "stream",
     "text": [
      "WARNING:tensorflow:Unresolved object in checkpoint: (root).optimizer's state 'm' for (root).net.final_dense.kernel\n"
     ]
    },
    {
     "name": "stdout",
     "output_type": "stream",
     "text": [
      "WARNING:tensorflow:Unresolved object in checkpoint: (root).optimizer's state 'm' for (root).net.final_dense.bias\n"
     ]
    },
    {
     "name": "stderr",
     "output_type": "stream",
     "text": [
      "WARNING:tensorflow:Unresolved object in checkpoint: (root).optimizer's state 'm' for (root).net.final_dense.bias\n"
     ]
    },
    {
     "name": "stdout",
     "output_type": "stream",
     "text": [
      "WARNING:tensorflow:Unresolved object in checkpoint: (root).optimizer's state 'm' for (root).net.hidden_layers.0.kernel\n"
     ]
    },
    {
     "name": "stderr",
     "output_type": "stream",
     "text": [
      "WARNING:tensorflow:Unresolved object in checkpoint: (root).optimizer's state 'm' for (root).net.hidden_layers.0.kernel\n"
     ]
    },
    {
     "name": "stdout",
     "output_type": "stream",
     "text": [
      "WARNING:tensorflow:Unresolved object in checkpoint: (root).optimizer's state 'm' for (root).net.hidden_layers.0.bias\n"
     ]
    },
    {
     "name": "stderr",
     "output_type": "stream",
     "text": [
      "WARNING:tensorflow:Unresolved object in checkpoint: (root).optimizer's state 'm' for (root).net.hidden_layers.0.bias\n"
     ]
    },
    {
     "name": "stdout",
     "output_type": "stream",
     "text": [
      "WARNING:tensorflow:Unresolved object in checkpoint: (root).optimizer's state 'm' for (root).net.hidden_layers.1.kernel\n"
     ]
    },
    {
     "name": "stderr",
     "output_type": "stream",
     "text": [
      "WARNING:tensorflow:Unresolved object in checkpoint: (root).optimizer's state 'm' for (root).net.hidden_layers.1.kernel\n"
     ]
    },
    {
     "name": "stdout",
     "output_type": "stream",
     "text": [
      "WARNING:tensorflow:Unresolved object in checkpoint: (root).optimizer's state 'm' for (root).net.hidden_layers.1.bias\n"
     ]
    },
    {
     "name": "stderr",
     "output_type": "stream",
     "text": [
      "WARNING:tensorflow:Unresolved object in checkpoint: (root).optimizer's state 'm' for (root).net.hidden_layers.1.bias\n"
     ]
    },
    {
     "name": "stdout",
     "output_type": "stream",
     "text": [
      "WARNING:tensorflow:Unresolved object in checkpoint: (root).optimizer's state 'm' for (root).net.hidden_layers.2.kernel\n"
     ]
    },
    {
     "name": "stderr",
     "output_type": "stream",
     "text": [
      "WARNING:tensorflow:Unresolved object in checkpoint: (root).optimizer's state 'm' for (root).net.hidden_layers.2.kernel\n"
     ]
    },
    {
     "name": "stdout",
     "output_type": "stream",
     "text": [
      "WARNING:tensorflow:Unresolved object in checkpoint: (root).optimizer's state 'm' for (root).net.hidden_layers.2.bias\n"
     ]
    },
    {
     "name": "stderr",
     "output_type": "stream",
     "text": [
      "WARNING:tensorflow:Unresolved object in checkpoint: (root).optimizer's state 'm' for (root).net.hidden_layers.2.bias\n"
     ]
    },
    {
     "name": "stdout",
     "output_type": "stream",
     "text": [
      "WARNING:tensorflow:Unresolved object in checkpoint: (root).optimizer's state 'm' for (root).net.hidden_batch_norms.0.gamma\n"
     ]
    },
    {
     "name": "stderr",
     "output_type": "stream",
     "text": [
      "WARNING:tensorflow:Unresolved object in checkpoint: (root).optimizer's state 'm' for (root).net.hidden_batch_norms.0.gamma\n"
     ]
    },
    {
     "name": "stdout",
     "output_type": "stream",
     "text": [
      "WARNING:tensorflow:Unresolved object in checkpoint: (root).optimizer's state 'm' for (root).net.hidden_batch_norms.0.beta\n"
     ]
    },
    {
     "name": "stderr",
     "output_type": "stream",
     "text": [
      "WARNING:tensorflow:Unresolved object in checkpoint: (root).optimizer's state 'm' for (root).net.hidden_batch_norms.0.beta\n"
     ]
    },
    {
     "name": "stdout",
     "output_type": "stream",
     "text": [
      "WARNING:tensorflow:Unresolved object in checkpoint: (root).optimizer's state 'm' for (root).net.hidden_batch_norms.1.gamma\n"
     ]
    },
    {
     "name": "stderr",
     "output_type": "stream",
     "text": [
      "WARNING:tensorflow:Unresolved object in checkpoint: (root).optimizer's state 'm' for (root).net.hidden_batch_norms.1.gamma\n"
     ]
    },
    {
     "name": "stdout",
     "output_type": "stream",
     "text": [
      "WARNING:tensorflow:Unresolved object in checkpoint: (root).optimizer's state 'm' for (root).net.hidden_batch_norms.1.beta\n"
     ]
    },
    {
     "name": "stderr",
     "output_type": "stream",
     "text": [
      "WARNING:tensorflow:Unresolved object in checkpoint: (root).optimizer's state 'm' for (root).net.hidden_batch_norms.1.beta\n"
     ]
    },
    {
     "name": "stdout",
     "output_type": "stream",
     "text": [
      "WARNING:tensorflow:Unresolved object in checkpoint: (root).optimizer's state 'm' for (root).net.hidden_batch_norms.2.gamma\n"
     ]
    },
    {
     "name": "stderr",
     "output_type": "stream",
     "text": [
      "WARNING:tensorflow:Unresolved object in checkpoint: (root).optimizer's state 'm' for (root).net.hidden_batch_norms.2.gamma\n"
     ]
    },
    {
     "name": "stdout",
     "output_type": "stream",
     "text": [
      "WARNING:tensorflow:Unresolved object in checkpoint: (root).optimizer's state 'm' for (root).net.hidden_batch_norms.2.beta\n"
     ]
    },
    {
     "name": "stderr",
     "output_type": "stream",
     "text": [
      "WARNING:tensorflow:Unresolved object in checkpoint: (root).optimizer's state 'm' for (root).net.hidden_batch_norms.2.beta\n"
     ]
    },
    {
     "name": "stdout",
     "output_type": "stream",
     "text": [
      "WARNING:tensorflow:Unresolved object in checkpoint: (root).optimizer's state 'v' for (root).net.final_dense.kernel\n"
     ]
    },
    {
     "name": "stderr",
     "output_type": "stream",
     "text": [
      "WARNING:tensorflow:Unresolved object in checkpoint: (root).optimizer's state 'v' for (root).net.final_dense.kernel\n"
     ]
    },
    {
     "name": "stdout",
     "output_type": "stream",
     "text": [
      "WARNING:tensorflow:Unresolved object in checkpoint: (root).optimizer's state 'v' for (root).net.final_dense.bias\n"
     ]
    },
    {
     "name": "stderr",
     "output_type": "stream",
     "text": [
      "WARNING:tensorflow:Unresolved object in checkpoint: (root).optimizer's state 'v' for (root).net.final_dense.bias\n"
     ]
    },
    {
     "name": "stdout",
     "output_type": "stream",
     "text": [
      "WARNING:tensorflow:Unresolved object in checkpoint: (root).optimizer's state 'v' for (root).net.hidden_layers.0.kernel\n"
     ]
    },
    {
     "name": "stderr",
     "output_type": "stream",
     "text": [
      "WARNING:tensorflow:Unresolved object in checkpoint: (root).optimizer's state 'v' for (root).net.hidden_layers.0.kernel\n"
     ]
    },
    {
     "name": "stdout",
     "output_type": "stream",
     "text": [
      "WARNING:tensorflow:Unresolved object in checkpoint: (root).optimizer's state 'v' for (root).net.hidden_layers.0.bias\n"
     ]
    },
    {
     "name": "stderr",
     "output_type": "stream",
     "text": [
      "WARNING:tensorflow:Unresolved object in checkpoint: (root).optimizer's state 'v' for (root).net.hidden_layers.0.bias\n"
     ]
    },
    {
     "name": "stdout",
     "output_type": "stream",
     "text": [
      "WARNING:tensorflow:Unresolved object in checkpoint: (root).optimizer's state 'v' for (root).net.hidden_layers.1.kernel\n"
     ]
    },
    {
     "name": "stderr",
     "output_type": "stream",
     "text": [
      "WARNING:tensorflow:Unresolved object in checkpoint: (root).optimizer's state 'v' for (root).net.hidden_layers.1.kernel\n"
     ]
    },
    {
     "name": "stdout",
     "output_type": "stream",
     "text": [
      "WARNING:tensorflow:Unresolved object in checkpoint: (root).optimizer's state 'v' for (root).net.hidden_layers.1.bias\n"
     ]
    },
    {
     "name": "stderr",
     "output_type": "stream",
     "text": [
      "WARNING:tensorflow:Unresolved object in checkpoint: (root).optimizer's state 'v' for (root).net.hidden_layers.1.bias\n"
     ]
    },
    {
     "name": "stdout",
     "output_type": "stream",
     "text": [
      "WARNING:tensorflow:Unresolved object in checkpoint: (root).optimizer's state 'v' for (root).net.hidden_layers.2.kernel\n"
     ]
    },
    {
     "name": "stderr",
     "output_type": "stream",
     "text": [
      "WARNING:tensorflow:Unresolved object in checkpoint: (root).optimizer's state 'v' for (root).net.hidden_layers.2.kernel\n"
     ]
    },
    {
     "name": "stdout",
     "output_type": "stream",
     "text": [
      "WARNING:tensorflow:Unresolved object in checkpoint: (root).optimizer's state 'v' for (root).net.hidden_layers.2.bias\n"
     ]
    },
    {
     "name": "stderr",
     "output_type": "stream",
     "text": [
      "WARNING:tensorflow:Unresolved object in checkpoint: (root).optimizer's state 'v' for (root).net.hidden_layers.2.bias\n"
     ]
    },
    {
     "name": "stdout",
     "output_type": "stream",
     "text": [
      "WARNING:tensorflow:Unresolved object in checkpoint: (root).optimizer's state 'v' for (root).net.hidden_batch_norms.0.gamma\n"
     ]
    },
    {
     "name": "stderr",
     "output_type": "stream",
     "text": [
      "WARNING:tensorflow:Unresolved object in checkpoint: (root).optimizer's state 'v' for (root).net.hidden_batch_norms.0.gamma\n"
     ]
    },
    {
     "name": "stdout",
     "output_type": "stream",
     "text": [
      "WARNING:tensorflow:Unresolved object in checkpoint: (root).optimizer's state 'v' for (root).net.hidden_batch_norms.0.beta\n"
     ]
    },
    {
     "name": "stderr",
     "output_type": "stream",
     "text": [
      "WARNING:tensorflow:Unresolved object in checkpoint: (root).optimizer's state 'v' for (root).net.hidden_batch_norms.0.beta\n"
     ]
    },
    {
     "name": "stdout",
     "output_type": "stream",
     "text": [
      "WARNING:tensorflow:Unresolved object in checkpoint: (root).optimizer's state 'v' for (root).net.hidden_batch_norms.1.gamma\n"
     ]
    },
    {
     "name": "stderr",
     "output_type": "stream",
     "text": [
      "WARNING:tensorflow:Unresolved object in checkpoint: (root).optimizer's state 'v' for (root).net.hidden_batch_norms.1.gamma\n"
     ]
    },
    {
     "name": "stdout",
     "output_type": "stream",
     "text": [
      "WARNING:tensorflow:Unresolved object in checkpoint: (root).optimizer's state 'v' for (root).net.hidden_batch_norms.1.beta\n"
     ]
    },
    {
     "name": "stderr",
     "output_type": "stream",
     "text": [
      "WARNING:tensorflow:Unresolved object in checkpoint: (root).optimizer's state 'v' for (root).net.hidden_batch_norms.1.beta\n"
     ]
    },
    {
     "name": "stdout",
     "output_type": "stream",
     "text": [
      "WARNING:tensorflow:Unresolved object in checkpoint: (root).optimizer's state 'v' for (root).net.hidden_batch_norms.2.gamma\n"
     ]
    },
    {
     "name": "stderr",
     "output_type": "stream",
     "text": [
      "WARNING:tensorflow:Unresolved object in checkpoint: (root).optimizer's state 'v' for (root).net.hidden_batch_norms.2.gamma\n"
     ]
    },
    {
     "name": "stdout",
     "output_type": "stream",
     "text": [
      "WARNING:tensorflow:Unresolved object in checkpoint: (root).optimizer's state 'v' for (root).net.hidden_batch_norms.2.beta\n"
     ]
    },
    {
     "name": "stderr",
     "output_type": "stream",
     "text": [
      "WARNING:tensorflow:Unresolved object in checkpoint: (root).optimizer's state 'v' for (root).net.hidden_batch_norms.2.beta\n"
     ]
    },
    {
     "name": "stdout",
     "output_type": "stream",
     "text": [
      "WARNING:tensorflow:A checkpoint was restored (e.g. tf.train.Checkpoint.restore or tf.keras.Model.load_weights) but not all checkpointed values were used. See above for specific issues. Use expect_partial() on the load status object, e.g. tf.train.Checkpoint.restore(...).expect_partial(), to silence these warnings, or use assert_consumed() to make the check explicit. See https://www.tensorflow.org/guide/checkpoint#loading_mechanics for details.\n"
     ]
    },
    {
     "name": "stderr",
     "output_type": "stream",
     "text": [
      "WARNING:tensorflow:A checkpoint was restored (e.g. tf.train.Checkpoint.restore or tf.keras.Model.load_weights) but not all checkpointed values were used. See above for specific issues. Use expect_partial() on the load status object, e.g. tf.train.Checkpoint.restore(...).expect_partial(), to silence these warnings, or use assert_consumed() to make the check explicit. See https://www.tensorflow.org/guide/checkpoint#loading_mechanics for details.\n"
     ]
    },
    {
     "name": "stdout",
     "output_type": "stream",
     "text": [
      "WARNING:tensorflow:Unresolved object in checkpoint: (root).step\n"
     ]
    },
    {
     "name": "stderr",
     "output_type": "stream",
     "text": [
      "WARNING:tensorflow:Unresolved object in checkpoint: (root).step\n"
     ]
    },
    {
     "name": "stdout",
     "output_type": "stream",
     "text": [
      "WARNING:tensorflow:Unresolved object in checkpoint: (root).net._training_endpoints\n"
     ]
    },
    {
     "name": "stderr",
     "output_type": "stream",
     "text": [
      "WARNING:tensorflow:Unresolved object in checkpoint: (root).net._training_endpoints\n"
     ]
    },
    {
     "name": "stdout",
     "output_type": "stream",
     "text": [
      "WARNING:tensorflow:Unresolved object in checkpoint: (root).optimizer.iter\n"
     ]
    },
    {
     "name": "stderr",
     "output_type": "stream",
     "text": [
      "WARNING:tensorflow:Unresolved object in checkpoint: (root).optimizer.iter\n"
     ]
    },
    {
     "name": "stdout",
     "output_type": "stream",
     "text": [
      "WARNING:tensorflow:Unresolved object in checkpoint: (root).optimizer.beta_1\n"
     ]
    },
    {
     "name": "stderr",
     "output_type": "stream",
     "text": [
      "WARNING:tensorflow:Unresolved object in checkpoint: (root).optimizer.beta_1\n"
     ]
    },
    {
     "name": "stdout",
     "output_type": "stream",
     "text": [
      "WARNING:tensorflow:Unresolved object in checkpoint: (root).optimizer.beta_2\n"
     ]
    },
    {
     "name": "stderr",
     "output_type": "stream",
     "text": [
      "WARNING:tensorflow:Unresolved object in checkpoint: (root).optimizer.beta_2\n"
     ]
    },
    {
     "name": "stdout",
     "output_type": "stream",
     "text": [
      "WARNING:tensorflow:Unresolved object in checkpoint: (root).optimizer.decay\n"
     ]
    },
    {
     "name": "stderr",
     "output_type": "stream",
     "text": [
      "WARNING:tensorflow:Unresolved object in checkpoint: (root).optimizer.decay\n"
     ]
    },
    {
     "name": "stdout",
     "output_type": "stream",
     "text": [
      "WARNING:tensorflow:Unresolved object in checkpoint: (root).optimizer.min_lr\n"
     ]
    },
    {
     "name": "stderr",
     "output_type": "stream",
     "text": [
      "WARNING:tensorflow:Unresolved object in checkpoint: (root).optimizer.min_lr\n"
     ]
    },
    {
     "name": "stdout",
     "output_type": "stream",
     "text": [
      "WARNING:tensorflow:Unresolved object in checkpoint: (root).optimizer.sma_threshold\n"
     ]
    },
    {
     "name": "stderr",
     "output_type": "stream",
     "text": [
      "WARNING:tensorflow:Unresolved object in checkpoint: (root).optimizer.sma_threshold\n"
     ]
    },
    {
     "name": "stdout",
     "output_type": "stream",
     "text": [
      "WARNING:tensorflow:Unresolved object in checkpoint: (root).optimizer.total_steps\n"
     ]
    },
    {
     "name": "stderr",
     "output_type": "stream",
     "text": [
      "WARNING:tensorflow:Unresolved object in checkpoint: (root).optimizer.total_steps\n"
     ]
    },
    {
     "name": "stdout",
     "output_type": "stream",
     "text": [
      "WARNING:tensorflow:Unresolved object in checkpoint: (root).optimizer.warmup_proportion\n"
     ]
    },
    {
     "name": "stderr",
     "output_type": "stream",
     "text": [
      "WARNING:tensorflow:Unresolved object in checkpoint: (root).optimizer.warmup_proportion\n"
     ]
    },
    {
     "name": "stdout",
     "output_type": "stream",
     "text": [
      "WARNING:tensorflow:Unresolved object in checkpoint: (root).optimizer.weight_decay\n"
     ]
    },
    {
     "name": "stderr",
     "output_type": "stream",
     "text": [
      "WARNING:tensorflow:Unresolved object in checkpoint: (root).optimizer.weight_decay\n"
     ]
    },
    {
     "name": "stdout",
     "output_type": "stream",
     "text": [
      "WARNING:tensorflow:Unresolved object in checkpoint: (root).net.final_dense.kernel\n"
     ]
    },
    {
     "name": "stderr",
     "output_type": "stream",
     "text": [
      "WARNING:tensorflow:Unresolved object in checkpoint: (root).net.final_dense.kernel\n"
     ]
    },
    {
     "name": "stdout",
     "output_type": "stream",
     "text": [
      "WARNING:tensorflow:Unresolved object in checkpoint: (root).net.final_dense.bias\n"
     ]
    },
    {
     "name": "stderr",
     "output_type": "stream",
     "text": [
      "WARNING:tensorflow:Unresolved object in checkpoint: (root).net.final_dense.bias\n"
     ]
    },
    {
     "name": "stdout",
     "output_type": "stream",
     "text": [
      "WARNING:tensorflow:Unresolved object in checkpoint: (root).net.hidden_layers.0.kernel\n"
     ]
    },
    {
     "name": "stderr",
     "output_type": "stream",
     "text": [
      "WARNING:tensorflow:Unresolved object in checkpoint: (root).net.hidden_layers.0.kernel\n"
     ]
    },
    {
     "name": "stdout",
     "output_type": "stream",
     "text": [
      "WARNING:tensorflow:Unresolved object in checkpoint: (root).net.hidden_layers.0.bias\n"
     ]
    },
    {
     "name": "stderr",
     "output_type": "stream",
     "text": [
      "WARNING:tensorflow:Unresolved object in checkpoint: (root).net.hidden_layers.0.bias\n"
     ]
    },
    {
     "name": "stdout",
     "output_type": "stream",
     "text": [
      "WARNING:tensorflow:Unresolved object in checkpoint: (root).net.hidden_layers.1.kernel\n"
     ]
    },
    {
     "name": "stderr",
     "output_type": "stream",
     "text": [
      "WARNING:tensorflow:Unresolved object in checkpoint: (root).net.hidden_layers.1.kernel\n"
     ]
    },
    {
     "name": "stdout",
     "output_type": "stream",
     "text": [
      "WARNING:tensorflow:Unresolved object in checkpoint: (root).net.hidden_layers.1.bias\n"
     ]
    },
    {
     "name": "stderr",
     "output_type": "stream",
     "text": [
      "WARNING:tensorflow:Unresolved object in checkpoint: (root).net.hidden_layers.1.bias\n"
     ]
    },
    {
     "name": "stdout",
     "output_type": "stream",
     "text": [
      "WARNING:tensorflow:Unresolved object in checkpoint: (root).net.hidden_layers.2.kernel\n"
     ]
    },
    {
     "name": "stderr",
     "output_type": "stream",
     "text": [
      "WARNING:tensorflow:Unresolved object in checkpoint: (root).net.hidden_layers.2.kernel\n"
     ]
    },
    {
     "name": "stdout",
     "output_type": "stream",
     "text": [
      "WARNING:tensorflow:Unresolved object in checkpoint: (root).net.hidden_layers.2.bias\n"
     ]
    },
    {
     "name": "stderr",
     "output_type": "stream",
     "text": [
      "WARNING:tensorflow:Unresolved object in checkpoint: (root).net.hidden_layers.2.bias\n"
     ]
    },
    {
     "name": "stdout",
     "output_type": "stream",
     "text": [
      "WARNING:tensorflow:Unresolved object in checkpoint: (root).net.hidden_batch_norms.0.axis\n"
     ]
    },
    {
     "name": "stderr",
     "output_type": "stream",
     "text": [
      "WARNING:tensorflow:Unresolved object in checkpoint: (root).net.hidden_batch_norms.0.axis\n"
     ]
    },
    {
     "name": "stdout",
     "output_type": "stream",
     "text": [
      "WARNING:tensorflow:Unresolved object in checkpoint: (root).net.hidden_batch_norms.0.gamma\n"
     ]
    },
    {
     "name": "stderr",
     "output_type": "stream",
     "text": [
      "WARNING:tensorflow:Unresolved object in checkpoint: (root).net.hidden_batch_norms.0.gamma\n"
     ]
    },
    {
     "name": "stdout",
     "output_type": "stream",
     "text": [
      "WARNING:tensorflow:Unresolved object in checkpoint: (root).net.hidden_batch_norms.0.beta\n"
     ]
    },
    {
     "name": "stderr",
     "output_type": "stream",
     "text": [
      "WARNING:tensorflow:Unresolved object in checkpoint: (root).net.hidden_batch_norms.0.beta\n"
     ]
    },
    {
     "name": "stdout",
     "output_type": "stream",
     "text": [
      "WARNING:tensorflow:Unresolved object in checkpoint: (root).net.hidden_batch_norms.0.moving_mean\n"
     ]
    },
    {
     "name": "stderr",
     "output_type": "stream",
     "text": [
      "WARNING:tensorflow:Unresolved object in checkpoint: (root).net.hidden_batch_norms.0.moving_mean\n"
     ]
    },
    {
     "name": "stdout",
     "output_type": "stream",
     "text": [
      "WARNING:tensorflow:Unresolved object in checkpoint: (root).net.hidden_batch_norms.0.moving_variance\n"
     ]
    },
    {
     "name": "stderr",
     "output_type": "stream",
     "text": [
      "WARNING:tensorflow:Unresolved object in checkpoint: (root).net.hidden_batch_norms.0.moving_variance\n"
     ]
    },
    {
     "name": "stdout",
     "output_type": "stream",
     "text": [
      "WARNING:tensorflow:Unresolved object in checkpoint: (root).net.hidden_batch_norms.1.axis\n"
     ]
    },
    {
     "name": "stderr",
     "output_type": "stream",
     "text": [
      "WARNING:tensorflow:Unresolved object in checkpoint: (root).net.hidden_batch_norms.1.axis\n"
     ]
    },
    {
     "name": "stdout",
     "output_type": "stream",
     "text": [
      "WARNING:tensorflow:Unresolved object in checkpoint: (root).net.hidden_batch_norms.1.gamma\n"
     ]
    },
    {
     "name": "stderr",
     "output_type": "stream",
     "text": [
      "WARNING:tensorflow:Unresolved object in checkpoint: (root).net.hidden_batch_norms.1.gamma\n"
     ]
    },
    {
     "name": "stdout",
     "output_type": "stream",
     "text": [
      "WARNING:tensorflow:Unresolved object in checkpoint: (root).net.hidden_batch_norms.1.beta\n"
     ]
    },
    {
     "name": "stderr",
     "output_type": "stream",
     "text": [
      "WARNING:tensorflow:Unresolved object in checkpoint: (root).net.hidden_batch_norms.1.beta\n"
     ]
    },
    {
     "name": "stdout",
     "output_type": "stream",
     "text": [
      "WARNING:tensorflow:Unresolved object in checkpoint: (root).net.hidden_batch_norms.1.moving_mean\n"
     ]
    },
    {
     "name": "stderr",
     "output_type": "stream",
     "text": [
      "WARNING:tensorflow:Unresolved object in checkpoint: (root).net.hidden_batch_norms.1.moving_mean\n"
     ]
    },
    {
     "name": "stdout",
     "output_type": "stream",
     "text": [
      "WARNING:tensorflow:Unresolved object in checkpoint: (root).net.hidden_batch_norms.1.moving_variance\n"
     ]
    },
    {
     "name": "stderr",
     "output_type": "stream",
     "text": [
      "WARNING:tensorflow:Unresolved object in checkpoint: (root).net.hidden_batch_norms.1.moving_variance\n"
     ]
    },
    {
     "name": "stdout",
     "output_type": "stream",
     "text": [
      "WARNING:tensorflow:Unresolved object in checkpoint: (root).net.hidden_batch_norms.2.axis\n"
     ]
    },
    {
     "name": "stderr",
     "output_type": "stream",
     "text": [
      "WARNING:tensorflow:Unresolved object in checkpoint: (root).net.hidden_batch_norms.2.axis\n"
     ]
    },
    {
     "name": "stdout",
     "output_type": "stream",
     "text": [
      "WARNING:tensorflow:Unresolved object in checkpoint: (root).net.hidden_batch_norms.2.gamma\n"
     ]
    },
    {
     "name": "stderr",
     "output_type": "stream",
     "text": [
      "WARNING:tensorflow:Unresolved object in checkpoint: (root).net.hidden_batch_norms.2.gamma\n"
     ]
    },
    {
     "name": "stdout",
     "output_type": "stream",
     "text": [
      "WARNING:tensorflow:Unresolved object in checkpoint: (root).net.hidden_batch_norms.2.beta\n"
     ]
    },
    {
     "name": "stderr",
     "output_type": "stream",
     "text": [
      "WARNING:tensorflow:Unresolved object in checkpoint: (root).net.hidden_batch_norms.2.beta\n"
     ]
    },
    {
     "name": "stdout",
     "output_type": "stream",
     "text": [
      "WARNING:tensorflow:Unresolved object in checkpoint: (root).net.hidden_batch_norms.2.moving_mean\n"
     ]
    },
    {
     "name": "stderr",
     "output_type": "stream",
     "text": [
      "WARNING:tensorflow:Unresolved object in checkpoint: (root).net.hidden_batch_norms.2.moving_mean\n"
     ]
    },
    {
     "name": "stdout",
     "output_type": "stream",
     "text": [
      "WARNING:tensorflow:Unresolved object in checkpoint: (root).net.hidden_batch_norms.2.moving_variance\n"
     ]
    },
    {
     "name": "stderr",
     "output_type": "stream",
     "text": [
      "WARNING:tensorflow:Unresolved object in checkpoint: (root).net.hidden_batch_norms.2.moving_variance\n"
     ]
    },
    {
     "name": "stdout",
     "output_type": "stream",
     "text": [
      "WARNING:tensorflow:Unresolved object in checkpoint: (root).optimizer's state 'm' for (root).net.final_dense.kernel\n"
     ]
    },
    {
     "name": "stderr",
     "output_type": "stream",
     "text": [
      "WARNING:tensorflow:Unresolved object in checkpoint: (root).optimizer's state 'm' for (root).net.final_dense.kernel\n"
     ]
    },
    {
     "name": "stdout",
     "output_type": "stream",
     "text": [
      "WARNING:tensorflow:Unresolved object in checkpoint: (root).optimizer's state 'm' for (root).net.final_dense.bias\n"
     ]
    },
    {
     "name": "stderr",
     "output_type": "stream",
     "text": [
      "WARNING:tensorflow:Unresolved object in checkpoint: (root).optimizer's state 'm' for (root).net.final_dense.bias\n"
     ]
    },
    {
     "name": "stdout",
     "output_type": "stream",
     "text": [
      "WARNING:tensorflow:Unresolved object in checkpoint: (root).optimizer's state 'm' for (root).net.hidden_layers.0.kernel\n"
     ]
    },
    {
     "name": "stderr",
     "output_type": "stream",
     "text": [
      "WARNING:tensorflow:Unresolved object in checkpoint: (root).optimizer's state 'm' for (root).net.hidden_layers.0.kernel\n"
     ]
    },
    {
     "name": "stdout",
     "output_type": "stream",
     "text": [
      "WARNING:tensorflow:Unresolved object in checkpoint: (root).optimizer's state 'm' for (root).net.hidden_layers.0.bias\n"
     ]
    },
    {
     "name": "stderr",
     "output_type": "stream",
     "text": [
      "WARNING:tensorflow:Unresolved object in checkpoint: (root).optimizer's state 'm' for (root).net.hidden_layers.0.bias\n"
     ]
    },
    {
     "name": "stdout",
     "output_type": "stream",
     "text": [
      "WARNING:tensorflow:Unresolved object in checkpoint: (root).optimizer's state 'm' for (root).net.hidden_layers.1.kernel\n"
     ]
    },
    {
     "name": "stderr",
     "output_type": "stream",
     "text": [
      "WARNING:tensorflow:Unresolved object in checkpoint: (root).optimizer's state 'm' for (root).net.hidden_layers.1.kernel\n"
     ]
    },
    {
     "name": "stdout",
     "output_type": "stream",
     "text": [
      "WARNING:tensorflow:Unresolved object in checkpoint: (root).optimizer's state 'm' for (root).net.hidden_layers.1.bias\n"
     ]
    },
    {
     "name": "stderr",
     "output_type": "stream",
     "text": [
      "WARNING:tensorflow:Unresolved object in checkpoint: (root).optimizer's state 'm' for (root).net.hidden_layers.1.bias\n"
     ]
    },
    {
     "name": "stdout",
     "output_type": "stream",
     "text": [
      "WARNING:tensorflow:Unresolved object in checkpoint: (root).optimizer's state 'm' for (root).net.hidden_layers.2.kernel\n"
     ]
    },
    {
     "name": "stderr",
     "output_type": "stream",
     "text": [
      "WARNING:tensorflow:Unresolved object in checkpoint: (root).optimizer's state 'm' for (root).net.hidden_layers.2.kernel\n"
     ]
    },
    {
     "name": "stdout",
     "output_type": "stream",
     "text": [
      "WARNING:tensorflow:Unresolved object in checkpoint: (root).optimizer's state 'm' for (root).net.hidden_layers.2.bias\n"
     ]
    },
    {
     "name": "stderr",
     "output_type": "stream",
     "text": [
      "WARNING:tensorflow:Unresolved object in checkpoint: (root).optimizer's state 'm' for (root).net.hidden_layers.2.bias\n"
     ]
    },
    {
     "name": "stdout",
     "output_type": "stream",
     "text": [
      "WARNING:tensorflow:Unresolved object in checkpoint: (root).optimizer's state 'm' for (root).net.hidden_batch_norms.0.gamma\n"
     ]
    },
    {
     "name": "stderr",
     "output_type": "stream",
     "text": [
      "WARNING:tensorflow:Unresolved object in checkpoint: (root).optimizer's state 'm' for (root).net.hidden_batch_norms.0.gamma\n"
     ]
    },
    {
     "name": "stdout",
     "output_type": "stream",
     "text": [
      "WARNING:tensorflow:Unresolved object in checkpoint: (root).optimizer's state 'm' for (root).net.hidden_batch_norms.0.beta\n"
     ]
    },
    {
     "name": "stderr",
     "output_type": "stream",
     "text": [
      "WARNING:tensorflow:Unresolved object in checkpoint: (root).optimizer's state 'm' for (root).net.hidden_batch_norms.0.beta\n"
     ]
    },
    {
     "name": "stdout",
     "output_type": "stream",
     "text": [
      "WARNING:tensorflow:Unresolved object in checkpoint: (root).optimizer's state 'm' for (root).net.hidden_batch_norms.1.gamma\n"
     ]
    },
    {
     "name": "stderr",
     "output_type": "stream",
     "text": [
      "WARNING:tensorflow:Unresolved object in checkpoint: (root).optimizer's state 'm' for (root).net.hidden_batch_norms.1.gamma\n"
     ]
    },
    {
     "name": "stdout",
     "output_type": "stream",
     "text": [
      "WARNING:tensorflow:Unresolved object in checkpoint: (root).optimizer's state 'm' for (root).net.hidden_batch_norms.1.beta\n"
     ]
    },
    {
     "name": "stderr",
     "output_type": "stream",
     "text": [
      "WARNING:tensorflow:Unresolved object in checkpoint: (root).optimizer's state 'm' for (root).net.hidden_batch_norms.1.beta\n"
     ]
    },
    {
     "name": "stdout",
     "output_type": "stream",
     "text": [
      "WARNING:tensorflow:Unresolved object in checkpoint: (root).optimizer's state 'm' for (root).net.hidden_batch_norms.2.gamma\n"
     ]
    },
    {
     "name": "stderr",
     "output_type": "stream",
     "text": [
      "WARNING:tensorflow:Unresolved object in checkpoint: (root).optimizer's state 'm' for (root).net.hidden_batch_norms.2.gamma\n"
     ]
    },
    {
     "name": "stdout",
     "output_type": "stream",
     "text": [
      "WARNING:tensorflow:Unresolved object in checkpoint: (root).optimizer's state 'm' for (root).net.hidden_batch_norms.2.beta\n"
     ]
    },
    {
     "name": "stderr",
     "output_type": "stream",
     "text": [
      "WARNING:tensorflow:Unresolved object in checkpoint: (root).optimizer's state 'm' for (root).net.hidden_batch_norms.2.beta\n"
     ]
    },
    {
     "name": "stdout",
     "output_type": "stream",
     "text": [
      "WARNING:tensorflow:Unresolved object in checkpoint: (root).optimizer's state 'v' for (root).net.final_dense.kernel\n"
     ]
    },
    {
     "name": "stderr",
     "output_type": "stream",
     "text": [
      "WARNING:tensorflow:Unresolved object in checkpoint: (root).optimizer's state 'v' for (root).net.final_dense.kernel\n"
     ]
    },
    {
     "name": "stdout",
     "output_type": "stream",
     "text": [
      "WARNING:tensorflow:Unresolved object in checkpoint: (root).optimizer's state 'v' for (root).net.final_dense.bias\n"
     ]
    },
    {
     "name": "stderr",
     "output_type": "stream",
     "text": [
      "WARNING:tensorflow:Unresolved object in checkpoint: (root).optimizer's state 'v' for (root).net.final_dense.bias\n"
     ]
    },
    {
     "name": "stdout",
     "output_type": "stream",
     "text": [
      "WARNING:tensorflow:Unresolved object in checkpoint: (root).optimizer's state 'v' for (root).net.hidden_layers.0.kernel\n"
     ]
    },
    {
     "name": "stderr",
     "output_type": "stream",
     "text": [
      "WARNING:tensorflow:Unresolved object in checkpoint: (root).optimizer's state 'v' for (root).net.hidden_layers.0.kernel\n"
     ]
    },
    {
     "name": "stdout",
     "output_type": "stream",
     "text": [
      "WARNING:tensorflow:Unresolved object in checkpoint: (root).optimizer's state 'v' for (root).net.hidden_layers.0.bias\n"
     ]
    },
    {
     "name": "stderr",
     "output_type": "stream",
     "text": [
      "WARNING:tensorflow:Unresolved object in checkpoint: (root).optimizer's state 'v' for (root).net.hidden_layers.0.bias\n"
     ]
    },
    {
     "name": "stdout",
     "output_type": "stream",
     "text": [
      "WARNING:tensorflow:Unresolved object in checkpoint: (root).optimizer's state 'v' for (root).net.hidden_layers.1.kernel\n"
     ]
    },
    {
     "name": "stderr",
     "output_type": "stream",
     "text": [
      "WARNING:tensorflow:Unresolved object in checkpoint: (root).optimizer's state 'v' for (root).net.hidden_layers.1.kernel\n"
     ]
    },
    {
     "name": "stdout",
     "output_type": "stream",
     "text": [
      "WARNING:tensorflow:Unresolved object in checkpoint: (root).optimizer's state 'v' for (root).net.hidden_layers.1.bias\n"
     ]
    },
    {
     "name": "stderr",
     "output_type": "stream",
     "text": [
      "WARNING:tensorflow:Unresolved object in checkpoint: (root).optimizer's state 'v' for (root).net.hidden_layers.1.bias\n"
     ]
    },
    {
     "name": "stdout",
     "output_type": "stream",
     "text": [
      "WARNING:tensorflow:Unresolved object in checkpoint: (root).optimizer's state 'v' for (root).net.hidden_layers.2.kernel\n"
     ]
    },
    {
     "name": "stderr",
     "output_type": "stream",
     "text": [
      "WARNING:tensorflow:Unresolved object in checkpoint: (root).optimizer's state 'v' for (root).net.hidden_layers.2.kernel\n"
     ]
    },
    {
     "name": "stdout",
     "output_type": "stream",
     "text": [
      "WARNING:tensorflow:Unresolved object in checkpoint: (root).optimizer's state 'v' for (root).net.hidden_layers.2.bias\n"
     ]
    },
    {
     "name": "stderr",
     "output_type": "stream",
     "text": [
      "WARNING:tensorflow:Unresolved object in checkpoint: (root).optimizer's state 'v' for (root).net.hidden_layers.2.bias\n"
     ]
    },
    {
     "name": "stdout",
     "output_type": "stream",
     "text": [
      "WARNING:tensorflow:Unresolved object in checkpoint: (root).optimizer's state 'v' for (root).net.hidden_batch_norms.0.gamma\n"
     ]
    },
    {
     "name": "stderr",
     "output_type": "stream",
     "text": [
      "WARNING:tensorflow:Unresolved object in checkpoint: (root).optimizer's state 'v' for (root).net.hidden_batch_norms.0.gamma\n"
     ]
    },
    {
     "name": "stdout",
     "output_type": "stream",
     "text": [
      "WARNING:tensorflow:Unresolved object in checkpoint: (root).optimizer's state 'v' for (root).net.hidden_batch_norms.0.beta\n"
     ]
    },
    {
     "name": "stderr",
     "output_type": "stream",
     "text": [
      "WARNING:tensorflow:Unresolved object in checkpoint: (root).optimizer's state 'v' for (root).net.hidden_batch_norms.0.beta\n"
     ]
    },
    {
     "name": "stdout",
     "output_type": "stream",
     "text": [
      "WARNING:tensorflow:Unresolved object in checkpoint: (root).optimizer's state 'v' for (root).net.hidden_batch_norms.1.gamma\n"
     ]
    },
    {
     "name": "stderr",
     "output_type": "stream",
     "text": [
      "WARNING:tensorflow:Unresolved object in checkpoint: (root).optimizer's state 'v' for (root).net.hidden_batch_norms.1.gamma\n"
     ]
    },
    {
     "name": "stdout",
     "output_type": "stream",
     "text": [
      "WARNING:tensorflow:Unresolved object in checkpoint: (root).optimizer's state 'v' for (root).net.hidden_batch_norms.1.beta\n"
     ]
    },
    {
     "name": "stderr",
     "output_type": "stream",
     "text": [
      "WARNING:tensorflow:Unresolved object in checkpoint: (root).optimizer's state 'v' for (root).net.hidden_batch_norms.1.beta\n"
     ]
    },
    {
     "name": "stdout",
     "output_type": "stream",
     "text": [
      "WARNING:tensorflow:Unresolved object in checkpoint: (root).optimizer's state 'v' for (root).net.hidden_batch_norms.2.gamma\n"
     ]
    },
    {
     "name": "stderr",
     "output_type": "stream",
     "text": [
      "WARNING:tensorflow:Unresolved object in checkpoint: (root).optimizer's state 'v' for (root).net.hidden_batch_norms.2.gamma\n"
     ]
    },
    {
     "name": "stdout",
     "output_type": "stream",
     "text": [
      "WARNING:tensorflow:Unresolved object in checkpoint: (root).optimizer's state 'v' for (root).net.hidden_batch_norms.2.beta\n"
     ]
    },
    {
     "name": "stderr",
     "output_type": "stream",
     "text": [
      "WARNING:tensorflow:Unresolved object in checkpoint: (root).optimizer's state 'v' for (root).net.hidden_batch_norms.2.beta\n"
     ]
    },
    {
     "name": "stdout",
     "output_type": "stream",
     "text": [
      "WARNING:tensorflow:A checkpoint was restored (e.g. tf.train.Checkpoint.restore or tf.keras.Model.load_weights) but not all checkpointed values were used. See above for specific issues. Use expect_partial() on the load status object, e.g. tf.train.Checkpoint.restore(...).expect_partial(), to silence these warnings, or use assert_consumed() to make the check explicit. See https://www.tensorflow.org/guide/checkpoint#loading_mechanics for details.\n"
     ]
    },
    {
     "name": "stderr",
     "output_type": "stream",
     "text": [
      "WARNING:tensorflow:A checkpoint was restored (e.g. tf.train.Checkpoint.restore or tf.keras.Model.load_weights) but not all checkpointed values were used. See above for specific issues. Use expect_partial() on the load status object, e.g. tf.train.Checkpoint.restore(...).expect_partial(), to silence these warnings, or use assert_consumed() to make the check explicit. See https://www.tensorflow.org/guide/checkpoint#loading_mechanics for details.\n"
     ]
    },
    {
     "name": "stdout",
     "output_type": "stream",
     "text": [
      "WARNING:tensorflow:Unresolved object in checkpoint: (root).step\n"
     ]
    },
    {
     "name": "stderr",
     "output_type": "stream",
     "text": [
      "WARNING:tensorflow:Unresolved object in checkpoint: (root).step\n"
     ]
    },
    {
     "name": "stdout",
     "output_type": "stream",
     "text": [
      "WARNING:tensorflow:Unresolved object in checkpoint: (root).net._training_endpoints\n"
     ]
    },
    {
     "name": "stderr",
     "output_type": "stream",
     "text": [
      "WARNING:tensorflow:Unresolved object in checkpoint: (root).net._training_endpoints\n"
     ]
    },
    {
     "name": "stdout",
     "output_type": "stream",
     "text": [
      "WARNING:tensorflow:Unresolved object in checkpoint: (root).optimizer.iter\n"
     ]
    },
    {
     "name": "stderr",
     "output_type": "stream",
     "text": [
      "WARNING:tensorflow:Unresolved object in checkpoint: (root).optimizer.iter\n"
     ]
    },
    {
     "name": "stdout",
     "output_type": "stream",
     "text": [
      "WARNING:tensorflow:Unresolved object in checkpoint: (root).optimizer.beta_1\n"
     ]
    },
    {
     "name": "stderr",
     "output_type": "stream",
     "text": [
      "WARNING:tensorflow:Unresolved object in checkpoint: (root).optimizer.beta_1\n"
     ]
    },
    {
     "name": "stdout",
     "output_type": "stream",
     "text": [
      "WARNING:tensorflow:Unresolved object in checkpoint: (root).optimizer.beta_2\n"
     ]
    },
    {
     "name": "stderr",
     "output_type": "stream",
     "text": [
      "WARNING:tensorflow:Unresolved object in checkpoint: (root).optimizer.beta_2\n"
     ]
    },
    {
     "name": "stdout",
     "output_type": "stream",
     "text": [
      "WARNING:tensorflow:Unresolved object in checkpoint: (root).optimizer.decay\n"
     ]
    },
    {
     "name": "stderr",
     "output_type": "stream",
     "text": [
      "WARNING:tensorflow:Unresolved object in checkpoint: (root).optimizer.decay\n"
     ]
    },
    {
     "name": "stdout",
     "output_type": "stream",
     "text": [
      "WARNING:tensorflow:Unresolved object in checkpoint: (root).optimizer.min_lr\n"
     ]
    },
    {
     "name": "stderr",
     "output_type": "stream",
     "text": [
      "WARNING:tensorflow:Unresolved object in checkpoint: (root).optimizer.min_lr\n"
     ]
    },
    {
     "name": "stdout",
     "output_type": "stream",
     "text": [
      "WARNING:tensorflow:Unresolved object in checkpoint: (root).optimizer.sma_threshold\n"
     ]
    },
    {
     "name": "stderr",
     "output_type": "stream",
     "text": [
      "WARNING:tensorflow:Unresolved object in checkpoint: (root).optimizer.sma_threshold\n"
     ]
    },
    {
     "name": "stdout",
     "output_type": "stream",
     "text": [
      "WARNING:tensorflow:Unresolved object in checkpoint: (root).optimizer.total_steps\n"
     ]
    },
    {
     "name": "stderr",
     "output_type": "stream",
     "text": [
      "WARNING:tensorflow:Unresolved object in checkpoint: (root).optimizer.total_steps\n"
     ]
    },
    {
     "name": "stdout",
     "output_type": "stream",
     "text": [
      "WARNING:tensorflow:Unresolved object in checkpoint: (root).optimizer.warmup_proportion\n"
     ]
    },
    {
     "name": "stderr",
     "output_type": "stream",
     "text": [
      "WARNING:tensorflow:Unresolved object in checkpoint: (root).optimizer.warmup_proportion\n"
     ]
    },
    {
     "name": "stdout",
     "output_type": "stream",
     "text": [
      "WARNING:tensorflow:Unresolved object in checkpoint: (root).optimizer.weight_decay\n"
     ]
    },
    {
     "name": "stderr",
     "output_type": "stream",
     "text": [
      "WARNING:tensorflow:Unresolved object in checkpoint: (root).optimizer.weight_decay\n"
     ]
    },
    {
     "name": "stdout",
     "output_type": "stream",
     "text": [
      "WARNING:tensorflow:Unresolved object in checkpoint: (root).net.final_dense.kernel\n"
     ]
    },
    {
     "name": "stderr",
     "output_type": "stream",
     "text": [
      "WARNING:tensorflow:Unresolved object in checkpoint: (root).net.final_dense.kernel\n"
     ]
    },
    {
     "name": "stdout",
     "output_type": "stream",
     "text": [
      "WARNING:tensorflow:Unresolved object in checkpoint: (root).net.final_dense.bias\n"
     ]
    },
    {
     "name": "stderr",
     "output_type": "stream",
     "text": [
      "WARNING:tensorflow:Unresolved object in checkpoint: (root).net.final_dense.bias\n"
     ]
    },
    {
     "name": "stdout",
     "output_type": "stream",
     "text": [
      "WARNING:tensorflow:Unresolved object in checkpoint: (root).net.hidden_layers.0.kernel\n"
     ]
    },
    {
     "name": "stderr",
     "output_type": "stream",
     "text": [
      "WARNING:tensorflow:Unresolved object in checkpoint: (root).net.hidden_layers.0.kernel\n"
     ]
    },
    {
     "name": "stdout",
     "output_type": "stream",
     "text": [
      "WARNING:tensorflow:Unresolved object in checkpoint: (root).net.hidden_layers.0.bias\n"
     ]
    },
    {
     "name": "stderr",
     "output_type": "stream",
     "text": [
      "WARNING:tensorflow:Unresolved object in checkpoint: (root).net.hidden_layers.0.bias\n"
     ]
    },
    {
     "name": "stdout",
     "output_type": "stream",
     "text": [
      "WARNING:tensorflow:Unresolved object in checkpoint: (root).net.hidden_layers.1.kernel\n"
     ]
    },
    {
     "name": "stderr",
     "output_type": "stream",
     "text": [
      "WARNING:tensorflow:Unresolved object in checkpoint: (root).net.hidden_layers.1.kernel\n"
     ]
    },
    {
     "name": "stdout",
     "output_type": "stream",
     "text": [
      "WARNING:tensorflow:Unresolved object in checkpoint: (root).net.hidden_layers.1.bias\n"
     ]
    },
    {
     "name": "stderr",
     "output_type": "stream",
     "text": [
      "WARNING:tensorflow:Unresolved object in checkpoint: (root).net.hidden_layers.1.bias\n"
     ]
    },
    {
     "name": "stdout",
     "output_type": "stream",
     "text": [
      "WARNING:tensorflow:Unresolved object in checkpoint: (root).net.hidden_layers.2.kernel\n"
     ]
    },
    {
     "name": "stderr",
     "output_type": "stream",
     "text": [
      "WARNING:tensorflow:Unresolved object in checkpoint: (root).net.hidden_layers.2.kernel\n"
     ]
    },
    {
     "name": "stdout",
     "output_type": "stream",
     "text": [
      "WARNING:tensorflow:Unresolved object in checkpoint: (root).net.hidden_layers.2.bias\n"
     ]
    },
    {
     "name": "stderr",
     "output_type": "stream",
     "text": [
      "WARNING:tensorflow:Unresolved object in checkpoint: (root).net.hidden_layers.2.bias\n"
     ]
    },
    {
     "name": "stdout",
     "output_type": "stream",
     "text": [
      "WARNING:tensorflow:Unresolved object in checkpoint: (root).net.hidden_batch_norms.0.axis\n"
     ]
    },
    {
     "name": "stderr",
     "output_type": "stream",
     "text": [
      "WARNING:tensorflow:Unresolved object in checkpoint: (root).net.hidden_batch_norms.0.axis\n"
     ]
    },
    {
     "name": "stdout",
     "output_type": "stream",
     "text": [
      "WARNING:tensorflow:Unresolved object in checkpoint: (root).net.hidden_batch_norms.0.gamma\n"
     ]
    },
    {
     "name": "stderr",
     "output_type": "stream",
     "text": [
      "WARNING:tensorflow:Unresolved object in checkpoint: (root).net.hidden_batch_norms.0.gamma\n"
     ]
    },
    {
     "name": "stdout",
     "output_type": "stream",
     "text": [
      "WARNING:tensorflow:Unresolved object in checkpoint: (root).net.hidden_batch_norms.0.beta\n"
     ]
    },
    {
     "name": "stderr",
     "output_type": "stream",
     "text": [
      "WARNING:tensorflow:Unresolved object in checkpoint: (root).net.hidden_batch_norms.0.beta\n"
     ]
    },
    {
     "name": "stdout",
     "output_type": "stream",
     "text": [
      "WARNING:tensorflow:Unresolved object in checkpoint: (root).net.hidden_batch_norms.0.moving_mean\n"
     ]
    },
    {
     "name": "stderr",
     "output_type": "stream",
     "text": [
      "WARNING:tensorflow:Unresolved object in checkpoint: (root).net.hidden_batch_norms.0.moving_mean\n"
     ]
    },
    {
     "name": "stdout",
     "output_type": "stream",
     "text": [
      "WARNING:tensorflow:Unresolved object in checkpoint: (root).net.hidden_batch_norms.0.moving_variance\n"
     ]
    },
    {
     "name": "stderr",
     "output_type": "stream",
     "text": [
      "WARNING:tensorflow:Unresolved object in checkpoint: (root).net.hidden_batch_norms.0.moving_variance\n"
     ]
    },
    {
     "name": "stdout",
     "output_type": "stream",
     "text": [
      "WARNING:tensorflow:Unresolved object in checkpoint: (root).net.hidden_batch_norms.1.axis\n"
     ]
    },
    {
     "name": "stderr",
     "output_type": "stream",
     "text": [
      "WARNING:tensorflow:Unresolved object in checkpoint: (root).net.hidden_batch_norms.1.axis\n"
     ]
    },
    {
     "name": "stdout",
     "output_type": "stream",
     "text": [
      "WARNING:tensorflow:Unresolved object in checkpoint: (root).net.hidden_batch_norms.1.gamma\n"
     ]
    },
    {
     "name": "stderr",
     "output_type": "stream",
     "text": [
      "WARNING:tensorflow:Unresolved object in checkpoint: (root).net.hidden_batch_norms.1.gamma\n"
     ]
    },
    {
     "name": "stdout",
     "output_type": "stream",
     "text": [
      "WARNING:tensorflow:Unresolved object in checkpoint: (root).net.hidden_batch_norms.1.beta\n"
     ]
    },
    {
     "name": "stderr",
     "output_type": "stream",
     "text": [
      "WARNING:tensorflow:Unresolved object in checkpoint: (root).net.hidden_batch_norms.1.beta\n"
     ]
    },
    {
     "name": "stdout",
     "output_type": "stream",
     "text": [
      "WARNING:tensorflow:Unresolved object in checkpoint: (root).net.hidden_batch_norms.1.moving_mean\n"
     ]
    },
    {
     "name": "stderr",
     "output_type": "stream",
     "text": [
      "WARNING:tensorflow:Unresolved object in checkpoint: (root).net.hidden_batch_norms.1.moving_mean\n"
     ]
    },
    {
     "name": "stdout",
     "output_type": "stream",
     "text": [
      "WARNING:tensorflow:Unresolved object in checkpoint: (root).net.hidden_batch_norms.1.moving_variance\n"
     ]
    },
    {
     "name": "stderr",
     "output_type": "stream",
     "text": [
      "WARNING:tensorflow:Unresolved object in checkpoint: (root).net.hidden_batch_norms.1.moving_variance\n"
     ]
    },
    {
     "name": "stdout",
     "output_type": "stream",
     "text": [
      "WARNING:tensorflow:Unresolved object in checkpoint: (root).net.hidden_batch_norms.2.axis\n"
     ]
    },
    {
     "name": "stderr",
     "output_type": "stream",
     "text": [
      "WARNING:tensorflow:Unresolved object in checkpoint: (root).net.hidden_batch_norms.2.axis\n"
     ]
    },
    {
     "name": "stdout",
     "output_type": "stream",
     "text": [
      "WARNING:tensorflow:Unresolved object in checkpoint: (root).net.hidden_batch_norms.2.gamma\n"
     ]
    },
    {
     "name": "stderr",
     "output_type": "stream",
     "text": [
      "WARNING:tensorflow:Unresolved object in checkpoint: (root).net.hidden_batch_norms.2.gamma\n"
     ]
    },
    {
     "name": "stdout",
     "output_type": "stream",
     "text": [
      "WARNING:tensorflow:Unresolved object in checkpoint: (root).net.hidden_batch_norms.2.beta\n"
     ]
    },
    {
     "name": "stderr",
     "output_type": "stream",
     "text": [
      "WARNING:tensorflow:Unresolved object in checkpoint: (root).net.hidden_batch_norms.2.beta\n"
     ]
    },
    {
     "name": "stdout",
     "output_type": "stream",
     "text": [
      "WARNING:tensorflow:Unresolved object in checkpoint: (root).net.hidden_batch_norms.2.moving_mean\n"
     ]
    },
    {
     "name": "stderr",
     "output_type": "stream",
     "text": [
      "WARNING:tensorflow:Unresolved object in checkpoint: (root).net.hidden_batch_norms.2.moving_mean\n"
     ]
    },
    {
     "name": "stdout",
     "output_type": "stream",
     "text": [
      "WARNING:tensorflow:Unresolved object in checkpoint: (root).net.hidden_batch_norms.2.moving_variance\n"
     ]
    },
    {
     "name": "stderr",
     "output_type": "stream",
     "text": [
      "WARNING:tensorflow:Unresolved object in checkpoint: (root).net.hidden_batch_norms.2.moving_variance\n"
     ]
    },
    {
     "name": "stdout",
     "output_type": "stream",
     "text": [
      "WARNING:tensorflow:Unresolved object in checkpoint: (root).optimizer's state 'm' for (root).net.final_dense.kernel\n"
     ]
    },
    {
     "name": "stderr",
     "output_type": "stream",
     "text": [
      "WARNING:tensorflow:Unresolved object in checkpoint: (root).optimizer's state 'm' for (root).net.final_dense.kernel\n"
     ]
    },
    {
     "name": "stdout",
     "output_type": "stream",
     "text": [
      "WARNING:tensorflow:Unresolved object in checkpoint: (root).optimizer's state 'm' for (root).net.final_dense.bias\n"
     ]
    },
    {
     "name": "stderr",
     "output_type": "stream",
     "text": [
      "WARNING:tensorflow:Unresolved object in checkpoint: (root).optimizer's state 'm' for (root).net.final_dense.bias\n"
     ]
    },
    {
     "name": "stdout",
     "output_type": "stream",
     "text": [
      "WARNING:tensorflow:Unresolved object in checkpoint: (root).optimizer's state 'm' for (root).net.hidden_layers.0.kernel\n"
     ]
    },
    {
     "name": "stderr",
     "output_type": "stream",
     "text": [
      "WARNING:tensorflow:Unresolved object in checkpoint: (root).optimizer's state 'm' for (root).net.hidden_layers.0.kernel\n"
     ]
    },
    {
     "name": "stdout",
     "output_type": "stream",
     "text": [
      "WARNING:tensorflow:Unresolved object in checkpoint: (root).optimizer's state 'm' for (root).net.hidden_layers.0.bias\n"
     ]
    },
    {
     "name": "stderr",
     "output_type": "stream",
     "text": [
      "WARNING:tensorflow:Unresolved object in checkpoint: (root).optimizer's state 'm' for (root).net.hidden_layers.0.bias\n"
     ]
    },
    {
     "name": "stdout",
     "output_type": "stream",
     "text": [
      "WARNING:tensorflow:Unresolved object in checkpoint: (root).optimizer's state 'm' for (root).net.hidden_layers.1.kernel\n"
     ]
    },
    {
     "name": "stderr",
     "output_type": "stream",
     "text": [
      "WARNING:tensorflow:Unresolved object in checkpoint: (root).optimizer's state 'm' for (root).net.hidden_layers.1.kernel\n"
     ]
    },
    {
     "name": "stdout",
     "output_type": "stream",
     "text": [
      "WARNING:tensorflow:Unresolved object in checkpoint: (root).optimizer's state 'm' for (root).net.hidden_layers.1.bias\n"
     ]
    },
    {
     "name": "stderr",
     "output_type": "stream",
     "text": [
      "WARNING:tensorflow:Unresolved object in checkpoint: (root).optimizer's state 'm' for (root).net.hidden_layers.1.bias\n"
     ]
    },
    {
     "name": "stdout",
     "output_type": "stream",
     "text": [
      "WARNING:tensorflow:Unresolved object in checkpoint: (root).optimizer's state 'm' for (root).net.hidden_layers.2.kernel\n"
     ]
    },
    {
     "name": "stderr",
     "output_type": "stream",
     "text": [
      "WARNING:tensorflow:Unresolved object in checkpoint: (root).optimizer's state 'm' for (root).net.hidden_layers.2.kernel\n"
     ]
    },
    {
     "name": "stdout",
     "output_type": "stream",
     "text": [
      "WARNING:tensorflow:Unresolved object in checkpoint: (root).optimizer's state 'm' for (root).net.hidden_layers.2.bias\n"
     ]
    },
    {
     "name": "stderr",
     "output_type": "stream",
     "text": [
      "WARNING:tensorflow:Unresolved object in checkpoint: (root).optimizer's state 'm' for (root).net.hidden_layers.2.bias\n"
     ]
    },
    {
     "name": "stdout",
     "output_type": "stream",
     "text": [
      "WARNING:tensorflow:Unresolved object in checkpoint: (root).optimizer's state 'm' for (root).net.hidden_batch_norms.0.gamma\n"
     ]
    },
    {
     "name": "stderr",
     "output_type": "stream",
     "text": [
      "WARNING:tensorflow:Unresolved object in checkpoint: (root).optimizer's state 'm' for (root).net.hidden_batch_norms.0.gamma\n"
     ]
    },
    {
     "name": "stdout",
     "output_type": "stream",
     "text": [
      "WARNING:tensorflow:Unresolved object in checkpoint: (root).optimizer's state 'm' for (root).net.hidden_batch_norms.0.beta\n"
     ]
    },
    {
     "name": "stderr",
     "output_type": "stream",
     "text": [
      "WARNING:tensorflow:Unresolved object in checkpoint: (root).optimizer's state 'm' for (root).net.hidden_batch_norms.0.beta\n"
     ]
    },
    {
     "name": "stdout",
     "output_type": "stream",
     "text": [
      "WARNING:tensorflow:Unresolved object in checkpoint: (root).optimizer's state 'm' for (root).net.hidden_batch_norms.1.gamma\n"
     ]
    },
    {
     "name": "stderr",
     "output_type": "stream",
     "text": [
      "WARNING:tensorflow:Unresolved object in checkpoint: (root).optimizer's state 'm' for (root).net.hidden_batch_norms.1.gamma\n"
     ]
    },
    {
     "name": "stdout",
     "output_type": "stream",
     "text": [
      "WARNING:tensorflow:Unresolved object in checkpoint: (root).optimizer's state 'm' for (root).net.hidden_batch_norms.1.beta\n"
     ]
    },
    {
     "name": "stderr",
     "output_type": "stream",
     "text": [
      "WARNING:tensorflow:Unresolved object in checkpoint: (root).optimizer's state 'm' for (root).net.hidden_batch_norms.1.beta\n"
     ]
    },
    {
     "name": "stdout",
     "output_type": "stream",
     "text": [
      "WARNING:tensorflow:Unresolved object in checkpoint: (root).optimizer's state 'm' for (root).net.hidden_batch_norms.2.gamma\n"
     ]
    },
    {
     "name": "stderr",
     "output_type": "stream",
     "text": [
      "WARNING:tensorflow:Unresolved object in checkpoint: (root).optimizer's state 'm' for (root).net.hidden_batch_norms.2.gamma\n"
     ]
    },
    {
     "name": "stdout",
     "output_type": "stream",
     "text": [
      "WARNING:tensorflow:Unresolved object in checkpoint: (root).optimizer's state 'm' for (root).net.hidden_batch_norms.2.beta\n"
     ]
    },
    {
     "name": "stderr",
     "output_type": "stream",
     "text": [
      "WARNING:tensorflow:Unresolved object in checkpoint: (root).optimizer's state 'm' for (root).net.hidden_batch_norms.2.beta\n"
     ]
    },
    {
     "name": "stdout",
     "output_type": "stream",
     "text": [
      "WARNING:tensorflow:Unresolved object in checkpoint: (root).optimizer's state 'v' for (root).net.final_dense.kernel\n"
     ]
    },
    {
     "name": "stderr",
     "output_type": "stream",
     "text": [
      "WARNING:tensorflow:Unresolved object in checkpoint: (root).optimizer's state 'v' for (root).net.final_dense.kernel\n"
     ]
    },
    {
     "name": "stdout",
     "output_type": "stream",
     "text": [
      "WARNING:tensorflow:Unresolved object in checkpoint: (root).optimizer's state 'v' for (root).net.final_dense.bias\n"
     ]
    },
    {
     "name": "stderr",
     "output_type": "stream",
     "text": [
      "WARNING:tensorflow:Unresolved object in checkpoint: (root).optimizer's state 'v' for (root).net.final_dense.bias\n"
     ]
    },
    {
     "name": "stdout",
     "output_type": "stream",
     "text": [
      "WARNING:tensorflow:Unresolved object in checkpoint: (root).optimizer's state 'v' for (root).net.hidden_layers.0.kernel\n"
     ]
    },
    {
     "name": "stderr",
     "output_type": "stream",
     "text": [
      "WARNING:tensorflow:Unresolved object in checkpoint: (root).optimizer's state 'v' for (root).net.hidden_layers.0.kernel\n"
     ]
    },
    {
     "name": "stdout",
     "output_type": "stream",
     "text": [
      "WARNING:tensorflow:Unresolved object in checkpoint: (root).optimizer's state 'v' for (root).net.hidden_layers.0.bias\n"
     ]
    },
    {
     "name": "stderr",
     "output_type": "stream",
     "text": [
      "WARNING:tensorflow:Unresolved object in checkpoint: (root).optimizer's state 'v' for (root).net.hidden_layers.0.bias\n"
     ]
    },
    {
     "name": "stdout",
     "output_type": "stream",
     "text": [
      "WARNING:tensorflow:Unresolved object in checkpoint: (root).optimizer's state 'v' for (root).net.hidden_layers.1.kernel\n"
     ]
    },
    {
     "name": "stderr",
     "output_type": "stream",
     "text": [
      "WARNING:tensorflow:Unresolved object in checkpoint: (root).optimizer's state 'v' for (root).net.hidden_layers.1.kernel\n"
     ]
    },
    {
     "name": "stdout",
     "output_type": "stream",
     "text": [
      "WARNING:tensorflow:Unresolved object in checkpoint: (root).optimizer's state 'v' for (root).net.hidden_layers.1.bias\n"
     ]
    },
    {
     "name": "stderr",
     "output_type": "stream",
     "text": [
      "WARNING:tensorflow:Unresolved object in checkpoint: (root).optimizer's state 'v' for (root).net.hidden_layers.1.bias\n"
     ]
    },
    {
     "name": "stdout",
     "output_type": "stream",
     "text": [
      "WARNING:tensorflow:Unresolved object in checkpoint: (root).optimizer's state 'v' for (root).net.hidden_layers.2.kernel\n"
     ]
    },
    {
     "name": "stderr",
     "output_type": "stream",
     "text": [
      "WARNING:tensorflow:Unresolved object in checkpoint: (root).optimizer's state 'v' for (root).net.hidden_layers.2.kernel\n"
     ]
    },
    {
     "name": "stdout",
     "output_type": "stream",
     "text": [
      "WARNING:tensorflow:Unresolved object in checkpoint: (root).optimizer's state 'v' for (root).net.hidden_layers.2.bias\n"
     ]
    },
    {
     "name": "stderr",
     "output_type": "stream",
     "text": [
      "WARNING:tensorflow:Unresolved object in checkpoint: (root).optimizer's state 'v' for (root).net.hidden_layers.2.bias\n"
     ]
    },
    {
     "name": "stdout",
     "output_type": "stream",
     "text": [
      "WARNING:tensorflow:Unresolved object in checkpoint: (root).optimizer's state 'v' for (root).net.hidden_batch_norms.0.gamma\n"
     ]
    },
    {
     "name": "stderr",
     "output_type": "stream",
     "text": [
      "WARNING:tensorflow:Unresolved object in checkpoint: (root).optimizer's state 'v' for (root).net.hidden_batch_norms.0.gamma\n"
     ]
    },
    {
     "name": "stdout",
     "output_type": "stream",
     "text": [
      "WARNING:tensorflow:Unresolved object in checkpoint: (root).optimizer's state 'v' for (root).net.hidden_batch_norms.0.beta\n"
     ]
    },
    {
     "name": "stderr",
     "output_type": "stream",
     "text": [
      "WARNING:tensorflow:Unresolved object in checkpoint: (root).optimizer's state 'v' for (root).net.hidden_batch_norms.0.beta\n"
     ]
    },
    {
     "name": "stdout",
     "output_type": "stream",
     "text": [
      "WARNING:tensorflow:Unresolved object in checkpoint: (root).optimizer's state 'v' for (root).net.hidden_batch_norms.1.gamma\n"
     ]
    },
    {
     "name": "stderr",
     "output_type": "stream",
     "text": [
      "WARNING:tensorflow:Unresolved object in checkpoint: (root).optimizer's state 'v' for (root).net.hidden_batch_norms.1.gamma\n"
     ]
    },
    {
     "name": "stdout",
     "output_type": "stream",
     "text": [
      "WARNING:tensorflow:Unresolved object in checkpoint: (root).optimizer's state 'v' for (root).net.hidden_batch_norms.1.beta\n"
     ]
    },
    {
     "name": "stderr",
     "output_type": "stream",
     "text": [
      "WARNING:tensorflow:Unresolved object in checkpoint: (root).optimizer's state 'v' for (root).net.hidden_batch_norms.1.beta\n"
     ]
    },
    {
     "name": "stdout",
     "output_type": "stream",
     "text": [
      "WARNING:tensorflow:Unresolved object in checkpoint: (root).optimizer's state 'v' for (root).net.hidden_batch_norms.2.gamma\n"
     ]
    },
    {
     "name": "stderr",
     "output_type": "stream",
     "text": [
      "WARNING:tensorflow:Unresolved object in checkpoint: (root).optimizer's state 'v' for (root).net.hidden_batch_norms.2.gamma\n"
     ]
    },
    {
     "name": "stdout",
     "output_type": "stream",
     "text": [
      "WARNING:tensorflow:Unresolved object in checkpoint: (root).optimizer's state 'v' for (root).net.hidden_batch_norms.2.beta\n"
     ]
    },
    {
     "name": "stderr",
     "output_type": "stream",
     "text": [
      "WARNING:tensorflow:Unresolved object in checkpoint: (root).optimizer's state 'v' for (root).net.hidden_batch_norms.2.beta\n"
     ]
    },
    {
     "name": "stdout",
     "output_type": "stream",
     "text": [
      "WARNING:tensorflow:A checkpoint was restored (e.g. tf.train.Checkpoint.restore or tf.keras.Model.load_weights) but not all checkpointed values were used. See above for specific issues. Use expect_partial() on the load status object, e.g. tf.train.Checkpoint.restore(...).expect_partial(), to silence these warnings, or use assert_consumed() to make the check explicit. See https://www.tensorflow.org/guide/checkpoint#loading_mechanics for details.\n"
     ]
    },
    {
     "name": "stderr",
     "output_type": "stream",
     "text": [
      "WARNING:tensorflow:A checkpoint was restored (e.g. tf.train.Checkpoint.restore or tf.keras.Model.load_weights) but not all checkpointed values were used. See above for specific issues. Use expect_partial() on the load status object, e.g. tf.train.Checkpoint.restore(...).expect_partial(), to silence these warnings, or use assert_consumed() to make the check explicit. See https://www.tensorflow.org/guide/checkpoint#loading_mechanics for details.\n"
     ]
    },
    {
     "name": "stdout",
     "output_type": "stream",
     "text": [
      "WARNING:tensorflow:Unresolved object in checkpoint: (root).step\n"
     ]
    },
    {
     "name": "stderr",
     "output_type": "stream",
     "text": [
      "WARNING:tensorflow:Unresolved object in checkpoint: (root).step\n"
     ]
    },
    {
     "name": "stdout",
     "output_type": "stream",
     "text": [
      "WARNING:tensorflow:Unresolved object in checkpoint: (root).net._training_endpoints\n"
     ]
    },
    {
     "name": "stderr",
     "output_type": "stream",
     "text": [
      "WARNING:tensorflow:Unresolved object in checkpoint: (root).net._training_endpoints\n"
     ]
    },
    {
     "name": "stdout",
     "output_type": "stream",
     "text": [
      "WARNING:tensorflow:Unresolved object in checkpoint: (root).optimizer.iter\n"
     ]
    },
    {
     "name": "stderr",
     "output_type": "stream",
     "text": [
      "WARNING:tensorflow:Unresolved object in checkpoint: (root).optimizer.iter\n"
     ]
    },
    {
     "name": "stdout",
     "output_type": "stream",
     "text": [
      "WARNING:tensorflow:Unresolved object in checkpoint: (root).optimizer.beta_1\n"
     ]
    },
    {
     "name": "stderr",
     "output_type": "stream",
     "text": [
      "WARNING:tensorflow:Unresolved object in checkpoint: (root).optimizer.beta_1\n"
     ]
    },
    {
     "name": "stdout",
     "output_type": "stream",
     "text": [
      "WARNING:tensorflow:Unresolved object in checkpoint: (root).optimizer.beta_2\n"
     ]
    },
    {
     "name": "stderr",
     "output_type": "stream",
     "text": [
      "WARNING:tensorflow:Unresolved object in checkpoint: (root).optimizer.beta_2\n"
     ]
    },
    {
     "name": "stdout",
     "output_type": "stream",
     "text": [
      "WARNING:tensorflow:Unresolved object in checkpoint: (root).optimizer.decay\n"
     ]
    },
    {
     "name": "stderr",
     "output_type": "stream",
     "text": [
      "WARNING:tensorflow:Unresolved object in checkpoint: (root).optimizer.decay\n"
     ]
    },
    {
     "name": "stdout",
     "output_type": "stream",
     "text": [
      "WARNING:tensorflow:Unresolved object in checkpoint: (root).optimizer.min_lr\n"
     ]
    },
    {
     "name": "stderr",
     "output_type": "stream",
     "text": [
      "WARNING:tensorflow:Unresolved object in checkpoint: (root).optimizer.min_lr\n"
     ]
    },
    {
     "name": "stdout",
     "output_type": "stream",
     "text": [
      "WARNING:tensorflow:Unresolved object in checkpoint: (root).optimizer.sma_threshold\n"
     ]
    },
    {
     "name": "stderr",
     "output_type": "stream",
     "text": [
      "WARNING:tensorflow:Unresolved object in checkpoint: (root).optimizer.sma_threshold\n"
     ]
    },
    {
     "name": "stdout",
     "output_type": "stream",
     "text": [
      "WARNING:tensorflow:Unresolved object in checkpoint: (root).optimizer.total_steps\n"
     ]
    },
    {
     "name": "stderr",
     "output_type": "stream",
     "text": [
      "WARNING:tensorflow:Unresolved object in checkpoint: (root).optimizer.total_steps\n"
     ]
    },
    {
     "name": "stdout",
     "output_type": "stream",
     "text": [
      "WARNING:tensorflow:Unresolved object in checkpoint: (root).optimizer.warmup_proportion\n"
     ]
    },
    {
     "name": "stderr",
     "output_type": "stream",
     "text": [
      "WARNING:tensorflow:Unresolved object in checkpoint: (root).optimizer.warmup_proportion\n"
     ]
    },
    {
     "name": "stdout",
     "output_type": "stream",
     "text": [
      "WARNING:tensorflow:Unresolved object in checkpoint: (root).optimizer.weight_decay\n"
     ]
    },
    {
     "name": "stderr",
     "output_type": "stream",
     "text": [
      "WARNING:tensorflow:Unresolved object in checkpoint: (root).optimizer.weight_decay\n"
     ]
    },
    {
     "name": "stdout",
     "output_type": "stream",
     "text": [
      "WARNING:tensorflow:Unresolved object in checkpoint: (root).net.final_dense.kernel\n"
     ]
    },
    {
     "name": "stderr",
     "output_type": "stream",
     "text": [
      "WARNING:tensorflow:Unresolved object in checkpoint: (root).net.final_dense.kernel\n"
     ]
    },
    {
     "name": "stdout",
     "output_type": "stream",
     "text": [
      "WARNING:tensorflow:Unresolved object in checkpoint: (root).net.final_dense.bias\n"
     ]
    },
    {
     "name": "stderr",
     "output_type": "stream",
     "text": [
      "WARNING:tensorflow:Unresolved object in checkpoint: (root).net.final_dense.bias\n"
     ]
    },
    {
     "name": "stdout",
     "output_type": "stream",
     "text": [
      "WARNING:tensorflow:Unresolved object in checkpoint: (root).net.hidden_layers.0.kernel\n"
     ]
    },
    {
     "name": "stderr",
     "output_type": "stream",
     "text": [
      "WARNING:tensorflow:Unresolved object in checkpoint: (root).net.hidden_layers.0.kernel\n"
     ]
    },
    {
     "name": "stdout",
     "output_type": "stream",
     "text": [
      "WARNING:tensorflow:Unresolved object in checkpoint: (root).net.hidden_layers.0.bias\n"
     ]
    },
    {
     "name": "stderr",
     "output_type": "stream",
     "text": [
      "WARNING:tensorflow:Unresolved object in checkpoint: (root).net.hidden_layers.0.bias\n"
     ]
    },
    {
     "name": "stdout",
     "output_type": "stream",
     "text": [
      "WARNING:tensorflow:Unresolved object in checkpoint: (root).net.hidden_layers.1.kernel\n"
     ]
    },
    {
     "name": "stderr",
     "output_type": "stream",
     "text": [
      "WARNING:tensorflow:Unresolved object in checkpoint: (root).net.hidden_layers.1.kernel\n"
     ]
    },
    {
     "name": "stdout",
     "output_type": "stream",
     "text": [
      "WARNING:tensorflow:Unresolved object in checkpoint: (root).net.hidden_layers.1.bias\n"
     ]
    },
    {
     "name": "stderr",
     "output_type": "stream",
     "text": [
      "WARNING:tensorflow:Unresolved object in checkpoint: (root).net.hidden_layers.1.bias\n"
     ]
    },
    {
     "name": "stdout",
     "output_type": "stream",
     "text": [
      "WARNING:tensorflow:Unresolved object in checkpoint: (root).net.hidden_layers.2.kernel\n"
     ]
    },
    {
     "name": "stderr",
     "output_type": "stream",
     "text": [
      "WARNING:tensorflow:Unresolved object in checkpoint: (root).net.hidden_layers.2.kernel\n"
     ]
    },
    {
     "name": "stdout",
     "output_type": "stream",
     "text": [
      "WARNING:tensorflow:Unresolved object in checkpoint: (root).net.hidden_layers.2.bias\n"
     ]
    },
    {
     "name": "stderr",
     "output_type": "stream",
     "text": [
      "WARNING:tensorflow:Unresolved object in checkpoint: (root).net.hidden_layers.2.bias\n"
     ]
    },
    {
     "name": "stdout",
     "output_type": "stream",
     "text": [
      "WARNING:tensorflow:Unresolved object in checkpoint: (root).net.hidden_batch_norms.0.axis\n"
     ]
    },
    {
     "name": "stderr",
     "output_type": "stream",
     "text": [
      "WARNING:tensorflow:Unresolved object in checkpoint: (root).net.hidden_batch_norms.0.axis\n"
     ]
    },
    {
     "name": "stdout",
     "output_type": "stream",
     "text": [
      "WARNING:tensorflow:Unresolved object in checkpoint: (root).net.hidden_batch_norms.0.gamma\n"
     ]
    },
    {
     "name": "stderr",
     "output_type": "stream",
     "text": [
      "WARNING:tensorflow:Unresolved object in checkpoint: (root).net.hidden_batch_norms.0.gamma\n"
     ]
    },
    {
     "name": "stdout",
     "output_type": "stream",
     "text": [
      "WARNING:tensorflow:Unresolved object in checkpoint: (root).net.hidden_batch_norms.0.beta\n"
     ]
    },
    {
     "name": "stderr",
     "output_type": "stream",
     "text": [
      "WARNING:tensorflow:Unresolved object in checkpoint: (root).net.hidden_batch_norms.0.beta\n"
     ]
    },
    {
     "name": "stdout",
     "output_type": "stream",
     "text": [
      "WARNING:tensorflow:Unresolved object in checkpoint: (root).net.hidden_batch_norms.0.moving_mean\n"
     ]
    },
    {
     "name": "stderr",
     "output_type": "stream",
     "text": [
      "WARNING:tensorflow:Unresolved object in checkpoint: (root).net.hidden_batch_norms.0.moving_mean\n"
     ]
    },
    {
     "name": "stdout",
     "output_type": "stream",
     "text": [
      "WARNING:tensorflow:Unresolved object in checkpoint: (root).net.hidden_batch_norms.0.moving_variance\n"
     ]
    },
    {
     "name": "stderr",
     "output_type": "stream",
     "text": [
      "WARNING:tensorflow:Unresolved object in checkpoint: (root).net.hidden_batch_norms.0.moving_variance\n"
     ]
    },
    {
     "name": "stdout",
     "output_type": "stream",
     "text": [
      "WARNING:tensorflow:Unresolved object in checkpoint: (root).net.hidden_batch_norms.1.axis\n"
     ]
    },
    {
     "name": "stderr",
     "output_type": "stream",
     "text": [
      "WARNING:tensorflow:Unresolved object in checkpoint: (root).net.hidden_batch_norms.1.axis\n"
     ]
    },
    {
     "name": "stdout",
     "output_type": "stream",
     "text": [
      "WARNING:tensorflow:Unresolved object in checkpoint: (root).net.hidden_batch_norms.1.gamma\n"
     ]
    },
    {
     "name": "stderr",
     "output_type": "stream",
     "text": [
      "WARNING:tensorflow:Unresolved object in checkpoint: (root).net.hidden_batch_norms.1.gamma\n"
     ]
    },
    {
     "name": "stdout",
     "output_type": "stream",
     "text": [
      "WARNING:tensorflow:Unresolved object in checkpoint: (root).net.hidden_batch_norms.1.beta\n"
     ]
    },
    {
     "name": "stderr",
     "output_type": "stream",
     "text": [
      "WARNING:tensorflow:Unresolved object in checkpoint: (root).net.hidden_batch_norms.1.beta\n"
     ]
    },
    {
     "name": "stdout",
     "output_type": "stream",
     "text": [
      "WARNING:tensorflow:Unresolved object in checkpoint: (root).net.hidden_batch_norms.1.moving_mean\n"
     ]
    },
    {
     "name": "stderr",
     "output_type": "stream",
     "text": [
      "WARNING:tensorflow:Unresolved object in checkpoint: (root).net.hidden_batch_norms.1.moving_mean\n"
     ]
    },
    {
     "name": "stdout",
     "output_type": "stream",
     "text": [
      "WARNING:tensorflow:Unresolved object in checkpoint: (root).net.hidden_batch_norms.1.moving_variance\n"
     ]
    },
    {
     "name": "stderr",
     "output_type": "stream",
     "text": [
      "WARNING:tensorflow:Unresolved object in checkpoint: (root).net.hidden_batch_norms.1.moving_variance\n"
     ]
    },
    {
     "name": "stdout",
     "output_type": "stream",
     "text": [
      "WARNING:tensorflow:Unresolved object in checkpoint: (root).net.hidden_batch_norms.2.axis\n"
     ]
    },
    {
     "name": "stderr",
     "output_type": "stream",
     "text": [
      "WARNING:tensorflow:Unresolved object in checkpoint: (root).net.hidden_batch_norms.2.axis\n"
     ]
    },
    {
     "name": "stdout",
     "output_type": "stream",
     "text": [
      "WARNING:tensorflow:Unresolved object in checkpoint: (root).net.hidden_batch_norms.2.gamma\n"
     ]
    },
    {
     "name": "stderr",
     "output_type": "stream",
     "text": [
      "WARNING:tensorflow:Unresolved object in checkpoint: (root).net.hidden_batch_norms.2.gamma\n"
     ]
    },
    {
     "name": "stdout",
     "output_type": "stream",
     "text": [
      "WARNING:tensorflow:Unresolved object in checkpoint: (root).net.hidden_batch_norms.2.beta\n"
     ]
    },
    {
     "name": "stderr",
     "output_type": "stream",
     "text": [
      "WARNING:tensorflow:Unresolved object in checkpoint: (root).net.hidden_batch_norms.2.beta\n"
     ]
    },
    {
     "name": "stdout",
     "output_type": "stream",
     "text": [
      "WARNING:tensorflow:Unresolved object in checkpoint: (root).net.hidden_batch_norms.2.moving_mean\n"
     ]
    },
    {
     "name": "stderr",
     "output_type": "stream",
     "text": [
      "WARNING:tensorflow:Unresolved object in checkpoint: (root).net.hidden_batch_norms.2.moving_mean\n"
     ]
    },
    {
     "name": "stdout",
     "output_type": "stream",
     "text": [
      "WARNING:tensorflow:Unresolved object in checkpoint: (root).net.hidden_batch_norms.2.moving_variance\n"
     ]
    },
    {
     "name": "stderr",
     "output_type": "stream",
     "text": [
      "WARNING:tensorflow:Unresolved object in checkpoint: (root).net.hidden_batch_norms.2.moving_variance\n"
     ]
    },
    {
     "name": "stdout",
     "output_type": "stream",
     "text": [
      "WARNING:tensorflow:Unresolved object in checkpoint: (root).optimizer's state 'm' for (root).net.final_dense.kernel\n"
     ]
    },
    {
     "name": "stderr",
     "output_type": "stream",
     "text": [
      "WARNING:tensorflow:Unresolved object in checkpoint: (root).optimizer's state 'm' for (root).net.final_dense.kernel\n"
     ]
    },
    {
     "name": "stdout",
     "output_type": "stream",
     "text": [
      "WARNING:tensorflow:Unresolved object in checkpoint: (root).optimizer's state 'm' for (root).net.final_dense.bias\n"
     ]
    },
    {
     "name": "stderr",
     "output_type": "stream",
     "text": [
      "WARNING:tensorflow:Unresolved object in checkpoint: (root).optimizer's state 'm' for (root).net.final_dense.bias\n"
     ]
    },
    {
     "name": "stdout",
     "output_type": "stream",
     "text": [
      "WARNING:tensorflow:Unresolved object in checkpoint: (root).optimizer's state 'm' for (root).net.hidden_layers.0.kernel\n"
     ]
    },
    {
     "name": "stderr",
     "output_type": "stream",
     "text": [
      "WARNING:tensorflow:Unresolved object in checkpoint: (root).optimizer's state 'm' for (root).net.hidden_layers.0.kernel\n"
     ]
    },
    {
     "name": "stdout",
     "output_type": "stream",
     "text": [
      "WARNING:tensorflow:Unresolved object in checkpoint: (root).optimizer's state 'm' for (root).net.hidden_layers.0.bias\n"
     ]
    },
    {
     "name": "stderr",
     "output_type": "stream",
     "text": [
      "WARNING:tensorflow:Unresolved object in checkpoint: (root).optimizer's state 'm' for (root).net.hidden_layers.0.bias\n"
     ]
    },
    {
     "name": "stdout",
     "output_type": "stream",
     "text": [
      "WARNING:tensorflow:Unresolved object in checkpoint: (root).optimizer's state 'm' for (root).net.hidden_layers.1.kernel\n"
     ]
    },
    {
     "name": "stderr",
     "output_type": "stream",
     "text": [
      "WARNING:tensorflow:Unresolved object in checkpoint: (root).optimizer's state 'm' for (root).net.hidden_layers.1.kernel\n"
     ]
    },
    {
     "name": "stdout",
     "output_type": "stream",
     "text": [
      "WARNING:tensorflow:Unresolved object in checkpoint: (root).optimizer's state 'm' for (root).net.hidden_layers.1.bias\n"
     ]
    },
    {
     "name": "stderr",
     "output_type": "stream",
     "text": [
      "WARNING:tensorflow:Unresolved object in checkpoint: (root).optimizer's state 'm' for (root).net.hidden_layers.1.bias\n"
     ]
    },
    {
     "name": "stdout",
     "output_type": "stream",
     "text": [
      "WARNING:tensorflow:Unresolved object in checkpoint: (root).optimizer's state 'm' for (root).net.hidden_layers.2.kernel\n"
     ]
    },
    {
     "name": "stderr",
     "output_type": "stream",
     "text": [
      "WARNING:tensorflow:Unresolved object in checkpoint: (root).optimizer's state 'm' for (root).net.hidden_layers.2.kernel\n"
     ]
    },
    {
     "name": "stdout",
     "output_type": "stream",
     "text": [
      "WARNING:tensorflow:Unresolved object in checkpoint: (root).optimizer's state 'm' for (root).net.hidden_layers.2.bias\n"
     ]
    },
    {
     "name": "stderr",
     "output_type": "stream",
     "text": [
      "WARNING:tensorflow:Unresolved object in checkpoint: (root).optimizer's state 'm' for (root).net.hidden_layers.2.bias\n"
     ]
    },
    {
     "name": "stdout",
     "output_type": "stream",
     "text": [
      "WARNING:tensorflow:Unresolved object in checkpoint: (root).optimizer's state 'm' for (root).net.hidden_batch_norms.0.gamma\n"
     ]
    },
    {
     "name": "stderr",
     "output_type": "stream",
     "text": [
      "WARNING:tensorflow:Unresolved object in checkpoint: (root).optimizer's state 'm' for (root).net.hidden_batch_norms.0.gamma\n"
     ]
    },
    {
     "name": "stdout",
     "output_type": "stream",
     "text": [
      "WARNING:tensorflow:Unresolved object in checkpoint: (root).optimizer's state 'm' for (root).net.hidden_batch_norms.0.beta\n"
     ]
    },
    {
     "name": "stderr",
     "output_type": "stream",
     "text": [
      "WARNING:tensorflow:Unresolved object in checkpoint: (root).optimizer's state 'm' for (root).net.hidden_batch_norms.0.beta\n"
     ]
    },
    {
     "name": "stdout",
     "output_type": "stream",
     "text": [
      "WARNING:tensorflow:Unresolved object in checkpoint: (root).optimizer's state 'm' for (root).net.hidden_batch_norms.1.gamma\n"
     ]
    },
    {
     "name": "stderr",
     "output_type": "stream",
     "text": [
      "WARNING:tensorflow:Unresolved object in checkpoint: (root).optimizer's state 'm' for (root).net.hidden_batch_norms.1.gamma\n"
     ]
    },
    {
     "name": "stdout",
     "output_type": "stream",
     "text": [
      "WARNING:tensorflow:Unresolved object in checkpoint: (root).optimizer's state 'm' for (root).net.hidden_batch_norms.1.beta\n"
     ]
    },
    {
     "name": "stderr",
     "output_type": "stream",
     "text": [
      "WARNING:tensorflow:Unresolved object in checkpoint: (root).optimizer's state 'm' for (root).net.hidden_batch_norms.1.beta\n"
     ]
    },
    {
     "name": "stdout",
     "output_type": "stream",
     "text": [
      "WARNING:tensorflow:Unresolved object in checkpoint: (root).optimizer's state 'm' for (root).net.hidden_batch_norms.2.gamma\n"
     ]
    },
    {
     "name": "stderr",
     "output_type": "stream",
     "text": [
      "WARNING:tensorflow:Unresolved object in checkpoint: (root).optimizer's state 'm' for (root).net.hidden_batch_norms.2.gamma\n"
     ]
    },
    {
     "name": "stdout",
     "output_type": "stream",
     "text": [
      "WARNING:tensorflow:Unresolved object in checkpoint: (root).optimizer's state 'm' for (root).net.hidden_batch_norms.2.beta\n"
     ]
    },
    {
     "name": "stderr",
     "output_type": "stream",
     "text": [
      "WARNING:tensorflow:Unresolved object in checkpoint: (root).optimizer's state 'm' for (root).net.hidden_batch_norms.2.beta\n"
     ]
    },
    {
     "name": "stdout",
     "output_type": "stream",
     "text": [
      "WARNING:tensorflow:Unresolved object in checkpoint: (root).optimizer's state 'v' for (root).net.final_dense.kernel\n"
     ]
    },
    {
     "name": "stderr",
     "output_type": "stream",
     "text": [
      "WARNING:tensorflow:Unresolved object in checkpoint: (root).optimizer's state 'v' for (root).net.final_dense.kernel\n"
     ]
    },
    {
     "name": "stdout",
     "output_type": "stream",
     "text": [
      "WARNING:tensorflow:Unresolved object in checkpoint: (root).optimizer's state 'v' for (root).net.final_dense.bias\n"
     ]
    },
    {
     "name": "stderr",
     "output_type": "stream",
     "text": [
      "WARNING:tensorflow:Unresolved object in checkpoint: (root).optimizer's state 'v' for (root).net.final_dense.bias\n"
     ]
    },
    {
     "name": "stdout",
     "output_type": "stream",
     "text": [
      "WARNING:tensorflow:Unresolved object in checkpoint: (root).optimizer's state 'v' for (root).net.hidden_layers.0.kernel\n"
     ]
    },
    {
     "name": "stderr",
     "output_type": "stream",
     "text": [
      "WARNING:tensorflow:Unresolved object in checkpoint: (root).optimizer's state 'v' for (root).net.hidden_layers.0.kernel\n"
     ]
    },
    {
     "name": "stdout",
     "output_type": "stream",
     "text": [
      "WARNING:tensorflow:Unresolved object in checkpoint: (root).optimizer's state 'v' for (root).net.hidden_layers.0.bias\n"
     ]
    },
    {
     "name": "stderr",
     "output_type": "stream",
     "text": [
      "WARNING:tensorflow:Unresolved object in checkpoint: (root).optimizer's state 'v' for (root).net.hidden_layers.0.bias\n"
     ]
    },
    {
     "name": "stdout",
     "output_type": "stream",
     "text": [
      "WARNING:tensorflow:Unresolved object in checkpoint: (root).optimizer's state 'v' for (root).net.hidden_layers.1.kernel\n"
     ]
    },
    {
     "name": "stderr",
     "output_type": "stream",
     "text": [
      "WARNING:tensorflow:Unresolved object in checkpoint: (root).optimizer's state 'v' for (root).net.hidden_layers.1.kernel\n"
     ]
    },
    {
     "name": "stdout",
     "output_type": "stream",
     "text": [
      "WARNING:tensorflow:Unresolved object in checkpoint: (root).optimizer's state 'v' for (root).net.hidden_layers.1.bias\n"
     ]
    },
    {
     "name": "stderr",
     "output_type": "stream",
     "text": [
      "WARNING:tensorflow:Unresolved object in checkpoint: (root).optimizer's state 'v' for (root).net.hidden_layers.1.bias\n"
     ]
    },
    {
     "name": "stdout",
     "output_type": "stream",
     "text": [
      "WARNING:tensorflow:Unresolved object in checkpoint: (root).optimizer's state 'v' for (root).net.hidden_layers.2.kernel\n"
     ]
    },
    {
     "name": "stderr",
     "output_type": "stream",
     "text": [
      "WARNING:tensorflow:Unresolved object in checkpoint: (root).optimizer's state 'v' for (root).net.hidden_layers.2.kernel\n"
     ]
    },
    {
     "name": "stdout",
     "output_type": "stream",
     "text": [
      "WARNING:tensorflow:Unresolved object in checkpoint: (root).optimizer's state 'v' for (root).net.hidden_layers.2.bias\n"
     ]
    },
    {
     "name": "stderr",
     "output_type": "stream",
     "text": [
      "WARNING:tensorflow:Unresolved object in checkpoint: (root).optimizer's state 'v' for (root).net.hidden_layers.2.bias\n"
     ]
    },
    {
     "name": "stdout",
     "output_type": "stream",
     "text": [
      "WARNING:tensorflow:Unresolved object in checkpoint: (root).optimizer's state 'v' for (root).net.hidden_batch_norms.0.gamma\n"
     ]
    },
    {
     "name": "stderr",
     "output_type": "stream",
     "text": [
      "WARNING:tensorflow:Unresolved object in checkpoint: (root).optimizer's state 'v' for (root).net.hidden_batch_norms.0.gamma\n"
     ]
    },
    {
     "name": "stdout",
     "output_type": "stream",
     "text": [
      "WARNING:tensorflow:Unresolved object in checkpoint: (root).optimizer's state 'v' for (root).net.hidden_batch_norms.0.beta\n"
     ]
    },
    {
     "name": "stderr",
     "output_type": "stream",
     "text": [
      "WARNING:tensorflow:Unresolved object in checkpoint: (root).optimizer's state 'v' for (root).net.hidden_batch_norms.0.beta\n"
     ]
    },
    {
     "name": "stdout",
     "output_type": "stream",
     "text": [
      "WARNING:tensorflow:Unresolved object in checkpoint: (root).optimizer's state 'v' for (root).net.hidden_batch_norms.1.gamma\n"
     ]
    },
    {
     "name": "stderr",
     "output_type": "stream",
     "text": [
      "WARNING:tensorflow:Unresolved object in checkpoint: (root).optimizer's state 'v' for (root).net.hidden_batch_norms.1.gamma\n"
     ]
    },
    {
     "name": "stdout",
     "output_type": "stream",
     "text": [
      "WARNING:tensorflow:Unresolved object in checkpoint: (root).optimizer's state 'v' for (root).net.hidden_batch_norms.1.beta\n"
     ]
    },
    {
     "name": "stderr",
     "output_type": "stream",
     "text": [
      "WARNING:tensorflow:Unresolved object in checkpoint: (root).optimizer's state 'v' for (root).net.hidden_batch_norms.1.beta\n"
     ]
    },
    {
     "name": "stdout",
     "output_type": "stream",
     "text": [
      "WARNING:tensorflow:Unresolved object in checkpoint: (root).optimizer's state 'v' for (root).net.hidden_batch_norms.2.gamma\n"
     ]
    },
    {
     "name": "stderr",
     "output_type": "stream",
     "text": [
      "WARNING:tensorflow:Unresolved object in checkpoint: (root).optimizer's state 'v' for (root).net.hidden_batch_norms.2.gamma\n"
     ]
    },
    {
     "name": "stdout",
     "output_type": "stream",
     "text": [
      "WARNING:tensorflow:Unresolved object in checkpoint: (root).optimizer's state 'v' for (root).net.hidden_batch_norms.2.beta\n"
     ]
    },
    {
     "name": "stderr",
     "output_type": "stream",
     "text": [
      "WARNING:tensorflow:Unresolved object in checkpoint: (root).optimizer's state 'v' for (root).net.hidden_batch_norms.2.beta\n"
     ]
    },
    {
     "name": "stdout",
     "output_type": "stream",
     "text": [
      "WARNING:tensorflow:A checkpoint was restored (e.g. tf.train.Checkpoint.restore or tf.keras.Model.load_weights) but not all checkpointed values were used. See above for specific issues. Use expect_partial() on the load status object, e.g. tf.train.Checkpoint.restore(...).expect_partial(), to silence these warnings, or use assert_consumed() to make the check explicit. See https://www.tensorflow.org/guide/checkpoint#loading_mechanics for details.\n"
     ]
    },
    {
     "name": "stderr",
     "output_type": "stream",
     "text": [
      "WARNING:tensorflow:A checkpoint was restored (e.g. tf.train.Checkpoint.restore or tf.keras.Model.load_weights) but not all checkpointed values were used. See above for specific issues. Use expect_partial() on the load status object, e.g. tf.train.Checkpoint.restore(...).expect_partial(), to silence these warnings, or use assert_consumed() to make the check explicit. See https://www.tensorflow.org/guide/checkpoint#loading_mechanics for details.\n"
     ]
    },
    {
     "name": "stdout",
     "output_type": "stream",
     "text": [
      "WARNING:tensorflow:Unresolved object in checkpoint: (root).step\n"
     ]
    },
    {
     "name": "stderr",
     "output_type": "stream",
     "text": [
      "WARNING:tensorflow:Unresolved object in checkpoint: (root).step\n"
     ]
    },
    {
     "name": "stdout",
     "output_type": "stream",
     "text": [
      "WARNING:tensorflow:Unresolved object in checkpoint: (root).net._training_endpoints\n"
     ]
    },
    {
     "name": "stderr",
     "output_type": "stream",
     "text": [
      "WARNING:tensorflow:Unresolved object in checkpoint: (root).net._training_endpoints\n"
     ]
    },
    {
     "name": "stdout",
     "output_type": "stream",
     "text": [
      "WARNING:tensorflow:Unresolved object in checkpoint: (root).optimizer.iter\n"
     ]
    },
    {
     "name": "stderr",
     "output_type": "stream",
     "text": [
      "WARNING:tensorflow:Unresolved object in checkpoint: (root).optimizer.iter\n"
     ]
    },
    {
     "name": "stdout",
     "output_type": "stream",
     "text": [
      "WARNING:tensorflow:Unresolved object in checkpoint: (root).optimizer.beta_1\n"
     ]
    },
    {
     "name": "stderr",
     "output_type": "stream",
     "text": [
      "WARNING:tensorflow:Unresolved object in checkpoint: (root).optimizer.beta_1\n"
     ]
    },
    {
     "name": "stdout",
     "output_type": "stream",
     "text": [
      "WARNING:tensorflow:Unresolved object in checkpoint: (root).optimizer.beta_2\n"
     ]
    },
    {
     "name": "stderr",
     "output_type": "stream",
     "text": [
      "WARNING:tensorflow:Unresolved object in checkpoint: (root).optimizer.beta_2\n"
     ]
    },
    {
     "name": "stdout",
     "output_type": "stream",
     "text": [
      "WARNING:tensorflow:Unresolved object in checkpoint: (root).optimizer.decay\n"
     ]
    },
    {
     "name": "stderr",
     "output_type": "stream",
     "text": [
      "WARNING:tensorflow:Unresolved object in checkpoint: (root).optimizer.decay\n"
     ]
    },
    {
     "name": "stdout",
     "output_type": "stream",
     "text": [
      "WARNING:tensorflow:Unresolved object in checkpoint: (root).optimizer.min_lr\n"
     ]
    },
    {
     "name": "stderr",
     "output_type": "stream",
     "text": [
      "WARNING:tensorflow:Unresolved object in checkpoint: (root).optimizer.min_lr\n"
     ]
    },
    {
     "name": "stdout",
     "output_type": "stream",
     "text": [
      "WARNING:tensorflow:Unresolved object in checkpoint: (root).optimizer.sma_threshold\n"
     ]
    },
    {
     "name": "stderr",
     "output_type": "stream",
     "text": [
      "WARNING:tensorflow:Unresolved object in checkpoint: (root).optimizer.sma_threshold\n"
     ]
    },
    {
     "name": "stdout",
     "output_type": "stream",
     "text": [
      "WARNING:tensorflow:Unresolved object in checkpoint: (root).optimizer.total_steps\n"
     ]
    },
    {
     "name": "stderr",
     "output_type": "stream",
     "text": [
      "WARNING:tensorflow:Unresolved object in checkpoint: (root).optimizer.total_steps\n"
     ]
    },
    {
     "name": "stdout",
     "output_type": "stream",
     "text": [
      "WARNING:tensorflow:Unresolved object in checkpoint: (root).optimizer.warmup_proportion\n"
     ]
    },
    {
     "name": "stderr",
     "output_type": "stream",
     "text": [
      "WARNING:tensorflow:Unresolved object in checkpoint: (root).optimizer.warmup_proportion\n"
     ]
    },
    {
     "name": "stdout",
     "output_type": "stream",
     "text": [
      "WARNING:tensorflow:Unresolved object in checkpoint: (root).optimizer.weight_decay\n"
     ]
    },
    {
     "name": "stderr",
     "output_type": "stream",
     "text": [
      "WARNING:tensorflow:Unresolved object in checkpoint: (root).optimizer.weight_decay\n"
     ]
    },
    {
     "name": "stdout",
     "output_type": "stream",
     "text": [
      "WARNING:tensorflow:Unresolved object in checkpoint: (root).net.final_dense.kernel\n"
     ]
    },
    {
     "name": "stderr",
     "output_type": "stream",
     "text": [
      "WARNING:tensorflow:Unresolved object in checkpoint: (root).net.final_dense.kernel\n"
     ]
    },
    {
     "name": "stdout",
     "output_type": "stream",
     "text": [
      "WARNING:tensorflow:Unresolved object in checkpoint: (root).net.final_dense.bias\n"
     ]
    },
    {
     "name": "stderr",
     "output_type": "stream",
     "text": [
      "WARNING:tensorflow:Unresolved object in checkpoint: (root).net.final_dense.bias\n"
     ]
    },
    {
     "name": "stdout",
     "output_type": "stream",
     "text": [
      "WARNING:tensorflow:Unresolved object in checkpoint: (root).net.hidden_layers.0.kernel\n"
     ]
    },
    {
     "name": "stderr",
     "output_type": "stream",
     "text": [
      "WARNING:tensorflow:Unresolved object in checkpoint: (root).net.hidden_layers.0.kernel\n"
     ]
    },
    {
     "name": "stdout",
     "output_type": "stream",
     "text": [
      "WARNING:tensorflow:Unresolved object in checkpoint: (root).net.hidden_layers.0.bias\n"
     ]
    },
    {
     "name": "stderr",
     "output_type": "stream",
     "text": [
      "WARNING:tensorflow:Unresolved object in checkpoint: (root).net.hidden_layers.0.bias\n"
     ]
    },
    {
     "name": "stdout",
     "output_type": "stream",
     "text": [
      "WARNING:tensorflow:Unresolved object in checkpoint: (root).net.hidden_layers.1.kernel\n"
     ]
    },
    {
     "name": "stderr",
     "output_type": "stream",
     "text": [
      "WARNING:tensorflow:Unresolved object in checkpoint: (root).net.hidden_layers.1.kernel\n"
     ]
    },
    {
     "name": "stdout",
     "output_type": "stream",
     "text": [
      "WARNING:tensorflow:Unresolved object in checkpoint: (root).net.hidden_layers.1.bias\n"
     ]
    },
    {
     "name": "stderr",
     "output_type": "stream",
     "text": [
      "WARNING:tensorflow:Unresolved object in checkpoint: (root).net.hidden_layers.1.bias\n"
     ]
    },
    {
     "name": "stdout",
     "output_type": "stream",
     "text": [
      "WARNING:tensorflow:Unresolved object in checkpoint: (root).net.hidden_layers.2.kernel\n"
     ]
    },
    {
     "name": "stderr",
     "output_type": "stream",
     "text": [
      "WARNING:tensorflow:Unresolved object in checkpoint: (root).net.hidden_layers.2.kernel\n"
     ]
    },
    {
     "name": "stdout",
     "output_type": "stream",
     "text": [
      "WARNING:tensorflow:Unresolved object in checkpoint: (root).net.hidden_layers.2.bias\n"
     ]
    },
    {
     "name": "stderr",
     "output_type": "stream",
     "text": [
      "WARNING:tensorflow:Unresolved object in checkpoint: (root).net.hidden_layers.2.bias\n"
     ]
    },
    {
     "name": "stdout",
     "output_type": "stream",
     "text": [
      "WARNING:tensorflow:Unresolved object in checkpoint: (root).net.hidden_batch_norms.0.axis\n"
     ]
    },
    {
     "name": "stderr",
     "output_type": "stream",
     "text": [
      "WARNING:tensorflow:Unresolved object in checkpoint: (root).net.hidden_batch_norms.0.axis\n"
     ]
    },
    {
     "name": "stdout",
     "output_type": "stream",
     "text": [
      "WARNING:tensorflow:Unresolved object in checkpoint: (root).net.hidden_batch_norms.0.gamma\n"
     ]
    },
    {
     "name": "stderr",
     "output_type": "stream",
     "text": [
      "WARNING:tensorflow:Unresolved object in checkpoint: (root).net.hidden_batch_norms.0.gamma\n"
     ]
    },
    {
     "name": "stdout",
     "output_type": "stream",
     "text": [
      "WARNING:tensorflow:Unresolved object in checkpoint: (root).net.hidden_batch_norms.0.beta\n"
     ]
    },
    {
     "name": "stderr",
     "output_type": "stream",
     "text": [
      "WARNING:tensorflow:Unresolved object in checkpoint: (root).net.hidden_batch_norms.0.beta\n"
     ]
    },
    {
     "name": "stdout",
     "output_type": "stream",
     "text": [
      "WARNING:tensorflow:Unresolved object in checkpoint: (root).net.hidden_batch_norms.0.moving_mean\n"
     ]
    },
    {
     "name": "stderr",
     "output_type": "stream",
     "text": [
      "WARNING:tensorflow:Unresolved object in checkpoint: (root).net.hidden_batch_norms.0.moving_mean\n"
     ]
    },
    {
     "name": "stdout",
     "output_type": "stream",
     "text": [
      "WARNING:tensorflow:Unresolved object in checkpoint: (root).net.hidden_batch_norms.0.moving_variance\n"
     ]
    },
    {
     "name": "stderr",
     "output_type": "stream",
     "text": [
      "WARNING:tensorflow:Unresolved object in checkpoint: (root).net.hidden_batch_norms.0.moving_variance\n"
     ]
    },
    {
     "name": "stdout",
     "output_type": "stream",
     "text": [
      "WARNING:tensorflow:Unresolved object in checkpoint: (root).net.hidden_batch_norms.1.axis\n"
     ]
    },
    {
     "name": "stderr",
     "output_type": "stream",
     "text": [
      "WARNING:tensorflow:Unresolved object in checkpoint: (root).net.hidden_batch_norms.1.axis\n"
     ]
    },
    {
     "name": "stdout",
     "output_type": "stream",
     "text": [
      "WARNING:tensorflow:Unresolved object in checkpoint: (root).net.hidden_batch_norms.1.gamma\n"
     ]
    },
    {
     "name": "stderr",
     "output_type": "stream",
     "text": [
      "WARNING:tensorflow:Unresolved object in checkpoint: (root).net.hidden_batch_norms.1.gamma\n"
     ]
    },
    {
     "name": "stdout",
     "output_type": "stream",
     "text": [
      "WARNING:tensorflow:Unresolved object in checkpoint: (root).net.hidden_batch_norms.1.beta\n"
     ]
    },
    {
     "name": "stderr",
     "output_type": "stream",
     "text": [
      "WARNING:tensorflow:Unresolved object in checkpoint: (root).net.hidden_batch_norms.1.beta\n"
     ]
    },
    {
     "name": "stdout",
     "output_type": "stream",
     "text": [
      "WARNING:tensorflow:Unresolved object in checkpoint: (root).net.hidden_batch_norms.1.moving_mean\n"
     ]
    },
    {
     "name": "stderr",
     "output_type": "stream",
     "text": [
      "WARNING:tensorflow:Unresolved object in checkpoint: (root).net.hidden_batch_norms.1.moving_mean\n"
     ]
    },
    {
     "name": "stdout",
     "output_type": "stream",
     "text": [
      "WARNING:tensorflow:Unresolved object in checkpoint: (root).net.hidden_batch_norms.1.moving_variance\n"
     ]
    },
    {
     "name": "stderr",
     "output_type": "stream",
     "text": [
      "WARNING:tensorflow:Unresolved object in checkpoint: (root).net.hidden_batch_norms.1.moving_variance\n"
     ]
    },
    {
     "name": "stdout",
     "output_type": "stream",
     "text": [
      "WARNING:tensorflow:Unresolved object in checkpoint: (root).net.hidden_batch_norms.2.axis\n"
     ]
    },
    {
     "name": "stderr",
     "output_type": "stream",
     "text": [
      "WARNING:tensorflow:Unresolved object in checkpoint: (root).net.hidden_batch_norms.2.axis\n"
     ]
    },
    {
     "name": "stdout",
     "output_type": "stream",
     "text": [
      "WARNING:tensorflow:Unresolved object in checkpoint: (root).net.hidden_batch_norms.2.gamma\n"
     ]
    },
    {
     "name": "stderr",
     "output_type": "stream",
     "text": [
      "WARNING:tensorflow:Unresolved object in checkpoint: (root).net.hidden_batch_norms.2.gamma\n"
     ]
    },
    {
     "name": "stdout",
     "output_type": "stream",
     "text": [
      "WARNING:tensorflow:Unresolved object in checkpoint: (root).net.hidden_batch_norms.2.beta\n"
     ]
    },
    {
     "name": "stderr",
     "output_type": "stream",
     "text": [
      "WARNING:tensorflow:Unresolved object in checkpoint: (root).net.hidden_batch_norms.2.beta\n"
     ]
    },
    {
     "name": "stdout",
     "output_type": "stream",
     "text": [
      "WARNING:tensorflow:Unresolved object in checkpoint: (root).net.hidden_batch_norms.2.moving_mean\n"
     ]
    },
    {
     "name": "stderr",
     "output_type": "stream",
     "text": [
      "WARNING:tensorflow:Unresolved object in checkpoint: (root).net.hidden_batch_norms.2.moving_mean\n"
     ]
    },
    {
     "name": "stdout",
     "output_type": "stream",
     "text": [
      "WARNING:tensorflow:Unresolved object in checkpoint: (root).net.hidden_batch_norms.2.moving_variance\n"
     ]
    },
    {
     "name": "stderr",
     "output_type": "stream",
     "text": [
      "WARNING:tensorflow:Unresolved object in checkpoint: (root).net.hidden_batch_norms.2.moving_variance\n"
     ]
    },
    {
     "name": "stdout",
     "output_type": "stream",
     "text": [
      "WARNING:tensorflow:Unresolved object in checkpoint: (root).optimizer's state 'm' for (root).net.final_dense.kernel\n"
     ]
    },
    {
     "name": "stderr",
     "output_type": "stream",
     "text": [
      "WARNING:tensorflow:Unresolved object in checkpoint: (root).optimizer's state 'm' for (root).net.final_dense.kernel\n"
     ]
    },
    {
     "name": "stdout",
     "output_type": "stream",
     "text": [
      "WARNING:tensorflow:Unresolved object in checkpoint: (root).optimizer's state 'm' for (root).net.final_dense.bias\n"
     ]
    },
    {
     "name": "stderr",
     "output_type": "stream",
     "text": [
      "WARNING:tensorflow:Unresolved object in checkpoint: (root).optimizer's state 'm' for (root).net.final_dense.bias\n"
     ]
    },
    {
     "name": "stdout",
     "output_type": "stream",
     "text": [
      "WARNING:tensorflow:Unresolved object in checkpoint: (root).optimizer's state 'm' for (root).net.hidden_layers.0.kernel\n"
     ]
    },
    {
     "name": "stderr",
     "output_type": "stream",
     "text": [
      "WARNING:tensorflow:Unresolved object in checkpoint: (root).optimizer's state 'm' for (root).net.hidden_layers.0.kernel\n"
     ]
    },
    {
     "name": "stdout",
     "output_type": "stream",
     "text": [
      "WARNING:tensorflow:Unresolved object in checkpoint: (root).optimizer's state 'm' for (root).net.hidden_layers.0.bias\n"
     ]
    },
    {
     "name": "stderr",
     "output_type": "stream",
     "text": [
      "WARNING:tensorflow:Unresolved object in checkpoint: (root).optimizer's state 'm' for (root).net.hidden_layers.0.bias\n"
     ]
    },
    {
     "name": "stdout",
     "output_type": "stream",
     "text": [
      "WARNING:tensorflow:Unresolved object in checkpoint: (root).optimizer's state 'm' for (root).net.hidden_layers.1.kernel\n"
     ]
    },
    {
     "name": "stderr",
     "output_type": "stream",
     "text": [
      "WARNING:tensorflow:Unresolved object in checkpoint: (root).optimizer's state 'm' for (root).net.hidden_layers.1.kernel\n"
     ]
    },
    {
     "name": "stdout",
     "output_type": "stream",
     "text": [
      "WARNING:tensorflow:Unresolved object in checkpoint: (root).optimizer's state 'm' for (root).net.hidden_layers.1.bias\n"
     ]
    },
    {
     "name": "stderr",
     "output_type": "stream",
     "text": [
      "WARNING:tensorflow:Unresolved object in checkpoint: (root).optimizer's state 'm' for (root).net.hidden_layers.1.bias\n"
     ]
    },
    {
     "name": "stdout",
     "output_type": "stream",
     "text": [
      "WARNING:tensorflow:Unresolved object in checkpoint: (root).optimizer's state 'm' for (root).net.hidden_layers.2.kernel\n"
     ]
    },
    {
     "name": "stderr",
     "output_type": "stream",
     "text": [
      "WARNING:tensorflow:Unresolved object in checkpoint: (root).optimizer's state 'm' for (root).net.hidden_layers.2.kernel\n"
     ]
    },
    {
     "name": "stdout",
     "output_type": "stream",
     "text": [
      "WARNING:tensorflow:Unresolved object in checkpoint: (root).optimizer's state 'm' for (root).net.hidden_layers.2.bias\n"
     ]
    },
    {
     "name": "stderr",
     "output_type": "stream",
     "text": [
      "WARNING:tensorflow:Unresolved object in checkpoint: (root).optimizer's state 'm' for (root).net.hidden_layers.2.bias\n"
     ]
    },
    {
     "name": "stdout",
     "output_type": "stream",
     "text": [
      "WARNING:tensorflow:Unresolved object in checkpoint: (root).optimizer's state 'm' for (root).net.hidden_batch_norms.0.gamma\n"
     ]
    },
    {
     "name": "stderr",
     "output_type": "stream",
     "text": [
      "WARNING:tensorflow:Unresolved object in checkpoint: (root).optimizer's state 'm' for (root).net.hidden_batch_norms.0.gamma\n"
     ]
    },
    {
     "name": "stdout",
     "output_type": "stream",
     "text": [
      "WARNING:tensorflow:Unresolved object in checkpoint: (root).optimizer's state 'm' for (root).net.hidden_batch_norms.0.beta\n"
     ]
    },
    {
     "name": "stderr",
     "output_type": "stream",
     "text": [
      "WARNING:tensorflow:Unresolved object in checkpoint: (root).optimizer's state 'm' for (root).net.hidden_batch_norms.0.beta\n"
     ]
    },
    {
     "name": "stdout",
     "output_type": "stream",
     "text": [
      "WARNING:tensorflow:Unresolved object in checkpoint: (root).optimizer's state 'm' for (root).net.hidden_batch_norms.1.gamma\n"
     ]
    },
    {
     "name": "stderr",
     "output_type": "stream",
     "text": [
      "WARNING:tensorflow:Unresolved object in checkpoint: (root).optimizer's state 'm' for (root).net.hidden_batch_norms.1.gamma\n"
     ]
    },
    {
     "name": "stdout",
     "output_type": "stream",
     "text": [
      "WARNING:tensorflow:Unresolved object in checkpoint: (root).optimizer's state 'm' for (root).net.hidden_batch_norms.1.beta\n"
     ]
    },
    {
     "name": "stderr",
     "output_type": "stream",
     "text": [
      "WARNING:tensorflow:Unresolved object in checkpoint: (root).optimizer's state 'm' for (root).net.hidden_batch_norms.1.beta\n"
     ]
    },
    {
     "name": "stdout",
     "output_type": "stream",
     "text": [
      "WARNING:tensorflow:Unresolved object in checkpoint: (root).optimizer's state 'm' for (root).net.hidden_batch_norms.2.gamma\n"
     ]
    },
    {
     "name": "stderr",
     "output_type": "stream",
     "text": [
      "WARNING:tensorflow:Unresolved object in checkpoint: (root).optimizer's state 'm' for (root).net.hidden_batch_norms.2.gamma\n"
     ]
    },
    {
     "name": "stdout",
     "output_type": "stream",
     "text": [
      "WARNING:tensorflow:Unresolved object in checkpoint: (root).optimizer's state 'm' for (root).net.hidden_batch_norms.2.beta\n"
     ]
    },
    {
     "name": "stderr",
     "output_type": "stream",
     "text": [
      "WARNING:tensorflow:Unresolved object in checkpoint: (root).optimizer's state 'm' for (root).net.hidden_batch_norms.2.beta\n"
     ]
    },
    {
     "name": "stdout",
     "output_type": "stream",
     "text": [
      "WARNING:tensorflow:Unresolved object in checkpoint: (root).optimizer's state 'v' for (root).net.final_dense.kernel\n"
     ]
    },
    {
     "name": "stderr",
     "output_type": "stream",
     "text": [
      "WARNING:tensorflow:Unresolved object in checkpoint: (root).optimizer's state 'v' for (root).net.final_dense.kernel\n"
     ]
    },
    {
     "name": "stdout",
     "output_type": "stream",
     "text": [
      "WARNING:tensorflow:Unresolved object in checkpoint: (root).optimizer's state 'v' for (root).net.final_dense.bias\n"
     ]
    },
    {
     "name": "stderr",
     "output_type": "stream",
     "text": [
      "WARNING:tensorflow:Unresolved object in checkpoint: (root).optimizer's state 'v' for (root).net.final_dense.bias\n"
     ]
    },
    {
     "name": "stdout",
     "output_type": "stream",
     "text": [
      "WARNING:tensorflow:Unresolved object in checkpoint: (root).optimizer's state 'v' for (root).net.hidden_layers.0.kernel\n"
     ]
    },
    {
     "name": "stderr",
     "output_type": "stream",
     "text": [
      "WARNING:tensorflow:Unresolved object in checkpoint: (root).optimizer's state 'v' for (root).net.hidden_layers.0.kernel\n"
     ]
    },
    {
     "name": "stdout",
     "output_type": "stream",
     "text": [
      "WARNING:tensorflow:Unresolved object in checkpoint: (root).optimizer's state 'v' for (root).net.hidden_layers.0.bias\n"
     ]
    },
    {
     "name": "stderr",
     "output_type": "stream",
     "text": [
      "WARNING:tensorflow:Unresolved object in checkpoint: (root).optimizer's state 'v' for (root).net.hidden_layers.0.bias\n"
     ]
    },
    {
     "name": "stdout",
     "output_type": "stream",
     "text": [
      "WARNING:tensorflow:Unresolved object in checkpoint: (root).optimizer's state 'v' for (root).net.hidden_layers.1.kernel\n"
     ]
    },
    {
     "name": "stderr",
     "output_type": "stream",
     "text": [
      "WARNING:tensorflow:Unresolved object in checkpoint: (root).optimizer's state 'v' for (root).net.hidden_layers.1.kernel\n"
     ]
    },
    {
     "name": "stdout",
     "output_type": "stream",
     "text": [
      "WARNING:tensorflow:Unresolved object in checkpoint: (root).optimizer's state 'v' for (root).net.hidden_layers.1.bias\n"
     ]
    },
    {
     "name": "stderr",
     "output_type": "stream",
     "text": [
      "WARNING:tensorflow:Unresolved object in checkpoint: (root).optimizer's state 'v' for (root).net.hidden_layers.1.bias\n"
     ]
    },
    {
     "name": "stdout",
     "output_type": "stream",
     "text": [
      "WARNING:tensorflow:Unresolved object in checkpoint: (root).optimizer's state 'v' for (root).net.hidden_layers.2.kernel\n"
     ]
    },
    {
     "name": "stderr",
     "output_type": "stream",
     "text": [
      "WARNING:tensorflow:Unresolved object in checkpoint: (root).optimizer's state 'v' for (root).net.hidden_layers.2.kernel\n"
     ]
    },
    {
     "name": "stdout",
     "output_type": "stream",
     "text": [
      "WARNING:tensorflow:Unresolved object in checkpoint: (root).optimizer's state 'v' for (root).net.hidden_layers.2.bias\n"
     ]
    },
    {
     "name": "stderr",
     "output_type": "stream",
     "text": [
      "WARNING:tensorflow:Unresolved object in checkpoint: (root).optimizer's state 'v' for (root).net.hidden_layers.2.bias\n"
     ]
    },
    {
     "name": "stdout",
     "output_type": "stream",
     "text": [
      "WARNING:tensorflow:Unresolved object in checkpoint: (root).optimizer's state 'v' for (root).net.hidden_batch_norms.0.gamma\n"
     ]
    },
    {
     "name": "stderr",
     "output_type": "stream",
     "text": [
      "WARNING:tensorflow:Unresolved object in checkpoint: (root).optimizer's state 'v' for (root).net.hidden_batch_norms.0.gamma\n"
     ]
    },
    {
     "name": "stdout",
     "output_type": "stream",
     "text": [
      "WARNING:tensorflow:Unresolved object in checkpoint: (root).optimizer's state 'v' for (root).net.hidden_batch_norms.0.beta\n"
     ]
    },
    {
     "name": "stderr",
     "output_type": "stream",
     "text": [
      "WARNING:tensorflow:Unresolved object in checkpoint: (root).optimizer's state 'v' for (root).net.hidden_batch_norms.0.beta\n"
     ]
    },
    {
     "name": "stdout",
     "output_type": "stream",
     "text": [
      "WARNING:tensorflow:Unresolved object in checkpoint: (root).optimizer's state 'v' for (root).net.hidden_batch_norms.1.gamma\n"
     ]
    },
    {
     "name": "stderr",
     "output_type": "stream",
     "text": [
      "WARNING:tensorflow:Unresolved object in checkpoint: (root).optimizer's state 'v' for (root).net.hidden_batch_norms.1.gamma\n"
     ]
    },
    {
     "name": "stdout",
     "output_type": "stream",
     "text": [
      "WARNING:tensorflow:Unresolved object in checkpoint: (root).optimizer's state 'v' for (root).net.hidden_batch_norms.1.beta\n"
     ]
    },
    {
     "name": "stderr",
     "output_type": "stream",
     "text": [
      "WARNING:tensorflow:Unresolved object in checkpoint: (root).optimizer's state 'v' for (root).net.hidden_batch_norms.1.beta\n"
     ]
    },
    {
     "name": "stdout",
     "output_type": "stream",
     "text": [
      "WARNING:tensorflow:Unresolved object in checkpoint: (root).optimizer's state 'v' for (root).net.hidden_batch_norms.2.gamma\n"
     ]
    },
    {
     "name": "stderr",
     "output_type": "stream",
     "text": [
      "WARNING:tensorflow:Unresolved object in checkpoint: (root).optimizer's state 'v' for (root).net.hidden_batch_norms.2.gamma\n"
     ]
    },
    {
     "name": "stdout",
     "output_type": "stream",
     "text": [
      "WARNING:tensorflow:Unresolved object in checkpoint: (root).optimizer's state 'v' for (root).net.hidden_batch_norms.2.beta\n"
     ]
    },
    {
     "name": "stderr",
     "output_type": "stream",
     "text": [
      "WARNING:tensorflow:Unresolved object in checkpoint: (root).optimizer's state 'v' for (root).net.hidden_batch_norms.2.beta\n"
     ]
    },
    {
     "name": "stdout",
     "output_type": "stream",
     "text": [
      "WARNING:tensorflow:A checkpoint was restored (e.g. tf.train.Checkpoint.restore or tf.keras.Model.load_weights) but not all checkpointed values were used. See above for specific issues. Use expect_partial() on the load status object, e.g. tf.train.Checkpoint.restore(...).expect_partial(), to silence these warnings, or use assert_consumed() to make the check explicit. See https://www.tensorflow.org/guide/checkpoint#loading_mechanics for details.\n"
     ]
    },
    {
     "name": "stderr",
     "output_type": "stream",
     "text": [
      "WARNING:tensorflow:A checkpoint was restored (e.g. tf.train.Checkpoint.restore or tf.keras.Model.load_weights) but not all checkpointed values were used. See above for specific issues. Use expect_partial() on the load status object, e.g. tf.train.Checkpoint.restore(...).expect_partial(), to silence these warnings, or use assert_consumed() to make the check explicit. See https://www.tensorflow.org/guide/checkpoint#loading_mechanics for details.\n"
     ]
    },
    {
     "name": "stdout",
     "output_type": "stream",
     "text": [
      "10/10 [==============================] - 0s 31ms/step - loss: 0.0890 - classification_loss: 0.0878 - sparse_categorical_accuracy: 0.9859\n",
      "[0.08896163827739656, 0.08780624, 0.9859375]\n",
      "teacher perf:\n",
      "10/10 [==============================] - 0s 27ms/step - loss: 0.1048 - classification_loss: 0.0850 - sparse_categorical_accuracy: 0.9859\n",
      "[0.10476105939596891, 0.08497463, 0.9859375]\n",
      "model config: ff_mnist4\n",
      "model config: ff_mnist4\n",
      "model config: ff_mnist4\n",
      "model config: ff_mnist4\n",
      "model config: ff_mnist4\n",
      "student_checkpoint: ../tf_ckpts/mnist/offline_pure_dstl5_4_crs_slw_3_teacher_cl_vff_h-512.128.32_d-3_hdrop-0.1_indrop-0.0_ff_mnist4_gc_o_dtchr210_student_cl_vff_h-512.128.32_d-3_hdrop-0.1_indrop-0.0_ff_mnist4_gc_f_std220\n",
      "Restored student from ../tf_ckpts/mnist/offline_pure_dstl5_4_crs_slw_3_teacher_cl_vff_h-512.128.32_d-3_hdrop-0.1_indrop-0.0_ff_mnist4_gc_o_dtchr210_student_cl_vff_h-512.128.32_d-3_hdrop-0.1_indrop-0.0_ff_mnist4_gc_f_std220/ckpt-450\n",
      "Restored student from ../tf_ckpts/mnist/cl_vff_h-512.128.32_d-3_hdrop-0.1_indrop-0.0_ff_mnist4_gc_o_dtchr210/ckpt-400\n",
      "student perf:\n",
      "10/10 [==============================] - 0s 29ms/step - loss: 0.1102 - classification_loss: 0.1090 - sparse_categorical_accuracy: 0.9766\n",
      "[0.11024918084731325, 0.1089607, 0.9765625]\n",
      "teacher perf:\n",
      "10/10 [==============================] - 0s 29ms/step - loss: 0.0661 - classification_loss: 0.0467 - sparse_categorical_accuracy: 0.9859\n",
      "[0.06605348642915487, 0.046651416, 0.9859375]\n"
     ]
    }
   ],
   "source": [
    "##ff -> ff\n",
    "###############################1\n",
    "config={'student_exp_name':'gc_o_std210',\n",
    "        'teacher_exp_name':'gc_o_dtchr210',\n",
    "        'task_name':'mnist',\n",
    "        'teacher_model':'cl_vff',\n",
    "        'student_model':'cl_vff',\n",
    "        'teacher_config':'ff_mnist4',\n",
    "        'student_config':'ff_mnist4',\n",
    "        'distill_config':'pure_dstl2_4_crs_slw_3',\n",
    "        'distill_mode':'online',\n",
    "        'chkpt_dir':'../tf_ckpts',\n",
    "       }\n",
    "\n",
    "# std_hparams=get_model_params(task, config['student_model'], config['student_config'])\n",
    "# tchr_hparams=get_model_params(task, config['teacher_model'], config['teacher_config'])\n",
    "\n",
    "\n",
    "# ff2ff_ot1_std1, _ = get_student_model(config, task, std_hparams, cl_token)\n",
    "# ff_t1, _ = get_teacher_model(config, task, tchr_hparams, cl_token)\n",
    "\n",
    "#**********offline\n",
    "config['student_exp_name'] ='gc_f_std210'\n",
    "config['teacher_exp_name'] ='gc_o_dtchr210'\n",
    "config['distill_mode'] ='offline'\n",
    "config['distill_config'] ='pure_dstl5_4_crs_slw_3'\n",
    "std_hparams=get_model_params(task, config['student_model'], config['student_config'])\n",
    "tchr_hparams=get_model_params(task, config['teacher_model'], config['teacher_config'])\n",
    "\n",
    "\n",
    "ff2ff_ft1_std1, _ = get_student_model(config, task, std_hparams, cl_token)\n",
    "ff_t1, _ = get_teacher_model(config, task, tchr_hparams, cl_token)\n",
    "\n",
    "models.extend([ff2ff_ft1_std1, ff_t1])\n",
    "labels.extend(['ff2ff_ft1_std1', 'ff_t1'])\n",
    "print('student perf:')\n",
    "print(ff2ff_ft1_std1.evaluate(task.test_dataset, steps=10))\n",
    "print('teacher perf:')\n",
    "print(ff_t1.evaluate(task.test_dataset, steps=10))\n",
    "###############################2\n",
    "config['student_exp_name'] ='gc_o_std211'\n",
    "config['teacher_exp_name'] ='gc_o_dtchr211'\n",
    "config['distill_mode'] ='online'\n",
    "config['distill_config'] ='pure_dstl2_4_crs_slw_3'\n",
    "# std_hparams=get_model_params(task, config['student_model'], config['student_config'])\n",
    "# tchr_hparams=get_model_params(task, config['teacher_model'], config['teacher_config'])\n",
    "\n",
    "\n",
    "# ff2ff_ot2_std2, _ = get_student_model(config, task, std_hparams, cl_token)\n",
    "# ff_t2, _ = get_teacher_model(config, task, tchr_hparams, cl_token)\n",
    "\n",
    "#**********offline\n",
    "config['student_exp_name'] ='gc_f_std211'\n",
    "config['teacher_exp_name'] ='gc_o_dtchr211'\n",
    "config['distill_mode'] ='offline'\n",
    "config['distill_config'] ='pure_dstl5_4_crs_slw_3'\n",
    "std_hparams=get_model_params(task, config['student_model'], config['student_config'])\n",
    "tchr_hparams=get_model_params(task, config['teacher_model'], config['teacher_config'])\n",
    "\n",
    "\n",
    "ff2ff_ft2_std2, _ = get_student_model(config, task, std_hparams, cl_token)\n",
    "ff_t2, _ = get_teacher_model(config, task, tchr_hparams, cl_token)\n",
    "\n",
    "models.extend([ff2ff_ft2_std2, ff_t2])\n",
    "labels.extend(['ff2ff_ft2_std2', 'ff_t2'])\n",
    "print('student perf:')\n",
    "print(ff2ff_ft2_std2.evaluate(task.test_dataset, steps=10))\n",
    "print('teacher perf:')\n",
    "print(ff_t2.evaluate(task.test_dataset, steps=10))\n",
    "###############################3\n",
    "config['student_exp_name'] ='gc_o_std212'\n",
    "config['teacher_exp_name'] ='gc_o_dtchr212'\n",
    "config['distill_mode'] ='online'\n",
    "config['distill_config'] ='pure_dstl2_4_crs_slw_3'\n",
    "# std_hparams=get_model_params(task, config['student_model'], config['student_config'])\n",
    "# tchr_hparams=get_model_params(task, config['teacher_model'], config['teacher_config'])\n",
    "\n",
    "\n",
    "# ff2ff_ot3_std3, _ = get_student_model(config, task, std_hparams, cl_token)\n",
    "# ff_t3, _ = get_teacher_model(config, task, tchr_hparams, cl_token)\n",
    "\n",
    "#**********offline\n",
    "config['student_exp_name'] ='gc_f_std212'\n",
    "config['teacher_exp_name'] ='gc_o_dtchr212'\n",
    "config['distill_mode'] ='offline'\n",
    "config['distill_config'] ='pure_dstl5_4_crs_slw_3'\n",
    "std_hparams=get_model_params(task, config['student_model'], config['student_config'])\n",
    "tchr_hparams=get_model_params(task, config['teacher_model'], config['teacher_config'])\n",
    "\n",
    "\n",
    "ff2ff_ft3_std3, _ = get_student_model(config, task, std_hparams, cl_token)\n",
    "ff_t3, _ = get_teacher_model(config, task, tchr_hparams, cl_token)\n",
    "\n",
    "models.extend([ff2ff_ft3_std3, ff_t3])\n",
    "labels.extend(['ff2ff_ft3_std3', 'ff_t3'])\n",
    "print('student perf:')\n",
    "print(ff2ff_ft3_std3.evaluate(task.test_dataset, steps=10))\n",
    "print('teacher perf:')\n",
    "print(ff_t3.evaluate(task.test_dataset, steps=10))\n",
    "###############################4\n",
    "config['student_exp_name'] ='gc_o_std220'\n",
    "config['teacher_exp_name'] ='gc_o_dtchr210'\n",
    "config['distill_mode'] ='online'\n",
    "config['distill_config'] ='pure_dstl2_4_crs_slw_3'\n",
    "std_hparams=get_model_params(task, config['student_model'], config['student_config'])\n",
    "tchr_hparams=get_model_params(task, config['teacher_model'], config['teacher_config'])\n",
    "\n",
    "\n",
    "# ff2ff_ot4_std4, _ = get_student_model(config, task, std_hparams, cl_token)\n",
    "# ff_t4, _ = get_teacher_model(config, task, tchr_hparams, cl_token)\n",
    "\n",
    "#**********offline\n",
    "config['student_exp_name'] ='gc_f_std220'\n",
    "config['teacher_exp_name'] ='gc_o_dtchr210'\n",
    "config['distill_mode'] ='offline'\n",
    "config['distill_config'] ='pure_dstl5_4_crs_slw_3'\n",
    "std_hparams=get_model_params(task, config['student_model'], config['student_config'])\n",
    "tchr_hparams=get_model_params(task, config['teacher_model'], config['teacher_config'])\n",
    "\n",
    "\n",
    "ff2ff_ft4_std4, _ = get_student_model(config, task, std_hparams, cl_token)\n",
    "ff_t4, _ = get_teacher_model(config, task, tchr_hparams, cl_token)\n",
    "\n",
    "\n",
    "models.extend([ff2ff_ft4_std4, ff_t4])\n",
    "labels.extend(['ff2ff_ft4_std4', 'ff_t4'])\n",
    "print('student perf:')\n",
    "print(ff2ff_ft4_std4.evaluate(task.test_dataset, steps=10))\n",
    "print('teacher perf:')\n",
    "print(ff_t4.evaluate(task.test_dataset, steps=10))"
   ]
  },
  {
   "cell_type": "code",
   "execution_count": 9,
   "metadata": {},
   "outputs": [
    {
     "name": "stdout",
     "output_type": "stream",
     "text": [
      "cl_vff_h-512.128.32_d-3_hdrop-0.1_indrop-0.0\n",
      "cl_vcnn_hc-128.64.64_hfc-_d-3_hdrop-0.2_indrop-0.0\n",
      "cl_vff_h-512.128.32_d-3_hdrop-0.1_indrop-0.0\n",
      "cl_vcnn_hc-128.64.64_hfc-_d-3_hdrop-0.2_indrop-0.0\n",
      "cl_vff_h-512.128.32_d-3_hdrop-0.1_indrop-0.0\n",
      "cl_vcnn_hc-128.64.64_hfc-_d-3_hdrop-0.3_indrop-0.0\n",
      "cl_vcnn_hc-128.64.64_hfc-_d-3_hdrop-0.3_indrop-0.0\n",
      "cl_vff_h-512.128.32_d-3_hdrop-0.1_indrop-0.0\n",
      "cl_vcnn_hc-128.64.64_hfc-_d-3_hdrop-0.3_indrop-0.0\n",
      "cl_vff_h-512.128.32_d-3_hdrop-0.1_indrop-0.0\n",
      "cl_vcnn_hc-128.64.64_hfc-_d-3_hdrop-0.3_indrop-0.0\n",
      "cl_vff_h-512.128.32_d-3_hdrop-0.1_indrop-0.0\n",
      "cl_vcnn_hc-128.64.64_hfc-_d-3_hdrop-0.3_indrop-0.0\n",
      "cl_vff_h-512.128.32_d-3_hdrop-0.1_indrop-0.0\n",
      "cl_vcnn_hc-128.64.64_hfc-_d-3_hdrop-0.3_indrop-0.0\n",
      "cl_vcnn_hc-128.64.64_hfc-_d-3_hdrop-0.3_indrop-0.0\n",
      "cl_vcnn_hc-128.64.64_hfc-_d-3_hdrop-0.3_indrop-0.0\n",
      "cl_vcnn_hc-128.64.64_hfc-_d-3_hdrop-0.3_indrop-0.0\n",
      "cl_vcnn_hc-128.64.64_hfc-_d-3_hdrop-0.3_indrop-0.0\n",
      "cl_vcnn_hc-128.64.64_hfc-_d-3_hdrop-0.3_indrop-0.0\n",
      "cl_vcnn_hc-128.64.64_hfc-_d-3_hdrop-0.3_indrop-0.0\n",
      "cl_vcnn_hc-128.64.64_hfc-_d-3_hdrop-0.3_indrop-0.0\n",
      "cl_vff_h-512.128.32_d-3_hdrop-0.1_indrop-0.0\n",
      "cl_vcnn_hc-128.64.64_hfc-_d-3_hdrop-0.3_indrop-0.0\n",
      "cl_vff_h-512.128.32_d-3_hdrop-0.1_indrop-0.0\n",
      "cl_vcnn_hc-128.64.64_hfc-_d-3_hdrop-0.3_indrop-0.0\n",
      "cl_vff_h-512.128.32_d-3_hdrop-0.1_indrop-0.0\n",
      "cl_vcnn_hc-128.64.64_hfc-_d-3_hdrop-0.3_indrop-0.0\n",
      "cl_vff_h-512.128.32_d-3_hdrop-0.1_indrop-0.0\n",
      "cl_vcnn_hc-128.64.64_hfc-_d-3_hdrop-0.3_indrop-0.0\n",
      "cl_vff_h-512.128.32_d-3_hdrop-0.1_indrop-0.0\n",
      "cl_vff_h-512.128.32_d-3_hdrop-0.1_indrop-0.0\n",
      "cl_vff_h-512.128.32_d-3_hdrop-0.1_indrop-0.0\n",
      "cl_vff_h-512.128.32_d-3_hdrop-0.1_indrop-0.0\n",
      "cl_vff_h-512.128.32_d-3_hdrop-0.1_indrop-0.0\n",
      "cl_vff_h-512.128.32_d-3_hdrop-0.1_indrop-0.0\n",
      "cl_vff_h-512.128.32_d-3_hdrop-0.1_indrop-0.0\n",
      "cl_vff_h-512.128.32_d-3_hdrop-0.1_indrop-0.0\n"
     ]
    }
   ],
   "source": [
    "# models = [#std_ff_r0, std_ff_r1, std_ff_r2, \n",
    "#           #std_ff4, \n",
    "#          #std_f4_ff1, std_f5_ff1, std_f6_ff1,\n",
    "#          std_f100_ff1, std_f110_ff1, std_f101_ff1, std_f111_ff1, std_f102_ff1, std_f112_ff1,\n",
    "#          std_f100_ff2,\n",
    "#          std_f210_ff1, std_f211_ff1, std_f212_ff1,\n",
    "#          std_f210_ff2, std_f211_ff2, std_f212_ff2,\n",
    "#          #tchr_rsnt_r0, tchr_rsnt_r1, tchr_rsnt_r2, \n",
    "#          # tchr_rsnt4, \n",
    "#          tchr_ff210, tchr_ff211, tchr_ff212,\n",
    "#          tchr_rsnt100, tchr_rsnt110, tchr_rsnt101,  tchr_rsnt111, tchr_rsnt102, tchr_rsnt112\n",
    "#          #tchr_rsnt3\n",
    "#         ]\n",
    "# labels = [#'std_ff_r0', 'std_ff_r1', 'std_ff_r2', \n",
    "#           #'std_ff4', \n",
    "#           #'std_f4_ff1', 'std_f5_ff1', 'std_f6_ff1',\n",
    "#           'std_f100_ff1', 'std_f110_ff1', 'std_f101_ff1', 'std_f111_ff1', 'std_f102_ff1', 'std_f112_ff1',\n",
    "#          'std_f100_ff2',\n",
    "#          'std_f210_ff1', 'std_f211_ff1', 'std_f212_ff1',\n",
    "#          'std_f210_ff2', 'std_f211_ff2', 'std_f212_ff2', \n",
    "#           #'tchr_ff_r0', 'tchr_rsnt_r1', 'tchr_rsnt_r2', \n",
    "#           #'tchr_rsnt4', \n",
    "#           'tchr_ff210', 'tchr_ff211', 'tchr_ff212',\n",
    "#          'tchr_rsnt100', 'tchr_rsnt110', 'tchr_rsnt101',  'tchr_rsnt111', 'tchr_rsnt102', 'tchr_rsnt112'\n",
    "#           #'tchr_rsnt3'\n",
    "#          ]\n",
    "\n",
    "for x, y in task.valid_dataset:\n",
    "    for model in models:\n",
    "        print(model.model_name)\n",
    "        model(x)\n",
    "    break"
   ]
  },
  {
   "cell_type": "code",
   "execution_count": 10,
   "metadata": {},
   "outputs": [],
   "source": [
    "\n",
    "def  get_reploss_dic(models, labels, task, repindex=1):    \n",
    "    reploss_dic = {}\n",
    "    for l1 in labels:\n",
    "        reploss_dic[l1] = {}\n",
    "        for l2 in labels:\n",
    "            reploss_dic[l1][l2] = []\n",
    "\n",
    "    num_batches = 0\n",
    "    for x, y in task.valid_dataset:\n",
    "        reps = []\n",
    "        for m in models:\n",
    "            outputs = get_outputs(m, x)\n",
    "            reps.append(outputs[repindex])\n",
    "        for i in np.arange(len(labels)):\n",
    "            for j in np.arange(i, len(labels)):\n",
    "                reploss = rep_loss(reps1=reps[i], reps2=reps[j],\n",
    "                                     padding_symbol=None,\n",
    "                                     inputs=x)\n",
    "                reploss_dic[labels[i]][labels[j]].append(reploss)\n",
    "                if i != j:\n",
    "                    reploss_dic[labels[j]][labels[i]].append(reploss)\n",
    "        num_batches += 1\n",
    "\n",
    "        if num_batches > 20:\n",
    "            break\n",
    "            \n",
    "    dist_lists = {}\n",
    "    for l1 in reploss_dic.keys():\n",
    "        dist_lists[l1] = []\n",
    "        for i in  np.arange(len(reploss_dic[l1].keys())):\n",
    "            l2 = list(reploss_dic[l1].keys())[i]\n",
    "            dist_lists[l1].append(np.mean(reploss_dic[l1][l2]))\n",
    "            \n",
    "    return reploss_dic, dist_lists"
   ]
  },
  {
   "cell_type": "code",
   "execution_count": null,
   "metadata": {},
   "outputs": [],
   "source": [
    "import csv\n",
    "import numpy as np\n",
    "import matplotlib.pyplot as plt\n",
    "from sklearn import manifold\n",
    "\n",
    "def project2d(reploss_dic, dist_lists):\n",
    "    dists = []\n",
    "    cities = []\n",
    "    for i in np.arange(len(dist_lists.keys())):\n",
    "        k = list(dist_lists.keys())[i]\n",
    "        cities.append(k)\n",
    "        dists.append(list(map(float , dist_lists[k])))\n",
    "\n",
    "    adist = np.array(dists)\n",
    "    amax = np.amax(adist)\n",
    "    adist /= amax\n",
    "\n",
    "    mds = manifold.MDS(n_components=2, dissimilarity=\"precomputed\", random_state=9999)\n",
    "    results = mds.fit(adist)\n",
    "\n",
    "    coords = results.embedding_\n",
    "\n",
    "    plt.subplots_adjust(bottom = 0.1)\n",
    "    plt.scatter(\n",
    "        coords[:, 0], coords[:, 1], marker = 'o'\n",
    "        )\n",
    "    for label, x, y in zip(cities, coords[:, 0], coords[:, 1]):\n",
    "        plt.annotate(\n",
    "            label,\n",
    "            xy = (x, y), xytext = (-20, 20),\n",
    "            textcoords = 'offset points', ha = 'right', va = 'bottom',\n",
    "            bbox = dict(boxstyle = 'round,pad=0.5', fc = 'yellow', alpha = 0.5),\n",
    "            arrowprops = dict(arrowstyle = '->', connectionstyle = 'arc3,rad=0'))\n",
    "\n",
    "    plt.show()\n",
    "    \n",
    "    return results.embedding_, cities"
   ]
  },
  {
   "cell_type": "code",
   "execution_count": null,
   "metadata": {},
   "outputs": [],
   "source": [
    "reploss_dic, dist_lists = get_reploss_dic(models, labels, task, repindex=1)\n",
    "Ez, Lz = project2d(reploss_dic, dist_lists)"
   ]
  },
  {
   "cell_type": "code",
   "execution_count": null,
   "metadata": {},
   "outputs": [],
   "source": [
    "reploss_dic, dist_lists = get_reploss_dic(models, labels, task, repindex=0)\n",
    "project2d(reploss_dic, dist_lists)"
   ]
  },
  {
   "cell_type": "code",
   "execution_count": 13,
   "metadata": {},
   "outputs": [
    {
     "name": "stdout",
     "output_type": "stream",
     "text": [
      "cnn2ff_ot1_std1\n",
      "157/156 [==============================] - 1s 5ms/step - loss: 1.7600 - classification_loss: 1.7560 - sparse_categorical_accuracy: 0.5690\n",
      "[1.7683444578170777, 1.7559669, 0.569]\n",
      "cnn_t1\n",
      "157/156 [==============================] - 1s 4ms/step - loss: 0.0573 - classification_loss: 0.0573 - sparse_categorical_accuracy: 0.9825\n",
      "[0.057592289413744585, 0.057316203, 0.9825]\n",
      "cnn2ff_ot2_std2\n",
      "157/156 [==============================] - 0s 3ms/step - loss: 1.6629 - classification_loss: 1.6588 - sparse_categorical_accuracy: 0.5829\n",
      "[1.6707926231384278, 1.6587759, 0.5829]\n",
      "cnn_t2\n",
      "157/156 [==============================] - 1s 4ms/step - loss: 0.0761 - classification_loss: 0.0761 - sparse_categorical_accuracy: 0.9757\n",
      "[0.07650000158394687, 0.0761336, 0.9757]\n",
      "cnn2ff_ot3_std3\n",
      "157/156 [==============================] - 1s 3ms/step - loss: 1.5578 - classification_loss: 1.5538 - sparse_categorical_accuracy: 0.5931\n",
      "[1.5652787152290344, 1.55382, 0.5931]\n",
      "cnn_t3\n",
      "157/156 [==============================] - 1s 4ms/step - loss: 0.0608 - classification_loss: 0.0608 - sparse_categorical_accuracy: 0.9816\n",
      "[0.06104393090177328, 0.0607513, 0.9816]\n",
      "cnn_t10\n",
      "157/156 [==============================] - 1s 5ms/step - loss: 0.0601 - classification_loss: 0.0601 - sparse_categorical_accuracy: 0.9817\n",
      "[0.06035813268497586, 0.060068786, 0.9817]\n",
      "cnn2ff_ft1_std10\n",
      "157/156 [==============================] - 1s 4ms/step - loss: 2.3348 - classification_loss: 2.3337 - sparse_categorical_accuracy: 0.5017\n",
      "[2.3459658363342286, 2.333684, 0.5017]\n",
      "cnn_t11\n",
      "157/156 [==============================] - 1s 5ms/step - loss: 0.0600 - classification_loss: 0.0600 - sparse_categorical_accuracy: 0.9816\n",
      "[0.06027629287317395, 0.059987336, 0.9816]\n",
      "cnn2ff_ft11_std11\n",
      "157/156 [==============================] - 1s 5ms/step - loss: 2.2595 - classification_loss: 2.2584 - sparse_categorical_accuracy: 0.5097\n",
      "[2.2703047156333924, 2.2584, 0.5097]\n",
      "cnn_t12\n",
      "157/156 [==============================] - 1s 5ms/step - loss: 0.0624 - classification_loss: 0.0624 - sparse_categorical_accuracy: 0.9817\n",
      "[0.062665565950796, 0.062365174, 0.9817]\n",
      "cnn2ff_ft12_std12\n",
      "157/156 [==============================] - 1s 7ms/step - loss: 2.1712 - classification_loss: 2.1701 - sparse_categorical_accuracy: 0.5293\n",
      "[2.1815979914665222, 2.170115, 0.5293]\n",
      "cnn_t13\n",
      "157/156 [==============================] - 1s 5ms/step - loss: 0.0576 - classification_loss: 0.0576 - sparse_categorical_accuracy: 0.9810\n",
      "[0.05783695740494877, 0.05755966, 0.981]\n",
      "cnn2ff_ft13_std13\n",
      "157/156 [==============================] - 1s 5ms/step - loss: 2.3686 - classification_loss: 2.3675 - sparse_categorical_accuracy: 0.4969\n",
      "[2.379906943702698, 2.3674824, 0.4969]\n",
      "cnn_t18\n",
      "157/156 [==============================] - 1s 5ms/step - loss: 0.0689 - classification_loss: 0.0689 - sparse_categorical_accuracy: 0.9772\n",
      "[0.0691895976732485, 0.068858065, 0.9772]\n",
      "cnn2cnn_ft18_std18\n",
      "157/156 [==============================] - 1s 5ms/step - loss: 0.0701 - classification_loss: 0.0701 - sparse_categorical_accuracy: 0.9781\n",
      "[0.07047768092323095, 0.07013991, 0.9781]\n",
      "cnn_t17\n",
      "157/156 [==============================] - 1s 5ms/step - loss: 0.0568 - classification_loss: 0.0568 - sparse_categorical_accuracy: 0.9810\n",
      "[0.0570506832045503, 0.056777105, 0.981]\n",
      "cnn2cnn_ft17_std17\n",
      "157/156 [==============================] - 1s 5ms/step - loss: 0.0684 - classification_loss: 0.0684 - sparse_categorical_accuracy: 0.9777\n",
      "[0.06870728722559288, 0.06837797, 0.9777]\n",
      "cnn_t16\n",
      "157/156 [==============================] - 1s 5ms/step - loss: 0.0576 - classification_loss: 0.0576 - sparse_categorical_accuracy: 0.9806\n",
      "[0.057893460489064456, 0.0576159, 0.9806]\n",
      "cnn2cnn_ft16_std16\n",
      "157/156 [==============================] - 1s 5ms/step - loss: 0.0687 - classification_loss: 0.0687 - sparse_categorical_accuracy: 0.9785\n",
      "[0.06902175684832036, 0.06869094, 0.9785]\n",
      "cnn_t15\n",
      "157/156 [==============================] - 1s 5ms/step - loss: 0.0591 - classification_loss: 0.0591 - sparse_categorical_accuracy: 0.9806\n",
      "[0.05940091134607792, 0.05911614, 0.9806]\n",
      "cnn2cnn_ft15_std15\n",
      "157/156 [==============================] - 1s 6ms/step - loss: 0.0719 - classification_loss: 0.0719 - sparse_categorical_accuracy: 0.9772\n",
      "[0.0722582196611911, 0.07191197, 0.9772]\n",
      "ff_t100\n",
      "157/156 [==============================] - 1s 5ms/step - loss: 5.3059 - classification_loss: 5.2861 - sparse_categorical_accuracy: 0.3711\n",
      "[5.331256298446656, 5.2861075, 0.3711]\n",
      "ff2cnn_ft100_std100\n",
      "157/156 [==============================] - 1s 5ms/step - loss: 0.0765 - classification_loss: 0.0765 - sparse_categorical_accuracy: 0.9768\n",
      "[0.07688469782376488, 0.07651621, 0.9768]\n",
      "ff_t101\n",
      "157/156 [==============================] - 1s 5ms/step - loss: 5.4918 - classification_loss: 5.4718 - sparse_categorical_accuracy: 0.3895\n",
      "[5.518018724060059, 5.4718184, 0.3895]\n",
      "ff2cnn_ft101_std101\n",
      "157/156 [==============================] - 1s 5ms/step - loss: 0.0791 - classification_loss: 0.0791 - sparse_categorical_accuracy: 0.9773\n",
      "[0.07943706809653668, 0.07905637, 0.9773]\n",
      "ff_t102\n",
      "157/156 [==============================] - 1s 5ms/step - loss: 5.9705 - classification_loss: 5.9507 - sparse_categorical_accuracy: 0.3779\n",
      "[5.998974160766601, 5.950717, 0.3779]\n",
      "ff2cnn_ft102_std102\n",
      "157/156 [==============================] - 1s 9ms/step - loss: 0.0901 - classification_loss: 0.0901 - sparse_categorical_accuracy: 0.9747\n",
      "[0.09051528836003854, 0.09008166, 0.9747]\n",
      "ff_t103\n",
      "157/156 [==============================] - 1s 5ms/step - loss: 5.9717 - classification_loss: 5.9515 - sparse_categorical_accuracy: 0.3628\n",
      "[6.000189151000977, 5.9515405, 0.3628]\n",
      "ff2cnn_ft103_std103\n",
      "157/156 [==============================] - 1s 5ms/step - loss: 0.0798 - classification_loss: 0.0798 - sparse_categorical_accuracy: 0.9769\n",
      "[0.08014437045890373, 0.07976031, 0.9769]\n",
      "ff2ff_ft1_std1\n",
      "157/156 [==============================] - 1s 3ms/step - loss: 5.2646 - classification_loss: 5.2633 - sparse_categorical_accuracy: 0.3965\n",
      "[5.2897579360961915, 5.2633467, 0.3965]\n",
      "ff_t1\n",
      "157/156 [==============================] - 1s 3ms/step - loss: 5.4966 - classification_loss: 5.4771 - sparse_categorical_accuracy: 0.3846\n",
      "[5.52284483833313, 5.477059, 0.3846]\n",
      "ff2ff_ft2_std2\n",
      "157/156 [==============================] - 1s 3ms/step - loss: 5.4861 - classification_loss: 5.4848 - sparse_categorical_accuracy: 0.3858\n",
      "[5.512246461868286, 5.484775, 0.3858]\n",
      "ff_t2\n",
      "157/156 [==============================] - 1s 3ms/step - loss: 5.9518 - classification_loss: 5.9317 - sparse_categorical_accuracy: 0.3558\n",
      "[5.980163276672363, 5.931678, 0.3558]\n",
      "ff2ff_ft3_std3\n",
      "157/156 [==============================] - 0s 3ms/step - loss: 5.2559 - classification_loss: 5.2546 - sparse_categorical_accuracy: 0.3997\n",
      "[5.28098660736084, 5.254604, 0.3997]\n",
      "ff_t3\n",
      "157/156 [==============================] - 0s 3ms/step - loss: 5.4335 - classification_loss: 5.4135 - sparse_categorical_accuracy: 0.3654\n",
      "[5.459377347183228, 5.413511, 0.3654]\n",
      "ff2ff_ft4_std4\n",
      "157/156 [==============================] - 1s 3ms/step - loss: 5.2668 - classification_loss: 5.2654 - sparse_categorical_accuracy: 0.3920\n",
      "[5.2919216770172115, 5.2653537, 0.392]\n",
      "ff_t4\n",
      "157/156 [==============================] - 1s 3ms/step - loss: 5.4966 - classification_loss: 5.4771 - sparse_categorical_accuracy: 0.3846\n",
      "[5.52284483833313, 5.477059, 0.3846]\n"
     ]
    }
   ],
   "source": [
    "for model,label in zip(models,labels):\n",
    "    print(label)\n",
    "    results = model.evaluate(cmnist_trans_test, steps=cmnist_trans.info.splits['test'].num_examples / 64)\n",
    "    print(results)"
   ]
  },
  {
   "cell_type": "code",
   "execution_count": 14,
   "metadata": {},
   "outputs": [
    {
     "name": "stdout",
     "output_type": "stream",
     "text": [
      "cnn2ff_ot1_std1\n",
      "157/156 [==============================] - 1s 3ms/step - loss: 0.2165 - classification_loss: 0.2126 - sparse_categorical_accuracy: 0.9333\n",
      "[0.2175482837945223, 0.21257858, 0.9333]\n",
      "cnn_t1\n",
      "157/156 [==============================] - 1s 4ms/step - loss: 0.1350 - classification_loss: 0.1350 - sparse_categorical_accuracy: 0.9567\n",
      "[0.13564498710036277, 0.13499604, 0.9567]\n",
      "cnn2ff_ot2_std2\n",
      "157/156 [==============================] - 1s 3ms/step - loss: 0.2098 - classification_loss: 0.2058 - sparse_categorical_accuracy: 0.9338\n",
      "[0.21082842769622803, 0.20578589, 0.9338]\n",
      "cnn_t2\n",
      "157/156 [==============================] - 1s 4ms/step - loss: 0.1696 - classification_loss: 0.1696 - sparse_categorical_accuracy: 0.9485\n",
      "[0.17041239003539085, 0.16959734, 0.9485]\n",
      "cnn2ff_ot3_std3\n",
      "157/156 [==============================] - 1s 3ms/step - loss: 0.2433 - classification_loss: 0.2393 - sparse_categorical_accuracy: 0.9270\n",
      "[0.2444819768667221, 0.23933257, 0.927]\n",
      "cnn_t3\n",
      "157/156 [==============================] - 1s 4ms/step - loss: 0.1300 - classification_loss: 0.1300 - sparse_categorical_accuracy: 0.9599\n",
      "[0.13063469973802566, 0.13000964, 0.9599]\n",
      "cnn_t10\n",
      "157/156 [==============================] - 1s 4ms/step - loss: 0.1157 - classification_loss: 0.1157 - sparse_categorical_accuracy: 0.9614\n",
      "[0.11624655725359917, 0.11569021, 0.9614]\n",
      "cnn2ff_ft1_std10\n",
      "157/156 [==============================] - 1s 3ms/step - loss: 0.3433 - classification_loss: 0.3422 - sparse_categorical_accuracy: 0.9017\n",
      "[0.3449570913225412, 0.34223482, 0.9017]\n",
      "cnn_t11\n",
      "157/156 [==============================] - 1s 4ms/step - loss: 0.1178 - classification_loss: 0.1178 - sparse_categorical_accuracy: 0.9642\n",
      "[0.1183167630136013, 0.11775051, 0.9642]\n",
      "cnn2ff_ft11_std11\n",
      "157/156 [==============================] - 0s 3ms/step - loss: 0.3514 - classification_loss: 0.3503 - sparse_categorical_accuracy: 0.9030\n",
      "[0.3530648682773113, 0.35031888, 0.903]\n",
      "cnn_t12\n",
      "157/156 [==============================] - 1s 4ms/step - loss: 0.1199 - classification_loss: 0.1199 - sparse_categorical_accuracy: 0.9631\n",
      "[0.12050606470704078, 0.119929396, 0.9631]\n",
      "cnn2ff_ft12_std12\n",
      "157/156 [==============================] - 1s 3ms/step - loss: 0.2676 - classification_loss: 0.2666 - sparse_categorical_accuracy: 0.9159\n",
      "[0.26889862727820874, 0.26655224, 0.9159]\n",
      "cnn_t13\n",
      "157/156 [==============================] - 1s 4ms/step - loss: 0.1218 - classification_loss: 0.1218 - sparse_categorical_accuracy: 0.9598\n",
      "[0.12243022701740265, 0.12184432, 0.9598]\n",
      "cnn2ff_ft13_std13\n",
      "157/156 [==============================] - 0s 3ms/step - loss: 0.3336 - classification_loss: 0.3325 - sparse_categorical_accuracy: 0.9051\n",
      "[0.3351538693934679, 0.33249712, 0.9051]\n",
      "cnn_t18\n",
      "157/156 [==============================] - 1s 4ms/step - loss: 0.1427 - classification_loss: 0.1427 - sparse_categorical_accuracy: 0.9537\n",
      "[0.1434057234585285, 0.14271967, 0.9537]\n",
      "cnn2cnn_ft18_std18\n",
      "157/156 [==============================] - 1s 4ms/step - loss: 0.1625 - classification_loss: 0.1625 - sparse_categorical_accuracy: 0.9463\n",
      "[0.1632551024734974, 0.16247413, 0.9463]\n",
      "cnn_t17\n",
      "157/156 [==============================] - 1s 4ms/step - loss: 0.1039 - classification_loss: 0.1039 - sparse_categorical_accuracy: 0.9688\n",
      "[0.10435921292304992, 0.10385964, 0.9688]\n",
      "cnn2cnn_ft17_std17\n",
      "157/156 [==============================] - 1s 4ms/step - loss: 0.1399 - classification_loss: 0.1399 - sparse_categorical_accuracy: 0.9553\n",
      "[0.14058161388635634, 0.13990892, 0.9553]\n",
      "cnn_t16\n",
      "157/156 [==============================] - 1s 4ms/step - loss: 0.1392 - classification_loss: 0.1392 - sparse_categorical_accuracy: 0.9540\n",
      "[0.13983717240989207, 0.13916808, 0.954]\n",
      "cnn2cnn_ft16_std16\n",
      "157/156 [==============================] - 1s 4ms/step - loss: 0.1438 - classification_loss: 0.1438 - sparse_categorical_accuracy: 0.9526\n",
      "[0.14447382143586873, 0.14378256, 0.9526]\n",
      "cnn_t15\n",
      "157/156 [==============================] - 1s 4ms/step - loss: 0.1290 - classification_loss: 0.1290 - sparse_categorical_accuracy: 0.9585\n",
      "[0.12957808426842093, 0.12895806, 0.9585]\n",
      "cnn2cnn_ft15_std15\n",
      "157/156 [==============================] - 1s 4ms/step - loss: 0.1505 - classification_loss: 0.1505 - sparse_categorical_accuracy: 0.9523\n",
      "[0.1512248975813389, 0.15050142, 0.9523]\n",
      "ff_t100\n",
      "157/156 [==============================] - 0s 3ms/step - loss: 0.8579 - classification_loss: 0.8382 - sparse_categorical_accuracy: 0.8150\n",
      "[0.861951207447052, 0.83815145, 0.815]\n",
      "ff2cnn_ft100_std100\n",
      "157/156 [==============================] - 1s 4ms/step - loss: 0.1460 - classification_loss: 0.1459 - sparse_categorical_accuracy: 0.9556\n",
      "[0.14664669169932604, 0.14594495, 0.9556]\n",
      "ff_t101\n",
      "157/156 [==============================] - 0s 3ms/step - loss: 0.8630 - classification_loss: 0.8432 - sparse_categorical_accuracy: 0.8177\n",
      "[0.8671557709693909, 0.8431714, 0.8177]\n",
      "ff2cnn_ft101_std101\n",
      "157/156 [==============================] - 1s 4ms/step - loss: 0.1344 - classification_loss: 0.1344 - sparse_categorical_accuracy: 0.9582\n",
      "[0.13506699864976107, 0.13442059, 0.9582]\n",
      "ff_t102\n",
      "157/156 [==============================] - 1s 3ms/step - loss: 0.9215 - classification_loss: 0.9019 - sparse_categorical_accuracy: 0.8099\n",
      "[0.9259445477962494, 0.9019227, 0.8099]\n",
      "ff2cnn_ft102_std102\n",
      "157/156 [==============================] - 1s 4ms/step - loss: 0.1747 - classification_loss: 0.1747 - sparse_categorical_accuracy: 0.9456\n",
      "[0.17557614086270332, 0.17473619, 0.9456]\n",
      "ff_t103\n",
      "157/156 [==============================] - 1s 3ms/step - loss: 0.7912 - classification_loss: 0.7712 - sparse_categorical_accuracy: 0.8325\n",
      "[0.7950156017184258, 0.7712328, 0.8325]\n",
      "ff2cnn_ft103_std103\n",
      "157/156 [==============================] - 1s 4ms/step - loss: 0.1329 - classification_loss: 0.1329 - sparse_categorical_accuracy: 0.9601\n",
      "[0.1335303937599063, 0.13289131, 0.9601]\n",
      "ff2ff_ft1_std1\n",
      "157/156 [==============================] - 1s 3ms/step - loss: 0.7510 - classification_loss: 0.7499 - sparse_categorical_accuracy: 0.8371\n",
      "[0.7545961348056793, 0.74985087, 0.8371]\n",
      "ff_t1\n",
      "157/156 [==============================] - 0s 3ms/step - loss: 1.0358 - classification_loss: 1.0164 - sparse_categorical_accuracy: 0.7835\n",
      "[1.0407612039089202, 1.0163873, 0.7835]\n",
      "ff2ff_ft2_std2\n",
      "157/156 [==============================] - 0s 3ms/step - loss: 0.7543 - classification_loss: 0.7532 - sparse_categorical_accuracy: 0.8423\n",
      "[0.7579286359548568, 0.7531683, 0.8423]\n",
      "ff_t2\n",
      "157/156 [==============================] - 1s 3ms/step - loss: 0.8631 - classification_loss: 0.8431 - sparse_categorical_accuracy: 0.8191\n",
      "[0.8671744432449341, 0.843115, 0.8191]\n",
      "ff2ff_ft3_std3\n",
      "157/156 [==============================] - 1s 3ms/step - loss: 0.7288 - classification_loss: 0.7276 - sparse_categorical_accuracy: 0.8546\n",
      "[0.7322838983654976, 0.7276302, 0.8546]\n",
      "ff_t3\n",
      "157/156 [==============================] - 1s 3ms/step - loss: 0.9468 - classification_loss: 0.9270 - sparse_categorical_accuracy: 0.8011\n",
      "[0.9513071626186371, 0.9269762, 0.8011]\n",
      "ff2ff_ft4_std4\n",
      "157/156 [==============================] - 1s 3ms/step - loss: 0.8136 - classification_loss: 0.8123 - sparse_categorical_accuracy: 0.8319\n",
      "[0.8174687338829041, 0.81227493, 0.8319]\n",
      "ff_t4\n",
      "157/156 [==============================] - 1s 3ms/step - loss: 1.0358 - classification_loss: 1.0164 - sparse_categorical_accuracy: 0.7835\n",
      "[1.0407612039089202, 1.0163873, 0.7835]\n"
     ]
    }
   ],
   "source": [
    "for model,label in zip(models,labels):\n",
    "    print(label)\n",
    "    results = model.evaluate(cmnist_scale_test, steps=cmnist_scale.info.splits['test'].num_examples / 64)\n",
    "    print(results)"
   ]
  },
  {
   "cell_type": "code",
   "execution_count": 15,
   "metadata": {},
   "outputs": [
    {
     "name": "stdout",
     "output_type": "stream",
     "text": [
      "cnn2ff_ot1_std1\n",
      "156/156 [==============================] - 1s 3ms/step - loss: 0.0320 - classification_loss: 0.0280 - sparse_categorical_accuracy: 0.9914\n",
      "[0.03195097571752297, 0.028020497, 0.99138623]\n",
      "cnn_t1\n",
      "156/156 [==============================] - 1s 4ms/step - loss: 0.0278 - classification_loss: 0.0278 - sparse_categorical_accuracy: 0.9910\n",
      "[0.02783194475015103, 0.027830983, 0.9909856]\n",
      "cnn2ff_ot2_std2\n",
      "156/156 [==============================] - 1s 3ms/step - loss: 0.0351 - classification_loss: 0.0311 - sparse_categorical_accuracy: 0.9914\n",
      "[0.035140150268442735, 0.03110479, 0.99138623]\n",
      "cnn_t2\n",
      "156/156 [==============================] - 1s 4ms/step - loss: 0.0297 - classification_loss: 0.0297 - sparse_categorical_accuracy: 0.9912\n",
      "[0.02970729750235571, 0.029706346, 0.9911859]\n",
      "cnn2ff_ot3_std3\n",
      "156/156 [==============================] - 1s 3ms/step - loss: 0.0325 - classification_loss: 0.0285 - sparse_categorical_accuracy: 0.9917\n",
      "[0.03246265365025745, 0.028481156, 0.9916867]\n",
      "cnn_t3\n",
      "156/156 [==============================] - 1s 4ms/step - loss: 0.0247 - classification_loss: 0.0247 - sparse_categorical_accuracy: 0.9919\n",
      "[0.02467279820577973, 0.02467178, 0.99188703]\n",
      "cnn_t10\n",
      "156/156 [==============================] - 1s 4ms/step - loss: 0.0231 - classification_loss: 0.0231 - sparse_categorical_accuracy: 0.9920\n",
      "[0.02307965169613733, 0.023078633, 0.99198717]\n",
      "cnn2ff_ft1_std10\n",
      "156/156 [==============================] - 1s 3ms/step - loss: 0.0460 - classification_loss: 0.0449 - sparse_categorical_accuracy: 0.9888\n",
      "[0.04600952160082017, 0.0449352, 0.98878205]\n",
      "cnn_t11\n",
      "156/156 [==============================] - 1s 4ms/step - loss: 0.0257 - classification_loss: 0.0257 - sparse_categorical_accuracy: 0.9913\n",
      "[0.025658118562438548, 0.02565711, 0.99128604]\n",
      "cnn2ff_ft11_std11\n",
      "156/156 [==============================] - 1s 3ms/step - loss: 0.0459 - classification_loss: 0.0449 - sparse_categorical_accuracy: 0.9879\n",
      "[0.04591685663669919, 0.044857316, 0.9878806]\n",
      "cnn_t12\n",
      "156/156 [==============================] - 1s 4ms/step - loss: 0.0228 - classification_loss: 0.0228 - sparse_categorical_accuracy: 0.9931\n",
      "[0.022819817559651803, 0.02281878, 0.99308896]\n",
      "cnn2ff_ft12_std12\n",
      "156/156 [==============================] - 1s 4ms/step - loss: 0.0454 - classification_loss: 0.0443 - sparse_categorical_accuracy: 0.9886\n",
      "[0.04536599972515176, 0.044304125, 0.9885817]\n",
      "cnn_t13\n",
      "156/156 [==============================] - 1s 4ms/step - loss: 0.0246 - classification_loss: 0.0246 - sparse_categorical_accuracy: 0.9923\n",
      "[0.024626806536943126, 0.024625791, 0.99228764]\n",
      "cnn2ff_ft13_std13\n",
      "156/156 [==============================] - 0s 3ms/step - loss: 0.0482 - classification_loss: 0.0472 - sparse_categorical_accuracy: 0.9879\n",
      "[0.048230119640580736, 0.04717448, 0.9878806]\n",
      "cnn_t18\n",
      "156/156 [==============================] - 1s 4ms/step - loss: 0.0253 - classification_loss: 0.0253 - sparse_categorical_accuracy: 0.9924\n",
      "[0.02527858858891891, 0.025277594, 0.99238783]\n",
      "cnn2cnn_ft18_std18\n",
      "156/156 [==============================] - 1s 4ms/step - loss: 0.0316 - classification_loss: 0.0316 - sparse_categorical_accuracy: 0.9906\n",
      "[0.031624969392000005, 0.031623874, 0.9905849]\n",
      "cnn_t17\n",
      "156/156 [==============================] - 1s 4ms/step - loss: 0.0208 - classification_loss: 0.0208 - sparse_categorical_accuracy: 0.9940\n",
      "[0.02081582959782771, 0.020814797, 0.99399036]\n",
      "cnn2cnn_ft17_std17\n",
      "156/156 [==============================] - 1s 4ms/step - loss: 0.0289 - classification_loss: 0.0289 - sparse_categorical_accuracy: 0.9903\n",
      "[0.028897584163365908, 0.028896479, 0.99028444]\n",
      "cnn_t16\n",
      "156/156 [==============================] - 1s 4ms/step - loss: 0.0227 - classification_loss: 0.0227 - sparse_categorical_accuracy: 0.9930\n",
      "[0.02266155892870395, 0.022660548, 0.99298877]\n",
      "cnn2cnn_ft16_std16\n",
      "156/156 [==============================] - 1s 4ms/step - loss: 0.0291 - classification_loss: 0.0291 - sparse_categorical_accuracy: 0.9910\n",
      "[0.029121973520187357, 0.029120874, 0.9909856]\n",
      "cnn_t15\n",
      "156/156 [==============================] - 1s 4ms/step - loss: 0.0242 - classification_loss: 0.0242 - sparse_categorical_accuracy: 0.9925\n",
      "[0.02418873301464303, 0.024187734, 0.99248797]\n",
      "cnn2cnn_ft15_std15\n",
      "156/156 [==============================] - 1s 4ms/step - loss: 0.0293 - classification_loss: 0.0293 - sparse_categorical_accuracy: 0.9909\n",
      "[0.029297554415023068, 0.029296475, 0.99088544]\n",
      "ff_t100\n",
      "156/156 [==============================] - 1s 3ms/step - loss: 0.0913 - classification_loss: 0.0716 - sparse_categorical_accuracy: 0.9854\n",
      "[0.09129287580696818, 0.07161081, 0.9853766]\n",
      "ff2cnn_ft100_std100\n",
      "156/156 [==============================] - 1s 4ms/step - loss: 0.0345 - classification_loss: 0.0345 - sparse_categorical_accuracy: 0.9897\n",
      "[0.03446616615815401, 0.034464967, 0.9896835]\n",
      "ff_t101\n",
      "156/156 [==============================] - 1s 3ms/step - loss: 0.0881 - classification_loss: 0.0683 - sparse_categorical_accuracy: 0.9863\n",
      "[0.08810004353141174, 0.068258256, 0.98627806]\n",
      "ff2cnn_ft101_std101\n",
      "156/156 [==============================] - 1s 4ms/step - loss: 0.0354 - classification_loss: 0.0354 - sparse_categorical_accuracy: 0.9898\n",
      "[0.0354477286400302, 0.035446525, 0.98978364]\n",
      "ff_t102\n",
      "156/156 [==============================] - 1s 3ms/step - loss: 0.0905 - classification_loss: 0.0709 - sparse_categorical_accuracy: 0.9863\n",
      "[0.09053014011050646, 0.070931755, 0.98627806]\n",
      "ff2cnn_ft102_std102\n",
      "156/156 [==============================] - 1s 4ms/step - loss: 0.0347 - classification_loss: 0.0347 - sparse_categorical_accuracy: 0.9911\n",
      "[0.03468200348426109, 0.034680754, 0.9910857]\n",
      "ff_t103\n",
      "156/156 [==============================] - 1s 3ms/step - loss: 0.0914 - classification_loss: 0.0714 - sparse_categorical_accuracy: 0.9852\n",
      "[0.09136927370220804, 0.071384355, 0.98517627]\n",
      "ff2cnn_ft103_std103\n",
      "156/156 [==============================] - 1s 4ms/step - loss: 0.0342 - classification_loss: 0.0342 - sparse_categorical_accuracy: 0.9905\n",
      "[0.03418447408059878, 0.034183275, 0.9904848]\n",
      "ff2ff_ft1_std1\n",
      "156/156 [==============================] - 1s 3ms/step - loss: 0.0828 - classification_loss: 0.0817 - sparse_categorical_accuracy: 0.9853\n",
      "[0.082791223158636, 0.081650585, 0.98527646]\n",
      "ff_t1\n",
      "156/156 [==============================] - 1s 3ms/step - loss: 0.0919 - classification_loss: 0.0725 - sparse_categorical_accuracy: 0.9850\n",
      "[0.09192025399981783, 0.07251819, 0.98497593]\n",
      "ff2ff_ft2_std2\n",
      "156/156 [==============================] - 1s 3ms/step - loss: 0.0809 - classification_loss: 0.0797 - sparse_categorical_accuracy: 0.9855\n",
      "[0.08085614418721376, 0.07971646, 0.9854768]\n",
      "ff_t2\n",
      "156/156 [==============================] - 1s 3ms/step - loss: 0.0966 - classification_loss: 0.0767 - sparse_categorical_accuracy: 0.9846\n",
      "[0.09657075100888808, 0.076653734, 0.98457533]\n",
      "ff2ff_ft3_std3\n",
      "156/156 [==============================] - 1s 3ms/step - loss: 0.0800 - classification_loss: 0.0788 - sparse_categorical_accuracy: 0.9863\n",
      "[0.07998648068706433, 0.07883108, 0.98627806]\n",
      "ff_t3\n",
      "156/156 [==============================] - 1s 3ms/step - loss: 0.0930 - classification_loss: 0.0732 - sparse_categorical_accuracy: 0.9867\n",
      "[0.09296563470688386, 0.0731792, 0.98667866]\n",
      "ff2ff_ft4_std4\n",
      "156/156 [==============================] - 1s 3ms/step - loss: 0.0985 - classification_loss: 0.0972 - sparse_categorical_accuracy: 0.9831\n",
      "[0.09851133114306065, 0.09722286, 0.98307294]\n",
      "ff_t4\n",
      "156/156 [==============================] - 1s 3ms/step - loss: 0.0919 - classification_loss: 0.0725 - sparse_categorical_accuracy: 0.9850\n",
      "[0.09192025399981783, 0.07251819, 0.98497593]\n"
     ]
    }
   ],
   "source": [
    "for model,label in zip(models,labels):\n",
    "    print(label)\n",
    "    results = model.evaluate(task.test_dataset, steps=task.n_test_batches)\n",
    "    print(results)"
   ]
  },
  {
   "cell_type": "code",
   "execution_count": null,
   "metadata": {},
   "outputs": [],
   "source": [
    "for model,label in zip(models,labels):\n",
    "    print(label)\n",
    "    print(model.model_name)\n",
    "\n",
    "    model_accuracy, predicted_class_probs, correct_class_probs, model_logits, model_trues= test_for_calibration(model, task, n_bins=20)\n",
    "\n",
    "    print(len(model_accuracy))\n",
    "    print(len(predicted_class_probs))\n",
    "    plot_calibration(model_accuracy, predicted_class_probs, correct_class_probs, n_bins=20)\n",
    "    plt.show()\n",
    "    model_ece = tfp.stats.expected_calibration_error(\n",
    "        1000000,\n",
    "        logits=model_logits,\n",
    "        labels_true=model_trues,\n",
    "    )\n",
    "    print(model_ece.numpy())\n",
    "    \n",
    "    print(\"#######################\")"
   ]
  },
  {
   "cell_type": "code",
   "execution_count": 11,
   "metadata": {},
   "outputs": [
    {
     "data": {
      "text/plain": [
       "156.25"
      ]
     },
     "execution_count": 11,
     "metadata": {},
     "output_type": "execute_result"
    }
   ],
   "source": [
    "cmnist_scale = tfds.builder('mnist_corrupted/scale')\n",
    "cmnist_scale_test = cmnist_scale.as_dataset(split='test')\n",
    "cmnist_scale_test = cmnist_scale_test.map(map_func=lambda x: convert_examples(x))\n",
    "cmnist_scale_test = cmnist_scale_test.batch(64)\n",
    "cmnist_scale.info.splits['test'].num_examples / 64"
   ]
  },
  {
   "cell_type": "code",
   "execution_count": 12,
   "metadata": {},
   "outputs": [
    {
     "data": {
      "text/plain": [
       "156.25"
      ]
     },
     "execution_count": 12,
     "metadata": {},
     "output_type": "execute_result"
    }
   ],
   "source": [
    "cmnist_trans = tfds.builder('mnist_corrupted/translate')\n",
    "cmnist_trans_test = cmnist_trans.as_dataset(split='test')\n",
    "cmnist_trans_test = cmnist_trans_test.map(map_func=lambda x: convert_examples(x))\n",
    "cmnist_trans_test = cmnist_trans_test.batch(64)\n",
    "cmnist_trans.info.splits['test'].num_examples / 64"
   ]
  },
  {
   "cell_type": "code",
   "execution_count": null,
   "metadata": {},
   "outputs": [],
   "source": [
    "for c,l in zip(Ez,Lz):\n",
    "    symbol = ''\n",
    "    if ''\n",
    "    print(l, c[0], c[1])"
   ]
  },
  {
   "cell_type": "code",
   "execution_count": null,
   "metadata": {},
   "outputs": [],
   "source": [
    "config={'student_exp_name':'gc_f_std220',\n",
    "        'teacher_exp_name':'gc_o_dtchr210',\n",
    "        'task_name':'mnist',\n",
    "        'teacher_model':'cl_vff',\n",
    "        'student_model':'cl_vff',\n",
    "        'teacher_config':'ff_mnist4',\n",
    "        'student_config':'ff_mnist4',\n",
    "        'distill_config':'pure_dstl5_4_crs_slw_3',\n",
    "        'distill_mode':'offline',\n",
    "        'chkpt_dir':'../tf_ckpts',\n",
    "       }\n",
    "\n",
    "std_hparams=get_model_params(task, config['student_model'], config['student_config'])\n",
    "tchr_hparams=get_model_params(task, config['teacher_model'], config['teacher_config'])\n",
    "\n",
    "teacher_model = MODELS[config['teacher_model']](hparams=tchr_hparams, cl_token=cl_token)\n",
    "\n",
    "   \n",
    "ckpt_dir = os.path.join(config['chkpt_dir'], task.name,\n",
    "                              '_'.join([teacher_model.model_name, config['teacher_config'],config['teacher_exp_name']]))\n",
    "tchr_ckpt = tf.train.Checkpoint(net=teacher_model)\n",
    "teacher_manager = tf.train.CheckpointManager(tchr_ckpt, ckpt_dir, max_to_keep=None)\n",
    "teacher_manager.latest_checkpoint\n",
    "\n",
    "student_model = MODELS[config['student_model']](hparams=std_hparams, cl_token=cl_token)\n",
    "ckpt_dir = os.path.join(config['chkpt_dir'], task.name,\n",
    "                          '_'.join([config['distill_mode'],config['distill_config'],\n",
    "                                    \"teacher\", teacher_model.model_name, \n",
    "                                    config['teacher_config'],\n",
    "                                    config['teacher_exp_name'],\n",
    "                                   \"student\",student_model.model_name,\n",
    "                                    str(config['student_config']),\n",
    "                                    config['student_exp_name']]))\n",
    "print(\"student_checkpoint:\", ckpt_dir)\n",
    "std_ckpt = tf.train.Checkpoint(net=student_model)\n",
    "student_manager = tf.train.CheckpointManager(std_ckpt, ckpt_dir, max_to_keep=None)\n"
   ]
  },
  {
   "cell_type": "code",
   "execution_count": 17,
   "metadata": {},
   "outputs": [
    {
     "name": "stdout",
     "output_type": "stream",
     "text": [
      "../tf_ckpts/mnist/offline_pure_dstl5_4_crs_slw_3_teacher_cl_vcnn_hc-128.64.64_hfc-_d-3_hdrop-0.3_indrop-0.0_vcnn_mnist7_gc_o_tchr15_student_cl_vcnn_hc-128.64.64_hfc-_d-3_hdrop-0.3_indrop-0.0_vcnn_mnist7_gc_f_std15/ckpt-11\n",
      "0.1525 0.1331 0.19911858\n",
      "0.593 0.4535 0.67998797\n",
      "0.7001 0.5243 0.77053285\n",
      "0.8474 0.6823 0.89032453\n",
      "0.9095 0.7562 0.94441104\n",
      "0.9497 0.8754 0.97736377\n",
      "0.9698 0.9303 0.9865785\n",
      "0.9735 0.9423 0.98878205\n",
      "0.9766 0.9501 0.9901843\n",
      "0.9772 0.9523 0.99088544\n",
      "0.9778 0.9519 0.9911859\n"
     ]
    }
   ],
   "source": [
    "print(student_manager.latest_checkpoint)\n",
    "for ck in student_manager.checkpoints:\n",
    "    std_ckpt.restore(ck)\n",
    "    #print(\"#######\", ck, \"########\")\n",
    "    student_model.compile(loss=task.get_loss_fn(), metrics=task.metrics())\n",
    "    trans = student_model.evaluate(cmnist_trans_test, steps=cmnist_trans.info.splits['test'].num_examples / 64, verbose=3)\n",
    "    scale = student_model.evaluate(cmnist_scale_test, steps=cmnist_scale.info.splits['test'].num_examples / 64, verbose=3)\n",
    "    mnist = student_model.evaluate(task.test_dataset, steps=task.n_test_batches, verbose=3)\n",
    "    print(trans[-1], scale[-1], mnist[-1])"
   ]
  },
  {
   "cell_type": "code",
   "execution_count": null,
   "metadata": {},
   "outputs": [],
   "source": [
    "print(teacher_manager.latest_checkpoint)\n",
    "for ck in teacher_manager.checkpoints:\n",
    "    tchr_ckpt.restore(ck)\n",
    "    #print(\"#######\", ck, \"########\")\n",
    "    teacher_model.compile(loss=task.get_loss_fn(), metrics=task.metrics())\n",
    "    trans = teacher_model.evaluate(cmnist_trans_test, steps=cmnist_trans.info.splits['test'].num_examples / 64, verbose=3)\n",
    "    scale = teacher_model.evaluate(cmnist_scale_test, steps=cmnist_scale.info.splits['test'].num_examples / 64, verbose=3)\n",
    "    mnist = teacher_model.evaluate(task.test_dataset, steps=task.n_test_batches, verbose=3)\n",
    "    print(trans[-1], scale[-1], mnist[-1])"
   ]
  },
  {
   "cell_type": "code",
   "execution_count": 16,
   "metadata": {},
   "outputs": [
    {
     "name": "stdout",
     "output_type": "stream",
     "text": [
      "model config: vcnn_mnist7\n",
      "model config: vcnn_mnist7\n",
      "student_checkpoint: ../tf_ckpts/mnist/offline_pure_dstl5_4_crs_slw_3_teacher_cl_vcnn_hc-128.64.64_hfc-_d-3_hdrop-0.3_indrop-0.0_vcnn_mnist7_gc_o_tchr15_student_cl_vcnn_hc-128.64.64_hfc-_d-3_hdrop-0.3_indrop-0.0_vcnn_mnist7_gc_f_std15\n"
     ]
    }
   ],
   "source": [
    "config={'student_exp_name':'gc_f_std15',\n",
    "        'teacher_exp_name':'gc_o_tchr15',\n",
    "        'task_name':'mnist',\n",
    "        'teacher_model':'cl_vcnn',\n",
    "        'student_model':'cl_vcnn',\n",
    "        'teacher_config':'vcnn_mnist7',\n",
    "        'student_config':'vcnn_mnist7',\n",
    "        'distill_config':'pure_dstl5_4_crs_slw_3',\n",
    "        'distill_mode':'offline',\n",
    "        'chkpt_dir':'../tf_ckpts',\n",
    "       }\n",
    "\n",
    "std_hparams=get_model_params(task, config['student_model'], config['student_config'])\n",
    "tchr_hparams=get_model_params(task, config['teacher_model'], config['teacher_config'])\n",
    "\n",
    "teacher_model = MODELS[config['teacher_model']](hparams=tchr_hparams, cl_token=cl_token)\n",
    "\n",
    "   \n",
    "ckpt_dir = os.path.join(config['chkpt_dir'], task.name,\n",
    "                              '_'.join([teacher_model.model_name, config['teacher_config'],config['teacher_exp_name']]))\n",
    "tchr_ckpt = tf.train.Checkpoint(net=teacher_model)\n",
    "teacher_manager = tf.train.CheckpointManager(tchr_ckpt, ckpt_dir, max_to_keep=None)\n",
    "teacher_manager.latest_checkpoint\n",
    "\n",
    "student_model = MODELS[config['student_model']](hparams=std_hparams, cl_token=cl_token)\n",
    "ckpt_dir = os.path.join(config['chkpt_dir'], task.name,\n",
    "                          '_'.join([config['distill_mode'],config['distill_config'],\n",
    "                                    \"teacher\", teacher_model.model_name, \n",
    "                                    config['teacher_config'],\n",
    "                                    config['teacher_exp_name'],\n",
    "                                   \"student\",student_model.model_name,\n",
    "                                    str(config['student_config']),\n",
    "                                    config['student_exp_name']]))\n",
    "print(\"student_checkpoint:\", ckpt_dir)\n",
    "std_ckpt = tf.train.Checkpoint(net=student_model)\n",
    "student_manager = tf.train.CheckpointManager(std_ckpt, ckpt_dir, max_to_keep=None)\n"
   ]
  },
  {
   "cell_type": "code",
   "execution_count": null,
   "metadata": {},
   "outputs": [],
   "source": [
    "import tensorflow_probability as tfp\n",
    "\n",
    "\n",
    "model_accuracy, predicted_class_probs, correct_class_probs, model_logits, model_trues= test_for_calibration(teacher_model, task, n_bins=20)\n",
    "\n",
    "print(len(model_accuracy))\n",
    "print(len(predicted_class_probs))\n",
    "plot_calibration(model_accuracy, predicted_class_probs, correct_class_probs, n_bins=20)\n",
    "plt.show()\n",
    "model_ece = tfp.stats.expected_calibration_error(\n",
    "    1000000,\n",
    "    logits=model_logits,\n",
    "    labels_true=model_trues,\n",
    ")\n",
    "print(model_ece.numpy())"
   ]
  },
  {
   "cell_type": "code",
   "execution_count": null,
   "metadata": {},
   "outputs": [],
   "source": []
  },
  {
   "cell_type": "code",
   "execution_count": null,
   "metadata": {},
   "outputs": [],
   "source": [
    "def test_for_calibration(model, task, n_bins=10):\n",
    "    preds = []\n",
    "    correct_class_probs = []\n",
    "    predicted_class_probs = []\n",
    "    pred_logits = []\n",
    "    y_trues = []\n",
    "    batch_count = task.n_valid_batches\n",
    "    for x, y in task.valid_dataset:\n",
    "        logits = model(x)\n",
    "        pred_logits.extend(logits.numpy())\n",
    "        pred = tf.argmax(logits, axis=-1)\n",
    "        \n",
    "        prob = task.get_probs_fn()(logits, labels=y, temperature=1)\n",
    "        preds.extend(pred.numpy())\n",
    "        y_trues.extend(y.numpy())\n",
    "        batch_indexes = tf.cast(tf.range(len(y), dtype=tf.int32), dtype=tf.int32)\n",
    "        true_indexes = tf.concat([batch_indexes[:,None], y[:,None]], axis=1)\n",
    "        pred_indexes = tf.concat([batch_indexes[:,None], tf.cast(pred[:,None], tf.int32)], axis=1)\n",
    "\n",
    "        correct_class_probs.extend(tf.gather_nd(prob, true_indexes).numpy())\n",
    "        predicted_class_probs.extend(tf.gather_nd(prob, pred_indexes).numpy())\n",
    "\n",
    "        batch_count -= 1\n",
    "        if batch_count == 0:\n",
    "            break\n",
    "\n",
    "    model_accuracy = np.asarray(preds) == np.asarray(y_trues)\n",
    "\n",
    "    return model_accuracy, predicted_class_probs, correct_class_probs, pred_logits, y_trues\n",
    "\n",
    "def plot_calibration(model_accuracy, predicted_class_probs, correct_class_probs, n_bins=10):\n",
    "    p_confidence_bins = np.zeros(n_bins+1)\n",
    "    n_confidence_bins = np.zeros(n_bins+1)\n",
    "    total_confidence_bins = np.zeros(n_bins+1)\n",
    "    \n",
    "    denominator = 100.0 / n_bins\n",
    "    for i in np.arange(len(model_accuracy)):\n",
    "        if model_accuracy[i]:\n",
    "            p_confidence_bins[int(predicted_class_probs[i]*100 / denominator)] += 1.0\n",
    "        else:\n",
    "            n_confidence_bins[int(predicted_class_probs[i]*100 / denominator)] -= 1.0\n",
    "        total_confidence_bins[int(predicted_class_probs[i]*100 / denominator)] += 1\n",
    "\n",
    "    #sns.stripplot(model_accuracy,predicted_class_probs, color='blue', alpha=0.5, jitter=True)\n",
    "    #sns.stripplot(model_accuracy,correct_class_probs, color='green', alpha=0.2, jitter=True)\n",
    "    #sns.swarmplot(model_accuracy,predicted_class_probs, color='blue', alpha=0.5)\n",
    "    #plt.show()\n",
    "   \n",
    "    sns.barplot(x=np.arange(0,n_bins+1)*denominator, \n",
    "                y=np.arange(0,n_bins+1)/n_bins, \n",
    "                color='green', alpha=0.2, edgecolor='black')\n",
    "    ax = sns.barplot(x=np.arange(0,n_bins+1)*denominator, \n",
    "                    y=p_confidence_bins/total_confidence_bins, \n",
    "                    color='red', alpha=0.5, edgecolor='black')\n",
    "    \n",
    "    x_ticks = np.arange(0,n_bins,2)\n",
    "    x_tick_labels = x_ticks / np.float32(n_bins)\n",
    "    ax.set_xticks(x_ticks)\n",
    "    ax.set_xticklabels(x_tick_labels, fontsize=10)\n",
    "    \n",
    "def expected_calibration_error(teacher_accuracy, teacher_predicted_class_probs):\n",
    "    raise NotImplemented"
   ]
  },
  {
   "cell_type": "code",
   "execution_count": null,
   "metadata": {},
   "outputs": [],
   "source": []
  }
 ],
 "metadata": {
  "kernelspec": {
   "display_name": "Python 3",
   "language": "python",
   "name": "python3"
  },
  "language_info": {
   "codemirror_mode": {
    "name": "ipython",
    "version": 3
   },
   "file_extension": ".py",
   "mimetype": "text/x-python",
   "name": "python",
   "nbconvert_exporter": "python",
   "pygments_lexer": "ipython3",
   "version": "3.7.7"
  }
 },
 "nbformat": 4,
 "nbformat_minor": 4
}
