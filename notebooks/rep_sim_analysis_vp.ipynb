{
 "cells": [
  {
   "cell_type": "code",
   "execution_count": 1,
   "metadata": {},
   "outputs": [],
   "source": [
    "import os\n",
    "import tensorflow as tf\n",
    "from util import constants\n",
    "from util.config_util import get_model_params, get_task_params, get_train_params\n",
    "from tf2_models.trainer import Trainer\n",
    "from absl import app\n",
    "from absl import flags\n",
    "import numpy as np\n",
    "from util.models import MODELS\n",
    "from util.tasks import TASKS\n",
    "from notebook_utils import *\n",
    "\n",
    "%matplotlib inline\n",
    "import pandas as pd\n",
    "import seaborn as sns; sns.set()\n",
    "\n",
    "from tqdm import tqdm"
   ]
  },
  {
   "cell_type": "code",
   "execution_count": 14,
   "metadata": {},
   "outputs": [],
   "source": [
    "def get_reps(inputs, model, index=1, layer=None):\n",
    "    \"\"\"\n",
    "    If Model is LSTM:\n",
    "        1: final_rnn_outputs, \n",
    "        2: hidden_activation (for all layers, including input embeddings)\n",
    "    \"\"\"\n",
    "    outputs = model.detailed_call(inputs)\n",
    "    reps = outputs[index]\n",
    "    \n",
    "    if layer is not None:\n",
    "        reps = reps[layer]\n",
    "    \n",
    "    return reps\n",
    "\n",
    "def normalized_pairwisedot_product_sim(reps1, reps2):    \n",
    "    reps1 = reps1 / tf.norm(reps1, axis=-1)[...,None]\n",
    "    reps2 = reps2 / tf.norm(reps2, axis=-1)[...,None]\n",
    "    \n",
    "    pw_dot_product = tf.cast(tf.matmul(reps1, reps2, transpose_b=True), dtype=tf.float32) \n",
    "\n",
    "    p_max = tf.reduce_max(pw_dot_product, axis=-1)\n",
    "    p_min =  tf.reduce_min(pw_dot_product, axis=-1)\n",
    "    \n",
    "    \n",
    "    #pw_dot_product = (pw_dot_product  - p_max) / (p_max - p_min)\n",
    "    return pw_dot_product\n",
    "\n",
    "\n",
    "def normalized_dot_product_sim(reps1, reps2):\n",
    "    #normalize reps:\n",
    "    reps1 = reps1 / tf.norm(reps1, axis=-1)[...,None]\n",
    "    reps2 = reps2 / tf.norm(reps2, axis=-1)[...,None]\n",
    "    \n",
    "    norm1 = tf.norm(reps1, axis=-1)\n",
    "    norm2 = tf.norm(reps2, axis=-1)\n",
    "\n",
    "    # Elementwise multiplication\n",
    "    dot_product = tf.multiply(reps1, reps2)\n",
    "    \n",
    "    # Sum over last axis to get the dot product similarity between corresponding pairs\n",
    "    dot_product = tf.reduce_sum(dot_product, axis=-1) * padding_mask\n",
    "    \n",
    "    return dot_product\n",
    "    \n",
    "    \n",
    "def second_order_rep_sim(reps1, reps2, padding_mask):\n",
    "    \n",
    "    sims1 = normalized_pairwisedot_product_sim(reps1, reps1)\n",
    "    sims2 = normalized_pairwisedot_product_sim(reps2, reps2)\n",
    "    \n",
    "    padding_mask = tf.ones((reps1.shape))\n",
    "    so_sims = normalized_dot_product_sim(sims1, sims2, padding_mask) * padding_mask\n",
    "    \n",
    "    mean_sim = so_sims / np.reduce_sum(padding_mask)\n",
    "    \n",
    "    return mean_sim, so_sims\n",
    "\n",
    "def compare_models(inputs, model1, model2, index1=1, index2=1,layer1=None, layer2=None, padding_symbol=None):\n",
    "    reps1 = get_reps(inputs, model1)\n",
    "    reps2 = get_reps(inputs, model2)\n",
    "    if padding_symbol is not None:\n",
    "        padding_mask = tf.cast(1.0 - (inputs == padding_symbol), dtype=tf.float32)\n",
    "    else:\n",
    "        padding_mask = tf.ones\n",
    "    \n",
    "    reps1 = tf.reshape(reps1, (-1, tf.shape(reps1)[-1]))\n",
    "    reps2 = tf.reshape(reps2, (-1, tf.shape(reps2)[-1]))\n",
    "    \n",
    "    similarity_measures = second_order_rep_sim(reps1, reps2, padding_mask=padding_mask)\n",
    "    \n",
    "    return similarity_measures\n",
    "\n",
    "def compare_reps(reps1, reps2):\n",
    "    reps1 = tf.reshape(reps1, (-1, tf.shape(reps1)[-1]))\n",
    "    reps2 = tf.reshape(reps2, (-1, tf.shape(reps2)[-1]))\n",
    "    \n",
    "    similarity_measures = second_order_rep_sim(reps1, reps2)\n",
    "    \n",
    "    return similarity_measures"
   ]
  },
  {
   "cell_type": "code",
   "execution_count": 15,
   "metadata": {},
   "outputs": [
    {
     "name": "stdout",
     "output_type": "stream",
     "text": [
      "Vocab len:  10032\n"
     ]
    }
   ],
   "source": [
    "task_name = 'word_sv_agreement_vp'\n",
    "chkpt_dir='../tf_ckpts'\n",
    "task = TASKS[task_name](get_task_params(), data_dir='../data')\n",
    "cl_token = task.databuilder.sentence_encoder().encode(constants.bos)"
   ]
  },
  {
   "cell_type": "code",
   "execution_count": 4,
   "metadata": {},
   "outputs": [
    {
     "name": "stdout",
     "output_type": "stream",
     "text": [
      "model config: small_lstm_v4\n",
      "{'hidden_dim': 256, 'embedding_dim': 256, 'depth': 2, 'hidden_dropout_rate': 0.8, 'input_dropout_rate': 0.2, 'initializer_range': 0.1}\n",
      "model config: small_lstm_v4\n",
      "{'hidden_dim': 256, 'embedding_dim': 256, 'depth': 2, 'hidden_dropout_rate': 0.8, 'input_dropout_rate': 0.2, 'initializer_range': 0.1}\n",
      "student_checkpoint: ../tf_ckpts/word_sv_agreement_vp/offline_pure_dstl_4_crs_slw_teacher_cl_lstm_em-256_h-256_d-2_hdrop-0.8_indrop-0.2_small_lstm_v4_0.001_samira_offlineteacher_v11_student_cl_lstm_em-256_h-256_d-2_hdrop-0.8_indrop-0.2_small_lstm_v4_lisa_fd131\n",
      "Restored student from ../tf_ckpts/word_sv_agreement_vp/offline_pure_dstl_4_crs_slw_teacher_cl_lstm_em-256_h-256_d-2_hdrop-0.8_indrop-0.2_small_lstm_v4_0.001_samira_offlineteacher_v11_student_cl_lstm_em-256_h-256_d-2_hdrop-0.8_indrop-0.2_small_lstm_v4_lisa_fd131/ckpt-60\n",
      "model config: small_lstm_v4\n",
      "{'hidden_dim': 256, 'embedding_dim': 256, 'depth': 2, 'hidden_dropout_rate': 0.8, 'input_dropout_rate': 0.2, 'initializer_range': 0.1}\n",
      "Restored student from ../tf_ckpts/word_sv_agreement_vp/cl_lstm_em-256_h-256_d-2_hdrop-0.8_indrop-0.2_small_lstm_v4_0.001_samira_offlineteacher_v11/ckpt-60\n"
     ]
    }
   ],
   "source": [
    "config={'student_exp_name':'lisa_fd131',\n",
    "    'teacher_exp_name':'0.001_samira_offlineteacher_v11',\n",
    "    'teacher_config':'small_lstm_v4',\n",
    "    'task_name':'word_sv_agreement_vp',\n",
    "    'student_model':'cl_lstm',\n",
    "    'teacher_model':'cl_lstm',\n",
    "    'student_config':'small_lstm_v4',\n",
    "    'distill_config':'pure_dstl_4_crs_slw',\n",
    "    'distill_mode':'offline',\n",
    "    'chkpt_dir':'../tf_ckpts',\n",
    "       }\n",
    "\n",
    "std_hparams=get_model_params(task, config['student_model'], config['student_config'])\n",
    "std_hparams.output_attentions = True\n",
    "std_hparams.output_embeddings = True\n",
    "std_hparams.output_hidden_states = True\n",
    "\n",
    "model1, _ = get_student_model(config, task, std_hparams, cl_token)\n",
    "\n",
    "tchr_hparams=get_model_params(task, config['teacher_model'], config['teacher_config'])\n",
    "tchr_hparams.output_attentions = True\n",
    "tchr_hparams.output_embeddings = True\n",
    "tchr_hparams.output_hidden_states = True\n",
    "\n",
    "model2, _ = get_teacher_model(config, task, tchr_hparams, cl_token)\n"
   ]
  },
  {
   "cell_type": "code",
   "execution_count": 18,
   "metadata": {},
   "outputs": [
    {
     "name": "stdout",
     "output_type": "stream",
     "text": [
      "(0.9217837, <tf.Tensor: id=12324, shape=(64,), dtype=float32, numpy=\n",
      "array([ 0.9896728 ,  0.9732193 ,  0.9824896 ,  0.97884035,  0.98024136,\n",
      "        0.9796636 ,  0.981256  ,  0.9709201 ,  0.9880232 ,  0.9770104 ,\n",
      "        0.972235  ,  0.9807387 ,  0.9770463 ,  0.98081416,  0.9872096 ,\n",
      "        0.9752636 ,  0.9747678 ,  0.9770424 ,  0.9810164 ,  0.98590946,\n",
      "        0.97396654,  0.9790244 ,  0.97351813,  0.93374074,  0.9788846 ,\n",
      "        0.9746642 ,  0.98091495,  0.97526336,  0.98450315,  0.98809594,\n",
      "        0.96822846,  0.97443044,  0.9891899 ,  0.9739234 ,  0.979493  ,\n",
      "        0.964818  ,  0.981316  ,  0.981212  ,  0.9638127 ,  0.98080385,\n",
      "        0.50190663,  0.9731533 ,  0.9844091 ,  0.9459042 ,  0.9784997 ,\n",
      "        0.9817607 ,  0.673989  ,  0.97494805,  0.98368967,  0.9638833 ,\n",
      "        0.98150396, -0.29589486,  0.9777565 ,  0.97949785,  0.9800193 ,\n",
      "        0.9809008 ,  0.9623152 ,  0.9848262 ,  0.9807231 , -0.5021987 ,\n",
      "        0.9708454 ,  0.9760765 ,  0.9876416 ,  0.97481644], dtype=float32)>)\n",
      "(1.0, <tf.Tensor: id=12439, shape=(64,), dtype=float32, numpy=\n",
      "array([1.        , 1.        , 0.99999994, 0.9999999 , 1.0000001 ,\n",
      "       1.        , 1.        , 0.9999999 , 1.        , 0.9999999 ,\n",
      "       1.        , 1.0000001 , 0.99999994, 1.        , 1.        ,\n",
      "       1.        , 0.99999994, 1.        , 1.        , 1.        ,\n",
      "       1.        , 1.        , 1.        , 1.        , 1.        ,\n",
      "       0.9999999 , 0.9999999 , 1.        , 1.        , 1.        ,\n",
      "       0.9999999 , 1.        , 1.0000001 , 0.99999994, 1.        ,\n",
      "       1.        , 1.        , 1.        , 1.        , 1.        ,\n",
      "       1.        , 0.99999994, 1.        , 0.99999994, 1.        ,\n",
      "       0.9999999 , 1.        , 0.99999994, 0.9999999 , 0.99999994,\n",
      "       1.        , 1.        , 1.        , 1.        , 1.        ,\n",
      "       1.0000001 , 1.        , 1.        , 1.        , 1.0000001 ,\n",
      "       1.        , 1.        , 1.        , 0.99999994], dtype=float32)>)\n"
     ]
    }
   ],
   "source": [
    "for inputs, labels in task.valid_dataset:\n",
    "    reps1 = get_reps(inputs, model1, index=1, layer=None)\n",
    "    reps2 = get_reps(inputs, model2, index=1, layer=None)\n",
    "    print(compare_reps(reps1, reps2))\n",
    "    print(compare_reps(reps1, reps1))\n"
   ]
  },
  {
   "cell_type": "code",
   "execution_count": null,
   "metadata": {},
   "outputs": [],
   "source": [
    "outputs = model2.detailed_call(inputs)"
   ]
  },
  {
   "cell_type": "code",
   "execution_count": null,
   "metadata": {},
   "outputs": [],
   "source": [
    "outputs[1]"
   ]
  },
  {
   "cell_type": "code",
   "execution_count": null,
   "metadata": {},
   "outputs": [],
   "source": [
    "len(outputs)"
   ]
  },
  {
   "cell_type": "code",
   "execution_count": null,
   "metadata": {},
   "outputs": [],
   "source": []
  }
 ],
 "metadata": {
  "kernelspec": {
   "display_name": "Python 3",
   "language": "python",
   "name": "python3"
  },
  "language_info": {
   "codemirror_mode": {
    "name": "ipython",
    "version": 3
   },
   "file_extension": ".py",
   "mimetype": "text/x-python",
   "name": "python",
   "nbconvert_exporter": "python",
   "pygments_lexer": "ipython3",
   "version": "3.7.4"
  }
 },
 "nbformat": 4,
 "nbformat_minor": 4
}
